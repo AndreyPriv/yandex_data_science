{
  "cells": [
    {
      "cell_type": "markdown",
      "metadata": {
        "toc": true,
        "id": "yOMyZ0qE62tI"
      },
      "source": [
        "<h1>Содержание<span class=\"tocSkip\"></span></h1>\n",
        "<div class=\"toc\"><ul class=\"toc-item\"><li><span><a href=\"#Подготовка\" data-toc-modified-id=\"Подготовка-1\"><span class=\"toc-item-num\">1&nbsp;&nbsp;</span>Подготовка</a></span></li><li><span><a href=\"#Обучение\" data-toc-modified-id=\"Обучение-2\"><span class=\"toc-item-num\">2&nbsp;&nbsp;</span>Обучение</a></span></li><li><span><a href=\"#Выводы\" data-toc-modified-id=\"Выводы-3\"><span class=\"toc-item-num\">3&nbsp;&nbsp;</span>Выводы</a></span></li><li><span><a href=\"#Чек-лист-проверки\" data-toc-modified-id=\"Чек-лист-проверки-4\"><span class=\"toc-item-num\">4&nbsp;&nbsp;</span>Чек-лист проверки</a></span></li></ul></div>"
      ]
    },
    {
      "cell_type": "markdown",
      "metadata": {
        "id": "CVvt2kf462tL"
      },
      "source": [
        "# Прогнозирование тональности комментариев"
      ]
    },
    {
      "cell_type": "markdown",
      "metadata": {
        "id": "QapbIgoB62tL"
      },
      "source": [
        "Американский интернет-магазин запускает новый сервис. Теперь пользователи могут оставлять комментарии, редактировать и дополнять описания товаров. Магазину нужен инструмент, который будет искать токсичные комментарии и отправлять их на модерацию.\n",
        "\n",
        "Метрика качества:F1 <br>\n",
        "Требуемое значение: >=0.75\n",
        "\n",
        "**Описание данных**\n",
        "\n",
        "Данные находятся в файле `toxic_comments.csv`. Столбец *text* в нём содержит текст комментария, а *toxic* — целевой признак.\n",
        "\n",
        "**Презентация**  \n",
        "https://drive.google.com/file/d/1vMlDw9Vuw9t95teCoVzE8SIEIcSdaIvT/view?usp=share_link"
      ]
    },
    {
      "cell_type": "markdown",
      "metadata": {
        "id": "38JjTIwj62tL"
      },
      "source": [
        "## Подготовка"
      ]
    },
    {
      "cell_type": "code",
      "execution_count": null,
      "metadata": {
        "scrolled": true,
        "id": "f1W6lNc662tL",
        "outputId": "a52b58ad-6fcb-4c8f-d54b-97b2fbba557a"
      },
      "outputs": [
        {
          "name": "stderr",
          "output_type": "stream",
          "text": [
            "[nltk_data] Downloading package stopwords to\n",
            "[nltk_data]     C:\\Users\\dronp\\AppData\\Roaming\\nltk_data...\n",
            "[nltk_data]   Package stopwords is already up-to-date!\n"
          ]
        }
      ],
      "source": [
        "# импорт библиотек\n",
        "import pandas as pd\n",
        "import numpy as np\n",
        "\n",
        "from sklearn.model_selection import train_test_split\n",
        "from sklearn.metrics import f1_score\n",
        "\n",
        "from sklearn.linear_model import LogisticRegression, LinearRegression\n",
        "from sklearn.tree import DecisionTreeClassifier\n",
        "from catboost import CatBoostClassifier\n",
        "from sklearn.model_selection import GridSearchCV\n",
        "\n",
        "import torch\n",
        "import tensorflow as tf\n",
        "import transformers\n",
        "from transformers import BertTokenizer\n",
        "from tqdm import notebook\n",
        "from tqdm.notebook import tqdm\n",
        "tqdm.pandas()\n",
        "import re\n",
        "import sys\n",
        "#!{sys.executable} -m pip install spacy\n",
        "#!{sys.executable} -m spacy download en\n",
        "import spacy\n",
        "import nltk\n",
        "from nltk.corpus import stopwords\n",
        "nltk.download('stopwords')\n",
        "stopwords = set(stopwords.words('english'))\n",
        "from sklearn.feature_extraction.text import TfidfVectorizer\n",
        "\n",
        "import warnings\n",
        "warnings.filterwarnings('ignore')"
      ]
    },
    {
      "cell_type": "code",
      "execution_count": null,
      "metadata": {
        "id": "i4565Hcf62tN"
      },
      "outputs": [],
      "source": [
        "# загрузка файла\n",
        "try:\n",
        "    df = pd.read_csv('C:/Users/dronp/Downloads/toxic_comments.csv')\n",
        "except:\n",
        "    print('Не удалось загрузить файл!')"
      ]
    },
    {
      "cell_type": "code",
      "execution_count": null,
      "metadata": {
        "id": "OfNHGRw962tN"
      },
      "outputs": [],
      "source": [
        "# удалим cтолбец Unnamed: 0\n",
        "df = df.drop('Unnamed: 0', axis=1)"
      ]
    },
    {
      "cell_type": "code",
      "execution_count": null,
      "metadata": {
        "id": "nrBJMlGm62tN",
        "outputId": "cff778d2-228c-4d5c-b024-f2e5e28eb539"
      },
      "outputs": [
        {
          "data": {
            "text/html": [
              "<div>\n",
              "<style scoped>\n",
              "    .dataframe tbody tr th:only-of-type {\n",
              "        vertical-align: middle;\n",
              "    }\n",
              "\n",
              "    .dataframe tbody tr th {\n",
              "        vertical-align: top;\n",
              "    }\n",
              "\n",
              "    .dataframe thead th {\n",
              "        text-align: right;\n",
              "    }\n",
              "</style>\n",
              "<table border=\"1\" class=\"dataframe\">\n",
              "  <thead>\n",
              "    <tr style=\"text-align: right;\">\n",
              "      <th></th>\n",
              "      <th>text</th>\n",
              "      <th>toxic</th>\n",
              "    </tr>\n",
              "  </thead>\n",
              "  <tbody>\n",
              "    <tr>\n",
              "      <th>0</th>\n",
              "      <td>Explanation\\nWhy the edits made under my usern...</td>\n",
              "      <td>0</td>\n",
              "    </tr>\n",
              "    <tr>\n",
              "      <th>1</th>\n",
              "      <td>D'aww! He matches this background colour I'm s...</td>\n",
              "      <td>0</td>\n",
              "    </tr>\n",
              "    <tr>\n",
              "      <th>2</th>\n",
              "      <td>Hey man, I'm really not trying to edit war. It...</td>\n",
              "      <td>0</td>\n",
              "    </tr>\n",
              "    <tr>\n",
              "      <th>3</th>\n",
              "      <td>\"\\nMore\\nI can't make any real suggestions on ...</td>\n",
              "      <td>0</td>\n",
              "    </tr>\n",
              "    <tr>\n",
              "      <th>4</th>\n",
              "      <td>You, sir, are my hero. Any chance you remember...</td>\n",
              "      <td>0</td>\n",
              "    </tr>\n",
              "  </tbody>\n",
              "</table>\n",
              "</div>"
            ],
            "text/plain": [
              "                                                text  toxic\n",
              "0  Explanation\\nWhy the edits made under my usern...      0\n",
              "1  D'aww! He matches this background colour I'm s...      0\n",
              "2  Hey man, I'm really not trying to edit war. It...      0\n",
              "3  \"\\nMore\\nI can't make any real suggestions on ...      0\n",
              "4  You, sir, are my hero. Any chance you remember...      0"
            ]
          },
          "execution_count": 4,
          "metadata": {},
          "output_type": "execute_result"
        }
      ],
      "source": [
        "df.head()"
      ]
    },
    {
      "cell_type": "code",
      "execution_count": null,
      "metadata": {
        "id": "nyzDJ5C962tO",
        "outputId": "6d0f6fe5-ed09-4bfd-e0f4-dc2f4fd34ccb"
      },
      "outputs": [
        {
          "data": {
            "text/html": [
              "<div>\n",
              "<style scoped>\n",
              "    .dataframe tbody tr th:only-of-type {\n",
              "        vertical-align: middle;\n",
              "    }\n",
              "\n",
              "    .dataframe tbody tr th {\n",
              "        vertical-align: top;\n",
              "    }\n",
              "\n",
              "    .dataframe thead th {\n",
              "        text-align: right;\n",
              "    }\n",
              "</style>\n",
              "<table border=\"1\" class=\"dataframe\">\n",
              "  <thead>\n",
              "    <tr style=\"text-align: right;\">\n",
              "      <th></th>\n",
              "      <th>text</th>\n",
              "      <th>toxic</th>\n",
              "    </tr>\n",
              "  </thead>\n",
              "  <tbody>\n",
              "    <tr>\n",
              "      <th>159287</th>\n",
              "      <td>\":::::And for the second time of asking, when ...</td>\n",
              "      <td>0</td>\n",
              "    </tr>\n",
              "    <tr>\n",
              "      <th>159288</th>\n",
              "      <td>You should be ashamed of yourself \\n\\nThat is ...</td>\n",
              "      <td>0</td>\n",
              "    </tr>\n",
              "    <tr>\n",
              "      <th>159289</th>\n",
              "      <td>Spitzer \\n\\nUmm, theres no actual article for ...</td>\n",
              "      <td>0</td>\n",
              "    </tr>\n",
              "    <tr>\n",
              "      <th>159290</th>\n",
              "      <td>And it looks like it was actually you who put ...</td>\n",
              "      <td>0</td>\n",
              "    </tr>\n",
              "    <tr>\n",
              "      <th>159291</th>\n",
              "      <td>\"\\nAnd ... I really don't think you understand...</td>\n",
              "      <td>0</td>\n",
              "    </tr>\n",
              "  </tbody>\n",
              "</table>\n",
              "</div>"
            ],
            "text/plain": [
              "                                                     text  toxic\n",
              "159287  \":::::And for the second time of asking, when ...      0\n",
              "159288  You should be ashamed of yourself \\n\\nThat is ...      0\n",
              "159289  Spitzer \\n\\nUmm, theres no actual article for ...      0\n",
              "159290  And it looks like it was actually you who put ...      0\n",
              "159291  \"\\nAnd ... I really don't think you understand...      0"
            ]
          },
          "execution_count": 5,
          "metadata": {},
          "output_type": "execute_result"
        }
      ],
      "source": [
        "df.tail()"
      ]
    },
    {
      "cell_type": "code",
      "execution_count": null,
      "metadata": {
        "id": "MQwlvZVX62tO",
        "outputId": "cbf469ec-86c4-43a4-afae-d17e9d885244"
      },
      "outputs": [
        {
          "data": {
            "text/plain": [
              "(159292, 2)"
            ]
          },
          "execution_count": 6,
          "metadata": {},
          "output_type": "execute_result"
        }
      ],
      "source": [
        "df.shape"
      ]
    },
    {
      "cell_type": "code",
      "execution_count": null,
      "metadata": {
        "id": "aRMtvC4L62tO",
        "outputId": "febc35a7-76c5-4fb9-b549-12949f32a503"
      },
      "outputs": [
        {
          "name": "stdout",
          "output_type": "stream",
          "text": [
            "<class 'pandas.core.frame.DataFrame'>\n",
            "RangeIndex: 159292 entries, 0 to 159291\n",
            "Data columns (total 2 columns):\n",
            " #   Column  Non-Null Count   Dtype \n",
            "---  ------  --------------   ----- \n",
            " 0   text    159292 non-null  object\n",
            " 1   toxic   159292 non-null  int64 \n",
            "dtypes: int64(1), object(1)\n",
            "memory usage: 2.4+ MB\n"
          ]
        }
      ],
      "source": [
        "df.info()"
      ]
    },
    {
      "cell_type": "code",
      "execution_count": null,
      "metadata": {
        "id": "IYkLVbuQ62tO"
      },
      "outputs": [],
      "source": [
        "# для работы с английским языком будем использовать spaCy\n",
        "\n",
        "# Initialize spacy 'en' model, keeping only tagger component needed for lemmatization\n",
        "nlp = spacy.load('en_core_web_sm', disable = ['parser', 'ner'])\n",
        "\n",
        "def lemmatize(text):\n",
        "    text = text.lower()\n",
        "    text = nlp(text)\n",
        "    lemm_text = ' '.join([token.lemma_ for token in text])\n",
        "    cleared_text = re.sub(r'[^a-zA-Z]', ' ', lemm_text)\n",
        "    return ' '.join(cleared_text.split())"
      ]
    },
    {
      "cell_type": "code",
      "execution_count": null,
      "metadata": {
        "colab": {
          "referenced_widgets": [
            "14ce60cac0f1427ba5b32a6e70079aae"
          ]
        },
        "id": "TGpG1Fjt62tP",
        "outputId": "70b3fec1-7ea9-4390-889f-4be2131140ab"
      },
      "outputs": [
        {
          "data": {
            "application/vnd.jupyter.widget-view+json": {
              "model_id": "14ce60cac0f1427ba5b32a6e70079aae",
              "version_major": 2,
              "version_minor": 0
            },
            "text/plain": [
              "  0%|          | 0/159292 [00:00<?, ?it/s]"
            ]
          },
          "metadata": {},
          "output_type": "display_data"
        },
        {
          "name": "stdout",
          "output_type": "stream",
          "text": [
            "CPU times: total: 11min 41s\n",
            "Wall time: 11min 39s\n"
          ]
        }
      ],
      "source": [
        "%%time\n",
        "df['text'] = df['text'].progress_apply(lemmatize)"
      ]
    },
    {
      "cell_type": "code",
      "execution_count": null,
      "metadata": {
        "id": "wp1scF2w62tP",
        "outputId": "9aceac45-b75a-4c3d-d000-2dbb7cf6d8fe"
      },
      "outputs": [
        {
          "data": {
            "text/plain": [
              "array(['explanation why the edit make under my username hardcore metallica fan be revert they be not vandalism just closure on some gas after I vote at new york dolls fac and please do not remove the template from the talk page since I be retire now',\n",
              "       'd aww he match this background colour I be seemingly stick with thank talk january utc',\n",
              "       'hey man I be really not try to edit war it be just that this guy be constantly remove relevant information and talk to I through edit instead of my talk page he seem to care more about the formatting than the actual info',\n",
              "       ...,\n",
              "       'spitzer umm there s no actual article for prostitution ring crunch captain',\n",
              "       'and it look like it be actually you who put on the speedy to have the first version delete now that I look at it',\n",
              "       'and I really do not think you understand I come here and my idea be bad right away what kind of community go you have bad idea go away instead of help rewrite they'],\n",
              "      dtype=object)"
            ]
          },
          "execution_count": 10,
          "metadata": {},
          "output_type": "execute_result"
        }
      ],
      "source": [
        "# создание корпуса\n",
        "corpus = df['text'].values\n",
        "corpus"
      ]
    },
    {
      "cell_type": "code",
      "execution_count": null,
      "metadata": {
        "id": "PmRXwF_x62tP",
        "outputId": "e4b2397e-9c03-4fef-bcc3-3e15a02c8b0f"
      },
      "outputs": [
        {
          "data": {
            "text/plain": [
              "0    143106\n",
              "1     16186\n",
              "Name: toxic, dtype: int64"
            ]
          },
          "execution_count": 11,
          "metadata": {},
          "output_type": "execute_result"
        }
      ],
      "source": [
        "df['toxic'].value_counts()"
      ]
    },
    {
      "cell_type": "markdown",
      "metadata": {
        "id": "biLWDC3c62tP"
      },
      "source": [
        "Присутствует явный дисбаланс классов. Примерно 1 к 9."
      ]
    },
    {
      "cell_type": "markdown",
      "metadata": {
        "id": "LTex0PC-62tP"
      },
      "source": [
        "## Обучение"
      ]
    },
    {
      "cell_type": "code",
      "execution_count": null,
      "metadata": {
        "id": "okyJs5hx62tQ"
      },
      "outputs": [],
      "source": [
        "# разделение признаков\n",
        "X = corpus\n",
        "y = df['toxic']"
      ]
    },
    {
      "cell_type": "code",
      "execution_count": null,
      "metadata": {
        "id": "baF2XJQZ62tQ"
      },
      "outputs": [],
      "source": [
        "# деление на тренировочную и тестовую выборки\n",
        "X_train, X_test, y_train, y_test = train_test_split(X, y, test_size=0.1, random_state=42)"
      ]
    },
    {
      "cell_type": "code",
      "execution_count": null,
      "metadata": {
        "id": "VHYICc-T62tQ",
        "outputId": "1dee395b-5ed9-43e8-98da-daf1b32fedb9"
      },
      "outputs": [
        {
          "name": "stdout",
          "output_type": "stream",
          "text": [
            "CPU times: total: 4.77 s\n",
            "Wall time: 4.76 s\n"
          ]
        }
      ],
      "source": [
        "%%time\n",
        "# преобразовавание текста в частотные векторы слова с помощью TfidfVectorizer;\n",
        "m_tf_idf = TfidfVectorizer(stop_words=list(stopwords))\n",
        "X_train = m_tf_idf.fit_transform(X_train) #Learn vocabulary and idf, return document-term matrix.\n",
        "X_test = m_tf_idf.transform(X_test) #Transform documents to document-term matrix."
      ]
    },
    {
      "cell_type": "code",
      "execution_count": null,
      "metadata": {
        "id": "y5YN-DzF62tQ",
        "outputId": "97b4491f-2a78-4824-a064-7bfc62bc7ab8"
      },
      "outputs": [
        {
          "name": "stdout",
          "output_type": "stream",
          "text": [
            "Размер тренировочной выборки (143362, 144000)\n",
            "Размер тестовой выборки (15930, 144000)\n"
          ]
        }
      ],
      "source": [
        "print('Размер тренировочной выборки', X_train.shape)\n",
        "print('Размер тестовой выборки', X_test.shape)"
      ]
    },
    {
      "cell_type": "markdown",
      "metadata": {
        "id": "rFr7Fota62tQ"
      },
      "source": [
        "<b>Логистическая регрессия</b>"
      ]
    },
    {
      "cell_type": "code",
      "execution_count": null,
      "metadata": {
        "scrolled": true,
        "id": "3e3yO6iB62tQ",
        "outputId": "7fa9b395-7c99-4d78-9e52-921a054b15f3"
      },
      "outputs": [
        {
          "name": "stdout",
          "output_type": "stream",
          "text": [
            "Fitting 5 folds for each of 8 candidates, totalling 40 fits\n",
            "CPU times: total: 8.52 s\n",
            "Wall time: 2min 52s\n"
          ]
        },
        {
          "data": {
            "text/html": [
              "<style>#sk-container-id-1 {color: black;background-color: white;}#sk-container-id-1 pre{padding: 0;}#sk-container-id-1 div.sk-toggleable {background-color: white;}#sk-container-id-1 label.sk-toggleable__label {cursor: pointer;display: block;width: 100%;margin-bottom: 0;padding: 0.3em;box-sizing: border-box;text-align: center;}#sk-container-id-1 label.sk-toggleable__label-arrow:before {content: \"▸\";float: left;margin-right: 0.25em;color: #696969;}#sk-container-id-1 label.sk-toggleable__label-arrow:hover:before {color: black;}#sk-container-id-1 div.sk-estimator:hover label.sk-toggleable__label-arrow:before {color: black;}#sk-container-id-1 div.sk-toggleable__content {max-height: 0;max-width: 0;overflow: hidden;text-align: left;background-color: #f0f8ff;}#sk-container-id-1 div.sk-toggleable__content pre {margin: 0.2em;color: black;border-radius: 0.25em;background-color: #f0f8ff;}#sk-container-id-1 input.sk-toggleable__control:checked~div.sk-toggleable__content {max-height: 200px;max-width: 100%;overflow: auto;}#sk-container-id-1 input.sk-toggleable__control:checked~label.sk-toggleable__label-arrow:before {content: \"▾\";}#sk-container-id-1 div.sk-estimator input.sk-toggleable__control:checked~label.sk-toggleable__label {background-color: #d4ebff;}#sk-container-id-1 div.sk-label input.sk-toggleable__control:checked~label.sk-toggleable__label {background-color: #d4ebff;}#sk-container-id-1 input.sk-hidden--visually {border: 0;clip: rect(1px 1px 1px 1px);clip: rect(1px, 1px, 1px, 1px);height: 1px;margin: -1px;overflow: hidden;padding: 0;position: absolute;width: 1px;}#sk-container-id-1 div.sk-estimator {font-family: monospace;background-color: #f0f8ff;border: 1px dotted black;border-radius: 0.25em;box-sizing: border-box;margin-bottom: 0.5em;}#sk-container-id-1 div.sk-estimator:hover {background-color: #d4ebff;}#sk-container-id-1 div.sk-parallel-item::after {content: \"\";width: 100%;border-bottom: 1px solid gray;flex-grow: 1;}#sk-container-id-1 div.sk-label:hover label.sk-toggleable__label {background-color: #d4ebff;}#sk-container-id-1 div.sk-serial::before {content: \"\";position: absolute;border-left: 1px solid gray;box-sizing: border-box;top: 0;bottom: 0;left: 50%;z-index: 0;}#sk-container-id-1 div.sk-serial {display: flex;flex-direction: column;align-items: center;background-color: white;padding-right: 0.2em;padding-left: 0.2em;position: relative;}#sk-container-id-1 div.sk-item {position: relative;z-index: 1;}#sk-container-id-1 div.sk-parallel {display: flex;align-items: stretch;justify-content: center;background-color: white;position: relative;}#sk-container-id-1 div.sk-item::before, #sk-container-id-1 div.sk-parallel-item::before {content: \"\";position: absolute;border-left: 1px solid gray;box-sizing: border-box;top: 0;bottom: 0;left: 50%;z-index: -1;}#sk-container-id-1 div.sk-parallel-item {display: flex;flex-direction: column;z-index: 1;position: relative;background-color: white;}#sk-container-id-1 div.sk-parallel-item:first-child::after {align-self: flex-end;width: 50%;}#sk-container-id-1 div.sk-parallel-item:last-child::after {align-self: flex-start;width: 50%;}#sk-container-id-1 div.sk-parallel-item:only-child::after {width: 0;}#sk-container-id-1 div.sk-dashed-wrapped {border: 1px dashed gray;margin: 0 0.4em 0.5em 0.4em;box-sizing: border-box;padding-bottom: 0.4em;background-color: white;}#sk-container-id-1 div.sk-label label {font-family: monospace;font-weight: bold;display: inline-block;line-height: 1.2em;}#sk-container-id-1 div.sk-label-container {text-align: center;}#sk-container-id-1 div.sk-container {/* jupyter's `normalize.less` sets `[hidden] { display: none; }` but bootstrap.min.css set `[hidden] { display: none !important; }` so we also need the `!important` here to be able to override the default hidden behavior on the sphinx rendered scikit-learn.org. See: https://github.com/scikit-learn/scikit-learn/issues/21755 */display: inline-block !important;position: relative;}#sk-container-id-1 div.sk-text-repr-fallback {display: none;}</style><div id=\"sk-container-id-1\" class=\"sk-top-container\"><div class=\"sk-text-repr-fallback\"><pre>GridSearchCV(cv=5,\n",
              "             estimator=LogisticRegression(max_iter=500, random_state=42,\n",
              "                                          solver=&#x27;saga&#x27;),\n",
              "             n_jobs=-1,\n",
              "             param_grid={&#x27;C&#x27;: [1, 2, 12, 24],\n",
              "                         &#x27;class_weight&#x27;: [&#x27;balanced&#x27;, None]},\n",
              "             scoring=&#x27;f1&#x27;, verbose=1)</pre><b>In a Jupyter environment, please rerun this cell to show the HTML representation or trust the notebook. <br />On GitHub, the HTML representation is unable to render, please try loading this page with nbviewer.org.</b></div><div class=\"sk-container\" hidden><div class=\"sk-item sk-dashed-wrapped\"><div class=\"sk-label-container\"><div class=\"sk-label sk-toggleable\"><input class=\"sk-toggleable__control sk-hidden--visually\" id=\"sk-estimator-id-1\" type=\"checkbox\" ><label for=\"sk-estimator-id-1\" class=\"sk-toggleable__label sk-toggleable__label-arrow\">GridSearchCV</label><div class=\"sk-toggleable__content\"><pre>GridSearchCV(cv=5,\n",
              "             estimator=LogisticRegression(max_iter=500, random_state=42,\n",
              "                                          solver=&#x27;saga&#x27;),\n",
              "             n_jobs=-1,\n",
              "             param_grid={&#x27;C&#x27;: [1, 2, 12, 24],\n",
              "                         &#x27;class_weight&#x27;: [&#x27;balanced&#x27;, None]},\n",
              "             scoring=&#x27;f1&#x27;, verbose=1)</pre></div></div></div><div class=\"sk-parallel\"><div class=\"sk-parallel-item\"><div class=\"sk-item\"><div class=\"sk-label-container\"><div class=\"sk-label sk-toggleable\"><input class=\"sk-toggleable__control sk-hidden--visually\" id=\"sk-estimator-id-2\" type=\"checkbox\" ><label for=\"sk-estimator-id-2\" class=\"sk-toggleable__label sk-toggleable__label-arrow\">estimator: LogisticRegression</label><div class=\"sk-toggleable__content\"><pre>LogisticRegression(max_iter=500, random_state=42, solver=&#x27;saga&#x27;)</pre></div></div></div><div class=\"sk-serial\"><div class=\"sk-item\"><div class=\"sk-estimator sk-toggleable\"><input class=\"sk-toggleable__control sk-hidden--visually\" id=\"sk-estimator-id-3\" type=\"checkbox\" ><label for=\"sk-estimator-id-3\" class=\"sk-toggleable__label sk-toggleable__label-arrow\">LogisticRegression</label><div class=\"sk-toggleable__content\"><pre>LogisticRegression(max_iter=500, random_state=42, solver=&#x27;saga&#x27;)</pre></div></div></div></div></div></div></div></div></div></div>"
            ],
            "text/plain": [
              "GridSearchCV(cv=5,\n",
              "             estimator=LogisticRegression(max_iter=500, random_state=42,\n",
              "                                          solver='saga'),\n",
              "             n_jobs=-1,\n",
              "             param_grid={'C': [1, 2, 12, 24],\n",
              "                         'class_weight': ['balanced', None]},\n",
              "             scoring='f1', verbose=1)"
            ]
          },
          "execution_count": 16,
          "metadata": {},
          "output_type": "execute_result"
        }
      ],
      "source": [
        "%%time\n",
        "lr = LogisticRegression(random_state=42, max_iter=500, solver='saga')\n",
        "param_lr = {'class_weight':['balanced', None],\n",
        "    'C':[1,2,12,24]}\n",
        "\n",
        "grid_lr = GridSearchCV(lr, param_lr, cv=5, scoring='f1', n_jobs=-1, verbose=1)\n",
        "grid_lr.fit(X_train, y_train)"
      ]
    },
    {
      "cell_type": "code",
      "execution_count": null,
      "metadata": {
        "id": "hp4j2qBH62tR",
        "outputId": "b3131678-6d34-4c49-9b1b-84becc4ff56a"
      },
      "outputs": [
        {
          "name": "stdout",
          "output_type": "stream",
          "text": [
            "Лучшие параметры: {'C': 24, 'class_weight': None}\n"
          ]
        }
      ],
      "source": [
        "print('Лучшие параметры:', grid_lr.best_params_)"
      ]
    },
    {
      "cell_type": "code",
      "execution_count": null,
      "metadata": {
        "id": "cukNBSeB62tR",
        "outputId": "c5764a02-8baa-47ad-de7b-e6499f0262a2"
      },
      "outputs": [
        {
          "name": "stdout",
          "output_type": "stream",
          "text": [
            "Качество модели по кросс-валидации: 0.7714955094084629\n"
          ]
        }
      ],
      "source": [
        "print('Качество модели по кросс-валидации:', grid_lr.best_score_)"
      ]
    },
    {
      "cell_type": "markdown",
      "metadata": {
        "id": "h9Se2ltw62tR"
      },
      "source": [
        "<b>Дерево принятий решений</b>"
      ]
    },
    {
      "cell_type": "code",
      "execution_count": null,
      "metadata": {
        "scrolled": true,
        "id": "gEe2b-KA62tR",
        "outputId": "a48e0b86-cccf-4f60-f950-da100331851f"
      },
      "outputs": [
        {
          "name": "stdout",
          "output_type": "stream",
          "text": [
            "Fitting 3 folds for each of 4 candidates, totalling 12 fits\n",
            "CPU times: total: 1min 4s\n",
            "Wall time: 2min 53s\n"
          ]
        },
        {
          "data": {
            "text/html": [
              "<style>#sk-container-id-2 {color: black;background-color: white;}#sk-container-id-2 pre{padding: 0;}#sk-container-id-2 div.sk-toggleable {background-color: white;}#sk-container-id-2 label.sk-toggleable__label {cursor: pointer;display: block;width: 100%;margin-bottom: 0;padding: 0.3em;box-sizing: border-box;text-align: center;}#sk-container-id-2 label.sk-toggleable__label-arrow:before {content: \"▸\";float: left;margin-right: 0.25em;color: #696969;}#sk-container-id-2 label.sk-toggleable__label-arrow:hover:before {color: black;}#sk-container-id-2 div.sk-estimator:hover label.sk-toggleable__label-arrow:before {color: black;}#sk-container-id-2 div.sk-toggleable__content {max-height: 0;max-width: 0;overflow: hidden;text-align: left;background-color: #f0f8ff;}#sk-container-id-2 div.sk-toggleable__content pre {margin: 0.2em;color: black;border-radius: 0.25em;background-color: #f0f8ff;}#sk-container-id-2 input.sk-toggleable__control:checked~div.sk-toggleable__content {max-height: 200px;max-width: 100%;overflow: auto;}#sk-container-id-2 input.sk-toggleable__control:checked~label.sk-toggleable__label-arrow:before {content: \"▾\";}#sk-container-id-2 div.sk-estimator input.sk-toggleable__control:checked~label.sk-toggleable__label {background-color: #d4ebff;}#sk-container-id-2 div.sk-label input.sk-toggleable__control:checked~label.sk-toggleable__label {background-color: #d4ebff;}#sk-container-id-2 input.sk-hidden--visually {border: 0;clip: rect(1px 1px 1px 1px);clip: rect(1px, 1px, 1px, 1px);height: 1px;margin: -1px;overflow: hidden;padding: 0;position: absolute;width: 1px;}#sk-container-id-2 div.sk-estimator {font-family: monospace;background-color: #f0f8ff;border: 1px dotted black;border-radius: 0.25em;box-sizing: border-box;margin-bottom: 0.5em;}#sk-container-id-2 div.sk-estimator:hover {background-color: #d4ebff;}#sk-container-id-2 div.sk-parallel-item::after {content: \"\";width: 100%;border-bottom: 1px solid gray;flex-grow: 1;}#sk-container-id-2 div.sk-label:hover label.sk-toggleable__label {background-color: #d4ebff;}#sk-container-id-2 div.sk-serial::before {content: \"\";position: absolute;border-left: 1px solid gray;box-sizing: border-box;top: 0;bottom: 0;left: 50%;z-index: 0;}#sk-container-id-2 div.sk-serial {display: flex;flex-direction: column;align-items: center;background-color: white;padding-right: 0.2em;padding-left: 0.2em;position: relative;}#sk-container-id-2 div.sk-item {position: relative;z-index: 1;}#sk-container-id-2 div.sk-parallel {display: flex;align-items: stretch;justify-content: center;background-color: white;position: relative;}#sk-container-id-2 div.sk-item::before, #sk-container-id-2 div.sk-parallel-item::before {content: \"\";position: absolute;border-left: 1px solid gray;box-sizing: border-box;top: 0;bottom: 0;left: 50%;z-index: -1;}#sk-container-id-2 div.sk-parallel-item {display: flex;flex-direction: column;z-index: 1;position: relative;background-color: white;}#sk-container-id-2 div.sk-parallel-item:first-child::after {align-self: flex-end;width: 50%;}#sk-container-id-2 div.sk-parallel-item:last-child::after {align-self: flex-start;width: 50%;}#sk-container-id-2 div.sk-parallel-item:only-child::after {width: 0;}#sk-container-id-2 div.sk-dashed-wrapped {border: 1px dashed gray;margin: 0 0.4em 0.5em 0.4em;box-sizing: border-box;padding-bottom: 0.4em;background-color: white;}#sk-container-id-2 div.sk-label label {font-family: monospace;font-weight: bold;display: inline-block;line-height: 1.2em;}#sk-container-id-2 div.sk-label-container {text-align: center;}#sk-container-id-2 div.sk-container {/* jupyter's `normalize.less` sets `[hidden] { display: none; }` but bootstrap.min.css set `[hidden] { display: none !important; }` so we also need the `!important` here to be able to override the default hidden behavior on the sphinx rendered scikit-learn.org. See: https://github.com/scikit-learn/scikit-learn/issues/21755 */display: inline-block !important;position: relative;}#sk-container-id-2 div.sk-text-repr-fallback {display: none;}</style><div id=\"sk-container-id-2\" class=\"sk-top-container\"><div class=\"sk-text-repr-fallback\"><pre>GridSearchCV(cv=3,\n",
              "             estimator=DecisionTreeClassifier(min_samples_leaf=5,\n",
              "                                              random_state=42),\n",
              "             n_jobs=-1,\n",
              "             param_grid={&#x27;class_weight&#x27;: [&#x27;balanced&#x27;, None],\n",
              "                         &#x27;max_depth&#x27;: [64, 128]},\n",
              "             scoring=&#x27;f1&#x27;, verbose=1)</pre><b>In a Jupyter environment, please rerun this cell to show the HTML representation or trust the notebook. <br />On GitHub, the HTML representation is unable to render, please try loading this page with nbviewer.org.</b></div><div class=\"sk-container\" hidden><div class=\"sk-item sk-dashed-wrapped\"><div class=\"sk-label-container\"><div class=\"sk-label sk-toggleable\"><input class=\"sk-toggleable__control sk-hidden--visually\" id=\"sk-estimator-id-4\" type=\"checkbox\" ><label for=\"sk-estimator-id-4\" class=\"sk-toggleable__label sk-toggleable__label-arrow\">GridSearchCV</label><div class=\"sk-toggleable__content\"><pre>GridSearchCV(cv=3,\n",
              "             estimator=DecisionTreeClassifier(min_samples_leaf=5,\n",
              "                                              random_state=42),\n",
              "             n_jobs=-1,\n",
              "             param_grid={&#x27;class_weight&#x27;: [&#x27;balanced&#x27;, None],\n",
              "                         &#x27;max_depth&#x27;: [64, 128]},\n",
              "             scoring=&#x27;f1&#x27;, verbose=1)</pre></div></div></div><div class=\"sk-parallel\"><div class=\"sk-parallel-item\"><div class=\"sk-item\"><div class=\"sk-label-container\"><div class=\"sk-label sk-toggleable\"><input class=\"sk-toggleable__control sk-hidden--visually\" id=\"sk-estimator-id-5\" type=\"checkbox\" ><label for=\"sk-estimator-id-5\" class=\"sk-toggleable__label sk-toggleable__label-arrow\">estimator: DecisionTreeClassifier</label><div class=\"sk-toggleable__content\"><pre>DecisionTreeClassifier(min_samples_leaf=5, random_state=42)</pre></div></div></div><div class=\"sk-serial\"><div class=\"sk-item\"><div class=\"sk-estimator sk-toggleable\"><input class=\"sk-toggleable__control sk-hidden--visually\" id=\"sk-estimator-id-6\" type=\"checkbox\" ><label for=\"sk-estimator-id-6\" class=\"sk-toggleable__label sk-toggleable__label-arrow\">DecisionTreeClassifier</label><div class=\"sk-toggleable__content\"><pre>DecisionTreeClassifier(min_samples_leaf=5, random_state=42)</pre></div></div></div></div></div></div></div></div></div></div>"
            ],
            "text/plain": [
              "GridSearchCV(cv=3,\n",
              "             estimator=DecisionTreeClassifier(min_samples_leaf=5,\n",
              "                                              random_state=42),\n",
              "             n_jobs=-1,\n",
              "             param_grid={'class_weight': ['balanced', None],\n",
              "                         'max_depth': [64, 128]},\n",
              "             scoring='f1', verbose=1)"
            ]
          },
          "execution_count": 19,
          "metadata": {},
          "output_type": "execute_result"
        }
      ],
      "source": [
        "%%time\n",
        "tree = DecisionTreeClassifier(random_state=42, min_samples_leaf=5)\n",
        "param_tree = {'max_depth':[64,128],\n",
        "             'class_weight': ['balanced', None]}\n",
        "grid_tree = GridSearchCV(tree, param_tree, cv=3, scoring='f1', n_jobs=-1, verbose=1)\n",
        "grid_tree.fit(X_train, y_train)"
      ]
    },
    {
      "cell_type": "code",
      "execution_count": null,
      "metadata": {
        "scrolled": true,
        "id": "E95sbW_q62tR",
        "outputId": "bddcfda9-e7c4-416e-87ae-32bca741d15d"
      },
      "outputs": [
        {
          "name": "stdout",
          "output_type": "stream",
          "text": [
            "Лучшие параметры: {'class_weight': None, 'max_depth': 128}\n"
          ]
        }
      ],
      "source": [
        "print('Лучшие параметры:', grid_tree.best_params_)"
      ]
    },
    {
      "cell_type": "code",
      "execution_count": null,
      "metadata": {
        "id": "pyhRKbL662tR",
        "outputId": "5bdd7253-8eb4-4b94-c372-639889f9cfb4"
      },
      "outputs": [
        {
          "name": "stdout",
          "output_type": "stream",
          "text": [
            "Качество модели по кросс-валидации: 0.7223861196757221\n"
          ]
        }
      ],
      "source": [
        "print('Качество модели по кросс-валидации:', grid_tree.best_score_)"
      ]
    },
    {
      "cell_type": "markdown",
      "metadata": {
        "id": "rLr2eLpF62tS"
      },
      "source": [
        "<b>CatBoostClassifier</b>"
      ]
    },
    {
      "cell_type": "code",
      "execution_count": null,
      "metadata": {
        "scrolled": true,
        "id": "AEfLjMoM62tS",
        "outputId": "8ffb633d-f7a9-433a-fdfa-66ad1375e267"
      },
      "outputs": [
        {
          "name": "stdout",
          "output_type": "stream",
          "text": [
            "0:\tlearn: 0.5402940\ttest: 0.5384487\tbest: 0.5384487 (0)\ttotal: 713ms\tremaining: 2m 21s\n",
            "1:\tlearn: 0.5867431\ttest: 0.5872468\tbest: 0.5872468 (1)\ttotal: 1.28s\tremaining: 2m 6s\n",
            "2:\tlearn: 0.5570865\ttest: 0.5610375\tbest: 0.5872468 (1)\ttotal: 1.85s\tremaining: 2m 1s\n",
            "3:\tlearn: 0.5821068\ttest: 0.5802375\tbest: 0.5872468 (1)\ttotal: 2.4s\tremaining: 1m 57s\n",
            "4:\tlearn: 0.5852993\ttest: 0.5866487\tbest: 0.5872468 (1)\ttotal: 2.97s\tremaining: 1m 55s\n",
            "5:\tlearn: 0.5830356\ttest: 0.5840546\tbest: 0.5872468 (1)\ttotal: 3.54s\tremaining: 1m 54s\n",
            "6:\tlearn: 0.5835837\ttest: 0.5851408\tbest: 0.5872468 (1)\ttotal: 4.13s\tremaining: 1m 53s\n",
            "7:\tlearn: 0.5832911\ttest: 0.5838403\tbest: 0.5872468 (1)\ttotal: 4.71s\tremaining: 1m 53s\n",
            "8:\tlearn: 0.5828948\ttest: 0.5830436\tbest: 0.5872468 (1)\ttotal: 5.28s\tremaining: 1m 52s\n",
            "9:\tlearn: 0.5837370\ttest: 0.5860330\tbest: 0.5872468 (1)\ttotal: 5.86s\tremaining: 1m 51s\n",
            "10:\tlearn: 0.5831887\ttest: 0.5837434\tbest: 0.5872468 (1)\ttotal: 6.41s\tremaining: 1m 50s\n",
            "11:\tlearn: 0.5838993\ttest: 0.5850438\tbest: 0.5872468 (1)\ttotal: 6.99s\tremaining: 1m 49s\n",
            "12:\tlearn: 0.5844645\ttest: 0.5853531\tbest: 0.5872468 (1)\ttotal: 7.57s\tremaining: 1m 48s\n",
            "13:\tlearn: 0.5841552\ttest: 0.5853531\tbest: 0.5872468 (1)\ttotal: 8.13s\tremaining: 1m 47s\n",
            "14:\tlearn: 0.5847840\ttest: 0.5867458\tbest: 0.5872468 (1)\ttotal: 8.68s\tremaining: 1m 47s\n",
            "15:\tlearn: 0.5850931\ttest: 0.5869401\tbest: 0.5872468 (1)\ttotal: 9.26s\tremaining: 1m 46s\n",
            "16:\tlearn: 0.5853539\ttest: 0.5884277\tbest: 0.5884277 (16)\ttotal: 9.83s\tremaining: 1m 45s\n",
            "17:\tlearn: 0.5844852\ttest: 0.5874266\tbest: 0.5884277 (16)\ttotal: 10.4s\tremaining: 1m 45s\n",
            "18:\tlearn: 0.5849773\ttest: 0.5873292\tbest: 0.5884277 (16)\ttotal: 10.9s\tremaining: 1m 44s\n",
            "19:\tlearn: 0.5847095\ttest: 0.5873292\tbest: 0.5884277 (16)\ttotal: 11.5s\tremaining: 1m 43s\n",
            "20:\tlearn: 0.5845932\ttest: 0.5880249\tbest: 0.5884277 (16)\ttotal: 12.1s\tremaining: 1m 42s\n",
            "21:\tlearn: 0.5846286\ttest: 0.5888175\tbest: 0.5888175 (21)\ttotal: 12.6s\tremaining: 1m 42s\n",
            "22:\tlearn: 0.5848278\ttest: 0.5887200\tbest: 0.5888175 (21)\ttotal: 13.2s\tremaining: 1m 41s\n",
            "23:\tlearn: 0.5845226\ttest: 0.5874266\tbest: 0.5888175 (21)\ttotal: 13.8s\tremaining: 1m 40s\n",
            "24:\tlearn: 0.5849877\ttest: 0.5901080\tbest: 0.5901080 (24)\ttotal: 14.3s\tremaining: 1m 40s\n",
            "25:\tlearn: 0.5997870\ttest: 0.5998467\tbest: 0.5998467 (25)\ttotal: 14.9s\tremaining: 1m 39s\n",
            "26:\tlearn: 0.5997138\ttest: 0.5999453\tbest: 0.5999453 (26)\ttotal: 15.4s\tremaining: 1m 38s\n",
            "27:\tlearn: 0.6004416\ttest: 0.6015994\tbest: 0.6015994 (27)\ttotal: 16s\tremaining: 1m 38s\n",
            "28:\tlearn: 0.6000684\ttest: 0.6012132\tbest: 0.6015994 (27)\ttotal: 16.6s\tremaining: 1m 37s\n",
            "29:\tlearn: 0.6000691\ttest: 0.6005303\tbest: 0.6015994 (27)\ttotal: 17.1s\tremaining: 1m 37s\n",
            "30:\tlearn: 0.6007686\ttest: 0.6018955\tbest: 0.6018955 (30)\ttotal: 17.7s\tremaining: 1m 36s\n",
            "31:\tlearn: 0.6000803\ttest: 0.6007276\tbest: 0.6018955 (30)\ttotal: 18.3s\tremaining: 1m 36s\n",
            "32:\tlearn: 0.5999241\ttest: 0.6013119\tbest: 0.6018955 (30)\ttotal: 18.9s\tremaining: 1m 35s\n",
            "33:\tlearn: 0.6000395\ttest: 0.6007276\tbest: 0.6018955 (30)\ttotal: 19.4s\tremaining: 1m 34s\n",
            "34:\tlearn: 0.6005380\ttest: 0.6013119\tbest: 0.6018955 (30)\ttotal: 20s\tremaining: 1m 34s\n",
            "35:\tlearn: 0.6004446\ttest: 0.6014107\tbest: 0.6018955 (30)\ttotal: 20.6s\tremaining: 1m 33s\n",
            "36:\tlearn: 0.6004529\ttest: 0.6010159\tbest: 0.6018955 (30)\ttotal: 21.2s\tremaining: 1m 33s\n",
            "37:\tlearn: 0.6005885\ttest: 0.6010159\tbest: 0.6018955 (30)\ttotal: 21.8s\tremaining: 1m 32s\n",
            "38:\tlearn: 0.6006088\ttest: 0.6016981\tbest: 0.6018955 (30)\ttotal: 22.3s\tremaining: 1m 32s\n",
            "39:\tlearn: 0.6004943\ttest: 0.6011146\tbest: 0.6018955 (30)\ttotal: 22.9s\tremaining: 1m 31s\n",
            "40:\tlearn: 0.6004634\ttest: 0.6004317\tbest: 0.6018955 (30)\ttotal: 23.5s\tremaining: 1m 31s\n",
            "41:\tlearn: 0.6007029\ttest: 0.6017968\tbest: 0.6018955 (30)\ttotal: 24s\tremaining: 1m 30s\n",
            "42:\tlearn: 0.6007759\ttest: 0.6016981\tbest: 0.6018955 (30)\ttotal: 24.6s\tremaining: 1m 29s\n",
            "43:\tlearn: 0.6006818\ttest: 0.6011146\tbest: 0.6018955 (30)\ttotal: 25.2s\tremaining: 1m 29s\n",
            "44:\tlearn: 0.6007345\ttest: 0.6012132\tbest: 0.6018955 (30)\ttotal: 25.7s\tremaining: 1m 28s\n",
            "45:\tlearn: 0.6006826\ttest: 0.6017968\tbest: 0.6018955 (30)\ttotal: 26.3s\tremaining: 1m 28s\n",
            "46:\tlearn: 0.6007345\ttest: 0.6011146\tbest: 0.6018955 (30)\ttotal: 26.9s\tremaining: 1m 27s\n",
            "47:\tlearn: 0.6008911\ttest: 0.6011146\tbest: 0.6018955 (30)\ttotal: 27.4s\tremaining: 1m 26s\n",
            "48:\tlearn: 0.6005990\ttest: 0.6011146\tbest: 0.6018955 (30)\ttotal: 28s\tremaining: 1m 26s\n",
            "49:\tlearn: 0.6007662\ttest: 0.6011146\tbest: 0.6018955 (30)\ttotal: 28.6s\tremaining: 1m 25s\n",
            "50:\tlearn: 0.6003384\ttest: 0.6011146\tbest: 0.6018955 (30)\ttotal: 29.2s\tremaining: 1m 25s\n",
            "51:\tlearn: 0.6003806\ttest: 0.6004317\tbest: 0.6018955 (30)\ttotal: 29.7s\tremaining: 1m 24s\n",
            "52:\tlearn: 0.6006306\ttest: 0.6011146\tbest: 0.6018955 (30)\ttotal: 30.3s\tremaining: 1m 24s\n",
            "53:\tlearn: 0.6005056\ttest: 0.6012132\tbest: 0.6018955 (30)\ttotal: 30.9s\tremaining: 1m 23s\n",
            "54:\tlearn: 0.6007142\ttest: 0.6012132\tbest: 0.6018955 (30)\ttotal: 31.4s\tremaining: 1m 22s\n",
            "55:\tlearn: 0.6009439\ttest: 0.6005303\tbest: 0.6018955 (30)\ttotal: 32s\tremaining: 1m 22s\n",
            "56:\tlearn: 0.6017783\ttest: 0.6005303\tbest: 0.6018955 (30)\ttotal: 32.5s\tremaining: 1m 21s\n",
            "57:\tlearn: 0.6012887\ttest: 0.6005303\tbest: 0.6018955 (30)\ttotal: 33.1s\tremaining: 1m 21s\n",
            "58:\tlearn: 0.6015383\ttest: 0.6012132\tbest: 0.6018955 (30)\ttotal: 33.7s\tremaining: 1m 20s\n",
            "59:\tlearn: 0.6015172\ttest: 0.6012132\tbest: 0.6018955 (30)\ttotal: 34.2s\tremaining: 1m 19s\n",
            "60:\tlearn: 0.6018100\ttest: 0.6013119\tbest: 0.6018955 (30)\ttotal: 34.8s\tremaining: 1m 19s\n",
            "61:\tlearn: 0.6016746\ttest: 0.6019943\tbest: 0.6019943 (61)\ttotal: 35.4s\tremaining: 1m 18s\n",
            "62:\tlearn: 0.6016535\ttest: 0.6012132\tbest: 0.6019943 (61)\ttotal: 36s\tremaining: 1m 18s\n",
            "63:\tlearn: 0.6015393\ttest: 0.6005303\tbest: 0.6019943 (61)\ttotal: 36.5s\tremaining: 1m 17s\n",
            "64:\tlearn: 0.6018733\ttest: 0.6019943\tbest: 0.6019943 (61)\ttotal: 37.1s\tremaining: 1m 17s\n",
            "65:\tlearn: 0.6018733\ttest: 0.6019943\tbest: 0.6019943 (61)\ttotal: 37.7s\tremaining: 1m 16s\n",
            "66:\tlearn: 0.6023732\ttest: 0.6033569\tbest: 0.6033569 (66)\ttotal: 38.3s\tremaining: 1m 15s\n",
            "67:\tlearn: 0.6024155\ttest: 0.6033569\tbest: 0.6033569 (66)\ttotal: 38.8s\tremaining: 1m 15s\n",
            "68:\tlearn: 0.6021037\ttest: 0.6040373\tbest: 0.6040373 (68)\ttotal: 39.5s\tremaining: 1m 14s\n",
            "69:\tlearn: 0.6017073\ttest: 0.6033569\tbest: 0.6040373 (68)\ttotal: 40s\tremaining: 1m 14s\n",
            "70:\tlearn: 0.6019780\ttest: 0.6032581\tbest: 0.6040373 (68)\ttotal: 40.6s\tremaining: 1m 13s\n",
            "71:\tlearn: 0.6021661\ttest: 0.6026759\tbest: 0.6040373 (68)\ttotal: 41.1s\tremaining: 1m 13s\n",
            "72:\tlearn: 0.6023531\ttest: 0.6026759\tbest: 0.6040373 (68)\ttotal: 41.7s\tremaining: 1m 12s\n",
            "73:\tlearn: 0.6026658\ttest: 0.6040373\tbest: 0.6040373 (68)\ttotal: 42.3s\tremaining: 1m 11s\n",
            "74:\tlearn: 0.6134189\ttest: 0.6188389\tbest: 0.6188389 (74)\ttotal: 42.8s\tremaining: 1m 11s\n",
            "75:\tlearn: 0.6136555\ttest: 0.6188389\tbest: 0.6188389 (74)\ttotal: 43.4s\tremaining: 1m 10s\n",
            "76:\tlearn: 0.6132967\ttest: 0.6188389\tbest: 0.6188389 (74)\ttotal: 44s\tremaining: 1m 10s\n",
            "77:\tlearn: 0.6135043\ttest: 0.6189392\tbest: 0.6189392 (77)\ttotal: 44.5s\tremaining: 1m 9s\n",
            "78:\tlearn: 0.6134189\ttest: 0.6189392\tbest: 0.6189392 (77)\ttotal: 45.1s\tremaining: 1m 9s\n",
            "79:\tlearn: 0.6133578\ttest: 0.6197051\tbest: 0.6197051 (79)\ttotal: 45.7s\tremaining: 1m 8s\n",
            "80:\tlearn: 0.6138386\ttest: 0.6197051\tbest: 0.6197051 (79)\ttotal: 46.2s\tremaining: 1m 7s\n",
            "81:\tlearn: 0.6142002\ttest: 0.6190396\tbest: 0.6197051 (79)\ttotal: 46.8s\tremaining: 1m 7s\n",
            "82:\tlearn: 0.6135838\ttest: 0.6197051\tbest: 0.6197051 (79)\ttotal: 47.3s\tremaining: 1m 6s\n",
            "83:\tlearn: 0.6141499\ttest: 0.6198055\tbest: 0.6198055 (83)\ttotal: 47.9s\tremaining: 1m 6s\n",
            "84:\tlearn: 0.6141499\ttest: 0.6198055\tbest: 0.6198055 (83)\ttotal: 48.4s\tremaining: 1m 5s\n",
            "85:\tlearn: 0.6139882\ttest: 0.6184738\tbest: 0.6198055 (83)\ttotal: 49s\tremaining: 1m 4s\n",
            "86:\tlearn: 0.6142674\ttest: 0.6184738\tbest: 0.6198055 (83)\ttotal: 49.6s\tremaining: 1m 4s\n",
            "87:\tlearn: 0.6142888\ttest: 0.6191400\tbest: 0.6198055 (83)\ttotal: 50.1s\tremaining: 1m 3s\n",
            "88:\tlearn: 0.6140447\ttest: 0.6184738\tbest: 0.6198055 (83)\ttotal: 50.7s\tremaining: 1m 3s\n",
            "89:\tlearn: 0.6136890\ttest: 0.6191400\tbest: 0.6198055 (83)\ttotal: 51.3s\tremaining: 1m 2s\n",
            "90:\tlearn: 0.6138860\ttest: 0.6198055\tbest: 0.6198055 (83)\ttotal: 51.8s\tremaining: 1m 2s\n",
            "91:\tlearn: 0.6138677\ttest: 0.6198055\tbest: 0.6198055 (83)\ttotal: 52.4s\tremaining: 1m 1s\n",
            "92:\tlearn: 0.6136843\ttest: 0.6179073\tbest: 0.6198055 (83)\ttotal: 53s\tremaining: 1m\n",
            "93:\tlearn: 0.6139287\ttest: 0.6180077\tbest: 0.6198055 (83)\ttotal: 53.5s\tremaining: 1m\n",
            "94:\tlearn: 0.6138279\ttest: 0.6180077\tbest: 0.6198055 (83)\ttotal: 54.1s\tremaining: 59.8s\n",
            "95:\tlearn: 0.6139318\ttest: 0.6172398\tbest: 0.6198055 (83)\ttotal: 54.7s\tremaining: 59.2s\n",
            "96:\tlearn: 0.6138890\ttest: 0.6173401\tbest: 0.6198055 (83)\ttotal: 55.3s\tremaining: 58.7s\n",
            "97:\tlearn: 0.6139715\ttest: 0.6180077\tbest: 0.6198055 (83)\ttotal: 55.8s\tremaining: 58.1s\n",
            "98:\tlearn: 0.6135912\ttest: 0.6184738\tbest: 0.6198055 (83)\ttotal: 56.4s\tremaining: 57.5s\n",
            "99:\tlearn: 0.6135010\ttest: 0.6179073\tbest: 0.6198055 (83)\ttotal: 56.9s\tremaining: 56.9s\n",
            "100:\tlearn: 0.6135942\ttest: 0.6181081\tbest: 0.6198055 (83)\ttotal: 57.5s\tremaining: 56.4s\n",
            "101:\tlearn: 0.6134612\ttest: 0.6185742\tbest: 0.6198055 (83)\ttotal: 58.1s\tremaining: 55.8s\n",
            "102:\tlearn: 0.6137592\ttest: 0.6178070\tbest: 0.6198055 (83)\ttotal: 58.6s\tremaining: 55.2s\n",
            "103:\tlearn: 0.6139028\ttest: 0.6191400\tbest: 0.6198055 (83)\ttotal: 59.2s\tremaining: 54.7s\n",
            "104:\tlearn: 0.6140754\ttest: 0.6185742\tbest: 0.6198055 (83)\ttotal: 59.8s\tremaining: 54.1s\n",
            "105:\tlearn: 0.6140036\ttest: 0.6192404\tbest: 0.6198055 (83)\ttotal: 1m\tremaining: 53.5s\n",
            "106:\tlearn: 0.6147927\ttest: 0.6205710\tbest: 0.6205710 (106)\ttotal: 1m\tremaining: 52.9s\n",
            "107:\tlearn: 0.6148248\ttest: 0.6199060\tbest: 0.6205710 (106)\ttotal: 1m 1s\tremaining: 52.3s\n",
            "108:\tlearn: 0.6149286\ttest: 0.6205710\tbest: 0.6205710 (106)\ttotal: 1m 2s\tremaining: 51.8s\n",
            "109:\tlearn: 0.6149500\ttest: 0.6192404\tbest: 0.6205710 (106)\ttotal: 1m 2s\tremaining: 51.2s\n",
            "110:\tlearn: 0.6150827\ttest: 0.6192404\tbest: 0.6205710 (106)\ttotal: 1m 3s\tremaining: 50.6s\n",
            "111:\tlearn: 0.6150036\ttest: 0.6193409\tbest: 0.6205710 (106)\ttotal: 1m 3s\tremaining: 50s\n",
            "112:\tlearn: 0.6153620\ttest: 0.6200065\tbest: 0.6205710 (106)\ttotal: 1m 4s\tremaining: 49.5s\n",
            "113:\tlearn: 0.6152294\ttest: 0.6201071\tbest: 0.6205710 (106)\ttotal: 1m 4s\tremaining: 48.9s\n",
            "114:\tlearn: 0.6152401\ttest: 0.6207722\tbest: 0.6207722 (114)\ttotal: 1m 5s\tremaining: 48.3s\n",
            "115:\tlearn: 0.6154658\ttest: 0.6201071\tbest: 0.6207722 (114)\ttotal: 1m 5s\tremaining: 47.7s\n",
            "116:\tlearn: 0.6155086\ttest: 0.6207722\tbest: 0.6207722 (114)\ttotal: 1m 6s\tremaining: 47.2s\n",
            "117:\tlearn: 0.6153043\ttest: 0.6206715\tbest: 0.6207722 (114)\ttotal: 1m 7s\tremaining: 46.6s\n",
            "118:\tlearn: 0.6151717\ttest: 0.6201071\tbest: 0.6207722 (114)\ttotal: 1m 7s\tremaining: 46s\n",
            "119:\tlearn: 0.6157557\ttest: 0.6207722\tbest: 0.6207722 (114)\ttotal: 1m 8s\tremaining: 45.5s\n",
            "120:\tlearn: 0.6159312\ttest: 0.6207722\tbest: 0.6207722 (114)\ttotal: 1m 8s\tremaining: 44.9s\n",
            "121:\tlearn: 0.6161460\ttest: 0.6214366\tbest: 0.6214366 (121)\ttotal: 1m 9s\tremaining: 44.3s\n",
            "122:\tlearn: 0.6161747\ttest: 0.6213359\tbest: 0.6214366 (121)\ttotal: 1m 9s\tremaining: 43.8s\n",
            "123:\tlearn: 0.6164109\ttest: 0.6207722\tbest: 0.6214366 (121)\ttotal: 1m 10s\tremaining: 43.2s\n",
            "124:\tlearn: 0.6168187\ttest: 0.6206715\tbest: 0.6214366 (121)\ttotal: 1m 11s\tremaining: 42.6s\n",
            "125:\tlearn: 0.6168688\ttest: 0.6213359\tbest: 0.6214366 (121)\ttotal: 1m 11s\tremaining: 42.1s\n",
            "126:\tlearn: 0.6169189\ttest: 0.6218989\tbest: 0.6218989 (126)\ttotal: 1m 12s\tremaining: 41.5s\n",
            "127:\tlearn: 0.6172370\ttest: 0.6225619\tbest: 0.6225619 (127)\ttotal: 1m 12s\tremaining: 40.9s\n",
            "128:\tlearn: 0.6179300\ttest: 0.6226627\tbest: 0.6226627 (128)\ttotal: 1m 13s\tremaining: 40.3s\n",
            "129:\tlearn: 0.6183583\ttest: 0.6226627\tbest: 0.6226627 (128)\ttotal: 1m 13s\tremaining: 39.7s\n",
            "130:\tlearn: 0.6180943\ttest: 0.6226627\tbest: 0.6226627 (128)\ttotal: 1m 14s\tremaining: 39.2s\n",
            "131:\tlearn: 0.6181549\ttest: 0.6225619\tbest: 0.6226627 (128)\ttotal: 1m 14s\tremaining: 38.6s\n",
            "132:\tlearn: 0.6184404\ttest: 0.6218989\tbest: 0.6226627 (128)\ttotal: 1m 15s\tremaining: 38s\n",
            "133:\tlearn: 0.6185939\ttest: 0.6219996\tbest: 0.6226627 (128)\ttotal: 1m 16s\tremaining: 37.5s\n",
            "134:\tlearn: 0.6193889\ttest: 0.6226627\tbest: 0.6226627 (128)\ttotal: 1m 16s\tremaining: 36.9s\n",
            "135:\tlearn: 0.6187903\ttest: 0.6226627\tbest: 0.6226627 (128)\ttotal: 1m 17s\tremaining: 36.3s\n",
            "136:\tlearn: 0.6188401\ttest: 0.6226627\tbest: 0.6226627 (128)\ttotal: 1m 17s\tremaining: 35.8s\n",
            "137:\tlearn: 0.6188508\ttest: 0.6232243\tbest: 0.6232243 (137)\ttotal: 1m 18s\tremaining: 35.2s\n",
            "138:\tlearn: 0.6189935\ttest: 0.6245472\tbest: 0.6245472 (138)\ttotal: 1m 18s\tremaining: 34.6s\n",
            "139:\tlearn: 0.6189935\ttest: 0.6245472\tbest: 0.6245472 (138)\ttotal: 1m 19s\tremaining: 34.1s\n",
            "140:\tlearn: 0.6187795\ttest: 0.6245472\tbest: 0.6245472 (138)\ttotal: 1m 20s\tremaining: 33.5s\n",
            "141:\tlearn: 0.6187903\ttest: 0.6245472\tbest: 0.6245472 (138)\ttotal: 1m 20s\tremaining: 32.9s\n",
            "142:\tlearn: 0.6185049\ttest: 0.6245472\tbest: 0.6245472 (138)\ttotal: 1m 21s\tremaining: 32.4s\n",
            "143:\tlearn: 0.6184658\ttest: 0.6245472\tbest: 0.6245472 (138)\ttotal: 1m 21s\tremaining: 31.8s\n",
            "144:\tlearn: 0.6187189\ttest: 0.6245472\tbest: 0.6245472 (138)\ttotal: 1m 22s\tremaining: 31.2s\n",
            "145:\tlearn: 0.6187512\ttest: 0.6238861\tbest: 0.6245472 (138)\ttotal: 1m 22s\tremaining: 30.6s\n",
            "146:\tlearn: 0.6187727\ttest: 0.6238861\tbest: 0.6245472 (138)\ttotal: 1m 23s\tremaining: 30.1s\n",
            "147:\tlearn: 0.6193432\ttest: 0.6252077\tbest: 0.6252077 (147)\ttotal: 1m 23s\tremaining: 29.5s\n",
            "148:\tlearn: 0.6192221\ttest: 0.6245472\tbest: 0.6252077 (147)\ttotal: 1m 24s\tremaining: 28.9s\n",
            "149:\tlearn: 0.6192436\ttest: 0.6245472\tbest: 0.6252077 (147)\ttotal: 1m 25s\tremaining: 28.4s\n",
            "150:\tlearn: 0.6191723\ttest: 0.6253087\tbest: 0.6253087 (150)\ttotal: 1m 25s\tremaining: 27.8s\n",
            "151:\tlearn: 0.6195503\ttest: 0.6253087\tbest: 0.6253087 (150)\ttotal: 1m 26s\tremaining: 27.2s\n",
            "152:\tlearn: 0.6202411\ttest: 0.6253087\tbest: 0.6253087 (150)\ttotal: 1m 26s\tremaining: 26.7s\n",
            "153:\tlearn: 0.6204762\ttest: 0.6253087\tbest: 0.6253087 (150)\ttotal: 1m 27s\tremaining: 26.1s\n",
            "154:\tlearn: 0.6203230\ttest: 0.6252077\tbest: 0.6253087 (150)\ttotal: 1m 27s\tremaining: 25.5s\n",
            "155:\tlearn: 0.6199388\ttest: 0.6245472\tbest: 0.6253087 (150)\ttotal: 1m 28s\tremaining: 25s\n",
            "156:\tlearn: 0.6200531\ttest: 0.6252077\tbest: 0.6253087 (150)\ttotal: 1m 29s\tremaining: 24.4s\n",
            "157:\tlearn: 0.6199819\ttest: 0.6252077\tbest: 0.6253087 (150)\ttotal: 1m 29s\tremaining: 23.8s\n",
            "158:\tlearn: 0.6209181\ttest: 0.6278433\tbest: 0.6278433 (158)\ttotal: 1m 30s\tremaining: 23.3s\n",
            "159:\tlearn: 0.6208793\ttest: 0.6278433\tbest: 0.6278433 (158)\ttotal: 1m 30s\tremaining: 22.7s\n",
            "160:\tlearn: 0.6209612\ttest: 0.6278433\tbest: 0.6278433 (158)\ttotal: 1m 31s\tremaining: 22.1s\n",
            "161:\tlearn: 0.6211574\ttest: 0.6286019\tbest: 0.6286019 (161)\ttotal: 1m 31s\tremaining: 21.5s\n",
            "162:\tlearn: 0.6216616\ttest: 0.6286019\tbest: 0.6286019 (161)\ttotal: 1m 32s\tremaining: 21s\n",
            "163:\tlearn: 0.6216444\ttest: 0.6279445\tbest: 0.6286019 (161)\ttotal: 1m 32s\tremaining: 20.4s\n",
            "164:\tlearn: 0.6217478\ttest: 0.6279445\tbest: 0.6286019 (161)\ttotal: 1m 33s\tremaining: 19.8s\n",
            "165:\tlearn: 0.6216875\ttest: 0.6286019\tbest: 0.6286019 (161)\ttotal: 1m 34s\tremaining: 19.3s\n",
            "166:\tlearn: 0.6289221\ttest: 0.6352430\tbest: 0.6352430 (166)\ttotal: 1m 34s\tremaining: 18.7s\n",
            "167:\tlearn: 0.6290680\ttest: 0.6357916\tbest: 0.6357916 (167)\ttotal: 1m 35s\tremaining: 18.1s\n",
            "168:\tlearn: 0.6291166\ttest: 0.6357916\tbest: 0.6357916 (167)\ttotal: 1m 35s\tremaining: 17.6s\n",
            "169:\tlearn: 0.6290355\ttest: 0.6364415\tbest: 0.6364415 (169)\ttotal: 1m 36s\tremaining: 17s\n",
            "170:\tlearn: 0.6294355\ttest: 0.6357916\tbest: 0.6364415 (169)\ttotal: 1m 36s\tremaining: 16.4s\n",
            "171:\tlearn: 0.6293544\ttest: 0.6357916\tbest: 0.6364415 (169)\ttotal: 1m 37s\tremaining: 15.9s\n",
            "172:\tlearn: 0.6296840\ttest: 0.6364415\tbest: 0.6364415 (169)\ttotal: 1m 37s\tremaining: 15.3s\n",
            "173:\tlearn: 0.6304295\ttest: 0.6365435\tbest: 0.6365435 (173)\ttotal: 1m 38s\tremaining: 14.7s\n",
            "174:\tlearn: 0.6391015\ttest: 0.6415159\tbest: 0.6415159 (174)\ttotal: 1m 39s\tremaining: 14.1s\n",
            "175:\tlearn: 0.6391234\ttest: 0.6415159\tbest: 0.6415159 (174)\ttotal: 1m 39s\tremaining: 13.6s\n",
            "176:\tlearn: 0.6391926\ttest: 0.6415159\tbest: 0.6415159 (174)\ttotal: 1m 40s\tremaining: 13s\n",
            "177:\tlearn: 0.6394838\ttest: 0.6408710\tbest: 0.6415159 (174)\ttotal: 1m 40s\tremaining: 12.5s\n",
            "178:\tlearn: 0.6396695\ttest: 0.6408710\tbest: 0.6415159 (174)\ttotal: 1m 41s\tremaining: 11.9s\n",
            "179:\tlearn: 0.6395276\ttest: 0.6408710\tbest: 0.6415159 (174)\ttotal: 1m 41s\tremaining: 11.3s\n",
            "180:\tlearn: 0.6396296\ttest: 0.6402255\tbest: 0.6415159 (174)\ttotal: 1m 42s\tremaining: 10.8s\n",
            "181:\tlearn: 0.6397788\ttest: 0.6402255\tbest: 0.6415159 (174)\ttotal: 1m 43s\tremaining: 10.2s\n",
            "182:\tlearn: 0.6398261\ttest: 0.6402255\tbest: 0.6415159 (174)\ttotal: 1m 43s\tremaining: 9.63s\n",
            "183:\tlearn: 0.6401170\ttest: 0.6395794\tbest: 0.6415159 (174)\ttotal: 1m 44s\tremaining: 9.06s\n",
            "184:\tlearn: 0.6402771\ttest: 0.6402255\tbest: 0.6415159 (174)\ttotal: 1m 44s\tremaining: 8.49s\n",
            "185:\tlearn: 0.6400589\ttest: 0.6401233\tbest: 0.6415159 (174)\ttotal: 1m 45s\tremaining: 7.92s\n",
            "186:\tlearn: 0.6406402\ttest: 0.6404620\tbest: 0.6415159 (174)\ttotal: 1m 45s\tremaining: 7.36s\n",
            "187:\tlearn: 0.6406983\ttest: 0.6397146\tbest: 0.6415159 (174)\ttotal: 1m 46s\tremaining: 6.79s\n",
            "188:\tlearn: 0.6412175\ttest: 0.6396125\tbest: 0.6415159 (174)\ttotal: 1m 46s\tremaining: 6.22s\n",
            "189:\tlearn: 0.6411014\ttest: 0.6396125\tbest: 0.6415159 (174)\ttotal: 1m 47s\tremaining: 5.66s\n",
            "190:\tlearn: 0.6408944\ttest: 0.6397146\tbest: 0.6415159 (174)\ttotal: 1m 48s\tremaining: 5.09s\n",
            "191:\tlearn: 0.6413303\ttest: 0.6411067\tbest: 0.6415159 (174)\ttotal: 1m 48s\tremaining: 4.53s\n",
            "192:\tlearn: 0.6414321\ttest: 0.6404620\tbest: 0.6415159 (174)\ttotal: 1m 49s\tremaining: 3.96s\n",
            "193:\tlearn: 0.6413883\ttest: 0.6403598\tbest: 0.6415159 (174)\ttotal: 1m 49s\tremaining: 3.39s\n",
            "194:\tlearn: 0.6413303\ttest: 0.6403598\tbest: 0.6415159 (174)\ttotal: 1m 50s\tremaining: 2.83s\n",
            "195:\tlearn: 0.6415842\ttest: 0.6401556\tbest: 0.6415159 (174)\ttotal: 1m 50s\tremaining: 2.26s\n",
            "196:\tlearn: 0.6416531\ttest: 0.6401556\tbest: 0.6415159 (174)\ttotal: 1m 51s\tremaining: 1.7s\n",
            "197:\tlearn: 0.6413303\ttest: 0.6401556\tbest: 0.6415159 (174)\ttotal: 1m 52s\tremaining: 1.13s\n",
            "198:\tlearn: 0.6414682\ttest: 0.6408001\tbest: 0.6415159 (174)\ttotal: 1m 52s\tremaining: 566ms\n",
            "199:\tlearn: 0.6417549\ttest: 0.6406979\tbest: 0.6415159 (174)\ttotal: 1m 53s\tremaining: 0us\n",
            "\n",
            "bestTest = 0.6415159436\n",
            "bestIteration = 174\n",
            "\n",
            "0:\tloss: 0.6415159\tbest: 0.6415159 (0)\ttotal: 1m 59s\tremaining: 1m 59s\n",
            "Estimating final quality...\n",
            "Training on fold [0/3]\n",
            "0:\tlearn: 0.5549531\ttest: 0.5467902\tbest: 0.5467902 (0)\ttotal: 485ms\tremaining: 1m 36s\n",
            "1:\tlearn: 0.5887031\ttest: 0.5795733\tbest: 0.5795733 (1)\ttotal: 920ms\tremaining: 1m 31s\n",
            "2:\tlearn: 0.5857321\ttest: 0.5795492\tbest: 0.5795733 (1)\ttotal: 1.35s\tremaining: 1m 28s\n",
            "3:\tlearn: 0.5855017\ttest: 0.5791973\tbest: 0.5795733 (1)\ttotal: 1.79s\tremaining: 1m 27s\n",
            "4:\tlearn: 0.5835480\ttest: 0.5781312\tbest: 0.5795733 (1)\ttotal: 2.22s\tremaining: 1m 26s\n",
            "5:\tlearn: 0.5844923\ttest: 0.5777131\tbest: 0.5795733 (1)\ttotal: 2.65s\tremaining: 1m 25s\n",
            "6:\tlearn: 0.5846078\ttest: 0.5777131\tbest: 0.5795733 (1)\ttotal: 3.09s\tremaining: 1m 25s\n",
            "7:\tlearn: 0.5845458\ttest: 0.5777691\tbest: 0.5795733 (1)\ttotal: 3.51s\tremaining: 1m 24s\n",
            "8:\tlearn: 0.5552525\ttest: 0.5497233\tbest: 0.5795733 (1)\ttotal: 3.94s\tremaining: 1m 23s\n",
            "9:\tlearn: 0.5861482\ttest: 0.5790409\tbest: 0.5795733 (1)\ttotal: 4.37s\tremaining: 1m 22s\n",
            "10:\tlearn: 0.5862916\ttest: 0.5789206\tbest: 0.5795733 (1)\ttotal: 4.79s\tremaining: 1m 22s\n",
            "11:\tlearn: 0.5843513\ttest: 0.5780857\tbest: 0.5795733 (1)\ttotal: 5.23s\tremaining: 1m 21s\n",
            "12:\tlearn: 0.5860563\ttest: 0.5789486\tbest: 0.5795733 (1)\ttotal: 5.65s\tremaining: 1m 21s\n",
            "13:\tlearn: 0.5866721\ttest: 0.5798370\tbest: 0.5798370 (13)\ttotal: 6.09s\tremaining: 1m 20s\n",
            "14:\tlearn: 0.5858987\ttest: 0.5792088\tbest: 0.5798370 (13)\ttotal: 6.53s\tremaining: 1m 20s\n",
            "15:\tlearn: 0.6030934\ttest: 0.5997315\tbest: 0.5997315 (15)\ttotal: 6.95s\tremaining: 1m 19s\n",
            "16:\tlearn: 0.5873277\ttest: 0.5801450\tbest: 0.5997315 (15)\ttotal: 7.37s\tremaining: 1m 19s\n",
            "17:\tlearn: 0.5881690\ttest: 0.5812063\tbest: 0.5997315 (15)\ttotal: 7.79s\tremaining: 1m 18s\n",
            "18:\tlearn: 0.5890806\ttest: 0.5817951\tbest: 0.5997315 (15)\ttotal: 8.22s\tremaining: 1m 18s\n",
            "19:\tlearn: 0.6036383\ttest: 0.6002931\tbest: 0.6002931 (19)\ttotal: 8.65s\tremaining: 1m 17s\n",
            "20:\tlearn: 0.5889906\ttest: 0.5817882\tbest: 0.6002931 (19)\ttotal: 9.07s\tremaining: 1m 17s\n",
            "21:\tlearn: 0.5883018\ttest: 0.5818792\tbest: 0.6002931 (19)\ttotal: 9.51s\tremaining: 1m 16s\n",
            "22:\tlearn: 0.5878807\ttest: 0.5820756\tbest: 0.6002931 (19)\ttotal: 9.93s\tremaining: 1m 16s\n",
            "23:\tlearn: 0.5877960\ttest: 0.5821317\tbest: 0.6002931 (19)\ttotal: 10.4s\tremaining: 1m 16s\n",
            "24:\tlearn: 0.5884449\ttest: 0.5828317\tbest: 0.6002931 (19)\ttotal: 10.8s\tremaining: 1m 15s\n",
            "25:\tlearn: 0.5881427\ttest: 0.5819634\tbest: 0.6002931 (19)\ttotal: 11.2s\tremaining: 1m 15s\n",
            "26:\tlearn: 0.5881568\ttest: 0.5827129\tbest: 0.6002931 (19)\ttotal: 11.7s\tremaining: 1m 14s\n",
            "27:\tlearn: 0.5887469\ttest: 0.5826006\tbest: 0.6002931 (19)\ttotal: 12.1s\tremaining: 1m 14s\n",
            "28:\tlearn: 0.5887593\ttest: 0.5826287\tbest: 0.6002931 (19)\ttotal: 12.5s\tremaining: 1m 13s\n",
            "29:\tlearn: 0.5884289\ttest: 0.5823976\tbest: 0.6002931 (19)\ttotal: 13s\tremaining: 1m 13s\n",
            "30:\tlearn: 0.5882133\ttest: 0.5821665\tbest: 0.6002931 (19)\ttotal: 13.4s\tremaining: 1m 13s\n",
            "31:\tlearn: 0.5887169\ttest: 0.5821945\tbest: 0.6002931 (19)\ttotal: 13.8s\tremaining: 1m 12s\n",
            "32:\tlearn: 0.5883847\ttest: 0.5821597\tbest: 0.6002931 (19)\ttotal: 14.3s\tremaining: 1m 12s\n",
            "33:\tlearn: 0.5886003\ttest: 0.5825379\tbest: 0.6002931 (19)\ttotal: 14.7s\tremaining: 1m 11s\n",
            "34:\tlearn: 0.5888017\ttest: 0.5823348\tbest: 0.6002931 (19)\ttotal: 15.1s\tremaining: 1m 11s\n",
            "35:\tlearn: 0.5885137\ttest: 0.5827972\tbest: 0.6002931 (19)\ttotal: 15.6s\tremaining: 1m 10s\n",
            "36:\tlearn: 0.5886727\ttest: 0.5829721\tbest: 0.6002931 (19)\ttotal: 16s\tremaining: 1m 10s\n",
            "37:\tlearn: 0.5888458\ttest: 0.5827972\tbest: 0.6002931 (19)\ttotal: 16.5s\tremaining: 1m 10s\n",
            "38:\tlearn: 0.5892484\ttest: 0.5825099\tbest: 0.6002931 (19)\ttotal: 16.9s\tremaining: 1m 9s\n",
            "39:\tlearn: 0.5899241\ttest: 0.5833217\tbest: 0.6002931 (19)\ttotal: 17.3s\tremaining: 1m 9s\n",
            "40:\tlearn: 0.5893914\ttest: 0.5833498\tbest: 0.6002931 (19)\ttotal: 17.7s\tremaining: 1m 8s\n",
            "41:\tlearn: 0.5897230\ttest: 0.5832655\tbest: 0.6002931 (19)\ttotal: 18.2s\tremaining: 1m 8s\n",
            "42:\tlearn: 0.5897953\ttest: 0.5832374\tbest: 0.6002931 (19)\ttotal: 18.6s\tremaining: 1m 7s\n",
            "43:\tlearn: 0.5895643\ttest: 0.5832936\tbest: 0.6002931 (19)\ttotal: 19s\tremaining: 1m 7s\n",
            "44:\tlearn: 0.5903685\ttest: 0.5837273\tbest: 0.6002931 (19)\ttotal: 19.5s\tremaining: 1m 7s\n",
            "45:\tlearn: 0.5903246\ttest: 0.5831188\tbest: 0.6002931 (19)\ttotal: 19.9s\tremaining: 1m 6s\n",
            "46:\tlearn: 0.5904109\ttest: 0.5829440\tbest: 0.6002931 (19)\ttotal: 20.3s\tremaining: 1m 6s\n",
            "47:\tlearn: 0.5906981\ttest: 0.5832655\tbest: 0.6002931 (19)\ttotal: 20.8s\tremaining: 1m 5s\n",
            "48:\tlearn: 0.5910430\ttest: 0.5844534\tbest: 0.6002931 (19)\ttotal: 21.2s\tremaining: 1m 5s\n",
            "49:\tlearn: 0.5912862\ttest: 0.5846839\tbest: 0.6002931 (19)\ttotal: 21.6s\tremaining: 1m 4s\n",
            "50:\tlearn: 0.5917146\ttest: 0.5850887\tbest: 0.6002931 (19)\ttotal: 22s\tremaining: 1m 4s\n",
            "51:\tlearn: 0.6037187\ttest: 0.5951891\tbest: 0.6002931 (19)\ttotal: 22.5s\tremaining: 1m 3s\n",
            "52:\tlearn: 0.6039858\ttest: 0.5951323\tbest: 0.6002931 (19)\ttotal: 22.9s\tremaining: 1m 3s\n",
            "53:\tlearn: 0.6048865\ttest: 0.5955311\tbest: 0.6002931 (19)\ttotal: 23.3s\tremaining: 1m 2s\n",
            "54:\tlearn: 0.6041130\ttest: 0.5957304\tbest: 0.6002931 (19)\ttotal: 23.7s\tremaining: 1m 2s\n",
            "55:\tlearn: 0.6042813\ttest: 0.5955595\tbest: 0.6002931 (19)\ttotal: 24.1s\tremaining: 1m 2s\n",
            "56:\tlearn: 0.6040288\ttest: 0.5956164\tbest: 0.6002931 (19)\ttotal: 24.6s\tremaining: 1m 1s\n",
            "57:\tlearn: 0.6036631\ttest: 0.5951607\tbest: 0.6002931 (19)\ttotal: 25s\tremaining: 1m 1s\n",
            "58:\tlearn: 0.6037617\ttest: 0.5951607\tbest: 0.6002931 (19)\ttotal: 25.4s\tremaining: 1m\n",
            "59:\tlearn: 0.6040431\ttest: 0.5953602\tbest: 0.6002931 (19)\ttotal: 25.9s\tremaining: 1m\n",
            "60:\tlearn: 0.6132316\ttest: 0.6072229\tbest: 0.6072229 (60)\ttotal: 26.3s\tremaining: 59.9s\n",
            "61:\tlearn: 0.6026206\ttest: 0.5980045\tbest: 0.6072229 (60)\ttotal: 26.7s\tremaining: 59.5s\n",
            "62:\tlearn: 0.6022540\ttest: 0.5978343\tbest: 0.6072229 (60)\ttotal: 27.2s\tremaining: 59.1s\n",
            "63:\tlearn: 0.5930024\ttest: 0.5866443\tbest: 0.6072229 (60)\ttotal: 27.6s\tremaining: 58.6s\n",
            "64:\tlearn: 0.5926877\ttest: 0.5862122\tbest: 0.6072229 (60)\ttotal: 28s\tremaining: 58.2s\n",
            "65:\tlearn: 0.6021409\ttest: 0.5978343\tbest: 0.6072229 (60)\ttotal: 28.5s\tremaining: 57.8s\n",
            "66:\tlearn: 0.6021266\ttest: 0.5976641\tbest: 0.6072229 (60)\ttotal: 28.9s\tremaining: 57.4s\n",
            "67:\tlearn: 0.6136494\ttest: 0.6070555\tbest: 0.6072229 (60)\ttotal: 29.3s\tremaining: 56.9s\n",
            "68:\tlearn: 0.6050710\ttest: 0.5999313\tbest: 0.6072229 (60)\ttotal: 29.8s\tremaining: 56.6s\n",
            "69:\tlearn: 0.6056182\ttest: 0.6006376\tbest: 0.6072229 (60)\ttotal: 30.2s\tremaining: 56.1s\n",
            "70:\tlearn: 0.6056038\ttest: 0.6008354\tbest: 0.6072229 (60)\ttotal: 30.7s\tremaining: 55.7s\n",
            "71:\tlearn: 0.6163901\ttest: 0.6098756\tbest: 0.6098756 (71)\ttotal: 31.1s\tremaining: 55.3s\n",
            "72:\tlearn: 0.6165014\ttest: 0.6099332\tbest: 0.6099332 (72)\ttotal: 31.6s\tremaining: 54.9s\n",
            "73:\tlearn: 0.6170142\ttest: 0.6093472\tbest: 0.6099332 (72)\ttotal: 32s\tremaining: 54.4s\n",
            "74:\tlearn: 0.6164336\ttest: 0.6091805\tbest: 0.6099332 (72)\ttotal: 32.4s\tremaining: 54s\n",
            "75:\tlearn: 0.6170529\ttest: 0.6099909\tbest: 0.6099909 (75)\ttotal: 32.9s\tremaining: 53.6s\n",
            "76:\tlearn: 0.6174832\ttest: 0.6093760\tbest: 0.6099909 (75)\ttotal: 33.3s\tremaining: 53.2s\n",
            "77:\tlearn: 0.6177585\ttest: 0.6096002\tbest: 0.6099909 (75)\ttotal: 33.7s\tremaining: 52.7s\n",
            "78:\tlearn: 0.6164191\ttest: 0.6085650\tbest: 0.6099909 (75)\ttotal: 34.1s\tremaining: 52.3s\n",
            "79:\tlearn: 0.6184107\ttest: 0.6107427\tbest: 0.6107427 (79)\ttotal: 34.6s\tremaining: 51.8s\n",
            "80:\tlearn: 0.6179953\ttest: 0.6106630\tbest: 0.6107427 (79)\ttotal: 35s\tremaining: 51.4s\n",
            "81:\tlearn: 0.6178457\ttest: 0.6104967\tbest: 0.6107427 (79)\ttotal: 35.4s\tremaining: 50.9s\n",
            "82:\tlearn: 0.6180389\ttest: 0.6110531\tbest: 0.6110531 (82)\ttotal: 35.8s\tremaining: 50.5s\n",
            "83:\tlearn: 0.6183141\ttest: 0.6108581\tbest: 0.6110531 (82)\ttotal: 36.2s\tremaining: 50s\n",
            "84:\tlearn: 0.6178312\ttest: 0.6107207\tbest: 0.6110531 (82)\ttotal: 36.7s\tremaining: 49.6s\n",
            "85:\tlearn: 0.6178842\ttest: 0.6109158\tbest: 0.6110531 (82)\ttotal: 37.1s\tremaining: 49.2s\n",
            "86:\tlearn: 0.6182175\ttest: 0.6110820\tbest: 0.6110820 (86)\ttotal: 37.5s\tremaining: 48.7s\n",
            "87:\tlearn: 0.6179859\ttest: 0.6109447\tbest: 0.6110820 (86)\ttotal: 37.9s\tremaining: 48.3s\n",
            "88:\tlearn: 0.6181791\ttest: 0.6109735\tbest: 0.6110820 (86)\ttotal: 38.4s\tremaining: 47.9s\n",
            "89:\tlearn: 0.6180150\ttest: 0.6113925\tbest: 0.6113925 (89)\ttotal: 38.8s\tremaining: 47.4s\n",
            "90:\tlearn: 0.6180295\ttest: 0.6106987\tbest: 0.6113925 (89)\ttotal: 39.2s\tremaining: 47s\n",
            "91:\tlearn: 0.6180876\ttest: 0.6103658\tbest: 0.6113925 (89)\ttotal: 39.6s\tremaining: 46.5s\n",
            "92:\tlearn: 0.6180586\ttest: 0.6105323\tbest: 0.6113925 (89)\ttotal: 40s\tremaining: 46.1s\n",
            "93:\tlearn: 0.6182082\ttest: 0.6107275\tbest: 0.6113925 (89)\ttotal: 40.5s\tremaining: 45.7s\n",
            "94:\tlearn: 0.6183338\ttest: 0.6105034\tbest: 0.6113925 (89)\ttotal: 40.9s\tremaining: 45.2s\n",
            "95:\tlearn: 0.6182518\ttest: 0.6111179\tbest: 0.6113925 (89)\ttotal: 41.3s\tremaining: 44.8s\n",
            "96:\tlearn: 0.6180295\ttest: 0.6108939\tbest: 0.6113925 (89)\ttotal: 41.8s\tremaining: 44.3s\n",
            "97:\tlearn: 0.6181791\ttest: 0.6104457\tbest: 0.6113925 (89)\ttotal: 42.2s\tremaining: 43.9s\n",
            "98:\tlearn: 0.6189368\ttest: 0.6105832\tbest: 0.6113925 (89)\ttotal: 42.6s\tremaining: 43.5s\n",
            "99:\tlearn: 0.6187055\ttest: 0.6106121\tbest: 0.6113925 (89)\ttotal: 43s\tremaining: 43s\n",
            "100:\tlearn: 0.6186526\ttest: 0.6105034\tbest: 0.6113925 (89)\ttotal: 43.5s\tremaining: 42.6s\n",
            "101:\tlearn: 0.6195882\ttest: 0.6111756\tbest: 0.6113925 (89)\ttotal: 43.9s\tremaining: 42.2s\n",
            "102:\tlearn: 0.6186526\ttest: 0.6110382\tbest: 0.6113925 (89)\ttotal: 44.3s\tremaining: 41.7s\n",
            "103:\tlearn: 0.6196028\ttest: 0.6117897\tbest: 0.6117897 (103)\ttotal: 44.7s\tremaining: 41.3s\n",
            "104:\tlearn: 0.6191788\ttest: 0.6120135\tbest: 0.6120135 (104)\ttotal: 45.2s\tremaining: 40.9s\n",
            "105:\tlearn: 0.6194827\ttest: 0.6116525\tbest: 0.6120135 (104)\ttotal: 45.6s\tremaining: 40.4s\n",
            "106:\tlearn: 0.6191933\ttest: 0.6112623\tbest: 0.6120135 (104)\ttotal: 46.1s\tremaining: 40s\n",
            "107:\tlearn: 0.6195355\ttest: 0.6113996\tbest: 0.6120135 (104)\ttotal: 46.5s\tremaining: 39.6s\n",
            "108:\tlearn: 0.6197574\ttest: 0.6117897\tbest: 0.6120135 (104)\ttotal: 46.9s\tremaining: 39.2s\n",
            "109:\tlearn: 0.6203209\ttest: 0.6118186\tbest: 0.6120135 (104)\ttotal: 47.4s\tremaining: 38.7s\n",
            "110:\tlearn: 0.6204173\ttest: 0.6122084\tbest: 0.6122084 (110)\ttotal: 47.8s\tremaining: 38.3s\n",
            "111:\tlearn: 0.6201574\ttest: 0.6124033\tbest: 0.6124033 (111)\ttotal: 48.2s\tremaining: 37.9s\n",
            "112:\tlearn: 0.6202538\ttest: 0.6122373\tbest: 0.6124033 (111)\ttotal: 48.7s\tremaining: 37.5s\n",
            "113:\tlearn: 0.6203646\ttest: 0.6115947\tbest: 0.6124033 (111)\ttotal: 49.1s\tremaining: 37s\n",
            "114:\tlearn: 0.6199647\ttest: 0.6116236\tbest: 0.6124033 (111)\ttotal: 49.5s\tremaining: 36.6s\n",
            "115:\tlearn: 0.6204755\ttest: 0.6118764\tbest: 0.6124033 (111)\ttotal: 50s\tremaining: 36.2s\n",
            "116:\tlearn: 0.6208840\ttest: 0.6119846\tbest: 0.6124033 (111)\ttotal: 50.4s\tremaining: 35.8s\n",
            "117:\tlearn: 0.6205864\ttest: 0.6122662\tbest: 0.6124033 (111)\ttotal: 50.8s\tremaining: 35.3s\n",
            "118:\tlearn: 0.6205338\ttest: 0.6120713\tbest: 0.6124033 (111)\ttotal: 51.3s\tremaining: 34.9s\n",
            "119:\tlearn: 0.6209715\ttest: 0.6122662\tbest: 0.6124033 (111)\ttotal: 51.7s\tremaining: 34.5s\n",
            "120:\tlearn: 0.6208752\ttest: 0.6122662\tbest: 0.6124033 (111)\ttotal: 52.1s\tremaining: 34s\n",
            "121:\tlearn: 0.6204375\ttest: 0.6120713\tbest: 0.6124033 (111)\ttotal: 52.5s\tremaining: 33.6s\n",
            "122:\tlearn: 0.6204521\ttest: 0.6124322\tbest: 0.6124322 (122)\ttotal: 53s\tremaining: 33.2s\n",
            "123:\tlearn: 0.6202796\ttest: 0.6128506\tbest: 0.6128506 (123)\ttotal: 53.4s\tremaining: 32.7s\n",
            "124:\tlearn: 0.6205015\ttest: 0.6128506\tbest: 0.6128506 (123)\ttotal: 53.8s\tremaining: 32.3s\n",
            "125:\tlearn: 0.6210122\ttest: 0.6128796\tbest: 0.6128796 (125)\ttotal: 54.2s\tremaining: 31.8s\n",
            "126:\tlearn: 0.6206561\ttest: 0.6131032\tbest: 0.6131032 (126)\ttotal: 54.7s\tremaining: 31.4s\n",
            "127:\tlearn: 0.6206415\ttest: 0.6131032\tbest: 0.6131032 (126)\ttotal: 55.1s\tremaining: 31s\n",
            "128:\tlearn: 0.6207670\ttest: 0.6131032\tbest: 0.6131032 (126)\ttotal: 55.5s\tremaining: 30.5s\n",
            "129:\tlearn: 0.6208634\ttest: 0.6131321\tbest: 0.6131321 (129)\ttotal: 55.9s\tremaining: 30.1s\n",
            "130:\tlearn: 0.6208779\ttest: 0.6131900\tbest: 0.6131900 (130)\ttotal: 56.4s\tremaining: 29.7s\n",
            "131:\tlearn: 0.6285406\ttest: 0.6194212\tbest: 0.6194212 (131)\ttotal: 56.8s\tremaining: 29.3s\n",
            "132:\tlearn: 0.6284894\ttest: 0.6198070\tbest: 0.6198070 (132)\ttotal: 57.2s\tremaining: 28.8s\n",
            "133:\tlearn: 0.6283135\ttest: 0.6196432\tbest: 0.6198070 (132)\ttotal: 57.7s\tremaining: 28.4s\n",
            "134:\tlearn: 0.6288850\ttest: 0.6211847\tbest: 0.6211847 (134)\ttotal: 58.1s\tremaining: 28s\n",
            "135:\tlearn: 0.6292000\ttest: 0.6214063\tbest: 0.6214063 (135)\ttotal: 58.5s\tremaining: 27.5s\n",
            "136:\tlearn: 0.6288997\ttest: 0.6214063\tbest: 0.6214063 (135)\ttotal: 58.9s\tremaining: 27.1s\n",
            "137:\tlearn: 0.6288192\ttest: 0.6210214\tbest: 0.6214063 (135)\ttotal: 59.4s\tremaining: 26.7s\n",
            "138:\tlearn: 0.6287386\ttest: 0.6214063\tbest: 0.6214063 (135)\ttotal: 59.8s\tremaining: 26.2s\n",
            "139:\tlearn: 0.6288632\ttest: 0.6212722\tbest: 0.6214063 (135)\ttotal: 1m\tremaining: 25.8s\n",
            "140:\tlearn: 0.6288339\ttest: 0.6212431\tbest: 0.6214063 (135)\ttotal: 1m\tremaining: 25.4s\n",
            "141:\tlearn: 0.6288339\ttest: 0.6212139\tbest: 0.6214063 (135)\ttotal: 1m 1s\tremaining: 24.9s\n",
            "142:\tlearn: 0.6288339\ttest: 0.6212431\tbest: 0.6214063 (135)\ttotal: 1m 1s\tremaining: 24.5s\n",
            "143:\tlearn: 0.6286580\ttest: 0.6212139\tbest: 0.6214063 (135)\ttotal: 1m 1s\tremaining: 24.1s\n",
            "144:\tlearn: 0.6287386\ttest: 0.6214063\tbest: 0.6214063 (135)\ttotal: 1m 2s\tremaining: 23.7s\n",
            "145:\tlearn: 0.6288632\ttest: 0.6211847\tbest: 0.6214063 (135)\ttotal: 1m 2s\tremaining: 23.2s\n",
            "146:\tlearn: 0.6287827\ttest: 0.6214063\tbest: 0.6214063 (135)\ttotal: 1m 3s\tremaining: 22.8s\n",
            "147:\tlearn: 0.6298296\ttest: 0.6219542\tbest: 0.6219542 (147)\ttotal: 1m 3s\tremaining: 22.4s\n",
            "148:\tlearn: 0.6297492\ttest: 0.6218494\tbest: 0.6219542 (147)\ttotal: 1m 4s\tremaining: 22s\n",
            "149:\tlearn: 0.6300198\ttest: 0.6225599\tbest: 0.6225599 (149)\ttotal: 1m 4s\tremaining: 21.5s\n",
            "150:\tlearn: 0.6301081\ttest: 0.6221756\tbest: 0.6225599 (149)\ttotal: 1m 5s\tremaining: 21.1s\n",
            "151:\tlearn: 0.6307586\ttest: 0.6225599\tbest: 0.6225599 (149)\ttotal: 1m 5s\tremaining: 20.7s\n",
            "152:\tlearn: 0.6305980\ttest: 0.6218203\tbest: 0.6225599 (149)\ttotal: 1m 5s\tremaining: 20.2s\n",
            "153:\tlearn: 0.6303571\ttest: 0.6216571\tbest: 0.6225599 (149)\ttotal: 1m 6s\tremaining: 19.8s\n",
            "154:\tlearn: 0.6303718\ttest: 0.6218030\tbest: 0.6225599 (149)\ttotal: 1m 6s\tremaining: 19.4s\n",
            "155:\tlearn: 0.6305257\ttest: 0.6224384\tbest: 0.6225599 (149)\ttotal: 1m 7s\tremaining: 18.9s\n",
            "156:\tlearn: 0.6304454\ttest: 0.6225722\tbest: 0.6225722 (156)\ttotal: 1m 7s\tremaining: 18.5s\n",
            "157:\tlearn: 0.6307158\ttest: 0.6224092\tbest: 0.6225722 (156)\ttotal: 1m 8s\tremaining: 18.1s\n",
            "158:\tlearn: 0.6307305\ttest: 0.6224092\tbest: 0.6225722 (156)\ttotal: 1m 8s\tremaining: 17.6s\n",
            "159:\tlearn: 0.6311253\ttest: 0.6229857\tbest: 0.6229857 (159)\ttotal: 1m 8s\tremaining: 17.2s\n",
            "160:\tlearn: 0.6315705\ttest: 0.6231778\tbest: 0.6231778 (160)\ttotal: 1m 9s\tremaining: 16.8s\n",
            "161:\tlearn: 0.6321692\ttest: 0.6238577\tbest: 0.6238577 (161)\ttotal: 1m 9s\tremaining: 16.4s\n",
            "162:\tlearn: 0.6320090\ttest: 0.6242998\tbest: 0.6242998 (162)\ttotal: 1m 10s\tremaining: 15.9s\n",
            "163:\tlearn: 0.6327380\ttest: 0.6239162\tbest: 0.6242998 (162)\ttotal: 1m 10s\tremaining: 15.5s\n",
            "164:\tlearn: 0.6332915\ttest: 0.6238870\tbest: 0.6242998 (162)\ttotal: 1m 11s\tremaining: 15.1s\n",
            "165:\tlearn: 0.6330579\ttest: 0.6246245\tbest: 0.6246245 (165)\ttotal: 1m 11s\tremaining: 14.6s\n",
            "166:\tlearn: 0.6330874\ttest: 0.6244329\tbest: 0.6246245 (165)\ttotal: 1m 11s\tremaining: 14.2s\n",
            "167:\tlearn: 0.6334071\ttest: 0.6249783\tbest: 0.6249783 (167)\ttotal: 1m 12s\tremaining: 13.8s\n",
            "168:\tlearn: 0.6332977\ttest: 0.6247868\tbest: 0.6249783 (167)\ttotal: 1m 12s\tremaining: 13.3s\n",
            "169:\tlearn: 0.6333124\ttest: 0.6244329\tbest: 0.6249783 (167)\ttotal: 1m 13s\tremaining: 12.9s\n",
            "170:\tlearn: 0.6334218\ttest: 0.6247868\tbest: 0.6249783 (167)\ttotal: 1m 13s\tremaining: 12.5s\n",
            "171:\tlearn: 0.6334218\ttest: 0.6246538\tbest: 0.6249783 (167)\ttotal: 1m 13s\tremaining: 12s\n",
            "172:\tlearn: 0.6336406\ttest: 0.6252283\tbest: 0.6252283 (172)\ttotal: 1m 14s\tremaining: 11.6s\n",
            "173:\tlearn: 0.6343026\ttest: 0.6259937\tbest: 0.6259937 (173)\ttotal: 1m 14s\tremaining: 11.2s\n",
            "174:\tlearn: 0.6421696\ttest: 0.6317912\tbest: 0.6317912 (174)\ttotal: 1m 15s\tremaining: 10.7s\n",
            "175:\tlearn: 0.6425026\ttest: 0.6323594\tbest: 0.6323594 (175)\ttotal: 1m 15s\tremaining: 10.3s\n",
            "176:\tlearn: 0.6432485\ttest: 0.6325487\tbest: 0.6325487 (176)\ttotal: 1m 16s\tremaining: 9.89s\n",
            "177:\tlearn: 0.6425959\ttest: 0.6325487\tbest: 0.6325487 (176)\ttotal: 1m 16s\tremaining: 9.46s\n",
            "178:\tlearn: 0.6426404\ttest: 0.6323594\tbest: 0.6325487 (176)\ttotal: 1m 16s\tremaining: 9.03s\n",
            "179:\tlearn: 0.6426553\ttest: 0.6325487\tbest: 0.6325487 (176)\ttotal: 1m 17s\tremaining: 8.6s\n",
            "180:\tlearn: 0.6424051\ttest: 0.6321701\tbest: 0.6325487 (176)\ttotal: 1m 17s\tremaining: 8.17s\n",
            "181:\tlearn: 0.6420763\ttest: 0.6318795\tbest: 0.6325487 (176)\ttotal: 1m 18s\tremaining: 7.74s\n",
            "182:\tlearn: 0.6422036\ttest: 0.6324478\tbest: 0.6325487 (176)\ttotal: 1m 18s\tremaining: 7.31s\n",
            "183:\tlearn: 0.6433079\ttest: 0.6327969\tbest: 0.6327969 (183)\ttotal: 1m 19s\tremaining: 6.88s\n",
            "184:\tlearn: 0.6437251\ttest: 0.6328264\tbest: 0.6328264 (184)\ttotal: 1m 19s\tremaining: 6.46s\n",
            "185:\tlearn: 0.6437549\ttest: 0.6325067\tbest: 0.6328264 (184)\ttotal: 1m 20s\tremaining: 6.03s\n",
            "186:\tlearn: 0.6428080\ttest: 0.6319384\tbest: 0.6328264 (184)\ttotal: 1m 20s\tremaining: 5.6s\n",
            "187:\tlearn: 0.6426363\ttest: 0.6318078\tbest: 0.6328264 (184)\ttotal: 1m 20s\tremaining: 5.17s\n",
            "188:\tlearn: 0.6428377\ttest: 0.6326960\tbest: 0.6328264 (184)\ttotal: 1m 21s\tremaining: 4.74s\n",
            "189:\tlearn: 0.6440678\ttest: 0.6336124\tbest: 0.6336124 (189)\ttotal: 1m 21s\tremaining: 4.31s\n",
            "190:\tlearn: 0.6439599\ttest: 0.6332637\tbest: 0.6336124 (189)\ttotal: 1m 22s\tremaining: 3.87s\n",
            "191:\tlearn: 0.6441460\ttest: 0.6329148\tbest: 0.6336124 (189)\ttotal: 1m 22s\tremaining: 3.44s\n",
            "192:\tlearn: 0.6443322\ttest: 0.6334233\tbest: 0.6336124 (189)\ttotal: 1m 23s\tremaining: 3.01s\n",
            "193:\tlearn: 0.6442986\ttest: 0.6332342\tbest: 0.6336124 (189)\ttotal: 1m 23s\tremaining: 2.58s\n",
            "194:\tlearn: 0.6439857\ttest: 0.6325067\tbest: 0.6336124 (189)\ttotal: 1m 23s\tremaining: 2.15s\n",
            "195:\tlearn: 0.6445480\ttest: 0.6328558\tbest: 0.6336124 (189)\ttotal: 1m 24s\tremaining: 1.72s\n",
            "196:\tlearn: 0.6446112\ttest: 0.6332931\tbest: 0.6336124 (189)\ttotal: 1m 24s\tremaining: 1.29s\n",
            "197:\tlearn: 0.6451690\ttest: 0.6337008\tbest: 0.6337008 (197)\ttotal: 1m 25s\tremaining: 860ms\n",
            "198:\tlearn: 0.6462088\ttest: 0.6346571\tbest: 0.6346571 (198)\ttotal: 1m 25s\tremaining: 430ms\n",
            "199:\tlearn: 0.6463794\ttest: 0.6344684\tbest: 0.6346571 (198)\ttotal: 1m 26s\tremaining: 0us\n",
            "\n",
            "bestTest = 0.6346570862\n",
            "bestIteration = 198\n",
            "\n",
            "Training on fold [1/3]\n",
            "0:\tlearn: 0.5272887\ttest: 0.5255686\tbest: 0.5255686 (0)\ttotal: 446ms\tremaining: 1m 28s\n",
            "1:\tlearn: 0.5695280\ttest: 0.5710802\tbest: 0.5710802 (1)\ttotal: 892ms\tremaining: 1m 28s\n",
            "2:\tlearn: 0.5395641\ttest: 0.5423928\tbest: 0.5710802 (1)\ttotal: 1.34s\tremaining: 1m 28s\n",
            "3:\tlearn: 0.5974803\ttest: 0.5971244\tbest: 0.5971244 (3)\ttotal: 1.78s\tremaining: 1m 27s\n",
            "4:\tlearn: 0.5979060\ttest: 0.5986288\tbest: 0.5986288 (4)\ttotal: 2.22s\tremaining: 1m 26s\n",
            "5:\tlearn: 0.5963420\ttest: 0.5966413\tbest: 0.5986288 (4)\ttotal: 2.66s\tremaining: 1m 25s\n",
            "6:\tlearn: 0.5936833\ttest: 0.5945296\tbest: 0.5986288 (4)\ttotal: 3.11s\tremaining: 1m 25s\n",
            "7:\tlearn: 0.5790369\ttest: 0.5812616\tbest: 0.5986288 (4)\ttotal: 3.55s\tremaining: 1m 25s\n",
            "8:\tlearn: 0.5933818\ttest: 0.5941578\tbest: 0.5986288 (4)\ttotal: 4s\tremaining: 1m 24s\n",
            "9:\tlearn: 0.5935973\ttest: 0.5942726\tbest: 0.5986288 (4)\ttotal: 4.42s\tremaining: 1m 24s\n",
            "10:\tlearn: 0.5936258\ttest: 0.5941578\tbest: 0.5986288 (4)\ttotal: 4.85s\tremaining: 1m 23s\n",
            "11:\tlearn: 0.5931812\ttest: 0.5933849\tbest: 0.5986288 (4)\ttotal: 5.28s\tremaining: 1m 22s\n",
            "12:\tlearn: 0.5958571\ttest: 0.5960431\tbest: 0.5986288 (4)\ttotal: 5.7s\tremaining: 1m 22s\n",
            "13:\tlearn: 0.5939276\ttest: 0.5943589\tbest: 0.5986288 (4)\ttotal: 6.16s\tremaining: 1m 21s\n",
            "14:\tlearn: 0.5982033\ttest: 0.5974652\tbest: 0.5986288 (4)\ttotal: 6.59s\tremaining: 1m 21s\n",
            "15:\tlearn: 0.5820513\ttest: 0.5837715\tbest: 0.5986288 (4)\ttotal: 7.03s\tremaining: 1m 20s\n",
            "16:\tlearn: 0.5842307\ttest: 0.5852012\tbest: 0.5986288 (4)\ttotal: 7.46s\tremaining: 1m 20s\n",
            "17:\tlearn: 0.5821390\ttest: 0.5834842\tbest: 0.5986288 (4)\ttotal: 7.89s\tremaining: 1m 19s\n",
            "18:\tlearn: 0.5976080\ttest: 0.5966981\tbest: 0.5986288 (4)\ttotal: 8.33s\tremaining: 1m 19s\n",
            "19:\tlearn: 0.5815283\ttest: 0.5826999\tbest: 0.5986288 (4)\ttotal: 8.75s\tremaining: 1m 18s\n",
            "20:\tlearn: 0.5837852\ttest: 0.5839803\tbest: 0.5986288 (4)\ttotal: 9.19s\tremaining: 1m 18s\n",
            "21:\tlearn: 0.5836415\ttest: 0.5847628\tbest: 0.5986288 (4)\ttotal: 9.62s\tremaining: 1m 17s\n",
            "22:\tlearn: 0.5835792\ttest: 0.5844139\tbest: 0.5986288 (4)\ttotal: 10.1s\tremaining: 1m 17s\n",
            "23:\tlearn: 0.5840954\ttest: 0.5850270\tbest: 0.5986288 (4)\ttotal: 10.5s\tremaining: 1m 17s\n",
            "24:\tlearn: 0.5838474\ttest: 0.5849090\tbest: 0.5986288 (4)\ttotal: 10.9s\tremaining: 1m 16s\n",
            "25:\tlearn: 0.5848637\ttest: 0.5855776\tbest: 0.5986288 (4)\ttotal: 11.4s\tremaining: 1m 16s\n",
            "26:\tlearn: 0.5983321\ttest: 0.5975222\tbest: 0.5986288 (4)\ttotal: 11.8s\tremaining: 1m 15s\n",
            "27:\tlearn: 0.5984161\ttest: 0.5981747\tbest: 0.5986288 (4)\ttotal: 12.3s\tremaining: 1m 15s\n",
            "28:\tlearn: 0.5984161\ttest: 0.5979760\tbest: 0.5986288 (4)\ttotal: 12.7s\tremaining: 1m 14s\n",
            "29:\tlearn: 0.5987705\ttest: 0.5973228\tbest: 0.5986288 (4)\ttotal: 13.1s\tremaining: 1m 14s\n",
            "30:\tlearn: 0.5986712\ttest: 0.5972374\tbest: 0.5986288 (4)\ttotal: 13.6s\tremaining: 1m 14s\n",
            "31:\tlearn: 0.5982175\ttest: 0.5973513\tbest: 0.5986288 (4)\ttotal: 14s\tremaining: 1m 13s\n",
            "32:\tlearn: 0.5974936\ttest: 0.5965840\tbest: 0.5986288 (4)\ttotal: 14.4s\tremaining: 1m 13s\n",
            "33:\tlearn: 0.5849227\ttest: 0.5851168\tbest: 0.5986288 (4)\ttotal: 14.9s\tremaining: 1m 12s\n",
            "34:\tlearn: 0.5981186\ttest: 0.5971809\tbest: 0.5986288 (4)\ttotal: 15.3s\tremaining: 1m 12s\n",
            "35:\tlearn: 0.5985873\ttest: 0.5970959\tbest: 0.5986288 (4)\ttotal: 15.7s\tremaining: 1m 11s\n",
            "36:\tlearn: 0.5989702\ttest: 0.5968399\tbest: 0.5986288 (4)\ttotal: 16.1s\tremaining: 1m 11s\n",
            "37:\tlearn: 0.5990124\ttest: 0.5980615\tbest: 0.5986288 (4)\ttotal: 16.6s\tremaining: 1m 10s\n",
            "38:\tlearn: 0.5989274\ttest: 0.5980330\tbest: 0.5986288 (4)\ttotal: 17.1s\tremaining: 1m 10s\n",
            "39:\tlearn: 0.5991680\ttest: 0.5981747\tbest: 0.5986288 (4)\ttotal: 17.5s\tremaining: 1m 10s\n",
            "40:\tlearn: 0.5993236\ttest: 0.5985718\tbest: 0.5986288 (4)\ttotal: 17.9s\tremaining: 1m 9s\n",
            "41:\tlearn: 0.5996219\ttest: 0.5982887\tbest: 0.5986288 (4)\ttotal: 18.4s\tremaining: 1m 9s\n",
            "42:\tlearn: 0.5995648\ttest: 0.5980615\tbest: 0.5986288 (4)\ttotal: 18.8s\tremaining: 1m 8s\n",
            "43:\tlearn: 0.6000604\ttest: 0.5994224\tbest: 0.5994224 (43)\ttotal: 19.3s\tremaining: 1m 8s\n",
            "44:\tlearn: 0.6000470\ttest: 0.5992241\tbest: 0.5994224 (43)\ttotal: 19.7s\tremaining: 1m 7s\n",
            "45:\tlearn: 0.5998210\ttest: 0.5980330\tbest: 0.5994224 (43)\ttotal: 20.2s\tremaining: 1m 7s\n",
            "46:\tlearn: 0.5995386\ttest: 0.5980900\tbest: 0.5994224 (43)\ttotal: 20.6s\tremaining: 1m 7s\n",
            "47:\tlearn: 0.5995235\ttest: 0.5982602\tbest: 0.5994224 (43)\ttotal: 21s\tremaining: 1m 6s\n",
            "48:\tlearn: 0.5994806\ttest: 0.5986859\tbest: 0.5994224 (43)\ttotal: 21.4s\tremaining: 1m 6s\n",
            "49:\tlearn: 0.5995378\ttest: 0.5986573\tbest: 0.5994224 (43)\ttotal: 21.9s\tremaining: 1m 5s\n",
            "50:\tlearn: 0.5996655\ttest: 0.5987144\tbest: 0.5994224 (43)\ttotal: 22.3s\tremaining: 1m 5s\n",
            "51:\tlearn: 0.5994822\ttest: 0.5988856\tbest: 0.5994224 (43)\ttotal: 22.7s\tremaining: 1m 4s\n",
            "52:\tlearn: 0.5995814\ttest: 0.5986585\tbest: 0.5994224 (43)\ttotal: 23.1s\tremaining: 1m 4s\n",
            "53:\tlearn: 0.6003329\ttest: 0.5995096\tbest: 0.5995096 (53)\ttotal: 23.6s\tremaining: 1m 3s\n",
            "54:\tlearn: 0.6005873\ttest: 0.5998491\tbest: 0.5998491 (54)\ttotal: 24s\tremaining: 1m 3s\n",
            "55:\tlearn: 0.6004177\ttest: 0.5998777\tbest: 0.5998777 (55)\ttotal: 24.4s\tremaining: 1m 2s\n",
            "56:\tlearn: 0.5996949\ttest: 0.5992255\tbest: 0.5998777 (55)\ttotal: 24.9s\tremaining: 1m 2s\n",
            "57:\tlearn: 0.5994401\ttest: 0.5990841\tbest: 0.5998777 (55)\ttotal: 25.3s\tremaining: 1m 1s\n",
            "58:\tlearn: 0.5992987\ttest: 0.5991127\tbest: 0.5998777 (55)\ttotal: 25.7s\tremaining: 1m 1s\n",
            "59:\tlearn: 0.5993408\ttest: 0.5991698\tbest: 0.5998777 (55)\ttotal: 26.2s\tremaining: 1m 1s\n",
            "60:\tlearn: 0.5992558\ttest: 0.5991984\tbest: 0.5998777 (55)\ttotal: 26.6s\tremaining: 1m\n",
            "61:\tlearn: 0.5993980\ttest: 0.5988298\tbest: 0.5998777 (55)\ttotal: 27s\tremaining: 1m\n",
            "62:\tlearn: 0.5994409\ttest: 0.5988012\tbest: 0.5998777 (55)\ttotal: 27.5s\tremaining: 59.7s\n",
            "63:\tlearn: 0.5993551\ttest: 0.5988012\tbest: 0.5998777 (55)\ttotal: 27.9s\tremaining: 59.2s\n",
            "64:\tlearn: 0.5996394\ttest: 0.5990284\tbest: 0.5998777 (55)\ttotal: 28.3s\tremaining: 58.8s\n",
            "65:\tlearn: 0.5999800\ttest: 0.5991984\tbest: 0.5998777 (55)\ttotal: 28.7s\tremaining: 58.4s\n",
            "66:\tlearn: 0.6004044\ttest: 0.5997937\tbest: 0.5998777 (55)\ttotal: 29.2s\tremaining: 57.9s\n",
            "67:\tlearn: 0.6000220\ttest: 0.5993969\tbest: 0.5998777 (55)\ttotal: 29.6s\tremaining: 57.5s\n",
            "68:\tlearn: 0.6006323\ttest: 0.6000492\tbest: 0.6000492 (68)\ttotal: 30s\tremaining: 57s\n",
            "69:\tlearn: 0.6005045\ttest: 0.5996239\tbest: 0.6000492 (68)\ttotal: 30.5s\tremaining: 56.6s\n",
            "70:\tlearn: 0.6003338\ttest: 0.5997937\tbest: 0.6000492 (68)\ttotal: 30.9s\tremaining: 56.2s\n",
            "71:\tlearn: 0.6005475\ttest: 0.5992269\tbest: 0.6000492 (68)\ttotal: 31.3s\tremaining: 55.7s\n",
            "72:\tlearn: 0.6005771\ttest: 0.5991141\tbest: 0.6000492 (68)\ttotal: 31.8s\tremaining: 55.3s\n",
            "73:\tlearn: 0.6008449\ttest: 0.5989998\tbest: 0.6000492 (68)\ttotal: 32.2s\tremaining: 54.8s\n",
            "74:\tlearn: 0.6008316\ttest: 0.5987727\tbest: 0.6000492 (68)\ttotal: 32.6s\tremaining: 54.4s\n",
            "75:\tlearn: 0.6009737\ttest: 0.5994540\tbest: 0.6000492 (68)\ttotal: 33.1s\tremaining: 54s\n",
            "76:\tlearn: 0.6010442\ttest: 0.6002189\tbest: 0.6002189 (76)\ttotal: 33.5s\tremaining: 53.6s\n",
            "77:\tlearn: 0.6008592\ttest: 0.6000206\tbest: 0.6002189 (76)\ttotal: 34s\tremaining: 53.1s\n",
            "78:\tlearn: 0.6014405\ttest: 0.6008134\tbest: 0.6008134 (78)\ttotal: 34.4s\tremaining: 52.7s\n",
            "79:\tlearn: 0.6012567\ttest: 0.6004171\tbest: 0.6008134 (78)\ttotal: 34.8s\tremaining: 52.3s\n",
            "80:\tlearn: 0.6011135\ttest: 0.6006153\tbest: 0.6008134 (78)\ttotal: 35.3s\tremaining: 51.8s\n",
            "81:\tlearn: 0.6013689\ttest: 0.6006439\tbest: 0.6008134 (78)\ttotal: 35.7s\tremaining: 51.4s\n",
            "82:\tlearn: 0.6014262\ttest: 0.6008420\tbest: 0.6008420 (82)\ttotal: 36.1s\tremaining: 51s\n",
            "83:\tlearn: 0.6014405\ttest: 0.6008992\tbest: 0.6008992 (83)\ttotal: 36.6s\tremaining: 50.5s\n",
            "84:\tlearn: 0.6015109\ttest: 0.6012380\tbest: 0.6012380 (84)\ttotal: 37s\tremaining: 50.1s\n",
            "85:\tlearn: 0.6019213\ttest: 0.6012666\tbest: 0.6012666 (85)\ttotal: 37.4s\tremaining: 49.6s\n",
            "86:\tlearn: 0.6017506\ttest: 0.6016625\tbest: 0.6016625 (86)\ttotal: 37.8s\tremaining: 49.2s\n",
            "87:\tlearn: 0.6016243\ttest: 0.6016339\tbest: 0.6016625 (86)\ttotal: 38.3s\tremaining: 48.7s\n",
            "88:\tlearn: 0.6017806\ttest: 0.6015505\tbest: 0.6016625 (86)\ttotal: 38.7s\tremaining: 48.3s\n",
            "89:\tlearn: 0.6023472\ttest: 0.6018603\tbest: 0.6018603 (89)\ttotal: 39.1s\tremaining: 47.8s\n",
            "90:\tlearn: 0.6025594\ttest: 0.6018890\tbest: 0.6018890 (90)\ttotal: 39.6s\tremaining: 47.4s\n",
            "91:\tlearn: 0.6031671\ttest: 0.6026225\tbest: 0.6026225 (91)\ttotal: 40s\tremaining: 46.9s\n",
            "92:\tlearn: 0.6032803\ttest: 0.6027914\tbest: 0.6027914 (92)\ttotal: 40.4s\tremaining: 46.5s\n",
            "93:\tlearn: 0.6029694\ttest: 0.6024822\tbest: 0.6027914 (92)\ttotal: 40.8s\tremaining: 46.1s\n",
            "94:\tlearn: 0.6029694\ttest: 0.6021154\tbest: 0.6027914 (92)\ttotal: 41.3s\tremaining: 45.6s\n",
            "95:\tlearn: 0.6031097\ttest: 0.6024535\tbest: 0.6027914 (92)\ttotal: 41.7s\tremaining: 45.2s\n",
            "96:\tlearn: 0.6030252\ttest: 0.6025395\tbest: 0.6027914 (92)\ttotal: 42.2s\tremaining: 44.8s\n",
            "97:\tlearn: 0.6029263\ttest: 0.6023131\tbest: 0.6027914 (92)\ttotal: 42.6s\tremaining: 44.3s\n",
            "98:\tlearn: 0.6028976\ttest: 0.6022558\tbest: 0.6027914 (92)\ttotal: 43s\tremaining: 43.9s\n",
            "99:\tlearn: 0.6042803\ttest: 0.6035810\tbest: 0.6035810 (99)\ttotal: 43.4s\tremaining: 43.4s\n",
            "100:\tlearn: 0.6038999\ttest: 0.6028200\tbest: 0.6035810 (99)\ttotal: 43.9s\tremaining: 43s\n",
            "101:\tlearn: 0.6040830\ttest: 0.6028487\tbest: 0.6035810 (99)\ttotal: 44.3s\tremaining: 42.6s\n",
            "102:\tlearn: 0.6040274\ttest: 0.6032436\tbest: 0.6035810 (99)\ttotal: 44.7s\tremaining: 42.1s\n",
            "103:\tlearn: 0.6041136\ttest: 0.6029347\tbest: 0.6035810 (99)\ttotal: 45.2s\tremaining: 41.7s\n",
            "104:\tlearn: 0.6040705\ttest: 0.6027371\tbest: 0.6035810 (99)\ttotal: 45.6s\tremaining: 41.3s\n",
            "105:\tlearn: 0.6041692\ttest: 0.6031035\tbest: 0.6035810 (99)\ttotal: 46s\tremaining: 40.8s\n",
            "106:\tlearn: 0.6039861\ttest: 0.6029060\tbest: 0.6035810 (99)\ttotal: 46.5s\tremaining: 40.4s\n",
            "107:\tlearn: 0.6038173\ttest: 0.6027085\tbest: 0.6035810 (99)\ttotal: 46.9s\tremaining: 40s\n",
            "108:\tlearn: 0.6038030\ttest: 0.6027085\tbest: 0.6035810 (99)\ttotal: 47.3s\tremaining: 39.5s\n",
            "109:\tlearn: 0.6035497\ttest: 0.6027085\tbest: 0.6035810 (99)\ttotal: 47.8s\tremaining: 39.1s\n",
            "110:\tlearn: 0.6040579\ttest: 0.6029060\tbest: 0.6035810 (99)\ttotal: 48.2s\tremaining: 38.7s\n",
            "111:\tlearn: 0.6041011\ttest: 0.6027371\tbest: 0.6035810 (99)\ttotal: 48.7s\tremaining: 38.3s\n",
            "112:\tlearn: 0.6037347\ttest: 0.6025395\tbest: 0.6035810 (99)\ttotal: 49.1s\tremaining: 37.8s\n",
            "113:\tlearn: 0.6033825\ttest: 0.6023705\tbest: 0.6035810 (99)\ttotal: 49.6s\tremaining: 37.4s\n",
            "114:\tlearn: 0.6035676\ttest: 0.6025682\tbest: 0.6035810 (99)\ttotal: 50s\tremaining: 37s\n",
            "115:\tlearn: 0.6046829\ttest: 0.6033584\tbest: 0.6035810 (99)\ttotal: 50.4s\tremaining: 36.5s\n",
            "116:\tlearn: 0.6138708\ttest: 0.6144935\tbest: 0.6144935 (116)\ttotal: 50.9s\tremaining: 36.1s\n",
            "117:\tlearn: 0.6140656\ttest: 0.6146588\tbest: 0.6146588 (117)\ttotal: 51.3s\tremaining: 35.7s\n",
            "118:\tlearn: 0.6139682\ttest: 0.6146298\tbest: 0.6146588 (117)\ttotal: 51.7s\tremaining: 35.2s\n",
            "119:\tlearn: 0.6140365\ttest: 0.6150182\tbest: 0.6150182 (119)\ttotal: 52.2s\tremaining: 34.8s\n",
            "120:\tlearn: 0.6147178\ttest: 0.6154353\tbest: 0.6154353 (120)\ttotal: 52.6s\tremaining: 34.4s\n",
            "121:\tlearn: 0.6153839\ttest: 0.6166274\tbest: 0.6166274 (121)\ttotal: 53.1s\tremaining: 33.9s\n",
            "122:\tlearn: 0.6158987\ttest: 0.6173146\tbest: 0.6173146 (122)\ttotal: 53.5s\tremaining: 33.5s\n",
            "123:\tlearn: 0.6160249\ttest: 0.6171211\tbest: 0.6173146 (122)\ttotal: 53.9s\tremaining: 33.1s\n",
            "124:\tlearn: 0.6159423\ttest: 0.6173146\tbest: 0.6173146 (122)\ttotal: 54.4s\tremaining: 32.6s\n",
            "125:\tlearn: 0.6164666\ttest: 0.6172565\tbest: 0.6173146 (122)\ttotal: 54.8s\tremaining: 32.2s\n",
            "126:\tlearn: 0.6163161\ttest: 0.6170921\tbest: 0.6173146 (122)\ttotal: 55.2s\tremaining: 31.7s\n",
            "127:\tlearn: 0.6164957\ttest: 0.6171211\tbest: 0.6173146 (122)\ttotal: 55.7s\tremaining: 31.3s\n",
            "128:\tlearn: 0.6164132\ttest: 0.6171792\tbest: 0.6173146 (122)\ttotal: 56.1s\tremaining: 30.9s\n",
            "129:\tlearn: 0.6167043\ttest: 0.6172083\tbest: 0.6173146 (122)\ttotal: 56.5s\tremaining: 30.4s\n",
            "130:\tlearn: 0.6164568\ttest: 0.6172083\tbest: 0.6173146 (122)\ttotal: 57s\tremaining: 30s\n",
            "131:\tlearn: 0.6165684\ttest: 0.6172083\tbest: 0.6173146 (122)\ttotal: 57.4s\tremaining: 29.6s\n",
            "132:\tlearn: 0.6169564\ttest: 0.6172373\tbest: 0.6173146 (122)\ttotal: 57.8s\tremaining: 29.1s\n",
            "133:\tlearn: 0.6171649\ttest: 0.6172373\tbest: 0.6173146 (122)\ttotal: 58.3s\tremaining: 28.7s\n",
            "134:\tlearn: 0.6169710\ttest: 0.6179340\tbest: 0.6179340 (134)\ttotal: 58.7s\tremaining: 28.3s\n",
            "135:\tlearn: 0.6167770\ttest: 0.6177697\tbest: 0.6179340 (134)\ttotal: 59.1s\tremaining: 27.8s\n",
            "136:\tlearn: 0.6170534\ttest: 0.6176824\tbest: 0.6179340 (134)\ttotal: 59.6s\tremaining: 27.4s\n",
            "137:\tlearn: 0.6170389\ttest: 0.6177697\tbest: 0.6179340 (134)\ttotal: 60s\tremaining: 26.9s\n",
            "138:\tlearn: 0.6171504\ttest: 0.6185430\tbest: 0.6185430 (138)\ttotal: 1m\tremaining: 26.5s\n",
            "139:\tlearn: 0.6174849\ttest: 0.6187945\tbest: 0.6187945 (139)\ttotal: 1m\tremaining: 26.1s\n",
            "140:\tlearn: 0.6174607\ttest: 0.6188527\tbest: 0.6188527 (140)\ttotal: 1m 1s\tremaining: 25.6s\n",
            "141:\tlearn: 0.6169759\ttest: 0.6181376\tbest: 0.6188527 (140)\ttotal: 1m 1s\tremaining: 25.2s\n",
            "142:\tlearn: 0.6168934\ttest: 0.6181085\tbest: 0.6188527 (140)\ttotal: 1m 2s\tremaining: 24.8s\n",
            "143:\tlearn: 0.6174075\ttest: 0.6182437\tbest: 0.6188527 (140)\ttotal: 1m 2s\tremaining: 24.3s\n",
            "144:\tlearn: 0.6173396\ttest: 0.6192099\tbest: 0.6192099 (144)\ttotal: 1m 3s\tremaining: 23.9s\n",
            "145:\tlearn: 0.6179744\ttest: 0.6194029\tbest: 0.6194029 (145)\ttotal: 1m 3s\tremaining: 23.5s\n",
            "146:\tlearn: 0.6178243\ttest: 0.6193738\tbest: 0.6194029 (145)\ttotal: 1m 3s\tremaining: 23s\n",
            "147:\tlearn: 0.6178098\ttest: 0.6193447\tbest: 0.6194029 (145)\ttotal: 1m 4s\tremaining: 22.6s\n",
            "148:\tlearn: 0.6175627\ttest: 0.6190167\tbest: 0.6194029 (145)\ttotal: 1m 4s\tremaining: 22.2s\n",
            "149:\tlearn: 0.6179941\ttest: 0.6186303\tbest: 0.6194029 (145)\ttotal: 1m 5s\tremaining: 21.7s\n",
            "150:\tlearn: 0.6183816\ttest: 0.6188236\tbest: 0.6194029 (145)\ttotal: 1m 5s\tremaining: 21.3s\n",
            "151:\tlearn: 0.6186044\ttest: 0.6188236\tbest: 0.6194029 (145)\ttotal: 1m 6s\tremaining: 20.9s\n",
            "152:\tlearn: 0.6184347\ttest: 0.6187945\tbest: 0.6194029 (145)\ttotal: 1m 6s\tremaining: 20.4s\n",
            "153:\tlearn: 0.6187835\ttest: 0.6182728\tbest: 0.6194029 (145)\ttotal: 1m 6s\tremaining: 20s\n",
            "154:\tlearn: 0.6192235\ttest: 0.6190167\tbest: 0.6194029 (145)\ttotal: 1m 7s\tremaining: 19.6s\n",
            "155:\tlearn: 0.6192381\ttest: 0.6195959\tbest: 0.6195959 (155)\ttotal: 1m 7s\tremaining: 19.1s\n",
            "156:\tlearn: 0.6192381\ttest: 0.6196251\tbest: 0.6196251 (156)\ttotal: 1m 8s\tremaining: 18.7s\n",
            "157:\tlearn: 0.6191559\ttest: 0.6194029\tbest: 0.6196251 (156)\ttotal: 1m 8s\tremaining: 18.3s\n",
            "158:\tlearn: 0.6191705\ttest: 0.6194029\tbest: 0.6196251 (156)\ttotal: 1m 9s\tremaining: 17.8s\n",
            "159:\tlearn: 0.6188126\ttest: 0.6194320\tbest: 0.6196251 (156)\ttotal: 1m 9s\tremaining: 17.4s\n",
            "160:\tlearn: 0.6191321\ttest: 0.6192390\tbest: 0.6196251 (156)\ttotal: 1m 9s\tremaining: 17s\n",
            "161:\tlearn: 0.6195336\ttest: 0.6200109\tbest: 0.6200109 (161)\ttotal: 1m 10s\tremaining: 16.5s\n",
            "162:\tlearn: 0.6196157\ttest: 0.6198472\tbest: 0.6200109 (161)\ttotal: 1m 10s\tremaining: 16.1s\n",
            "163:\tlearn: 0.6196595\ttest: 0.6198472\tbest: 0.6200109 (161)\ttotal: 1m 11s\tremaining: 15.6s\n",
            "164:\tlearn: 0.6202541\ttest: 0.6209746\tbest: 0.6209746 (164)\ttotal: 1m 11s\tremaining: 15.2s\n",
            "165:\tlearn: 0.6202979\ttest: 0.6212256\tbest: 0.6212256 (165)\ttotal: 1m 12s\tremaining: 14.8s\n",
            "166:\tlearn: 0.6206023\ttest: 0.6206476\tbest: 0.6212256 (165)\ttotal: 1m 12s\tremaining: 14.3s\n",
            "167:\tlearn: 0.6206315\ttest: 0.6202912\tbest: 0.6212256 (165)\ttotal: 1m 12s\tremaining: 13.9s\n",
            "168:\tlearn: 0.6207427\ttest: 0.6204841\tbest: 0.6212256 (165)\ttotal: 1m 13s\tremaining: 13.5s\n",
            "169:\tlearn: 0.6272340\ttest: 0.6266551\tbest: 0.6266551 (169)\ttotal: 1m 13s\tremaining: 13s\n",
            "170:\tlearn: 0.6272047\ttest: 0.6268168\tbest: 0.6268168 (170)\ttotal: 1m 14s\tremaining: 12.6s\n",
            "171:\tlearn: 0.6273297\ttest: 0.6268461\tbest: 0.6268461 (171)\ttotal: 1m 14s\tremaining: 12.2s\n",
            "172:\tlearn: 0.6271531\ttest: 0.6267874\tbest: 0.6268461 (171)\ttotal: 1m 15s\tremaining: 11.7s\n",
            "173:\tlearn: 0.6275062\ttest: 0.6271107\tbest: 0.6271107 (173)\ttotal: 1m 15s\tremaining: 11.3s\n",
            "174:\tlearn: 0.6273444\ttest: 0.6271107\tbest: 0.6271107 (173)\ttotal: 1m 15s\tremaining: 10.9s\n",
            "175:\tlearn: 0.6271678\ttest: 0.6269491\tbest: 0.6271107 (173)\ttotal: 1m 16s\tremaining: 10.4s\n",
            "176:\tlearn: 0.6274841\ttest: 0.6273896\tbest: 0.6273896 (176)\ttotal: 1m 16s\tremaining: 9.98s\n",
            "177:\tlearn: 0.6229602\ttest: 0.6227936\tbest: 0.6273896 (176)\ttotal: 1m 17s\tremaining: 9.55s\n",
            "178:\tlearn: 0.6231673\ttest: 0.6222462\tbest: 0.6273896 (176)\ttotal: 1m 17s\tremaining: 9.11s\n",
            "179:\tlearn: 0.6288216\ttest: 0.6272867\tbest: 0.6273896 (176)\ttotal: 1m 18s\tremaining: 8.68s\n",
            "180:\tlearn: 0.6285205\ttest: 0.6272867\tbest: 0.6273896 (176)\ttotal: 1m 18s\tremaining: 8.24s\n",
            "181:\tlearn: 0.6283148\ttest: 0.6276978\tbest: 0.6276978 (181)\ttotal: 1m 18s\tremaining: 7.81s\n",
            "182:\tlearn: 0.6284545\ttest: 0.6274776\tbest: 0.6276978 (181)\ttotal: 1m 19s\tremaining: 7.38s\n",
            "183:\tlearn: 0.6289171\ttest: 0.6276685\tbest: 0.6276978 (181)\ttotal: 1m 19s\tremaining: 6.94s\n",
            "184:\tlearn: 0.6300613\ttest: 0.6285632\tbest: 0.6285632 (184)\ttotal: 1m 20s\tremaining: 6.51s\n",
            "185:\tlearn: 0.6298707\ttest: 0.6283432\tbest: 0.6285632 (184)\ttotal: 1m 20s\tremaining: 6.08s\n",
            "186:\tlearn: 0.6302370\ttest: 0.6284020\tbest: 0.6285632 (184)\ttotal: 1m 21s\tremaining: 5.64s\n",
            "187:\tlearn: 0.6308230\ttest: 0.6283726\tbest: 0.6285632 (184)\ttotal: 1m 21s\tremaining: 5.21s\n",
            "188:\tlearn: 0.6306179\ttest: 0.6285632\tbest: 0.6285632 (184)\ttotal: 1m 22s\tremaining: 4.77s\n",
            "189:\tlearn: 0.6304422\ttest: 0.6283726\tbest: 0.6285632 (184)\ttotal: 1m 22s\tremaining: 4.34s\n",
            "190:\tlearn: 0.6303470\ttest: 0.6281526\tbest: 0.6285632 (184)\ttotal: 1m 22s\tremaining: 3.91s\n",
            "191:\tlearn: 0.6304275\ttest: 0.6279619\tbest: 0.6285632 (184)\ttotal: 1m 23s\tremaining: 3.47s\n",
            "192:\tlearn: 0.6303028\ttest: 0.6285632\tbest: 0.6285632 (184)\ttotal: 1m 23s\tremaining: 3.04s\n",
            "193:\tlearn: 0.6310937\ttest: 0.6285338\tbest: 0.6285632 (184)\ttotal: 1m 24s\tremaining: 2.6s\n",
            "194:\tlearn: 0.6316642\ttest: 0.6288854\tbest: 0.6288854 (194)\ttotal: 1m 24s\tremaining: 2.17s\n",
            "195:\tlearn: 0.6314741\ttest: 0.6288854\tbest: 0.6288854 (194)\ttotal: 1m 25s\tremaining: 1.74s\n",
            "196:\tlearn: 0.6314085\ttest: 0.6283432\tbest: 0.6288854 (194)\ttotal: 1m 25s\tremaining: 1.3s\n",
            "197:\tlearn: 0.6317592\ttest: 0.6285632\tbest: 0.6288854 (194)\ttotal: 1m 25s\tremaining: 868ms\n",
            "198:\tlearn: 0.6318542\ttest: 0.6292662\tbest: 0.6292662 (198)\ttotal: 1m 26s\tremaining: 434ms\n",
            "199:\tlearn: 0.6324895\ttest: 0.6296467\tbest: 0.6296467 (199)\ttotal: 1m 26s\tremaining: 0us\n",
            "\n",
            "bestTest = 0.6296467038\n",
            "bestIteration = 199\n",
            "\n",
            "Training on fold [2/3]\n",
            "0:\tlearn: 0.5322653\ttest: 0.5330222\tbest: 0.5330222 (0)\ttotal: 446ms\tremaining: 1m 28s\n",
            "1:\tlearn: 0.5992326\ttest: 0.5979525\tbest: 0.5979525 (1)\ttotal: 868ms\tremaining: 1m 25s\n",
            "2:\tlearn: 0.5611035\ttest: 0.5611045\tbest: 0.5979525 (1)\ttotal: 1.29s\tremaining: 1m 24s\n",
            "3:\tlearn: 0.5817181\ttest: 0.5864604\tbest: 0.5979525 (1)\ttotal: 1.73s\tremaining: 1m 24s\n",
            "4:\tlearn: 0.5535625\ttest: 0.5536966\tbest: 0.5979525 (1)\ttotal: 2.16s\tremaining: 1m 24s\n",
            "5:\tlearn: 0.5716924\ttest: 0.5693316\tbest: 0.5979525 (1)\ttotal: 2.58s\tremaining: 1m 23s\n",
            "6:\tlearn: 0.5708938\ttest: 0.5694447\tbest: 0.5979525 (1)\ttotal: 3.01s\tremaining: 1m 22s\n",
            "7:\tlearn: 0.5816235\ttest: 0.5848528\tbest: 0.5979525 (1)\ttotal: 3.45s\tremaining: 1m 22s\n",
            "8:\tlearn: 0.5811248\ttest: 0.5832836\tbest: 0.5979525 (1)\ttotal: 3.89s\tremaining: 1m 22s\n",
            "9:\tlearn: 0.5817847\ttest: 0.5835336\tbest: 0.5979525 (1)\ttotal: 4.33s\tremaining: 1m 22s\n",
            "10:\tlearn: 0.5544688\ttest: 0.5541632\tbest: 0.5979525 (1)\ttotal: 4.76s\tremaining: 1m 21s\n",
            "11:\tlearn: 0.5790647\ttest: 0.5799651\tbest: 0.5979525 (1)\ttotal: 5.2s\tremaining: 1m 21s\n",
            "12:\tlearn: 0.5815254\ttest: 0.5828051\tbest: 0.5979525 (1)\ttotal: 5.64s\tremaining: 1m 21s\n",
            "13:\tlearn: 0.5824884\ttest: 0.5846102\tbest: 0.5979525 (1)\ttotal: 6.1s\tremaining: 1m 21s\n",
            "14:\tlearn: 0.5791249\ttest: 0.5807052\tbest: 0.5979525 (1)\ttotal: 6.54s\tremaining: 1m 20s\n",
            "15:\tlearn: 0.5560886\ttest: 0.5566984\tbest: 0.5979525 (1)\ttotal: 6.98s\tremaining: 1m 20s\n",
            "16:\tlearn: 0.5562079\ttest: 0.5565417\tbest: 0.5979525 (1)\ttotal: 7.41s\tremaining: 1m 19s\n",
            "17:\tlearn: 0.5794591\ttest: 0.5829394\tbest: 0.5979525 (1)\ttotal: 7.84s\tremaining: 1m 19s\n",
            "18:\tlearn: 0.5826156\ttest: 0.5849765\tbest: 0.5979525 (1)\ttotal: 8.28s\tremaining: 1m 18s\n",
            "19:\tlearn: 0.5828987\ttest: 0.5866862\tbest: 0.5979525 (1)\ttotal: 8.7s\tremaining: 1m 18s\n",
            "20:\tlearn: 0.5827378\ttest: 0.5857025\tbest: 0.5979525 (1)\ttotal: 9.13s\tremaining: 1m 17s\n",
            "21:\tlearn: 0.5810126\ttest: 0.5829675\tbest: 0.5979525 (1)\ttotal: 9.59s\tremaining: 1m 17s\n",
            "22:\tlearn: 0.5816937\ttest: 0.5852304\tbest: 0.5979525 (1)\ttotal: 10s\tremaining: 1m 17s\n",
            "23:\tlearn: 0.5827097\ttest: 0.5863381\tbest: 0.5979525 (1)\ttotal: 10.4s\tremaining: 1m 16s\n",
            "24:\tlearn: 0.5829191\ttest: 0.5876684\tbest: 0.5979525 (1)\ttotal: 10.9s\tremaining: 1m 16s\n",
            "25:\tlearn: 0.5831157\ttest: 0.5865404\tbest: 0.5979525 (1)\ttotal: 11.3s\tremaining: 1m 15s\n",
            "26:\tlearn: 0.5838827\ttest: 0.5887129\tbest: 0.5979525 (1)\ttotal: 11.8s\tremaining: 1m 15s\n",
            "27:\tlearn: 0.5834152\ttest: 0.5881044\tbest: 0.5979525 (1)\ttotal: 12.2s\tremaining: 1m 14s\n",
            "28:\tlearn: 0.5834402\ttest: 0.5878744\tbest: 0.5979525 (1)\ttotal: 12.6s\tremaining: 1m 14s\n",
            "29:\tlearn: 0.5831329\ttest: 0.5872079\tbest: 0.5979525 (1)\ttotal: 13.1s\tremaining: 1m 13s\n",
            "30:\tlearn: 0.5828987\ttest: 0.5872644\tbest: 0.5979525 (1)\ttotal: 13.5s\tremaining: 1m 13s\n",
            "31:\tlearn: 0.5826924\ttest: 0.5860179\tbest: 0.5979525 (1)\ttotal: 13.9s\tremaining: 1m 12s\n",
            "32:\tlearn: 0.5827831\ttest: 0.5873775\tbest: 0.5979525 (1)\ttotal: 14.3s\tremaining: 1m 12s\n",
            "33:\tlearn: 0.5825941\ttest: 0.5875512\tbest: 0.5979525 (1)\ttotal: 14.8s\tremaining: 1m 12s\n",
            "34:\tlearn: 0.5828955\ttest: 0.5864510\tbest: 0.5979525 (1)\ttotal: 15.2s\tremaining: 1m 11s\n",
            "35:\tlearn: 0.5830595\ttest: 0.5871471\tbest: 0.5979525 (1)\ttotal: 15.6s\tremaining: 1m 11s\n",
            "36:\tlearn: 0.5825627\ttest: 0.5869449\tbest: 0.5979525 (1)\ttotal: 16.1s\tremaining: 1m 10s\n",
            "37:\tlearn: 0.5830844\ttest: 0.5874057\tbest: 0.5979525 (1)\ttotal: 16.5s\tremaining: 1m 10s\n",
            "38:\tlearn: 0.5833296\ttest: 0.5870579\tbest: 0.5979525 (1)\ttotal: 16.9s\tremaining: 1m 9s\n",
            "39:\tlearn: 0.5834029\ttest: 0.5867992\tbest: 0.5979525 (1)\ttotal: 17.3s\tremaining: 1m 9s\n",
            "40:\tlearn: 0.5831859\ttest: 0.5873209\tbest: 0.5979525 (1)\ttotal: 17.8s\tremaining: 1m 8s\n",
            "41:\tlearn: 0.5833717\ttest: 0.5871427\tbest: 0.5979525 (1)\ttotal: 18.2s\tremaining: 1m 8s\n",
            "42:\tlearn: 0.5837634\ttest: 0.5874622\tbest: 0.5979525 (1)\ttotal: 18.6s\tremaining: 1m 8s\n",
            "43:\tlearn: 0.5834732\ttest: 0.5872319\tbest: 0.5979525 (1)\ttotal: 19.1s\tremaining: 1m 7s\n",
            "44:\tlearn: 0.5832109\ttest: 0.5879229\tbest: 0.5979525 (1)\ttotal: 19.5s\tremaining: 1m 7s\n",
            "45:\tlearn: 0.5833998\ttest: 0.5879229\tbest: 0.5979525 (1)\ttotal: 19.9s\tremaining: 1m 6s\n",
            "46:\tlearn: 0.5834279\ttest: 0.5878946\tbest: 0.5979525 (1)\ttotal: 20.4s\tremaining: 1m 6s\n",
            "47:\tlearn: 0.5842844\ttest: 0.5882419\tbest: 0.5979525 (1)\ttotal: 20.8s\tremaining: 1m 5s\n",
            "48:\tlearn: 0.5843858\ttest: 0.5882985\tbest: 0.5979525 (1)\ttotal: 21.3s\tremaining: 1m 5s\n",
            "49:\tlearn: 0.5850076\ttest: 0.5886738\tbest: 0.5979525 (1)\ttotal: 21.7s\tremaining: 1m 5s\n",
            "50:\tlearn: 0.5849204\ttest: 0.5887021\tbest: 0.5979525 (1)\ttotal: 22.2s\tremaining: 1m 4s\n",
            "51:\tlearn: 0.5851510\ttest: 0.5891055\tbest: 0.5979525 (1)\ttotal: 22.6s\tremaining: 1m 4s\n",
            "52:\tlearn: 0.5854829\ttest: 0.5891621\tbest: 0.5979525 (1)\ttotal: 23.1s\tremaining: 1m 3s\n",
            "53:\tlearn: 0.5850920\ttest: 0.5887870\tbest: 0.5979525 (1)\ttotal: 23.5s\tremaining: 1m 3s\n",
            "54:\tlearn: 0.5852637\ttest: 0.5898802\tbest: 0.5979525 (1)\ttotal: 23.9s\tremaining: 1m 3s\n",
            "55:\tlearn: 0.5853509\ttest: 0.5896787\tbest: 0.5979525 (1)\ttotal: 24.3s\tremaining: 1m 2s\n",
            "56:\tlearn: 0.5853790\ttest: 0.5897637\tbest: 0.5979525 (1)\ttotal: 24.8s\tremaining: 1m 2s\n",
            "57:\tlearn: 0.5854354\ttest: 0.5896188\tbest: 0.5979525 (1)\ttotal: 25.2s\tremaining: 1m 1s\n",
            "58:\tlearn: 0.5857673\ttest: 0.5901951\tbest: 0.5979525 (1)\ttotal: 25.6s\tremaining: 1m 1s\n",
            "59:\tlearn: 0.5855225\ttest: 0.5899369\tbest: 0.5979525 (1)\ttotal: 26s\tremaining: 1m\n",
            "60:\tlearn: 0.5861860\ttest: 0.5906263\tbest: 0.5979525 (1)\ttotal: 26.5s\tremaining: 1m\n",
            "61:\tlearn: 0.5972248\ttest: 0.6002257\tbest: 0.6002257 (61)\ttotal: 26.9s\tremaining: 59.8s\n",
            "62:\tlearn: 0.5966271\ttest: 0.6001398\tbest: 0.6002257 (61)\ttotal: 27.3s\tremaining: 59.4s\n",
            "63:\tlearn: 0.5961429\ttest: 0.5997711\tbest: 0.6002257 (61)\ttotal: 27.7s\tremaining: 59s\n",
            "64:\tlearn: 0.5863013\ttest: 0.5911166\tbest: 0.6002257 (61)\ttotal: 28.2s\tremaining: 58.5s\n",
            "65:\tlearn: 0.5973811\ttest: 0.6005369\tbest: 0.6005369 (65)\ttotal: 28.6s\tremaining: 58.1s\n",
            "66:\tlearn: 0.5986168\ttest: 0.6010175\tbest: 0.6010175 (66)\ttotal: 29s\tremaining: 57.7s\n",
            "67:\tlearn: 0.5985175\ttest: 0.6014713\tbest: 0.6014713 (67)\ttotal: 29.5s\tremaining: 57.2s\n",
            "68:\tlearn: 0.5989576\ttest: 0.6017268\tbest: 0.6017268 (68)\ttotal: 29.9s\tremaining: 56.7s\n",
            "69:\tlearn: 0.5995675\ttest: 0.6015573\tbest: 0.6017268 (68)\ttotal: 30.3s\tremaining: 56.3s\n",
            "70:\tlearn: 0.5996247\ttest: 0.6017842\tbest: 0.6017842 (70)\ttotal: 30.7s\tremaining: 55.9s\n",
            "71:\tlearn: 0.5995397\ttest: 0.6021230\tbest: 0.6021230 (71)\ttotal: 31.2s\tremaining: 55.4s\n",
            "72:\tlearn: 0.5998794\ttest: 0.6020656\tbest: 0.6021230 (71)\ttotal: 31.6s\tremaining: 55s\n",
            "73:\tlearn: 0.6006296\ttest: 0.6026882\tbest: 0.6026882 (73)\ttotal: 32s\tremaining: 54.6s\n",
            "74:\tlearn: 0.6005029\ttest: 0.6027169\tbest: 0.6027169 (74)\ttotal: 32.5s\tremaining: 54.1s\n",
            "75:\tlearn: 0.6004038\ttest: 0.6033103\tbest: 0.6033103 (75)\ttotal: 32.9s\tremaining: 53.6s\n",
            "76:\tlearn: 0.6012678\ttest: 0.6033677\tbest: 0.6033677 (76)\ttotal: 33.3s\tremaining: 53.2s\n",
            "77:\tlearn: 0.6007726\ttest: 0.6028318\tbest: 0.6033677 (76)\ttotal: 33.7s\tremaining: 52.8s\n",
            "78:\tlearn: 0.6007737\ttest: 0.6034252\tbest: 0.6034252 (78)\ttotal: 34.2s\tremaining: 52.3s\n",
            "79:\tlearn: 0.6007032\ttest: 0.6030584\tbest: 0.6034252 (78)\ttotal: 34.6s\tremaining: 51.9s\n",
            "80:\tlearn: 0.5998534\ttest: 0.6031158\tbest: 0.6034252 (78)\ttotal: 35s\tremaining: 51.4s\n",
            "81:\tlearn: 0.6004058\ttest: 0.6037666\tbest: 0.6037666 (81)\ttotal: 35.5s\tremaining: 51s\n",
            "82:\tlearn: 0.6002217\ttest: 0.6034539\tbest: 0.6037666 (81)\ttotal: 35.9s\tremaining: 50.6s\n",
            "83:\tlearn: 0.6113814\ttest: 0.6130473\tbest: 0.6130473 (83)\ttotal: 36.3s\tremaining: 50.2s\n",
            "84:\tlearn: 0.6106435\ttest: 0.6127441\tbest: 0.6130473 (83)\ttotal: 36.8s\tremaining: 49.7s\n",
            "85:\tlearn: 0.6103791\ttest: 0.6127731\tbest: 0.6130473 (83)\ttotal: 37.2s\tremaining: 49.3s\n",
            "86:\tlearn: 0.6008166\ttest: 0.6037091\tbest: 0.6130473 (83)\ttotal: 37.6s\tremaining: 48.9s\n",
            "87:\tlearn: 0.6005478\ttest: 0.6033424\tbest: 0.6130473 (83)\ttotal: 38.1s\tremaining: 48.4s\n",
            "88:\tlearn: 0.6006756\ttest: 0.6032020\tbest: 0.6130473 (83)\ttotal: 38.5s\tremaining: 48s\n",
            "89:\tlearn: 0.6003219\ttest: 0.6033999\tbest: 0.6130473 (83)\ttotal: 39s\tremaining: 47.6s\n",
            "90:\tlearn: 0.6003648\ttest: 0.6032308\tbest: 0.6130473 (83)\ttotal: 39.4s\tremaining: 47.2s\n",
            "91:\tlearn: 0.6005202\ttest: 0.6030616\tbest: 0.6130473 (83)\ttotal: 39.8s\tremaining: 46.7s\n",
            "92:\tlearn: 0.6004916\ttest: 0.6031733\tbest: 0.6130473 (83)\ttotal: 40.2s\tremaining: 46.3s\n",
            "93:\tlearn: 0.6006194\ttest: 0.6030041\tbest: 0.6130473 (83)\ttotal: 40.7s\tremaining: 45.9s\n",
            "94:\tlearn: 0.6009312\ttest: 0.6039643\tbest: 0.6130473 (83)\ttotal: 41.1s\tremaining: 45.4s\n",
            "95:\tlearn: 0.6009455\ttest: 0.6036552\tbest: 0.6130473 (83)\ttotal: 41.5s\tremaining: 45s\n",
            "96:\tlearn: 0.6010303\ttest: 0.6036839\tbest: 0.6130473 (83)\ttotal: 41.9s\tremaining: 44.5s\n",
            "97:\tlearn: 0.6012141\ttest: 0.6036839\tbest: 0.6130473 (83)\ttotal: 42.4s\tremaining: 44.1s\n",
            "98:\tlearn: 0.6011150\ttest: 0.6036839\tbest: 0.6130473 (83)\ttotal: 42.8s\tremaining: 43.6s\n",
            "99:\tlearn: 0.6017380\ttest: 0.6044746\tbest: 0.6130473 (83)\ttotal: 43.2s\tremaining: 43.2s\n",
            "100:\tlearn: 0.6117212\ttest: 0.6137854\tbest: 0.6137854 (100)\ttotal: 43.6s\tremaining: 42.8s\n",
            "101:\tlearn: 0.6117501\ttest: 0.6140094\tbest: 0.6140094 (101)\ttotal: 44s\tremaining: 42.3s\n",
            "102:\tlearn: 0.6111100\ttest: 0.6134244\tbest: 0.6140094 (101)\ttotal: 44.5s\tremaining: 41.9s\n",
            "103:\tlearn: 0.6121404\ttest: 0.6147886\tbest: 0.6147886 (103)\ttotal: 44.9s\tremaining: 41.4s\n",
            "104:\tlearn: 0.6119453\ttest: 0.6145939\tbest: 0.6147886 (103)\ttotal: 45.3s\tremaining: 41s\n",
            "105:\tlearn: 0.6123210\ttest: 0.6147886\tbest: 0.6147886 (103)\ttotal: 45.8s\tremaining: 40.6s\n",
            "106:\tlearn: 0.6128229\ttest: 0.6153143\tbest: 0.6153143 (106)\ttotal: 46.2s\tremaining: 40.1s\n",
            "107:\tlearn: 0.6129492\ttest: 0.6155379\tbest: 0.6155379 (107)\ttotal: 46.6s\tremaining: 39.7s\n",
            "108:\tlearn: 0.6137966\ttest: 0.6163154\tbest: 0.6163154 (108)\ttotal: 47s\tremaining: 39.3s\n",
            "109:\tlearn: 0.6138939\ttest: 0.6165387\tbest: 0.6165387 (109)\ttotal: 47.5s\tremaining: 38.8s\n",
            "110:\tlearn: 0.6140202\ttest: 0.6165969\tbest: 0.6165969 (110)\ttotal: 47.9s\tremaining: 38.4s\n",
            "111:\tlearn: 0.6141174\ttest: 0.6163445\tbest: 0.6165969 (110)\ttotal: 48.3s\tremaining: 38s\n",
            "112:\tlearn: 0.6145891\ttest: 0.6166747\tbest: 0.6166747 (112)\ttotal: 48.7s\tremaining: 37.5s\n",
            "113:\tlearn: 0.6144919\ttest: 0.6169270\tbest: 0.6169270 (113)\ttotal: 49.2s\tremaining: 37.1s\n",
            "114:\tlearn: 0.6147008\ttest: 0.6171793\tbest: 0.6171793 (114)\ttotal: 49.6s\tremaining: 36.7s\n",
            "115:\tlearn: 0.6147980\ttest: 0.6172376\tbest: 0.6172376 (115)\ttotal: 50s\tremaining: 36.2s\n",
            "116:\tlearn: 0.6144527\ttest: 0.6168785\tbest: 0.6172376 (115)\ttotal: 50.4s\tremaining: 35.8s\n",
            "117:\tlearn: 0.6144382\ttest: 0.6168494\tbest: 0.6172376 (115)\ttotal: 50.9s\tremaining: 35.3s\n",
            "118:\tlearn: 0.6143120\ttest: 0.6168202\tbest: 0.6172376 (115)\ttotal: 51.3s\tremaining: 34.9s\n",
            "119:\tlearn: 0.6141754\ttest: 0.6166552\tbest: 0.6172376 (115)\ttotal: 51.7s\tremaining: 34.5s\n",
            "120:\tlearn: 0.6140782\ttest: 0.6167425\tbest: 0.6172376 (115)\ttotal: 52.2s\tremaining: 34.1s\n",
            "121:\tlearn: 0.6141072\ttest: 0.6171018\tbest: 0.6172376 (115)\ttotal: 52.6s\tremaining: 33.6s\n",
            "122:\tlearn: 0.6142189\ttest: 0.6169076\tbest: 0.6172376 (115)\ttotal: 53.1s\tremaining: 33.2s\n",
            "123:\tlearn: 0.6141899\ttest: 0.6164900\tbest: 0.6172376 (115)\ttotal: 53.5s\tremaining: 32.8s\n",
            "124:\tlearn: 0.6144135\ttest: 0.6173250\tbest: 0.6173250 (124)\ttotal: 53.9s\tremaining: 32.4s\n",
            "125:\tlearn: 0.6144715\ttest: 0.6175191\tbest: 0.6175191 (125)\ttotal: 54.4s\tremaining: 31.9s\n",
            "126:\tlearn: 0.6143452\ttest: 0.6177422\tbest: 0.6177422 (126)\ttotal: 54.8s\tremaining: 31.5s\n",
            "127:\tlearn: 0.6142479\ttest: 0.6177422\tbest: 0.6177422 (126)\ttotal: 55.3s\tremaining: 31.1s\n",
            "128:\tlearn: 0.6146515\ttest: 0.6182947\tbest: 0.6182947 (128)\ttotal: 55.7s\tremaining: 30.6s\n",
            "129:\tlearn: 0.6151084\ttest: 0.6179362\tbest: 0.6182947 (128)\ttotal: 56.1s\tremaining: 30.2s\n",
            "130:\tlearn: 0.6149822\ttest: 0.6184885\tbest: 0.6184885 (130)\ttotal: 56.5s\tremaining: 29.8s\n",
            "131:\tlearn: 0.6155940\ttest: 0.6184593\tbest: 0.6184885 (130)\ttotal: 57s\tremaining: 29.3s\n",
            "132:\tlearn: 0.6156766\ttest: 0.6184593\tbest: 0.6184885 (130)\ttotal: 57.4s\tremaining: 28.9s\n",
            "133:\tlearn: 0.6155114\ttest: 0.6182364\tbest: 0.6184885 (130)\ttotal: 57.8s\tremaining: 28.5s\n",
            "134:\tlearn: 0.6151665\ttest: 0.6185177\tbest: 0.6185177 (134)\ttotal: 58.3s\tremaining: 28s\n",
            "135:\tlearn: 0.6152491\ttest: 0.6181592\tbest: 0.6185177 (134)\ttotal: 58.7s\tremaining: 27.6s\n",
            "136:\tlearn: 0.6154043\ttest: 0.6181592\tbest: 0.6185177 (134)\ttotal: 59.1s\tremaining: 27.2s\n",
            "137:\tlearn: 0.6154188\ttest: 0.6179653\tbest: 0.6185177 (134)\ttotal: 59.5s\tremaining: 26.8s\n",
            "138:\tlearn: 0.6155840\ttest: 0.6181009\tbest: 0.6185177 (134)\ttotal: 60s\tremaining: 26.3s\n",
            "139:\tlearn: 0.6160258\ttest: 0.6186822\tbest: 0.6186822 (139)\ttotal: 1m\tremaining: 25.9s\n",
            "140:\tlearn: 0.6160258\ttest: 0.6186531\tbest: 0.6186822 (139)\ttotal: 1m\tremaining: 25.4s\n",
            "141:\tlearn: 0.6161519\ttest: 0.6190695\tbest: 0.6190695 (141)\ttotal: 1m 1s\tremaining: 25s\n",
            "142:\tlearn: 0.6167484\ttest: 0.6192631\tbest: 0.6192631 (142)\ttotal: 1m 1s\tremaining: 24.6s\n",
            "143:\tlearn: 0.6165254\ttest: 0.6192339\tbest: 0.6192631 (142)\ttotal: 1m 2s\tremaining: 24.1s\n",
            "144:\tlearn: 0.6166659\ttest: 0.6190403\tbest: 0.6192631 (142)\ttotal: 1m 2s\tremaining: 23.7s\n",
            "145:\tlearn: 0.6169568\ttest: 0.6188467\tbest: 0.6192631 (142)\ttotal: 1m 2s\tremaining: 23.3s\n",
            "146:\tlearn: 0.6171506\ttest: 0.6190695\tbest: 0.6192631 (142)\ttotal: 1m 3s\tremaining: 22.8s\n",
            "147:\tlearn: 0.6172911\ttest: 0.6192923\tbest: 0.6192923 (147)\ttotal: 1m 3s\tremaining: 22.4s\n",
            "148:\tlearn: 0.6171797\ttest: 0.6190695\tbest: 0.6192923 (147)\ttotal: 1m 4s\tremaining: 22s\n",
            "149:\tlearn: 0.6170828\ttest: 0.6196500\tbest: 0.6196500 (149)\ttotal: 1m 4s\tremaining: 21.5s\n",
            "150:\tlearn: 0.6172766\ttest: 0.6198142\tbest: 0.6198142 (150)\ttotal: 1m 5s\tremaining: 21.1s\n",
            "151:\tlearn: 0.6174703\ttest: 0.6198727\tbest: 0.6198727 (151)\ttotal: 1m 5s\tremaining: 20.7s\n",
            "152:\tlearn: 0.6179013\ttest: 0.6200952\tbest: 0.6200952 (152)\ttotal: 1m 5s\tremaining: 20.2s\n",
            "153:\tlearn: 0.6177127\ttest: 0.6197377\tbest: 0.6200952 (152)\ttotal: 1m 6s\tremaining: 19.8s\n",
            "154:\tlearn: 0.6177418\ttest: 0.6197377\tbest: 0.6200952 (152)\ttotal: 1m 6s\tremaining: 19.4s\n",
            "155:\tlearn: 0.6180323\ttest: 0.6195442\tbest: 0.6200952 (152)\ttotal: 1m 7s\tremaining: 18.9s\n",
            "156:\tlearn: 0.6186660\ttest: 0.6201244\tbest: 0.6201244 (156)\ttotal: 1m 7s\tremaining: 18.5s\n",
            "157:\tlearn: 0.6185786\ttest: 0.6205110\tbest: 0.6205110 (157)\ttotal: 1m 8s\tremaining: 18.1s\n",
            "158:\tlearn: 0.6181000\ttest: 0.6209266\tbest: 0.6209266 (158)\ttotal: 1m 8s\tremaining: 17.7s\n",
            "159:\tlearn: 0.6185162\ttest: 0.6216987\tbest: 0.6216987 (159)\ttotal: 1m 8s\tremaining: 17.2s\n",
            "160:\tlearn: 0.6186275\ttest: 0.6217279\tbest: 0.6217279 (160)\ttotal: 1m 9s\tremaining: 16.8s\n",
            "161:\tlearn: 0.6186275\ttest: 0.6209266\tbest: 0.6217279 (160)\ttotal: 1m 9s\tremaining: 16.4s\n",
            "162:\tlearn: 0.6189322\ttest: 0.6211782\tbest: 0.6217279 (160)\ttotal: 1m 10s\tremaining: 16s\n",
            "163:\tlearn: 0.6192460\ttest: 0.6218915\tbest: 0.6218915 (163)\ttotal: 1m 10s\tremaining: 15.5s\n",
            "164:\tlearn: 0.6191639\ttest: 0.6219208\tbest: 0.6219208 (164)\ttotal: 1m 11s\tremaining: 15.1s\n",
            "165:\tlearn: 0.6190964\ttest: 0.6224698\tbest: 0.6224698 (165)\ttotal: 1m 11s\tremaining: 14.7s\n",
            "166:\tlearn: 0.6191256\ttest: 0.6221429\tbest: 0.6224698 (165)\ttotal: 1m 12s\tremaining: 14.2s\n",
            "167:\tlearn: 0.6189614\ttest: 0.6221136\tbest: 0.6224698 (165)\ttotal: 1m 12s\tremaining: 13.8s\n",
            "168:\tlearn: 0.6193481\ttest: 0.6226918\tbest: 0.6226918 (168)\ttotal: 1m 12s\tremaining: 13.4s\n",
            "169:\tlearn: 0.6194392\ttest: 0.6225746\tbest: 0.6226918 (168)\ttotal: 1m 13s\tremaining: 12.9s\n",
            "170:\tlearn: 0.6196616\ttest: 0.6224406\tbest: 0.6226918 (168)\ttotal: 1m 13s\tremaining: 12.5s\n",
            "171:\tlearn: 0.6206414\ttest: 0.6234326\tbest: 0.6234326 (171)\ttotal: 1m 14s\tremaining: 12.1s\n",
            "172:\tlearn: 0.6201881\ttest: 0.6236543\tbest: 0.6236543 (172)\ttotal: 1m 14s\tremaining: 11.6s\n",
            "173:\tlearn: 0.6200680\ttest: 0.6234619\tbest: 0.6236543 (172)\ttotal: 1m 15s\tremaining: 11.2s\n",
            "174:\tlearn: 0.6200534\ttest: 0.6224698\tbest: 0.6236543 (172)\ttotal: 1m 15s\tremaining: 10.8s\n",
            "175:\tlearn: 0.6206471\ttest: 0.6233281\tbest: 0.6236543 (172)\ttotal: 1m 15s\tremaining: 10.3s\n",
            "176:\tlearn: 0.6207582\ttest: 0.6237716\tbest: 0.6237716 (176)\ttotal: 1m 16s\tremaining: 9.92s\n",
            "177:\tlearn: 0.6211819\ttest: 0.6235792\tbest: 0.6237716 (176)\ttotal: 1m 16s\tremaining: 9.49s\n",
            "178:\tlearn: 0.6211001\ttest: 0.6237423\tbest: 0.6237716 (176)\ttotal: 1m 17s\tremaining: 9.06s\n",
            "179:\tlearn: 0.6208254\ttest: 0.6234912\tbest: 0.6237716 (176)\ttotal: 1m 17s\tremaining: 8.62s\n",
            "180:\tlearn: 0.6214856\ttest: 0.6241563\tbest: 0.6241563 (180)\ttotal: 1m 18s\tremaining: 8.19s\n",
            "181:\tlearn: 0.6214563\ttest: 0.6240976\tbest: 0.6241563 (180)\ttotal: 1m 18s\tremaining: 7.76s\n",
            "182:\tlearn: 0.6212198\ttest: 0.6241270\tbest: 0.6241563 (180)\ttotal: 1m 18s\tremaining: 7.33s\n",
            "183:\tlearn: 0.6214650\ttest: 0.6242605\tbest: 0.6242605 (183)\ttotal: 1m 19s\tremaining: 6.9s\n",
            "184:\tlearn: 0.6215760\ttest: 0.6244527\tbest: 0.6244527 (184)\ttotal: 1m 19s\tremaining: 6.47s\n",
            "185:\tlearn: 0.6215614\ttest: 0.6242312\tbest: 0.6244527 (184)\ttotal: 1m 20s\tremaining: 6.04s\n",
            "186:\tlearn: 0.6216431\ttest: 0.6246155\tbest: 0.6246155 (186)\ttotal: 1m 20s\tremaining: 5.61s\n",
            "187:\tlearn: 0.6218356\ttest: 0.6250290\tbest: 0.6250290 (187)\ttotal: 1m 21s\tremaining: 5.17s\n",
            "188:\tlearn: 0.6216809\ttest: 0.6254129\tbest: 0.6254129 (188)\ttotal: 1m 21s\tremaining: 4.74s\n",
            "189:\tlearn: 0.6216138\ttest: 0.6246449\tbest: 0.6254129 (188)\ttotal: 1m 21s\tremaining: 4.31s\n",
            "190:\tlearn: 0.6230129\ttest: 0.6267254\tbest: 0.6267254 (190)\ttotal: 1m 22s\tremaining: 3.88s\n",
            "191:\tlearn: 0.6239731\ttest: 0.6265339\tbest: 0.6267254 (190)\ttotal: 1m 22s\tremaining: 3.45s\n",
            "192:\tlearn: 0.6323889\ttest: 0.6337402\tbest: 0.6337402 (192)\ttotal: 1m 23s\tremaining: 3.02s\n",
            "193:\tlearn: 0.6322206\ttest: 0.6340893\tbest: 0.6340893 (193)\ttotal: 1m 23s\tremaining: 2.6s\n",
            "194:\tlearn: 0.6322501\ttest: 0.6340893\tbest: 0.6340893 (193)\ttotal: 1m 24s\tremaining: 2.17s\n",
            "195:\tlearn: 0.6320165\ttest: 0.6342785\tbest: 0.6342785 (195)\ttotal: 1m 25s\tremaining: 1.73s\n",
            "196:\tlearn: 0.6322417\ttest: 0.6342785\tbest: 0.6342785 (195)\ttotal: 1m 25s\tremaining: 1.3s\n",
            "197:\tlearn: 0.6321912\ttest: 0.6344677\tbest: 0.6344677 (197)\ttotal: 1m 26s\tremaining: 869ms\n",
            "198:\tlearn: 0.6324457\ttest: 0.6342785\tbest: 0.6344677 (197)\ttotal: 1m 26s\tremaining: 435ms\n",
            "199:\tlearn: 0.6323658\ttest: 0.6342490\tbest: 0.6344677 (197)\ttotal: 1m 26s\tremaining: 0us\n",
            "\n",
            "bestTest = 0.6344677099\n",
            "bestIteration = 197\n",
            "\n",
            "CPU times: total: 1h 42s\n",
            "Wall time: 8min 39s\n"
          ]
        }
      ],
      "source": [
        "%%time\n",
        "cat = CatBoostClassifier(random_seed=42, learning_rate=0.01, eval_metric='F1', iterations=200)\n",
        "param_cat = {'auto_class_weights': ['SqrtBalanced', None]}\n",
        "\n",
        "cat_grid_search = cat.grid_search(param_cat,\n",
        "                                       X=X_train,\n",
        "                                       y=y_train,\n",
        "                                       cv=3,\n",
        "                                       train_size=0.9)"
      ]
    },
    {
      "cell_type": "code",
      "execution_count": null,
      "metadata": {
        "scrolled": true,
        "id": "I2dtsoam62tS",
        "outputId": "cf060d2a-0c1c-45e2-f49d-1caa52b58fc1"
      },
      "outputs": [
        {
          "name": "stdout",
          "output_type": "stream",
          "text": [
            "Лучшие параметры: {'iterations': 200, 'learning_rate': 0.01, 'random_seed': 42, 'eval_metric': 'F1', 'auto_class_weights': 'SqrtBalanced'}\n"
          ]
        }
      ],
      "source": [
        "print('Лучшие параметры:', cat.get_params())"
      ]
    },
    {
      "cell_type": "code",
      "execution_count": null,
      "metadata": {
        "id": "mZhVUr3j62tS",
        "outputId": "59f5a7a9-f5f2-4ce0-a5ba-49c518379abb"
      },
      "outputs": [
        {
          "name": "stdout",
          "output_type": "stream",
          "text": [
            "Качество модели по кросс-валидации: 0.6327880071568569\n"
          ]
        }
      ],
      "source": [
        "results_df = pd.DataFrame(cat_grid_search['cv_results'])\n",
        "idx = results_df['test-F1-mean'].argmax()\n",
        "f1_score_cros_sval = results_df.loc[idx, 'test-F1-mean']\n",
        "print('Качество модели по кросс-валидации:', f1_score_cros_sval)"
      ]
    },
    {
      "cell_type": "markdown",
      "metadata": {
        "id": "cxcd5Bh-62tT"
      },
      "source": [
        "## Выводы"
      ]
    },
    {
      "cell_type": "markdown",
      "source": [
        "Лучшей моделью на кросс-валидации оказалось логистическая регрессия. Проверим качество на тестовой выборке."
      ],
      "metadata": {
        "id": "a6oX_5VSUE9n"
      }
    },
    {
      "cell_type": "code",
      "execution_count": null,
      "metadata": {
        "id": "SmY4VL7l62tU",
        "outputId": "62b75eb1-899e-4f63-b746-517dbf2a1c2d"
      },
      "outputs": [
        {
          "name": "stdout",
          "output_type": "stream",
          "text": [
            "Качество логистической регрессии на тестовой выборке: 0.7897227856659906\n"
          ]
        }
      ],
      "source": [
        "pred = grid_lr.best_estimator_.predict(X_test)\n",
        "print('Качество логистической регрессии на тестовой выборке:', f1_score(y_test, pred))"
      ]
    },
    {
      "cell_type": "markdown",
      "metadata": {
        "id": "AkYIIM2p62tU"
      },
      "source": [
        "\n",
        "\n",
        "Логистическая регрессия успешно справилась и показала требуемый результат."
      ]
    }
  ],
  "metadata": {
    "ExecuteTimeLog": [
      {
        "duration": 487,
        "start_time": "2023-03-20T16:39:35.012Z"
      },
      {
        "duration": 118,
        "start_time": "2023-03-20T16:39:57.404Z"
      },
      {
        "duration": 1531,
        "start_time": "2023-03-20T16:40:22.530Z"
      },
      {
        "duration": 20,
        "start_time": "2023-03-20T16:40:27.305Z"
      },
      {
        "duration": 97,
        "start_time": "2023-03-20T16:40:38.633Z"
      },
      {
        "duration": 1719,
        "start_time": "2023-03-20T16:41:00.312Z"
      },
      {
        "duration": 0,
        "start_time": "2023-03-20T16:41:02.033Z"
      },
      {
        "duration": 893,
        "start_time": "2023-03-20T16:41:06.802Z"
      },
      {
        "duration": 7,
        "start_time": "2023-03-20T16:41:08.650Z"
      },
      {
        "duration": 22,
        "start_time": "2023-03-20T16:43:17.532Z"
      },
      {
        "duration": 12,
        "start_time": "2023-03-20T16:43:18.132Z"
      },
      {
        "duration": 14,
        "start_time": "2023-03-20T16:43:39.096Z"
      },
      {
        "duration": 59,
        "start_time": "2023-03-20T16:43:52.233Z"
      },
      {
        "duration": 4,
        "start_time": "2023-03-20T16:43:53.637Z"
      },
      {
        "duration": 8,
        "start_time": "2023-03-20T16:44:10.897Z"
      },
      {
        "duration": 393,
        "start_time": "2023-03-21T16:35:51.850Z"
      },
      {
        "duration": 1486,
        "start_time": "2023-03-21T16:35:52.245Z"
      },
      {
        "duration": 20,
        "start_time": "2023-03-21T16:35:53.733Z"
      },
      {
        "duration": 10,
        "start_time": "2023-03-21T16:35:53.757Z"
      },
      {
        "duration": 5,
        "start_time": "2023-03-21T16:35:53.769Z"
      },
      {
        "duration": 41,
        "start_time": "2023-03-21T16:35:53.776Z"
      },
      {
        "duration": 10,
        "start_time": "2023-03-21T16:35:53.819Z"
      },
      {
        "duration": 12,
        "start_time": "2023-03-21T16:40:11.630Z"
      },
      {
        "duration": 10,
        "start_time": "2023-03-21T16:40:12.114Z"
      },
      {
        "duration": 7,
        "start_time": "2023-03-21T16:40:14.210Z"
      },
      {
        "duration": 6,
        "start_time": "2023-03-21T16:40:15.703Z"
      },
      {
        "duration": 38,
        "start_time": "2023-03-21T16:41:16.094Z"
      },
      {
        "duration": 938,
        "start_time": "2023-03-21T16:41:19.810Z"
      },
      {
        "duration": 949,
        "start_time": "2023-03-21T16:42:54.401Z"
      },
      {
        "duration": 8,
        "start_time": "2023-03-21T16:42:55.899Z"
      },
      {
        "duration": 8,
        "start_time": "2023-03-21T16:42:57.497Z"
      },
      {
        "duration": 12,
        "start_time": "2023-03-21T16:42:57.605Z"
      },
      {
        "duration": 5,
        "start_time": "2023-03-21T16:43:00.901Z"
      },
      {
        "duration": 9,
        "start_time": "2023-03-21T16:43:15.378Z"
      },
      {
        "duration": 7,
        "start_time": "2023-03-21T16:43:23.090Z"
      },
      {
        "duration": 8,
        "start_time": "2023-03-21T16:43:35.817Z"
      },
      {
        "duration": 9,
        "start_time": "2023-03-21T16:43:48.309Z"
      },
      {
        "duration": 8,
        "start_time": "2023-03-21T16:43:48.798Z"
      },
      {
        "duration": 95,
        "start_time": "2023-03-21T16:43:49.548Z"
      },
      {
        "duration": 5,
        "start_time": "2023-03-21T16:43:50.442Z"
      },
      {
        "duration": 35,
        "start_time": "2023-03-21T16:43:51.653Z"
      },
      {
        "duration": 7,
        "start_time": "2023-03-21T16:43:51.799Z"
      },
      {
        "duration": 472,
        "start_time": "2023-03-21T16:44:07.503Z"
      },
      {
        "duration": 1032,
        "start_time": "2023-03-21T16:44:07.977Z"
      },
      {
        "duration": 16,
        "start_time": "2023-03-21T16:44:09.011Z"
      },
      {
        "duration": 8,
        "start_time": "2023-03-21T16:44:09.028Z"
      },
      {
        "duration": 13,
        "start_time": "2023-03-21T16:44:09.038Z"
      },
      {
        "duration": 6,
        "start_time": "2023-03-21T16:44:09.053Z"
      },
      {
        "duration": 68,
        "start_time": "2023-03-21T16:44:09.060Z"
      },
      {
        "duration": 8,
        "start_time": "2023-03-21T16:44:09.130Z"
      },
      {
        "duration": 463,
        "start_time": "2023-03-22T13:01:08.026Z"
      },
      {
        "duration": 1338,
        "start_time": "2023-03-22T13:01:08.491Z"
      },
      {
        "duration": 13,
        "start_time": "2023-03-22T13:01:09.831Z"
      },
      {
        "duration": 7,
        "start_time": "2023-03-22T13:01:09.847Z"
      },
      {
        "duration": 2210,
        "start_time": "2023-03-22T13:01:09.855Z"
      },
      {
        "duration": 0,
        "start_time": "2023-03-22T13:01:12.067Z"
      },
      {
        "duration": 1967,
        "start_time": "2023-03-22T13:01:16.154Z"
      },
      {
        "duration": 19,
        "start_time": "2023-03-22T13:01:22.524Z"
      },
      {
        "duration": 49,
        "start_time": "2023-03-22T21:46:31.382Z"
      },
      {
        "duration": 384,
        "start_time": "2023-03-22T21:46:46.321Z"
      },
      {
        "duration": 4036,
        "start_time": "2023-03-22T21:46:46.707Z"
      },
      {
        "duration": 14,
        "start_time": "2023-03-22T21:46:50.745Z"
      },
      {
        "duration": 10,
        "start_time": "2023-03-22T21:46:50.760Z"
      },
      {
        "duration": 12,
        "start_time": "2023-03-22T21:46:50.773Z"
      },
      {
        "duration": 8,
        "start_time": "2023-03-22T21:46:50.786Z"
      },
      {
        "duration": 36,
        "start_time": "2023-03-22T21:46:50.795Z"
      },
      {
        "duration": 5,
        "start_time": "2023-03-22T21:46:50.833Z"
      },
      {
        "duration": 27,
        "start_time": "2023-03-22T21:46:50.840Z"
      },
      {
        "duration": 6,
        "start_time": "2023-03-22T21:46:53.865Z"
      },
      {
        "duration": 54,
        "start_time": "2023-03-23T11:25:59.514Z"
      },
      {
        "duration": 442,
        "start_time": "2023-03-23T11:26:03.817Z"
      },
      {
        "duration": 1777,
        "start_time": "2023-03-23T11:26:04.261Z"
      },
      {
        "duration": 22,
        "start_time": "2023-03-23T11:26:06.041Z"
      },
      {
        "duration": 31,
        "start_time": "2023-03-23T11:26:06.065Z"
      },
      {
        "duration": 32,
        "start_time": "2023-03-23T11:26:06.103Z"
      },
      {
        "duration": 16,
        "start_time": "2023-03-23T11:26:06.138Z"
      },
      {
        "duration": 44,
        "start_time": "2023-03-23T11:26:06.156Z"
      },
      {
        "duration": 2276,
        "start_time": "2023-03-23T11:26:06.206Z"
      },
      {
        "duration": 14,
        "start_time": "2023-03-23T11:26:08.484Z"
      },
      {
        "duration": 5,
        "start_time": "2023-03-23T11:26:13.428Z"
      },
      {
        "duration": 98,
        "start_time": "2023-03-23T11:26:28.159Z"
      },
      {
        "duration": 123,
        "start_time": "2023-03-23T11:26:31.071Z"
      },
      {
        "duration": 7,
        "start_time": "2023-03-23T11:27:22.817Z"
      },
      {
        "duration": 556,
        "start_time": "2023-03-23T11:31:16.367Z"
      },
      {
        "duration": 1932,
        "start_time": "2023-03-23T11:31:16.926Z"
      },
      {
        "duration": 16,
        "start_time": "2023-03-23T11:31:18.860Z"
      },
      {
        "duration": 36,
        "start_time": "2023-03-23T11:31:18.879Z"
      },
      {
        "duration": 10,
        "start_time": "2023-03-23T11:31:18.920Z"
      },
      {
        "duration": 8,
        "start_time": "2023-03-23T11:31:18.932Z"
      },
      {
        "duration": 9,
        "start_time": "2023-03-23T11:31:18.941Z"
      },
      {
        "duration": 39,
        "start_time": "2023-03-23T11:31:18.951Z"
      },
      {
        "duration": 2328,
        "start_time": "2023-03-23T11:31:18.998Z"
      },
      {
        "duration": 11,
        "start_time": "2023-03-23T11:31:21.328Z"
      },
      {
        "duration": 4,
        "start_time": "2023-03-23T11:48:18.541Z"
      },
      {
        "duration": 812,
        "start_time": "2023-03-23T11:48:41.131Z"
      },
      {
        "duration": 4,
        "start_time": "2023-03-23T11:48:47.315Z"
      },
      {
        "duration": 1044,
        "start_time": "2023-03-23T11:48:47.781Z"
      },
      {
        "duration": 16,
        "start_time": "2023-03-23T11:48:48.827Z"
      },
      {
        "duration": 15,
        "start_time": "2023-03-23T11:48:48.845Z"
      },
      {
        "duration": 11,
        "start_time": "2023-03-23T11:48:48.863Z"
      },
      {
        "duration": 50,
        "start_time": "2023-03-23T11:48:48.877Z"
      },
      {
        "duration": 45,
        "start_time": "2023-03-23T11:48:49.869Z"
      },
      {
        "duration": 489,
        "start_time": "2023-03-23T11:49:00.916Z"
      },
      {
        "duration": 1738,
        "start_time": "2023-03-23T11:49:01.415Z"
      },
      {
        "duration": 19,
        "start_time": "2023-03-23T11:49:03.155Z"
      },
      {
        "duration": 21,
        "start_time": "2023-03-23T11:49:03.176Z"
      },
      {
        "duration": 10,
        "start_time": "2023-03-23T11:49:03.207Z"
      },
      {
        "duration": 12,
        "start_time": "2023-03-23T11:49:03.225Z"
      },
      {
        "duration": 37,
        "start_time": "2023-03-23T11:49:03.238Z"
      },
      {
        "duration": 2796,
        "start_time": "2023-03-23T11:49:03.277Z"
      },
      {
        "duration": 10,
        "start_time": "2023-03-23T11:49:06.075Z"
      },
      {
        "duration": 300,
        "start_time": "2023-03-23T11:49:06.087Z"
      },
      {
        "duration": 12,
        "start_time": "2023-03-23T11:49:06.389Z"
      },
      {
        "duration": 991,
        "start_time": "2023-03-23T11:50:13.980Z"
      },
      {
        "duration": 22,
        "start_time": "2023-03-23T11:50:15.411Z"
      },
      {
        "duration": 27,
        "start_time": "2023-03-23T11:50:15.596Z"
      },
      {
        "duration": 8,
        "start_time": "2023-03-23T11:50:17.133Z"
      },
      {
        "duration": 4,
        "start_time": "2023-03-23T11:50:18.079Z"
      },
      {
        "duration": 36,
        "start_time": "2023-03-23T11:50:18.502Z"
      },
      {
        "duration": 2639,
        "start_time": "2023-03-23T11:50:20.141Z"
      },
      {
        "duration": 16,
        "start_time": "2023-03-23T11:50:23.691Z"
      },
      {
        "duration": 2412,
        "start_time": "2023-03-23T11:51:50.139Z"
      },
      {
        "duration": 10,
        "start_time": "2023-03-23T11:51:53.079Z"
      },
      {
        "duration": 2369,
        "start_time": "2023-03-23T11:51:54.221Z"
      },
      {
        "duration": 4342,
        "start_time": "2023-03-23T11:56:41.032Z"
      },
      {
        "duration": 16,
        "start_time": "2023-03-23T11:56:46.195Z"
      },
      {
        "duration": 543,
        "start_time": "2023-03-23T11:56:57.892Z"
      },
      {
        "duration": 1828,
        "start_time": "2023-03-23T11:56:58.438Z"
      },
      {
        "duration": 16,
        "start_time": "2023-03-23T11:57:00.268Z"
      },
      {
        "duration": 65,
        "start_time": "2023-03-23T11:57:00.287Z"
      },
      {
        "duration": 22,
        "start_time": "2023-03-23T11:57:00.355Z"
      },
      {
        "duration": 78,
        "start_time": "2023-03-23T11:57:00.381Z"
      },
      {
        "duration": 113,
        "start_time": "2023-03-23T11:57:00.462Z"
      },
      {
        "duration": 5203,
        "start_time": "2023-03-23T11:57:00.578Z"
      },
      {
        "duration": 20,
        "start_time": "2023-03-23T11:57:05.783Z"
      },
      {
        "duration": 2777,
        "start_time": "2023-03-23T11:57:05.806Z"
      },
      {
        "duration": 18,
        "start_time": "2023-03-23T11:57:08.585Z"
      },
      {
        "duration": 483,
        "start_time": "2023-03-23T12:01:52.664Z"
      },
      {
        "duration": 1786,
        "start_time": "2023-03-23T12:01:53.150Z"
      },
      {
        "duration": 16,
        "start_time": "2023-03-23T12:01:54.938Z"
      },
      {
        "duration": 19,
        "start_time": "2023-03-23T12:01:54.956Z"
      },
      {
        "duration": 10,
        "start_time": "2023-03-23T12:01:54.978Z"
      },
      {
        "duration": 11,
        "start_time": "2023-03-23T12:01:54.990Z"
      },
      {
        "duration": 70,
        "start_time": "2023-03-23T12:01:55.003Z"
      },
      {
        "duration": 4948,
        "start_time": "2023-03-23T12:01:55.075Z"
      },
      {
        "duration": 14,
        "start_time": "2023-03-23T12:02:00.025Z"
      },
      {
        "duration": 2451,
        "start_time": "2023-03-23T12:02:00.042Z"
      },
      {
        "duration": 25,
        "start_time": "2023-03-23T12:02:02.497Z"
      },
      {
        "duration": 524,
        "start_time": "2023-03-23T12:02:11.366Z"
      },
      {
        "duration": 1098,
        "start_time": "2023-03-23T12:02:11.893Z"
      },
      {
        "duration": 24,
        "start_time": "2023-03-23T12:02:12.993Z"
      },
      {
        "duration": 20,
        "start_time": "2023-03-23T12:02:13.020Z"
      },
      {
        "duration": 11,
        "start_time": "2023-03-23T12:02:13.042Z"
      },
      {
        "duration": 15,
        "start_time": "2023-03-23T12:02:13.055Z"
      },
      {
        "duration": 59,
        "start_time": "2023-03-23T12:02:13.072Z"
      },
      {
        "duration": 4751,
        "start_time": "2023-03-23T12:02:13.134Z"
      },
      {
        "duration": 30,
        "start_time": "2023-03-23T12:02:17.888Z"
      },
      {
        "duration": 2361,
        "start_time": "2023-03-23T12:02:17.921Z"
      },
      {
        "duration": 23,
        "start_time": "2023-03-23T12:02:20.284Z"
      },
      {
        "duration": 3537,
        "start_time": "2023-03-23T12:03:23.343Z"
      },
      {
        "duration": 10,
        "start_time": "2023-03-23T12:03:26.882Z"
      },
      {
        "duration": 888,
        "start_time": "2023-03-23T12:03:39.547Z"
      },
      {
        "duration": 12,
        "start_time": "2023-03-23T12:03:40.438Z"
      },
      {
        "duration": 796,
        "start_time": "2023-03-23T12:03:49.229Z"
      },
      {
        "duration": 13,
        "start_time": "2023-03-23T12:03:54.870Z"
      },
      {
        "duration": 3,
        "start_time": "2023-03-23T12:03:58.627Z"
      },
      {
        "duration": 980,
        "start_time": "2023-03-23T12:03:58.772Z"
      },
      {
        "duration": 15,
        "start_time": "2023-03-23T12:03:59.754Z"
      },
      {
        "duration": 17,
        "start_time": "2023-03-23T12:03:59.771Z"
      },
      {
        "duration": 32,
        "start_time": "2023-03-23T12:03:59.790Z"
      },
      {
        "duration": 7,
        "start_time": "2023-03-23T12:03:59.825Z"
      },
      {
        "duration": 37,
        "start_time": "2023-03-23T12:03:59.834Z"
      },
      {
        "duration": 4980,
        "start_time": "2023-03-23T12:03:59.873Z"
      },
      {
        "duration": 11,
        "start_time": "2023-03-23T12:04:04.856Z"
      },
      {
        "duration": 4,
        "start_time": "2023-03-23T12:04:45.959Z"
      },
      {
        "duration": 1099,
        "start_time": "2023-03-23T12:04:46.088Z"
      },
      {
        "duration": 26,
        "start_time": "2023-03-23T12:04:47.190Z"
      },
      {
        "duration": 35,
        "start_time": "2023-03-23T12:04:47.218Z"
      },
      {
        "duration": 28,
        "start_time": "2023-03-23T12:04:47.256Z"
      },
      {
        "duration": 4,
        "start_time": "2023-03-23T12:04:47.381Z"
      },
      {
        "duration": 44,
        "start_time": "2023-03-23T12:04:49.192Z"
      },
      {
        "duration": 6400,
        "start_time": "2023-03-23T12:04:49.817Z"
      },
      {
        "duration": 13,
        "start_time": "2023-03-23T12:04:57.678Z"
      },
      {
        "duration": 3,
        "start_time": "2023-03-23T12:05:24.557Z"
      },
      {
        "duration": 1136,
        "start_time": "2023-03-23T12:05:24.686Z"
      },
      {
        "duration": 20,
        "start_time": "2023-03-23T12:05:25.824Z"
      },
      {
        "duration": 11,
        "start_time": "2023-03-23T12:05:25.846Z"
      },
      {
        "duration": 11,
        "start_time": "2023-03-23T12:05:25.860Z"
      },
      {
        "duration": 9,
        "start_time": "2023-03-23T12:05:25.873Z"
      },
      {
        "duration": 39,
        "start_time": "2023-03-23T12:05:26.726Z"
      },
      {
        "duration": 511,
        "start_time": "2023-03-23T12:05:27.356Z"
      },
      {
        "duration": 575,
        "start_time": "2023-03-23T12:05:50.191Z"
      },
      {
        "duration": 2126,
        "start_time": "2023-03-23T12:05:50.769Z"
      },
      {
        "duration": 23,
        "start_time": "2023-03-23T12:05:52.897Z"
      },
      {
        "duration": 34,
        "start_time": "2023-03-23T12:05:52.927Z"
      },
      {
        "duration": 24,
        "start_time": "2023-03-23T12:05:52.963Z"
      },
      {
        "duration": 56,
        "start_time": "2023-03-23T12:05:52.990Z"
      },
      {
        "duration": 58,
        "start_time": "2023-03-23T12:05:53.048Z"
      },
      {
        "duration": 5494,
        "start_time": "2023-03-23T12:05:53.111Z"
      },
      {
        "duration": 12,
        "start_time": "2023-03-23T12:05:58.607Z"
      },
      {
        "duration": 2565,
        "start_time": "2023-03-23T12:05:58.622Z"
      },
      {
        "duration": 79,
        "start_time": "2023-03-23T12:06:01.189Z"
      },
      {
        "duration": 591,
        "start_time": "2023-03-23T12:11:08.491Z"
      },
      {
        "duration": 5,
        "start_time": "2023-03-23T12:11:14.339Z"
      },
      {
        "duration": 465,
        "start_time": "2023-03-23T12:15:55.577Z"
      },
      {
        "duration": 1111,
        "start_time": "2023-03-23T12:15:56.044Z"
      },
      {
        "duration": 15,
        "start_time": "2023-03-23T12:15:57.159Z"
      },
      {
        "duration": 33,
        "start_time": "2023-03-23T12:15:57.176Z"
      },
      {
        "duration": 16,
        "start_time": "2023-03-23T12:15:57.214Z"
      },
      {
        "duration": 10,
        "start_time": "2023-03-23T12:15:57.232Z"
      },
      {
        "duration": 44,
        "start_time": "2023-03-23T12:15:57.244Z"
      },
      {
        "duration": 4797,
        "start_time": "2023-03-23T12:15:57.291Z"
      },
      {
        "duration": 19,
        "start_time": "2023-03-23T12:16:02.090Z"
      },
      {
        "duration": 509,
        "start_time": "2023-03-23T12:25:14.561Z"
      },
      {
        "duration": 1264,
        "start_time": "2023-03-23T12:25:15.074Z"
      },
      {
        "duration": 16,
        "start_time": "2023-03-23T12:25:16.341Z"
      },
      {
        "duration": 80,
        "start_time": "2023-03-23T12:25:16.360Z"
      },
      {
        "duration": 14,
        "start_time": "2023-03-23T12:25:16.444Z"
      },
      {
        "duration": 7,
        "start_time": "2023-03-23T12:25:16.460Z"
      },
      {
        "duration": 51,
        "start_time": "2023-03-23T12:25:16.470Z"
      },
      {
        "duration": 20,
        "start_time": "2023-03-23T12:25:16.525Z"
      },
      {
        "duration": 10,
        "start_time": "2023-03-23T12:25:16.547Z"
      },
      {
        "duration": 2390,
        "start_time": "2023-03-23T12:25:16.559Z"
      },
      {
        "duration": 125,
        "start_time": "2023-03-23T12:25:18.952Z"
      },
      {
        "duration": 0,
        "start_time": "2023-03-23T12:25:19.079Z"
      },
      {
        "duration": 20,
        "start_time": "2023-03-23T12:25:35.966Z"
      },
      {
        "duration": 17,
        "start_time": "2023-03-23T12:25:56.872Z"
      },
      {
        "duration": 4,
        "start_time": "2023-03-23T12:26:02.119Z"
      },
      {
        "duration": 4,
        "start_time": "2023-03-23T12:26:02.418Z"
      },
      {
        "duration": 474,
        "start_time": "2023-03-23T12:26:10.614Z"
      },
      {
        "duration": 1864,
        "start_time": "2023-03-23T12:26:11.092Z"
      },
      {
        "duration": 22,
        "start_time": "2023-03-23T12:26:12.961Z"
      },
      {
        "duration": 47,
        "start_time": "2023-03-23T12:26:12.985Z"
      },
      {
        "duration": 12,
        "start_time": "2023-03-23T12:26:13.035Z"
      },
      {
        "duration": 12,
        "start_time": "2023-03-23T12:26:13.049Z"
      },
      {
        "duration": 46,
        "start_time": "2023-03-23T12:26:13.064Z"
      },
      {
        "duration": 15,
        "start_time": "2023-03-23T12:26:13.112Z"
      },
      {
        "duration": 10,
        "start_time": "2023-03-23T12:26:13.130Z"
      },
      {
        "duration": 2451,
        "start_time": "2023-03-23T12:26:13.143Z"
      },
      {
        "duration": 176,
        "start_time": "2023-03-23T12:26:15.597Z"
      },
      {
        "duration": 0,
        "start_time": "2023-03-23T12:26:15.775Z"
      },
      {
        "duration": 0,
        "start_time": "2023-03-23T12:26:15.777Z"
      },
      {
        "duration": 456,
        "start_time": "2023-03-23T12:28:24.826Z"
      },
      {
        "duration": 1222,
        "start_time": "2023-03-23T12:28:25.285Z"
      },
      {
        "duration": 20,
        "start_time": "2023-03-23T12:28:26.509Z"
      },
      {
        "duration": 29,
        "start_time": "2023-03-23T12:28:26.531Z"
      },
      {
        "duration": 8,
        "start_time": "2023-03-23T12:28:26.563Z"
      },
      {
        "duration": 41,
        "start_time": "2023-03-23T12:28:26.573Z"
      },
      {
        "duration": 51,
        "start_time": "2023-03-23T12:28:26.620Z"
      },
      {
        "duration": 5430,
        "start_time": "2023-03-23T12:28:26.673Z"
      },
      {
        "duration": 2540,
        "start_time": "2023-03-23T12:28:32.113Z"
      },
      {
        "duration": 8,
        "start_time": "2023-03-23T12:28:34.656Z"
      },
      {
        "duration": 102,
        "start_time": "2023-03-23T12:28:34.667Z"
      },
      {
        "duration": 0,
        "start_time": "2023-03-23T12:28:34.772Z"
      },
      {
        "duration": 0,
        "start_time": "2023-03-23T12:28:34.776Z"
      },
      {
        "duration": 0,
        "start_time": "2023-03-23T12:28:34.778Z"
      },
      {
        "duration": 37,
        "start_time": "2023-03-23T12:28:52.799Z"
      },
      {
        "duration": 120,
        "start_time": "2023-03-23T12:29:00.179Z"
      },
      {
        "duration": 19,
        "start_time": "2023-03-23T12:29:06.434Z"
      },
      {
        "duration": 61,
        "start_time": "2023-03-23T12:29:12.582Z"
      },
      {
        "duration": 5,
        "start_time": "2023-03-23T12:31:07.265Z"
      },
      {
        "duration": 11,
        "start_time": "2023-03-23T12:31:08.871Z"
      },
      {
        "duration": 4,
        "start_time": "2023-03-23T12:31:29.384Z"
      },
      {
        "duration": 479,
        "start_time": "2023-03-23T12:41:04.997Z"
      },
      {
        "duration": 1183,
        "start_time": "2023-03-23T12:41:05.478Z"
      },
      {
        "duration": 16,
        "start_time": "2023-03-23T12:41:06.664Z"
      },
      {
        "duration": 33,
        "start_time": "2023-03-23T12:41:06.682Z"
      },
      {
        "duration": 17,
        "start_time": "2023-03-23T12:41:06.721Z"
      },
      {
        "duration": 10,
        "start_time": "2023-03-23T12:41:06.740Z"
      },
      {
        "duration": 41,
        "start_time": "2023-03-23T12:41:06.752Z"
      },
      {
        "duration": 87,
        "start_time": "2023-03-23T12:41:06.795Z"
      },
      {
        "duration": 0,
        "start_time": "2023-03-23T12:41:06.883Z"
      },
      {
        "duration": 1,
        "start_time": "2023-03-23T12:41:06.884Z"
      },
      {
        "duration": 0,
        "start_time": "2023-03-23T12:41:06.886Z"
      },
      {
        "duration": 0,
        "start_time": "2023-03-23T12:41:06.887Z"
      },
      {
        "duration": 0,
        "start_time": "2023-03-23T12:41:06.897Z"
      },
      {
        "duration": 39,
        "start_time": "2023-03-23T12:41:10.736Z"
      },
      {
        "duration": 4,
        "start_time": "2023-03-23T12:41:10.864Z"
      },
      {
        "duration": 3,
        "start_time": "2023-03-23T12:41:11.032Z"
      },
      {
        "duration": 984,
        "start_time": "2023-03-23T12:41:11.177Z"
      },
      {
        "duration": 41,
        "start_time": "2023-03-23T12:41:24.129Z"
      },
      {
        "duration": 4139,
        "start_time": "2023-03-23T12:46:20.831Z"
      },
      {
        "duration": 5,
        "start_time": "2023-03-23T12:47:31.130Z"
      },
      {
        "duration": 372,
        "start_time": "2023-03-23T12:47:36.115Z"
      },
      {
        "duration": 715,
        "start_time": "2023-03-23T12:47:54.070Z"
      },
      {
        "duration": 12826,
        "start_time": "2023-03-23T12:48:13.838Z"
      },
      {
        "duration": 1205,
        "start_time": "2023-03-23T12:48:29.301Z"
      },
      {
        "duration": 18,
        "start_time": "2023-03-23T12:48:30.516Z"
      },
      {
        "duration": 49,
        "start_time": "2023-03-23T12:48:30.537Z"
      },
      {
        "duration": 94,
        "start_time": "2023-03-23T12:48:30.589Z"
      },
      {
        "duration": 60,
        "start_time": "2023-03-23T12:48:30.686Z"
      },
      {
        "duration": 147,
        "start_time": "2023-03-23T12:48:30.748Z"
      },
      {
        "duration": 119,
        "start_time": "2023-03-23T12:48:30.900Z"
      },
      {
        "duration": 4,
        "start_time": "2023-03-23T12:48:34.182Z"
      },
      {
        "duration": 5,
        "start_time": "2023-03-23T12:48:36.081Z"
      },
      {
        "duration": 116,
        "start_time": "2023-03-23T12:48:37.533Z"
      },
      {
        "duration": 31,
        "start_time": "2023-03-23T12:48:41.230Z"
      },
      {
        "duration": 136,
        "start_time": "2023-03-23T12:48:53.532Z"
      },
      {
        "duration": 130,
        "start_time": "2023-03-23T12:55:55.439Z"
      },
      {
        "duration": 655,
        "start_time": "2023-03-23T12:56:06.373Z"
      },
      {
        "duration": 17715,
        "start_time": "2023-03-23T12:56:44.595Z"
      },
      {
        "duration": 994,
        "start_time": "2023-03-23T12:57:02.317Z"
      },
      {
        "duration": 21,
        "start_time": "2023-03-23T12:57:03.317Z"
      },
      {
        "duration": 26,
        "start_time": "2023-03-23T12:57:03.342Z"
      },
      {
        "duration": 10,
        "start_time": "2023-03-23T12:57:03.370Z"
      },
      {
        "duration": 24,
        "start_time": "2023-03-23T12:57:03.381Z"
      },
      {
        "duration": 55,
        "start_time": "2023-03-23T12:57:03.409Z"
      },
      {
        "duration": 622,
        "start_time": "2023-03-23T12:57:03.466Z"
      },
      {
        "duration": 2367,
        "start_time": "2023-03-23T12:57:04.090Z"
      },
      {
        "duration": 411,
        "start_time": "2023-03-23T12:57:06.461Z"
      },
      {
        "duration": 0,
        "start_time": "2023-03-23T12:57:06.874Z"
      },
      {
        "duration": 17673,
        "start_time": "2023-03-23T13:00:06.118Z"
      },
      {
        "duration": 1033,
        "start_time": "2023-03-23T13:00:23.794Z"
      },
      {
        "duration": 15,
        "start_time": "2023-03-23T13:00:24.829Z"
      },
      {
        "duration": 41,
        "start_time": "2023-03-23T13:00:24.846Z"
      },
      {
        "duration": 32,
        "start_time": "2023-03-23T13:00:24.890Z"
      },
      {
        "duration": 7,
        "start_time": "2023-03-23T13:00:24.925Z"
      },
      {
        "duration": 44,
        "start_time": "2023-03-23T13:00:24.934Z"
      },
      {
        "duration": 645,
        "start_time": "2023-03-23T13:00:24.980Z"
      }
    ],
    "kernelspec": {
      "display_name": "Python 3 (ipykernel)",
      "language": "python",
      "name": "python3"
    },
    "language_info": {
      "codemirror_mode": {
        "name": "ipython",
        "version": 3
      },
      "file_extension": ".py",
      "mimetype": "text/x-python",
      "name": "python",
      "nbconvert_exporter": "python",
      "pygments_lexer": "ipython3",
      "version": "3.10.10"
    },
    "toc": {
      "base_numbering": 1,
      "nav_menu": {},
      "number_sections": true,
      "sideBar": true,
      "skip_h1_title": true,
      "title_cell": "Содержание",
      "title_sidebar": "Contents",
      "toc_cell": true,
      "toc_position": {
        "height": "calc(100% - 180px)",
        "left": "10px",
        "top": "150px",
        "width": "302.391px"
      },
      "toc_section_display": true,
      "toc_window_display": false
    },
    "colab": {
      "provenance": [],
      "toc_visible": true
    }
  },
  "nbformat": 4,
  "nbformat_minor": 0
}