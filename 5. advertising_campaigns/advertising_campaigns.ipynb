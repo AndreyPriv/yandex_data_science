{
 "cells": [
  {
   "cell_type": "markdown",
   "metadata": {},
   "source": [
    "# Планирование рекламных кампаний"
   ]
  },
  {
   "cell_type": "markdown",
   "metadata": {},
   "source": [
    "Вы работаете в интернет-магазине «Стримчик», который продаёт по всему миру компьютерные игры. Из открытых источников доступны исторические данные о продажах игр, оценки пользователей и экспертов, жанры и платформы (например, Xbox или PlayStation). Вам нужно выявить определяющие успешность игры закономерности. Это позволит сделать ставку на потенциально популярный продукт и спланировать рекламные кампании. <br><br>\n",
    "Перед вами данные до 2016 года. Представим, что сейчас декабрь 2016 г., и вы планируете кампанию на 2017-й. Нужно отработать принцип работы с данными. Неважно, прогнозируете ли вы продажи на 2017 год по данным 2016-го или же 2027-й — по данным 2026 года.<br><br>\n",
    "В наборе данных попадается аббревиатура ESRB (Entertainment Software Rating Board) — это ассоциация, определяющая возрастной рейтинг компьютерных игр. ESRB оценивает игровой контент и присваивает ему подходящую возрастную категорию, например, «Для взрослых», «Для детей младшего возраста» или «Для подростков»."
   ]
  },
  {
   "cell_type": "markdown",
   "metadata": {},
   "source": [
    "<b>Шаг 1. Откройте файл с данными и изучите общую информацию</b>"
   ]
  },
  {
   "cell_type": "markdown",
   "metadata": {},
   "source": [
    "Импорт библиотек"
   ]
  },
  {
   "cell_type": "code",
   "execution_count": 1,
   "metadata": {},
   "outputs": [],
   "source": [
    "import pandas as pd\n",
    "import numpy as np\n",
    "import matplotlib.pyplot as plt\n",
    "import seaborn as sns "
   ]
  },
  {
   "cell_type": "markdown",
   "metadata": {},
   "source": [
    "Откроем файл с данными и изучим общую информацию"
   ]
  },
  {
   "cell_type": "code",
   "execution_count": 2,
   "metadata": {},
   "outputs": [],
   "source": [
    "df = pd.read_csv('/datasets/games.csv')"
   ]
  },
  {
   "cell_type": "code",
   "execution_count": 3,
   "metadata": {},
   "outputs": [
    {
     "data": {
      "text/html": [
       "<div>\n",
       "<style scoped>\n",
       "    .dataframe tbody tr th:only-of-type {\n",
       "        vertical-align: middle;\n",
       "    }\n",
       "\n",
       "    .dataframe tbody tr th {\n",
       "        vertical-align: top;\n",
       "    }\n",
       "\n",
       "    .dataframe thead th {\n",
       "        text-align: right;\n",
       "    }\n",
       "</style>\n",
       "<table border=\"1\" class=\"dataframe\">\n",
       "  <thead>\n",
       "    <tr style=\"text-align: right;\">\n",
       "      <th></th>\n",
       "      <th>Name</th>\n",
       "      <th>Platform</th>\n",
       "      <th>Year_of_Release</th>\n",
       "      <th>Genre</th>\n",
       "      <th>NA_sales</th>\n",
       "      <th>EU_sales</th>\n",
       "      <th>JP_sales</th>\n",
       "      <th>Other_sales</th>\n",
       "      <th>Critic_Score</th>\n",
       "      <th>User_Score</th>\n",
       "      <th>Rating</th>\n",
       "    </tr>\n",
       "  </thead>\n",
       "  <tbody>\n",
       "    <tr>\n",
       "      <th>0</th>\n",
       "      <td>Wii Sports</td>\n",
       "      <td>Wii</td>\n",
       "      <td>2006.0</td>\n",
       "      <td>Sports</td>\n",
       "      <td>41.36</td>\n",
       "      <td>28.96</td>\n",
       "      <td>3.77</td>\n",
       "      <td>8.45</td>\n",
       "      <td>76.0</td>\n",
       "      <td>8</td>\n",
       "      <td>E</td>\n",
       "    </tr>\n",
       "    <tr>\n",
       "      <th>1</th>\n",
       "      <td>Super Mario Bros.</td>\n",
       "      <td>NES</td>\n",
       "      <td>1985.0</td>\n",
       "      <td>Platform</td>\n",
       "      <td>29.08</td>\n",
       "      <td>3.58</td>\n",
       "      <td>6.81</td>\n",
       "      <td>0.77</td>\n",
       "      <td>NaN</td>\n",
       "      <td>NaN</td>\n",
       "      <td>NaN</td>\n",
       "    </tr>\n",
       "    <tr>\n",
       "      <th>2</th>\n",
       "      <td>Mario Kart Wii</td>\n",
       "      <td>Wii</td>\n",
       "      <td>2008.0</td>\n",
       "      <td>Racing</td>\n",
       "      <td>15.68</td>\n",
       "      <td>12.76</td>\n",
       "      <td>3.79</td>\n",
       "      <td>3.29</td>\n",
       "      <td>82.0</td>\n",
       "      <td>8.3</td>\n",
       "      <td>E</td>\n",
       "    </tr>\n",
       "    <tr>\n",
       "      <th>3</th>\n",
       "      <td>Wii Sports Resort</td>\n",
       "      <td>Wii</td>\n",
       "      <td>2009.0</td>\n",
       "      <td>Sports</td>\n",
       "      <td>15.61</td>\n",
       "      <td>10.93</td>\n",
       "      <td>3.28</td>\n",
       "      <td>2.95</td>\n",
       "      <td>80.0</td>\n",
       "      <td>8</td>\n",
       "      <td>E</td>\n",
       "    </tr>\n",
       "    <tr>\n",
       "      <th>4</th>\n",
       "      <td>Pokemon Red/Pokemon Blue</td>\n",
       "      <td>GB</td>\n",
       "      <td>1996.0</td>\n",
       "      <td>Role-Playing</td>\n",
       "      <td>11.27</td>\n",
       "      <td>8.89</td>\n",
       "      <td>10.22</td>\n",
       "      <td>1.00</td>\n",
       "      <td>NaN</td>\n",
       "      <td>NaN</td>\n",
       "      <td>NaN</td>\n",
       "    </tr>\n",
       "  </tbody>\n",
       "</table>\n",
       "</div>"
      ],
      "text/plain": [
       "                       Name Platform  Year_of_Release         Genre  NA_sales  \\\n",
       "0                Wii Sports      Wii           2006.0        Sports     41.36   \n",
       "1         Super Mario Bros.      NES           1985.0      Platform     29.08   \n",
       "2            Mario Kart Wii      Wii           2008.0        Racing     15.68   \n",
       "3         Wii Sports Resort      Wii           2009.0        Sports     15.61   \n",
       "4  Pokemon Red/Pokemon Blue       GB           1996.0  Role-Playing     11.27   \n",
       "\n",
       "   EU_sales  JP_sales  Other_sales  Critic_Score User_Score Rating  \n",
       "0     28.96      3.77         8.45          76.0          8      E  \n",
       "1      3.58      6.81         0.77           NaN        NaN    NaN  \n",
       "2     12.76      3.79         3.29          82.0        8.3      E  \n",
       "3     10.93      3.28         2.95          80.0          8      E  \n",
       "4      8.89     10.22         1.00           NaN        NaN    NaN  "
      ]
     },
     "execution_count": 3,
     "metadata": {},
     "output_type": "execute_result"
    }
   ],
   "source": [
    "df.head()"
   ]
  },
  {
   "cell_type": "code",
   "execution_count": 4,
   "metadata": {},
   "outputs": [
    {
     "data": {
      "text/html": [
       "<div>\n",
       "<style scoped>\n",
       "    .dataframe tbody tr th:only-of-type {\n",
       "        vertical-align: middle;\n",
       "    }\n",
       "\n",
       "    .dataframe tbody tr th {\n",
       "        vertical-align: top;\n",
       "    }\n",
       "\n",
       "    .dataframe thead th {\n",
       "        text-align: right;\n",
       "    }\n",
       "</style>\n",
       "<table border=\"1\" class=\"dataframe\">\n",
       "  <thead>\n",
       "    <tr style=\"text-align: right;\">\n",
       "      <th></th>\n",
       "      <th>Name</th>\n",
       "      <th>Platform</th>\n",
       "      <th>Year_of_Release</th>\n",
       "      <th>Genre</th>\n",
       "      <th>NA_sales</th>\n",
       "      <th>EU_sales</th>\n",
       "      <th>JP_sales</th>\n",
       "      <th>Other_sales</th>\n",
       "      <th>Critic_Score</th>\n",
       "      <th>User_Score</th>\n",
       "      <th>Rating</th>\n",
       "    </tr>\n",
       "  </thead>\n",
       "  <tbody>\n",
       "    <tr>\n",
       "      <th>16710</th>\n",
       "      <td>Samurai Warriors: Sanada Maru</td>\n",
       "      <td>PS3</td>\n",
       "      <td>2016.0</td>\n",
       "      <td>Action</td>\n",
       "      <td>0.00</td>\n",
       "      <td>0.00</td>\n",
       "      <td>0.01</td>\n",
       "      <td>0.0</td>\n",
       "      <td>NaN</td>\n",
       "      <td>NaN</td>\n",
       "      <td>NaN</td>\n",
       "    </tr>\n",
       "    <tr>\n",
       "      <th>16711</th>\n",
       "      <td>LMA Manager 2007</td>\n",
       "      <td>X360</td>\n",
       "      <td>2006.0</td>\n",
       "      <td>Sports</td>\n",
       "      <td>0.00</td>\n",
       "      <td>0.01</td>\n",
       "      <td>0.00</td>\n",
       "      <td>0.0</td>\n",
       "      <td>NaN</td>\n",
       "      <td>NaN</td>\n",
       "      <td>NaN</td>\n",
       "    </tr>\n",
       "    <tr>\n",
       "      <th>16712</th>\n",
       "      <td>Haitaka no Psychedelica</td>\n",
       "      <td>PSV</td>\n",
       "      <td>2016.0</td>\n",
       "      <td>Adventure</td>\n",
       "      <td>0.00</td>\n",
       "      <td>0.00</td>\n",
       "      <td>0.01</td>\n",
       "      <td>0.0</td>\n",
       "      <td>NaN</td>\n",
       "      <td>NaN</td>\n",
       "      <td>NaN</td>\n",
       "    </tr>\n",
       "    <tr>\n",
       "      <th>16713</th>\n",
       "      <td>Spirits &amp; Spells</td>\n",
       "      <td>GBA</td>\n",
       "      <td>2003.0</td>\n",
       "      <td>Platform</td>\n",
       "      <td>0.01</td>\n",
       "      <td>0.00</td>\n",
       "      <td>0.00</td>\n",
       "      <td>0.0</td>\n",
       "      <td>NaN</td>\n",
       "      <td>NaN</td>\n",
       "      <td>NaN</td>\n",
       "    </tr>\n",
       "    <tr>\n",
       "      <th>16714</th>\n",
       "      <td>Winning Post 8 2016</td>\n",
       "      <td>PSV</td>\n",
       "      <td>2016.0</td>\n",
       "      <td>Simulation</td>\n",
       "      <td>0.00</td>\n",
       "      <td>0.00</td>\n",
       "      <td>0.01</td>\n",
       "      <td>0.0</td>\n",
       "      <td>NaN</td>\n",
       "      <td>NaN</td>\n",
       "      <td>NaN</td>\n",
       "    </tr>\n",
       "  </tbody>\n",
       "</table>\n",
       "</div>"
      ],
      "text/plain": [
       "                                Name Platform  Year_of_Release       Genre  \\\n",
       "16710  Samurai Warriors: Sanada Maru      PS3           2016.0      Action   \n",
       "16711               LMA Manager 2007     X360           2006.0      Sports   \n",
       "16712        Haitaka no Psychedelica      PSV           2016.0   Adventure   \n",
       "16713               Spirits & Spells      GBA           2003.0    Platform   \n",
       "16714            Winning Post 8 2016      PSV           2016.0  Simulation   \n",
       "\n",
       "       NA_sales  EU_sales  JP_sales  Other_sales  Critic_Score User_Score  \\\n",
       "16710      0.00      0.00      0.01          0.0           NaN        NaN   \n",
       "16711      0.00      0.01      0.00          0.0           NaN        NaN   \n",
       "16712      0.00      0.00      0.01          0.0           NaN        NaN   \n",
       "16713      0.01      0.00      0.00          0.0           NaN        NaN   \n",
       "16714      0.00      0.00      0.01          0.0           NaN        NaN   \n",
       "\n",
       "      Rating  \n",
       "16710    NaN  \n",
       "16711    NaN  \n",
       "16712    NaN  \n",
       "16713    NaN  \n",
       "16714    NaN  "
      ]
     },
     "execution_count": 4,
     "metadata": {},
     "output_type": "execute_result"
    }
   ],
   "source": [
    "df.tail()"
   ]
  },
  {
   "cell_type": "code",
   "execution_count": 5,
   "metadata": {},
   "outputs": [
    {
     "data": {
      "text/plain": [
       "(16715, 11)"
      ]
     },
     "execution_count": 5,
     "metadata": {},
     "output_type": "execute_result"
    }
   ],
   "source": [
    "df.shape"
   ]
  },
  {
   "cell_type": "code",
   "execution_count": 6,
   "metadata": {},
   "outputs": [
    {
     "name": "stdout",
     "output_type": "stream",
     "text": [
      "<class 'pandas.core.frame.DataFrame'>\n",
      "RangeIndex: 16715 entries, 0 to 16714\n",
      "Data columns (total 11 columns):\n",
      " #   Column           Non-Null Count  Dtype  \n",
      "---  ------           --------------  -----  \n",
      " 0   Name             16713 non-null  object \n",
      " 1   Platform         16715 non-null  object \n",
      " 2   Year_of_Release  16446 non-null  float64\n",
      " 3   Genre            16713 non-null  object \n",
      " 4   NA_sales         16715 non-null  float64\n",
      " 5   EU_sales         16715 non-null  float64\n",
      " 6   JP_sales         16715 non-null  float64\n",
      " 7   Other_sales      16715 non-null  float64\n",
      " 8   Critic_Score     8137 non-null   float64\n",
      " 9   User_Score       10014 non-null  object \n",
      " 10  Rating           9949 non-null   object \n",
      "dtypes: float64(6), object(5)\n",
      "memory usage: 1.4+ MB\n"
     ]
    }
   ],
   "source": [
    "df.info()"
   ]
  },
  {
   "cell_type": "markdown",
   "metadata": {},
   "source": [
    "<b>Шаг 2. Подготовьте данные</b>"
   ]
  },
  {
   "cell_type": "code",
   "execution_count": 7,
   "metadata": {},
   "outputs": [
    {
     "data": {
      "text/plain": [
       "0"
      ]
     },
     "execution_count": 7,
     "metadata": {},
     "output_type": "execute_result"
    }
   ],
   "source": [
    "df.duplicated().sum()"
   ]
  },
  {
   "cell_type": "code",
   "execution_count": 8,
   "metadata": {},
   "outputs": [],
   "source": [
    "df.columns = df.columns.str.lower()"
   ]
  },
  {
   "cell_type": "markdown",
   "metadata": {},
   "source": [
    "TBD - аббревиатура от английского To Be Determined (будет определено) или To Be Decided (будет решено). Используется, если какая-то информация еще не определена или решение по вопросу не принято. Акроним служит для отметки неясностей или пропусков, которые надо заполнить, в информации требований. Следовательно, можно заменить на Nan."
   ]
  },
  {
   "cell_type": "code",
   "execution_count": 9,
   "metadata": {},
   "outputs": [],
   "source": [
    "df['user_score'] = df['user_score'].replace('tbd', 'NaN')"
   ]
  },
  {
   "cell_type": "code",
   "execution_count": 10,
   "metadata": {},
   "outputs": [],
   "source": [
    "df['year_of_release'] = df['year_of_release'].astype('Int64')\n",
    "df['user_score'] = pd.to_numeric(df['user_score'], errors='coerce', downcast='float') # для оценки нужен числовой тип\n",
    "df['user_score'] = df['user_score'].astype('float64')"
   ]
  },
  {
   "cell_type": "markdown",
   "metadata": {},
   "source": [
    "Пропуски заполнять не будем, так как это исказит дальнейшее исследование. Заполним пропуски в столбце рейтинга. Так как информации о рейтинге нет, заполним RP (рейтинг ожидается)."
   ]
  },
  {
   "cell_type": "code",
   "execution_count": 11,
   "metadata": {},
   "outputs": [],
   "source": [
    "df['rating'] = df['rating'].fillna('RP')"
   ]
  },
  {
   "cell_type": "code",
   "execution_count": 12,
   "metadata": {},
   "outputs": [
    {
     "name": "stdout",
     "output_type": "stream",
     "text": [
      "<class 'pandas.core.frame.DataFrame'>\n",
      "RangeIndex: 16715 entries, 0 to 16714\n",
      "Data columns (total 11 columns):\n",
      " #   Column           Non-Null Count  Dtype  \n",
      "---  ------           --------------  -----  \n",
      " 0   name             16713 non-null  object \n",
      " 1   platform         16715 non-null  object \n",
      " 2   year_of_release  16446 non-null  Int64  \n",
      " 3   genre            16713 non-null  object \n",
      " 4   na_sales         16715 non-null  float64\n",
      " 5   eu_sales         16715 non-null  float64\n",
      " 6   jp_sales         16715 non-null  float64\n",
      " 7   other_sales      16715 non-null  float64\n",
      " 8   critic_score     8137 non-null   float64\n",
      " 9   user_score       7590 non-null   float64\n",
      " 10  rating           16715 non-null  object \n",
      "dtypes: Int64(1), float64(6), object(4)\n",
      "memory usage: 1.4+ MB\n"
     ]
    }
   ],
   "source": [
    "df.info()"
   ]
  },
  {
   "cell_type": "code",
   "execution_count": 13,
   "metadata": {},
   "outputs": [],
   "source": [
    "df['all_sales'] = df['na_sales'] + df['eu_sales'] + df['jp_sales'] + df['other_sales']"
   ]
  },
  {
   "cell_type": "markdown",
   "metadata": {},
   "source": [
    "<b>Шаг 3. Проведите исследовательский анализ данных</b>"
   ]
  },
  {
   "cell_type": "code",
   "execution_count": 14,
   "metadata": {},
   "outputs": [
    {
     "data": {
      "text/plain": [
       "Text(0.5, 1.0, 'Количество выпускаемых игр по годам')"
      ]
     },
     "execution_count": 14,
     "metadata": {},
     "output_type": "execute_result"
    },
    {
     "data": {
      "image/png": "[encoded data removed]",
      "text/plain": [
       "<Figure size 720x432 with 1 Axes>"
      ]
     },
     "metadata": {
      "needs_background": "light"
     },
     "output_type": "display_data"
    }
   ],
   "source": [
    "year_graph = df['year_of_release'].hist(bins = 74, figsize = (10,6))\n",
    "year_graph.set_ylabel('Количество игр')\n",
    "year_graph.set_xlabel('Год')\n",
    "year_graph.set_title('Количество выпускаемых игр по годам')"
   ]
  },
  {
   "cell_type": "markdown",
   "metadata": {},
   "source": [
    "<div class=\"alert alert-warning\">\n",
    "    \n",
    "<b> Комментарий от ревьюера ⚠️</b>\n",
    "    \n",
    "Добавь, пожалуйста, на все графики названия, подписи осей и легенду ((если рассматриваешь несколько наборов данных). Можешь посмотреть [тут](https://matplotlib.org/stable/tutorials/introductory/usage.html), как их добавлять\n",
    "</div>"
   ]
  },
  {
   "cell_type": "markdown",
   "metadata": {},
   "source": [
    "С 2001 года произошел резкий скачок по выпуску игр с пиком в 2008 и 2009 году.<br>\n",
    "Данные за все периоды не важны, так как большинство платформ уже устарели. Будем рассматривать самые актуальные платформы за последние годы.<br>\n",
    "Самыми актуальными данными можно считать продажи с 2011 года (за последние 5 лет по датафрейму).<br>\n",
    "В сводную таблицу попали устаревшие платформы с минимальными показателями в 2011 и 2012 году, а также платформы, которые находятся на закате своей карьеры с минимальными показателями, начиная с 2014 года (год выхода нового поколения игровых платформ). Уберем эти показатели из таблицы. Будем считать, что минимальная планка в 5 миллионом продаж по миру является показателем успеха.<br>\n"
   ]
  },
  {
   "cell_type": "markdown",
   "metadata": {},
   "source": [
    "<div class=\"alert alert-success\">\n",
    "    \n",
    "<b> Комментарий от ревьюера ✔️</b>\n",
    "    \n",
    "Действительно, данных с 2011 года будет достаточно для прогноза на 2017 год\n",
    "\n",
    "</div>\n"
   ]
  },
  {
   "cell_type": "code",
   "execution_count": 15,
   "metadata": {},
   "outputs": [
    {
     "data": {
      "text/html": [
       "<div>\n",
       "<style scoped>\n",
       "    .dataframe tbody tr th:only-of-type {\n",
       "        vertical-align: middle;\n",
       "    }\n",
       "\n",
       "    .dataframe tbody tr th {\n",
       "        vertical-align: top;\n",
       "    }\n",
       "\n",
       "    .dataframe thead th {\n",
       "        text-align: right;\n",
       "    }\n",
       "</style>\n",
       "<table border=\"1\" class=\"dataframe\">\n",
       "  <thead>\n",
       "    <tr style=\"text-align: right;\">\n",
       "      <th></th>\n",
       "      <th></th>\n",
       "      <th>all_sales</th>\n",
       "    </tr>\n",
       "    <tr>\n",
       "      <th>platform</th>\n",
       "      <th>year_of_release</th>\n",
       "      <th></th>\n",
       "    </tr>\n",
       "  </thead>\n",
       "  <tbody>\n",
       "    <tr>\n",
       "      <th rowspan=\"6\" valign=\"top\">3DS</th>\n",
       "      <th>2011</th>\n",
       "      <td>63.20</td>\n",
       "    </tr>\n",
       "    <tr>\n",
       "      <th>2012</th>\n",
       "      <td>51.36</td>\n",
       "    </tr>\n",
       "    <tr>\n",
       "      <th>2013</th>\n",
       "      <td>56.57</td>\n",
       "    </tr>\n",
       "    <tr>\n",
       "      <th>2014</th>\n",
       "      <td>43.76</td>\n",
       "    </tr>\n",
       "    <tr>\n",
       "      <th>2015</th>\n",
       "      <td>27.78</td>\n",
       "    </tr>\n",
       "    <tr>\n",
       "      <th>2016</th>\n",
       "      <td>15.14</td>\n",
       "    </tr>\n",
       "    <tr>\n",
       "      <th rowspan=\"2\" valign=\"top\">DS</th>\n",
       "      <th>2011</th>\n",
       "      <td>26.18</td>\n",
       "    </tr>\n",
       "    <tr>\n",
       "      <th>2012</th>\n",
       "      <td>11.01</td>\n",
       "    </tr>\n",
       "    <tr>\n",
       "      <th rowspan=\"6\" valign=\"top\">PC</th>\n",
       "      <th>2011</th>\n",
       "      <td>35.03</td>\n",
       "    </tr>\n",
       "    <tr>\n",
       "      <th>2012</th>\n",
       "      <td>23.22</td>\n",
       "    </tr>\n",
       "    <tr>\n",
       "      <th>2013</th>\n",
       "      <td>12.38</td>\n",
       "    </tr>\n",
       "    <tr>\n",
       "      <th>2014</th>\n",
       "      <td>13.28</td>\n",
       "    </tr>\n",
       "    <tr>\n",
       "      <th>2015</th>\n",
       "      <td>8.52</td>\n",
       "    </tr>\n",
       "    <tr>\n",
       "      <th>2016</th>\n",
       "      <td>5.25</td>\n",
       "    </tr>\n",
       "    <tr>\n",
       "      <th rowspan=\"5\" valign=\"top\">PS3</th>\n",
       "      <th>2011</th>\n",
       "      <td>156.78</td>\n",
       "    </tr>\n",
       "    <tr>\n",
       "      <th>2012</th>\n",
       "      <td>107.36</td>\n",
       "    </tr>\n",
       "    <tr>\n",
       "      <th>2013</th>\n",
       "      <td>113.25</td>\n",
       "    </tr>\n",
       "    <tr>\n",
       "      <th>2014</th>\n",
       "      <td>47.76</td>\n",
       "    </tr>\n",
       "    <tr>\n",
       "      <th>2015</th>\n",
       "      <td>16.82</td>\n",
       "    </tr>\n",
       "    <tr>\n",
       "      <th rowspan=\"4\" valign=\"top\">PS4</th>\n",
       "      <th>2013</th>\n",
       "      <td>25.99</td>\n",
       "    </tr>\n",
       "    <tr>\n",
       "      <th>2014</th>\n",
       "      <td>100.00</td>\n",
       "    </tr>\n",
       "    <tr>\n",
       "      <th>2015</th>\n",
       "      <td>118.90</td>\n",
       "    </tr>\n",
       "    <tr>\n",
       "      <th>2016</th>\n",
       "      <td>69.25</td>\n",
       "    </tr>\n",
       "    <tr>\n",
       "      <th rowspan=\"2\" valign=\"top\">PSP</th>\n",
       "      <th>2011</th>\n",
       "      <td>17.82</td>\n",
       "    </tr>\n",
       "    <tr>\n",
       "      <th>2012</th>\n",
       "      <td>7.69</td>\n",
       "    </tr>\n",
       "    <tr>\n",
       "      <th rowspan=\"4\" valign=\"top\">PSV</th>\n",
       "      <th>2012</th>\n",
       "      <td>16.19</td>\n",
       "    </tr>\n",
       "    <tr>\n",
       "      <th>2013</th>\n",
       "      <td>10.59</td>\n",
       "    </tr>\n",
       "    <tr>\n",
       "      <th>2014</th>\n",
       "      <td>11.90</td>\n",
       "    </tr>\n",
       "    <tr>\n",
       "      <th>2015</th>\n",
       "      <td>6.25</td>\n",
       "    </tr>\n",
       "    <tr>\n",
       "      <th rowspan=\"3\" valign=\"top\">Wii</th>\n",
       "      <th>2011</th>\n",
       "      <td>59.65</td>\n",
       "    </tr>\n",
       "    <tr>\n",
       "      <th>2012</th>\n",
       "      <td>21.71</td>\n",
       "    </tr>\n",
       "    <tr>\n",
       "      <th>2013</th>\n",
       "      <td>8.59</td>\n",
       "    </tr>\n",
       "    <tr>\n",
       "      <th rowspan=\"4\" valign=\"top\">WiiU</th>\n",
       "      <th>2012</th>\n",
       "      <td>17.56</td>\n",
       "    </tr>\n",
       "    <tr>\n",
       "      <th>2013</th>\n",
       "      <td>21.65</td>\n",
       "    </tr>\n",
       "    <tr>\n",
       "      <th>2014</th>\n",
       "      <td>22.03</td>\n",
       "    </tr>\n",
       "    <tr>\n",
       "      <th>2015</th>\n",
       "      <td>16.35</td>\n",
       "    </tr>\n",
       "    <tr>\n",
       "      <th rowspan=\"5\" valign=\"top\">X360</th>\n",
       "      <th>2011</th>\n",
       "      <td>143.84</td>\n",
       "    </tr>\n",
       "    <tr>\n",
       "      <th>2012</th>\n",
       "      <td>99.74</td>\n",
       "    </tr>\n",
       "    <tr>\n",
       "      <th>2013</th>\n",
       "      <td>88.58</td>\n",
       "    </tr>\n",
       "    <tr>\n",
       "      <th>2014</th>\n",
       "      <td>34.74</td>\n",
       "    </tr>\n",
       "    <tr>\n",
       "      <th>2015</th>\n",
       "      <td>11.96</td>\n",
       "    </tr>\n",
       "    <tr>\n",
       "      <th rowspan=\"4\" valign=\"top\">XOne</th>\n",
       "      <th>2013</th>\n",
       "      <td>18.96</td>\n",
       "    </tr>\n",
       "    <tr>\n",
       "      <th>2014</th>\n",
       "      <td>54.07</td>\n",
       "    </tr>\n",
       "    <tr>\n",
       "      <th>2015</th>\n",
       "      <td>60.14</td>\n",
       "    </tr>\n",
       "    <tr>\n",
       "      <th>2016</th>\n",
       "      <td>26.15</td>\n",
       "    </tr>\n",
       "  </tbody>\n",
       "</table>\n",
       "</div>"
      ],
      "text/plain": [
       "                          all_sales\n",
       "platform year_of_release           \n",
       "3DS      2011                 63.20\n",
       "         2012                 51.36\n",
       "         2013                 56.57\n",
       "         2014                 43.76\n",
       "         2015                 27.78\n",
       "         2016                 15.14\n",
       "DS       2011                 26.18\n",
       "         2012                 11.01\n",
       "PC       2011                 35.03\n",
       "         2012                 23.22\n",
       "         2013                 12.38\n",
       "         2014                 13.28\n",
       "         2015                  8.52\n",
       "         2016                  5.25\n",
       "PS3      2011                156.78\n",
       "         2012                107.36\n",
       "         2013                113.25\n",
       "         2014                 47.76\n",
       "         2015                 16.82\n",
       "PS4      2013                 25.99\n",
       "         2014                100.00\n",
       "         2015                118.90\n",
       "         2016                 69.25\n",
       "PSP      2011                 17.82\n",
       "         2012                  7.69\n",
       "PSV      2012                 16.19\n",
       "         2013                 10.59\n",
       "         2014                 11.90\n",
       "         2015                  6.25\n",
       "Wii      2011                 59.65\n",
       "         2012                 21.71\n",
       "         2013                  8.59\n",
       "WiiU     2012                 17.56\n",
       "         2013                 21.65\n",
       "         2014                 22.03\n",
       "         2015                 16.35\n",
       "X360     2011                143.84\n",
       "         2012                 99.74\n",
       "         2013                 88.58\n",
       "         2014                 34.74\n",
       "         2015                 11.96\n",
       "XOne     2013                 18.96\n",
       "         2014                 54.07\n",
       "         2015                 60.14\n",
       "         2016                 26.15"
      ]
     },
     "execution_count": 15,
     "metadata": {},
     "output_type": "execute_result"
    }
   ],
   "source": [
    "last_sales = df[df['year_of_release'] > 2010]\n",
    "sales = last_sales.pivot_table(index = ['platform', 'year_of_release'], values = 'all_sales', aggfunc = 'sum')\n",
    "last_top_sales = sales[sales['all_sales'] >= 5]\n",
    "last_top_sales"
   ]
  },
  {
   "cell_type": "markdown",
   "metadata": {},
   "source": [
    "Как мы видим, рынок игровых платформ переживает не лучшие времена: у большинства платформ крайне сильно падают показатели продаж на 4-5 год. Это объясняется тем, что старые платформы заменяются платформами нового поколения (резкий обвал продаж у PS3 и резкий скачок продаж у PS4 в 2014 году), а также оттоком аудитории из-за внешних факторов: рост цен на игры, развитие мобильного гейминга итд."
   ]
  },
  {
   "cell_type": "code",
   "execution_count": 16,
   "metadata": {},
   "outputs": [
    {
     "data": {
      "text/plain": [
       "Text(0.5, 0, 'Год релиза')"
      ]
     },
     "execution_count": 16,
     "metadata": {},
     "output_type": "execute_result"
    },
    {
     "data": {
      "image/png": "[encoded data removed]",
      "text/plain": [
       "<Figure size 864x576 with 1 Axes>"
      ]
     },
     "metadata": {
      "needs_background": "light"
     },
     "output_type": "display_data"
    }
   ],
   "source": [
    "df.plot(x = 'year_of_release', y = 'platform', kind = 'scatter', figsize = (12,8), title = 'Диаграмма рассеяния выпускаемых игр на платформах');\n",
    "plt.ylabel('Платформа')\n",
    "plt.xlabel('Год релиза')"
   ]
  },
  {
   "cell_type": "markdown",
   "metadata": {},
   "source": [
    "Как мы видим, средний срок жизни игровых платформ - 8-10 лет. Отметим, что для ПК игры выходят постоянно, следовательно, ПК является уникальной платформой, так как можно менять комплектующие."
   ]
  },
  {
   "cell_type": "code",
   "execution_count": 17,
   "metadata": {
    "scrolled": false
   },
   "outputs": [
    {
     "data": {
      "text/plain": [
       "platform\n",
       "PS3     445.57\n",
       "X360    380.38\n",
       "PS4     314.14\n",
       "3DS     257.81\n",
       "XOne    159.32\n",
       "PC       97.68\n",
       "Wii      95.02\n",
       "WiiU     82.19\n",
       "PSV      53.81\n",
       "DS       38.73\n",
       "PSP      29.01\n",
       "PS2       0.45\n",
       "Name: all_sales, dtype: float64"
      ]
     },
     "execution_count": 17,
     "metadata": {},
     "output_type": "execute_result"
    }
   ],
   "source": [
    "top_platform = last_sales.groupby('platform')['all_sales'].sum().sort_values(ascending = False)\n",
    "top_platform"
   ]
  },
  {
   "cell_type": "markdown",
   "metadata": {},
   "source": [
    "<div class=\"alert alert-success\">\n",
    "    \n",
    "<b> Комментарий от ревьюера ✔️</b>\n",
    "    \n",
    "Ты правильно определил продолжительность жизни платформы\n",
    "</div>"
   ]
  },
  {
   "cell_type": "markdown",
   "metadata": {},
   "source": [
    "Топ-5 платформами за последние 5 лет оказались PS3, X360, PS4, 3DS и XOne. Для них и будем строить график распределения продаж по годам."
   ]
  },
  {
   "cell_type": "code",
   "execution_count": 18,
   "metadata": {},
   "outputs": [],
   "source": [
    "top_platform_list = last_sales.query('platform == \"PS3\" or platform == \"X360\" or platform == \"PS4\" or platform == \"3DS\" or platform == \"XOne\"')"
   ]
  },
  {
   "cell_type": "code",
   "execution_count": 19,
   "metadata": {
    "scrolled": false
   },
   "outputs": [
    {
     "data": {
      "image/png": "[encoded data removed]",
      "text/plain": [
       "<Figure size 1440x720 with 1 Axes>"
      ]
     },
     "metadata": {
      "needs_background": "light"
     },
     "output_type": "display_data"
    }
   ],
   "source": [
    "# строим сводную таблицу по продажам\n",
    "platform_sales_by_year = last_sales.pivot_table(index=\"year_of_release\", columns=\"platform\", values=\"all_sales\", aggfunc=\"sum\")\n",
    "\n",
    "# рисуем графики\n",
    "platform_sales_by_year.plot(figsize=(20, 10), grid=True, ylabel = 'Общие продажи', xlabel = 'Платформа');"
   ]
  },
  {
   "cell_type": "markdown",
   "metadata": {},
   "source": [
    "К 2016 году абсолютно все топовые платформы показали отрицательный рост по продажам. Если выбирать потенциально прибыльные платформы, то это PS4 и XOne, так как они единственные показывали рост с 2013 года."
   ]
  },
  {
   "cell_type": "markdown",
   "metadata": {},
   "source": [
    "<div class=\"alert alert-warning\">\n",
    "    \n",
    "<b> Комментарий от ревьюера ⚠️</b>\n",
    "    \n",
    "Лучше рассмотреть все платформы за актуальный период, потому что в данных может быть какая-нибудь новая платформа с небольшими суммарными продажами, но хорошей динамикой.\n",
    "</div>"
   ]
  },
  {
   "cell_type": "code",
   "execution_count": 20,
   "metadata": {
    "scrolled": false
   },
   "outputs": [
    {
     "data": {
      "text/plain": [
       "(0.0, 2.8)"
      ]
     },
     "execution_count": 20,
     "metadata": {},
     "output_type": "execute_result"
    },
    {
     "data": {
      "image/png": "[encoded data removed]",
      "text/plain": [
       "<Figure size 864x432 with 1 Axes>"
      ]
     },
     "metadata": {
      "needs_background": "light"
     },
     "output_type": "display_data"
    }
   ],
   "source": [
    "plt.figure(figsize = (12,6))\n",
    "sns.boxplot(x = 'platform', y = 'all_sales', data = top_platform_list)\n",
    "plt.title('Ящик с усами')\n",
    "plt.xlabel('Платформа')\n",
    "plt.ylabel('Глобальные продажи')\n",
    "plt.ylim(0,2.8)"
   ]
  },
  {
   "cell_type": "markdown",
   "metadata": {},
   "source": [
    "Исходя из графиков, можно заметить, что медиана у каждой платформы протекает по-разному, при этом медианные значения продаж низкие. <br>\n",
    "Самые высокие продажи у X360, PS4, XOne и PS3. 3DS выглядит явным аутсайдером. <br>\n",
    "Из-за того, что у платформ низкие медианные значения продаж, высокие продажи бестселлеров (коммерчески успешных игр) ящик с усами посчитал за выбросы."
   ]
  },
  {
   "cell_type": "markdown",
   "metadata": {},
   "source": [
    "\n",
    "<div class=\"alert alert-success\">\n",
    "    \n",
    "<b> Комментарий от ревьюера ✔️</b>\n",
    "    \n",
    "Все верно \n",
    "\n",
    "</div>"
   ]
  },
  {
   "cell_type": "code",
   "execution_count": 21,
   "metadata": {},
   "outputs": [],
   "source": [
    "platforms_list = ['PS3', 'X360', 'PS4', '3DS', 'XOne']"
   ]
  },
  {
   "cell_type": "code",
   "execution_count": 22,
   "metadata": {},
   "outputs": [],
   "source": [
    "def other_platform_matrix(name_of_platform):\n",
    "    platform = top_platform_list[top_platform_list['platform']==name_of_platform]\n",
    "    scatter_user = platform.plot(kind = 'scatter', x='user_score', y='all_sales', title = name_of_platform, figsize = (10,6), xlabel = 'Оценка пользователей')\n",
    "    scatter_critic = platform.plot(kind = 'scatter', x='critic_score', y='all_sales', title = name_of_platform, figsize = (10,6), xlabel = 'Оценка критиков')\n",
    "\n",
    "    correl = platform['user_score'].corr(platform['all_sales'])\n",
    "    critic_correl = platform['critic_score'].corr(platform['all_sales'])\n",
    "    \n",
    "    if correl > -0.1 and correl < 0.1:\n",
    "        print('Отсутствие завимости между пользовательской оценкой и платформой', name_of_platform,'.','Коэффициент  Пирсона равен:', correl)\n",
    "    if correl >= 0.1 and correl <= 0.3:\n",
    "        print('Cлабая завимость между пользовательской оценкой и платформой', name_of_platform,'.','Коэффициент Пирсона равен:', correl)\n",
    "        \n",
    "    if critic_correl > -0.1 and critic_correl < 0.1:\n",
    "        print('Отсутствие завимости между критик оценкой и платформой', name_of_platform,'.','Коэффициент Пирсона равен:', critic_correl)\n",
    "        print('\\n')\n",
    "    if critic_correl >= 0.1 and critic_correl <= 0.3:\n",
    "        print('Cлабая завимость между критик оценкой и платформой', name_of_platform,'.','Коэффициент Пирсона равен:', critic_correl)\n",
    "        print('\\n')\n",
    "    if critic_correl > 0.3 and critic_correl < 0.5:\n",
    "        print('Умеренная завимость между критик оценкой и платформой', name_of_platform,'.','Коэффициент Пирсона равен:', critic_correl)\n",
    "        print('\\n')"
   ]
  },
  {
   "cell_type": "markdown",
   "metadata": {},
   "source": [
    "<div class=\"alert alert-warning\">\n",
    "    \n",
    "<b> Комментарий от ревьюера ⚠️</b>\n",
    "    \n",
    "Лучше, наверное рассмотреть в фунции все варианты коэффициента (от -1 до 1). Для correl, например, рассматривается только от -0,1 до 0,3\n",
    "</div>"
   ]
  },
  {
   "cell_type": "code",
   "execution_count": 23,
   "metadata": {
    "scrolled": false
   },
   "outputs": [
    {
     "name": "stdout",
     "output_type": "stream",
     "text": [
      "Отсутствие завимости между пользовательской оценкой и платформой PS3 . Коэффициент  Пирсона равен: 0.014089348812579703\n",
      "Умеренная завимость между критик оценкой и платформой PS3 . Коэффициент Пирсона равен: 0.38011114718290767\n",
      "\n",
      "\n",
      "Отсутствие завимости между пользовательской оценкой и платформой X360 . Коэффициент  Пирсона равен: 0.038918176950311405\n",
      "Умеренная завимость между критик оценкой и платформой X360 . Коэффициент Пирсона равен: 0.3912533245484558\n",
      "\n",
      "\n",
      "Отсутствие завимости между пользовательской оценкой и платформой PS4 . Коэффициент  Пирсона равен: -0.031957109005188264\n",
      "Умеренная завимость между критик оценкой и платформой PS4 . Коэффициент Пирсона равен: 0.40656790206178095\n",
      "\n",
      "\n",
      "Cлабая завимость между пользовательской оценкой и платформой 3DS . Коэффициент Пирсона равен: 0.2220784080796993\n",
      "Умеренная завимость между критик оценкой и платформой 3DS . Коэффициент Пирсона равен: 0.3487397305984834\n",
      "\n",
      "\n",
      "Отсутствие завимости между пользовательской оценкой и платформой XOne . Коэффициент  Пирсона равен: -0.06892505319711206\n",
      "Умеренная завимость между критик оценкой и платформой XOne . Коэффициент Пирсона равен: 0.4169983280084017\n",
      "\n",
      "\n"
     ]
    },
    {
     "data": {
      "image/png": "[encoded data removed]",
      "text/plain": [
       "<Figure size 720x432 with 1 Axes>"
      ]
     },
     "metadata": {
      "needs_background": "light"
     },
     "output_type": "display_data"
    },
    {
     "data": {
      "image/png": "[encoded data removed]",
      "text/plain": [
       "<Figure size 720x432 with 1 Axes>"
      ]
     },
     "metadata": {
      "needs_background": "light"
     },
     "output_type": "display_data"
    },
    {
     "data": {
      "image/png": "[encoded data removed]",
      "text/plain": [
       "<Figure size 720x432 with 1 Axes>"
      ]
     },
     "metadata": {
      "needs_background": "light"
     },
     "output_type": "display_data"
    },
    {
     "data": {
      "image/png": "[encoded data removed]",
      "text/plain": [
       "<Figure size 720x432 with 1 Axes>"
      ]
     },
     "metadata": {
      "needs_background": "light"
     },
     "output_type": "display_data"
    },
    {
     "data": {
      "image/png": "[encoded data removed]",
      "text/plain": [
       "<Figure size 720x432 with 1 Axes>"
      ]
     },
     "metadata": {
      "needs_background": "light"
     },
     "output_type": "display_data"
    },
    {
     "data": {
      "image/png": "[encoded data removed]",
      "text/plain": [
       "<Figure size 720x432 with 1 Axes>"
      ]
     },
     "metadata": {
      "needs_background": "light"
     },
     "output_type": "display_data"
    },
    {
     "data": {
      "image/png": "[encoded data removed]",
      "text/plain": [
       "<Figure size 720x432 with 1 Axes>"
      ]
     },
     "metadata": {
      "needs_background": "light"
     },
     "output_type": "display_data"
    },
    {
     "data": {
      "image/png": "[encoded data removed]",
      "text/plain": [
       "<Figure size 720x432 with 1 Axes>"
      ]
     },
     "metadata": {
      "needs_background": "light"
     },
     "output_type": "display_data"
    },
    {
     "data": {
      "image/png": "[encoded data removed]",
      "text/plain": [
       "<Figure size 720x432 with 1 Axes>"
      ]
     },
     "metadata": {
      "needs_background": "light"
     },
     "output_type": "display_data"
    },
    {
     "data": {
      "image/png": "[encoded data removed]",
      "text/plain": [
       "<Figure size 720x432 with 1 Axes>"
      ]
     },
     "metadata": {
      "needs_background": "light"
     },
     "output_type": "display_data"
    }
   ],
   "source": [
    "for platform in platforms_list:\n",
    "    other_platform_matrix(platform)"
   ]
  },
  {
   "cell_type": "markdown",
   "metadata": {},
   "source": [
    "Насколько мы видим, пользовательские оценки никак на продажи игр не влияют. У платформы 3DS показал слабую зависимость <br>\n",
    "Оценки критиков, наоборот, умеренно влияют на продажи игр. <br>\n",
    "Это говорит о том, что покупатели прислушиваются больше к критикам, нежели к оценкам других пользователей."
   ]
  },
  {
   "cell_type": "markdown",
   "metadata": {},
   "source": [
    "<div class=\"alert alert-success\">\n",
    "    \n",
    "<b> Комментарий от ревьюера ✔️</b>\n",
    "    \n",
    "Ты хорошо справился с определением зависимости продаж от оценок критиков и пользователей\n",
    "</div>\n"
   ]
  },
  {
   "cell_type": "code",
   "execution_count": 24,
   "metadata": {},
   "outputs": [
    {
     "data": {
      "text/html": [
       "<div>\n",
       "<style scoped>\n",
       "    .dataframe tbody tr th:only-of-type {\n",
       "        vertical-align: middle;\n",
       "    }\n",
       "\n",
       "    .dataframe tbody tr th {\n",
       "        vertical-align: top;\n",
       "    }\n",
       "\n",
       "    .dataframe thead th {\n",
       "        text-align: right;\n",
       "    }\n",
       "</style>\n",
       "<table border=\"1\" class=\"dataframe\">\n",
       "  <thead>\n",
       "    <tr style=\"text-align: right;\">\n",
       "      <th></th>\n",
       "      <th>Кол-во игр</th>\n",
       "      <th>Общая прибыль</th>\n",
       "      <th>Средняя прибыль</th>\n",
       "    </tr>\n",
       "    <tr>\n",
       "      <th>genre</th>\n",
       "      <th></th>\n",
       "      <th></th>\n",
       "      <th></th>\n",
       "    </tr>\n",
       "  </thead>\n",
       "  <tbody>\n",
       "    <tr>\n",
       "      <th>Action</th>\n",
       "      <td>793</td>\n",
       "      <td>460.76</td>\n",
       "      <td>0.581034</td>\n",
       "    </tr>\n",
       "    <tr>\n",
       "      <th>Shooter</th>\n",
       "      <td>243</td>\n",
       "      <td>368.53</td>\n",
       "      <td>1.516584</td>\n",
       "    </tr>\n",
       "    <tr>\n",
       "      <th>Sports</th>\n",
       "      <td>271</td>\n",
       "      <td>206.81</td>\n",
       "      <td>0.763137</td>\n",
       "    </tr>\n",
       "    <tr>\n",
       "      <th>Role-Playing</th>\n",
       "      <td>251</td>\n",
       "      <td>185.94</td>\n",
       "      <td>0.740797</td>\n",
       "    </tr>\n",
       "    <tr>\n",
       "      <th>Racing</th>\n",
       "      <td>123</td>\n",
       "      <td>72.35</td>\n",
       "      <td>0.588211</td>\n",
       "    </tr>\n",
       "    <tr>\n",
       "      <th>Misc</th>\n",
       "      <td>196</td>\n",
       "      <td>70.65</td>\n",
       "      <td>0.360459</td>\n",
       "    </tr>\n",
       "    <tr>\n",
       "      <th>Platform</th>\n",
       "      <td>71</td>\n",
       "      <td>57.33</td>\n",
       "      <td>0.807465</td>\n",
       "    </tr>\n",
       "    <tr>\n",
       "      <th>Fighting</th>\n",
       "      <td>118</td>\n",
       "      <td>54.57</td>\n",
       "      <td>0.462458</td>\n",
       "    </tr>\n",
       "    <tr>\n",
       "      <th>Simulation</th>\n",
       "      <td>70</td>\n",
       "      <td>35.28</td>\n",
       "      <td>0.504000</td>\n",
       "    </tr>\n",
       "    <tr>\n",
       "      <th>Adventure</th>\n",
       "      <td>161</td>\n",
       "      <td>33.44</td>\n",
       "      <td>0.207702</td>\n",
       "    </tr>\n",
       "    <tr>\n",
       "      <th>Strategy</th>\n",
       "      <td>38</td>\n",
       "      <td>5.93</td>\n",
       "      <td>0.156053</td>\n",
       "    </tr>\n",
       "    <tr>\n",
       "      <th>Puzzle</th>\n",
       "      <td>22</td>\n",
       "      <td>5.63</td>\n",
       "      <td>0.255909</td>\n",
       "    </tr>\n",
       "  </tbody>\n",
       "</table>\n",
       "</div>"
      ],
      "text/plain": [
       "              Кол-во игр  Общая прибыль  Средняя прибыль\n",
       "genre                                                   \n",
       "Action               793         460.76         0.581034\n",
       "Shooter              243         368.53         1.516584\n",
       "Sports               271         206.81         0.763137\n",
       "Role-Playing         251         185.94         0.740797\n",
       "Racing               123          72.35         0.588211\n",
       "Misc                 196          70.65         0.360459\n",
       "Platform              71          57.33         0.807465\n",
       "Fighting             118          54.57         0.462458\n",
       "Simulation            70          35.28         0.504000\n",
       "Adventure            161          33.44         0.207702\n",
       "Strategy              38           5.93         0.156053\n",
       "Puzzle                22           5.63         0.255909"
      ]
     },
     "execution_count": 24,
     "metadata": {},
     "output_type": "execute_result"
    }
   ],
   "source": [
    "top_genre = top_platform_list.pivot_table(index='genre', values='all_sales',aggfunc=['count', 'sum','mean'])\n",
    "top_genre.columns = ['Кол-во игр', 'Общая прибыль', 'Средняя прибыль']\n",
    "top_genre.sort_values(by='Общая прибыль', ascending=False)"
   ]
  },
  {
   "cell_type": "markdown",
   "metadata": {},
   "source": [
    "Самыми прибыльными жанрами являются экшн и шутеры, что достаточно ожидаемо. Самыми не прибыльными являются паззлы и стратегии. При этом средняя прибыль у шутеров выше всех."
   ]
  },
  {
   "cell_type": "markdown",
   "metadata": {},
   "source": [
    "<div class=\"alert alert-success\">\n",
    "    \n",
    "<b> Комментарий от ревьюера ✔️</b>\n",
    "    \n",
    "С анализом жанров все замечательно\n",
    "</div>\n"
   ]
  },
  {
   "cell_type": "markdown",
   "metadata": {},
   "source": [
    "<b>Шаг 4. Составьте портрет пользователя каждого региона</b>"
   ]
  },
  {
   "cell_type": "code",
   "execution_count": 25,
   "metadata": {},
   "outputs": [
    {
     "data": {
      "image/png": "[encoded data removed]",
      "text/plain": [
       "<Figure size 720x432 with 1 Axes>"
      ]
     },
     "metadata": {
      "needs_background": "light"
     },
     "output_type": "display_data"
    },
    {
     "data": {
      "image/png": "[encoded data removed]",
      "text/plain": [
       "<Figure size 720x432 with 1 Axes>"
      ]
     },
     "metadata": {
      "needs_background": "light"
     },
     "output_type": "display_data"
    },
    {
     "data": {
      "image/png": "[encoded data removed]",
      "text/plain": [
       "<Figure size 720x432 with 1 Axes>"
      ]
     },
     "metadata": {
      "needs_background": "light"
     },
     "output_type": "display_data"
    }
   ],
   "source": [
    "na_genre = last_sales.pivot_table(index = 'genre', values = 'na_sales', aggfunc = 'sum').sort_values(by = 'na_sales',ascending=False).head()\n",
    "jp_genre = last_sales.pivot_table(index = 'genre', values = 'jp_sales', aggfunc = 'sum').sort_values(by = 'jp_sales',ascending=False).head()\n",
    "eu_genre = last_sales.pivot_table(index = 'genre', values = 'eu_sales', aggfunc = 'sum').sort_values(by = 'eu_sales',ascending=False).head()\n",
    "\n",
    "na_genre.plot(kind = 'bar', figsize = (10,6), title = 'Продажи в Северной Америке (миллионы проданных копий)', ylabel = 'Общие продажи');\n",
    "jp_genre.plot(kind = 'bar', figsize = (10,6), title = 'Продажи в Японии (миллионы проданных копий)', ylabel = 'Общие продажи');\n",
    "eu_genre.plot(kind = 'bar', figsize = (10,6), title = 'Продажи в Европе (миллионы проданных копий)', ylabel = 'Общие продажи');"
   ]
  },
  {
   "cell_type": "markdown",
   "metadata": {},
   "source": [
    "В Европе и Северной Америке картина по продажам примерно одинаковая (лидируют жанры экшн, шутер и спорт). В Японии же лидирует жанр ролевых игр."
   ]
  },
  {
   "cell_type": "markdown",
   "metadata": {},
   "source": [
    "<div class=\"alert alert-success\">\n",
    "    \n",
    "<b> Комментарий от ревьюера ✔️</b>\n",
    "    \n",
    "Все верно \n",
    "\n",
    "</div>"
   ]
  },
  {
   "cell_type": "code",
   "execution_count": 26,
   "metadata": {
    "scrolled": false
   },
   "outputs": [
    {
     "data": {
      "image/png": "[encoded data removed]",
      "text/plain": [
       "<Figure size 720x432 with 1 Axes>"
      ]
     },
     "metadata": {
      "needs_background": "light"
     },
     "output_type": "display_data"
    },
    {
     "data": {
      "image/png": "[encoded data removed]",
      "text/plain": [
       "<Figure size 720x432 with 1 Axes>"
      ]
     },
     "metadata": {
      "needs_background": "light"
     },
     "output_type": "display_data"
    },
    {
     "data": {
      "image/png": "[encoded data removed]",
      "text/plain": [
       "<Figure size 720x432 with 1 Axes>"
      ]
     },
     "metadata": {
      "needs_background": "light"
     },
     "output_type": "display_data"
    }
   ],
   "source": [
    "na_genre = last_sales.pivot_table(index = 'platform', values = 'na_sales', aggfunc = 'sum').sort_values(by = 'na_sales',ascending=False).head()\n",
    "jp_genre = last_sales.pivot_table(index = 'platform', values = 'jp_sales', aggfunc = 'sum').sort_values(by = 'jp_sales',ascending=False).head()\n",
    "eu_genre = last_sales.pivot_table(index = 'platform', values = 'eu_sales', aggfunc = 'sum').sort_values(by = 'eu_sales',ascending=False).head()\n",
    "\n",
    "na_genre.plot(kind = 'bar', figsize = (10,6), title = 'Самые популярные платформы в Северной Америке', ylabel = 'Общие продажи');\n",
    "jp_genre.plot(kind = 'bar', figsize = (10,6), title = 'Самые популярные платформы в Японии', ylabel = 'Общие продажи');\n",
    "eu_genre.plot(kind = 'bar', figsize = (10,6), title = 'Самые популярные платформы в Европе)', ylabel = 'Общие продажи');"
   ]
  },
  {
   "cell_type": "markdown",
   "metadata": {},
   "source": [
    "Самой популярной платформой у пользователей из Северной Америки является X360. Это платформа от американской компании Microsoft и в целом по статистике в Северной Америке больше любят серию платформ XBox. График совпадает со статистикой.<br>\n",
    "Самой популярной платформой у пользователей из Японии является 3DS. Это творение от японской компании Nintendo. Также на эту платформу выпускают очень много ролевых игр, что совпадает со стататиской по популярности жанров. Также стоит отметить, что пользователи из Японии предпочитают платформы только от японский производителей.<br>\n",
    "Самой популярной платформой у пользователей из Европы является PS3. При этом показатели более новой модели PS4 совсем немного отстают от показателей PS3. Также совсем недалеко находится и X360. В целом, европейцы предпочитают платформы и от Sony, и от Microsoft."
   ]
  },
  {
   "cell_type": "code",
   "execution_count": 27,
   "metadata": {},
   "outputs": [
    {
     "data": {
      "text/html": [
       "<div>\n",
       "<style scoped>\n",
       "    .dataframe tbody tr th:only-of-type {\n",
       "        vertical-align: middle;\n",
       "    }\n",
       "\n",
       "    .dataframe tbody tr th {\n",
       "        vertical-align: top;\n",
       "    }\n",
       "\n",
       "    .dataframe thead th {\n",
       "        text-align: right;\n",
       "    }\n",
       "</style>\n",
       "<table border=\"1\" class=\"dataframe\">\n",
       "  <thead>\n",
       "    <tr style=\"text-align: right;\">\n",
       "      <th></th>\n",
       "      <th>eu_sales</th>\n",
       "      <th>jp_sales</th>\n",
       "      <th>na_sales</th>\n",
       "    </tr>\n",
       "    <tr>\n",
       "      <th>rating</th>\n",
       "      <th></th>\n",
       "      <th></th>\n",
       "      <th></th>\n",
       "    </tr>\n",
       "  </thead>\n",
       "  <tbody>\n",
       "    <tr>\n",
       "      <th>M</th>\n",
       "      <td>250.26</td>\n",
       "      <td>26.14</td>\n",
       "      <td>308.45</td>\n",
       "    </tr>\n",
       "    <tr>\n",
       "      <th>E</th>\n",
       "      <td>141.73</td>\n",
       "      <td>36.68</td>\n",
       "      <td>170.17</td>\n",
       "    </tr>\n",
       "    <tr>\n",
       "      <th>RP</th>\n",
       "      <td>116.64</td>\n",
       "      <td>138.21</td>\n",
       "      <td>123.69</td>\n",
       "    </tr>\n",
       "    <tr>\n",
       "      <th>E10+</th>\n",
       "      <td>78.00</td>\n",
       "      <td>11.23</td>\n",
       "      <td>117.72</td>\n",
       "    </tr>\n",
       "    <tr>\n",
       "      <th>T</th>\n",
       "      <td>83.16</td>\n",
       "      <td>33.39</td>\n",
       "      <td>109.31</td>\n",
       "    </tr>\n",
       "    <tr>\n",
       "      <th>EC</th>\n",
       "      <td>0.00</td>\n",
       "      <td>0.00</td>\n",
       "      <td>0.42</td>\n",
       "    </tr>\n",
       "  </tbody>\n",
       "</table>\n",
       "</div>"
      ],
      "text/plain": [
       "        eu_sales  jp_sales  na_sales\n",
       "rating                              \n",
       "M         250.26     26.14    308.45\n",
       "E         141.73     36.68    170.17\n",
       "RP        116.64    138.21    123.69\n",
       "E10+       78.00     11.23    117.72\n",
       "T          83.16     33.39    109.31\n",
       "EC          0.00      0.00      0.42"
      ]
     },
     "execution_count": 27,
     "metadata": {},
     "output_type": "execute_result"
    }
   ],
   "source": [
    "esrb = last_sales.pivot_table(index='rating', values=['na_sales', 'eu_sales', 'jp_sales'], aggfunc='sum').sort_values(by = 'na_sales',ascending=False)\n",
    "esrb     "
   ]
  },
  {
   "cell_type": "markdown",
   "metadata": {},
   "source": [
    "Самый популярный рейтинг игр в Европе и Северной Америке - это \"M\" (для взрослых). Следом идет \"E\" (для всех). <br>\n",
    "В Японии самый популярный с большим отрывом рейтинг - это \"RP\" (ожидается). Посмотрим, какие платформы и жанры чаще всего ожидают рейтинг от ESRB."
   ]
  },
  {
   "cell_type": "code",
   "execution_count": 28,
   "metadata": {},
   "outputs": [
    {
     "data": {
      "image/png": "[encoded data removed]",
      "text/plain": [
       "<Figure size 720x432 with 1 Axes>"
      ]
     },
     "metadata": {
      "needs_background": "light"
     },
     "output_type": "display_data"
    },
    {
     "data": {
      "image/png": "[encoded data removed]",
      "text/plain": [
       "<Figure size 720x432 with 1 Axes>"
      ]
     },
     "metadata": {
      "needs_background": "light"
     },
     "output_type": "display_data"
    }
   ],
   "source": [
    "rp = last_sales[last_sales['rating'] == 'RP']\n",
    "rp_genre = rp.pivot_table(index = 'genre', values = 'jp_sales', aggfunc = 'sum').sort_values(by = 'jp_sales',ascending=False).head()\n",
    "rp_platform = rp.pivot_table(index = 'platform', values = 'jp_sales', aggfunc = 'sum').sort_values(by = 'jp_sales',ascending=False).head()\n",
    "rp_genre.plot(kind = 'bar', figsize = (10,6), title = 'Самые популярные жанры в Японии с рейтингом RP', ylabel = 'Общие продажи');\n",
    "rp_platform.plot(kind = 'bar', figsize = (10,6), title = 'Самые популярные платформы в Японии с рейтингом RP', ylabel = 'Общие продажи');"
   ]
  },
  {
   "cell_type": "markdown",
   "metadata": {},
   "source": [
    "Следовательно, игры, выходящие на портативных платформах, реже получают или дольше ожидают сертификацию от ESRB. Так как в Японии больше всего геймеров, предпочитающих именно портативные платформы, больше всего продаж приносят игры без сертификации. Самый популярный жанр - Role-Playing."
   ]
  },
  {
   "cell_type": "markdown",
   "metadata": {},
   "source": [
    "<div class=\"alert alert-danger\">\n",
    "    \n",
    "<b> Комментарий от ревьюера ❗</b>\n",
    "    \n",
    "Думаю, стоит добавить новую категорию для игр без возрастного рейтинга (например \"undefined\"). Это позволит сделать дополнительные выводы\n",
    "</div>"
   ]
  },
  {
   "cell_type": "markdown",
   "metadata": {},
   "source": [
    "<div class=\"alert alert-success\">\n",
    "    \n",
    "<b> Комментарий от ревьюера 2 ✔️</b>\n",
    "\n",
    "Здорово, что дополнил исследование! Хорошо, что постарался разобраться в причинах популярности игр без рейтинга ESRB в Японии.\n",
    "</div>\n"
   ]
  },
  {
   "cell_type": "markdown",
   "metadata": {},
   "source": [
    "<div class=\"alert alert-success\">\n",
    "    \n",
    "<b> Комментарий от ревьюера ✔️</b>\n",
    "    \n",
    "Ты хорошо справился с составлением портретов пользователей\n",
    "</div>"
   ]
  },
  {
   "cell_type": "markdown",
   "metadata": {},
   "source": [
    "<b>Шаг 5. Проверьте гипотезы</b>"
   ]
  },
  {
   "cell_type": "code",
   "execution_count": 29,
   "metadata": {},
   "outputs": [],
   "source": [
    "from scipy import stats as st"
   ]
  },
  {
   "cell_type": "markdown",
   "metadata": {},
   "source": [
    "<div class=\"alert alert-warning\">\n",
    "    \n",
    "<b> Комментарий от ревьюера ⚠️</b>\n",
    "    \n",
    "Все библиотеки лучше импортировать в начале файла. Об этом говорится в [стилевом гайде по питону](https://www.python.org/dev/peps/pep-0008/#imports)\n",
    "    \n",
    "    Imports are always put at the top of the file, just after any module comments and docstrings, and before module globals and constants.\n",
    "</div>"
   ]
  },
  {
   "cell_type": "markdown",
   "metadata": {},
   "source": [
    "Сформулируем нулевые гипотезы:\n",
    "\n",
    "Нулевая гипотеза H0: Средние пользовательские рейтинги платформ Xbox One и PC одинаковые; <br>\n",
    "Альтернативная гипотеза H1: Средние пользовательские рейтинги платформ Xbox One и PC различаются; <br>"
   ]
  },
  {
   "cell_type": "markdown",
   "metadata": {},
   "source": [
    "Для проверки двух дисперсий можно использовать Тест Левене"
   ]
  },
  {
   "cell_type": "code",
   "execution_count": 30,
   "metadata": {},
   "outputs": [
    {
     "data": {
      "text/plain": [
       "0.26939519863850653"
      ]
     },
     "execution_count": 30,
     "metadata": {},
     "output_type": "execute_result"
    }
   ],
   "source": [
    "from scipy.stats import levene #(https://docs.scipy.org/doc/scipy/reference/generated/scipy.stats.levene.html)\n",
    "\n",
    "xbox_sample = df[df['platform']==\"XOne\"]['user_score'].dropna()\n",
    "pc_sample = df[df['platform']==\"PC\"]['user_score'].dropna()\n",
    "\n",
    "stat, p = levene(xbox_sample, pc_sample)\n",
    "p"
   ]
  },
  {
   "cell_type": "markdown",
   "metadata": {},
   "source": [
    "Значение 0.26 по Тесту Левене достаточно большое. Будем считать, что выборки имеют равные дисперсии."
   ]
  },
  {
   "cell_type": "code",
   "execution_count": 31,
   "metadata": {},
   "outputs": [
    {
     "name": "stdout",
     "output_type": "stream",
     "text": [
      "p-значение: 1.389642973077905e-05\n",
      "Отвергаем нулевую гипотезу\n"
     ]
    }
   ],
   "source": [
    "alpha = 0.05\n",
    "\n",
    "results = st.ttest_ind(xbox_sample, pc_sample, equal_var = True)\n",
    "\n",
    "print('p-значение:', results.pvalue)\n",
    "\n",
    "if (results.pvalue < alpha): \n",
    "    print(\"Отвергаем нулевую гипотезу\")\n",
    "else:\n",
    "    print(\"Не получилось отвергнуть нулевую гипотезу\") "
   ]
  },
  {
   "cell_type": "markdown",
   "metadata": {},
   "source": [
    "Следовательно, средние пользовательские рейтинги платформ Xbox One и PC различаются"
   ]
  },
  {
   "cell_type": "markdown",
   "metadata": {},
   "source": [
    "<div class=\"alert alert-success\">\n",
    "    \n",
    "<b> Комментарий от ревьюера ✔️</b>\n",
    "    \n",
    "Ты правильно сформулировал гипотезы и выбрал подходящий способ проверки\n",
    "</div>\n"
   ]
  },
  {
   "cell_type": "markdown",
   "metadata": {},
   "source": [
    "Сформулируем нулевые гипотезы:\n",
    "\n",
    "Нулевая гипотеза H0: Средние пользовательские рейтинги жанров Action и Sports одинаковые; <br>\n",
    "Альтернативная гипотеза H1: Средние пользовательские рейтинги жанров Action и Sports различаются;"
   ]
  },
  {
   "cell_type": "code",
   "execution_count": 32,
   "metadata": {},
   "outputs": [
    {
     "data": {
      "text/plain": [
       "0.00017366415501989647"
      ]
     },
     "execution_count": 32,
     "metadata": {},
     "output_type": "execute_result"
    }
   ],
   "source": [
    "action_sample = df[df['genre']==\"Action\"]['user_score'].dropna()\n",
    "sports_sample = df[df['genre']==\"Sports\"]['user_score'].dropna()\n",
    "\n",
    "stat, p = levene(action_sample, sports_sample)\n",
    "p"
   ]
  },
  {
   "cell_type": "markdown",
   "metadata": {},
   "source": [
    "Крайне низкое значение Теста Левене. Будем считать, что дисперсии двух выборок различаются."
   ]
  },
  {
   "cell_type": "code",
   "execution_count": 33,
   "metadata": {},
   "outputs": [
    {
     "name": "stdout",
     "output_type": "stream",
     "text": [
      "p-значение: 0.11483815981646321\n",
      "Не получилось отвергнуть нулевую гипотезу\n"
     ]
    }
   ],
   "source": [
    "alpha = 0.05\n",
    "\n",
    "results = st.ttest_ind(action_sample, sports_sample, equal_var = False)\n",
    "\n",
    "print('p-значение:', results.pvalue)\n",
    "\n",
    "if (results.pvalue < alpha): \n",
    "    print(\"Отвергаем нулевую гипотезу\")\n",
    "else:\n",
    "    print(\"Не получилось отвергнуть нулевую гипотезу\") "
   ]
  },
  {
   "cell_type": "markdown",
   "metadata": {},
   "source": [
    "11% - вероятность ошибки первого рода. Отвергнуть нулевую гипотезу не получилось."
   ]
  },
  {
   "cell_type": "markdown",
   "metadata": {},
   "source": [
    "<b>Шаг 6. Общий вывод</b>"
   ]
  },
  {
   "cell_type": "markdown",
   "metadata": {},
   "source": [
    "1. С 2001 количество вышедших игр стремильно начало расти, с пиком в 2008-2009 году. Однако, с 2010 года тенцендия пошла на спад; <br>\n",
    "2. Почти у каждой платформы сильно падают продажи на 4-5 год; <br>\n",
    "3. Топ-5 платформами за последние 5 лет оказались PS3, X360, PS4, 3DS и XOne; <br>\n",
    "4. Средний срок жизни игровых платформ - 8-10 лет; <br>\n",
    "5. Если выбирать потенциально прибыльные платформы, то это PS4 и XOne; <br>\n",
    "6. Пользовательские оценки никак на продажи игр не влияют. Оценки критиков, наоборот, умеренно влияют на продажи игр; <br>\n",
    "7. В Европе и Северной Америке картина по продажам примерно одинаковая (лидируют жанры экшн, шутер и спорт). В Японии же лидирует жанр ролевых игр; <br>\n",
    "8. Самая популярная платформа в Северной Америке - X360, в Японии - 3DS, в Европе - PS3; <br>\n",
    "9. Отвергли нулевую гипотезу о том, что средние пользовательские рейтинги платформ Xbox One и PC совпадают; <br>\n",
    "10. Не отвергли нулевую гипотезу о том, что средние пользовательские рейтинги жанров Action и Sports совпадают; <br>"
   ]
  }
 ],
 "metadata": {
  "ExecuteTimeLog": [
   {
    "duration": 394,
    "start_time": "2022-11-28T17:13:24.907Z"
   },
   {
    "duration": 466,
    "start_time": "2022-11-28T17:13:38.761Z"
   },
   {
    "duration": 31,
    "start_time": "2022-11-28T17:13:44.102Z"
   },
   {
    "duration": 47,
    "start_time": "2022-11-28T17:13:55.077Z"
   },
   {
    "duration": 7,
    "start_time": "2022-11-28T17:13:55.369Z"
   },
   {
    "duration": 1879,
    "start_time": "2022-11-28T17:14:01.168Z"
   },
   {
    "duration": 65,
    "start_time": "2022-11-28T17:14:05.307Z"
   },
   {
    "duration": 15,
    "start_time": "2022-11-28T17:14:05.926Z"
   },
   {
    "duration": 16,
    "start_time": "2022-11-28T17:14:40.773Z"
   },
   {
    "duration": 5,
    "start_time": "2022-11-28T17:14:51.486Z"
   },
   {
    "duration": 19,
    "start_time": "2022-11-28T17:14:56.769Z"
   },
   {
    "duration": 1426,
    "start_time": "2022-11-28T17:15:18.922Z"
   },
   {
    "duration": 12,
    "start_time": "2022-11-28T17:15:25.371Z"
   },
   {
    "duration": 7,
    "start_time": "2022-11-28T17:15:34.172Z"
   },
   {
    "duration": 10,
    "start_time": "2022-11-28T17:16:21.980Z"
   },
   {
    "duration": 19,
    "start_time": "2022-11-28T17:16:37.589Z"
   },
   {
    "duration": 16,
    "start_time": "2022-11-28T17:16:42.713Z"
   },
   {
    "duration": 11,
    "start_time": "2022-11-28T17:16:49.079Z"
   },
   {
    "duration": 12,
    "start_time": "2022-11-28T17:17:16.370Z"
   },
   {
    "duration": 10,
    "start_time": "2022-11-28T17:18:09.620Z"
   },
   {
    "duration": 6,
    "start_time": "2022-11-28T17:18:50.005Z"
   },
   {
    "duration": 2,
    "start_time": "2022-11-28T17:43:43.346Z"
   },
   {
    "duration": 400,
    "start_time": "2022-11-28T17:43:47.507Z"
   },
   {
    "duration": 62,
    "start_time": "2022-11-28T17:43:47.910Z"
   },
   {
    "duration": 24,
    "start_time": "2022-11-28T17:43:47.973Z"
   },
   {
    "duration": 16,
    "start_time": "2022-11-28T17:43:47.999Z"
   },
   {
    "duration": 7,
    "start_time": "2022-11-28T17:43:48.017Z"
   },
   {
    "duration": 43,
    "start_time": "2022-11-28T17:43:48.025Z"
   },
   {
    "duration": 20,
    "start_time": "2022-11-28T17:43:48.070Z"
   },
   {
    "duration": 338,
    "start_time": "2022-11-29T17:17:58.550Z"
   },
   {
    "duration": 63,
    "start_time": "2022-11-29T17:19:23.064Z"
   },
   {
    "duration": 377,
    "start_time": "2022-11-29T17:19:27.608Z"
   },
   {
    "duration": 91,
    "start_time": "2022-11-29T17:19:27.987Z"
   },
   {
    "duration": 19,
    "start_time": "2022-11-29T17:19:28.080Z"
   },
   {
    "duration": 49,
    "start_time": "2022-11-29T17:19:28.100Z"
   },
   {
    "duration": 14,
    "start_time": "2022-11-29T17:19:28.151Z"
   },
   {
    "duration": 23,
    "start_time": "2022-11-29T17:19:28.167Z"
   },
   {
    "duration": 75,
    "start_time": "2022-11-29T17:19:28.192Z"
   },
   {
    "duration": 9,
    "start_time": "2022-11-29T17:20:04.976Z"
   },
   {
    "duration": 14,
    "start_time": "2022-11-29T17:20:10.683Z"
   },
   {
    "duration": 4,
    "start_time": "2022-11-29T17:22:04.950Z"
   },
   {
    "duration": 14,
    "start_time": "2022-11-29T17:22:11.740Z"
   },
   {
    "duration": 4,
    "start_time": "2022-11-29T17:22:35.450Z"
   },
   {
    "duration": 13,
    "start_time": "2022-11-29T17:22:36.404Z"
   },
   {
    "duration": 7,
    "start_time": "2022-11-29T17:23:00.842Z"
   },
   {
    "duration": 4,
    "start_time": "2022-11-29T17:23:05.874Z"
   },
   {
    "duration": 14,
    "start_time": "2022-11-29T17:23:06.432Z"
   },
   {
    "duration": 15,
    "start_time": "2022-11-29T17:23:41.957Z"
   },
   {
    "duration": 6,
    "start_time": "2022-11-29T17:23:47.202Z"
   },
   {
    "duration": 5,
    "start_time": "2022-11-29T17:24:00.006Z"
   },
   {
    "duration": 6,
    "start_time": "2022-11-29T17:25:11.141Z"
   },
   {
    "duration": 6,
    "start_time": "2022-11-29T17:25:16.411Z"
   },
   {
    "duration": 11,
    "start_time": "2022-11-29T17:26:24.298Z"
   },
   {
    "duration": 3,
    "start_time": "2022-11-29T17:27:03.392Z"
   },
   {
    "duration": 10,
    "start_time": "2022-11-29T17:27:08.350Z"
   },
   {
    "duration": 4,
    "start_time": "2022-11-29T17:27:17.060Z"
   },
   {
    "duration": 13,
    "start_time": "2022-11-29T17:27:18.731Z"
   },
   {
    "duration": 381,
    "start_time": "2022-11-29T17:27:26.406Z"
   },
   {
    "duration": 50,
    "start_time": "2022-11-29T17:27:26.789Z"
   },
   {
    "duration": 18,
    "start_time": "2022-11-29T17:27:26.840Z"
   },
   {
    "duration": 11,
    "start_time": "2022-11-29T17:27:26.859Z"
   },
   {
    "duration": 6,
    "start_time": "2022-11-29T17:27:26.872Z"
   },
   {
    "duration": 19,
    "start_time": "2022-11-29T17:27:26.880Z"
   },
   {
    "duration": 5,
    "start_time": "2022-11-29T17:27:26.900Z"
   },
   {
    "duration": 8,
    "start_time": "2022-11-29T17:27:26.907Z"
   },
   {
    "duration": 14,
    "start_time": "2022-11-29T17:27:26.916Z"
   },
   {
    "duration": 6,
    "start_time": "2022-11-29T17:27:40.232Z"
   },
   {
    "duration": 12,
    "start_time": "2022-11-29T17:27:43.610Z"
   },
   {
    "duration": 80,
    "start_time": "2022-11-29T17:28:15.830Z"
   },
   {
    "duration": 49,
    "start_time": "2022-11-29T17:29:13.717Z"
   },
   {
    "duration": 6,
    "start_time": "2022-11-29T17:29:20.583Z"
   },
   {
    "duration": 5,
    "start_time": "2022-11-29T17:31:56.158Z"
   },
   {
    "duration": 11,
    "start_time": "2022-11-29T17:32:01.662Z"
   },
   {
    "duration": 4,
    "start_time": "2022-11-29T17:33:02.487Z"
   },
   {
    "duration": 17,
    "start_time": "2022-11-29T17:33:04.678Z"
   },
   {
    "duration": 701,
    "start_time": "2022-11-29T17:34:43.429Z"
   },
   {
    "duration": 5,
    "start_time": "2022-11-29T17:34:50.092Z"
   },
   {
    "duration": 13,
    "start_time": "2022-11-29T17:34:55.736Z"
   },
   {
    "duration": 4,
    "start_time": "2022-11-29T17:35:17.755Z"
   },
   {
    "duration": 15,
    "start_time": "2022-11-29T17:35:19.026Z"
   },
   {
    "duration": 423,
    "start_time": "2022-11-29T17:36:14.866Z"
   },
   {
    "duration": 51,
    "start_time": "2022-11-29T17:36:15.291Z"
   },
   {
    "duration": 21,
    "start_time": "2022-11-29T17:36:15.345Z"
   },
   {
    "duration": 19,
    "start_time": "2022-11-29T17:36:15.368Z"
   },
   {
    "duration": 26,
    "start_time": "2022-11-29T17:36:15.390Z"
   },
   {
    "duration": 44,
    "start_time": "2022-11-29T17:36:15.417Z"
   },
   {
    "duration": 15,
    "start_time": "2022-11-29T17:36:15.463Z"
   },
   {
    "duration": 26,
    "start_time": "2022-11-29T17:36:15.479Z"
   },
   {
    "duration": 28,
    "start_time": "2022-11-29T17:36:15.506Z"
   },
   {
    "duration": 64,
    "start_time": "2022-11-29T17:36:38.222Z"
   },
   {
    "duration": 11,
    "start_time": "2022-11-29T17:37:31.965Z"
   },
   {
    "duration": 4,
    "start_time": "2022-11-29T17:37:33.017Z"
   },
   {
    "duration": 11,
    "start_time": "2022-11-29T17:37:36.426Z"
   },
   {
    "duration": 377,
    "start_time": "2022-11-29T17:38:02.808Z"
   },
   {
    "duration": 50,
    "start_time": "2022-11-29T17:38:03.186Z"
   },
   {
    "duration": 17,
    "start_time": "2022-11-29T17:38:03.238Z"
   },
   {
    "duration": 11,
    "start_time": "2022-11-29T17:38:03.257Z"
   },
   {
    "duration": 7,
    "start_time": "2022-11-29T17:38:03.270Z"
   },
   {
    "duration": 16,
    "start_time": "2022-11-29T17:38:03.278Z"
   },
   {
    "duration": 4,
    "start_time": "2022-11-29T17:38:03.295Z"
   },
   {
    "duration": 68,
    "start_time": "2022-11-29T17:38:03.300Z"
   },
   {
    "duration": 0,
    "start_time": "2022-11-29T17:38:03.370Z"
   },
   {
    "duration": 7,
    "start_time": "2022-11-29T17:38:21.445Z"
   },
   {
    "duration": 8,
    "start_time": "2022-11-29T17:38:25.965Z"
   },
   {
    "duration": 8,
    "start_time": "2022-11-29T17:38:31.526Z"
   },
   {
    "duration": 8,
    "start_time": "2022-11-29T17:38:36.507Z"
   },
   {
    "duration": 8,
    "start_time": "2022-11-29T17:38:41.190Z"
   },
   {
    "duration": 7,
    "start_time": "2022-11-29T17:38:47.867Z"
   },
   {
    "duration": 8,
    "start_time": "2022-11-29T17:38:52.434Z"
   },
   {
    "duration": 11,
    "start_time": "2022-11-29T17:39:03.304Z"
   },
   {
    "duration": 20,
    "start_time": "2022-11-29T17:39:09.475Z"
   },
   {
    "duration": 7,
    "start_time": "2022-11-29T17:39:14.487Z"
   },
   {
    "duration": 4,
    "start_time": "2022-11-29T17:39:56.964Z"
   },
   {
    "duration": 13,
    "start_time": "2022-11-29T17:39:57.885Z"
   },
   {
    "duration": 9,
    "start_time": "2022-11-29T17:40:10.982Z"
   },
   {
    "duration": 14,
    "start_time": "2022-11-29T17:40:20.703Z"
   },
   {
    "duration": 4,
    "start_time": "2022-11-29T17:43:00.735Z"
   },
   {
    "duration": 7,
    "start_time": "2022-11-29T17:43:45.850Z"
   },
   {
    "duration": 14,
    "start_time": "2022-11-29T17:43:47.494Z"
   },
   {
    "duration": 5,
    "start_time": "2022-11-29T17:48:43.459Z"
   },
   {
    "duration": 25,
    "start_time": "2022-11-29T17:48:54.067Z"
   },
   {
    "duration": 19,
    "start_time": "2022-11-29T17:49:06.910Z"
   },
   {
    "duration": 10,
    "start_time": "2022-11-29T17:49:27.017Z"
   },
   {
    "duration": 4,
    "start_time": "2022-11-29T17:49:50.684Z"
   },
   {
    "duration": 16,
    "start_time": "2022-11-29T17:49:52.590Z"
   },
   {
    "duration": 414,
    "start_time": "2022-11-29T17:57:45.370Z"
   },
   {
    "duration": 51,
    "start_time": "2022-11-29T17:57:45.786Z"
   },
   {
    "duration": 18,
    "start_time": "2022-11-29T17:57:45.839Z"
   },
   {
    "duration": 16,
    "start_time": "2022-11-29T17:57:45.858Z"
   },
   {
    "duration": 6,
    "start_time": "2022-11-29T17:57:45.876Z"
   },
   {
    "duration": 16,
    "start_time": "2022-11-29T17:57:45.883Z"
   },
   {
    "duration": 60,
    "start_time": "2022-11-29T17:58:38.742Z"
   },
   {
    "duration": 3,
    "start_time": "2022-11-29T17:58:43.848Z"
   },
   {
    "duration": 14,
    "start_time": "2022-11-29T17:58:48.929Z"
   },
   {
    "duration": 12,
    "start_time": "2022-11-29T17:59:28.685Z"
   },
   {
    "duration": 5,
    "start_time": "2022-11-29T18:00:20.728Z"
   },
   {
    "duration": 12,
    "start_time": "2022-11-29T18:00:25.794Z"
   },
   {
    "duration": 347,
    "start_time": "2022-11-29T18:01:40.120Z"
   },
   {
    "duration": 613,
    "start_time": "2022-11-29T18:01:42.612Z"
   },
   {
    "duration": 51,
    "start_time": "2022-11-29T18:01:43.226Z"
   },
   {
    "duration": 15,
    "start_time": "2022-11-29T18:01:43.278Z"
   },
   {
    "duration": 12,
    "start_time": "2022-11-29T18:01:43.294Z"
   },
   {
    "duration": 6,
    "start_time": "2022-11-29T18:01:43.308Z"
   },
   {
    "duration": 16,
    "start_time": "2022-11-29T18:01:43.315Z"
   },
   {
    "duration": 3,
    "start_time": "2022-11-29T18:01:43.332Z"
   },
   {
    "duration": 10,
    "start_time": "2022-11-29T18:01:43.337Z"
   },
   {
    "duration": 14,
    "start_time": "2022-11-29T18:01:43.348Z"
   },
   {
    "duration": 8,
    "start_time": "2022-11-29T18:01:43.363Z"
   },
   {
    "duration": 70,
    "start_time": "2022-11-29T18:02:39.729Z"
   },
   {
    "duration": 160,
    "start_time": "2022-11-29T18:02:44.448Z"
   },
   {
    "duration": 4,
    "start_time": "2022-11-29T18:03:01.475Z"
   },
   {
    "duration": 8,
    "start_time": "2022-11-29T18:03:06.120Z"
   },
   {
    "duration": 5,
    "start_time": "2022-11-29T18:03:12.235Z"
   },
   {
    "duration": 178,
    "start_time": "2022-11-29T18:03:19.321Z"
   },
   {
    "duration": 202,
    "start_time": "2022-11-29T18:04:00.265Z"
   },
   {
    "duration": 198,
    "start_time": "2022-11-29T18:04:07.106Z"
   },
   {
    "duration": 170,
    "start_time": "2022-11-29T18:04:15.719Z"
   },
   {
    "duration": 209,
    "start_time": "2022-11-29T18:04:20.969Z"
   },
   {
    "duration": 218,
    "start_time": "2022-11-29T18:04:25.623Z"
   },
   {
    "duration": 125,
    "start_time": "2022-11-29T18:06:03.846Z"
   },
   {
    "duration": 152,
    "start_time": "2022-11-29T18:06:11.230Z"
   },
   {
    "duration": 152,
    "start_time": "2022-11-29T18:06:23.595Z"
   },
   {
    "duration": 184,
    "start_time": "2022-11-29T18:06:28.791Z"
   },
   {
    "duration": 759,
    "start_time": "2022-11-29T19:07:48.873Z"
   },
   {
    "duration": 6,
    "start_time": "2022-11-29T19:08:09.068Z"
   },
   {
    "duration": 15,
    "start_time": "2022-11-29T19:13:16.230Z"
   },
   {
    "duration": 15,
    "start_time": "2022-11-29T19:13:24.524Z"
   },
   {
    "duration": 15,
    "start_time": "2022-11-29T19:19:50.593Z"
   },
   {
    "duration": 248,
    "start_time": "2022-11-29T20:00:30.203Z"
   },
   {
    "duration": 132,
    "start_time": "2022-11-29T20:00:39.857Z"
   },
   {
    "duration": 230,
    "start_time": "2022-11-29T20:00:46.083Z"
   },
   {
    "duration": 4,
    "start_time": "2022-11-29T20:01:38.071Z"
   },
   {
    "duration": 4,
    "start_time": "2022-11-29T20:01:56.481Z"
   },
   {
    "duration": 122,
    "start_time": "2022-11-29T20:02:00.249Z"
   },
   {
    "duration": 211,
    "start_time": "2022-11-29T20:02:12.180Z"
   },
   {
    "duration": 82,
    "start_time": "2022-11-30T18:22:44.521Z"
   },
   {
    "duration": 49,
    "start_time": "2022-11-30T18:22:48.420Z"
   },
   {
    "duration": 758,
    "start_time": "2022-11-30T18:22:53.504Z"
   },
   {
    "duration": 193,
    "start_time": "2022-11-30T18:22:54.264Z"
   },
   {
    "duration": 17,
    "start_time": "2022-11-30T18:22:54.458Z"
   },
   {
    "duration": 25,
    "start_time": "2022-11-30T18:22:54.476Z"
   },
   {
    "duration": 35,
    "start_time": "2022-11-30T18:22:54.503Z"
   },
   {
    "duration": 45,
    "start_time": "2022-11-30T18:22:54.540Z"
   },
   {
    "duration": 32,
    "start_time": "2022-11-30T18:22:54.587Z"
   },
   {
    "duration": 3,
    "start_time": "2022-11-30T18:22:54.621Z"
   },
   {
    "duration": 1296,
    "start_time": "2022-11-30T18:22:54.626Z"
   },
   {
    "duration": 0,
    "start_time": "2022-11-30T18:22:55.923Z"
   },
   {
    "duration": 0,
    "start_time": "2022-11-30T18:22:55.925Z"
   },
   {
    "duration": 0,
    "start_time": "2022-11-30T18:22:55.926Z"
   },
   {
    "duration": 0,
    "start_time": "2022-11-30T18:22:55.927Z"
   },
   {
    "duration": 1113,
    "start_time": "2022-11-30T18:23:03.637Z"
   },
   {
    "duration": 11,
    "start_time": "2022-11-30T18:23:12.101Z"
   },
   {
    "duration": 9,
    "start_time": "2022-11-30T18:23:39.547Z"
   },
   {
    "duration": 8,
    "start_time": "2022-11-30T18:24:41.032Z"
   },
   {
    "duration": 17,
    "start_time": "2022-11-30T18:24:47.770Z"
   },
   {
    "duration": 7,
    "start_time": "2022-11-30T18:27:18.489Z"
   },
   {
    "duration": 4,
    "start_time": "2022-11-30T18:27:33.605Z"
   },
   {
    "duration": 16,
    "start_time": "2022-11-30T18:27:37.350Z"
   },
   {
    "duration": 9,
    "start_time": "2022-11-30T18:32:49.882Z"
   },
   {
    "duration": 4,
    "start_time": "2022-11-30T18:32:56.782Z"
   },
   {
    "duration": 13,
    "start_time": "2022-11-30T18:32:57.672Z"
   },
   {
    "duration": 19,
    "start_time": "2022-11-30T18:33:30.786Z"
   },
   {
    "duration": 603,
    "start_time": "2022-11-30T18:35:45.834Z"
   },
   {
    "duration": 52,
    "start_time": "2022-11-30T18:35:46.439Z"
   },
   {
    "duration": 23,
    "start_time": "2022-11-30T18:35:46.493Z"
   },
   {
    "duration": 14,
    "start_time": "2022-11-30T18:35:46.517Z"
   },
   {
    "duration": 5,
    "start_time": "2022-11-30T18:35:46.533Z"
   },
   {
    "duration": 16,
    "start_time": "2022-11-30T18:35:46.539Z"
   },
   {
    "duration": 18,
    "start_time": "2022-11-30T18:35:46.556Z"
   },
   {
    "duration": 3,
    "start_time": "2022-11-30T18:35:46.576Z"
   },
   {
    "duration": 100,
    "start_time": "2022-11-30T18:35:46.580Z"
   },
   {
    "duration": 0,
    "start_time": "2022-11-30T18:35:46.682Z"
   },
   {
    "duration": 0,
    "start_time": "2022-11-30T18:35:46.683Z"
   },
   {
    "duration": 0,
    "start_time": "2022-11-30T18:35:46.684Z"
   },
   {
    "duration": 0,
    "start_time": "2022-11-30T18:35:46.685Z"
   },
   {
    "duration": 0,
    "start_time": "2022-11-30T18:35:46.686Z"
   },
   {
    "duration": 12,
    "start_time": "2022-11-30T18:35:54.359Z"
   },
   {
    "duration": 4,
    "start_time": "2022-11-30T18:36:06.007Z"
   },
   {
    "duration": 12,
    "start_time": "2022-11-30T18:36:06.922Z"
   },
   {
    "duration": 4,
    "start_time": "2022-11-30T18:36:17.662Z"
   },
   {
    "duration": 13,
    "start_time": "2022-11-30T18:36:19.001Z"
   },
   {
    "duration": 643,
    "start_time": "2022-11-30T18:36:23.506Z"
   },
   {
    "duration": 53,
    "start_time": "2022-11-30T18:36:24.151Z"
   },
   {
    "duration": 23,
    "start_time": "2022-11-30T18:36:24.206Z"
   },
   {
    "duration": 12,
    "start_time": "2022-11-30T18:36:24.230Z"
   },
   {
    "duration": 6,
    "start_time": "2022-11-30T18:36:24.244Z"
   },
   {
    "duration": 17,
    "start_time": "2022-11-30T18:36:24.251Z"
   },
   {
    "duration": 15,
    "start_time": "2022-11-30T18:36:24.269Z"
   },
   {
    "duration": 3,
    "start_time": "2022-11-30T18:36:24.285Z"
   },
   {
    "duration": 7,
    "start_time": "2022-11-30T18:36:24.289Z"
   },
   {
    "duration": 13,
    "start_time": "2022-11-30T18:36:24.297Z"
   },
   {
    "duration": 5,
    "start_time": "2022-11-30T18:36:24.311Z"
   },
   {
    "duration": 13,
    "start_time": "2022-11-30T18:36:24.317Z"
   },
   {
    "duration": 6,
    "start_time": "2022-11-30T18:36:24.332Z"
   },
   {
    "duration": 266,
    "start_time": "2022-11-30T18:36:24.340Z"
   },
   {
    "duration": 5,
    "start_time": "2022-11-30T18:36:36.325Z"
   },
   {
    "duration": 14,
    "start_time": "2022-11-30T18:36:36.785Z"
   },
   {
    "duration": 9,
    "start_time": "2022-11-30T18:37:07.828Z"
   },
   {
    "duration": 13,
    "start_time": "2022-11-30T18:37:08.409Z"
   },
   {
    "duration": 596,
    "start_time": "2022-11-30T18:37:48.327Z"
   },
   {
    "duration": 52,
    "start_time": "2022-11-30T18:37:48.925Z"
   },
   {
    "duration": 22,
    "start_time": "2022-11-30T18:37:48.979Z"
   },
   {
    "duration": 18,
    "start_time": "2022-11-30T18:37:49.003Z"
   },
   {
    "duration": 6,
    "start_time": "2022-11-30T18:37:49.023Z"
   },
   {
    "duration": 19,
    "start_time": "2022-11-30T18:37:49.031Z"
   },
   {
    "duration": 16,
    "start_time": "2022-11-30T18:37:49.052Z"
   },
   {
    "duration": 3,
    "start_time": "2022-11-30T18:37:49.070Z"
   },
   {
    "duration": 30,
    "start_time": "2022-11-30T18:37:49.074Z"
   },
   {
    "duration": 13,
    "start_time": "2022-11-30T18:37:49.106Z"
   },
   {
    "duration": 5,
    "start_time": "2022-11-30T18:37:49.121Z"
   },
   {
    "duration": 18,
    "start_time": "2022-11-30T18:37:49.128Z"
   },
   {
    "duration": 14,
    "start_time": "2022-11-30T18:37:49.148Z"
   },
   {
    "duration": 226,
    "start_time": "2022-11-30T18:37:49.164Z"
   },
   {
    "duration": 8,
    "start_time": "2022-11-30T18:37:57.868Z"
   },
   {
    "duration": 14,
    "start_time": "2022-11-30T18:37:58.408Z"
   },
   {
    "duration": 5,
    "start_time": "2022-11-30T18:38:19.252Z"
   },
   {
    "duration": 12,
    "start_time": "2022-11-30T18:38:19.522Z"
   },
   {
    "duration": 209,
    "start_time": "2022-11-30T18:40:40.911Z"
   },
   {
    "duration": 261,
    "start_time": "2022-11-30T18:41:17.594Z"
   },
   {
    "duration": 64,
    "start_time": "2022-11-30T18:44:49.898Z"
   },
   {
    "duration": 22,
    "start_time": "2022-11-30T18:45:25.793Z"
   },
   {
    "duration": 22,
    "start_time": "2022-11-30T18:46:34.085Z"
   },
   {
    "duration": 19,
    "start_time": "2022-11-30T18:47:19.282Z"
   },
   {
    "duration": 19,
    "start_time": "2022-11-30T18:47:43.488Z"
   },
   {
    "duration": 21,
    "start_time": "2022-11-30T18:47:47.331Z"
   },
   {
    "duration": 20,
    "start_time": "2022-11-30T18:47:51.154Z"
   },
   {
    "duration": 19,
    "start_time": "2022-11-30T18:48:00.566Z"
   },
   {
    "duration": 21,
    "start_time": "2022-11-30T18:48:07.229Z"
   },
   {
    "duration": 19,
    "start_time": "2022-11-30T18:48:11.134Z"
   },
   {
    "duration": 14,
    "start_time": "2022-11-30T18:48:45.664Z"
   },
   {
    "duration": 19,
    "start_time": "2022-11-30T18:49:44.108Z"
   },
   {
    "duration": 19,
    "start_time": "2022-11-30T18:49:49.423Z"
   },
   {
    "duration": 43,
    "start_time": "2022-12-01T06:23:49.503Z"
   },
   {
    "duration": 751,
    "start_time": "2022-12-01T06:23:54.492Z"
   },
   {
    "duration": 192,
    "start_time": "2022-12-01T06:23:55.245Z"
   },
   {
    "duration": 17,
    "start_time": "2022-12-01T06:23:55.441Z"
   },
   {
    "duration": 12,
    "start_time": "2022-12-01T06:23:55.460Z"
   },
   {
    "duration": 6,
    "start_time": "2022-12-01T06:23:55.473Z"
   },
   {
    "duration": 17,
    "start_time": "2022-12-01T06:23:55.480Z"
   },
   {
    "duration": 16,
    "start_time": "2022-12-01T06:23:55.499Z"
   },
   {
    "duration": 8,
    "start_time": "2022-12-01T06:23:55.517Z"
   },
   {
    "duration": 12,
    "start_time": "2022-12-01T06:23:55.526Z"
   },
   {
    "duration": 11,
    "start_time": "2022-12-01T06:23:55.540Z"
   },
   {
    "duration": 25,
    "start_time": "2022-12-01T06:23:55.553Z"
   },
   {
    "duration": 13,
    "start_time": "2022-12-01T06:23:55.580Z"
   },
   {
    "duration": 250,
    "start_time": "2022-12-01T06:23:55.595Z"
   },
   {
    "duration": 79,
    "start_time": "2022-12-01T06:23:55.846Z"
   },
   {
    "duration": 18,
    "start_time": "2022-12-01T06:24:10.858Z"
   },
   {
    "duration": 20,
    "start_time": "2022-12-01T06:24:16.564Z"
   },
   {
    "duration": 19,
    "start_time": "2022-12-01T06:24:34.905Z"
   },
   {
    "duration": 21,
    "start_time": "2022-12-01T06:25:05.058Z"
   },
   {
    "duration": 20,
    "start_time": "2022-12-01T06:25:12.103Z"
   },
   {
    "duration": 20,
    "start_time": "2022-12-01T06:25:49.623Z"
   },
   {
    "duration": 20,
    "start_time": "2022-12-01T06:26:30.247Z"
   },
   {
    "duration": 21,
    "start_time": "2022-12-01T06:30:17.922Z"
   },
   {
    "duration": 22,
    "start_time": "2022-12-01T06:30:44.653Z"
   },
   {
    "duration": 23,
    "start_time": "2022-12-01T06:31:15.692Z"
   },
   {
    "duration": 28,
    "start_time": "2022-12-01T06:31:21.628Z"
   },
   {
    "duration": 21,
    "start_time": "2022-12-01T06:31:26.368Z"
   },
   {
    "duration": 221,
    "start_time": "2022-12-01T06:54:35.775Z"
   },
   {
    "duration": 280,
    "start_time": "2022-12-01T06:55:09.298Z"
   },
   {
    "duration": 278,
    "start_time": "2022-12-01T06:55:13.946Z"
   },
   {
    "duration": 24,
    "start_time": "2022-12-01T07:04:20.972Z"
   },
   {
    "duration": 23,
    "start_time": "2022-12-01T07:04:29.603Z"
   },
   {
    "duration": 21,
    "start_time": "2022-12-01T07:24:30.429Z"
   },
   {
    "duration": 250,
    "start_time": "2022-12-01T07:38:17.045Z"
   },
   {
    "duration": 297,
    "start_time": "2022-12-01T07:38:20.909Z"
   },
   {
    "duration": 272,
    "start_time": "2022-12-01T07:38:25.018Z"
   },
   {
    "duration": 342,
    "start_time": "2022-12-01T07:38:29.650Z"
   },
   {
    "duration": 14,
    "start_time": "2022-12-01T07:39:05.321Z"
   },
   {
    "duration": 25,
    "start_time": "2022-12-01T07:39:11.069Z"
   },
   {
    "duration": 791,
    "start_time": "2022-12-01T10:16:50.893Z"
   },
   {
    "duration": 196,
    "start_time": "2022-12-01T10:16:51.686Z"
   },
   {
    "duration": 16,
    "start_time": "2022-12-01T10:16:51.884Z"
   },
   {
    "duration": 12,
    "start_time": "2022-12-01T10:16:51.902Z"
   },
   {
    "duration": 14,
    "start_time": "2022-12-01T10:16:51.916Z"
   },
   {
    "duration": 22,
    "start_time": "2022-12-01T10:16:51.932Z"
   },
   {
    "duration": 15,
    "start_time": "2022-12-01T10:16:51.956Z"
   },
   {
    "duration": 6,
    "start_time": "2022-12-01T10:16:51.972Z"
   },
   {
    "duration": 20,
    "start_time": "2022-12-01T10:16:51.979Z"
   },
   {
    "duration": 12,
    "start_time": "2022-12-01T10:16:52.001Z"
   },
   {
    "duration": 5,
    "start_time": "2022-12-01T10:16:52.014Z"
   },
   {
    "duration": 15,
    "start_time": "2022-12-01T10:16:52.021Z"
   },
   {
    "duration": 254,
    "start_time": "2022-12-01T10:16:52.037Z"
   },
   {
    "duration": 30,
    "start_time": "2022-12-01T10:16:52.294Z"
   },
   {
    "duration": 1640,
    "start_time": "2022-12-01T10:20:15.970Z"
   },
   {
    "duration": 1268,
    "start_time": "2022-12-01T10:20:18.464Z"
   },
   {
    "duration": 1298,
    "start_time": "2022-12-01T10:20:25.569Z"
   },
   {
    "duration": 30,
    "start_time": "2022-12-01T10:20:34.219Z"
   },
   {
    "duration": 51,
    "start_time": "2022-12-01T10:21:47.438Z"
   },
   {
    "duration": 18,
    "start_time": "2022-12-01T10:22:09.874Z"
   },
   {
    "duration": 21,
    "start_time": "2022-12-01T10:23:01.135Z"
   },
   {
    "duration": 19,
    "start_time": "2022-12-01T10:27:50.530Z"
   },
   {
    "duration": 29,
    "start_time": "2022-12-01T10:32:10.623Z"
   },
   {
    "duration": 303,
    "start_time": "2022-12-01T10:54:38.103Z"
   },
   {
    "duration": 146,
    "start_time": "2022-12-01T10:54:51.872Z"
   },
   {
    "duration": 331,
    "start_time": "2022-12-01T10:55:11.375Z"
   },
   {
    "duration": 297,
    "start_time": "2022-12-01T10:55:20.107Z"
   },
   {
    "duration": 74,
    "start_time": "2022-12-01T11:05:52.578Z"
   },
   {
    "duration": 4,
    "start_time": "2022-12-01T11:06:55.216Z"
   },
   {
    "duration": 9,
    "start_time": "2022-12-01T11:06:59.021Z"
   },
   {
    "duration": 8,
    "start_time": "2022-12-01T11:07:05.465Z"
   },
   {
    "duration": 9,
    "start_time": "2022-12-01T11:07:10.535Z"
   },
   {
    "duration": 9,
    "start_time": "2022-12-01T11:07:14.268Z"
   },
   {
    "duration": 8,
    "start_time": "2022-12-01T11:07:16.916Z"
   },
   {
    "duration": 12,
    "start_time": "2022-12-01T11:07:19.678Z"
   },
   {
    "duration": 613,
    "start_time": "2022-12-01T11:07:40.032Z"
   },
   {
    "duration": 52,
    "start_time": "2022-12-01T11:07:40.647Z"
   },
   {
    "duration": 18,
    "start_time": "2022-12-01T11:07:40.701Z"
   },
   {
    "duration": 13,
    "start_time": "2022-12-01T11:07:40.721Z"
   },
   {
    "duration": 6,
    "start_time": "2022-12-01T11:07:40.737Z"
   },
   {
    "duration": 19,
    "start_time": "2022-12-01T11:07:40.745Z"
   },
   {
    "duration": 44,
    "start_time": "2022-12-01T11:07:40.765Z"
   },
   {
    "duration": 3,
    "start_time": "2022-12-01T11:07:40.810Z"
   },
   {
    "duration": 19,
    "start_time": "2022-12-01T11:07:40.815Z"
   },
   {
    "duration": 12,
    "start_time": "2022-12-01T11:07:40.836Z"
   },
   {
    "duration": 5,
    "start_time": "2022-12-01T11:07:40.849Z"
   },
   {
    "duration": 262,
    "start_time": "2022-12-01T11:07:40.856Z"
   },
   {
    "duration": 25,
    "start_time": "2022-12-01T11:07:41.120Z"
   },
   {
    "duration": 314,
    "start_time": "2022-12-01T11:07:41.147Z"
   },
   {
    "duration": 832,
    "start_time": "2022-12-01T11:08:07.315Z"
   },
   {
    "duration": 71,
    "start_time": "2022-12-01T11:08:08.440Z"
   },
   {
    "duration": 24,
    "start_time": "2022-12-01T11:08:09.003Z"
   },
   {
    "duration": 15,
    "start_time": "2022-12-01T11:08:09.504Z"
   },
   {
    "duration": 6,
    "start_time": "2022-12-01T11:08:10.122Z"
   },
   {
    "duration": 20,
    "start_time": "2022-12-01T11:08:10.551Z"
   },
   {
    "duration": 22,
    "start_time": "2022-12-01T11:08:13.915Z"
   },
   {
    "duration": 1339,
    "start_time": "2022-12-01T11:08:18.150Z"
   },
   {
    "duration": 1262,
    "start_time": "2022-12-01T11:08:24.511Z"
   },
   {
    "duration": 9,
    "start_time": "2022-12-01T11:08:33.441Z"
   },
   {
    "duration": 35,
    "start_time": "2022-12-01T11:08:38.772Z"
   },
   {
    "duration": 12,
    "start_time": "2022-12-01T11:08:48.830Z"
   },
   {
    "duration": 13,
    "start_time": "2022-12-01T11:08:51.887Z"
   },
   {
    "duration": 10,
    "start_time": "2022-12-01T11:08:55.109Z"
   },
   {
    "duration": 10,
    "start_time": "2022-12-01T11:09:02.993Z"
   },
   {
    "duration": 5,
    "start_time": "2022-12-01T11:09:27.806Z"
   },
   {
    "duration": 10,
    "start_time": "2022-12-01T11:09:31.954Z"
   },
   {
    "duration": 23,
    "start_time": "2022-12-01T11:09:35.646Z"
   },
   {
    "duration": 7,
    "start_time": "2022-12-01T11:12:46.960Z"
   },
   {
    "duration": 11,
    "start_time": "2022-12-01T11:13:19.998Z"
   },
   {
    "duration": 700,
    "start_time": "2022-12-01T11:14:07.840Z"
   },
   {
    "duration": 52,
    "start_time": "2022-12-01T11:14:08.542Z"
   },
   {
    "duration": 18,
    "start_time": "2022-12-01T11:14:08.596Z"
   },
   {
    "duration": 13,
    "start_time": "2022-12-01T11:14:08.616Z"
   },
   {
    "duration": 7,
    "start_time": "2022-12-01T11:14:08.631Z"
   },
   {
    "duration": 21,
    "start_time": "2022-12-01T11:14:08.639Z"
   },
   {
    "duration": 47,
    "start_time": "2022-12-01T11:14:08.663Z"
   },
   {
    "duration": 4,
    "start_time": "2022-12-01T11:14:08.712Z"
   },
   {
    "duration": 16,
    "start_time": "2022-12-01T11:14:08.717Z"
   },
   {
    "duration": 18,
    "start_time": "2022-12-01T11:14:08.735Z"
   },
   {
    "duration": 16,
    "start_time": "2022-12-01T11:14:08.755Z"
   },
   {
    "duration": 12,
    "start_time": "2022-12-01T11:14:08.772Z"
   },
   {
    "duration": 267,
    "start_time": "2022-12-01T11:14:08.786Z"
   },
   {
    "duration": 31,
    "start_time": "2022-12-01T11:14:09.055Z"
   },
   {
    "duration": 306,
    "start_time": "2022-12-01T11:14:09.087Z"
   },
   {
    "duration": 111,
    "start_time": "2022-12-01T11:18:05.396Z"
   },
   {
    "duration": 6,
    "start_time": "2022-12-01T11:18:11.460Z"
   },
   {
    "duration": 8,
    "start_time": "2022-12-01T11:18:20.875Z"
   },
   {
    "duration": 8,
    "start_time": "2022-12-01T11:18:38.826Z"
   },
   {
    "duration": 7,
    "start_time": "2022-12-01T11:18:55.070Z"
   },
   {
    "duration": 11,
    "start_time": "2022-12-01T11:21:36.768Z"
   },
   {
    "duration": 19,
    "start_time": "2022-12-01T11:21:57.480Z"
   },
   {
    "duration": 16,
    "start_time": "2022-12-01T11:22:02.242Z"
   },
   {
    "duration": 2415,
    "start_time": "2022-12-01T11:22:14.940Z"
   },
   {
    "duration": 22,
    "start_time": "2022-12-01T12:35:49.879Z"
   },
   {
    "duration": 30,
    "start_time": "2022-12-01T12:36:07.907Z"
   },
   {
    "duration": 1360,
    "start_time": "2022-12-01T12:36:20.082Z"
   },
   {
    "duration": 1389,
    "start_time": "2022-12-01T12:40:57.798Z"
   },
   {
    "duration": 1181,
    "start_time": "2022-12-01T12:41:19.895Z"
   },
   {
    "duration": 803,
    "start_time": "2022-12-01T12:42:20.296Z"
   },
   {
    "duration": 194,
    "start_time": "2022-12-01T12:42:40.036Z"
   },
   {
    "duration": 804,
    "start_time": "2022-12-01T12:42:46.376Z"
   },
   {
    "duration": 1022,
    "start_time": "2022-12-01T12:43:01.756Z"
   },
   {
    "duration": 946,
    "start_time": "2022-12-01T12:43:07.541Z"
   },
   {
    "duration": 855,
    "start_time": "2022-12-01T12:44:09.426Z"
   },
   {
    "duration": 8,
    "start_time": "2022-12-01T12:46:32.861Z"
   },
   {
    "duration": 7,
    "start_time": "2022-12-01T12:46:39.997Z"
   },
   {
    "duration": 747,
    "start_time": "2022-12-01T12:52:22.092Z"
   },
   {
    "duration": 207,
    "start_time": "2022-12-01T12:55:09.044Z"
   },
   {
    "duration": 303,
    "start_time": "2022-12-01T12:55:14.277Z"
   },
   {
    "duration": 746,
    "start_time": "2022-12-01T12:56:03.706Z"
   },
   {
    "duration": 188,
    "start_time": "2022-12-01T12:56:51.201Z"
   },
   {
    "duration": 218,
    "start_time": "2022-12-01T12:57:06.079Z"
   },
   {
    "duration": 9,
    "start_time": "2022-12-01T12:58:35.026Z"
   },
   {
    "duration": 614,
    "start_time": "2022-12-01T12:58:38.574Z"
   },
   {
    "duration": 398,
    "start_time": "2022-12-01T12:58:51.169Z"
   },
   {
    "duration": 10,
    "start_time": "2022-12-01T12:59:06.355Z"
   },
   {
    "duration": 9,
    "start_time": "2022-12-01T13:00:24.299Z"
   },
   {
    "duration": 454,
    "start_time": "2022-12-01T13:00:40.385Z"
   },
   {
    "duration": 69,
    "start_time": "2022-12-01T13:04:27.705Z"
   },
   {
    "duration": 16,
    "start_time": "2022-12-01T13:04:32.242Z"
   },
   {
    "duration": 263,
    "start_time": "2022-12-01T13:05:39.523Z"
   },
   {
    "duration": 584,
    "start_time": "2022-12-01T13:05:46.246Z"
   },
   {
    "duration": 14,
    "start_time": "2022-12-01T13:07:55.549Z"
   },
   {
    "duration": 30,
    "start_time": "2022-12-01T13:09:44.581Z"
   },
   {
    "duration": 31,
    "start_time": "2022-12-01T13:09:55.577Z"
   },
   {
    "duration": 33,
    "start_time": "2022-12-01T13:10:14.917Z"
   },
   {
    "duration": 27,
    "start_time": "2022-12-01T13:10:54.815Z"
   },
   {
    "duration": 305,
    "start_time": "2022-12-01T13:11:00.929Z"
   },
   {
    "duration": 9,
    "start_time": "2022-12-01T13:11:45.452Z"
   },
   {
    "duration": 275,
    "start_time": "2022-12-01T13:12:32.756Z"
   },
   {
    "duration": 303,
    "start_time": "2022-12-01T13:12:47.286Z"
   },
   {
    "duration": 267,
    "start_time": "2022-12-01T13:12:52.237Z"
   },
   {
    "duration": 267,
    "start_time": "2022-12-01T13:12:56.490Z"
   },
   {
    "duration": 290,
    "start_time": "2022-12-01T13:13:00.309Z"
   },
   {
    "duration": 305,
    "start_time": "2022-12-01T13:13:07.996Z"
   },
   {
    "duration": 12,
    "start_time": "2022-12-01T13:13:52.406Z"
   },
   {
    "duration": 315,
    "start_time": "2022-12-01T13:13:52.689Z"
   },
   {
    "duration": 1189,
    "start_time": "2022-12-01T13:18:00.135Z"
   },
   {
    "duration": 55,
    "start_time": "2022-12-01T13:18:01.326Z"
   },
   {
    "duration": 30,
    "start_time": "2022-12-01T13:18:01.382Z"
   },
   {
    "duration": 44,
    "start_time": "2022-12-01T13:18:01.414Z"
   },
   {
    "duration": 50,
    "start_time": "2022-12-01T13:18:01.460Z"
   },
   {
    "duration": 39,
    "start_time": "2022-12-01T13:18:01.512Z"
   },
   {
    "duration": 58,
    "start_time": "2022-12-01T13:18:01.553Z"
   },
   {
    "duration": 8,
    "start_time": "2022-12-01T13:18:01.613Z"
   },
   {
    "duration": 17,
    "start_time": "2022-12-01T13:18:01.622Z"
   },
   {
    "duration": 22,
    "start_time": "2022-12-01T13:18:01.641Z"
   },
   {
    "duration": 20,
    "start_time": "2022-12-01T13:18:01.665Z"
   },
   {
    "duration": 10,
    "start_time": "2022-12-01T13:18:01.687Z"
   },
   {
    "duration": 313,
    "start_time": "2022-12-01T13:18:01.699Z"
   },
   {
    "duration": 24,
    "start_time": "2022-12-01T13:18:02.015Z"
   },
   {
    "duration": 326,
    "start_time": "2022-12-01T13:18:02.041Z"
   },
   {
    "duration": 8,
    "start_time": "2022-12-01T13:18:02.369Z"
   },
   {
    "duration": 30,
    "start_time": "2022-12-01T13:18:02.379Z"
   },
   {
    "duration": 362,
    "start_time": "2022-12-01T13:18:02.411Z"
   },
   {
    "duration": 113,
    "start_time": "2022-12-01T13:19:12.311Z"
   },
   {
    "duration": 13,
    "start_time": "2022-12-01T13:19:16.549Z"
   },
   {
    "duration": 23,
    "start_time": "2022-12-01T13:22:31.167Z"
   },
   {
    "duration": 211,
    "start_time": "2022-12-01T13:22:38.466Z"
   },
   {
    "duration": 163,
    "start_time": "2022-12-01T13:22:51.996Z"
   },
   {
    "duration": 191,
    "start_time": "2022-12-01T13:23:05.280Z"
   },
   {
    "duration": 238,
    "start_time": "2022-12-01T13:23:57.771Z"
   },
   {
    "duration": 166,
    "start_time": "2022-12-01T13:24:01.964Z"
   },
   {
    "duration": 163,
    "start_time": "2022-12-01T13:24:05.674Z"
   },
   {
    "duration": 153,
    "start_time": "2022-12-01T13:24:10.675Z"
   },
   {
    "duration": 184,
    "start_time": "2022-12-01T13:24:54.968Z"
   },
   {
    "duration": 73,
    "start_time": "2022-12-01T13:24:59.740Z"
   },
   {
    "duration": 81,
    "start_time": "2022-12-01T13:25:04.427Z"
   },
   {
    "duration": 89,
    "start_time": "2022-12-01T13:25:14.897Z"
   },
   {
    "duration": 84,
    "start_time": "2022-12-01T13:25:24.478Z"
   },
   {
    "duration": 148,
    "start_time": "2022-12-01T13:25:40.181Z"
   },
   {
    "duration": 190,
    "start_time": "2022-12-01T13:25:43.991Z"
   },
   {
    "duration": 205,
    "start_time": "2022-12-01T13:25:48.587Z"
   },
   {
    "duration": 193,
    "start_time": "2022-12-01T13:25:52.261Z"
   },
   {
    "duration": 202,
    "start_time": "2022-12-01T13:25:56.887Z"
   },
   {
    "duration": 143,
    "start_time": "2022-12-01T13:26:03.194Z"
   },
   {
    "duration": 260,
    "start_time": "2022-12-01T13:26:10.004Z"
   },
   {
    "duration": 166,
    "start_time": "2022-12-01T13:26:14.271Z"
   },
   {
    "duration": 23,
    "start_time": "2022-12-01T13:27:15.546Z"
   },
   {
    "duration": 164,
    "start_time": "2022-12-01T13:27:16.481Z"
   },
   {
    "duration": 166,
    "start_time": "2022-12-01T13:27:20.749Z"
   },
   {
    "duration": 1184,
    "start_time": "2022-12-01T13:27:26.321Z"
   },
   {
    "duration": 68,
    "start_time": "2022-12-01T13:27:27.506Z"
   },
   {
    "duration": 27,
    "start_time": "2022-12-01T13:27:27.577Z"
   },
   {
    "duration": 40,
    "start_time": "2022-12-01T13:27:27.606Z"
   },
   {
    "duration": 21,
    "start_time": "2022-12-01T13:27:27.649Z"
   },
   {
    "duration": 40,
    "start_time": "2022-12-01T13:27:27.673Z"
   },
   {
    "duration": 47,
    "start_time": "2022-12-01T13:27:27.715Z"
   },
   {
    "duration": 13,
    "start_time": "2022-12-01T13:27:27.763Z"
   },
   {
    "duration": 30,
    "start_time": "2022-12-01T13:27:27.777Z"
   },
   {
    "duration": 34,
    "start_time": "2022-12-01T13:27:27.810Z"
   },
   {
    "duration": 43,
    "start_time": "2022-12-01T13:27:27.847Z"
   },
   {
    "duration": 33,
    "start_time": "2022-12-01T13:27:27.892Z"
   },
   {
    "duration": 289,
    "start_time": "2022-12-01T13:27:27.928Z"
   },
   {
    "duration": 23,
    "start_time": "2022-12-01T13:27:28.220Z"
   },
   {
    "duration": 355,
    "start_time": "2022-12-01T13:27:28.244Z"
   },
   {
    "duration": 7,
    "start_time": "2022-12-01T13:27:28.605Z"
   },
   {
    "duration": 14,
    "start_time": "2022-12-01T13:27:28.613Z"
   },
   {
    "duration": 284,
    "start_time": "2022-12-01T13:27:28.629Z"
   },
   {
    "duration": 26,
    "start_time": "2022-12-01T13:27:28.915Z"
   },
   {
    "duration": 196,
    "start_time": "2022-12-01T13:27:28.943Z"
   },
   {
    "duration": 5,
    "start_time": "2022-12-01T13:27:47.860Z"
   },
   {
    "duration": 189,
    "start_time": "2022-12-01T13:27:48.319Z"
   },
   {
    "duration": 5,
    "start_time": "2022-12-01T13:27:55.507Z"
   },
   {
    "duration": 182,
    "start_time": "2022-12-01T13:27:58.360Z"
   },
   {
    "duration": 157,
    "start_time": "2022-12-01T13:29:09.820Z"
   },
   {
    "duration": 1204,
    "start_time": "2022-12-01T13:30:46.238Z"
   },
   {
    "duration": 63,
    "start_time": "2022-12-01T13:30:47.444Z"
   },
   {
    "duration": 26,
    "start_time": "2022-12-01T13:30:47.512Z"
   },
   {
    "duration": 60,
    "start_time": "2022-12-01T13:30:47.541Z"
   },
   {
    "duration": 48,
    "start_time": "2022-12-01T13:30:47.603Z"
   },
   {
    "duration": 47,
    "start_time": "2022-12-01T13:30:47.654Z"
   },
   {
    "duration": 30,
    "start_time": "2022-12-01T13:30:47.702Z"
   },
   {
    "duration": 9,
    "start_time": "2022-12-01T13:30:47.734Z"
   },
   {
    "duration": 33,
    "start_time": "2022-12-01T13:30:47.745Z"
   },
   {
    "duration": 27,
    "start_time": "2022-12-01T13:30:47.780Z"
   },
   {
    "duration": 49,
    "start_time": "2022-12-01T13:30:47.808Z"
   },
   {
    "duration": 33,
    "start_time": "2022-12-01T13:30:47.859Z"
   },
   {
    "duration": 259,
    "start_time": "2022-12-01T13:30:47.894Z"
   },
   {
    "duration": 38,
    "start_time": "2022-12-01T13:30:48.155Z"
   },
   {
    "duration": 364,
    "start_time": "2022-12-01T13:30:48.195Z"
   },
   {
    "duration": 9,
    "start_time": "2022-12-01T13:30:48.561Z"
   },
   {
    "duration": 36,
    "start_time": "2022-12-01T13:30:48.572Z"
   },
   {
    "duration": 363,
    "start_time": "2022-12-01T13:30:48.610Z"
   },
   {
    "duration": 189,
    "start_time": "2022-12-01T13:30:48.976Z"
   },
   {
    "duration": 185,
    "start_time": "2022-12-01T13:32:02.437Z"
   },
   {
    "duration": 166,
    "start_time": "2022-12-01T13:32:08.955Z"
   },
   {
    "duration": 164,
    "start_time": "2022-12-01T13:32:12.140Z"
   },
   {
    "duration": 283,
    "start_time": "2022-12-01T13:32:15.730Z"
   },
   {
    "duration": 157,
    "start_time": "2022-12-01T13:32:19.575Z"
   },
   {
    "duration": 163,
    "start_time": "2022-12-01T13:32:26.574Z"
   },
   {
    "duration": 56,
    "start_time": "2022-12-01T14:27:13.022Z"
   },
   {
    "duration": 1303,
    "start_time": "2022-12-01T14:27:23.258Z"
   },
   {
    "duration": 195,
    "start_time": "2022-12-01T14:27:24.563Z"
   },
   {
    "duration": 19,
    "start_time": "2022-12-01T14:27:24.759Z"
   },
   {
    "duration": 13,
    "start_time": "2022-12-01T14:27:24.780Z"
   },
   {
    "duration": 6,
    "start_time": "2022-12-01T14:27:24.795Z"
   },
   {
    "duration": 20,
    "start_time": "2022-12-01T14:27:24.803Z"
   },
   {
    "duration": 16,
    "start_time": "2022-12-01T14:27:24.824Z"
   },
   {
    "duration": 4,
    "start_time": "2022-12-01T14:27:24.842Z"
   },
   {
    "duration": 14,
    "start_time": "2022-12-01T14:27:24.847Z"
   },
   {
    "duration": 12,
    "start_time": "2022-12-01T14:27:24.864Z"
   },
   {
    "duration": 30,
    "start_time": "2022-12-01T14:27:24.877Z"
   },
   {
    "duration": 6,
    "start_time": "2022-12-01T14:27:24.908Z"
   },
   {
    "duration": 291,
    "start_time": "2022-12-01T14:27:24.916Z"
   },
   {
    "duration": 25,
    "start_time": "2022-12-01T14:27:25.209Z"
   },
   {
    "duration": 312,
    "start_time": "2022-12-01T14:27:25.236Z"
   },
   {
    "duration": 11,
    "start_time": "2022-12-01T14:27:25.550Z"
   },
   {
    "duration": 12,
    "start_time": "2022-12-01T14:27:25.562Z"
   },
   {
    "duration": 315,
    "start_time": "2022-12-01T14:27:25.575Z"
   },
   {
    "duration": 151,
    "start_time": "2022-12-01T14:27:25.892Z"
   },
   {
    "duration": 272,
    "start_time": "2022-12-01T14:28:23.529Z"
   },
   {
    "duration": 165,
    "start_time": "2022-12-01T14:30:48.549Z"
   },
   {
    "duration": 1316,
    "start_time": "2022-12-01T15:41:48.316Z"
   },
   {
    "duration": 470,
    "start_time": "2022-12-01T15:41:49.634Z"
   },
   {
    "duration": 19,
    "start_time": "2022-12-01T15:41:50.106Z"
   },
   {
    "duration": 24,
    "start_time": "2022-12-01T15:41:50.128Z"
   },
   {
    "duration": 23,
    "start_time": "2022-12-01T15:41:50.154Z"
   },
   {
    "duration": 17,
    "start_time": "2022-12-01T15:41:50.178Z"
   },
   {
    "duration": 18,
    "start_time": "2022-12-01T15:41:50.204Z"
   },
   {
    "duration": 4,
    "start_time": "2022-12-01T15:41:50.224Z"
   },
   {
    "duration": 10,
    "start_time": "2022-12-01T15:41:50.229Z"
   },
   {
    "duration": 12,
    "start_time": "2022-12-01T15:41:50.241Z"
   },
   {
    "duration": 13,
    "start_time": "2022-12-01T15:41:50.254Z"
   },
   {
    "duration": 5,
    "start_time": "2022-12-01T15:41:50.269Z"
   },
   {
    "duration": 281,
    "start_time": "2022-12-01T15:41:50.275Z"
   },
   {
    "duration": 21,
    "start_time": "2022-12-01T15:41:50.558Z"
   },
   {
    "duration": 297,
    "start_time": "2022-12-01T15:41:50.581Z"
   },
   {
    "duration": 7,
    "start_time": "2022-12-01T15:41:50.880Z"
   },
   {
    "duration": 19,
    "start_time": "2022-12-01T15:41:50.889Z"
   },
   {
    "duration": 384,
    "start_time": "2022-12-01T15:41:50.909Z"
   },
   {
    "duration": 167,
    "start_time": "2022-12-01T15:41:51.295Z"
   },
   {
    "duration": 586,
    "start_time": "2022-12-01T15:41:55.900Z"
   },
   {
    "duration": 136,
    "start_time": "2022-12-01T15:42:14.428Z"
   },
   {
    "duration": 22,
    "start_time": "2022-12-01T15:42:27.506Z"
   },
   {
    "duration": 264,
    "start_time": "2022-12-01T15:43:56.717Z"
   },
   {
    "duration": 273,
    "start_time": "2022-12-01T15:43:59.933Z"
   },
   {
    "duration": 1276,
    "start_time": "2022-12-01T15:44:04.975Z"
   },
   {
    "duration": 56,
    "start_time": "2022-12-01T15:44:06.253Z"
   },
   {
    "duration": 20,
    "start_time": "2022-12-01T15:44:06.310Z"
   },
   {
    "duration": 19,
    "start_time": "2022-12-01T15:44:06.331Z"
   },
   {
    "duration": 15,
    "start_time": "2022-12-01T15:44:06.352Z"
   },
   {
    "duration": 31,
    "start_time": "2022-12-01T15:44:06.368Z"
   },
   {
    "duration": 17,
    "start_time": "2022-12-01T15:44:06.401Z"
   },
   {
    "duration": 4,
    "start_time": "2022-12-01T15:44:06.420Z"
   },
   {
    "duration": 8,
    "start_time": "2022-12-01T15:44:06.425Z"
   },
   {
    "duration": 17,
    "start_time": "2022-12-01T15:44:06.435Z"
   },
   {
    "duration": 12,
    "start_time": "2022-12-01T15:44:06.454Z"
   },
   {
    "duration": 12,
    "start_time": "2022-12-01T15:44:06.467Z"
   },
   {
    "duration": 259,
    "start_time": "2022-12-01T15:44:06.481Z"
   },
   {
    "duration": 21,
    "start_time": "2022-12-01T15:44:06.743Z"
   },
   {
    "duration": 304,
    "start_time": "2022-12-01T15:44:06.765Z"
   },
   {
    "duration": 9,
    "start_time": "2022-12-01T15:44:07.071Z"
   },
   {
    "duration": 51,
    "start_time": "2022-12-01T15:44:07.082Z"
   },
   {
    "duration": 398,
    "start_time": "2022-12-01T15:44:07.136Z"
   },
   {
    "duration": 208,
    "start_time": "2022-12-01T15:44:07.538Z"
   },
   {
    "duration": 152,
    "start_time": "2022-12-01T15:46:03.554Z"
   },
   {
    "duration": 150,
    "start_time": "2022-12-01T15:46:14.943Z"
   },
   {
    "duration": 156,
    "start_time": "2022-12-01T15:46:17.996Z"
   },
   {
    "duration": 33,
    "start_time": "2022-12-01T15:46:37.394Z"
   },
   {
    "duration": 15,
    "start_time": "2022-12-01T15:46:49.002Z"
   },
   {
    "duration": 20,
    "start_time": "2022-12-01T15:47:07.643Z"
   },
   {
    "duration": 26,
    "start_time": "2022-12-01T15:47:18.973Z"
   },
   {
    "duration": 244,
    "start_time": "2022-12-01T15:47:53.994Z"
   },
   {
    "duration": 274,
    "start_time": "2022-12-01T15:48:26.642Z"
   },
   {
    "duration": 274,
    "start_time": "2022-12-01T15:48:32.303Z"
   },
   {
    "duration": 142,
    "start_time": "2022-12-01T15:50:15.432Z"
   },
   {
    "duration": 264,
    "start_time": "2022-12-01T15:50:42.452Z"
   },
   {
    "duration": 160,
    "start_time": "2022-12-01T15:50:53.751Z"
   },
   {
    "duration": 169,
    "start_time": "2022-12-01T15:50:57.787Z"
   },
   {
    "duration": 182,
    "start_time": "2022-12-01T15:51:20.105Z"
   },
   {
    "duration": 172,
    "start_time": "2022-12-01T15:51:24.577Z"
   },
   {
    "duration": 163,
    "start_time": "2022-12-01T15:51:29.848Z"
   },
   {
    "duration": 252,
    "start_time": "2022-12-01T15:51:37.575Z"
   },
   {
    "duration": 3,
    "start_time": "2022-12-01T16:07:11.739Z"
   },
   {
    "duration": 100,
    "start_time": "2022-12-01T16:07:12.306Z"
   },
   {
    "duration": 10,
    "start_time": "2022-12-01T16:07:19.902Z"
   },
   {
    "duration": 19,
    "start_time": "2022-12-01T16:07:39.831Z"
   },
   {
    "duration": 252,
    "start_time": "2022-12-01T16:08:07.267Z"
   },
   {
    "duration": 1291,
    "start_time": "2022-12-01T16:08:20.544Z"
   },
   {
    "duration": 14,
    "start_time": "2022-12-01T16:08:46.851Z"
   },
   {
    "duration": 149,
    "start_time": "2022-12-01T16:08:54.462Z"
   },
   {
    "duration": 771,
    "start_time": "2022-12-01T16:09:09.105Z"
   },
   {
    "duration": 614,
    "start_time": "2022-12-01T16:11:24.141Z"
   },
   {
    "duration": 1247,
    "start_time": "2022-12-01T16:12:20.724Z"
   },
   {
    "duration": 370,
    "start_time": "2022-12-01T16:12:51.453Z"
   },
   {
    "duration": 1319,
    "start_time": "2022-12-01T16:13:09.820Z"
   },
   {
    "duration": 1417,
    "start_time": "2022-12-01T16:13:49.420Z"
   },
   {
    "duration": 1311,
    "start_time": "2022-12-01T16:14:09.721Z"
   },
   {
    "duration": 1377,
    "start_time": "2022-12-01T16:14:31.680Z"
   },
   {
    "duration": 625,
    "start_time": "2022-12-01T16:15:14.826Z"
   },
   {
    "duration": 830,
    "start_time": "2022-12-01T16:15:26.901Z"
   },
   {
    "duration": 585,
    "start_time": "2022-12-01T16:15:52.863Z"
   },
   {
    "duration": 728,
    "start_time": "2022-12-01T16:16:17.246Z"
   },
   {
    "duration": 718,
    "start_time": "2022-12-01T16:17:03.220Z"
   },
   {
    "duration": 1376,
    "start_time": "2022-12-01T16:17:06.421Z"
   },
   {
    "duration": 1398,
    "start_time": "2022-12-01T16:17:23.176Z"
   },
   {
    "duration": 1328,
    "start_time": "2022-12-01T16:18:35.849Z"
   },
   {
    "duration": 1437,
    "start_time": "2022-12-01T16:20:12.807Z"
   },
   {
    "duration": 17,
    "start_time": "2022-12-01T16:21:54.747Z"
   },
   {
    "duration": 11,
    "start_time": "2022-12-01T16:21:57.553Z"
   },
   {
    "duration": 1165,
    "start_time": "2022-12-01T16:22:10.366Z"
   },
   {
    "duration": 53,
    "start_time": "2022-12-01T16:22:11.533Z"
   },
   {
    "duration": 19,
    "start_time": "2022-12-01T16:22:11.588Z"
   },
   {
    "duration": 30,
    "start_time": "2022-12-01T16:22:11.609Z"
   },
   {
    "duration": 31,
    "start_time": "2022-12-01T16:22:11.642Z"
   },
   {
    "duration": 24,
    "start_time": "2022-12-01T16:22:11.674Z"
   },
   {
    "duration": 33,
    "start_time": "2022-12-01T16:22:11.699Z"
   },
   {
    "duration": 10,
    "start_time": "2022-12-01T16:22:11.734Z"
   },
   {
    "duration": 17,
    "start_time": "2022-12-01T16:22:11.745Z"
   },
   {
    "duration": 29,
    "start_time": "2022-12-01T16:22:11.764Z"
   },
   {
    "duration": 19,
    "start_time": "2022-12-01T16:22:11.794Z"
   },
   {
    "duration": 20,
    "start_time": "2022-12-01T16:22:11.815Z"
   },
   {
    "duration": 263,
    "start_time": "2022-12-01T16:22:11.836Z"
   },
   {
    "duration": 21,
    "start_time": "2022-12-01T16:22:12.101Z"
   },
   {
    "duration": 305,
    "start_time": "2022-12-01T16:22:12.123Z"
   },
   {
    "duration": 7,
    "start_time": "2022-12-01T16:22:12.429Z"
   },
   {
    "duration": 34,
    "start_time": "2022-12-01T16:22:12.438Z"
   },
   {
    "duration": 303,
    "start_time": "2022-12-01T16:22:12.474Z"
   },
   {
    "duration": 182,
    "start_time": "2022-12-01T16:22:12.779Z"
   },
   {
    "duration": 3,
    "start_time": "2022-12-01T16:22:12.963Z"
   },
   {
    "duration": 39,
    "start_time": "2022-12-01T16:22:12.968Z"
   },
   {
    "duration": 280,
    "start_time": "2022-12-01T16:22:36.200Z"
   },
   {
    "duration": 10,
    "start_time": "2022-12-01T16:22:49.890Z"
   },
   {
    "duration": 1521,
    "start_time": "2022-12-01T16:22:50.314Z"
   },
   {
    "duration": 10,
    "start_time": "2022-12-01T16:23:05.668Z"
   },
   {
    "duration": 1418,
    "start_time": "2022-12-01T16:23:07.906Z"
   },
   {
    "duration": 4,
    "start_time": "2022-12-01T16:23:20.801Z"
   },
   {
    "duration": 1292,
    "start_time": "2022-12-01T16:23:22.012Z"
   },
   {
    "duration": 5,
    "start_time": "2022-12-01T16:23:45.094Z"
   },
   {
    "duration": 14,
    "start_time": "2022-12-01T16:23:45.289Z"
   },
   {
    "duration": 17,
    "start_time": "2022-12-01T16:24:24.061Z"
   },
   {
    "duration": 15,
    "start_time": "2022-12-01T16:24:24.321Z"
   },
   {
    "duration": 4,
    "start_time": "2022-12-01T16:24:29.830Z"
   },
   {
    "duration": 14,
    "start_time": "2022-12-01T16:24:30.542Z"
   },
   {
    "duration": 4,
    "start_time": "2022-12-01T16:24:42.387Z"
   },
   {
    "duration": 21,
    "start_time": "2022-12-01T16:24:42.580Z"
   },
   {
    "duration": 4,
    "start_time": "2022-12-01T16:25:17.861Z"
   },
   {
    "duration": 137,
    "start_time": "2022-12-01T16:25:19.629Z"
   },
   {
    "duration": 4,
    "start_time": "2022-12-01T16:25:26.255Z"
   },
   {
    "duration": 782,
    "start_time": "2022-12-01T16:25:28.960Z"
   },
   {
    "duration": 23,
    "start_time": "2022-12-01T16:27:54.081Z"
   },
   {
    "duration": 113,
    "start_time": "2022-12-01T16:28:08.897Z"
   },
   {
    "duration": 257,
    "start_time": "2022-12-01T16:28:44.076Z"
   },
   {
    "duration": 3,
    "start_time": "2022-12-01T16:29:19.362Z"
   },
   {
    "duration": 13,
    "start_time": "2022-12-01T16:29:19.870Z"
   },
   {
    "duration": 3,
    "start_time": "2022-12-01T16:29:32.636Z"
   },
   {
    "duration": 14,
    "start_time": "2022-12-01T16:29:32.932Z"
   },
   {
    "duration": 4,
    "start_time": "2022-12-01T16:30:07.792Z"
   },
   {
    "duration": 1320,
    "start_time": "2022-12-01T16:30:07.963Z"
   },
   {
    "duration": 4,
    "start_time": "2022-12-01T16:30:58.156Z"
   },
   {
    "duration": 1418,
    "start_time": "2022-12-01T16:30:58.290Z"
   },
   {
    "duration": 4,
    "start_time": "2022-12-01T16:31:08.233Z"
   },
   {
    "duration": 1314,
    "start_time": "2022-12-01T16:31:08.575Z"
   },
   {
    "duration": 3,
    "start_time": "2022-12-01T16:31:13.550Z"
   },
   {
    "duration": 1344,
    "start_time": "2022-12-01T16:31:14.630Z"
   },
   {
    "duration": 4,
    "start_time": "2022-12-01T16:31:24.802Z"
   },
   {
    "duration": 1362,
    "start_time": "2022-12-01T16:31:25.692Z"
   },
   {
    "duration": 4,
    "start_time": "2022-12-01T16:35:39.154Z"
   },
   {
    "duration": 1357,
    "start_time": "2022-12-01T16:35:39.713Z"
   },
   {
    "duration": 3,
    "start_time": "2022-12-01T16:35:55.650Z"
   },
   {
    "duration": 1272,
    "start_time": "2022-12-01T16:35:55.952Z"
   },
   {
    "duration": 4,
    "start_time": "2022-12-01T16:36:32.117Z"
   },
   {
    "duration": 1403,
    "start_time": "2022-12-01T16:36:32.518Z"
   },
   {
    "duration": 3,
    "start_time": "2022-12-01T16:37:36.388Z"
   },
   {
    "duration": 1343,
    "start_time": "2022-12-01T16:37:36.514Z"
   },
   {
    "duration": 4,
    "start_time": "2022-12-01T16:38:06.155Z"
   },
   {
    "duration": 1454,
    "start_time": "2022-12-01T16:38:06.363Z"
   },
   {
    "duration": 4,
    "start_time": "2022-12-01T16:38:23.439Z"
   },
   {
    "duration": 1328,
    "start_time": "2022-12-01T16:38:23.577Z"
   },
   {
    "duration": 4,
    "start_time": "2022-12-01T16:40:24.307Z"
   },
   {
    "duration": 264,
    "start_time": "2022-12-01T16:40:24.503Z"
   },
   {
    "duration": 4,
    "start_time": "2022-12-01T16:41:16.789Z"
   },
   {
    "duration": 12,
    "start_time": "2022-12-01T16:41:17.186Z"
   },
   {
    "duration": 4,
    "start_time": "2022-12-01T16:41:32.264Z"
   },
   {
    "duration": 229,
    "start_time": "2022-12-01T16:41:32.408Z"
   },
   {
    "duration": 4,
    "start_time": "2022-12-01T16:41:52.620Z"
   },
   {
    "duration": 247,
    "start_time": "2022-12-01T16:41:53.006Z"
   },
   {
    "duration": 4,
    "start_time": "2022-12-01T16:44:24.115Z"
   },
   {
    "duration": 1477,
    "start_time": "2022-12-01T16:44:24.718Z"
   },
   {
    "duration": 11,
    "start_time": "2022-12-01T16:46:22.806Z"
   },
   {
    "duration": 1226,
    "start_time": "2022-12-01T16:46:23.158Z"
   },
   {
    "duration": 5,
    "start_time": "2022-12-01T16:46:37.484Z"
   },
   {
    "duration": 1413,
    "start_time": "2022-12-01T16:46:37.671Z"
   },
   {
    "duration": 5,
    "start_time": "2022-12-01T16:47:08.638Z"
   },
   {
    "duration": 1350,
    "start_time": "2022-12-01T16:47:08.804Z"
   },
   {
    "duration": 4,
    "start_time": "2022-12-01T16:47:17.690Z"
   },
   {
    "duration": 1591,
    "start_time": "2022-12-01T16:47:18.028Z"
   },
   {
    "duration": 1138,
    "start_time": "2022-12-01T16:48:12.507Z"
   },
   {
    "duration": 53,
    "start_time": "2022-12-01T16:48:13.647Z"
   },
   {
    "duration": 17,
    "start_time": "2022-12-01T16:48:13.702Z"
   },
   {
    "duration": 12,
    "start_time": "2022-12-01T16:48:13.721Z"
   },
   {
    "duration": 8,
    "start_time": "2022-12-01T16:48:13.736Z"
   },
   {
    "duration": 17,
    "start_time": "2022-12-01T16:48:13.746Z"
   },
   {
    "duration": 15,
    "start_time": "2022-12-01T16:48:13.765Z"
   },
   {
    "duration": 3,
    "start_time": "2022-12-01T16:48:13.805Z"
   },
   {
    "duration": 10,
    "start_time": "2022-12-01T16:48:13.809Z"
   },
   {
    "duration": 14,
    "start_time": "2022-12-01T16:48:13.820Z"
   },
   {
    "duration": 17,
    "start_time": "2022-12-01T16:48:13.836Z"
   },
   {
    "duration": 7,
    "start_time": "2022-12-01T16:48:13.855Z"
   },
   {
    "duration": 253,
    "start_time": "2022-12-01T16:48:13.863Z"
   },
   {
    "duration": 22,
    "start_time": "2022-12-01T16:48:14.119Z"
   },
   {
    "duration": 311,
    "start_time": "2022-12-01T16:48:14.143Z"
   },
   {
    "duration": 7,
    "start_time": "2022-12-01T16:48:14.456Z"
   },
   {
    "duration": 11,
    "start_time": "2022-12-01T16:48:14.465Z"
   },
   {
    "duration": 295,
    "start_time": "2022-12-01T16:48:14.478Z"
   },
   {
    "duration": 187,
    "start_time": "2022-12-01T16:48:14.776Z"
   },
   {
    "duration": 2,
    "start_time": "2022-12-01T16:48:14.965Z"
   },
   {
    "duration": 5,
    "start_time": "2022-12-01T16:48:14.969Z"
   },
   {
    "duration": 1558,
    "start_time": "2022-12-01T16:48:14.976Z"
   },
   {
    "duration": 4,
    "start_time": "2022-12-01T16:48:51.166Z"
   },
   {
    "duration": 1382,
    "start_time": "2022-12-01T16:48:51.305Z"
   },
   {
    "duration": 5,
    "start_time": "2022-12-01T16:48:59.626Z"
   },
   {
    "duration": 1513,
    "start_time": "2022-12-01T16:48:59.850Z"
   },
   {
    "duration": 5,
    "start_time": "2022-12-01T16:49:30.962Z"
   },
   {
    "duration": 1341,
    "start_time": "2022-12-01T16:49:31.465Z"
   },
   {
    "duration": 5,
    "start_time": "2022-12-01T16:50:16.893Z"
   },
   {
    "duration": 1570,
    "start_time": "2022-12-01T16:50:17.228Z"
   },
   {
    "duration": 4,
    "start_time": "2022-12-01T16:51:51.570Z"
   },
   {
    "duration": 99,
    "start_time": "2022-12-01T16:51:51.978Z"
   },
   {
    "duration": 5,
    "start_time": "2022-12-01T16:52:11.220Z"
   },
   {
    "duration": 1591,
    "start_time": "2022-12-01T16:52:11.413Z"
   },
   {
    "duration": 5,
    "start_time": "2022-12-01T16:53:26.565Z"
   },
   {
    "duration": 1407,
    "start_time": "2022-12-01T16:53:26.874Z"
   },
   {
    "duration": 4,
    "start_time": "2022-12-01T16:54:00.066Z"
   },
   {
    "duration": 5,
    "start_time": "2022-12-01T16:55:46.409Z"
   },
   {
    "duration": 1632,
    "start_time": "2022-12-01T16:55:46.582Z"
   },
   {
    "duration": 4,
    "start_time": "2022-12-01T16:56:05.421Z"
   },
   {
    "duration": 1384,
    "start_time": "2022-12-01T16:56:05.877Z"
   },
   {
    "duration": 6,
    "start_time": "2022-12-01T16:56:31.535Z"
   },
   {
    "duration": 1542,
    "start_time": "2022-12-01T16:56:31.689Z"
   },
   {
    "duration": 5,
    "start_time": "2022-12-01T16:57:04.897Z"
   },
   {
    "duration": 1420,
    "start_time": "2022-12-01T16:57:05.069Z"
   },
   {
    "duration": 5,
    "start_time": "2022-12-01T16:57:30.939Z"
   },
   {
    "duration": 1529,
    "start_time": "2022-12-01T16:57:31.252Z"
   },
   {
    "duration": 7,
    "start_time": "2022-12-01T16:57:43.970Z"
   },
   {
    "duration": 1701,
    "start_time": "2022-12-01T16:57:43.980Z"
   },
   {
    "duration": 5,
    "start_time": "2022-12-01T17:01:05.552Z"
   },
   {
    "duration": 1426,
    "start_time": "2022-12-01T17:01:05.942Z"
   },
   {
    "duration": 6,
    "start_time": "2022-12-01T17:01:13.884Z"
   },
   {
    "duration": 1511,
    "start_time": "2022-12-01T17:01:14.030Z"
   },
   {
    "duration": 6,
    "start_time": "2022-12-01T17:01:43.703Z"
   },
   {
    "duration": 1472,
    "start_time": "2022-12-01T17:01:43.710Z"
   },
   {
    "duration": 5,
    "start_time": "2022-12-01T17:03:28.284Z"
   },
   {
    "duration": 1566,
    "start_time": "2022-12-01T17:03:28.573Z"
   },
   {
    "duration": 4,
    "start_time": "2022-12-01T17:03:48.820Z"
   },
   {
    "duration": 1381,
    "start_time": "2022-12-01T17:03:49.006Z"
   },
   {
    "duration": 8,
    "start_time": "2022-12-01T17:05:14.027Z"
   },
   {
    "duration": 1455,
    "start_time": "2022-12-01T17:05:14.210Z"
   },
   {
    "duration": 5,
    "start_time": "2022-12-01T17:05:40.208Z"
   },
   {
    "duration": 1474,
    "start_time": "2022-12-01T17:05:40.475Z"
   },
   {
    "duration": 81,
    "start_time": "2022-12-01T17:06:19.649Z"
   },
   {
    "duration": 1392,
    "start_time": "2022-12-01T17:06:19.946Z"
   },
   {
    "duration": 70,
    "start_time": "2022-12-01T17:06:29.684Z"
   },
   {
    "duration": 6,
    "start_time": "2022-12-01T17:06:53.401Z"
   },
   {
    "duration": 1529,
    "start_time": "2022-12-01T17:06:54.335Z"
   },
   {
    "duration": 8,
    "start_time": "2022-12-01T17:07:48.199Z"
   },
   {
    "duration": 1454,
    "start_time": "2022-12-01T17:07:48.460Z"
   },
   {
    "duration": 6,
    "start_time": "2022-12-01T17:08:41.810Z"
   },
   {
    "duration": 1557,
    "start_time": "2022-12-01T17:08:41.963Z"
   },
   {
    "duration": 6,
    "start_time": "2022-12-01T17:09:00.459Z"
   },
   {
    "duration": 1448,
    "start_time": "2022-12-01T17:09:01.742Z"
   },
   {
    "duration": 9,
    "start_time": "2022-12-01T17:09:16.553Z"
   },
   {
    "duration": 1642,
    "start_time": "2022-12-01T17:09:16.880Z"
   },
   {
    "duration": 5,
    "start_time": "2022-12-01T17:09:39.396Z"
   },
   {
    "duration": 1408,
    "start_time": "2022-12-01T17:09:39.532Z"
   },
   {
    "duration": 1295,
    "start_time": "2022-12-02T12:17:14.974Z"
   },
   {
    "duration": 199,
    "start_time": "2022-12-02T12:17:16.271Z"
   },
   {
    "duration": 18,
    "start_time": "2022-12-02T12:17:16.471Z"
   },
   {
    "duration": 12,
    "start_time": "2022-12-02T12:17:16.490Z"
   },
   {
    "duration": 6,
    "start_time": "2022-12-02T12:17:16.504Z"
   },
   {
    "duration": 16,
    "start_time": "2022-12-02T12:17:16.512Z"
   },
   {
    "duration": 15,
    "start_time": "2022-12-02T12:17:16.529Z"
   },
   {
    "duration": 3,
    "start_time": "2022-12-02T12:17:16.546Z"
   },
   {
    "duration": 28,
    "start_time": "2022-12-02T12:17:16.550Z"
   },
   {
    "duration": 10,
    "start_time": "2022-12-02T12:17:16.579Z"
   },
   {
    "duration": 13,
    "start_time": "2022-12-02T12:17:16.591Z"
   },
   {
    "duration": 6,
    "start_time": "2022-12-02T12:17:16.605Z"
   },
   {
    "duration": 256,
    "start_time": "2022-12-02T12:17:16.613Z"
   },
   {
    "duration": 21,
    "start_time": "2022-12-02T12:17:16.877Z"
   },
   {
    "duration": 295,
    "start_time": "2022-12-02T12:17:16.899Z"
   },
   {
    "duration": 7,
    "start_time": "2022-12-02T12:17:17.195Z"
   },
   {
    "duration": 10,
    "start_time": "2022-12-02T12:17:17.204Z"
   },
   {
    "duration": 303,
    "start_time": "2022-12-02T12:17:17.215Z"
   },
   {
    "duration": 163,
    "start_time": "2022-12-02T12:17:17.520Z"
   },
   {
    "duration": 3,
    "start_time": "2022-12-02T12:17:17.684Z"
   },
   {
    "duration": 8,
    "start_time": "2022-12-02T12:17:17.688Z"
   },
   {
    "duration": 1526,
    "start_time": "2022-12-02T12:17:17.698Z"
   },
   {
    "duration": 6,
    "start_time": "2022-12-02T12:19:08.690Z"
   },
   {
    "duration": 1336,
    "start_time": "2022-12-02T12:19:09.228Z"
   },
   {
    "duration": 8,
    "start_time": "2022-12-02T12:27:39.411Z"
   },
   {
    "duration": 1604,
    "start_time": "2022-12-02T12:27:39.544Z"
   },
   {
    "duration": 204,
    "start_time": "2022-12-02T12:30:06.409Z"
   },
   {
    "duration": 14,
    "start_time": "2022-12-02T12:30:44.710Z"
   },
   {
    "duration": 15,
    "start_time": "2022-12-02T12:31:33.772Z"
   },
   {
    "duration": 15,
    "start_time": "2022-12-02T12:31:58.598Z"
   },
   {
    "duration": 161,
    "start_time": "2022-12-02T14:17:34.660Z"
   },
   {
    "duration": 163,
    "start_time": "2022-12-02T14:17:52.296Z"
   },
   {
    "duration": 27,
    "start_time": "2022-12-02T14:22:43.965Z"
   },
   {
    "duration": 13,
    "start_time": "2022-12-02T14:23:06.154Z"
   },
   {
    "duration": 20,
    "start_time": "2022-12-02T14:23:20.915Z"
   },
   {
    "duration": 22,
    "start_time": "2022-12-02T14:23:36.105Z"
   },
   {
    "duration": 1200,
    "start_time": "2022-12-02T14:23:46.452Z"
   },
   {
    "duration": 54,
    "start_time": "2022-12-02T14:23:47.653Z"
   },
   {
    "duration": 18,
    "start_time": "2022-12-02T14:23:47.708Z"
   },
   {
    "duration": 17,
    "start_time": "2022-12-02T14:23:47.728Z"
   },
   {
    "duration": 9,
    "start_time": "2022-12-02T14:23:47.746Z"
   },
   {
    "duration": 30,
    "start_time": "2022-12-02T14:23:47.757Z"
   },
   {
    "duration": 15,
    "start_time": "2022-12-02T14:23:47.789Z"
   },
   {
    "duration": 3,
    "start_time": "2022-12-02T14:23:47.806Z"
   },
   {
    "duration": 16,
    "start_time": "2022-12-02T14:23:47.810Z"
   },
   {
    "duration": 14,
    "start_time": "2022-12-02T14:23:47.828Z"
   },
   {
    "duration": 12,
    "start_time": "2022-12-02T14:23:47.844Z"
   },
   {
    "duration": 24,
    "start_time": "2022-12-02T14:23:47.857Z"
   },
   {
    "duration": 256,
    "start_time": "2022-12-02T14:23:47.882Z"
   },
   {
    "duration": 21,
    "start_time": "2022-12-02T14:23:48.140Z"
   },
   {
    "duration": 293,
    "start_time": "2022-12-02T14:23:48.163Z"
   },
   {
    "duration": 8,
    "start_time": "2022-12-02T14:23:48.459Z"
   },
   {
    "duration": 9,
    "start_time": "2022-12-02T14:23:48.479Z"
   },
   {
    "duration": 299,
    "start_time": "2022-12-02T14:23:48.490Z"
   },
   {
    "duration": 169,
    "start_time": "2022-12-02T14:23:48.791Z"
   },
   {
    "duration": 2,
    "start_time": "2022-12-02T14:23:48.962Z"
   },
   {
    "duration": 13,
    "start_time": "2022-12-02T14:23:48.965Z"
   },
   {
    "duration": 1580,
    "start_time": "2022-12-02T14:23:48.979Z"
   },
   {
    "duration": 124,
    "start_time": "2022-12-02T14:23:50.560Z"
   },
   {
    "duration": 25,
    "start_time": "2022-12-02T14:24:35.037Z"
   },
   {
    "duration": 26,
    "start_time": "2022-12-02T14:24:49.775Z"
   },
   {
    "duration": 25,
    "start_time": "2022-12-02T14:25:08.563Z"
   },
   {
    "duration": 24,
    "start_time": "2022-12-02T14:25:10.472Z"
   },
   {
    "duration": 25,
    "start_time": "2022-12-02T14:25:23.879Z"
   },
   {
    "duration": 25,
    "start_time": "2022-12-02T14:26:09.976Z"
   },
   {
    "duration": 29,
    "start_time": "2022-12-02T14:27:14.067Z"
   },
   {
    "duration": 13,
    "start_time": "2022-12-02T14:34:27.398Z"
   },
   {
    "duration": 15,
    "start_time": "2022-12-02T14:34:48.802Z"
   },
   {
    "duration": 15,
    "start_time": "2022-12-02T14:35:25.381Z"
   },
   {
    "duration": 9,
    "start_time": "2022-12-02T14:35:33.221Z"
   },
   {
    "duration": 14,
    "start_time": "2022-12-02T14:35:36.652Z"
   },
   {
    "duration": 22,
    "start_time": "2022-12-02T14:36:32.482Z"
   },
   {
    "duration": 384,
    "start_time": "2022-12-02T14:43:22.768Z"
   },
   {
    "duration": 558,
    "start_time": "2022-12-02T14:43:42.704Z"
   },
   {
    "duration": 552,
    "start_time": "2022-12-02T14:44:19.374Z"
   },
   {
    "duration": 537,
    "start_time": "2022-12-02T14:44:54.336Z"
   },
   {
    "duration": 13,
    "start_time": "2022-12-02T14:54:44.531Z"
   },
   {
    "duration": 435,
    "start_time": "2022-12-02T14:54:56.933Z"
   },
   {
    "duration": 509,
    "start_time": "2022-12-02T14:55:29.773Z"
   },
   {
    "duration": 507,
    "start_time": "2022-12-02T14:56:29.171Z"
   },
   {
    "duration": 399,
    "start_time": "2022-12-02T14:57:51.582Z"
   },
   {
    "duration": 438,
    "start_time": "2022-12-02T14:58:01.980Z"
   },
   {
    "duration": 1101,
    "start_time": "2022-12-02T14:58:07.978Z"
   },
   {
    "duration": 53,
    "start_time": "2022-12-02T14:58:09.080Z"
   },
   {
    "duration": 17,
    "start_time": "2022-12-02T14:58:09.134Z"
   },
   {
    "duration": 17,
    "start_time": "2022-12-02T14:58:09.152Z"
   },
   {
    "duration": 12,
    "start_time": "2022-12-02T14:58:09.171Z"
   },
   {
    "duration": 15,
    "start_time": "2022-12-02T14:58:09.184Z"
   },
   {
    "duration": 15,
    "start_time": "2022-12-02T14:58:09.200Z"
   },
   {
    "duration": 3,
    "start_time": "2022-12-02T14:58:09.216Z"
   },
   {
    "duration": 10,
    "start_time": "2022-12-02T14:58:09.220Z"
   },
   {
    "duration": 11,
    "start_time": "2022-12-02T14:58:09.231Z"
   },
   {
    "duration": 12,
    "start_time": "2022-12-02T14:58:09.243Z"
   },
   {
    "duration": 23,
    "start_time": "2022-12-02T14:58:09.257Z"
   },
   {
    "duration": 246,
    "start_time": "2022-12-02T14:58:09.281Z"
   },
   {
    "duration": 19,
    "start_time": "2022-12-02T14:58:09.530Z"
   },
   {
    "duration": 281,
    "start_time": "2022-12-02T14:58:09.551Z"
   },
   {
    "duration": 7,
    "start_time": "2022-12-02T14:58:09.834Z"
   },
   {
    "duration": 13,
    "start_time": "2022-12-02T14:58:09.843Z"
   },
   {
    "duration": 288,
    "start_time": "2022-12-02T14:58:09.857Z"
   },
   {
    "duration": 164,
    "start_time": "2022-12-02T14:58:10.147Z"
   },
   {
    "duration": 2,
    "start_time": "2022-12-02T14:58:10.313Z"
   },
   {
    "duration": 6,
    "start_time": "2022-12-02T14:58:10.317Z"
   },
   {
    "duration": 1461,
    "start_time": "2022-12-02T14:58:10.325Z"
   },
   {
    "duration": 25,
    "start_time": "2022-12-02T14:58:11.788Z"
   },
   {
    "duration": 457,
    "start_time": "2022-12-02T14:58:11.814Z"
   },
   {
    "duration": 414,
    "start_time": "2022-12-02T14:58:12.272Z"
   },
   {
    "duration": 394,
    "start_time": "2022-12-02T14:58:49.223Z"
   },
   {
    "duration": 400,
    "start_time": "2022-12-02T14:59:53.156Z"
   },
   {
    "duration": 558,
    "start_time": "2022-12-02T14:59:59.993Z"
   },
   {
    "duration": 432,
    "start_time": "2022-12-02T15:00:04.425Z"
   },
   {
    "duration": 415,
    "start_time": "2022-12-02T15:00:24.866Z"
   },
   {
    "duration": 121,
    "start_time": "2022-12-02T15:27:42.763Z"
   },
   {
    "duration": 28,
    "start_time": "2022-12-02T15:28:07.759Z"
   },
   {
    "duration": 417,
    "start_time": "2022-12-02T15:28:16.667Z"
   },
   {
    "duration": 31,
    "start_time": "2022-12-02T15:30:33.605Z"
   },
   {
    "duration": 15,
    "start_time": "2022-12-02T15:31:10.853Z"
   },
   {
    "duration": 16,
    "start_time": "2022-12-02T15:31:51.297Z"
   },
   {
    "duration": 15,
    "start_time": "2022-12-02T15:32:04.251Z"
   },
   {
    "duration": 16,
    "start_time": "2022-12-02T15:32:15.900Z"
   },
   {
    "duration": 24,
    "start_time": "2022-12-02T15:32:57.747Z"
   },
   {
    "duration": 268,
    "start_time": "2022-12-02T15:34:31.144Z"
   },
   {
    "duration": 1052,
    "start_time": "2022-12-02T15:36:57.215Z"
   },
   {
    "duration": 55,
    "start_time": "2022-12-02T15:36:58.269Z"
   },
   {
    "duration": 16,
    "start_time": "2022-12-02T15:36:58.326Z"
   },
   {
    "duration": 14,
    "start_time": "2022-12-02T15:36:58.344Z"
   },
   {
    "duration": 17,
    "start_time": "2022-12-02T15:36:58.360Z"
   },
   {
    "duration": 24,
    "start_time": "2022-12-02T15:36:58.378Z"
   },
   {
    "duration": 22,
    "start_time": "2022-12-02T15:36:58.403Z"
   },
   {
    "duration": 15,
    "start_time": "2022-12-02T15:36:58.427Z"
   },
   {
    "duration": 14,
    "start_time": "2022-12-02T15:36:58.443Z"
   },
   {
    "duration": 36,
    "start_time": "2022-12-02T15:36:58.458Z"
   },
   {
    "duration": 23,
    "start_time": "2022-12-02T15:36:58.496Z"
   },
   {
    "duration": 22,
    "start_time": "2022-12-02T15:36:58.521Z"
   },
   {
    "duration": 258,
    "start_time": "2022-12-02T15:36:58.544Z"
   },
   {
    "duration": 20,
    "start_time": "2022-12-02T15:36:58.805Z"
   },
   {
    "duration": 301,
    "start_time": "2022-12-02T15:36:58.827Z"
   },
   {
    "duration": 8,
    "start_time": "2022-12-02T15:36:59.130Z"
   },
   {
    "duration": 28,
    "start_time": "2022-12-02T15:36:59.139Z"
   },
   {
    "duration": 289,
    "start_time": "2022-12-02T15:36:59.169Z"
   },
   {
    "duration": 169,
    "start_time": "2022-12-02T15:36:59.460Z"
   },
   {
    "duration": 3,
    "start_time": "2022-12-02T15:36:59.631Z"
   },
   {
    "duration": 18,
    "start_time": "2022-12-02T15:36:59.635Z"
   },
   {
    "duration": 1581,
    "start_time": "2022-12-02T15:36:59.655Z"
   },
   {
    "duration": 24,
    "start_time": "2022-12-02T15:37:01.238Z"
   },
   {
    "duration": 479,
    "start_time": "2022-12-02T15:37:01.263Z"
   },
   {
    "duration": 420,
    "start_time": "2022-12-02T15:37:01.744Z"
   },
   {
    "duration": 20,
    "start_time": "2022-12-02T15:37:02.166Z"
   },
   {
    "duration": 91,
    "start_time": "2022-12-02T15:46:32.036Z"
   },
   {
    "duration": 263,
    "start_time": "2022-12-02T16:00:20.872Z"
   },
   {
    "duration": 260,
    "start_time": "2022-12-02T16:00:30.986Z"
   },
   {
    "duration": 1124,
    "start_time": "2022-12-02T16:00:43.220Z"
   },
   {
    "duration": 53,
    "start_time": "2022-12-02T16:00:44.345Z"
   },
   {
    "duration": 16,
    "start_time": "2022-12-02T16:00:44.399Z"
   },
   {
    "duration": 11,
    "start_time": "2022-12-02T16:00:44.417Z"
   },
   {
    "duration": 6,
    "start_time": "2022-12-02T16:00:44.430Z"
   },
   {
    "duration": 17,
    "start_time": "2022-12-02T16:00:44.437Z"
   },
   {
    "duration": 17,
    "start_time": "2022-12-02T16:00:44.478Z"
   },
   {
    "duration": 3,
    "start_time": "2022-12-02T16:00:44.497Z"
   },
   {
    "duration": 7,
    "start_time": "2022-12-02T16:00:44.502Z"
   },
   {
    "duration": 16,
    "start_time": "2022-12-02T16:00:44.511Z"
   },
   {
    "duration": 15,
    "start_time": "2022-12-02T16:00:44.529Z"
   },
   {
    "duration": 5,
    "start_time": "2022-12-02T16:00:44.546Z"
   },
   {
    "duration": 272,
    "start_time": "2022-12-02T16:00:44.553Z"
   },
   {
    "duration": 21,
    "start_time": "2022-12-02T16:00:44.827Z"
   },
   {
    "duration": 293,
    "start_time": "2022-12-02T16:00:44.850Z"
   },
   {
    "duration": 7,
    "start_time": "2022-12-02T16:00:45.145Z"
   },
   {
    "duration": 10,
    "start_time": "2022-12-02T16:00:45.153Z"
   },
   {
    "duration": 113,
    "start_time": "2022-12-02T16:00:45.165Z"
   },
   {
    "duration": 0,
    "start_time": "2022-12-02T16:00:45.279Z"
   },
   {
    "duration": 0,
    "start_time": "2022-12-02T16:00:45.280Z"
   },
   {
    "duration": 0,
    "start_time": "2022-12-02T16:00:45.282Z"
   },
   {
    "duration": 0,
    "start_time": "2022-12-02T16:00:45.283Z"
   },
   {
    "duration": 0,
    "start_time": "2022-12-02T16:00:45.284Z"
   },
   {
    "duration": 0,
    "start_time": "2022-12-02T16:00:45.285Z"
   },
   {
    "duration": 0,
    "start_time": "2022-12-02T16:00:45.286Z"
   },
   {
    "duration": 0,
    "start_time": "2022-12-02T16:00:45.287Z"
   },
   {
    "duration": 264,
    "start_time": "2022-12-02T16:01:55.725Z"
   },
   {
    "duration": 9,
    "start_time": "2022-12-02T16:03:26.279Z"
   },
   {
    "duration": 20,
    "start_time": "2022-12-02T16:03:33.531Z"
   },
   {
    "duration": 242,
    "start_time": "2022-12-02T16:04:41.656Z"
   },
   {
    "duration": 1177,
    "start_time": "2022-12-02T16:05:00.679Z"
   },
   {
    "duration": 52,
    "start_time": "2022-12-02T16:05:01.858Z"
   },
   {
    "duration": 18,
    "start_time": "2022-12-02T16:05:01.911Z"
   },
   {
    "duration": 16,
    "start_time": "2022-12-02T16:05:01.930Z"
   },
   {
    "duration": 5,
    "start_time": "2022-12-02T16:05:01.948Z"
   },
   {
    "duration": 27,
    "start_time": "2022-12-02T16:05:01.954Z"
   },
   {
    "duration": 14,
    "start_time": "2022-12-02T16:05:01.982Z"
   },
   {
    "duration": 3,
    "start_time": "2022-12-02T16:05:01.997Z"
   },
   {
    "duration": 10,
    "start_time": "2022-12-02T16:05:02.001Z"
   },
   {
    "duration": 14,
    "start_time": "2022-12-02T16:05:02.013Z"
   },
   {
    "duration": 14,
    "start_time": "2022-12-02T16:05:02.028Z"
   },
   {
    "duration": 4,
    "start_time": "2022-12-02T16:05:02.044Z"
   },
   {
    "duration": 261,
    "start_time": "2022-12-02T16:05:02.050Z"
   },
   {
    "duration": 20,
    "start_time": "2022-12-02T16:05:02.315Z"
   },
   {
    "duration": 298,
    "start_time": "2022-12-02T16:05:02.336Z"
   },
   {
    "duration": 9,
    "start_time": "2022-12-02T16:05:02.635Z"
   },
   {
    "duration": 11,
    "start_time": "2022-12-02T16:05:02.646Z"
   },
   {
    "duration": 310,
    "start_time": "2022-12-02T16:05:02.659Z"
   },
   {
    "duration": 179,
    "start_time": "2022-12-02T16:05:02.971Z"
   },
   {
    "duration": 3,
    "start_time": "2022-12-02T16:05:03.152Z"
   },
   {
    "duration": 8,
    "start_time": "2022-12-02T16:05:03.156Z"
   },
   {
    "duration": 1591,
    "start_time": "2022-12-02T16:05:03.165Z"
   },
   {
    "duration": 29,
    "start_time": "2022-12-02T16:05:04.758Z"
   },
   {
    "duration": 467,
    "start_time": "2022-12-02T16:05:04.789Z"
   },
   {
    "duration": 436,
    "start_time": "2022-12-02T16:05:05.257Z"
   },
   {
    "duration": 17,
    "start_time": "2022-12-02T16:05:05.695Z"
   },
   {
    "duration": 32,
    "start_time": "2022-12-02T16:05:05.714Z"
   },
   {
    "duration": 280,
    "start_time": "2022-12-02T16:05:20.538Z"
   },
   {
    "duration": 1176,
    "start_time": "2022-12-02T16:05:23.851Z"
   },
   {
    "duration": 54,
    "start_time": "2022-12-02T16:05:25.030Z"
   },
   {
    "duration": 18,
    "start_time": "2022-12-02T16:05:25.085Z"
   },
   {
    "duration": 12,
    "start_time": "2022-12-02T16:05:25.105Z"
   },
   {
    "duration": 7,
    "start_time": "2022-12-02T16:05:25.118Z"
   },
   {
    "duration": 19,
    "start_time": "2022-12-02T16:05:25.127Z"
   },
   {
    "duration": 33,
    "start_time": "2022-12-02T16:05:25.147Z"
   },
   {
    "duration": 4,
    "start_time": "2022-12-02T16:05:25.181Z"
   },
   {
    "duration": 8,
    "start_time": "2022-12-02T16:05:25.186Z"
   },
   {
    "duration": 10,
    "start_time": "2022-12-02T16:05:25.197Z"
   },
   {
    "duration": 12,
    "start_time": "2022-12-02T16:05:25.208Z"
   },
   {
    "duration": 5,
    "start_time": "2022-12-02T16:05:25.222Z"
   },
   {
    "duration": 256,
    "start_time": "2022-12-02T16:05:25.229Z"
   },
   {
    "duration": 21,
    "start_time": "2022-12-02T16:05:25.486Z"
   },
   {
    "duration": 297,
    "start_time": "2022-12-02T16:05:25.509Z"
   },
   {
    "duration": 9,
    "start_time": "2022-12-02T16:05:25.808Z"
   },
   {
    "duration": 9,
    "start_time": "2022-12-02T16:05:25.818Z"
   },
   {
    "duration": 292,
    "start_time": "2022-12-02T16:05:25.829Z"
   },
   {
    "duration": 176,
    "start_time": "2022-12-02T16:05:26.123Z"
   },
   {
    "duration": 2,
    "start_time": "2022-12-02T16:05:26.301Z"
   },
   {
    "duration": 7,
    "start_time": "2022-12-02T16:05:26.305Z"
   },
   {
    "duration": 1466,
    "start_time": "2022-12-02T16:05:26.314Z"
   },
   {
    "duration": 24,
    "start_time": "2022-12-02T16:05:27.781Z"
   },
   {
    "duration": 457,
    "start_time": "2022-12-02T16:05:27.807Z"
   },
   {
    "duration": 443,
    "start_time": "2022-12-02T16:05:28.266Z"
   },
   {
    "duration": 15,
    "start_time": "2022-12-02T16:05:28.711Z"
   },
   {
    "duration": 110,
    "start_time": "2022-12-02T16:05:28.728Z"
   },
   {
    "duration": 1097,
    "start_time": "2022-12-02T16:59:38.372Z"
   },
   {
    "duration": 53,
    "start_time": "2022-12-02T16:59:39.471Z"
   },
   {
    "duration": 16,
    "start_time": "2022-12-02T16:59:39.525Z"
   },
   {
    "duration": 12,
    "start_time": "2022-12-02T16:59:39.542Z"
   },
   {
    "duration": 5,
    "start_time": "2022-12-02T16:59:39.556Z"
   },
   {
    "duration": 17,
    "start_time": "2022-12-02T16:59:39.563Z"
   },
   {
    "duration": 13,
    "start_time": "2022-12-02T16:59:39.582Z"
   },
   {
    "duration": 3,
    "start_time": "2022-12-02T16:59:39.597Z"
   },
   {
    "duration": 8,
    "start_time": "2022-12-02T16:59:39.602Z"
   },
   {
    "duration": 11,
    "start_time": "2022-12-02T16:59:39.611Z"
   },
   {
    "duration": 11,
    "start_time": "2022-12-02T16:59:39.623Z"
   },
   {
    "duration": 4,
    "start_time": "2022-12-02T16:59:39.636Z"
   },
   {
    "duration": 255,
    "start_time": "2022-12-02T16:59:39.641Z"
   },
   {
    "duration": 20,
    "start_time": "2022-12-02T16:59:39.898Z"
   },
   {
    "duration": 279,
    "start_time": "2022-12-02T16:59:39.920Z"
   },
   {
    "duration": 7,
    "start_time": "2022-12-02T16:59:40.201Z"
   },
   {
    "duration": 9,
    "start_time": "2022-12-02T16:59:40.210Z"
   },
   {
    "duration": 276,
    "start_time": "2022-12-02T16:59:40.221Z"
   },
   {
    "duration": 163,
    "start_time": "2022-12-02T16:59:40.499Z"
   },
   {
    "duration": 3,
    "start_time": "2022-12-02T16:59:40.664Z"
   },
   {
    "duration": 11,
    "start_time": "2022-12-02T16:59:40.669Z"
   },
   {
    "duration": 1481,
    "start_time": "2022-12-02T16:59:40.682Z"
   },
   {
    "duration": 30,
    "start_time": "2022-12-02T16:59:42.164Z"
   },
   {
    "duration": 440,
    "start_time": "2022-12-02T16:59:42.195Z"
   },
   {
    "duration": 443,
    "start_time": "2022-12-02T16:59:42.637Z"
   },
   {
    "duration": 15,
    "start_time": "2022-12-02T16:59:43.081Z"
   },
   {
    "duration": 3,
    "start_time": "2022-12-02T17:04:51.114Z"
   },
   {
    "duration": 22,
    "start_time": "2022-12-02T17:06:34.575Z"
   },
   {
    "duration": 19,
    "start_time": "2022-12-02T17:08:24.655Z"
   },
   {
    "duration": 22,
    "start_time": "2022-12-02T17:08:36.146Z"
   },
   {
    "duration": 17,
    "start_time": "2022-12-02T17:09:09.921Z"
   },
   {
    "duration": 4,
    "start_time": "2022-12-02T17:10:31.602Z"
   },
   {
    "duration": 18,
    "start_time": "2022-12-02T17:10:35.663Z"
   },
   {
    "duration": 33,
    "start_time": "2022-12-02T17:11:18.914Z"
   },
   {
    "duration": 5,
    "start_time": "2022-12-02T17:11:22.802Z"
   },
   {
    "duration": 5,
    "start_time": "2022-12-02T17:11:36.060Z"
   },
   {
    "duration": 8,
    "start_time": "2022-12-02T17:21:16.354Z"
   },
   {
    "duration": 5,
    "start_time": "2022-12-02T17:21:18.291Z"
   },
   {
    "duration": 9,
    "start_time": "2022-12-02T17:21:43.168Z"
   },
   {
    "duration": 108,
    "start_time": "2022-12-02T17:22:08.454Z"
   },
   {
    "duration": 8,
    "start_time": "2022-12-02T17:22:15.252Z"
   },
   {
    "duration": 8,
    "start_time": "2022-12-02T17:22:21.382Z"
   },
   {
    "duration": 6,
    "start_time": "2022-12-02T17:24:14.602Z"
   },
   {
    "duration": 15,
    "start_time": "2022-12-02T17:25:13.531Z"
   },
   {
    "duration": 13,
    "start_time": "2022-12-02T17:25:19.563Z"
   },
   {
    "duration": 12,
    "start_time": "2022-12-02T17:25:28.666Z"
   },
   {
    "duration": 5,
    "start_time": "2022-12-02T17:28:35.154Z"
   },
   {
    "duration": 8,
    "start_time": "2022-12-02T17:28:37.566Z"
   },
   {
    "duration": 11,
    "start_time": "2022-12-02T17:28:48.018Z"
   },
   {
    "duration": 3,
    "start_time": "2022-12-02T17:28:51.535Z"
   },
   {
    "duration": 13,
    "start_time": "2022-12-02T17:29:32.735Z"
   },
   {
    "duration": 13,
    "start_time": "2022-12-02T17:30:14.491Z"
   },
   {
    "duration": 4,
    "start_time": "2022-12-02T17:30:23.053Z"
   },
   {
    "duration": 17,
    "start_time": "2022-12-02T17:30:40.739Z"
   },
   {
    "duration": 7,
    "start_time": "2022-12-02T17:31:54.945Z"
   },
   {
    "duration": 5,
    "start_time": "2022-12-02T17:31:59.237Z"
   },
   {
    "duration": 5,
    "start_time": "2022-12-02T17:32:42.664Z"
   },
   {
    "duration": 9,
    "start_time": "2022-12-02T17:33:00.944Z"
   },
   {
    "duration": 8,
    "start_time": "2022-12-02T17:33:10.278Z"
   },
   {
    "duration": 14,
    "start_time": "2022-12-02T17:39:36.162Z"
   },
   {
    "duration": 10,
    "start_time": "2022-12-02T17:39:47.120Z"
   },
   {
    "duration": 12,
    "start_time": "2022-12-02T17:39:50.618Z"
   },
   {
    "duration": 11,
    "start_time": "2022-12-02T17:40:05.284Z"
   },
   {
    "duration": 6,
    "start_time": "2022-12-02T17:43:46.545Z"
   },
   {
    "duration": 11,
    "start_time": "2022-12-02T17:45:13.463Z"
   },
   {
    "duration": 10,
    "start_time": "2022-12-02T17:47:00.110Z"
   },
   {
    "duration": 10,
    "start_time": "2022-12-02T17:47:18.643Z"
   },
   {
    "duration": 11,
    "start_time": "2022-12-02T17:47:22.017Z"
   },
   {
    "duration": 9,
    "start_time": "2022-12-02T17:47:40.872Z"
   },
   {
    "duration": 10,
    "start_time": "2022-12-02T17:53:07.772Z"
   },
   {
    "duration": 12,
    "start_time": "2022-12-02T17:53:49.146Z"
   },
   {
    "duration": 5,
    "start_time": "2022-12-02T17:53:50.174Z"
   },
   {
    "duration": 11,
    "start_time": "2022-12-02T17:53:56.606Z"
   },
   {
    "duration": 5,
    "start_time": "2022-12-02T17:54:32.239Z"
   },
   {
    "duration": 9,
    "start_time": "2022-12-02T17:55:08.580Z"
   },
   {
    "duration": 9,
    "start_time": "2022-12-02T17:55:16.919Z"
   },
   {
    "duration": 6,
    "start_time": "2022-12-02T17:55:19.206Z"
   },
   {
    "duration": 5,
    "start_time": "2022-12-02T17:55:28.529Z"
   },
   {
    "duration": 11,
    "start_time": "2022-12-02T17:55:46.578Z"
   },
   {
    "duration": 8,
    "start_time": "2022-12-02T17:57:12.278Z"
   },
   {
    "duration": 4,
    "start_time": "2022-12-02T17:57:14.948Z"
   },
   {
    "duration": 9,
    "start_time": "2022-12-02T17:57:56.759Z"
   },
   {
    "duration": 5,
    "start_time": "2022-12-02T17:58:02.428Z"
   },
   {
    "duration": 11,
    "start_time": "2022-12-02T17:58:23.002Z"
   },
   {
    "duration": 5,
    "start_time": "2022-12-02T17:58:24.774Z"
   },
   {
    "duration": 11,
    "start_time": "2022-12-02T17:59:02.947Z"
   },
   {
    "duration": 5,
    "start_time": "2022-12-02T17:59:05.396Z"
   },
   {
    "duration": 5,
    "start_time": "2022-12-02T17:59:12.184Z"
   },
   {
    "duration": 10,
    "start_time": "2022-12-02T17:59:16.369Z"
   },
   {
    "duration": 6,
    "start_time": "2022-12-02T17:59:23.715Z"
   },
   {
    "duration": 71,
    "start_time": "2022-12-02T18:05:02.988Z"
   },
   {
    "duration": 69,
    "start_time": "2022-12-02T18:25:55.836Z"
   },
   {
    "duration": 1325,
    "start_time": "2022-12-03T10:50:15.762Z"
   },
   {
    "duration": 196,
    "start_time": "2022-12-03T10:50:17.089Z"
   },
   {
    "duration": 20,
    "start_time": "2022-12-03T10:50:17.286Z"
   },
   {
    "duration": 14,
    "start_time": "2022-12-03T10:50:17.309Z"
   },
   {
    "duration": 7,
    "start_time": "2022-12-03T10:50:17.325Z"
   },
   {
    "duration": 24,
    "start_time": "2022-12-03T10:50:17.333Z"
   },
   {
    "duration": 17,
    "start_time": "2022-12-03T10:50:17.359Z"
   },
   {
    "duration": 3,
    "start_time": "2022-12-03T10:50:17.377Z"
   },
   {
    "duration": 8,
    "start_time": "2022-12-03T10:50:17.382Z"
   },
   {
    "duration": 11,
    "start_time": "2022-12-03T10:50:17.393Z"
   },
   {
    "duration": 14,
    "start_time": "2022-12-03T10:50:17.406Z"
   },
   {
    "duration": 6,
    "start_time": "2022-12-03T10:50:17.450Z"
   },
   {
    "duration": 367,
    "start_time": "2022-12-03T10:50:17.459Z"
   },
   {
    "duration": 30,
    "start_time": "2022-12-03T10:50:17.828Z"
   },
   {
    "duration": 316,
    "start_time": "2022-12-03T10:50:17.860Z"
   },
   {
    "duration": 9,
    "start_time": "2022-12-03T10:50:18.178Z"
   },
   {
    "duration": 11,
    "start_time": "2022-12-03T10:50:18.189Z"
   },
   {
    "duration": 310,
    "start_time": "2022-12-03T10:50:18.202Z"
   },
   {
    "duration": 181,
    "start_time": "2022-12-03T10:50:18.514Z"
   },
   {
    "duration": 3,
    "start_time": "2022-12-03T10:50:18.696Z"
   },
   {
    "duration": 6,
    "start_time": "2022-12-03T10:50:18.701Z"
   },
   {
    "duration": 1747,
    "start_time": "2022-12-03T10:50:18.709Z"
   },
   {
    "duration": 27,
    "start_time": "2022-12-03T10:50:20.458Z"
   },
   {
    "duration": 505,
    "start_time": "2022-12-03T10:50:20.486Z"
   },
   {
    "duration": 453,
    "start_time": "2022-12-03T10:50:20.993Z"
   },
   {
    "duration": 18,
    "start_time": "2022-12-03T10:50:21.450Z"
   },
   {
    "duration": 3,
    "start_time": "2022-12-03T10:50:21.472Z"
   },
   {
    "duration": 26,
    "start_time": "2022-12-03T10:50:21.478Z"
   },
   {
    "duration": 7,
    "start_time": "2022-12-03T10:50:21.505Z"
   },
   {
    "duration": 14,
    "start_time": "2022-12-03T10:50:21.513Z"
   },
   {
    "duration": 22,
    "start_time": "2022-12-03T10:50:21.529Z"
   },
   {
    "duration": 24,
    "start_time": "2022-12-03T11:09:30.408Z"
   },
   {
    "duration": 4,
    "start_time": "2022-12-03T11:09:37.354Z"
   },
   {
    "duration": 46,
    "start_time": "2022-12-03T11:20:39.074Z"
   },
   {
    "duration": 1399,
    "start_time": "2022-12-03T11:20:44.026Z"
   },
   {
    "duration": 206,
    "start_time": "2022-12-03T11:20:45.427Z"
   },
   {
    "duration": 19,
    "start_time": "2022-12-03T11:20:45.635Z"
   },
   {
    "duration": 14,
    "start_time": "2022-12-03T11:20:45.655Z"
   },
   {
    "duration": 5,
    "start_time": "2022-12-03T11:20:45.671Z"
   },
   {
    "duration": 17,
    "start_time": "2022-12-03T11:20:45.677Z"
   },
   {
    "duration": 27,
    "start_time": "2022-12-03T11:20:45.696Z"
   },
   {
    "duration": 4,
    "start_time": "2022-12-03T11:20:45.725Z"
   },
   {
    "duration": 11,
    "start_time": "2022-12-03T11:20:45.731Z"
   },
   {
    "duration": 19,
    "start_time": "2022-12-03T11:20:45.744Z"
   },
   {
    "duration": 19,
    "start_time": "2022-12-03T11:20:45.765Z"
   },
   {
    "duration": 6,
    "start_time": "2022-12-03T11:20:45.786Z"
   },
   {
    "duration": 339,
    "start_time": "2022-12-03T11:20:45.793Z"
   },
   {
    "duration": 30,
    "start_time": "2022-12-03T11:20:46.135Z"
   },
   {
    "duration": 338,
    "start_time": "2022-12-03T11:20:46.167Z"
   },
   {
    "duration": 8,
    "start_time": "2022-12-03T11:20:46.506Z"
   },
   {
    "duration": 19,
    "start_time": "2022-12-03T11:20:46.521Z"
   },
   {
    "duration": 295,
    "start_time": "2022-12-03T11:20:46.541Z"
   },
   {
    "duration": 187,
    "start_time": "2022-12-03T11:20:46.837Z"
   },
   {
    "duration": 3,
    "start_time": "2022-12-03T11:20:47.026Z"
   },
   {
    "duration": 8,
    "start_time": "2022-12-03T11:20:47.031Z"
   },
   {
    "duration": 1623,
    "start_time": "2022-12-03T11:20:47.040Z"
   },
   {
    "duration": 27,
    "start_time": "2022-12-03T11:20:48.665Z"
   },
   {
    "duration": 543,
    "start_time": "2022-12-03T11:20:48.694Z"
   },
   {
    "duration": 474,
    "start_time": "2022-12-03T11:20:49.239Z"
   },
   {
    "duration": 19,
    "start_time": "2022-12-03T11:20:49.723Z"
   },
   {
    "duration": 30,
    "start_time": "2022-12-03T11:20:49.744Z"
   },
   {
    "duration": 29,
    "start_time": "2022-12-03T11:20:49.776Z"
   },
   {
    "duration": 30,
    "start_time": "2022-12-03T11:20:49.810Z"
   },
   {
    "duration": 31,
    "start_time": "2022-12-03T11:20:49.841Z"
   },
   {
    "duration": 19,
    "start_time": "2022-12-03T11:20:49.874Z"
   },
   {
    "duration": 7,
    "start_time": "2022-12-03T11:23:14.628Z"
   },
   {
    "duration": 7,
    "start_time": "2022-12-03T11:29:12.100Z"
   },
   {
    "duration": 267,
    "start_time": "2022-12-03T11:29:12.689Z"
   },
   {
    "duration": 1168,
    "start_time": "2022-12-03T11:29:18.194Z"
   },
   {
    "duration": 67,
    "start_time": "2022-12-03T11:29:19.364Z"
   },
   {
    "duration": 27,
    "start_time": "2022-12-03T11:29:19.433Z"
   },
   {
    "duration": 23,
    "start_time": "2022-12-03T11:29:19.463Z"
   },
   {
    "duration": 27,
    "start_time": "2022-12-03T11:29:19.488Z"
   },
   {
    "duration": 47,
    "start_time": "2022-12-03T11:29:19.517Z"
   },
   {
    "duration": 25,
    "start_time": "2022-12-03T11:29:19.566Z"
   },
   {
    "duration": 23,
    "start_time": "2022-12-03T11:29:19.593Z"
   },
   {
    "duration": 30,
    "start_time": "2022-12-03T11:29:19.618Z"
   },
   {
    "duration": 28,
    "start_time": "2022-12-03T11:29:19.651Z"
   },
   {
    "duration": 19,
    "start_time": "2022-12-03T11:29:19.681Z"
   },
   {
    "duration": 24,
    "start_time": "2022-12-03T11:29:19.702Z"
   },
   {
    "duration": 13,
    "start_time": "2022-12-03T11:29:19.728Z"
   },
   {
    "duration": 288,
    "start_time": "2022-12-03T11:29:19.744Z"
   },
   {
    "duration": 23,
    "start_time": "2022-12-03T11:29:20.034Z"
   },
   {
    "duration": 315,
    "start_time": "2022-12-03T11:29:20.058Z"
   },
   {
    "duration": 7,
    "start_time": "2022-12-03T11:29:20.375Z"
   },
   {
    "duration": 16,
    "start_time": "2022-12-03T11:29:20.383Z"
   },
   {
    "duration": 316,
    "start_time": "2022-12-03T11:29:20.400Z"
   },
   {
    "duration": 189,
    "start_time": "2022-12-03T11:29:20.718Z"
   },
   {
    "duration": 3,
    "start_time": "2022-12-03T11:29:20.909Z"
   },
   {
    "duration": 23,
    "start_time": "2022-12-03T11:29:20.914Z"
   },
   {
    "duration": 1600,
    "start_time": "2022-12-03T11:29:20.939Z"
   },
   {
    "duration": 26,
    "start_time": "2022-12-03T11:29:22.541Z"
   },
   {
    "duration": 511,
    "start_time": "2022-12-03T11:29:22.569Z"
   },
   {
    "duration": 457,
    "start_time": "2022-12-03T11:29:23.082Z"
   },
   {
    "duration": 17,
    "start_time": "2022-12-03T11:29:23.541Z"
   },
   {
    "duration": 3,
    "start_time": "2022-12-03T11:29:23.561Z"
   },
   {
    "duration": 13,
    "start_time": "2022-12-03T11:29:23.565Z"
   },
   {
    "duration": 5,
    "start_time": "2022-12-03T11:29:23.580Z"
   },
   {
    "duration": 41,
    "start_time": "2022-12-03T11:29:23.587Z"
   },
   {
    "duration": 6,
    "start_time": "2022-12-03T11:29:23.630Z"
   },
   {
    "duration": 6,
    "start_time": "2022-12-03T11:35:51.384Z"
   },
   {
    "duration": 9,
    "start_time": "2022-12-03T11:35:55.865Z"
   },
   {
    "duration": 14,
    "start_time": "2022-12-03T11:36:09.449Z"
   },
   {
    "duration": 324,
    "start_time": "2022-12-03T11:37:22.677Z"
   },
   {
    "duration": 1285,
    "start_time": "2022-12-03T11:38:29.695Z"
   },
   {
    "duration": 52,
    "start_time": "2022-12-03T11:38:30.981Z"
   },
   {
    "duration": 20,
    "start_time": "2022-12-03T11:38:31.035Z"
   },
   {
    "duration": 18,
    "start_time": "2022-12-03T11:38:31.058Z"
   },
   {
    "duration": 14,
    "start_time": "2022-12-03T11:38:31.078Z"
   },
   {
    "duration": 32,
    "start_time": "2022-12-03T11:38:31.094Z"
   },
   {
    "duration": 18,
    "start_time": "2022-12-03T11:38:31.128Z"
   },
   {
    "duration": 4,
    "start_time": "2022-12-03T11:38:31.148Z"
   },
   {
    "duration": 22,
    "start_time": "2022-12-03T11:38:31.154Z"
   },
   {
    "duration": 17,
    "start_time": "2022-12-03T11:38:31.179Z"
   },
   {
    "duration": 5,
    "start_time": "2022-12-03T11:38:31.198Z"
   },
   {
    "duration": 27,
    "start_time": "2022-12-03T11:38:31.204Z"
   },
   {
    "duration": 7,
    "start_time": "2022-12-03T11:38:31.234Z"
   },
   {
    "duration": 294,
    "start_time": "2022-12-03T11:38:31.243Z"
   },
   {
    "duration": 24,
    "start_time": "2022-12-03T11:38:31.538Z"
   },
   {
    "duration": 397,
    "start_time": "2022-12-03T11:38:31.564Z"
   },
   {
    "duration": 8,
    "start_time": "2022-12-03T11:38:31.963Z"
   },
   {
    "duration": 13,
    "start_time": "2022-12-03T11:38:31.973Z"
   },
   {
    "duration": 436,
    "start_time": "2022-12-03T11:38:31.988Z"
   },
   {
    "duration": 200,
    "start_time": "2022-12-03T11:38:32.425Z"
   },
   {
    "duration": 3,
    "start_time": "2022-12-03T11:38:32.626Z"
   },
   {
    "duration": 7,
    "start_time": "2022-12-03T11:38:32.631Z"
   },
   {
    "duration": 1627,
    "start_time": "2022-12-03T11:38:32.640Z"
   },
   {
    "duration": 26,
    "start_time": "2022-12-03T11:38:34.269Z"
   },
   {
    "duration": 477,
    "start_time": "2022-12-03T11:38:34.296Z"
   },
   {
    "duration": 453,
    "start_time": "2022-12-03T11:38:34.775Z"
   },
   {
    "duration": 19,
    "start_time": "2022-12-03T11:38:35.229Z"
   },
   {
    "duration": 8,
    "start_time": "2022-12-03T11:38:35.252Z"
   },
   {
    "duration": 13,
    "start_time": "2022-12-03T11:38:35.262Z"
   },
   {
    "duration": 19,
    "start_time": "2022-12-03T11:38:35.277Z"
   },
   {
    "duration": 26,
    "start_time": "2022-12-03T11:38:35.297Z"
   },
   {
    "duration": 6,
    "start_time": "2022-12-03T11:38:35.324Z"
   },
   {
    "duration": 1207,
    "start_time": "2022-12-03T11:40:33.330Z"
   },
   {
    "duration": 52,
    "start_time": "2022-12-03T11:40:34.539Z"
   },
   {
    "duration": 18,
    "start_time": "2022-12-03T11:40:34.593Z"
   },
   {
    "duration": 13,
    "start_time": "2022-12-03T11:40:34.613Z"
   },
   {
    "duration": 7,
    "start_time": "2022-12-03T11:40:34.629Z"
   },
   {
    "duration": 19,
    "start_time": "2022-12-03T11:40:34.638Z"
   },
   {
    "duration": 17,
    "start_time": "2022-12-03T11:40:34.659Z"
   },
   {
    "duration": 4,
    "start_time": "2022-12-03T11:40:34.677Z"
   },
   {
    "duration": 11,
    "start_time": "2022-12-03T11:40:34.683Z"
   },
   {
    "duration": 33,
    "start_time": "2022-12-03T11:40:34.696Z"
   },
   {
    "duration": 6,
    "start_time": "2022-12-03T11:40:34.731Z"
   },
   {
    "duration": 17,
    "start_time": "2022-12-03T11:40:34.738Z"
   },
   {
    "duration": 6,
    "start_time": "2022-12-03T11:40:34.757Z"
   },
   {
    "duration": 299,
    "start_time": "2022-12-03T11:40:34.766Z"
   },
   {
    "duration": 22,
    "start_time": "2022-12-03T11:40:35.066Z"
   },
   {
    "duration": 308,
    "start_time": "2022-12-03T11:40:35.090Z"
   },
   {
    "duration": 8,
    "start_time": "2022-12-03T11:40:35.400Z"
   },
   {
    "duration": 29,
    "start_time": "2022-12-03T11:40:35.410Z"
   },
   {
    "duration": 356,
    "start_time": "2022-12-03T11:40:35.440Z"
   },
   {
    "duration": 210,
    "start_time": "2022-12-03T11:40:35.797Z"
   },
   {
    "duration": 3,
    "start_time": "2022-12-03T11:40:36.008Z"
   },
   {
    "duration": 42,
    "start_time": "2022-12-03T11:40:36.013Z"
   },
   {
    "duration": 1572,
    "start_time": "2022-12-03T11:40:36.056Z"
   },
   {
    "duration": 25,
    "start_time": "2022-12-03T11:40:37.630Z"
   },
   {
    "duration": 487,
    "start_time": "2022-12-03T11:40:37.657Z"
   },
   {
    "duration": 446,
    "start_time": "2022-12-03T11:40:38.146Z"
   },
   {
    "duration": 16,
    "start_time": "2022-12-03T11:40:38.594Z"
   },
   {
    "duration": 4,
    "start_time": "2022-12-03T11:40:38.631Z"
   },
   {
    "duration": 37,
    "start_time": "2022-12-03T11:40:38.636Z"
   },
   {
    "duration": 23,
    "start_time": "2022-12-03T11:40:38.675Z"
   },
   {
    "duration": 38,
    "start_time": "2022-12-03T11:40:38.699Z"
   },
   {
    "duration": 8,
    "start_time": "2022-12-03T11:40:38.740Z"
   },
   {
    "duration": 1149,
    "start_time": "2022-12-03T11:43:10.082Z"
   },
   {
    "duration": 50,
    "start_time": "2022-12-03T11:43:11.233Z"
   },
   {
    "duration": 18,
    "start_time": "2022-12-03T11:43:11.284Z"
   },
   {
    "duration": 13,
    "start_time": "2022-12-03T11:43:11.305Z"
   },
   {
    "duration": 5,
    "start_time": "2022-12-03T11:43:11.319Z"
   },
   {
    "duration": 15,
    "start_time": "2022-12-03T11:43:11.326Z"
   },
   {
    "duration": 17,
    "start_time": "2022-12-03T11:43:11.343Z"
   },
   {
    "duration": 3,
    "start_time": "2022-12-03T11:43:11.362Z"
   },
   {
    "duration": 10,
    "start_time": "2022-12-03T11:43:11.367Z"
   },
   {
    "duration": 45,
    "start_time": "2022-12-03T11:43:11.380Z"
   },
   {
    "duration": 5,
    "start_time": "2022-12-03T11:43:11.426Z"
   },
   {
    "duration": 17,
    "start_time": "2022-12-03T11:43:11.433Z"
   },
   {
    "duration": 5,
    "start_time": "2022-12-03T11:43:11.452Z"
   },
   {
    "duration": 313,
    "start_time": "2022-12-03T11:43:11.459Z"
   },
   {
    "duration": 22,
    "start_time": "2022-12-03T11:43:11.774Z"
   },
   {
    "duration": 307,
    "start_time": "2022-12-03T11:43:11.798Z"
   },
   {
    "duration": 16,
    "start_time": "2022-12-03T11:43:12.106Z"
   },
   {
    "duration": 11,
    "start_time": "2022-12-03T11:43:12.124Z"
   },
   {
    "duration": 347,
    "start_time": "2022-12-03T11:43:12.136Z"
   },
   {
    "duration": 188,
    "start_time": "2022-12-03T11:43:12.486Z"
   },
   {
    "duration": 3,
    "start_time": "2022-12-03T11:43:12.676Z"
   },
   {
    "duration": 24,
    "start_time": "2022-12-03T11:43:12.680Z"
   },
   {
    "duration": 1744,
    "start_time": "2022-12-03T11:43:12.705Z"
   },
   {
    "duration": 25,
    "start_time": "2022-12-03T11:43:14.451Z"
   },
   {
    "duration": 504,
    "start_time": "2022-12-03T11:43:14.478Z"
   },
   {
    "duration": 457,
    "start_time": "2022-12-03T11:43:14.984Z"
   },
   {
    "duration": 15,
    "start_time": "2022-12-03T11:43:15.443Z"
   },
   {
    "duration": 3,
    "start_time": "2022-12-03T11:43:15.461Z"
   },
   {
    "duration": 13,
    "start_time": "2022-12-03T11:43:15.465Z"
   },
   {
    "duration": 13,
    "start_time": "2022-12-03T11:43:15.479Z"
   },
   {
    "duration": 35,
    "start_time": "2022-12-03T11:43:15.494Z"
   },
   {
    "duration": 9,
    "start_time": "2022-12-03T11:43:15.530Z"
   },
   {
    "duration": 246,
    "start_time": "2022-12-03T11:45:47.711Z"
   },
   {
    "duration": 1138,
    "start_time": "2022-12-03T11:49:42.484Z"
   },
   {
    "duration": 50,
    "start_time": "2022-12-03T11:49:43.624Z"
   },
   {
    "duration": 18,
    "start_time": "2022-12-03T11:49:43.676Z"
   },
   {
    "duration": 16,
    "start_time": "2022-12-03T11:49:43.696Z"
   },
   {
    "duration": 7,
    "start_time": "2022-12-03T11:49:43.715Z"
   },
   {
    "duration": 18,
    "start_time": "2022-12-03T11:49:43.724Z"
   },
   {
    "duration": 16,
    "start_time": "2022-12-03T11:49:43.744Z"
   },
   {
    "duration": 4,
    "start_time": "2022-12-03T11:49:43.761Z"
   },
   {
    "duration": 6,
    "start_time": "2022-12-03T11:49:43.767Z"
   },
   {
    "duration": 13,
    "start_time": "2022-12-03T11:49:43.775Z"
   },
   {
    "duration": 5,
    "start_time": "2022-12-03T11:49:43.789Z"
   },
   {
    "duration": 15,
    "start_time": "2022-12-03T11:49:43.822Z"
   },
   {
    "duration": 5,
    "start_time": "2022-12-03T11:49:43.839Z"
   },
   {
    "duration": 320,
    "start_time": "2022-12-03T11:49:43.848Z"
   },
   {
    "duration": 29,
    "start_time": "2022-12-03T11:49:44.170Z"
   },
   {
    "duration": 328,
    "start_time": "2022-12-03T11:49:44.202Z"
   },
   {
    "duration": 7,
    "start_time": "2022-12-03T11:49:44.531Z"
   },
   {
    "duration": 13,
    "start_time": "2022-12-03T11:49:44.539Z"
   },
   {
    "duration": 367,
    "start_time": "2022-12-03T11:49:44.553Z"
   },
   {
    "duration": 196,
    "start_time": "2022-12-03T11:49:44.921Z"
   },
   {
    "duration": 2,
    "start_time": "2022-12-03T11:49:45.122Z"
   },
   {
    "duration": 21,
    "start_time": "2022-12-03T11:49:45.126Z"
   },
   {
    "duration": 1573,
    "start_time": "2022-12-03T11:49:45.149Z"
   },
   {
    "duration": 25,
    "start_time": "2022-12-03T11:49:46.723Z"
   },
   {
    "duration": 493,
    "start_time": "2022-12-03T11:49:46.749Z"
   },
   {
    "duration": 457,
    "start_time": "2022-12-03T11:49:47.244Z"
   },
   {
    "duration": 23,
    "start_time": "2022-12-03T11:49:47.702Z"
   },
   {
    "duration": 2,
    "start_time": "2022-12-03T11:49:47.727Z"
   },
   {
    "duration": 13,
    "start_time": "2022-12-03T11:49:47.731Z"
   },
   {
    "duration": 6,
    "start_time": "2022-12-03T11:49:47.746Z"
   },
   {
    "duration": 13,
    "start_time": "2022-12-03T11:49:47.753Z"
   },
   {
    "duration": 5,
    "start_time": "2022-12-03T11:49:47.768Z"
   },
   {
    "duration": 152,
    "start_time": "2022-12-03T11:52:23.549Z"
   },
   {
    "duration": 151,
    "start_time": "2022-12-03T11:52:31.646Z"
   },
   {
    "duration": 172,
    "start_time": "2022-12-03T11:52:48.763Z"
   },
   {
    "duration": 186,
    "start_time": "2022-12-03T11:53:24.183Z"
   },
   {
    "duration": 16,
    "start_time": "2022-12-03T11:53:44.526Z"
   },
   {
    "duration": 180,
    "start_time": "2022-12-03T11:55:03.476Z"
   },
   {
    "duration": 26,
    "start_time": "2022-12-03T11:56:07.337Z"
   },
   {
    "duration": 43,
    "start_time": "2022-12-03T11:56:41.652Z"
   },
   {
    "duration": 257,
    "start_time": "2022-12-03T12:01:10.696Z"
   },
   {
    "duration": 161,
    "start_time": "2022-12-03T12:01:40.554Z"
   },
   {
    "duration": 23,
    "start_time": "2022-12-03T12:02:10.912Z"
   },
   {
    "duration": 115,
    "start_time": "2022-12-03T12:02:53.429Z"
   },
   {
    "duration": 170,
    "start_time": "2022-12-03T12:03:00.297Z"
   },
   {
    "duration": 209,
    "start_time": "2022-12-03T12:03:14.115Z"
   },
   {
    "duration": 194,
    "start_time": "2022-12-03T12:03:19.305Z"
   },
   {
    "duration": 160,
    "start_time": "2022-12-03T12:03:28.015Z"
   },
   {
    "duration": 150,
    "start_time": "2022-12-03T12:03:39.163Z"
   },
   {
    "duration": 85,
    "start_time": "2022-12-03T12:09:02.440Z"
   },
   {
    "duration": 529,
    "start_time": "2022-12-03T12:11:21.495Z"
   },
   {
    "duration": 314,
    "start_time": "2022-12-03T12:11:35.257Z"
   },
   {
    "duration": 9,
    "start_time": "2022-12-03T12:12:22.738Z"
   },
   {
    "duration": 25,
    "start_time": "2022-12-03T12:12:29.223Z"
   },
   {
    "duration": 318,
    "start_time": "2022-12-03T12:13:26.767Z"
   },
   {
    "duration": 428,
    "start_time": "2022-12-03T12:14:00.921Z"
   },
   {
    "duration": 316,
    "start_time": "2022-12-03T12:21:06.282Z"
   },
   {
    "duration": 322,
    "start_time": "2022-12-03T12:24:50.225Z"
   },
   {
    "duration": 295,
    "start_time": "2022-12-03T12:25:39.191Z"
   },
   {
    "duration": 299,
    "start_time": "2022-12-03T12:25:47.282Z"
   },
   {
    "duration": 311,
    "start_time": "2022-12-03T12:25:56.427Z"
   },
   {
    "duration": 301,
    "start_time": "2022-12-03T12:28:58.058Z"
   },
   {
    "duration": 370,
    "start_time": "2022-12-03T12:29:44.025Z"
   },
   {
    "duration": 306,
    "start_time": "2022-12-03T12:31:19.911Z"
   },
   {
    "duration": 312,
    "start_time": "2022-12-03T12:31:33.225Z"
   },
   {
    "duration": 349,
    "start_time": "2022-12-03T12:49:35.893Z"
   },
   {
    "duration": 419,
    "start_time": "2022-12-03T12:50:15.226Z"
   },
   {
    "duration": 349,
    "start_time": "2022-12-03T12:50:26.225Z"
   },
   {
    "duration": 311,
    "start_time": "2022-12-03T12:51:24.985Z"
   },
   {
    "duration": 331,
    "start_time": "2022-12-03T12:52:23.234Z"
   },
   {
    "duration": 348,
    "start_time": "2022-12-03T12:53:35.722Z"
   },
   {
    "duration": 29,
    "start_time": "2022-12-03T12:54:51.510Z"
   },
   {
    "duration": 312,
    "start_time": "2022-12-03T12:54:56.992Z"
   },
   {
    "duration": 388,
    "start_time": "2022-12-03T12:55:33.877Z"
   },
   {
    "duration": 361,
    "start_time": "2022-12-03T12:55:43.838Z"
   },
   {
    "duration": 375,
    "start_time": "2022-12-03T12:57:16.308Z"
   },
   {
    "duration": 515,
    "start_time": "2022-12-03T12:58:07.293Z"
   },
   {
    "duration": 613,
    "start_time": "2022-12-03T12:58:22.856Z"
   },
   {
    "duration": 328,
    "start_time": "2022-12-03T12:58:35.033Z"
   },
   {
    "duration": 336,
    "start_time": "2022-12-03T12:59:17.578Z"
   },
   {
    "duration": 267,
    "start_time": "2022-12-03T13:03:20.542Z"
   },
   {
    "duration": 263,
    "start_time": "2022-12-03T13:03:56.242Z"
   },
   {
    "duration": 331,
    "start_time": "2022-12-03T13:04:31.609Z"
   },
   {
    "duration": 1287,
    "start_time": "2022-12-04T09:07:35.286Z"
   },
   {
    "duration": 200,
    "start_time": "2022-12-04T09:07:36.575Z"
   },
   {
    "duration": 18,
    "start_time": "2022-12-04T09:07:36.778Z"
   },
   {
    "duration": 26,
    "start_time": "2022-12-04T09:07:36.798Z"
   },
   {
    "duration": 10,
    "start_time": "2022-12-04T09:07:36.826Z"
   },
   {
    "duration": 20,
    "start_time": "2022-12-04T09:07:36.837Z"
   },
   {
    "duration": 21,
    "start_time": "2022-12-04T09:07:36.859Z"
   },
   {
    "duration": 3,
    "start_time": "2022-12-04T09:07:36.882Z"
   },
   {
    "duration": 9,
    "start_time": "2022-12-04T09:07:36.887Z"
   },
   {
    "duration": 11,
    "start_time": "2022-12-04T09:07:36.898Z"
   },
   {
    "duration": 5,
    "start_time": "2022-12-04T09:07:36.910Z"
   },
   {
    "duration": 14,
    "start_time": "2022-12-04T09:07:36.916Z"
   },
   {
    "duration": 5,
    "start_time": "2022-12-04T09:07:36.931Z"
   },
   {
    "duration": 268,
    "start_time": "2022-12-04T09:07:36.938Z"
   },
   {
    "duration": 20,
    "start_time": "2022-12-04T09:07:37.208Z"
   },
   {
    "duration": 285,
    "start_time": "2022-12-04T09:07:37.229Z"
   },
   {
    "duration": 7,
    "start_time": "2022-12-04T09:07:37.515Z"
   },
   {
    "duration": 10,
    "start_time": "2022-12-04T09:07:37.524Z"
   },
   {
    "duration": 330,
    "start_time": "2022-12-04T09:07:37.535Z"
   },
   {
    "duration": 160,
    "start_time": "2022-12-04T09:07:37.867Z"
   },
   {
    "duration": 3,
    "start_time": "2022-12-04T09:07:38.028Z"
   },
   {
    "duration": 8,
    "start_time": "2022-12-04T09:07:38.033Z"
   },
   {
    "duration": 1426,
    "start_time": "2022-12-04T09:07:38.042Z"
   },
   {
    "duration": 28,
    "start_time": "2022-12-04T09:07:39.470Z"
   },
   {
    "duration": 464,
    "start_time": "2022-12-04T09:07:39.500Z"
   },
   {
    "duration": 435,
    "start_time": "2022-12-04T09:07:39.966Z"
   },
   {
    "duration": 16,
    "start_time": "2022-12-04T09:07:40.403Z"
   },
   {
    "duration": 298,
    "start_time": "2022-12-04T09:07:40.421Z"
   },
   {
    "duration": 3,
    "start_time": "2022-12-04T09:07:40.721Z"
   },
   {
    "duration": 12,
    "start_time": "2022-12-04T09:07:40.725Z"
   },
   {
    "duration": 6,
    "start_time": "2022-12-04T09:07:40.739Z"
   },
   {
    "duration": 11,
    "start_time": "2022-12-04T09:07:40.746Z"
   },
   {
    "duration": 5,
    "start_time": "2022-12-04T09:07:40.778Z"
   },
   {
    "duration": 381,
    "start_time": "2023-07-25T12:13:25.377Z"
   },
   {
    "duration": 1343,
    "start_time": "2023-07-25T12:15:21.773Z"
   },
   {
    "duration": 126,
    "start_time": "2023-07-25T12:15:23.119Z"
   },
   {
    "duration": 32,
    "start_time": "2023-07-25T12:15:23.248Z"
   },
   {
    "duration": 25,
    "start_time": "2023-07-25T12:15:23.284Z"
   },
   {
    "duration": 9,
    "start_time": "2023-07-25T12:15:23.314Z"
   },
   {
    "duration": 72,
    "start_time": "2023-07-25T12:15:23.325Z"
   },
   {
    "duration": 17,
    "start_time": "2023-07-25T12:15:23.400Z"
   },
   {
    "duration": 4,
    "start_time": "2023-07-25T12:15:23.419Z"
   },
   {
    "duration": 18,
    "start_time": "2023-07-25T12:15:23.425Z"
   },
   {
    "duration": 43,
    "start_time": "2023-07-25T12:15:23.445Z"
   },
   {
    "duration": 6,
    "start_time": "2023-07-25T12:15:23.490Z"
   },
   {
    "duration": 36,
    "start_time": "2023-07-25T12:15:23.498Z"
   },
   {
    "duration": 9,
    "start_time": "2023-07-25T12:15:23.536Z"
   },
   {
    "duration": 375,
    "start_time": "2023-07-25T12:15:23.549Z"
   },
   {
    "duration": 36,
    "start_time": "2023-07-25T12:15:23.926Z"
   },
   {
    "duration": 425,
    "start_time": "2023-07-25T12:15:23.964Z"
   },
   {
    "duration": 10,
    "start_time": "2023-07-25T12:15:24.391Z"
   },
   {
    "duration": 290,
    "start_time": "2023-07-25T12:15:24.403Z"
   },
   {
    "duration": 478,
    "start_time": "2023-07-25T12:15:24.695Z"
   },
   {
    "duration": 271,
    "start_time": "2023-07-25T12:15:25.175Z"
   },
   {
    "duration": 10,
    "start_time": "2023-07-25T12:15:25.448Z"
   },
   {
    "duration": 130,
    "start_time": "2023-07-25T12:15:25.462Z"
   },
   {
    "duration": 2318,
    "start_time": "2023-07-25T12:15:25.596Z"
   },
   {
    "duration": 60,
    "start_time": "2023-07-25T12:15:27.917Z"
   },
   {
    "duration": 728,
    "start_time": "2023-07-25T12:15:27.979Z"
   },
   {
    "duration": 581,
    "start_time": "2023-07-25T12:15:28.709Z"
   },
   {
    "duration": 32,
    "start_time": "2023-07-25T12:15:29.292Z"
   },
   {
    "duration": 347,
    "start_time": "2023-07-25T12:15:29.327Z"
   },
   {
    "duration": 3,
    "start_time": "2023-07-25T12:15:29.677Z"
   },
   {
    "duration": 26,
    "start_time": "2023-07-25T12:15:29.682Z"
   },
   {
    "duration": 25,
    "start_time": "2023-07-25T12:15:29.710Z"
   },
   {
    "duration": 21,
    "start_time": "2023-07-25T12:15:29.737Z"
   },
   {
    "duration": 27,
    "start_time": "2023-07-25T12:15:29.760Z"
   },
   {
    "duration": 1404,
    "start_time": "2023-07-25T12:16:05.508Z"
   },
   {
    "duration": 63,
    "start_time": "2023-07-25T12:16:06.914Z"
   },
   {
    "duration": 25,
    "start_time": "2023-07-25T12:16:06.979Z"
   },
   {
    "duration": 37,
    "start_time": "2023-07-25T12:16:07.006Z"
   },
   {
    "duration": 41,
    "start_time": "2023-07-25T12:16:07.046Z"
   },
   {
    "duration": 43,
    "start_time": "2023-07-25T12:16:07.088Z"
   },
   {
    "duration": 42,
    "start_time": "2023-07-25T12:16:07.134Z"
   },
   {
    "duration": 5,
    "start_time": "2023-07-25T12:16:07.178Z"
   },
   {
    "duration": 32,
    "start_time": "2023-07-25T12:16:07.185Z"
   },
   {
    "duration": 66,
    "start_time": "2023-07-25T12:16:07.220Z"
   },
   {
    "duration": 31,
    "start_time": "2023-07-25T12:16:07.288Z"
   },
   {
    "duration": 83,
    "start_time": "2023-07-25T12:16:07.323Z"
   },
   {
    "duration": 35,
    "start_time": "2023-07-25T12:16:07.409Z"
   },
   {
    "duration": 347,
    "start_time": "2023-07-25T12:16:07.449Z"
   },
   {
    "duration": 32,
    "start_time": "2023-07-25T12:16:07.798Z"
   },
   {
    "duration": 465,
    "start_time": "2023-07-25T12:16:07.832Z"
   },
   {
    "duration": 16,
    "start_time": "2023-07-25T12:16:08.302Z"
   },
   {
    "duration": 24,
    "start_time": "2023-07-25T12:16:08.321Z"
   },
   {
    "duration": 621,
    "start_time": "2023-07-25T12:16:08.352Z"
   },
   {
    "duration": 218,
    "start_time": "2023-07-25T12:16:08.975Z"
   },
   {
    "duration": 3,
    "start_time": "2023-07-25T12:16:09.195Z"
   },
   {
    "duration": 20,
    "start_time": "2023-07-25T12:16:09.200Z"
   },
   {
    "duration": 2099,
    "start_time": "2023-07-25T12:16:09.223Z"
   },
   {
    "duration": 57,
    "start_time": "2023-07-25T12:16:11.325Z"
   },
   {
    "duration": 590,
    "start_time": "2023-07-25T12:16:11.385Z"
   },
   {
    "duration": 550,
    "start_time": "2023-07-25T12:16:11.977Z"
   },
   {
    "duration": 46,
    "start_time": "2023-07-25T12:16:12.530Z"
   },
   {
    "duration": 390,
    "start_time": "2023-07-25T12:16:12.580Z"
   },
   {
    "duration": 4,
    "start_time": "2023-07-25T12:16:12.976Z"
   },
   {
    "duration": 32,
    "start_time": "2023-07-25T12:16:12.982Z"
   },
   {
    "duration": 27,
    "start_time": "2023-07-25T12:16:13.016Z"
   },
   {
    "duration": 44,
    "start_time": "2023-07-25T12:16:13.045Z"
   },
   {
    "duration": 10,
    "start_time": "2023-07-25T12:16:13.091Z"
   },
   {
    "duration": 1468,
    "start_time": "2023-07-25T12:16:37.598Z"
   },
   {
    "duration": 71,
    "start_time": "2023-07-25T12:16:39.069Z"
   },
   {
    "duration": 34,
    "start_time": "2023-07-25T12:16:39.142Z"
   },
   {
    "duration": 30,
    "start_time": "2023-07-25T12:16:39.179Z"
   },
   {
    "duration": 32,
    "start_time": "2023-07-25T12:16:39.211Z"
   },
   {
    "duration": 51,
    "start_time": "2023-07-25T12:16:39.246Z"
   },
   {
    "duration": 46,
    "start_time": "2023-07-25T12:16:39.300Z"
   },
   {
    "duration": 31,
    "start_time": "2023-07-25T12:16:39.351Z"
   },
   {
    "duration": 27,
    "start_time": "2023-07-25T12:16:39.385Z"
   },
   {
    "duration": 70,
    "start_time": "2023-07-25T12:16:39.414Z"
   },
   {
    "duration": 18,
    "start_time": "2023-07-25T12:16:39.486Z"
   },
   {
    "duration": 41,
    "start_time": "2023-07-25T12:16:39.506Z"
   },
   {
    "duration": 8,
    "start_time": "2023-07-25T12:16:39.549Z"
   },
   {
    "duration": 382,
    "start_time": "2023-07-25T12:16:39.562Z"
   },
   {
    "duration": 40,
    "start_time": "2023-07-25T12:16:39.946Z"
   },
   {
    "duration": 393,
    "start_time": "2023-07-25T12:16:39.988Z"
   },
   {
    "duration": 11,
    "start_time": "2023-07-25T12:16:40.384Z"
   },
   {
    "duration": 28,
    "start_time": "2023-07-25T12:16:40.398Z"
   },
   {
    "duration": 475,
    "start_time": "2023-07-25T12:16:40.428Z"
   },
   {
    "duration": 284,
    "start_time": "2023-07-25T12:16:40.905Z"
   },
   {
    "duration": 4,
    "start_time": "2023-07-25T12:16:41.191Z"
   },
   {
    "duration": 17,
    "start_time": "2023-07-25T12:16:41.198Z"
   },
   {
    "duration": 1983,
    "start_time": "2023-07-25T12:16:41.218Z"
   },
   {
    "duration": 56,
    "start_time": "2023-07-25T12:16:43.203Z"
   },
   {
    "duration": 611,
    "start_time": "2023-07-25T12:16:43.261Z"
   },
   {
    "duration": 539,
    "start_time": "2023-07-25T12:16:43.874Z"
   },
   {
    "duration": 20,
    "start_time": "2023-07-25T12:16:44.415Z"
   },
   {
    "duration": 439,
    "start_time": "2023-07-25T12:16:44.455Z"
   },
   {
    "duration": 4,
    "start_time": "2023-07-25T12:16:44.895Z"
   },
   {
    "duration": 23,
    "start_time": "2023-07-25T12:16:44.901Z"
   },
   {
    "duration": 50,
    "start_time": "2023-07-25T12:16:44.926Z"
   },
   {
    "duration": 16,
    "start_time": "2023-07-25T12:16:44.978Z"
   },
   {
    "duration": 10,
    "start_time": "2023-07-25T12:16:44.996Z"
   }
  ],
  "kernelspec": {
   "display_name": "Python 3 (ipykernel)",
   "language": "python",
   "name": "python3"
  },
  "language_info": {
   "codemirror_mode": {
    "name": "ipython",
    "version": 3
   },
   "file_extension": ".py",
   "mimetype": "text/x-python",
   "name": "python",
   "nbconvert_exporter": "python",
   "pygments_lexer": "ipython3",
   "version": "3.9.5"
  },
  "toc": {
   "base_numbering": 1,
   "nav_menu": {},
   "number_sections": true,
   "sideBar": true,
   "skip_h1_title": true,
   "title_cell": "Table of Contents",
   "title_sidebar": "Contents",
   "toc_cell": false,
   "toc_position": {},
   "toc_section_display": true,
   "toc_window_display": false
  }
 },
 "nbformat": 4,
 "nbformat_minor": 2
}
