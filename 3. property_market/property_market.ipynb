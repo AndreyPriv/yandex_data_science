{
 "cells": [
  {
   "cell_type": "markdown",
   "metadata": {},
   "source": [
    "# Исследование объявлений о продаже квартир\n",
    "\n",
    "В вашем распоряжении данные сервиса Яндекс.Недвижимость — архив объявлений о продаже квартир в Санкт-Петербурге и соседних населённых пунктов за несколько лет. Нужно научиться определять рыночную стоимость объектов недвижимости. Ваша задача — установить параметры. Это позволит построить автоматизированную систему: она отследит аномалии и мошенническую деятельность. \n",
    "\n",
    "По каждой квартире на продажу доступны два вида данных. Первые вписаны пользователем, вторые — получены автоматически на основе картографических данных. Например, расстояние до центра, аэропорта, ближайшего парка и водоёма. "
   ]
  },
  {
   "cell_type": "markdown",
   "metadata": {},
   "source": [
    "### Откройте файл с данными и изучите общую информацию. "
   ]
  },
  {
   "cell_type": "markdown",
   "metadata": {},
   "source": [
    "Импортируем все библиотеки и прочитаем файл"
   ]
  },
  {
   "cell_type": "code",
   "execution_count": 1,
   "metadata": {},
   "outputs": [],
   "source": [
    "import pandas as pd\n",
    "import matplotlib.pyplot as plt"
   ]
  },
  {
   "cell_type": "code",
   "execution_count": 2,
   "metadata": {},
   "outputs": [],
   "source": [
    "df = pd.read_csv('/datasets/real_estate_data.csv', sep = '\\t')"
   ]
  },
  {
   "cell_type": "markdown",
   "metadata": {},
   "source": [
    "Проверим, что датасет отображается корректно. Для этого посмотрим первые 5 и последние 5 строк."
   ]
  },
  {
   "cell_type": "code",
   "execution_count": 3,
   "metadata": {},
   "outputs": [
    {
     "data": {
      "text/html": [
       "<div>\n",
       "<style scoped>\n",
       "    .dataframe tbody tr th:only-of-type {\n",
       "        vertical-align: middle;\n",
       "    }\n",
       "\n",
       "    .dataframe tbody tr th {\n",
       "        vertical-align: top;\n",
       "    }\n",
       "\n",
       "    .dataframe thead th {\n",
       "        text-align: right;\n",
       "    }\n",
       "</style>\n",
       "<table border=\"1\" class=\"dataframe\">\n",
       "  <thead>\n",
       "    <tr style=\"text-align: right;\">\n",
       "      <th></th>\n",
       "      <th>total_images</th>\n",
       "      <th>last_price</th>\n",
       "      <th>total_area</th>\n",
       "      <th>first_day_exposition</th>\n",
       "      <th>rooms</th>\n",
       "      <th>ceiling_height</th>\n",
       "      <th>floors_total</th>\n",
       "      <th>living_area</th>\n",
       "      <th>floor</th>\n",
       "      <th>is_apartment</th>\n",
       "      <th>...</th>\n",
       "      <th>kitchen_area</th>\n",
       "      <th>balcony</th>\n",
       "      <th>locality_name</th>\n",
       "      <th>airports_nearest</th>\n",
       "      <th>cityCenters_nearest</th>\n",
       "      <th>parks_around3000</th>\n",
       "      <th>parks_nearest</th>\n",
       "      <th>ponds_around3000</th>\n",
       "      <th>ponds_nearest</th>\n",
       "      <th>days_exposition</th>\n",
       "    </tr>\n",
       "  </thead>\n",
       "  <tbody>\n",
       "    <tr>\n",
       "      <th>0</th>\n",
       "      <td>20</td>\n",
       "      <td>13000000.0</td>\n",
       "      <td>108.0</td>\n",
       "      <td>2019-03-07T00:00:00</td>\n",
       "      <td>3</td>\n",
       "      <td>2.70</td>\n",
       "      <td>16.0</td>\n",
       "      <td>51.0</td>\n",
       "      <td>8</td>\n",
       "      <td>NaN</td>\n",
       "      <td>...</td>\n",
       "      <td>25.0</td>\n",
       "      <td>NaN</td>\n",
       "      <td>Санкт-Петербург</td>\n",
       "      <td>18863.0</td>\n",
       "      <td>16028.0</td>\n",
       "      <td>1.0</td>\n",
       "      <td>482.0</td>\n",
       "      <td>2.0</td>\n",
       "      <td>755.0</td>\n",
       "      <td>NaN</td>\n",
       "    </tr>\n",
       "    <tr>\n",
       "      <th>1</th>\n",
       "      <td>7</td>\n",
       "      <td>3350000.0</td>\n",
       "      <td>40.4</td>\n",
       "      <td>2018-12-04T00:00:00</td>\n",
       "      <td>1</td>\n",
       "      <td>NaN</td>\n",
       "      <td>11.0</td>\n",
       "      <td>18.6</td>\n",
       "      <td>1</td>\n",
       "      <td>NaN</td>\n",
       "      <td>...</td>\n",
       "      <td>11.0</td>\n",
       "      <td>2.0</td>\n",
       "      <td>посёлок Шушары</td>\n",
       "      <td>12817.0</td>\n",
       "      <td>18603.0</td>\n",
       "      <td>0.0</td>\n",
       "      <td>NaN</td>\n",
       "      <td>0.0</td>\n",
       "      <td>NaN</td>\n",
       "      <td>81.0</td>\n",
       "    </tr>\n",
       "    <tr>\n",
       "      <th>2</th>\n",
       "      <td>10</td>\n",
       "      <td>5196000.0</td>\n",
       "      <td>56.0</td>\n",
       "      <td>2015-08-20T00:00:00</td>\n",
       "      <td>2</td>\n",
       "      <td>NaN</td>\n",
       "      <td>5.0</td>\n",
       "      <td>34.3</td>\n",
       "      <td>4</td>\n",
       "      <td>NaN</td>\n",
       "      <td>...</td>\n",
       "      <td>8.3</td>\n",
       "      <td>0.0</td>\n",
       "      <td>Санкт-Петербург</td>\n",
       "      <td>21741.0</td>\n",
       "      <td>13933.0</td>\n",
       "      <td>1.0</td>\n",
       "      <td>90.0</td>\n",
       "      <td>2.0</td>\n",
       "      <td>574.0</td>\n",
       "      <td>558.0</td>\n",
       "    </tr>\n",
       "    <tr>\n",
       "      <th>3</th>\n",
       "      <td>0</td>\n",
       "      <td>64900000.0</td>\n",
       "      <td>159.0</td>\n",
       "      <td>2015-07-24T00:00:00</td>\n",
       "      <td>3</td>\n",
       "      <td>NaN</td>\n",
       "      <td>14.0</td>\n",
       "      <td>NaN</td>\n",
       "      <td>9</td>\n",
       "      <td>NaN</td>\n",
       "      <td>...</td>\n",
       "      <td>NaN</td>\n",
       "      <td>0.0</td>\n",
       "      <td>Санкт-Петербург</td>\n",
       "      <td>28098.0</td>\n",
       "      <td>6800.0</td>\n",
       "      <td>2.0</td>\n",
       "      <td>84.0</td>\n",
       "      <td>3.0</td>\n",
       "      <td>234.0</td>\n",
       "      <td>424.0</td>\n",
       "    </tr>\n",
       "    <tr>\n",
       "      <th>4</th>\n",
       "      <td>2</td>\n",
       "      <td>10000000.0</td>\n",
       "      <td>100.0</td>\n",
       "      <td>2018-06-19T00:00:00</td>\n",
       "      <td>2</td>\n",
       "      <td>3.03</td>\n",
       "      <td>14.0</td>\n",
       "      <td>32.0</td>\n",
       "      <td>13</td>\n",
       "      <td>NaN</td>\n",
       "      <td>...</td>\n",
       "      <td>41.0</td>\n",
       "      <td>NaN</td>\n",
       "      <td>Санкт-Петербург</td>\n",
       "      <td>31856.0</td>\n",
       "      <td>8098.0</td>\n",
       "      <td>2.0</td>\n",
       "      <td>112.0</td>\n",
       "      <td>1.0</td>\n",
       "      <td>48.0</td>\n",
       "      <td>121.0</td>\n",
       "    </tr>\n",
       "  </tbody>\n",
       "</table>\n",
       "<p>5 rows × 22 columns</p>\n",
       "</div>"
      ],
      "text/plain": [
       "   total_images  last_price  total_area first_day_exposition  rooms  \\\n",
       "0            20  13000000.0       108.0  2019-03-07T00:00:00      3   \n",
       "1             7   3350000.0        40.4  2018-12-04T00:00:00      1   \n",
       "2            10   5196000.0        56.0  2015-08-20T00:00:00      2   \n",
       "3             0  64900000.0       159.0  2015-07-24T00:00:00      3   \n",
       "4             2  10000000.0       100.0  2018-06-19T00:00:00      2   \n",
       "\n",
       "   ceiling_height  floors_total  living_area  floor is_apartment  ...  \\\n",
       "0            2.70          16.0         51.0      8          NaN  ...   \n",
       "1             NaN          11.0         18.6      1          NaN  ...   \n",
       "2             NaN           5.0         34.3      4          NaN  ...   \n",
       "3             NaN          14.0          NaN      9          NaN  ...   \n",
       "4            3.03          14.0         32.0     13          NaN  ...   \n",
       "\n",
       "   kitchen_area  balcony    locality_name  airports_nearest  \\\n",
       "0          25.0      NaN  Санкт-Петербург           18863.0   \n",
       "1          11.0      2.0   посёлок Шушары           12817.0   \n",
       "2           8.3      0.0  Санкт-Петербург           21741.0   \n",
       "3           NaN      0.0  Санкт-Петербург           28098.0   \n",
       "4          41.0      NaN  Санкт-Петербург           31856.0   \n",
       "\n",
       "  cityCenters_nearest  parks_around3000  parks_nearest  ponds_around3000  \\\n",
       "0             16028.0               1.0          482.0               2.0   \n",
       "1             18603.0               0.0            NaN               0.0   \n",
       "2             13933.0               1.0           90.0               2.0   \n",
       "3              6800.0               2.0           84.0               3.0   \n",
       "4              8098.0               2.0          112.0               1.0   \n",
       "\n",
       "   ponds_nearest  days_exposition  \n",
       "0          755.0              NaN  \n",
       "1            NaN             81.0  \n",
       "2          574.0            558.0  \n",
       "3          234.0            424.0  \n",
       "4           48.0            121.0  \n",
       "\n",
       "[5 rows x 22 columns]"
      ]
     },
     "execution_count": 3,
     "metadata": {},
     "output_type": "execute_result"
    }
   ],
   "source": [
    "df.head()"
   ]
  },
  {
   "cell_type": "code",
   "execution_count": 4,
   "metadata": {},
   "outputs": [
    {
     "data": {
      "text/html": [
       "<div>\n",
       "<style scoped>\n",
       "    .dataframe tbody tr th:only-of-type {\n",
       "        vertical-align: middle;\n",
       "    }\n",
       "\n",
       "    .dataframe tbody tr th {\n",
       "        vertical-align: top;\n",
       "    }\n",
       "\n",
       "    .dataframe thead th {\n",
       "        text-align: right;\n",
       "    }\n",
       "</style>\n",
       "<table border=\"1\" class=\"dataframe\">\n",
       "  <thead>\n",
       "    <tr style=\"text-align: right;\">\n",
       "      <th></th>\n",
       "      <th>total_images</th>\n",
       "      <th>last_price</th>\n",
       "      <th>total_area</th>\n",
       "      <th>first_day_exposition</th>\n",
       "      <th>rooms</th>\n",
       "      <th>ceiling_height</th>\n",
       "      <th>floors_total</th>\n",
       "      <th>living_area</th>\n",
       "      <th>floor</th>\n",
       "      <th>is_apartment</th>\n",
       "      <th>...</th>\n",
       "      <th>kitchen_area</th>\n",
       "      <th>balcony</th>\n",
       "      <th>locality_name</th>\n",
       "      <th>airports_nearest</th>\n",
       "      <th>cityCenters_nearest</th>\n",
       "      <th>parks_around3000</th>\n",
       "      <th>parks_nearest</th>\n",
       "      <th>ponds_around3000</th>\n",
       "      <th>ponds_nearest</th>\n",
       "      <th>days_exposition</th>\n",
       "    </tr>\n",
       "  </thead>\n",
       "  <tbody>\n",
       "    <tr>\n",
       "      <th>23694</th>\n",
       "      <td>9</td>\n",
       "      <td>9700000.0</td>\n",
       "      <td>133.81</td>\n",
       "      <td>2017-03-21T00:00:00</td>\n",
       "      <td>3</td>\n",
       "      <td>3.7</td>\n",
       "      <td>5.0</td>\n",
       "      <td>73.3</td>\n",
       "      <td>3</td>\n",
       "      <td>NaN</td>\n",
       "      <td>...</td>\n",
       "      <td>13.83</td>\n",
       "      <td>NaN</td>\n",
       "      <td>Санкт-Петербург</td>\n",
       "      <td>24665.0</td>\n",
       "      <td>4232.0</td>\n",
       "      <td>1.0</td>\n",
       "      <td>796.0</td>\n",
       "      <td>3.0</td>\n",
       "      <td>381.0</td>\n",
       "      <td>NaN</td>\n",
       "    </tr>\n",
       "    <tr>\n",
       "      <th>23695</th>\n",
       "      <td>14</td>\n",
       "      <td>3100000.0</td>\n",
       "      <td>59.00</td>\n",
       "      <td>2018-01-15T00:00:00</td>\n",
       "      <td>3</td>\n",
       "      <td>NaN</td>\n",
       "      <td>5.0</td>\n",
       "      <td>38.0</td>\n",
       "      <td>4</td>\n",
       "      <td>NaN</td>\n",
       "      <td>...</td>\n",
       "      <td>8.50</td>\n",
       "      <td>NaN</td>\n",
       "      <td>Тосно</td>\n",
       "      <td>NaN</td>\n",
       "      <td>NaN</td>\n",
       "      <td>NaN</td>\n",
       "      <td>NaN</td>\n",
       "      <td>NaN</td>\n",
       "      <td>NaN</td>\n",
       "      <td>45.0</td>\n",
       "    </tr>\n",
       "    <tr>\n",
       "      <th>23696</th>\n",
       "      <td>18</td>\n",
       "      <td>2500000.0</td>\n",
       "      <td>56.70</td>\n",
       "      <td>2018-02-11T00:00:00</td>\n",
       "      <td>2</td>\n",
       "      <td>NaN</td>\n",
       "      <td>3.0</td>\n",
       "      <td>29.7</td>\n",
       "      <td>1</td>\n",
       "      <td>NaN</td>\n",
       "      <td>...</td>\n",
       "      <td>NaN</td>\n",
       "      <td>NaN</td>\n",
       "      <td>село Рождествено</td>\n",
       "      <td>NaN</td>\n",
       "      <td>NaN</td>\n",
       "      <td>NaN</td>\n",
       "      <td>NaN</td>\n",
       "      <td>NaN</td>\n",
       "      <td>NaN</td>\n",
       "      <td>NaN</td>\n",
       "    </tr>\n",
       "    <tr>\n",
       "      <th>23697</th>\n",
       "      <td>13</td>\n",
       "      <td>11475000.0</td>\n",
       "      <td>76.75</td>\n",
       "      <td>2017-03-28T00:00:00</td>\n",
       "      <td>2</td>\n",
       "      <td>3.0</td>\n",
       "      <td>17.0</td>\n",
       "      <td>NaN</td>\n",
       "      <td>12</td>\n",
       "      <td>NaN</td>\n",
       "      <td>...</td>\n",
       "      <td>23.30</td>\n",
       "      <td>2.0</td>\n",
       "      <td>Санкт-Петербург</td>\n",
       "      <td>39140.0</td>\n",
       "      <td>10364.0</td>\n",
       "      <td>2.0</td>\n",
       "      <td>173.0</td>\n",
       "      <td>3.0</td>\n",
       "      <td>196.0</td>\n",
       "      <td>602.0</td>\n",
       "    </tr>\n",
       "    <tr>\n",
       "      <th>23698</th>\n",
       "      <td>4</td>\n",
       "      <td>1350000.0</td>\n",
       "      <td>32.30</td>\n",
       "      <td>2017-07-21T00:00:00</td>\n",
       "      <td>1</td>\n",
       "      <td>2.5</td>\n",
       "      <td>5.0</td>\n",
       "      <td>12.3</td>\n",
       "      <td>1</td>\n",
       "      <td>NaN</td>\n",
       "      <td>...</td>\n",
       "      <td>9.00</td>\n",
       "      <td>NaN</td>\n",
       "      <td>поселок Новый Учхоз</td>\n",
       "      <td>NaN</td>\n",
       "      <td>NaN</td>\n",
       "      <td>NaN</td>\n",
       "      <td>NaN</td>\n",
       "      <td>NaN</td>\n",
       "      <td>NaN</td>\n",
       "      <td>NaN</td>\n",
       "    </tr>\n",
       "  </tbody>\n",
       "</table>\n",
       "<p>5 rows × 22 columns</p>\n",
       "</div>"
      ],
      "text/plain": [
       "       total_images  last_price  total_area first_day_exposition  rooms  \\\n",
       "23694             9   9700000.0      133.81  2017-03-21T00:00:00      3   \n",
       "23695            14   3100000.0       59.00  2018-01-15T00:00:00      3   \n",
       "23696            18   2500000.0       56.70  2018-02-11T00:00:00      2   \n",
       "23697            13  11475000.0       76.75  2017-03-28T00:00:00      2   \n",
       "23698             4   1350000.0       32.30  2017-07-21T00:00:00      1   \n",
       "\n",
       "       ceiling_height  floors_total  living_area  floor is_apartment  ...  \\\n",
       "23694             3.7           5.0         73.3      3          NaN  ...   \n",
       "23695             NaN           5.0         38.0      4          NaN  ...   \n",
       "23696             NaN           3.0         29.7      1          NaN  ...   \n",
       "23697             3.0          17.0          NaN     12          NaN  ...   \n",
       "23698             2.5           5.0         12.3      1          NaN  ...   \n",
       "\n",
       "       kitchen_area  balcony        locality_name  airports_nearest  \\\n",
       "23694         13.83      NaN      Санкт-Петербург           24665.0   \n",
       "23695          8.50      NaN                Тосно               NaN   \n",
       "23696           NaN      NaN     село Рождествено               NaN   \n",
       "23697         23.30      2.0      Санкт-Петербург           39140.0   \n",
       "23698          9.00      NaN  поселок Новый Учхоз               NaN   \n",
       "\n",
       "      cityCenters_nearest  parks_around3000  parks_nearest  ponds_around3000  \\\n",
       "23694              4232.0               1.0          796.0               3.0   \n",
       "23695                 NaN               NaN            NaN               NaN   \n",
       "23696                 NaN               NaN            NaN               NaN   \n",
       "23697             10364.0               2.0          173.0               3.0   \n",
       "23698                 NaN               NaN            NaN               NaN   \n",
       "\n",
       "       ponds_nearest  days_exposition  \n",
       "23694          381.0              NaN  \n",
       "23695            NaN             45.0  \n",
       "23696            NaN              NaN  \n",
       "23697          196.0            602.0  \n",
       "23698            NaN              NaN  \n",
       "\n",
       "[5 rows x 22 columns]"
      ]
     },
     "execution_count": 4,
     "metadata": {},
     "output_type": "execute_result"
    }
   ],
   "source": [
    "df.tail()"
   ]
  },
  {
   "cell_type": "markdown",
   "metadata": {},
   "source": [
    "Отображается корректно"
   ]
  },
  {
   "cell_type": "code",
   "execution_count": 5,
   "metadata": {},
   "outputs": [
    {
     "data": {
      "text/plain": [
       "(23699, 22)"
      ]
     },
     "execution_count": 5,
     "metadata": {},
     "output_type": "execute_result"
    }
   ],
   "source": [
    "df.shape"
   ]
  },
  {
   "cell_type": "code",
   "execution_count": 6,
   "metadata": {},
   "outputs": [
    {
     "name": "stdout",
     "output_type": "stream",
     "text": [
      "<class 'pandas.core.frame.DataFrame'>\n",
      "RangeIndex: 23699 entries, 0 to 23698\n",
      "Data columns (total 22 columns):\n",
      " #   Column                Non-Null Count  Dtype  \n",
      "---  ------                --------------  -----  \n",
      " 0   total_images          23699 non-null  int64  \n",
      " 1   last_price            23699 non-null  float64\n",
      " 2   total_area            23699 non-null  float64\n",
      " 3   first_day_exposition  23699 non-null  object \n",
      " 4   rooms                 23699 non-null  int64  \n",
      " 5   ceiling_height        14504 non-null  float64\n",
      " 6   floors_total          23613 non-null  float64\n",
      " 7   living_area           21796 non-null  float64\n",
      " 8   floor                 23699 non-null  int64  \n",
      " 9   is_apartment          2775 non-null   object \n",
      " 10  studio                23699 non-null  bool   \n",
      " 11  open_plan             23699 non-null  bool   \n",
      " 12  kitchen_area          21421 non-null  float64\n",
      " 13  balcony               12180 non-null  float64\n",
      " 14  locality_name         23650 non-null  object \n",
      " 15  airports_nearest      18157 non-null  float64\n",
      " 16  cityCenters_nearest   18180 non-null  float64\n",
      " 17  parks_around3000      18181 non-null  float64\n",
      " 18  parks_nearest         8079 non-null   float64\n",
      " 19  ponds_around3000      18181 non-null  float64\n",
      " 20  ponds_nearest         9110 non-null   float64\n",
      " 21  days_exposition       20518 non-null  float64\n",
      "dtypes: bool(2), float64(14), int64(3), object(3)\n",
      "memory usage: 3.7+ MB\n"
     ]
    }
   ],
   "source": [
    "df.info()"
   ]
  },
  {
   "cell_type": "markdown",
   "metadata": {},
   "source": [
    "Построим общую гистограмму для всех числовых столбцов таблицы. "
   ]
  },
  {
   "cell_type": "code",
   "execution_count": 7,
   "metadata": {},
   "outputs": [
    {
     "data": {
      "text/plain": [
       "array([[<AxesSubplot:title={'center':'total_images'}>,\n",
       "        <AxesSubplot:title={'center':'last_price'}>,\n",
       "        <AxesSubplot:title={'center':'total_area'}>,\n",
       "        <AxesSubplot:title={'center':'rooms'}>],\n",
       "       [<AxesSubplot:title={'center':'ceiling_height'}>,\n",
       "        <AxesSubplot:title={'center':'floors_total'}>,\n",
       "        <AxesSubplot:title={'center':'living_area'}>,\n",
       "        <AxesSubplot:title={'center':'floor'}>],\n",
       "       [<AxesSubplot:title={'center':'kitchen_area'}>,\n",
       "        <AxesSubplot:title={'center':'balcony'}>,\n",
       "        <AxesSubplot:title={'center':'airports_nearest'}>,\n",
       "        <AxesSubplot:title={'center':'cityCenters_nearest'}>],\n",
       "       [<AxesSubplot:title={'center':'parks_around3000'}>,\n",
       "        <AxesSubplot:title={'center':'parks_nearest'}>,\n",
       "        <AxesSubplot:title={'center':'ponds_around3000'}>,\n",
       "        <AxesSubplot:title={'center':'ponds_nearest'}>],\n",
       "       [<AxesSubplot:title={'center':'days_exposition'}>, <AxesSubplot:>,\n",
       "        <AxesSubplot:>, <AxesSubplot:>]], dtype=object)"
      ]
     },
     "execution_count": 7,
     "metadata": {},
     "output_type": "execute_result"
    },
    {
     "data": {
      "image/png": "[encoded data removed]",
      "text/plain": [
       "<Figure size 1080x1440 with 20 Axes>"
      ]
     },
     "metadata": {
      "needs_background": "light"
     },
     "output_type": "display_data"
    }
   ],
   "source": [
    "df.hist(figsize=(15, 20))"
   ]
  },
  {
   "cell_type": "markdown",
   "metadata": {},
   "source": [
    "<b>Вывод</b><br>\n",
    "<b>1) Большое количество пропусков.</b><br>\n",
    "<b>2) Есть проблемы с типами данных.</b><br>\n",
    "<b>3) Всего в датасете 23699 строк и 22 столбца.</b><br>"
   ]
  },
  {
   "cell_type": "markdown",
   "metadata": {},
   "source": [
    "### Предобработка данных"
   ]
  },
  {
   "cell_type": "markdown",
   "metadata": {},
   "source": [
    "Проверим количество дубликатов."
   ]
  },
  {
   "cell_type": "code",
   "execution_count": 8,
   "metadata": {},
   "outputs": [
    {
     "data": {
      "text/plain": [
       "0"
      ]
     },
     "execution_count": 8,
     "metadata": {},
     "output_type": "execute_result"
    }
   ],
   "source": [
    "df.duplicated().sum()"
   ]
  },
  {
   "cell_type": "code",
   "execution_count": 9,
   "metadata": {},
   "outputs": [
    {
     "data": {
      "text/plain": [
       "array(['Бокситогорск', 'Волосово', 'Волхов', 'Всеволожск', 'Выборг',\n",
       "       'Высоцк', 'Гатчина', 'Зеленогорск', 'Ивангород', 'Каменногорск',\n",
       "       'Кингисепп', 'Кириши', 'Кировск', 'Колпино', 'Коммунар',\n",
       "       'Красное Село', 'Кронштадт', 'Кудрово', 'Лодейное Поле',\n",
       "       'Ломоносов', 'Луга', 'Любань', 'Мурино', 'Никольское',\n",
       "       'Новая Ладога', 'Отрадное', 'Павловск', 'Петергоф', 'Пикалёво',\n",
       "       'Подпорожье', 'Приморск', 'Приозерск', 'Пушкин', 'Санкт-Петербург',\n",
       "       'Светогорск', 'Сертолово', 'Сестрорецк', 'Сланцы', 'Сосновый Бор',\n",
       "       'Сясьстрой', 'Тихвин', 'Тосно', 'Шлиссельбург',\n",
       "       'городской поселок Большая Ижора', 'городской поселок Янино-1',\n",
       "       'городской посёлок Будогощь', 'городской посёлок Виллози',\n",
       "       'городской посёлок Лесогорский', 'городской посёлок Мга',\n",
       "       'городской посёлок Назия', 'городской посёлок Новоселье',\n",
       "       'городской посёлок Павлово', 'городской посёлок Рощино',\n",
       "       'городской посёлок Свирьстрой', 'городской посёлок Советский',\n",
       "       'городской посёлок Фёдоровское', 'городской посёлок Янино-1',\n",
       "       'деревня Агалатово', 'деревня Аро', 'деревня Батово',\n",
       "       'деревня Бегуницы', 'деревня Белогорка', 'деревня Большая Вруда',\n",
       "       'деревня Большая Пустомержа', 'деревня Большие Колпаны',\n",
       "       'деревня Большое Рейзино', 'деревня Большой Сабск', 'деревня Бор',\n",
       "       'деревня Борисова Грива', 'деревня Ваганово', 'деревня Вартемяги',\n",
       "       'деревня Вахнова Кара', 'деревня Выскатка', 'деревня Гарболово',\n",
       "       'деревня Глинка', 'деревня Горбунки', 'деревня Гостилицы',\n",
       "       'деревня Заклинье', 'деревня Заневка', 'деревня Зимитицы',\n",
       "       'деревня Извара', 'деревня Иссад', 'деревня Калитино',\n",
       "       'деревня Кальтино', 'деревня Камышовка', 'деревня Каськово',\n",
       "       'деревня Келози', 'деревня Кипень', 'деревня Кисельня',\n",
       "       'деревня Колтуши', 'деревня Коркино', 'деревня Котлы',\n",
       "       'деревня Кривко', 'деревня Кудрово', 'деревня Кузьмолово',\n",
       "       'деревня Курковицы', 'деревня Куровицы', 'деревня Куттузи',\n",
       "       'деревня Лаврики', 'деревня Лаголово', 'деревня Лампово',\n",
       "       'деревня Лесколово', 'деревня Лопухинка', 'деревня Лупполово',\n",
       "       'деревня Малая Романовка', 'деревня Малое Верево',\n",
       "       'деревня Малое Карлино', 'деревня Малые Колпаны',\n",
       "       'деревня Мануйлово', 'деревня Меньково', 'деревня Мины',\n",
       "       'деревня Мистолово', 'деревня Ненимяки', 'деревня Нижние Осельки',\n",
       "       'деревня Нижняя', 'деревня Низино', 'деревня Новое Девяткино',\n",
       "       'деревня Новолисино', 'деревня Нурма', 'деревня Оржицы',\n",
       "       'деревня Парицы', 'деревня Пельгора', 'деревня Пеники',\n",
       "       'деревня Пижма', 'деревня Пикколово', 'деревня Пудомяги',\n",
       "       'деревня Пустынка', 'деревня Пчева', 'деревня Рабитицы',\n",
       "       'деревня Разбегаево', 'деревня Раздолье', 'деревня Разметелево',\n",
       "       'деревня Рапполово', 'деревня Реброво', 'деревня Русско',\n",
       "       'деревня Сижно', 'деревня Снегирёвка', 'деревня Старая',\n",
       "       'деревня Старая Пустошь', 'деревня Старое Хинколово',\n",
       "       'деревня Старополье', 'деревня Старосиверская',\n",
       "       'деревня Старые Бегуницы', 'деревня Суоранда',\n",
       "       'деревня Сяськелево', 'деревня Тарасово', 'деревня Терпилицы',\n",
       "       'деревня Тихковицы', 'деревня Тойворово', 'деревня Торосово',\n",
       "       'деревня Торошковичи', 'деревня Трубников Бор',\n",
       "       'деревня Фалилеево', 'деревня Фёдоровское', 'деревня Хапо-Ое',\n",
       "       'деревня Хязельки', 'деревня Чудской Бор', 'деревня Шпаньково',\n",
       "       'деревня Щеглово', 'деревня Юкки', 'деревня Ялгино',\n",
       "       'деревня Яльгелево', 'деревня Ям-Тесово',\n",
       "       'коттеджный поселок Кивеннапа Север', 'коттеджный поселок Счастье',\n",
       "       'коттеджный посёлок Лесное', 'поселок Аннино', 'поселок Барышево',\n",
       "       'поселок Бугры', 'поселок Возрождение', 'поселок Войсковицы',\n",
       "       'поселок Володарское', 'поселок Гаврилово', 'поселок Гарболово',\n",
       "       'поселок Гладкое', 'поселок Глажево', 'поселок Глебычево',\n",
       "       'поселок Гончарово', 'поселок Громово', 'поселок Дружноселье',\n",
       "       'поселок Елизаветино', 'поселок Жилгородок', 'поселок Жилпосёлок',\n",
       "       'поселок Житково', 'поселок Заводской', 'поселок Запорожское',\n",
       "       'поселок Зимитицы', 'поселок Ильичёво', 'поселок Калитино',\n",
       "       'поселок Каложицы', 'поселок Кингисеппский', 'поселок Кирпичное',\n",
       "       'поселок Кобралово', 'поселок Кобринское', 'поселок Коммунары',\n",
       "       'поселок Коробицыно', 'поселок Котельский',\n",
       "       'поселок Красная Долина', 'поселок Красносельское',\n",
       "       'поселок Лесное', 'поселок Лисий Нос', 'поселок Лукаши',\n",
       "       'поселок Любань', 'поселок Мельниково', 'поселок Мичуринское',\n",
       "       'поселок Молодцово', 'поселок Мурино', 'поселок Новый Свет',\n",
       "       'поселок Новый Учхоз', 'поселок Оредеж',\n",
       "       'поселок Пансионат Зелёный Бор', 'поселок Первомайское',\n",
       "       'поселок Перово', 'поселок Петровское', 'поселок Победа',\n",
       "       'поселок Поляны', 'поселок Почап', 'поселок Починок',\n",
       "       'поселок Пушное', 'поселок Пчевжа', 'поселок Рабитицы',\n",
       "       'поселок Романовка', 'поселок Ромашки', 'поселок Рябово',\n",
       "       'поселок Севастьяново', 'поселок Селезнёво', 'поселок Сельцо',\n",
       "       'поселок Семиозерье', 'поселок Семрино', 'поселок Серебрянский',\n",
       "       'поселок Совхозный', 'поселок Старая Малукса',\n",
       "       'поселок Стеклянный', 'поселок Сумино', 'поселок Суходолье',\n",
       "       'поселок Тельмана', 'поселок Терволово', 'поселок Торковичи',\n",
       "       'поселок Тёсово-4', 'поселок Углово', 'поселок Усть-Луга',\n",
       "       'поселок Ушаки', 'поселок Цвелодубово', 'поселок Цвылёво',\n",
       "       'поселок городского типа Большая Ижора',\n",
       "       'поселок городского типа Вырица',\n",
       "       'поселок городского типа Дружная Горка',\n",
       "       'поселок городского типа Дубровка',\n",
       "       'поселок городского типа Ефимовский',\n",
       "       'поселок городского типа Кондратьево',\n",
       "       'поселок городского типа Красный Бор',\n",
       "       'поселок городского типа Кузьмоловский',\n",
       "       'поселок городского типа Лебяжье',\n",
       "       'поселок городского типа Лесогорский',\n",
       "       'поселок городского типа Назия',\n",
       "       'поселок городского типа Никольский',\n",
       "       'поселок городского типа Приладожский',\n",
       "       'поселок городского типа Рахья', 'поселок городского типа Рощино',\n",
       "       'поселок городского типа Рябово',\n",
       "       'поселок городского типа Синявино',\n",
       "       'поселок городского типа Советский',\n",
       "       'поселок городского типа Токсово',\n",
       "       'поселок городского типа Форносово',\n",
       "       'поселок городского типа имени Свердлова',\n",
       "       'поселок станции Вещево', 'поселок станции Корнево',\n",
       "       'поселок станции Лужайка', 'поселок станции Приветнинское',\n",
       "       'посёлок Александровская', 'посёлок Алексеевка', 'посёлок Аннино',\n",
       "       'посёлок Белоостров', 'посёлок Бугры', 'посёлок Возрождение',\n",
       "       'посёлок Войскорово', 'посёлок Высокоключевой',\n",
       "       'посёлок Гаврилово', 'посёлок Дзержинского', 'посёлок Жилгородок',\n",
       "       'посёлок Ильичёво', 'посёлок Кикерино', 'посёлок Кобралово',\n",
       "       'посёлок Коробицыно', 'посёлок Левашово', 'посёлок Ленинское',\n",
       "       'посёлок Лисий Нос', 'посёлок Мельниково', 'посёлок Металлострой',\n",
       "       'посёлок Мичуринское', 'посёлок Молодёжное', 'посёлок Мурино',\n",
       "       'посёлок Мыза-Ивановка', 'посёлок Новогорелово',\n",
       "       'посёлок Новый Свет', 'посёлок Пансионат Зелёный Бор',\n",
       "       'посёлок Парголово', 'посёлок Перово', 'посёлок Песочный',\n",
       "       'посёлок Петро-Славянка', 'посёлок Петровское',\n",
       "       'посёлок Платформа 69-й километр', 'посёлок Плодовое',\n",
       "       'посёлок Плоское', 'посёлок Победа', 'посёлок Поляны',\n",
       "       'посёлок Понтонный', 'посёлок Пригородный', 'посёлок Пудость',\n",
       "       'посёлок Репино', 'посёлок Ропша', 'посёлок Сапёрное',\n",
       "       'посёлок Сапёрный', 'посёлок Сосново', 'посёлок Старая Малукса',\n",
       "       'посёлок Стеклянный', 'посёлок Стрельна', 'посёлок Суйда',\n",
       "       'посёлок Сумино', 'посёлок Тельмана', 'посёлок Терволово',\n",
       "       'посёлок Торфяное', 'посёлок Усть-Ижора', 'посёлок Усть-Луга',\n",
       "       'посёлок Форт Красная Горка', 'посёлок Шугозеро', 'посёлок Шушары',\n",
       "       'посёлок Щеглово', 'посёлок городского типа Важины',\n",
       "       'посёлок городского типа Вознесенье',\n",
       "       'посёлок городского типа Вырица',\n",
       "       'посёлок городского типа Красный Бор',\n",
       "       'посёлок городского типа Кузнечное',\n",
       "       'посёлок городского типа Кузьмоловский',\n",
       "       'посёлок городского типа Лебяжье', 'посёлок городского типа Мга',\n",
       "       'посёлок городского типа Павлово',\n",
       "       'посёлок городского типа Рощино', 'посёлок городского типа Рябово',\n",
       "       'посёлок городского типа Сиверский',\n",
       "       'посёлок городского типа Тайцы', 'посёлок городского типа Токсово',\n",
       "       'посёлок городского типа Ульяновка',\n",
       "       'посёлок городского типа Форносово',\n",
       "       'посёлок городского типа имени Морозова',\n",
       "       'посёлок городского типа имени Свердлова',\n",
       "       'посёлок при железнодорожной станции Вещево',\n",
       "       'посёлок при железнодорожной станции Приветнинское',\n",
       "       'посёлок станции Громово', 'посёлок станции Свирь',\n",
       "       'садоводческое некоммерческое товарищество Лесная Поляна',\n",
       "       'садовое товарищество Новая Ропша',\n",
       "       'садовое товарищество Приладожский', 'садовое товарищество Рахья',\n",
       "       'садовое товарищество Садко', 'село Копорье', 'село Никольское',\n",
       "       'село Павлово', 'село Паша', 'село Путилово', 'село Рождествено',\n",
       "       'село Русско-Высоцкое', 'село Старая Ладога', 'село Шум', nan],\n",
       "      dtype=object)"
      ]
     },
     "execution_count": 9,
     "metadata": {},
     "output_type": "execute_result"
    }
   ],
   "source": [
    "df['locality_name'].sort_values().unique()"
   ]
  },
  {
   "cell_type": "markdown",
   "metadata": {},
   "source": [
    "В столбце locality_name встречается много неявных дубликатов, некоторые населенные пункты записывают одновременно как поселок, так и посёлок, поселок городского типа, деревня."
   ]
  },
  {
   "cell_type": "code",
   "execution_count": 10,
   "metadata": {},
   "outputs": [
    {
     "data": {
      "text/plain": [
       "array(['Бокситогорск', 'Волосово', 'Волхов', 'Всеволожск', 'Выборг',\n",
       "       'Высоцк', 'Гатчина', 'Зеленогорск', 'Ивангород', 'Каменногорск',\n",
       "       'Кингисепп', 'Кириши', 'Кировск', 'Колпино', 'Коммунар',\n",
       "       'Красное Село', 'Кронштадт', 'Кудрово', 'Лодейное Поле',\n",
       "       'Ломоносов', 'Луга', 'Любань', 'Мурино', 'Никольское',\n",
       "       'Новая Ладога', 'Отрадное', 'Павловск', 'Петергоф', 'Пикалёво',\n",
       "       'Подпорожье', 'Приморск', 'Приозерск', 'Пушкин', 'Санкт-Петербург',\n",
       "       'Светогорск', 'Сертолово', 'Сестрорецк', 'Сланцы', 'Сосновый Бор',\n",
       "       'Сясьстрой', 'Тихвин', 'Тосно', 'Шлиссельбург',\n",
       "       'поселок Агалатово', 'поселок Александровская',\n",
       "       'поселок Алексеевка', 'поселок Аннино', 'поселок Аро',\n",
       "       'поселок Барышево', 'поселок Батово', 'поселок Бегуницы',\n",
       "       'поселок Белогорка', 'поселок Белоостров', 'поселок Большая Вруда',\n",
       "       'поселок Большая Ижора', 'поселок Большая Пустомержа',\n",
       "       'поселок Большие Колпаны', 'поселок Большое Рейзино',\n",
       "       'поселок Большой Сабск', 'поселок Бор', 'поселок Борисова Грива',\n",
       "       'поселок Бугры', 'поселок Будогощь', 'поселок Ваганово',\n",
       "       'поселок Важины', 'поселок Вартемяги', 'поселок Вахнова Кара',\n",
       "       'поселок Виллози', 'поселок Вознесенье', 'поселок Возрождение',\n",
       "       'поселок Войсковицы', 'поселок Войскорово', 'поселок Володарское',\n",
       "       'поселок Вырица', 'поселок Выскатка', 'поселок Высокоключевой',\n",
       "       'поселок Гаврилово', 'поселок Гарболово', 'поселок Гладкое',\n",
       "       'поселок Глажево', 'поселок Глебычево', 'поселок Глинка',\n",
       "       'поселок Гончарово', 'поселок Горбунки', 'поселок Гостилицы',\n",
       "       'поселок Громово', 'поселок Дзержинского', 'поселок Дружная Горка',\n",
       "       'поселок Дружноселье', 'поселок Дубровка', 'поселок Елизаветино',\n",
       "       'поселок Ефимовский', 'поселок Жилгородок', 'поселок Жилпоселок',\n",
       "       'поселок Житково', 'поселок Заводской', 'поселок Заклинье',\n",
       "       'поселок Заневка', 'поселок Запорожское', 'поселок Зимитицы',\n",
       "       'поселок Извара', 'поселок Ильичёво', 'поселок Иссад',\n",
       "       'поселок Калитино', 'поселок Каложицы', 'поселок Кальтино',\n",
       "       'поселок Камышовка', 'поселок Каськово', 'поселок Келози',\n",
       "       'поселок Кивеннапа Север', 'поселок Кикерино',\n",
       "       'поселок Кингисеппский', 'поселок Кипень', 'поселок Кирпичное',\n",
       "       'поселок Кисельня', 'поселок Кобралово', 'поселок Кобринское',\n",
       "       'поселок Колтуши', 'поселок Коммунары', 'поселок Кондратьево',\n",
       "       'поселок Коркино', 'поселок Коробицыно', 'поселок Котельский',\n",
       "       'поселок Котлы', 'поселок Красная Долина',\n",
       "       'поселок Красносельское', 'поселок Красный Бор', 'поселок Кривко',\n",
       "       'поселок Кузнечное', 'поселок Кузьмолово', 'поселок Кузьмоловский',\n",
       "       'поселок Курковицы', 'поселок Куровицы', 'поселок Куттузи',\n",
       "       'поселок Лаврики', 'поселок Лаголово', 'поселок Лампово',\n",
       "       'поселок Лебяжье', 'поселок Левашово', 'поселок Ленинское',\n",
       "       'поселок Лесколово', 'поселок Лесное', 'поселок Лесогорский',\n",
       "       'поселок Лисий Нос', 'поселок Лопухинка', 'поселок Лукаши',\n",
       "       'поселок Лупполово', 'поселок Малая Романовка',\n",
       "       'поселок Малое Верево', 'поселок Малое Карлино',\n",
       "       'поселок Малые Колпаны', 'поселок Мануйлово', 'поселок Мга',\n",
       "       'поселок Мельниково', 'поселок Меньково', 'поселок Металлострой',\n",
       "       'поселок Мины', 'поселок Мистолово', 'поселок Мичуринское',\n",
       "       'поселок Молодцово', 'поселок Молодёжное', 'поселок Мыза-Ивановка',\n",
       "       'поселок Назия', 'поселок Ненимяки', 'поселок Нижние Осельки',\n",
       "       'поселок Нижняя', 'поселок Низино', 'поселок Никольский',\n",
       "       'поселок Новогорелово', 'поселок Новое Девяткино',\n",
       "       'поселок Новолисино', 'поселок Новоселье', 'поселок Новый Свет',\n",
       "       'поселок Новый Учхоз', 'поселок Нурма', 'поселок Оредеж',\n",
       "       'поселок Оржицы', 'поселок Павлово',\n",
       "       'поселок Пансионат Зелёный Бор', 'поселок Парголово',\n",
       "       'поселок Парицы', 'поселок Пельгора', 'поселок Пеники',\n",
       "       'поселок Первомайское', 'поселок Перово', 'поселок Песочный',\n",
       "       'поселок Петро-Славянка', 'поселок Петровское', 'поселок Пижма',\n",
       "       'поселок Пикколово', 'поселок Платформа 69-й километр',\n",
       "       'поселок Плодовое', 'поселок Плоское', 'поселок Победа',\n",
       "       'поселок Поляны', 'поселок Понтонный', 'поселок Почап',\n",
       "       'поселок Починок', 'поселок Пригородный', 'поселок Приладожский',\n",
       "       'поселок Пудомяги', 'поселок Пудость', 'поселок Пустынка',\n",
       "       'поселок Пушное', 'поселок Пчева', 'поселок Пчевжа',\n",
       "       'поселок Рабитицы', 'поселок Разбегаево', 'поселок Раздолье',\n",
       "       'поселок Разметелево', 'поселок Рапполово', 'поселок Рахья',\n",
       "       'поселок Реброво', 'поселок Репино', 'поселок Романовка',\n",
       "       'поселок Ромашки', 'поселок Ропша', 'поселок Рощино',\n",
       "       'поселок Русско', 'поселок Рябово', 'поселок Сапёрное',\n",
       "       'поселок Сапёрный', 'поселок Свирьстрой', 'поселок Севастьяново',\n",
       "       'поселок Селезнёво', 'поселок Сельцо', 'поселок Семиозерье',\n",
       "       'поселок Семрино', 'поселок Серебрянский', 'поселок Сиверский',\n",
       "       'поселок Сижно', 'поселок Синявино', 'поселок Снегирёвка',\n",
       "       'поселок Советский', 'поселок Совхозный', 'поселок Сосново',\n",
       "       'поселок Старая', 'поселок Старая Малукса',\n",
       "       'поселок Старая Пустошь', 'поселок Старое Хинколово',\n",
       "       'поселок Старополье', 'поселок Старосиверская',\n",
       "       'поселок Старые Бегуницы', 'поселок Стеклянный',\n",
       "       'поселок Стрельна', 'поселок Суйда', 'поселок Сумино',\n",
       "       'поселок Суоранда', 'поселок Суходолье', 'поселок Счастье',\n",
       "       'поселок Сяськелево', 'поселок Тайцы', 'поселок Тарасово',\n",
       "       'поселок Тельмана', 'поселок Терволово', 'поселок Терпилицы',\n",
       "       'поселок Тихковицы', 'поселок Тойворово', 'поселок Токсово',\n",
       "       'поселок Торковичи', 'поселок Торосово', 'поселок Торошковичи',\n",
       "       'поселок Торфяное', 'поселок Трубников Бор', 'поселок Тёсово-4',\n",
       "       'поселок Углово', 'поселок Ульяновка', 'поселок Усть-Ижора',\n",
       "       'поселок Усть-Луга', 'поселок Ушаки', 'поселок Фалилеево',\n",
       "       'поселок Форносово', 'поселок Форт Красная Горка',\n",
       "       'поселок Фёдоровское', 'поселок Хапо-Ое', 'поселок Хязельки',\n",
       "       'поселок Цвелодубово', 'поселок Цвылёво', 'поселок Чудской Бор',\n",
       "       'поселок Шпаньково', 'поселок Шугозеро', 'поселок Шушары',\n",
       "       'поселок Щеглово', 'поселок Юкки', 'поселок Ялгино',\n",
       "       'поселок Яльгелево', 'поселок Ям-Тесово', 'поселок Янино-1',\n",
       "       'поселок имени Морозова', 'поселок имени Свердлова',\n",
       "       'поселок при железнодорожной станции Вещево',\n",
       "       'поселок при железнодорожной станции Громово',\n",
       "       'поселок при железнодорожной станции Корнево',\n",
       "       'поселок при железнодорожной станции Лужайка',\n",
       "       'поселок при железнодорожной станции Приветнинское',\n",
       "       'поселок при железнодорожной станции Свирь',\n",
       "       'садоводческое некоммерческое товарищество Лесная Поляна',\n",
       "       'садовое товарищество Новая Ропша',\n",
       "       'садовое товарищество Приладожский', 'садовое товарищество Рахья',\n",
       "       'садовое товарищество Садко', 'село Копорье', 'село Никольское',\n",
       "       'село Павлово', 'село Паша', 'село Путилово', 'село Рождествено',\n",
       "       'село Русско-Высоцкое', 'село Старая Ладога', 'село Шум', nan],\n",
       "      dtype=object)"
      ]
     },
     "execution_count": 10,
     "metadata": {},
     "output_type": "execute_result"
    }
   ],
   "source": [
    "def replace_wrong_values(wrong_values, correct_value): \n",
    "        for wrong_value in wrong_values:\n",
    "            df['locality_name'] = df['locality_name'].str.replace(wrong_value, correct_value) \n",
    "            \n",
    "cities = ['посёлок городского типа', 'поселок городского типа', 'городской поселок','городской посёлок','деревня','посёлок','коттеджный поселок'] \n",
    "name = 'поселок'\n",
    "replace_wrong_values(cities, name) \n",
    "\n",
    "#заменим некоторые частные случаи\n",
    "df['locality_name'] = df['locality_name'].str.replace('поселок станции', 'поселок при железнодорожной станции')\n",
    "df['locality_name'] = df['locality_name'].str.replace('поселок Мурино', 'Мурино')\n",
    "df['locality_name'] = df['locality_name'].str.replace('поселок Кудрово', 'Кудрово')\n",
    "df['locality_name'] = df['locality_name'].str.replace('поселок Любань', 'Любань')\n",
    "\n",
    "df['locality_name'].sort_values().unique()"
   ]
  },
  {
   "cell_type": "markdown",
   "metadata": {},
   "source": [
    "Написали функцию, которая заменяет все значения на значение поселок с сохранением логического смысла."
   ]
  },
  {
   "cell_type": "code",
   "execution_count": 11,
   "metadata": {},
   "outputs": [
    {
     "data": {
      "text/plain": [
       "Санкт-Петербург          15721\n",
       "Мурино                     590\n",
       "Кудрово                    472\n",
       "поселок Шушары             440\n",
       "Всеволожск                 398\n",
       "                         ...  \n",
       "поселок Мыза-Ивановка        1\n",
       "село Шум                     1\n",
       "поселок Ропша                1\n",
       "поселок Шугозеро             1\n",
       "поселок Гладкое              1\n",
       "Name: locality_name, Length: 310, dtype: int64"
      ]
     },
     "execution_count": 11,
     "metadata": {},
     "output_type": "execute_result"
    }
   ],
   "source": [
    "df['locality_name'].value_counts()"
   ]
  },
  {
   "cell_type": "markdown",
   "metadata": {},
   "source": [
    "Теперь данные населенные пункты выглядят корректно."
   ]
  },
  {
   "cell_type": "markdown",
   "metadata": {},
   "source": [
    "Заполним пропуски там, где это возможно"
   ]
  },
  {
   "cell_type": "code",
   "execution_count": 12,
   "metadata": {},
   "outputs": [],
   "source": [
    "# Заменим пропуски в столбце balcony нулями.\n",
    "df['balcony'] = df['balcony'].fillna(0)\n",
    "\n",
    "# Заменим пропуски высоты потолка медианным значением\n",
    "df['ceiling_height'] = df['ceiling_height'].fillna(df['ceiling_height'].median()) "
   ]
  },
  {
   "cell_type": "code",
   "execution_count": 13,
   "metadata": {},
   "outputs": [],
   "source": [
    "living_area_coe = df['living_area'].median() / df['total_area'].median()\n",
    "df['living_area'] = df['living_area'].fillna(df['total_area'] * living_area_coe)\n",
    "\n",
    "kitchen_area_coe = df['kitchen_area'].median()/ df['total_area'].median()\n",
    "df['kitchen_area'] = df['kitchen_area'].fillna(df['total_area'] * kitchen_area_coe)"
   ]
  },
  {
   "cell_type": "markdown",
   "metadata": {},
   "source": [
    "Изменим типы данных"
   ]
  },
  {
   "cell_type": "code",
   "execution_count": 14,
   "metadata": {},
   "outputs": [
    {
     "data": {
      "text/html": [
       "<div>\n",
       "<style scoped>\n",
       "    .dataframe tbody tr th:only-of-type {\n",
       "        vertical-align: middle;\n",
       "    }\n",
       "\n",
       "    .dataframe tbody tr th {\n",
       "        vertical-align: top;\n",
       "    }\n",
       "\n",
       "    .dataframe thead th {\n",
       "        text-align: right;\n",
       "    }\n",
       "</style>\n",
       "<table border=\"1\" class=\"dataframe\">\n",
       "  <thead>\n",
       "    <tr style=\"text-align: right;\">\n",
       "      <th></th>\n",
       "      <th>total_images</th>\n",
       "      <th>last_price</th>\n",
       "      <th>total_area</th>\n",
       "      <th>first_day_exposition</th>\n",
       "      <th>rooms</th>\n",
       "      <th>ceiling_height</th>\n",
       "      <th>floors_total</th>\n",
       "      <th>living_area</th>\n",
       "      <th>floor</th>\n",
       "      <th>is_apartment</th>\n",
       "      <th>...</th>\n",
       "      <th>airports_nearest</th>\n",
       "      <th>cityCenters_nearest</th>\n",
       "      <th>parks_around3000</th>\n",
       "      <th>parks_nearest</th>\n",
       "      <th>ponds_around3000</th>\n",
       "      <th>ponds_nearest</th>\n",
       "      <th>days_exposition</th>\n",
       "      <th>day</th>\n",
       "      <th>month</th>\n",
       "      <th>year</th>\n",
       "    </tr>\n",
       "  </thead>\n",
       "  <tbody>\n",
       "    <tr>\n",
       "      <th>0</th>\n",
       "      <td>20</td>\n",
       "      <td>13000000</td>\n",
       "      <td>108.0</td>\n",
       "      <td>2019-03-07</td>\n",
       "      <td>3</td>\n",
       "      <td>2.70</td>\n",
       "      <td>16</td>\n",
       "      <td>51.000000</td>\n",
       "      <td>8</td>\n",
       "      <td>NaN</td>\n",
       "      <td>...</td>\n",
       "      <td>18863.0</td>\n",
       "      <td>16028.0</td>\n",
       "      <td>1</td>\n",
       "      <td>482.0</td>\n",
       "      <td>2</td>\n",
       "      <td>755.0</td>\n",
       "      <td>NaN</td>\n",
       "      <td>3</td>\n",
       "      <td>3</td>\n",
       "      <td>2019</td>\n",
       "    </tr>\n",
       "    <tr>\n",
       "      <th>1</th>\n",
       "      <td>7</td>\n",
       "      <td>3350000</td>\n",
       "      <td>40.4</td>\n",
       "      <td>2018-12-04</td>\n",
       "      <td>1</td>\n",
       "      <td>2.65</td>\n",
       "      <td>11</td>\n",
       "      <td>18.600000</td>\n",
       "      <td>1</td>\n",
       "      <td>NaN</td>\n",
       "      <td>...</td>\n",
       "      <td>12817.0</td>\n",
       "      <td>18603.0</td>\n",
       "      <td>0</td>\n",
       "      <td>NaN</td>\n",
       "      <td>0</td>\n",
       "      <td>NaN</td>\n",
       "      <td>81.0</td>\n",
       "      <td>1</td>\n",
       "      <td>12</td>\n",
       "      <td>2018</td>\n",
       "    </tr>\n",
       "    <tr>\n",
       "      <th>2</th>\n",
       "      <td>10</td>\n",
       "      <td>5196000</td>\n",
       "      <td>56.0</td>\n",
       "      <td>2015-08-20</td>\n",
       "      <td>2</td>\n",
       "      <td>2.65</td>\n",
       "      <td>5</td>\n",
       "      <td>34.300000</td>\n",
       "      <td>4</td>\n",
       "      <td>NaN</td>\n",
       "      <td>...</td>\n",
       "      <td>21741.0</td>\n",
       "      <td>13933.0</td>\n",
       "      <td>1</td>\n",
       "      <td>90.0</td>\n",
       "      <td>2</td>\n",
       "      <td>574.0</td>\n",
       "      <td>558.0</td>\n",
       "      <td>3</td>\n",
       "      <td>8</td>\n",
       "      <td>2015</td>\n",
       "    </tr>\n",
       "    <tr>\n",
       "      <th>3</th>\n",
       "      <td>0</td>\n",
       "      <td>64900000</td>\n",
       "      <td>159.0</td>\n",
       "      <td>2015-07-24</td>\n",
       "      <td>3</td>\n",
       "      <td>2.65</td>\n",
       "      <td>14</td>\n",
       "      <td>91.730769</td>\n",
       "      <td>9</td>\n",
       "      <td>NaN</td>\n",
       "      <td>...</td>\n",
       "      <td>28098.0</td>\n",
       "      <td>6800.0</td>\n",
       "      <td>2</td>\n",
       "      <td>84.0</td>\n",
       "      <td>3</td>\n",
       "      <td>234.0</td>\n",
       "      <td>424.0</td>\n",
       "      <td>4</td>\n",
       "      <td>7</td>\n",
       "      <td>2015</td>\n",
       "    </tr>\n",
       "    <tr>\n",
       "      <th>4</th>\n",
       "      <td>2</td>\n",
       "      <td>10000000</td>\n",
       "      <td>100.0</td>\n",
       "      <td>2018-06-19</td>\n",
       "      <td>2</td>\n",
       "      <td>3.03</td>\n",
       "      <td>14</td>\n",
       "      <td>32.000000</td>\n",
       "      <td>13</td>\n",
       "      <td>NaN</td>\n",
       "      <td>...</td>\n",
       "      <td>31856.0</td>\n",
       "      <td>8098.0</td>\n",
       "      <td>2</td>\n",
       "      <td>112.0</td>\n",
       "      <td>1</td>\n",
       "      <td>48.0</td>\n",
       "      <td>121.0</td>\n",
       "      <td>1</td>\n",
       "      <td>6</td>\n",
       "      <td>2018</td>\n",
       "    </tr>\n",
       "  </tbody>\n",
       "</table>\n",
       "<p>5 rows × 25 columns</p>\n",
       "</div>"
      ],
      "text/plain": [
       "   total_images  last_price  total_area first_day_exposition  rooms  \\\n",
       "0            20    13000000       108.0           2019-03-07      3   \n",
       "1             7     3350000        40.4           2018-12-04      1   \n",
       "2            10     5196000        56.0           2015-08-20      2   \n",
       "3             0    64900000       159.0           2015-07-24      3   \n",
       "4             2    10000000       100.0           2018-06-19      2   \n",
       "\n",
       "   ceiling_height  floors_total  living_area  floor is_apartment  ...  \\\n",
       "0            2.70            16    51.000000      8          NaN  ...   \n",
       "1            2.65            11    18.600000      1          NaN  ...   \n",
       "2            2.65             5    34.300000      4          NaN  ...   \n",
       "3            2.65            14    91.730769      9          NaN  ...   \n",
       "4            3.03            14    32.000000     13          NaN  ...   \n",
       "\n",
       "   airports_nearest  cityCenters_nearest  parks_around3000  parks_nearest  \\\n",
       "0           18863.0              16028.0                 1          482.0   \n",
       "1           12817.0              18603.0                 0            NaN   \n",
       "2           21741.0              13933.0                 1           90.0   \n",
       "3           28098.0               6800.0                 2           84.0   \n",
       "4           31856.0               8098.0                 2          112.0   \n",
       "\n",
       "  ponds_around3000  ponds_nearest  days_exposition  day  month  year  \n",
       "0                2          755.0              NaN    3      3  2019  \n",
       "1                0            NaN             81.0    1     12  2018  \n",
       "2                2          574.0            558.0    3      8  2015  \n",
       "3                3          234.0            424.0    4      7  2015  \n",
       "4                1           48.0            121.0    1      6  2018  \n",
       "\n",
       "[5 rows x 25 columns]"
      ]
     },
     "execution_count": 14,
     "metadata": {},
     "output_type": "execute_result"
    }
   ],
   "source": [
    "# Заменим float на int, так как в таблице представлены только целые числа\n",
    "df['last_price'] = df['last_price'].astype('int64')\n",
    "df['floors_total'] = df['floors_total'].convert_dtypes() \n",
    "df['parks_around3000'] = df['parks_around3000'].convert_dtypes()\n",
    "df['ponds_around3000'] = df['ponds_around3000'].convert_dtypes() \n",
    "\n",
    "# Заменим object на datetime64 для работы с датами\n",
    "df[\"first_day_exposition\"] = df[\"first_day_exposition\"].astype(\"datetime64\")\n",
    "\n",
    "# Получение из столбца с датой и временем...\n",
    "df['day'] = df['first_day_exposition'].dt.weekday\n",
    "df['month'] = df['first_day_exposition'].dt.month\n",
    "df['year'] = df['first_day_exposition'].dt.year\n",
    "\n",
    "df.head()"
   ]
  },
  {
   "cell_type": "markdown",
   "metadata": {},
   "source": [
    "<b>Вывод:</b><br>\n",
    "<b>1. Заполнили пропуски в столбце balcony нулями. Если продавец не указал число балконов, то, скорее всего, в его квартире их нет.</b><br>\n",
    "<b>2. Заполнили пропуски в столбце ceiling_height медианным значением, тк это не исказит данные</b><br>\n",
    "<b>3. Заполнить пропуски в остальных столбцах нельзя, так как это сильного исказить дальнейшие расчеты</b><br>\n",
    "<b>4. Поменяли типы данных в пяти столбцах</b><br>\n",
    "<b>5. Добавили столбцы с днем, месяцем и годом публикации объявления</b><br>\n",
    "\n"
   ]
  },
  {
   "cell_type": "markdown",
   "metadata": {},
   "source": [
    "### Посчитайте и добавьте в таблицу новые столбцы"
   ]
  },
  {
   "cell_type": "code",
   "execution_count": 15,
   "metadata": {},
   "outputs": [
    {
     "data": {
      "text/html": [
       "<div>\n",
       "<style scoped>\n",
       "    .dataframe tbody tr th:only-of-type {\n",
       "        vertical-align: middle;\n",
       "    }\n",
       "\n",
       "    .dataframe tbody tr th {\n",
       "        vertical-align: top;\n",
       "    }\n",
       "\n",
       "    .dataframe thead th {\n",
       "        text-align: right;\n",
       "    }\n",
       "</style>\n",
       "<table border=\"1\" class=\"dataframe\">\n",
       "  <thead>\n",
       "    <tr style=\"text-align: right;\">\n",
       "      <th></th>\n",
       "      <th>total_images</th>\n",
       "      <th>last_price</th>\n",
       "      <th>total_area</th>\n",
       "      <th>first_day_exposition</th>\n",
       "      <th>rooms</th>\n",
       "      <th>ceiling_height</th>\n",
       "      <th>floors_total</th>\n",
       "      <th>living_area</th>\n",
       "      <th>floor</th>\n",
       "      <th>is_apartment</th>\n",
       "      <th>...</th>\n",
       "      <th>parks_nearest</th>\n",
       "      <th>ponds_around3000</th>\n",
       "      <th>ponds_nearest</th>\n",
       "      <th>days_exposition</th>\n",
       "      <th>day</th>\n",
       "      <th>month</th>\n",
       "      <th>year</th>\n",
       "      <th>price_per_m2</th>\n",
       "      <th>type_floor</th>\n",
       "      <th>cityCenters_nearest_km</th>\n",
       "    </tr>\n",
       "  </thead>\n",
       "  <tbody>\n",
       "    <tr>\n",
       "      <th>0</th>\n",
       "      <td>20</td>\n",
       "      <td>13000000</td>\n",
       "      <td>108.0</td>\n",
       "      <td>2019-03-07</td>\n",
       "      <td>3</td>\n",
       "      <td>2.70</td>\n",
       "      <td>16</td>\n",
       "      <td>51.000000</td>\n",
       "      <td>8</td>\n",
       "      <td>NaN</td>\n",
       "      <td>...</td>\n",
       "      <td>482.0</td>\n",
       "      <td>2</td>\n",
       "      <td>755.0</td>\n",
       "      <td>NaN</td>\n",
       "      <td>3</td>\n",
       "      <td>3</td>\n",
       "      <td>2019</td>\n",
       "      <td>120370</td>\n",
       "      <td>other</td>\n",
       "      <td>16.0</td>\n",
       "    </tr>\n",
       "    <tr>\n",
       "      <th>1</th>\n",
       "      <td>7</td>\n",
       "      <td>3350000</td>\n",
       "      <td>40.4</td>\n",
       "      <td>2018-12-04</td>\n",
       "      <td>1</td>\n",
       "      <td>2.65</td>\n",
       "      <td>11</td>\n",
       "      <td>18.600000</td>\n",
       "      <td>1</td>\n",
       "      <td>NaN</td>\n",
       "      <td>...</td>\n",
       "      <td>NaN</td>\n",
       "      <td>0</td>\n",
       "      <td>NaN</td>\n",
       "      <td>81.0</td>\n",
       "      <td>1</td>\n",
       "      <td>12</td>\n",
       "      <td>2018</td>\n",
       "      <td>82920</td>\n",
       "      <td>first</td>\n",
       "      <td>19.0</td>\n",
       "    </tr>\n",
       "    <tr>\n",
       "      <th>2</th>\n",
       "      <td>10</td>\n",
       "      <td>5196000</td>\n",
       "      <td>56.0</td>\n",
       "      <td>2015-08-20</td>\n",
       "      <td>2</td>\n",
       "      <td>2.65</td>\n",
       "      <td>5</td>\n",
       "      <td>34.300000</td>\n",
       "      <td>4</td>\n",
       "      <td>NaN</td>\n",
       "      <td>...</td>\n",
       "      <td>90.0</td>\n",
       "      <td>2</td>\n",
       "      <td>574.0</td>\n",
       "      <td>558.0</td>\n",
       "      <td>3</td>\n",
       "      <td>8</td>\n",
       "      <td>2015</td>\n",
       "      <td>92785</td>\n",
       "      <td>other</td>\n",
       "      <td>14.0</td>\n",
       "    </tr>\n",
       "    <tr>\n",
       "      <th>3</th>\n",
       "      <td>0</td>\n",
       "      <td>64900000</td>\n",
       "      <td>159.0</td>\n",
       "      <td>2015-07-24</td>\n",
       "      <td>3</td>\n",
       "      <td>2.65</td>\n",
       "      <td>14</td>\n",
       "      <td>91.730769</td>\n",
       "      <td>9</td>\n",
       "      <td>NaN</td>\n",
       "      <td>...</td>\n",
       "      <td>84.0</td>\n",
       "      <td>3</td>\n",
       "      <td>234.0</td>\n",
       "      <td>424.0</td>\n",
       "      <td>4</td>\n",
       "      <td>7</td>\n",
       "      <td>2015</td>\n",
       "      <td>408176</td>\n",
       "      <td>other</td>\n",
       "      <td>7.0</td>\n",
       "    </tr>\n",
       "    <tr>\n",
       "      <th>4</th>\n",
       "      <td>2</td>\n",
       "      <td>10000000</td>\n",
       "      <td>100.0</td>\n",
       "      <td>2018-06-19</td>\n",
       "      <td>2</td>\n",
       "      <td>3.03</td>\n",
       "      <td>14</td>\n",
       "      <td>32.000000</td>\n",
       "      <td>13</td>\n",
       "      <td>NaN</td>\n",
       "      <td>...</td>\n",
       "      <td>112.0</td>\n",
       "      <td>1</td>\n",
       "      <td>48.0</td>\n",
       "      <td>121.0</td>\n",
       "      <td>1</td>\n",
       "      <td>6</td>\n",
       "      <td>2018</td>\n",
       "      <td>100000</td>\n",
       "      <td>other</td>\n",
       "      <td>8.0</td>\n",
       "    </tr>\n",
       "  </tbody>\n",
       "</table>\n",
       "<p>5 rows × 28 columns</p>\n",
       "</div>"
      ],
      "text/plain": [
       "   total_images  last_price  total_area first_day_exposition  rooms  \\\n",
       "0            20    13000000       108.0           2019-03-07      3   \n",
       "1             7     3350000        40.4           2018-12-04      1   \n",
       "2            10     5196000        56.0           2015-08-20      2   \n",
       "3             0    64900000       159.0           2015-07-24      3   \n",
       "4             2    10000000       100.0           2018-06-19      2   \n",
       "\n",
       "   ceiling_height  floors_total  living_area  floor is_apartment  ...  \\\n",
       "0            2.70            16    51.000000      8          NaN  ...   \n",
       "1            2.65            11    18.600000      1          NaN  ...   \n",
       "2            2.65             5    34.300000      4          NaN  ...   \n",
       "3            2.65            14    91.730769      9          NaN  ...   \n",
       "4            3.03            14    32.000000     13          NaN  ...   \n",
       "\n",
       "   parks_nearest  ponds_around3000  ponds_nearest  days_exposition day  month  \\\n",
       "0          482.0                 2          755.0              NaN   3      3   \n",
       "1            NaN                 0            NaN             81.0   1     12   \n",
       "2           90.0                 2          574.0            558.0   3      8   \n",
       "3           84.0                 3          234.0            424.0   4      7   \n",
       "4          112.0                 1           48.0            121.0   1      6   \n",
       "\n",
       "   year  price_per_m2  type_floor  cityCenters_nearest_km  \n",
       "0  2019        120370       other                    16.0  \n",
       "1  2018         82920       first                    19.0  \n",
       "2  2015         92785       other                    14.0  \n",
       "3  2015        408176       other                     7.0  \n",
       "4  2018        100000       other                     8.0  \n",
       "\n",
       "[5 rows x 28 columns]"
      ]
     },
     "execution_count": 15,
     "metadata": {},
     "output_type": "execute_result"
    }
   ],
   "source": [
    "#Посчитаем цену за кв.метр\n",
    "df['price_per_m2'] = df['last_price'] / df['total_area']\n",
    "df['price_per_m2'] = df['price_per_m2'].astype('int32')\n",
    "\n",
    "\n",
    "# инициализируем новый столбец\n",
    "df['type_floor'] = 'other' \n",
    "# расставляем первые этажы\n",
    "is_first = df['floor'] == 1\n",
    "df.loc[is_first, 'type_floor'] = 'first'\n",
    "# расставляем последние этажи\n",
    "is_last = df['floor'] == df['floors_total']\n",
    "df.loc[is_last, 'type_floor'] = 'last'\n",
    "\n",
    "#Посчитаем расстояние до центра города в км и округлим\n",
    "df['cityCenters_nearest_km'] = df['cityCenters_nearest'] / 1000\n",
    "df['cityCenters_nearest_km'] = df['cityCenters_nearest_km'].round()\n",
    "\n",
    "df.head()"
   ]
  },
  {
   "cell_type": "markdown",
   "metadata": {},
   "source": [
    "### Проведите исследовательский анализ данных"
   ]
  },
  {
   "cell_type": "code",
   "execution_count": 16,
   "metadata": {},
   "outputs": [
    {
     "data": {
      "text/plain": [
       "(31.0, 116.0)"
      ]
     },
     "execution_count": 16,
     "metadata": {},
     "output_type": "execute_result"
    }
   ],
   "source": [
    "df['total_area'].quantile(0.05), df['total_area'].quantile(0.95)"
   ]
  },
  {
   "cell_type": "code",
   "execution_count": 17,
   "metadata": {},
   "outputs": [
    {
     "data": {
      "text/plain": [
       "<AxesSubplot:title={'center':'Общая площадь'}, ylabel='Frequency'>"
      ]
     },
     "execution_count": 17,
     "metadata": {},
     "output_type": "execute_result"
    },
    {
     "data": {
      "image/png": "[encoded data removed]",
      "text/plain": [
       "<Figure size 432x288 with 1 Axes>"
      ]
     },
     "metadata": {
      "needs_background": "light"
     },
     "output_type": "display_data"
    }
   ],
   "source": [
    "df['total_area'].plot(kind = 'hist', bins = 50, range = (31,116), title = 'Общая площадь', grid=True)"
   ]
  },
  {
   "cell_type": "markdown",
   "metadata": {},
   "source": [
    "Больше всего квартир с площадью 45 и 35 кв.м. Также есть скачок у квартир с площадью около 60 кв.м."
   ]
  },
  {
   "cell_type": "code",
   "execution_count": 18,
   "metadata": {},
   "outputs": [
    {
     "data": {
      "text/plain": [
       "(1870000.0, 15300000.0)"
      ]
     },
     "execution_count": 18,
     "metadata": {},
     "output_type": "execute_result"
    }
   ],
   "source": [
    "df['last_price'].quantile(0.05), df['last_price'].quantile(0.95)"
   ]
  },
  {
   "cell_type": "code",
   "execution_count": 19,
   "metadata": {},
   "outputs": [
    {
     "data": {
      "text/plain": [
       "<AxesSubplot:title={'center':'Распределение кол-ва квартир по цене'}, ylabel='Frequency'>"
      ]
     },
     "execution_count": 19,
     "metadata": {},
     "output_type": "execute_result"
    },
    {
     "data": {
      "image/png": "[encoded data removed]",
      "text/plain": [
       "<Figure size 432x288 with 1 Axes>"
      ]
     },
     "metadata": {
      "needs_background": "light"
     },
     "output_type": "display_data"
    }
   ],
   "source": [
    "df['last_price'].plot(kind='hist', bins=70, range=(1870000,15300000), title='Распределение кол-ва квартир по цене', grid=True)"
   ]
  },
  {
   "cell_type": "markdown",
   "metadata": {},
   "source": [
    "Болшинство квартир в районе 4 млн.руб. после 4 млн. руб. наблюдается тендцения на падение кол-ва квартир."
   ]
  },
  {
   "cell_type": "code",
   "execution_count": 20,
   "metadata": {},
   "outputs": [
    {
     "data": {
      "text/plain": [
       "<AxesSubplot:title={'center':'Распределение кол-ва квартир по кол-ву комнат'}, ylabel='Frequency'>"
      ]
     },
     "execution_count": 20,
     "metadata": {},
     "output_type": "execute_result"
    },
    {
     "data": {
      "image/png": "[encoded data removed]",
      "text/plain": [
       "<Figure size 432x288 with 1 Axes>"
      ]
     },
     "metadata": {
      "needs_background": "light"
     },
     "output_type": "display_data"
    }
   ],
   "source": [
    "df['rooms'].plot(kind='hist', bins=5, range=(1,6), title='Распределение кол-ва квартир по кол-ву комнат', grid=True)"
   ]
  },
  {
   "cell_type": "markdown",
   "metadata": {},
   "source": [
    "Самые популярные квартиры - однокомнатные и двухкомнатные. Дальше тенденция на снижение количества комнат."
   ]
  },
  {
   "cell_type": "code",
   "execution_count": 21,
   "metadata": {},
   "outputs": [
    {
     "data": {
      "text/plain": [
       "<AxesSubplot:title={'center':'Распределение кол-ва квартир по высоте потолка'}, ylabel='Frequency'>"
      ]
     },
     "execution_count": 21,
     "metadata": {},
     "output_type": "execute_result"
    },
    {
     "data": {
      "image/png": "[encoded data removed]",
      "text/plain": [
       "<Figure size 432x288 with 1 Axes>"
      ]
     },
     "metadata": {
      "needs_background": "light"
     },
     "output_type": "display_data"
    }
   ],
   "source": [
    "df['ceiling_height'].plot(kind='hist', bins=10, range=(2.2,4.0), title='Распределение кол-ва квартир по высоте потолка', grid=True)"
   ]
  },
  {
   "cell_type": "markdown",
   "metadata": {},
   "source": [
    "Самое популярное значение - 2.6, вероятно из-за того, что столбец был заполнен медианным значением"
   ]
  },
  {
   "cell_type": "code",
   "execution_count": 22,
   "metadata": {},
   "outputs": [
    {
     "data": {
      "text/plain": [
       "array([[<AxesSubplot:title={'center':'living_area'}>,\n",
       "        <AxesSubplot:title={'center':'kitchen_area'}>,\n",
       "        <AxesSubplot:title={'center':'floor'}>],\n",
       "       [<AxesSubplot:title={'center':'floors_total'}>,\n",
       "        <AxesSubplot:title={'center':'cityCenters_nearest'}>,\n",
       "        <AxesSubplot:title={'center':'airports_nearest'}>],\n",
       "       [<AxesSubplot:title={'center':'parks_nearest'}>,\n",
       "        <AxesSubplot:title={'center':'day'}>,\n",
       "        <AxesSubplot:title={'center':'month'}>]], dtype=object)"
      ]
     },
     "execution_count": 22,
     "metadata": {},
     "output_type": "execute_result"
    },
    {
     "data": {
      "image/png": "[encoded data removed]",
      "text/plain": [
       "<Figure size 1440x2160 with 9 Axes>"
      ]
     },
     "metadata": {
      "needs_background": "light"
     },
     "output_type": "display_data"
    }
   ],
   "source": [
    "df[[ 'living_area', 'kitchen_area','floor', \n",
    "    'type_floor' ,'floors_total', 'cityCenters_nearest', 'airports_nearest', \n",
    "    'parks_nearest', 'day', 'month']].hist(figsize = (20, 30), bins = 60)"
   ]
  },
  {
   "cell_type": "markdown",
   "metadata": {},
   "source": [
    "1)Чаще всего объявления публикуются в будние дни, почти в два раза чаще, чем в выходные. \\\n",
    "2)Чаще всего объявления публикуются в феврале, марте, апреле и ноябре. Реже всего - в мае и летом. \\\n",
    "3)Распределение по близости к аэропорту и паркам имеет нормальное распределение. \\\n",
    "4)Больше всего представлено квартир, расположенных на первом-пятом этажах, по общему числу этажей в доме преобладают шестиэтажки и девятиэтажки (самые распространненые дома)\\\n",
    "5)Жилая площадь и площадь кухни имеют одинаковые графики."
   ]
  },
  {
   "cell_type": "code",
   "execution_count": 23,
   "metadata": {},
   "outputs": [
    {
     "data": {
      "text/plain": [
       "(9.0, 647.0)"
      ]
     },
     "execution_count": 23,
     "metadata": {},
     "output_type": "execute_result"
    }
   ],
   "source": [
    "df['days_exposition'].quantile(0.05), df['days_exposition'].quantile(0.95)"
   ]
  },
  {
   "cell_type": "code",
   "execution_count": 24,
   "metadata": {},
   "outputs": [
    {
     "data": {
      "text/plain": [
       "<AxesSubplot:title={'center':'Распределение по дням размещения обьявления до продажи квартиры'}, ylabel='Frequency'>"
      ]
     },
     "execution_count": 24,
     "metadata": {},
     "output_type": "execute_result"
    },
    {
     "data": {
      "image/png": "[encoded data removed]",
      "text/plain": [
       "<Figure size 432x288 with 1 Axes>"
      ]
     },
     "metadata": {
      "needs_background": "light"
     },
     "output_type": "display_data"
    }
   ],
   "source": [
    "df['days_exposition'].plot(kind = 'hist', bins = 50, range = (9,647), title = 'Распределение по дням размещения обьявления до продажи квартиры', grid=True)"
   ]
  },
  {
   "cell_type": "code",
   "execution_count": 25,
   "metadata": {},
   "outputs": [
    {
     "data": {
      "text/plain": [
       "<AxesSubplot:title={'center':'Распределение по дням размещения обьявления до продажи квартиры'}, ylabel='Frequency'>"
      ]
     },
     "execution_count": 25,
     "metadata": {},
     "output_type": "execute_result"
    },
    {
     "data": {
      "image/png": "[encoded data removed]",
      "text/plain": [
       "<Figure size 432x288 with 1 Axes>"
      ]
     },
     "metadata": {
      "needs_background": "light"
     },
     "output_type": "display_data"
    }
   ],
   "source": [
    "df['days_exposition'].plot(kind = 'hist', bins = 20, range = (0,100), title = 'Распределение по дням размещения обьявления до продажи квартиры', grid=True)"
   ]
  },
  {
   "cell_type": "code",
   "execution_count": 26,
   "metadata": {},
   "outputs": [
    {
     "data": {
      "text/plain": [
       "45.0    880\n",
       "60.0    538\n",
       "7.0     234\n",
       "30.0    208\n",
       "90.0    204\n",
       "4.0     176\n",
       "3.0     158\n",
       "5.0     152\n",
       "14.0    148\n",
       "9.0     143\n",
       "Name: days_exposition, dtype: int64"
      ]
     },
     "execution_count": 26,
     "metadata": {},
     "output_type": "execute_result"
    }
   ],
   "source": [
    "df['days_exposition'].value_counts().head(10)"
   ]
  },
  {
   "cell_type": "markdown",
   "metadata": {},
   "source": [
    "Самыми популярными (пики) днями являются 30, 45 и 60 дней. \\\n",
    "Эти дни являются выбросами, потому что на платформе объявления автоматически снимаются в эти дни. \\\n",
    "Следует эти данные удалить."
   ]
  },
  {
   "cell_type": "code",
   "execution_count": 27,
   "metadata": {},
   "outputs": [],
   "source": [
    "df = df.query('days_exposition < 45 or days_exposition > 46')\n",
    "df = df.query('days_exposition < 30 or days_exposition > 30')\n",
    "df = df.query('days_exposition != 60')"
   ]
  },
  {
   "cell_type": "code",
   "execution_count": 28,
   "metadata": {},
   "outputs": [
    {
     "data": {
      "text/plain": [
       "<AxesSubplot:title={'center':'Распределение по дням размещения обьявления до продажи квартиры'}, ylabel='Frequency'>"
      ]
     },
     "execution_count": 28,
     "metadata": {},
     "output_type": "execute_result"
    },
    {
     "data": {
      "image/png": "[encoded data removed]",
      "text/plain": [
       "<Figure size 432x288 with 1 Axes>"
      ]
     },
     "metadata": {
      "needs_background": "light"
     },
     "output_type": "display_data"
    }
   ],
   "source": [
    "df['days_exposition'].plot(kind = 'hist', bins = 20, range = (0,100), title = 'Распределение по дням размещения обьявления до продажи квартиры', grid=True)"
   ]
  },
  {
   "cell_type": "markdown",
   "metadata": {},
   "source": [
    "Теперь в графике нет заметных выбросов."
   ]
  },
  {
   "cell_type": "code",
   "execution_count": 29,
   "metadata": {},
   "outputs": [
    {
     "name": "stdout",
     "output_type": "stream",
     "text": [
      "Среднее по столбцу:  192.32230573787848\n",
      "Медиана по столбцу:  110.0\n"
     ]
    }
   ],
   "source": [
    "print('Среднее по столбцу: ', df['days_exposition'].mean())\n",
    "print('Медиана по столбцу: ', df['days_exposition'].median())"
   ]
  },
  {
   "cell_type": "code",
   "execution_count": 30,
   "metadata": {},
   "outputs": [
    {
     "data": {
      "text/html": [
       "<div>\n",
       "<style scoped>\n",
       "    .dataframe tbody tr th:only-of-type {\n",
       "        vertical-align: middle;\n",
       "    }\n",
       "\n",
       "    .dataframe tbody tr th {\n",
       "        vertical-align: top;\n",
       "    }\n",
       "\n",
       "    .dataframe thead th {\n",
       "        text-align: right;\n",
       "    }\n",
       "</style>\n",
       "<table border=\"1\" class=\"dataframe\">\n",
       "  <thead>\n",
       "    <tr style=\"text-align: right;\">\n",
       "      <th></th>\n",
       "      <th>last_price</th>\n",
       "      <th>total_area</th>\n",
       "      <th>living_area</th>\n",
       "      <th>kitchen_area</th>\n",
       "      <th>rooms</th>\n",
       "      <th>day</th>\n",
       "      <th>month</th>\n",
       "      <th>year</th>\n",
       "    </tr>\n",
       "  </thead>\n",
       "  <tbody>\n",
       "    <tr>\n",
       "      <th>last_price</th>\n",
       "      <td>1.000000</td>\n",
       "      <td>0.644866</td>\n",
       "      <td>0.577070</td>\n",
       "      <td>0.503826</td>\n",
       "      <td>0.357007</td>\n",
       "      <td>0.005566</td>\n",
       "      <td>0.003424</td>\n",
       "      <td>-0.057860</td>\n",
       "    </tr>\n",
       "    <tr>\n",
       "      <th>total_area</th>\n",
       "      <td>0.644866</td>\n",
       "      <td>1.000000</td>\n",
       "      <td>0.944979</td>\n",
       "      <td>0.662412</td>\n",
       "      <td>0.760693</td>\n",
       "      <td>-0.001346</td>\n",
       "      <td>0.001382</td>\n",
       "      <td>-0.110839</td>\n",
       "    </tr>\n",
       "    <tr>\n",
       "      <th>living_area</th>\n",
       "      <td>0.577070</td>\n",
       "      <td>0.944979</td>\n",
       "      <td>1.000000</td>\n",
       "      <td>0.503588</td>\n",
       "      <td>0.830892</td>\n",
       "      <td>-0.001770</td>\n",
       "      <td>-0.004679</td>\n",
       "      <td>-0.105969</td>\n",
       "    </tr>\n",
       "    <tr>\n",
       "      <th>kitchen_area</th>\n",
       "      <td>0.503826</td>\n",
       "      <td>0.662412</td>\n",
       "      <td>0.503588</td>\n",
       "      <td>1.000000</td>\n",
       "      <td>0.325936</td>\n",
       "      <td>-0.002022</td>\n",
       "      <td>-0.001901</td>\n",
       "      <td>-0.073511</td>\n",
       "    </tr>\n",
       "    <tr>\n",
       "      <th>rooms</th>\n",
       "      <td>0.357007</td>\n",
       "      <td>0.760693</td>\n",
       "      <td>0.830892</td>\n",
       "      <td>0.325936</td>\n",
       "      <td>1.000000</td>\n",
       "      <td>-0.002730</td>\n",
       "      <td>-0.004724</td>\n",
       "      <td>-0.095818</td>\n",
       "    </tr>\n",
       "    <tr>\n",
       "      <th>day</th>\n",
       "      <td>0.005566</td>\n",
       "      <td>-0.001346</td>\n",
       "      <td>-0.001770</td>\n",
       "      <td>-0.002022</td>\n",
       "      <td>-0.002730</td>\n",
       "      <td>1.000000</td>\n",
       "      <td>0.012433</td>\n",
       "      <td>0.004336</td>\n",
       "    </tr>\n",
       "    <tr>\n",
       "      <th>month</th>\n",
       "      <td>0.003424</td>\n",
       "      <td>0.001382</td>\n",
       "      <td>-0.004679</td>\n",
       "      <td>-0.001901</td>\n",
       "      <td>-0.004724</td>\n",
       "      <td>0.012433</td>\n",
       "      <td>1.000000</td>\n",
       "      <td>-0.183860</td>\n",
       "    </tr>\n",
       "    <tr>\n",
       "      <th>year</th>\n",
       "      <td>-0.057860</td>\n",
       "      <td>-0.110839</td>\n",
       "      <td>-0.105969</td>\n",
       "      <td>-0.073511</td>\n",
       "      <td>-0.095818</td>\n",
       "      <td>0.004336</td>\n",
       "      <td>-0.183860</td>\n",
       "      <td>1.000000</td>\n",
       "    </tr>\n",
       "  </tbody>\n",
       "</table>\n",
       "</div>"
      ],
      "text/plain": [
       "              last_price  total_area  living_area  kitchen_area     rooms  \\\n",
       "last_price      1.000000    0.644866     0.577070      0.503826  0.357007   \n",
       "total_area      0.644866    1.000000     0.944979      0.662412  0.760693   \n",
       "living_area     0.577070    0.944979     1.000000      0.503588  0.830892   \n",
       "kitchen_area    0.503826    0.662412     0.503588      1.000000  0.325936   \n",
       "rooms           0.357007    0.760693     0.830892      0.325936  1.000000   \n",
       "day             0.005566   -0.001346    -0.001770     -0.002022 -0.002730   \n",
       "month           0.003424    0.001382    -0.004679     -0.001901 -0.004724   \n",
       "year           -0.057860   -0.110839    -0.105969     -0.073511 -0.095818   \n",
       "\n",
       "                   day     month      year  \n",
       "last_price    0.005566  0.003424 -0.057860  \n",
       "total_area   -0.001346  0.001382 -0.110839  \n",
       "living_area  -0.001770 -0.004679 -0.105969  \n",
       "kitchen_area -0.002022 -0.001901 -0.073511  \n",
       "rooms        -0.002730 -0.004724 -0.095818  \n",
       "day           1.000000  0.012433  0.004336  \n",
       "month         0.012433  1.000000 -0.183860  \n",
       "year          0.004336 -0.183860  1.000000  "
      ]
     },
     "execution_count": 30,
     "metadata": {},
     "output_type": "execute_result"
    }
   ],
   "source": [
    "df[['last_price', 'total_area', 'living_area', 'kitchen_area', 'rooms', 'type_floor', 'day', 'month', 'year']].corr()"
   ]
  },
  {
   "cell_type": "code",
   "execution_count": 31,
   "metadata": {},
   "outputs": [
    {
     "data": {
      "text/html": [
       "<div>\n",
       "<style scoped>\n",
       "    .dataframe tbody tr th:only-of-type {\n",
       "        vertical-align: middle;\n",
       "    }\n",
       "\n",
       "    .dataframe tbody tr th {\n",
       "        vertical-align: top;\n",
       "    }\n",
       "\n",
       "    .dataframe thead th {\n",
       "        text-align: right;\n",
       "    }\n",
       "</style>\n",
       "<table border=\"1\" class=\"dataframe\">\n",
       "  <thead>\n",
       "    <tr style=\"text-align: right;\">\n",
       "      <th></th>\n",
       "      <th>last_price</th>\n",
       "      <th>price_per_m2</th>\n",
       "      <th>rooms</th>\n",
       "      <th>cityCenters_nearest</th>\n",
       "    </tr>\n",
       "  </thead>\n",
       "  <tbody>\n",
       "    <tr>\n",
       "      <th>last_price</th>\n",
       "      <td>1.000000</td>\n",
       "      <td>0.741096</td>\n",
       "      <td>0.357007</td>\n",
       "      <td>-0.194559</td>\n",
       "    </tr>\n",
       "    <tr>\n",
       "      <th>price_per_m2</th>\n",
       "      <td>0.741096</td>\n",
       "      <td>1.000000</td>\n",
       "      <td>0.059837</td>\n",
       "      <td>-0.318322</td>\n",
       "    </tr>\n",
       "    <tr>\n",
       "      <th>rooms</th>\n",
       "      <td>0.357007</td>\n",
       "      <td>0.059837</td>\n",
       "      <td>1.000000</td>\n",
       "      <td>-0.188152</td>\n",
       "    </tr>\n",
       "    <tr>\n",
       "      <th>cityCenters_nearest</th>\n",
       "      <td>-0.194559</td>\n",
       "      <td>-0.318322</td>\n",
       "      <td>-0.188152</td>\n",
       "      <td>1.000000</td>\n",
       "    </tr>\n",
       "  </tbody>\n",
       "</table>\n",
       "</div>"
      ],
      "text/plain": [
       "                     last_price  price_per_m2     rooms  cityCenters_nearest\n",
       "last_price             1.000000      0.741096  0.357007            -0.194559\n",
       "price_per_m2           0.741096      1.000000  0.059837            -0.318322\n",
       "rooms                  0.357007      0.059837  1.000000            -0.188152\n",
       "cityCenters_nearest   -0.194559     -0.318322 -0.188152             1.000000"
      ]
     },
     "execution_count": 31,
     "metadata": {},
     "output_type": "execute_result"
    }
   ],
   "source": [
    "df[['last_price', 'price_per_m2', 'rooms', 'cityCenters_nearest']].corr()"
   ]
  },
  {
   "cell_type": "code",
   "execution_count": 32,
   "metadata": {},
   "outputs": [
    {
     "data": {
      "text/plain": [
       "array([[<AxesSubplot:xlabel='last_price', ylabel='last_price'>,\n",
       "        <AxesSubplot:xlabel='price_per_m2', ylabel='last_price'>,\n",
       "        <AxesSubplot:xlabel='rooms', ylabel='last_price'>,\n",
       "        <AxesSubplot:xlabel='cityCenters_nearest', ylabel='last_price'>],\n",
       "       [<AxesSubplot:xlabel='last_price', ylabel='price_per_m2'>,\n",
       "        <AxesSubplot:xlabel='price_per_m2', ylabel='price_per_m2'>,\n",
       "        <AxesSubplot:xlabel='rooms', ylabel='price_per_m2'>,\n",
       "        <AxesSubplot:xlabel='cityCenters_nearest', ylabel='price_per_m2'>],\n",
       "       [<AxesSubplot:xlabel='last_price', ylabel='rooms'>,\n",
       "        <AxesSubplot:xlabel='price_per_m2', ylabel='rooms'>,\n",
       "        <AxesSubplot:xlabel='rooms', ylabel='rooms'>,\n",
       "        <AxesSubplot:xlabel='cityCenters_nearest', ylabel='rooms'>],\n",
       "       [<AxesSubplot:xlabel='last_price', ylabel='cityCenters_nearest'>,\n",
       "        <AxesSubplot:xlabel='price_per_m2', ylabel='cityCenters_nearest'>,\n",
       "        <AxesSubplot:xlabel='rooms', ylabel='cityCenters_nearest'>,\n",
       "        <AxesSubplot:xlabel='cityCenters_nearest', ylabel='cityCenters_nearest'>]],\n",
       "      dtype=object)"
      ]
     },
     "execution_count": 32,
     "metadata": {},
     "output_type": "execute_result"
    },
    {
     "data": {
      "image/png": "[encoded data removed]",
      "text/plain": [
       "<Figure size 720x720 with 16 Axes>"
      ]
     },
     "metadata": {
      "needs_background": "light"
     },
     "output_type": "display_data"
    }
   ],
   "source": [
    "pd.plotting.scatter_matrix(df[['last_price', 'price_per_m2', 'rooms', 'cityCenters_nearest']], figsize=(10,10))"
   ]
  },
  {
   "cell_type": "markdown",
   "metadata": {},
   "source": [
    "Наблюдается сильная корреляция: чем выше цена квартиры, тем выше цена за 1кв.метр - логично. \n",
    "Также наблюдается отрицательная корреляция: чем выше цена квартиры, тем дальше квартира находится от центра города - логично."
   ]
  },
  {
   "cell_type": "code",
   "execution_count": 33,
   "metadata": {},
   "outputs": [],
   "source": [
    "def first_floor(floor):\n",
    "    if floor == 'first':\n",
    "        return 1\n",
    "    else:\n",
    "        return 0\n",
    "    \n",
    "def last_floor(floor):\n",
    "    if floor == 'last':\n",
    "        return 1\n",
    "    else:\n",
    "        return 0\n",
    "    \n",
    "def other_floor(floor):\n",
    "    if floor == 'other':\n",
    "        return 1\n",
    "    else:\n",
    "        return 0\n",
    "    \n",
    "df['first_floor'] = df['type_floor'].apply(first_floor)\n",
    "df['last_floor'] = df['type_floor'].apply(last_floor)\n",
    "df['other_floor'] = df['type_floor'].apply(other_floor)"
   ]
  },
  {
   "cell_type": "code",
   "execution_count": 34,
   "metadata": {},
   "outputs": [
    {
     "data": {
      "text/html": [
       "<div>\n",
       "<style scoped>\n",
       "    .dataframe tbody tr th:only-of-type {\n",
       "        vertical-align: middle;\n",
       "    }\n",
       "\n",
       "    .dataframe tbody tr th {\n",
       "        vertical-align: top;\n",
       "    }\n",
       "\n",
       "    .dataframe thead th {\n",
       "        text-align: right;\n",
       "    }\n",
       "</style>\n",
       "<table border=\"1\" class=\"dataframe\">\n",
       "  <thead>\n",
       "    <tr style=\"text-align: right;\">\n",
       "      <th></th>\n",
       "      <th>last_price</th>\n",
       "      <th>first_floor</th>\n",
       "      <th>last_floor</th>\n",
       "      <th>other_floor</th>\n",
       "    </tr>\n",
       "  </thead>\n",
       "  <tbody>\n",
       "    <tr>\n",
       "      <th>last_price</th>\n",
       "      <td>1.000000</td>\n",
       "      <td>-0.058925</td>\n",
       "      <td>0.028503</td>\n",
       "      <td>0.021121</td>\n",
       "    </tr>\n",
       "    <tr>\n",
       "      <th>first_floor</th>\n",
       "      <td>-0.058925</td>\n",
       "      <td>1.000000</td>\n",
       "      <td>-0.146993</td>\n",
       "      <td>-0.624357</td>\n",
       "    </tr>\n",
       "    <tr>\n",
       "      <th>last_floor</th>\n",
       "      <td>0.028503</td>\n",
       "      <td>-0.146993</td>\n",
       "      <td>1.000000</td>\n",
       "      <td>-0.680878</td>\n",
       "    </tr>\n",
       "    <tr>\n",
       "      <th>other_floor</th>\n",
       "      <td>0.021121</td>\n",
       "      <td>-0.624357</td>\n",
       "      <td>-0.680878</td>\n",
       "      <td>1.000000</td>\n",
       "    </tr>\n",
       "  </tbody>\n",
       "</table>\n",
       "</div>"
      ],
      "text/plain": [
       "             last_price  first_floor  last_floor  other_floor\n",
       "last_price     1.000000    -0.058925    0.028503     0.021121\n",
       "first_floor   -0.058925     1.000000   -0.146993    -0.624357\n",
       "last_floor     0.028503    -0.146993    1.000000    -0.680878\n",
       "other_floor    0.021121    -0.624357   -0.680878     1.000000"
      ]
     },
     "execution_count": 34,
     "metadata": {},
     "output_type": "execute_result"
    }
   ],
   "source": [
    "df[['last_price', 'first_floor', 'last_floor', 'other_floor']].corr()"
   ]
  },
  {
   "cell_type": "code",
   "execution_count": 35,
   "metadata": {},
   "outputs": [
    {
     "data": {
      "text/plain": [
       "array([[<AxesSubplot:xlabel='last_price', ylabel='last_price'>,\n",
       "        <AxesSubplot:xlabel='first_floor', ylabel='last_price'>,\n",
       "        <AxesSubplot:xlabel='last_floor', ylabel='last_price'>,\n",
       "        <AxesSubplot:xlabel='other_floor', ylabel='last_price'>],\n",
       "       [<AxesSubplot:xlabel='last_price', ylabel='first_floor'>,\n",
       "        <AxesSubplot:xlabel='first_floor', ylabel='first_floor'>,\n",
       "        <AxesSubplot:xlabel='last_floor', ylabel='first_floor'>,\n",
       "        <AxesSubplot:xlabel='other_floor', ylabel='first_floor'>],\n",
       "       [<AxesSubplot:xlabel='last_price', ylabel='last_floor'>,\n",
       "        <AxesSubplot:xlabel='first_floor', ylabel='last_floor'>,\n",
       "        <AxesSubplot:xlabel='last_floor', ylabel='last_floor'>,\n",
       "        <AxesSubplot:xlabel='other_floor', ylabel='last_floor'>],\n",
       "       [<AxesSubplot:xlabel='last_price', ylabel='other_floor'>,\n",
       "        <AxesSubplot:xlabel='first_floor', ylabel='other_floor'>,\n",
       "        <AxesSubplot:xlabel='last_floor', ylabel='other_floor'>,\n",
       "        <AxesSubplot:xlabel='other_floor', ylabel='other_floor'>]],\n",
       "      dtype=object)"
      ]
     },
     "execution_count": 35,
     "metadata": {},
     "output_type": "execute_result"
    },
    {
     "data": {
      "image/png": "[encoded data removed]",
      "text/plain": [
       "<Figure size 720x720 with 16 Axes>"
      ]
     },
     "metadata": {
      "needs_background": "light"
     },
     "output_type": "display_data"
    }
   ],
   "source": [
    "pd.plotting.scatter_matrix(df[['last_price', 'first_floor', 'last_floor', 'other_floor']], figsize=(10,10))"
   ]
  },
  {
   "cell_type": "markdown",
   "metadata": {},
   "source": [
    "Прослеживается слабая, но зависимость цены квартиры от этажа, на котором она расположена: квартиры, расположенные на первыом этаже, стоят дешевле. Наибольшой рост, если квартира расположена на последнем этаже."
   ]
  },
  {
   "cell_type": "code",
   "execution_count": 36,
   "metadata": {},
   "outputs": [
    {
     "data": {
      "text/html": [
       "<div>\n",
       "<style scoped>\n",
       "    .dataframe tbody tr th:only-of-type {\n",
       "        vertical-align: middle;\n",
       "    }\n",
       "\n",
       "    .dataframe tbody tr th {\n",
       "        vertical-align: top;\n",
       "    }\n",
       "\n",
       "    .dataframe thead th {\n",
       "        text-align: right;\n",
       "    }\n",
       "</style>\n",
       "<table border=\"1\" class=\"dataframe\">\n",
       "  <thead>\n",
       "    <tr style=\"text-align: right;\">\n",
       "      <th></th>\n",
       "      <th>last_price</th>\n",
       "      <th>day</th>\n",
       "      <th>month</th>\n",
       "      <th>year</th>\n",
       "    </tr>\n",
       "  </thead>\n",
       "  <tbody>\n",
       "    <tr>\n",
       "      <th>last_price</th>\n",
       "      <td>1.000000</td>\n",
       "      <td>0.005566</td>\n",
       "      <td>0.003424</td>\n",
       "      <td>-0.057860</td>\n",
       "    </tr>\n",
       "    <tr>\n",
       "      <th>day</th>\n",
       "      <td>0.005566</td>\n",
       "      <td>1.000000</td>\n",
       "      <td>0.012433</td>\n",
       "      <td>0.004336</td>\n",
       "    </tr>\n",
       "    <tr>\n",
       "      <th>month</th>\n",
       "      <td>0.003424</td>\n",
       "      <td>0.012433</td>\n",
       "      <td>1.000000</td>\n",
       "      <td>-0.183860</td>\n",
       "    </tr>\n",
       "    <tr>\n",
       "      <th>year</th>\n",
       "      <td>-0.057860</td>\n",
       "      <td>0.004336</td>\n",
       "      <td>-0.183860</td>\n",
       "      <td>1.000000</td>\n",
       "    </tr>\n",
       "  </tbody>\n",
       "</table>\n",
       "</div>"
      ],
      "text/plain": [
       "            last_price       day     month      year\n",
       "last_price    1.000000  0.005566  0.003424 -0.057860\n",
       "day           0.005566  1.000000  0.012433  0.004336\n",
       "month         0.003424  0.012433  1.000000 -0.183860\n",
       "year         -0.057860  0.004336 -0.183860  1.000000"
      ]
     },
     "execution_count": 36,
     "metadata": {},
     "output_type": "execute_result"
    }
   ],
   "source": [
    "df[['last_price', 'day', 'month', 'year']].corr()"
   ]
  },
  {
   "cell_type": "markdown",
   "metadata": {},
   "source": [
    "День и месяц размещения объявления никак не влияет на цену квартиры. Прослеживается слабая отрицательная корреляция между годом и ценой квартиры: чем дольше квартира продается, тем цена на нее ниже."
   ]
  },
  {
   "cell_type": "code",
   "execution_count": 37,
   "metadata": {},
   "outputs": [
    {
     "data": {
      "text/html": [
       "<div>\n",
       "<style scoped>\n",
       "    .dataframe tbody tr th:only-of-type {\n",
       "        vertical-align: middle;\n",
       "    }\n",
       "\n",
       "    .dataframe tbody tr th {\n",
       "        vertical-align: top;\n",
       "    }\n",
       "\n",
       "    .dataframe thead th {\n",
       "        text-align: right;\n",
       "    }\n",
       "</style>\n",
       "<table border=\"1\" class=\"dataframe\">\n",
       "  <thead>\n",
       "    <tr style=\"text-align: right;\">\n",
       "      <th></th>\n",
       "      <th>price_per_m2</th>\n",
       "      <th>locality_name</th>\n",
       "    </tr>\n",
       "  </thead>\n",
       "  <tbody>\n",
       "    <tr>\n",
       "      <th>Санкт-Петербург</th>\n",
       "      <td>112885.841618</td>\n",
       "      <td>12754</td>\n",
       "    </tr>\n",
       "    <tr>\n",
       "      <th>Пушкин</th>\n",
       "      <td>102460.228374</td>\n",
       "      <td>289</td>\n",
       "    </tr>\n",
       "    <tr>\n",
       "      <th>Кудрово</th>\n",
       "      <td>94093.826196</td>\n",
       "      <td>397</td>\n",
       "    </tr>\n",
       "    <tr>\n",
       "      <th>поселок Парголово</th>\n",
       "      <td>89809.931298</td>\n",
       "      <td>262</td>\n",
       "    </tr>\n",
       "    <tr>\n",
       "      <th>Мурино</th>\n",
       "      <td>85520.607422</td>\n",
       "      <td>512</td>\n",
       "    </tr>\n",
       "    <tr>\n",
       "      <th>поселок Шушары</th>\n",
       "      <td>78163.188525</td>\n",
       "      <td>366</td>\n",
       "    </tr>\n",
       "    <tr>\n",
       "      <th>Колпино</th>\n",
       "      <td>75128.315217</td>\n",
       "      <td>276</td>\n",
       "    </tr>\n",
       "    <tr>\n",
       "      <th>Всеволожск</th>\n",
       "      <td>68558.993528</td>\n",
       "      <td>309</td>\n",
       "    </tr>\n",
       "    <tr>\n",
       "      <th>Гатчина</th>\n",
       "      <td>67529.167347</td>\n",
       "      <td>245</td>\n",
       "    </tr>\n",
       "    <tr>\n",
       "      <th>Выборг</th>\n",
       "      <td>56934.284916</td>\n",
       "      <td>179</td>\n",
       "    </tr>\n",
       "  </tbody>\n",
       "</table>\n",
       "</div>"
      ],
      "text/plain": [
       "                    price_per_m2  locality_name\n",
       "Санкт-Петербург    112885.841618          12754\n",
       "Пушкин             102460.228374            289\n",
       "Кудрово             94093.826196            397\n",
       "поселок Парголово   89809.931298            262\n",
       "Мурино              85520.607422            512\n",
       "поселок Шушары      78163.188525            366\n",
       "Колпино             75128.315217            276\n",
       "Всеволожск          68558.993528            309\n",
       "Гатчина             67529.167347            245\n",
       "Выборг              56934.284916            179"
      ]
     },
     "execution_count": 37,
     "metadata": {},
     "output_type": "execute_result"
    }
   ],
   "source": [
    "top_locality = df['locality_name'].value_counts().head(10)\n",
    "top_price = df.pivot_table(index = 'locality_name', values = 'price_per_m2')\n",
    "top_locality = top_price.merge(top_locality,  how='right', left_index=True, right_index=True)\n",
    "top_locality.sort_values(by = 'price_per_m2',ascending = False)"
   ]
  },
  {
   "cell_type": "markdown",
   "metadata": {},
   "source": [
    "Самым дорогим городом по стоимости за кв.метр является Санкт-Петербург, самым дешевым из топ-10 явялется Выборг."
   ]
  },
  {
   "cell_type": "code",
   "execution_count": 38,
   "metadata": {},
   "outputs": [
    {
     "data": {
      "text/html": [
       "<div>\n",
       "<style scoped>\n",
       "    .dataframe tbody tr th:only-of-type {\n",
       "        vertical-align: middle;\n",
       "    }\n",
       "\n",
       "    .dataframe tbody tr th {\n",
       "        vertical-align: top;\n",
       "    }\n",
       "\n",
       "    .dataframe thead th {\n",
       "        text-align: right;\n",
       "    }\n",
       "</style>\n",
       "<table border=\"1\" class=\"dataframe\">\n",
       "  <thead>\n",
       "    <tr style=\"text-align: right;\">\n",
       "      <th></th>\n",
       "      <th>price_per_m2</th>\n",
       "      <th>cityCenters_nearest_km</th>\n",
       "    </tr>\n",
       "    <tr>\n",
       "      <th>cityCenters_nearest_km</th>\n",
       "      <th></th>\n",
       "      <th></th>\n",
       "    </tr>\n",
       "  </thead>\n",
       "  <tbody>\n",
       "    <tr>\n",
       "      <th>0.0</th>\n",
       "      <td>235287.444444</td>\n",
       "      <td>0.0</td>\n",
       "    </tr>\n",
       "    <tr>\n",
       "      <th>1.0</th>\n",
       "      <td>161220.238994</td>\n",
       "      <td>1.0</td>\n",
       "    </tr>\n",
       "    <tr>\n",
       "      <th>2.0</th>\n",
       "      <td>152875.120000</td>\n",
       "      <td>2.0</td>\n",
       "    </tr>\n",
       "    <tr>\n",
       "      <th>3.0</th>\n",
       "      <td>117233.838462</td>\n",
       "      <td>3.0</td>\n",
       "    </tr>\n",
       "    <tr>\n",
       "      <th>4.0</th>\n",
       "      <td>132831.028777</td>\n",
       "      <td>4.0</td>\n",
       "    </tr>\n",
       "    <tr>\n",
       "      <th>5.0</th>\n",
       "      <td>140022.979893</td>\n",
       "      <td>5.0</td>\n",
       "    </tr>\n",
       "    <tr>\n",
       "      <th>6.0</th>\n",
       "      <td>149644.442191</td>\n",
       "      <td>6.0</td>\n",
       "    </tr>\n",
       "    <tr>\n",
       "      <th>7.0</th>\n",
       "      <td>152451.211480</td>\n",
       "      <td>7.0</td>\n",
       "    </tr>\n",
       "    <tr>\n",
       "      <th>8.0</th>\n",
       "      <td>124539.877339</td>\n",
       "      <td>8.0</td>\n",
       "    </tr>\n",
       "    <tr>\n",
       "      <th>9.0</th>\n",
       "      <td>110853.589474</td>\n",
       "      <td>9.0</td>\n",
       "    </tr>\n",
       "  </tbody>\n",
       "</table>\n",
       "</div>"
      ],
      "text/plain": [
       "                         price_per_m2  cityCenters_nearest_km\n",
       "cityCenters_nearest_km                                       \n",
       "0.0                     235287.444444                     0.0\n",
       "1.0                     161220.238994                     1.0\n",
       "2.0                     152875.120000                     2.0\n",
       "3.0                     117233.838462                     3.0\n",
       "4.0                     132831.028777                     4.0\n",
       "5.0                     140022.979893                     5.0\n",
       "6.0                     149644.442191                     6.0\n",
       "7.0                     152451.211480                     7.0\n",
       "8.0                     124539.877339                     8.0\n",
       "9.0                     110853.589474                     9.0"
      ]
     },
     "execution_count": 38,
     "metadata": {},
     "output_type": "execute_result"
    }
   ],
   "source": [
    "spb = df.query('locality_name == \"Санкт-Петербург\"')\n",
    "spb_hist = spb.groupby('cityCenters_nearest_km')['price_per_m2'].mean().head(10).to_frame()\n",
    "spb_hist['cityCenters_nearest_km'] = spb_hist.index\n",
    "spb_hist"
   ]
  },
  {
   "cell_type": "code",
   "execution_count": 39,
   "metadata": {},
   "outputs": [
    {
     "data": {
      "text/plain": [
       "<AxesSubplot:xlabel='cityCenters_nearest_km'>"
      ]
     },
     "execution_count": 39,
     "metadata": {},
     "output_type": "execute_result"
    },
    {
     "data": {
      "image/png": "[encoded data removed]",
      "text/plain": [
       "<Figure size 720x720 with 1 Axes>"
      ]
     },
     "metadata": {
      "needs_background": "light"
     },
     "output_type": "display_data"
    }
   ],
   "source": [
    "spb_hist.plot(kind = 'bar', x='cityCenters_nearest_km', y='price_per_m2',figsize=(10,10), grid = True)"
   ]
  },
  {
   "cell_type": "markdown",
   "metadata": {},
   "source": [
    "Прослеживается логическая закономерность в Санкт-Петербурге: чем ближе к центру города - тем дороже стоимость за кв.метр"
   ]
  },
  {
   "cell_type": "markdown",
   "metadata": {},
   "source": [
    "### Общий вывод"
   ]
  },
  {
   "cell_type": "markdown",
   "metadata": {},
   "source": [
    "1) Больше всего влияет на цену - близость к центру, после по уменьшению влияния: кол-во комнат и этаж расположения.. \n",
    "\n",
    "2) Самый дорогой населенный пунтк в Лен.области - это Санкт-Петербург \n",
    "\n",
    "3) Лучше всего квартиры продаются на 45 и 60 день. \n",
    "\n",
    "4) В Санкт-Петебурге чем ближе к центру города - тем дороже стоимость за кв.метр и следовательно стоимость квартиры.\n"
   ]
  },
  {
   "cell_type": "markdown",
   "metadata": {},
   "source": [
    "**Чек-лист готовности проекта**\n",
    "\n",
    "Поставьте 'x' в выполненных пунктах. Далее нажмите Shift+Enter."
   ]
  },
  {
   "cell_type": "markdown",
   "metadata": {},
   "source": [
    "- [x]  открыт файл\n",
    "- [x]  файлы изучены (выведены первые строки, метод `info()`, гистограммы и т.д.)\n",
    "- [x]  определены пропущенные значения\n",
    "- [x]  заполнены пропущенные значения там, где это возможно\n",
    "- [x]  есть пояснение, какие пропущенные значения обнаружены\n",
    "- [x]  изменены типы данных\n",
    "- [x]  есть пояснение, в каких столбцах изменены типы и почему\n",
    "- [x]  устранены неявные дубликаты в названиях населённых пунктов\n",
    "- [ ]  устранены редкие и выбивающиеся значения (аномалии) во всех столбцах\n",
    "- [x]  посчитано и добавлено в таблицу: цена одного квадратного метра\n",
    "- [x]  посчитано и добавлено в таблицу: день публикации объявления (0 - понедельник, 1 - вторник и т.д.)\n",
    "- [x]  посчитано и добавлено в таблицу: месяц публикации объявления\n",
    "- [x]  посчитано и добавлено в таблицу: год публикации объявления\n",
    "- [x]  посчитано и добавлено в таблицу: тип этажа квартиры (значения — «первый», «последний», «другой»)\n",
    "- [x]  посчитано и добавлено в таблицу: расстояние в км до центра города\n",
    "- [x]  изучены и описаны следующие параметры:\n",
    "        - общая площадь;\n",
    "        - жилая площадь;\n",
    "        - площадь кухни;\n",
    "        - цена объекта;\n",
    "        - количество комнат;\n",
    "        - высота потолков;\n",
    "        - этаж квартиры;\n",
    "        - тип этажа квартиры («первый», «последний», «другой»);\n",
    "        - общее количество этажей в доме;\n",
    "        - расстояние до центра города в метрах;\n",
    "        - расстояние до ближайшего аэропорта;\n",
    "        - расстояние до ближайшего парка;\n",
    "        - день и месяц публикации объявления\n",
    "- [x]  построены гистограммы для каждого параметра\n",
    "- [x]  выполнено задание: \"Изучите, как быстро продавались квартиры (столбец days_exposition). Этот параметр показывает, сколько дней «висело» каждое объявление.\n",
    "    - Постройте гистограмму.\n",
    "    - Посчитайте среднее и медиану.\n",
    "    - В ячейке типа markdown опишите, сколько обычно занимает продажа. Какие продажи можно считать быстрыми, а какие — необычно долгими?\"\n",
    "- [x]  выполнено задание: \"Какие факторы больше всего влияют на общую (полную) стоимость объекта? Постройте графики, которые покажут зависимость цены от указанных ниже параметров. Для подготовки данных перед визуализацией вы можете использовать сводные таблицы.\"\n",
    "        - общей площади;\n",
    "        - жилой площади;\n",
    "        - площади кухни;\n",
    "        - количество комнат;\n",
    "        - типа этажа, на котором расположена квартира (первый, последний, другой);\n",
    "        - даты размещения (день недели, месяц, год);\n",
    "- [x]  выполнено задание: \"Посчитайте среднюю цену одного квадратного метра в 10 населённых пунктах с наибольшим числом объявлений. Выделите населённые пункты с самой высокой и низкой стоимостью квадратного метра. Эти данные можно найти по имени в столбце `locality_name`.\"\n",
    "- [x]  выполнено задание: \"Ранее вы посчитали расстояние до центра в километрах. Теперь выделите квартиры в Санкт-Петербурге с помощью столбца `locality_name` и вычислите среднюю цену каждого километра. Опишите, как стоимость объектов зависит от расстояния до центра города.\"\n",
    "- [x] в каждом этапе есть промежуточные выводы\n",
    "- [x] есть общий вывод"
   ]
  }
 ],
 "metadata": {
  "ExecuteTimeLog": [
   {
    "duration": 734,
    "start_time": "2022-11-06T17:15:47.567Z"
   },
   {
    "duration": 98,
    "start_time": "2022-11-06T17:15:53.227Z"
   },
   {
    "duration": 147,
    "start_time": "2022-11-06T17:16:12.957Z"
   },
   {
    "duration": 89,
    "start_time": "2022-11-06T17:18:53.804Z"
   },
   {
    "duration": 27,
    "start_time": "2022-11-06T17:19:02.603Z"
   },
   {
    "duration": 16,
    "start_time": "2022-11-06T17:19:11.059Z"
   },
   {
    "duration": 45,
    "start_time": "2022-11-08T05:33:11.381Z"
   },
   {
    "duration": 501,
    "start_time": "2022-11-08T05:33:14.646Z"
   },
   {
    "duration": 29,
    "start_time": "2022-11-08T05:33:16.040Z"
   },
   {
    "duration": 23,
    "start_time": "2022-11-08T05:33:16.192Z"
   },
   {
    "duration": 84,
    "start_time": "2022-11-08T05:33:41.041Z"
   },
   {
    "duration": 354,
    "start_time": "2022-11-08T05:33:48.425Z"
   },
   {
    "duration": 2,
    "start_time": "2022-11-08T05:33:59.090Z"
   },
   {
    "duration": 90,
    "start_time": "2022-11-08T05:33:59.405Z"
   },
   {
    "duration": 23,
    "start_time": "2022-11-08T05:33:59.878Z"
   },
   {
    "duration": 23,
    "start_time": "2022-11-08T05:34:00.621Z"
   },
   {
    "duration": 4,
    "start_time": "2022-11-08T05:34:41.041Z"
   },
   {
    "duration": 15,
    "start_time": "2022-11-08T05:34:47.019Z"
   },
   {
    "duration": 15,
    "start_time": "2022-11-08T05:35:00.987Z"
   },
   {
    "duration": 34,
    "start_time": "2022-11-08T05:35:12.225Z"
   },
   {
    "duration": 20,
    "start_time": "2022-11-08T05:35:18.551Z"
   },
   {
    "duration": 6,
    "start_time": "2022-11-08T05:35:24.187Z"
   },
   {
    "duration": 20,
    "start_time": "2022-11-08T05:35:34.015Z"
   },
   {
    "duration": 7,
    "start_time": "2022-11-08T05:35:58.145Z"
   },
   {
    "duration": 21,
    "start_time": "2022-11-08T05:36:03.071Z"
   },
   {
    "duration": 845,
    "start_time": "2022-11-08T14:03:21.502Z"
   },
   {
    "duration": 156,
    "start_time": "2022-11-08T14:03:22.349Z"
   },
   {
    "duration": 67,
    "start_time": "2022-11-08T14:03:22.894Z"
   },
   {
    "duration": 35,
    "start_time": "2022-11-08T14:03:29.978Z"
   },
   {
    "duration": 28,
    "start_time": "2022-11-08T14:03:30.132Z"
   },
   {
    "duration": 5,
    "start_time": "2022-11-08T14:03:30.809Z"
   },
   {
    "duration": 17,
    "start_time": "2022-11-08T14:03:32.376Z"
   },
   {
    "duration": 16,
    "start_time": "2022-11-08T14:03:50.908Z"
   },
   {
    "duration": 77,
    "start_time": "2022-11-08T14:04:15.626Z"
   },
   {
    "duration": 5,
    "start_time": "2022-11-08T14:04:15.902Z"
   },
   {
    "duration": 48,
    "start_time": "2022-11-08T14:08:55.615Z"
   },
   {
    "duration": 30,
    "start_time": "2022-11-08T14:09:02.976Z"
   },
   {
    "duration": 4,
    "start_time": "2022-11-08T14:10:32.076Z"
   },
   {
    "duration": 39,
    "start_time": "2022-11-08T14:12:13.205Z"
   },
   {
    "duration": 82,
    "start_time": "2022-11-08T14:12:18.262Z"
   },
   {
    "duration": 25,
    "start_time": "2022-11-08T14:12:22.134Z"
   },
   {
    "duration": 28,
    "start_time": "2022-11-08T14:12:26.141Z"
   },
   {
    "duration": 36,
    "start_time": "2022-11-08T14:12:30.892Z"
   },
   {
    "duration": 27,
    "start_time": "2022-11-08T14:12:48.178Z"
   },
   {
    "duration": 10,
    "start_time": "2022-11-08T14:14:40.095Z"
   },
   {
    "duration": 2416,
    "start_time": "2022-11-08T14:14:45.758Z"
   },
   {
    "duration": 2037,
    "start_time": "2022-11-08T14:15:11.893Z"
   },
   {
    "duration": 2405,
    "start_time": "2022-11-08T14:15:20.022Z"
   },
   {
    "duration": 2172,
    "start_time": "2022-11-08T14:15:31.279Z"
   },
   {
    "duration": 2248,
    "start_time": "2022-11-08T14:19:34.307Z"
   },
   {
    "duration": 2319,
    "start_time": "2022-11-08T14:19:41.988Z"
   },
   {
    "duration": 2232,
    "start_time": "2022-11-08T14:19:49.690Z"
   },
   {
    "duration": 2425,
    "start_time": "2022-11-08T14:19:59.610Z"
   },
   {
    "duration": 7,
    "start_time": "2022-11-08T14:36:43.182Z"
   },
   {
    "duration": 6,
    "start_time": "2022-11-08T14:37:31.571Z"
   },
   {
    "duration": 6,
    "start_time": "2022-11-08T14:38:07.613Z"
   },
   {
    "duration": 10,
    "start_time": "2022-11-08T14:39:17.341Z"
   },
   {
    "duration": 11,
    "start_time": "2022-11-08T14:39:46.307Z"
   },
   {
    "duration": 7,
    "start_time": "2022-11-08T14:39:51.851Z"
   },
   {
    "duration": 5,
    "start_time": "2022-11-08T14:39:55.658Z"
   },
   {
    "duration": 7,
    "start_time": "2022-11-08T14:39:56.008Z"
   },
   {
    "duration": 4,
    "start_time": "2022-11-08T14:39:59.326Z"
   },
   {
    "duration": 9,
    "start_time": "2022-11-08T14:40:07.632Z"
   },
   {
    "duration": 11,
    "start_time": "2022-11-08T14:40:27.958Z"
   },
   {
    "duration": 7,
    "start_time": "2022-11-08T14:40:39.764Z"
   },
   {
    "duration": 11,
    "start_time": "2022-11-08T14:40:53.080Z"
   },
   {
    "duration": 6,
    "start_time": "2022-11-08T14:42:53.018Z"
   },
   {
    "duration": 9,
    "start_time": "2022-11-08T14:43:10.770Z"
   },
   {
    "duration": 6,
    "start_time": "2022-11-08T14:43:19.306Z"
   },
   {
    "duration": 3,
    "start_time": "2022-11-08T14:45:28.945Z"
   },
   {
    "duration": 87,
    "start_time": "2022-11-08T14:45:29.106Z"
   },
   {
    "duration": 39,
    "start_time": "2022-11-08T14:45:31.696Z"
   },
   {
    "duration": 34,
    "start_time": "2022-11-08T14:45:39.187Z"
   },
   {
    "duration": 4,
    "start_time": "2022-11-08T14:45:39.539Z"
   },
   {
    "duration": 22,
    "start_time": "2022-11-08T14:45:39.882Z"
   },
   {
    "duration": 2274,
    "start_time": "2022-11-08T14:45:40.647Z"
   },
   {
    "duration": 30,
    "start_time": "2022-11-08T14:45:42.924Z"
   },
   {
    "duration": 6,
    "start_time": "2022-11-08T14:45:45.981Z"
   },
   {
    "duration": 6,
    "start_time": "2022-11-08T14:49:05.603Z"
   },
   {
    "duration": 67,
    "start_time": "2022-11-08T14:49:32.448Z"
   },
   {
    "duration": 48,
    "start_time": "2022-11-08T14:49:44.029Z"
   },
   {
    "duration": 28,
    "start_time": "2022-11-08T14:49:51.766Z"
   },
   {
    "duration": 6,
    "start_time": "2022-11-08T14:50:19.169Z"
   },
   {
    "duration": 2434,
    "start_time": "2022-11-08T14:50:21.163Z"
   },
   {
    "duration": 30,
    "start_time": "2022-11-08T14:50:23.599Z"
   },
   {
    "duration": 6,
    "start_time": "2022-11-08T14:50:27.264Z"
   },
   {
    "duration": 63,
    "start_time": "2022-11-08T16:09:25.772Z"
   },
   {
    "duration": 45,
    "start_time": "2022-11-08T16:10:37.498Z"
   },
   {
    "duration": 9,
    "start_time": "2022-11-08T16:12:28.376Z"
   },
   {
    "duration": 8,
    "start_time": "2022-11-08T16:13:03.810Z"
   },
   {
    "duration": 23,
    "start_time": "2022-11-08T16:14:23.114Z"
   },
   {
    "duration": 7,
    "start_time": "2022-11-08T16:17:30.392Z"
   },
   {
    "duration": 13,
    "start_time": "2022-11-08T16:17:44.115Z"
   },
   {
    "duration": 9,
    "start_time": "2022-11-08T16:18:04.538Z"
   },
   {
    "duration": 11,
    "start_time": "2022-11-08T16:18:09.020Z"
   },
   {
    "duration": 4,
    "start_time": "2022-11-08T16:19:12.803Z"
   },
   {
    "duration": 9,
    "start_time": "2022-11-08T16:19:16.469Z"
   },
   {
    "duration": 18,
    "start_time": "2022-11-08T16:22:44.649Z"
   },
   {
    "duration": 99,
    "start_time": "2022-11-08T16:53:31.040Z"
   },
   {
    "duration": 20,
    "start_time": "2022-11-08T16:53:41.417Z"
   },
   {
    "duration": 6,
    "start_time": "2022-11-08T17:09:42.917Z"
   },
   {
    "duration": 86,
    "start_time": "2022-11-08T17:15:29.155Z"
   },
   {
    "duration": 74,
    "start_time": "2022-11-08T17:15:38.072Z"
   },
   {
    "duration": 12,
    "start_time": "2022-11-08T17:15:43.205Z"
   },
   {
    "duration": 11,
    "start_time": "2022-11-08T17:16:32.911Z"
   },
   {
    "duration": 34,
    "start_time": "2022-11-08T17:16:49.412Z"
   },
   {
    "duration": 12,
    "start_time": "2022-11-08T17:21:27.959Z"
   },
   {
    "duration": 14,
    "start_time": "2022-11-08T17:23:51.839Z"
   },
   {
    "duration": 45,
    "start_time": "2022-11-08T18:03:25.200Z"
   },
   {
    "duration": 3,
    "start_time": "2022-11-08T18:03:41.478Z"
   },
   {
    "duration": 88,
    "start_time": "2022-11-08T18:03:41.611Z"
   },
   {
    "duration": 30,
    "start_time": "2022-11-08T18:03:41.883Z"
   },
   {
    "duration": 28,
    "start_time": "2022-11-08T18:03:42.012Z"
   },
   {
    "duration": 7,
    "start_time": "2022-11-08T18:03:42.263Z"
   },
   {
    "duration": 25,
    "start_time": "2022-11-08T18:03:42.539Z"
   },
   {
    "duration": 2346,
    "start_time": "2022-11-08T18:03:42.924Z"
   },
   {
    "duration": 25,
    "start_time": "2022-11-08T18:03:45.273Z"
   },
   {
    "duration": 7,
    "start_time": "2022-11-08T18:03:45.300Z"
   },
   {
    "duration": 67,
    "start_time": "2022-11-08T18:03:45.309Z"
   },
   {
    "duration": 9,
    "start_time": "2022-11-08T18:09:17.286Z"
   },
   {
    "duration": 20305,
    "start_time": "2022-11-08T18:09:37.762Z"
   },
   {
    "duration": 777,
    "start_time": "2022-11-10T10:43:14.437Z"
   },
   {
    "duration": 726,
    "start_time": "2022-11-10T10:43:15.217Z"
   },
   {
    "duration": 31,
    "start_time": "2022-11-10T10:43:15.945Z"
   },
   {
    "duration": 29,
    "start_time": "2022-11-10T10:43:16.920Z"
   },
   {
    "duration": 4,
    "start_time": "2022-11-10T10:43:18.390Z"
   },
   {
    "duration": 22,
    "start_time": "2022-11-10T10:43:19.774Z"
   },
   {
    "duration": 2168,
    "start_time": "2022-11-10T10:43:39.723Z"
   },
   {
    "duration": 29,
    "start_time": "2022-11-10T10:43:42.853Z"
   },
   {
    "duration": 6,
    "start_time": "2022-11-10T10:43:45.722Z"
   },
   {
    "duration": 30,
    "start_time": "2022-11-10T10:45:35.191Z"
   },
   {
    "duration": 30,
    "start_time": "2022-11-10T10:45:49.635Z"
   },
   {
    "duration": 28,
    "start_time": "2022-11-10T10:47:34.898Z"
   },
   {
    "duration": 33,
    "start_time": "2022-11-10T10:49:24.086Z"
   },
   {
    "duration": 6,
    "start_time": "2022-11-10T10:51:47.223Z"
   },
   {
    "duration": 9,
    "start_time": "2022-11-10T10:56:10.297Z"
   },
   {
    "duration": 7,
    "start_time": "2022-11-10T10:56:16.737Z"
   },
   {
    "duration": 75,
    "start_time": "2022-11-10T11:05:45.791Z"
   },
   {
    "duration": 19,
    "start_time": "2022-11-10T11:05:56.562Z"
   },
   {
    "duration": 7,
    "start_time": "2022-11-10T11:06:15.571Z"
   },
   {
    "duration": 21,
    "start_time": "2022-11-10T11:06:50.070Z"
   },
   {
    "duration": 7,
    "start_time": "2022-11-10T11:07:11.548Z"
   },
   {
    "duration": 16,
    "start_time": "2022-11-10T11:09:58.873Z"
   },
   {
    "duration": 9,
    "start_time": "2022-11-10T11:10:46.074Z"
   },
   {
    "duration": 6,
    "start_time": "2022-11-10T11:11:02.755Z"
   },
   {
    "duration": 6,
    "start_time": "2022-11-10T11:11:21.390Z"
   },
   {
    "duration": 7,
    "start_time": "2022-11-10T11:11:23.098Z"
   },
   {
    "duration": 14,
    "start_time": "2022-11-10T11:16:43.636Z"
   },
   {
    "duration": 27,
    "start_time": "2022-11-10T11:27:12.762Z"
   },
   {
    "duration": 19,
    "start_time": "2022-11-10T11:33:57.099Z"
   },
   {
    "duration": 28,
    "start_time": "2022-11-10T11:34:00.814Z"
   },
   {
    "duration": 34,
    "start_time": "2022-11-10T11:34:57.861Z"
   },
   {
    "duration": 37,
    "start_time": "2022-11-10T11:35:15.694Z"
   },
   {
    "duration": 47,
    "start_time": "2022-11-10T11:35:19.170Z"
   },
   {
    "duration": 33,
    "start_time": "2022-11-10T11:38:36.022Z"
   },
   {
    "duration": 54,
    "start_time": "2022-11-10T11:43:04.806Z"
   },
   {
    "duration": 15,
    "start_time": "2022-11-10T11:45:05.738Z"
   },
   {
    "duration": 13,
    "start_time": "2022-11-10T11:46:24.161Z"
   },
   {
    "duration": 9,
    "start_time": "2022-11-10T11:49:19.290Z"
   },
   {
    "duration": 7,
    "start_time": "2022-11-10T11:53:46.390Z"
   },
   {
    "duration": 59,
    "start_time": "2022-11-10T11:55:58.973Z"
   },
   {
    "duration": 21,
    "start_time": "2022-11-10T11:56:07.071Z"
   },
   {
    "duration": 13,
    "start_time": "2022-11-10T11:56:37.938Z"
   },
   {
    "duration": 29,
    "start_time": "2022-11-10T11:56:44.994Z"
   },
   {
    "duration": 15,
    "start_time": "2022-11-10T11:57:54.455Z"
   },
   {
    "duration": 92,
    "start_time": "2022-11-10T12:00:25.706Z"
   },
   {
    "duration": 121,
    "start_time": "2022-11-10T12:00:38.594Z"
   },
   {
    "duration": 3,
    "start_time": "2022-11-10T12:01:19.602Z"
   },
   {
    "duration": 100,
    "start_time": "2022-11-10T12:01:19.764Z"
   },
   {
    "duration": 27,
    "start_time": "2022-11-10T12:01:20.115Z"
   },
   {
    "duration": 27,
    "start_time": "2022-11-10T12:01:20.296Z"
   },
   {
    "duration": 5,
    "start_time": "2022-11-10T12:01:20.671Z"
   },
   {
    "duration": 16,
    "start_time": "2022-11-10T12:01:21.207Z"
   },
   {
    "duration": 2164,
    "start_time": "2022-11-10T12:01:21.955Z"
   },
   {
    "duration": 22,
    "start_time": "2022-11-10T12:01:24.121Z"
   },
   {
    "duration": 19,
    "start_time": "2022-11-10T12:01:24.413Z"
   },
   {
    "duration": 122,
    "start_time": "2022-11-10T12:02:24.973Z"
   },
   {
    "duration": 3,
    "start_time": "2022-11-10T12:04:49.738Z"
   },
   {
    "duration": 93,
    "start_time": "2022-11-10T12:04:50.225Z"
   },
   {
    "duration": 26,
    "start_time": "2022-11-10T12:04:50.537Z"
   },
   {
    "duration": 32,
    "start_time": "2022-11-10T12:04:50.690Z"
   },
   {
    "duration": 4,
    "start_time": "2022-11-10T12:04:50.990Z"
   },
   {
    "duration": 20,
    "start_time": "2022-11-10T12:04:51.280Z"
   },
   {
    "duration": 2208,
    "start_time": "2022-11-10T12:04:51.739Z"
   },
   {
    "duration": 30,
    "start_time": "2022-11-10T12:04:53.949Z"
   },
   {
    "duration": 27,
    "start_time": "2022-11-10T12:04:53.981Z"
   },
   {
    "duration": 16,
    "start_time": "2022-11-10T12:11:04.594Z"
   },
   {
    "duration": 30,
    "start_time": "2022-11-10T12:11:08.497Z"
   },
   {
    "duration": 22,
    "start_time": "2022-11-10T12:11:28.422Z"
   },
   {
    "duration": 39,
    "start_time": "2022-11-10T12:11:28.664Z"
   },
   {
    "duration": 135,
    "start_time": "2022-11-10T12:11:43.075Z"
   },
   {
    "duration": 152,
    "start_time": "2022-11-10T12:12:02.493Z"
   },
   {
    "duration": 2,
    "start_time": "2022-11-10T12:12:09.131Z"
   },
   {
    "duration": 97,
    "start_time": "2022-11-10T12:12:09.296Z"
   },
   {
    "duration": 26,
    "start_time": "2022-11-10T12:12:09.598Z"
   },
   {
    "duration": 27,
    "start_time": "2022-11-10T12:12:09.734Z"
   },
   {
    "duration": 3,
    "start_time": "2022-11-10T12:12:09.995Z"
   },
   {
    "duration": 16,
    "start_time": "2022-11-10T12:12:10.296Z"
   },
   {
    "duration": 2193,
    "start_time": "2022-11-10T12:12:10.755Z"
   },
   {
    "duration": 43,
    "start_time": "2022-11-10T12:12:12.950Z"
   },
   {
    "duration": 125,
    "start_time": "2022-11-10T12:12:12.995Z"
   },
   {
    "duration": 4,
    "start_time": "2022-11-10T12:13:00.364Z"
   },
   {
    "duration": 95,
    "start_time": "2022-11-10T12:13:00.700Z"
   },
   {
    "duration": 27,
    "start_time": "2022-11-10T12:13:00.991Z"
   },
   {
    "duration": 30,
    "start_time": "2022-11-10T12:13:01.263Z"
   },
   {
    "duration": 4,
    "start_time": "2022-11-10T12:13:01.513Z"
   },
   {
    "duration": 17,
    "start_time": "2022-11-10T12:13:01.821Z"
   },
   {
    "duration": 2233,
    "start_time": "2022-11-10T12:13:02.231Z"
   },
   {
    "duration": 40,
    "start_time": "2022-11-10T12:13:04.467Z"
   },
   {
    "duration": 19,
    "start_time": "2022-11-10T12:13:04.509Z"
   },
   {
    "duration": 45,
    "start_time": "2022-11-10T12:16:06.773Z"
   },
   {
    "duration": 48,
    "start_time": "2022-11-10T12:16:38.256Z"
   },
   {
    "duration": 3,
    "start_time": "2022-11-10T12:16:49.059Z"
   },
   {
    "duration": 112,
    "start_time": "2022-11-10T12:16:49.189Z"
   },
   {
    "duration": 29,
    "start_time": "2022-11-10T12:16:49.447Z"
   },
   {
    "duration": 29,
    "start_time": "2022-11-10T12:16:49.580Z"
   },
   {
    "duration": 4,
    "start_time": "2022-11-10T12:16:49.829Z"
   },
   {
    "duration": 15,
    "start_time": "2022-11-10T12:16:50.113Z"
   },
   {
    "duration": 2372,
    "start_time": "2022-11-10T12:16:50.639Z"
   },
   {
    "duration": 24,
    "start_time": "2022-11-10T12:16:53.013Z"
   },
   {
    "duration": 19,
    "start_time": "2022-11-10T12:16:53.039Z"
   },
   {
    "duration": 47,
    "start_time": "2022-11-10T12:18:24.278Z"
   },
   {
    "duration": 76,
    "start_time": "2022-11-10T12:19:12.499Z"
   },
   {
    "duration": 101,
    "start_time": "2022-11-10T12:19:43.555Z"
   },
   {
    "duration": 147,
    "start_time": "2022-11-10T12:20:19.851Z"
   },
   {
    "duration": 24,
    "start_time": "2022-11-10T12:20:51.330Z"
   },
   {
    "duration": 3,
    "start_time": "2022-11-10T12:20:56.928Z"
   },
   {
    "duration": 99,
    "start_time": "2022-11-10T12:20:57.090Z"
   },
   {
    "duration": 38,
    "start_time": "2022-11-10T12:20:57.367Z"
   },
   {
    "duration": 23,
    "start_time": "2022-11-10T12:20:57.500Z"
   },
   {
    "duration": 4,
    "start_time": "2022-11-10T12:20:57.791Z"
   },
   {
    "duration": 14,
    "start_time": "2022-11-10T12:20:58.098Z"
   },
   {
    "duration": 1899,
    "start_time": "2022-11-10T12:20:58.522Z"
   },
   {
    "duration": 21,
    "start_time": "2022-11-10T12:21:00.423Z"
   },
   {
    "duration": 18,
    "start_time": "2022-11-10T12:21:00.446Z"
   },
   {
    "duration": 44,
    "start_time": "2022-11-10T12:26:09.790Z"
   },
   {
    "duration": 57,
    "start_time": "2022-11-10T12:26:39.101Z"
   },
   {
    "duration": 70,
    "start_time": "2022-11-10T12:27:09.326Z"
   },
   {
    "duration": 105,
    "start_time": "2022-11-10T12:28:34.541Z"
   },
   {
    "duration": 98,
    "start_time": "2022-11-10T12:31:55.232Z"
   },
   {
    "duration": 95,
    "start_time": "2022-11-10T12:31:57.756Z"
   },
   {
    "duration": 305,
    "start_time": "2022-11-10T12:31:59.611Z"
   },
   {
    "duration": 99,
    "start_time": "2022-11-10T12:32:01.117Z"
   },
   {
    "duration": 82,
    "start_time": "2022-11-10T12:33:23.295Z"
   },
   {
    "duration": 2,
    "start_time": "2022-11-10T12:34:56.210Z"
   },
   {
    "duration": 93,
    "start_time": "2022-11-10T12:34:56.451Z"
   },
   {
    "duration": 27,
    "start_time": "2022-11-10T12:34:56.810Z"
   },
   {
    "duration": 30,
    "start_time": "2022-11-10T12:34:56.980Z"
   },
   {
    "duration": 4,
    "start_time": "2022-11-10T12:34:57.314Z"
   },
   {
    "duration": 17,
    "start_time": "2022-11-10T12:34:57.708Z"
   },
   {
    "duration": 2108,
    "start_time": "2022-11-10T12:34:58.258Z"
   },
   {
    "duration": 27,
    "start_time": "2022-11-10T12:35:00.369Z"
   },
   {
    "duration": 40,
    "start_time": "2022-11-10T12:35:00.398Z"
   },
   {
    "duration": 27,
    "start_time": "2022-11-10T12:35:00.441Z"
   },
   {
    "duration": 64,
    "start_time": "2022-11-10T12:35:00.469Z"
   },
   {
    "duration": 18,
    "start_time": "2022-11-10T12:36:26.078Z"
   },
   {
    "duration": 18,
    "start_time": "2022-11-10T12:40:48.224Z"
   },
   {
    "duration": 2,
    "start_time": "2022-11-10T12:40:54.273Z"
   },
   {
    "duration": 93,
    "start_time": "2022-11-10T12:40:54.415Z"
   },
   {
    "duration": 25,
    "start_time": "2022-11-10T12:40:54.716Z"
   },
   {
    "duration": 34,
    "start_time": "2022-11-10T12:40:54.868Z"
   },
   {
    "duration": 4,
    "start_time": "2022-11-10T12:40:55.149Z"
   },
   {
    "duration": 17,
    "start_time": "2022-11-10T12:40:55.440Z"
   },
   {
    "duration": 2062,
    "start_time": "2022-11-10T12:40:55.900Z"
   },
   {
    "duration": 31,
    "start_time": "2022-11-10T12:40:57.964Z"
   },
   {
    "duration": 22,
    "start_time": "2022-11-10T12:40:57.996Z"
   },
   {
    "duration": 8,
    "start_time": "2022-11-10T12:40:58.020Z"
   },
   {
    "duration": 25,
    "start_time": "2022-11-10T12:40:58.030Z"
   },
   {
    "duration": 4,
    "start_time": "2022-11-10T13:02:42.461Z"
   },
   {
    "duration": 107,
    "start_time": "2022-11-10T13:02:42.630Z"
   },
   {
    "duration": 25,
    "start_time": "2022-11-10T13:02:42.947Z"
   },
   {
    "duration": 27,
    "start_time": "2022-11-10T13:02:43.094Z"
   },
   {
    "duration": 4,
    "start_time": "2022-11-10T13:02:43.410Z"
   },
   {
    "duration": 24,
    "start_time": "2022-11-10T13:02:43.769Z"
   },
   {
    "duration": 2354,
    "start_time": "2022-11-10T13:02:44.415Z"
   },
   {
    "duration": 22,
    "start_time": "2022-11-10T13:02:47.492Z"
   },
   {
    "duration": 18,
    "start_time": "2022-11-10T13:02:47.953Z"
   },
   {
    "duration": 41,
    "start_time": "2022-11-10T13:03:37.370Z"
   },
   {
    "duration": 31,
    "start_time": "2022-11-10T13:04:20.437Z"
   },
   {
    "duration": 28,
    "start_time": "2022-11-10T13:04:37.838Z"
   },
   {
    "duration": 32,
    "start_time": "2022-11-10T13:06:43.407Z"
   },
   {
    "duration": 3,
    "start_time": "2022-11-10T13:07:22.217Z"
   },
   {
    "duration": 106,
    "start_time": "2022-11-10T13:07:22.362Z"
   },
   {
    "duration": 34,
    "start_time": "2022-11-10T13:07:22.666Z"
   },
   {
    "duration": 28,
    "start_time": "2022-11-10T13:07:22.810Z"
   },
   {
    "duration": 4,
    "start_time": "2022-11-10T13:07:23.236Z"
   },
   {
    "duration": 14,
    "start_time": "2022-11-10T13:07:23.554Z"
   },
   {
    "duration": 2040,
    "start_time": "2022-11-10T13:07:24.004Z"
   },
   {
    "duration": 33,
    "start_time": "2022-11-10T13:07:26.047Z"
   },
   {
    "duration": 24,
    "start_time": "2022-11-10T13:07:26.088Z"
   },
   {
    "duration": 19,
    "start_time": "2022-11-10T13:17:10.257Z"
   },
   {
    "duration": 38,
    "start_time": "2022-11-10T13:17:57.472Z"
   },
   {
    "duration": 33,
    "start_time": "2022-11-10T13:18:02.745Z"
   },
   {
    "duration": 2,
    "start_time": "2022-11-10T13:22:43.029Z"
   },
   {
    "duration": 103,
    "start_time": "2022-11-10T13:22:43.189Z"
   },
   {
    "duration": 28,
    "start_time": "2022-11-10T13:22:43.520Z"
   },
   {
    "duration": 31,
    "start_time": "2022-11-10T13:22:43.672Z"
   },
   {
    "duration": 4,
    "start_time": "2022-11-10T13:22:44.143Z"
   },
   {
    "duration": 15,
    "start_time": "2022-11-10T13:22:44.490Z"
   },
   {
    "duration": 2432,
    "start_time": "2022-11-10T13:22:45.019Z"
   },
   {
    "duration": 46,
    "start_time": "2022-11-10T13:22:47.453Z"
   },
   {
    "duration": 20,
    "start_time": "2022-11-10T13:22:47.501Z"
   },
   {
    "duration": 5,
    "start_time": "2022-11-10T13:27:30.613Z"
   },
   {
    "duration": 46,
    "start_time": "2022-11-10T13:27:37.774Z"
   },
   {
    "duration": 66,
    "start_time": "2022-11-10T13:28:49.940Z"
   },
   {
    "duration": 69,
    "start_time": "2022-11-10T13:28:56.233Z"
   },
   {
    "duration": 69,
    "start_time": "2022-11-10T13:29:01.540Z"
   },
   {
    "duration": 71,
    "start_time": "2022-11-10T13:29:05.593Z"
   },
   {
    "duration": 57,
    "start_time": "2022-11-10T13:38:09.192Z"
   },
   {
    "duration": 40,
    "start_time": "2022-11-10T14:18:17.367Z"
   },
   {
    "duration": 30,
    "start_time": "2022-11-10T14:18:33.031Z"
   },
   {
    "duration": 2,
    "start_time": "2022-11-10T14:18:57.812Z"
   },
   {
    "duration": 86,
    "start_time": "2022-11-10T14:18:57.908Z"
   },
   {
    "duration": 27,
    "start_time": "2022-11-10T14:18:58.129Z"
   },
   {
    "duration": 35,
    "start_time": "2022-11-10T14:18:58.274Z"
   },
   {
    "duration": 4,
    "start_time": "2022-11-10T14:18:58.490Z"
   },
   {
    "duration": 16,
    "start_time": "2022-11-10T14:18:58.741Z"
   },
   {
    "duration": 2147,
    "start_time": "2022-11-10T14:18:59.006Z"
   },
   {
    "duration": 37,
    "start_time": "2022-11-10T14:19:01.155Z"
   },
   {
    "duration": 21,
    "start_time": "2022-11-10T14:19:01.194Z"
   },
   {
    "duration": 53,
    "start_time": "2022-11-10T14:19:01.217Z"
   },
   {
    "duration": 34,
    "start_time": "2022-11-10T14:19:01.271Z"
   },
   {
    "duration": 51,
    "start_time": "2022-11-10T14:19:02.550Z"
   },
   {
    "duration": 40,
    "start_time": "2022-11-10T14:20:37.271Z"
   },
   {
    "duration": 41,
    "start_time": "2022-11-10T14:20:47.370Z"
   },
   {
    "duration": 31,
    "start_time": "2022-11-10T14:20:52.104Z"
   },
   {
    "duration": 28,
    "start_time": "2022-11-10T14:20:56.037Z"
   },
   {
    "duration": 35,
    "start_time": "2022-11-10T14:21:01.453Z"
   },
   {
    "duration": 40,
    "start_time": "2022-11-10T14:21:22.269Z"
   },
   {
    "duration": 42,
    "start_time": "2022-11-10T14:24:02.852Z"
   },
   {
    "duration": 3,
    "start_time": "2022-11-10T14:24:17.802Z"
   },
   {
    "duration": 93,
    "start_time": "2022-11-10T14:24:18.000Z"
   },
   {
    "duration": 27,
    "start_time": "2022-11-10T14:24:18.910Z"
   },
   {
    "duration": 32,
    "start_time": "2022-11-10T14:24:19.092Z"
   },
   {
    "duration": 4,
    "start_time": "2022-11-10T14:24:19.494Z"
   },
   {
    "duration": 26,
    "start_time": "2022-11-10T14:24:19.875Z"
   },
   {
    "duration": 2054,
    "start_time": "2022-11-10T14:24:20.254Z"
   },
   {
    "duration": 21,
    "start_time": "2022-11-10T14:24:22.310Z"
   },
   {
    "duration": 21,
    "start_time": "2022-11-10T14:24:22.332Z"
   },
   {
    "duration": 18,
    "start_time": "2022-11-10T14:24:44.516Z"
   },
   {
    "duration": 104,
    "start_time": "2022-11-10T14:26:22.421Z"
   },
   {
    "duration": 3,
    "start_time": "2022-11-10T14:26:47.390Z"
   },
   {
    "duration": 91,
    "start_time": "2022-11-10T14:26:47.525Z"
   },
   {
    "duration": 36,
    "start_time": "2022-11-10T14:26:47.776Z"
   },
   {
    "duration": 25,
    "start_time": "2022-11-10T14:26:47.928Z"
   },
   {
    "duration": 4,
    "start_time": "2022-11-10T14:26:48.173Z"
   },
   {
    "duration": 15,
    "start_time": "2022-11-10T14:26:48.490Z"
   },
   {
    "duration": 2409,
    "start_time": "2022-11-10T14:26:48.765Z"
   },
   {
    "duration": 32,
    "start_time": "2022-11-10T14:26:51.176Z"
   },
   {
    "duration": 21,
    "start_time": "2022-11-10T14:26:51.210Z"
   },
   {
    "duration": 131,
    "start_time": "2022-11-10T14:26:51.234Z"
   },
   {
    "duration": 17,
    "start_time": "2022-11-10T14:26:51.367Z"
   },
   {
    "duration": 39,
    "start_time": "2022-11-10T14:26:53.020Z"
   },
   {
    "duration": 3,
    "start_time": "2022-11-10T14:29:40.162Z"
   },
   {
    "duration": 107,
    "start_time": "2022-11-10T14:29:40.312Z"
   },
   {
    "duration": 39,
    "start_time": "2022-11-10T14:29:40.596Z"
   },
   {
    "duration": 27,
    "start_time": "2022-11-10T14:29:40.747Z"
   },
   {
    "duration": 6,
    "start_time": "2022-11-10T14:29:41.064Z"
   },
   {
    "duration": 16,
    "start_time": "2022-11-10T14:29:41.410Z"
   },
   {
    "duration": 2285,
    "start_time": "2022-11-10T14:29:42.068Z"
   },
   {
    "duration": 25,
    "start_time": "2022-11-10T14:29:45.160Z"
   },
   {
    "duration": 2,
    "start_time": "2022-11-10T14:32:09.518Z"
   },
   {
    "duration": 98,
    "start_time": "2022-11-10T14:32:09.678Z"
   },
   {
    "duration": 30,
    "start_time": "2022-11-10T14:32:10.262Z"
   },
   {
    "duration": 26,
    "start_time": "2022-11-10T14:32:10.421Z"
   },
   {
    "duration": 6,
    "start_time": "2022-11-10T14:32:10.691Z"
   },
   {
    "duration": 22,
    "start_time": "2022-11-10T14:32:10.966Z"
   },
   {
    "duration": 2103,
    "start_time": "2022-11-10T14:32:11.266Z"
   },
   {
    "duration": 32,
    "start_time": "2022-11-10T14:32:13.371Z"
   },
   {
    "duration": 19,
    "start_time": "2022-11-10T14:32:13.404Z"
   },
   {
    "duration": 12,
    "start_time": "2022-11-10T14:32:23.454Z"
   },
   {
    "duration": 28,
    "start_time": "2022-11-10T14:33:13.616Z"
   },
   {
    "duration": 130,
    "start_time": "2022-11-10T14:33:25.379Z"
   },
   {
    "duration": 99,
    "start_time": "2022-11-10T14:33:44.503Z"
   },
   {
    "duration": 6,
    "start_time": "2022-11-10T14:34:13.593Z"
   },
   {
    "duration": 95,
    "start_time": "2022-11-10T14:34:13.731Z"
   },
   {
    "duration": 27,
    "start_time": "2022-11-10T14:34:14.035Z"
   },
   {
    "duration": 27,
    "start_time": "2022-11-10T14:34:14.200Z"
   },
   {
    "duration": 3,
    "start_time": "2022-11-10T14:34:14.461Z"
   },
   {
    "duration": 21,
    "start_time": "2022-11-10T14:34:14.769Z"
   },
   {
    "duration": 2188,
    "start_time": "2022-11-10T14:34:15.067Z"
   },
   {
    "duration": 40,
    "start_time": "2022-11-10T14:34:17.257Z"
   },
   {
    "duration": 24,
    "start_time": "2022-11-10T14:34:19.903Z"
   },
   {
    "duration": 136,
    "start_time": "2022-11-10T14:34:42.211Z"
   },
   {
    "duration": 129,
    "start_time": "2022-11-10T14:40:59.267Z"
   },
   {
    "duration": 119,
    "start_time": "2022-11-10T14:41:01.848Z"
   },
   {
    "duration": 6,
    "start_time": "2022-11-10T14:41:12.199Z"
   },
   {
    "duration": 3,
    "start_time": "2022-11-10T14:41:48.203Z"
   },
   {
    "duration": 92,
    "start_time": "2022-11-10T14:41:48.345Z"
   },
   {
    "duration": 28,
    "start_time": "2022-11-10T14:41:48.794Z"
   },
   {
    "duration": 29,
    "start_time": "2022-11-10T14:41:48.936Z"
   },
   {
    "duration": 4,
    "start_time": "2022-11-10T14:41:49.210Z"
   },
   {
    "duration": 15,
    "start_time": "2022-11-10T14:41:49.555Z"
   },
   {
    "duration": 2539,
    "start_time": "2022-11-10T14:41:49.835Z"
   },
   {
    "duration": 38,
    "start_time": "2022-11-10T14:41:52.378Z"
   },
   {
    "duration": 44,
    "start_time": "2022-11-10T14:41:52.418Z"
   },
   {
    "duration": 160,
    "start_time": "2022-11-10T14:41:52.464Z"
   },
   {
    "duration": 31,
    "start_time": "2022-11-10T14:42:05.572Z"
   },
   {
    "duration": 128,
    "start_time": "2022-11-10T14:42:06.668Z"
   },
   {
    "duration": 130,
    "start_time": "2022-11-10T14:42:17.798Z"
   },
   {
    "duration": 115,
    "start_time": "2022-11-10T14:42:19.231Z"
   },
   {
    "duration": 120,
    "start_time": "2022-11-10T14:42:20.607Z"
   },
   {
    "duration": 108,
    "start_time": "2022-11-10T14:42:23.811Z"
   },
   {
    "duration": 16,
    "start_time": "2022-11-10T14:42:41.729Z"
   },
   {
    "duration": 20,
    "start_time": "2022-11-10T14:53:38.273Z"
   },
   {
    "duration": 115,
    "start_time": "2022-11-10T14:57:04.087Z"
   },
   {
    "duration": 113,
    "start_time": "2022-11-10T15:00:49.726Z"
   },
   {
    "duration": 127,
    "start_time": "2022-11-10T15:03:40.699Z"
   },
   {
    "duration": 11,
    "start_time": "2022-11-10T15:04:11.591Z"
   },
   {
    "duration": 2,
    "start_time": "2022-11-10T15:04:43.737Z"
   },
   {
    "duration": 98,
    "start_time": "2022-11-10T15:04:43.844Z"
   },
   {
    "duration": 26,
    "start_time": "2022-11-10T15:04:44.107Z"
   },
   {
    "duration": 25,
    "start_time": "2022-11-10T15:04:44.245Z"
   },
   {
    "duration": 11,
    "start_time": "2022-11-10T15:04:44.479Z"
   },
   {
    "duration": 14,
    "start_time": "2022-11-10T15:04:44.744Z"
   },
   {
    "duration": 2300,
    "start_time": "2022-11-10T15:04:45.164Z"
   },
   {
    "duration": 55,
    "start_time": "2022-11-10T15:04:47.467Z"
   },
   {
    "duration": 32,
    "start_time": "2022-11-10T15:04:47.524Z"
   },
   {
    "duration": 131,
    "start_time": "2022-11-10T15:04:55.850Z"
   },
   {
    "duration": 158,
    "start_time": "2022-11-10T15:05:06.270Z"
   },
   {
    "duration": 8,
    "start_time": "2022-11-10T15:05:18.420Z"
   },
   {
    "duration": 2,
    "start_time": "2022-11-10T15:06:13.554Z"
   },
   {
    "duration": 89,
    "start_time": "2022-11-10T15:06:13.678Z"
   },
   {
    "duration": 27,
    "start_time": "2022-11-10T15:06:13.964Z"
   },
   {
    "duration": 25,
    "start_time": "2022-11-10T15:06:14.121Z"
   },
   {
    "duration": 4,
    "start_time": "2022-11-10T15:06:14.394Z"
   },
   {
    "duration": 14,
    "start_time": "2022-11-10T15:06:14.712Z"
   },
   {
    "duration": 1993,
    "start_time": "2022-11-10T15:06:15.122Z"
   },
   {
    "duration": 23,
    "start_time": "2022-11-10T15:06:17.190Z"
   },
   {
    "duration": 19,
    "start_time": "2022-11-10T15:06:17.514Z"
   },
   {
    "duration": 22,
    "start_time": "2022-11-10T15:06:20.230Z"
   },
   {
    "duration": 135,
    "start_time": "2022-11-10T15:06:31.791Z"
   },
   {
    "duration": 682,
    "start_time": "2022-11-10T15:08:11.891Z"
   },
   {
    "duration": 124,
    "start_time": "2022-11-10T15:08:12.577Z"
   },
   {
    "duration": 40,
    "start_time": "2022-11-10T15:08:12.703Z"
   },
   {
    "duration": 49,
    "start_time": "2022-11-10T15:08:12.745Z"
   },
   {
    "duration": 11,
    "start_time": "2022-11-10T15:08:12.796Z"
   },
   {
    "duration": 22,
    "start_time": "2022-11-10T15:08:12.808Z"
   },
   {
    "duration": 2038,
    "start_time": "2022-11-10T15:08:12.831Z"
   },
   {
    "duration": 32,
    "start_time": "2022-11-10T15:08:14.871Z"
   },
   {
    "duration": 18,
    "start_time": "2022-11-10T15:08:14.905Z"
   },
   {
    "duration": 137,
    "start_time": "2022-11-10T15:08:14.924Z"
   },
   {
    "duration": 5,
    "start_time": "2022-11-10T15:08:15.062Z"
   },
   {
    "duration": 81,
    "start_time": "2022-11-10T15:08:15.069Z"
   },
   {
    "duration": 625,
    "start_time": "2022-11-10T15:09:47.010Z"
   },
   {
    "duration": 105,
    "start_time": "2022-11-10T15:09:47.637Z"
   },
   {
    "duration": 48,
    "start_time": "2022-11-10T15:09:47.743Z"
   },
   {
    "duration": 25,
    "start_time": "2022-11-10T15:09:47.793Z"
   },
   {
    "duration": 13,
    "start_time": "2022-11-10T15:09:47.820Z"
   },
   {
    "duration": 41,
    "start_time": "2022-11-10T15:09:47.835Z"
   },
   {
    "duration": 2139,
    "start_time": "2022-11-10T15:09:47.878Z"
   },
   {
    "duration": 24,
    "start_time": "2022-11-10T15:09:50.019Z"
   },
   {
    "duration": 18,
    "start_time": "2022-11-10T15:09:50.044Z"
   },
   {
    "duration": 162,
    "start_time": "2022-11-10T15:09:50.065Z"
   },
   {
    "duration": 5,
    "start_time": "2022-11-10T15:09:50.229Z"
   },
   {
    "duration": 61,
    "start_time": "2022-11-10T15:09:50.236Z"
   },
   {
    "duration": 734,
    "start_time": "2022-11-10T15:13:22.156Z"
   },
   {
    "duration": 105,
    "start_time": "2022-11-10T15:13:22.898Z"
   },
   {
    "duration": 29,
    "start_time": "2022-11-10T15:13:23.005Z"
   },
   {
    "duration": 26,
    "start_time": "2022-11-10T15:13:23.036Z"
   },
   {
    "duration": 19,
    "start_time": "2022-11-10T15:13:23.064Z"
   },
   {
    "duration": 32,
    "start_time": "2022-11-10T15:13:23.091Z"
   },
   {
    "duration": 2108,
    "start_time": "2022-11-10T15:13:23.125Z"
   },
   {
    "duration": 25,
    "start_time": "2022-11-10T15:13:25.235Z"
   },
   {
    "duration": 22,
    "start_time": "2022-11-10T15:13:25.261Z"
   },
   {
    "duration": 209,
    "start_time": "2022-11-10T15:13:25.291Z"
   },
   {
    "duration": 7,
    "start_time": "2022-11-10T15:13:25.502Z"
   },
   {
    "duration": 59,
    "start_time": "2022-11-10T15:13:25.511Z"
   },
   {
    "duration": 9,
    "start_time": "2022-11-10T15:22:00.392Z"
   },
   {
    "duration": 5,
    "start_time": "2022-11-10T15:22:27.833Z"
   },
   {
    "duration": 42,
    "start_time": "2022-11-10T15:22:29.762Z"
   },
   {
    "duration": 696,
    "start_time": "2022-11-10T15:22:38.393Z"
   },
   {
    "duration": 110,
    "start_time": "2022-11-10T15:22:39.091Z"
   },
   {
    "duration": 30,
    "start_time": "2022-11-10T15:22:39.203Z"
   },
   {
    "duration": 24,
    "start_time": "2022-11-10T15:22:39.235Z"
   },
   {
    "duration": 47,
    "start_time": "2022-11-10T15:22:39.261Z"
   },
   {
    "duration": 17,
    "start_time": "2022-11-10T15:22:39.310Z"
   },
   {
    "duration": 2200,
    "start_time": "2022-11-10T15:22:39.329Z"
   },
   {
    "duration": 25,
    "start_time": "2022-11-10T15:22:41.531Z"
   },
   {
    "duration": 18,
    "start_time": "2022-11-10T15:22:41.558Z"
   },
   {
    "duration": 144,
    "start_time": "2022-11-10T15:22:41.577Z"
   },
   {
    "duration": 8,
    "start_time": "2022-11-10T15:22:41.722Z"
   },
   {
    "duration": 19,
    "start_time": "2022-11-10T15:22:41.732Z"
   },
   {
    "duration": 48,
    "start_time": "2022-11-10T15:22:41.753Z"
   },
   {
    "duration": 173,
    "start_time": "2022-11-10T15:26:30.334Z"
   },
   {
    "duration": 13,
    "start_time": "2022-11-10T15:26:34.996Z"
   },
   {
    "duration": 622,
    "start_time": "2022-11-10T15:27:41.706Z"
   },
   {
    "duration": 109,
    "start_time": "2022-11-10T15:27:42.330Z"
   },
   {
    "duration": 38,
    "start_time": "2022-11-10T15:27:42.442Z"
   },
   {
    "duration": 51,
    "start_time": "2022-11-10T15:27:42.482Z"
   },
   {
    "duration": 15,
    "start_time": "2022-11-10T15:27:42.536Z"
   },
   {
    "duration": 56,
    "start_time": "2022-11-10T15:27:42.553Z"
   },
   {
    "duration": 2098,
    "start_time": "2022-11-10T15:27:42.611Z"
   },
   {
    "duration": 24,
    "start_time": "2022-11-10T15:27:44.711Z"
   },
   {
    "duration": 17,
    "start_time": "2022-11-10T15:27:44.737Z"
   },
   {
    "duration": 160,
    "start_time": "2022-11-10T15:27:44.755Z"
   },
   {
    "duration": 8,
    "start_time": "2022-11-10T15:27:44.916Z"
   },
   {
    "duration": 20,
    "start_time": "2022-11-10T15:27:44.925Z"
   },
   {
    "duration": 47,
    "start_time": "2022-11-10T15:27:44.947Z"
   },
   {
    "duration": 625,
    "start_time": "2022-11-10T15:28:40.980Z"
   },
   {
    "duration": 96,
    "start_time": "2022-11-10T15:28:41.607Z"
   },
   {
    "duration": 28,
    "start_time": "2022-11-10T15:28:41.708Z"
   },
   {
    "duration": 52,
    "start_time": "2022-11-10T15:28:41.737Z"
   },
   {
    "duration": 4,
    "start_time": "2022-11-10T15:28:41.790Z"
   },
   {
    "duration": 20,
    "start_time": "2022-11-10T15:28:41.796Z"
   },
   {
    "duration": 2211,
    "start_time": "2022-11-10T15:28:41.818Z"
   },
   {
    "duration": 26,
    "start_time": "2022-11-10T15:28:44.031Z"
   },
   {
    "duration": 29,
    "start_time": "2022-11-10T15:28:44.059Z"
   },
   {
    "duration": 163,
    "start_time": "2022-11-10T15:28:44.094Z"
   },
   {
    "duration": 8,
    "start_time": "2022-11-10T15:28:44.259Z"
   },
   {
    "duration": 27,
    "start_time": "2022-11-10T15:28:44.269Z"
   },
   {
    "duration": 45,
    "start_time": "2022-11-10T15:28:44.297Z"
   },
   {
    "duration": 2673,
    "start_time": "2022-11-10T15:38:51.290Z"
   },
   {
    "duration": 22,
    "start_time": "2022-11-10T15:38:54.524Z"
   },
   {
    "duration": 19,
    "start_time": "2022-11-10T15:38:57.626Z"
   },
   {
    "duration": 628,
    "start_time": "2022-11-10T15:41:16.713Z"
   },
   {
    "duration": 103,
    "start_time": "2022-11-10T15:41:17.343Z"
   },
   {
    "duration": 46,
    "start_time": "2022-11-10T15:41:17.448Z"
   },
   {
    "duration": 45,
    "start_time": "2022-11-10T15:41:17.495Z"
   },
   {
    "duration": 16,
    "start_time": "2022-11-10T15:41:17.543Z"
   },
   {
    "duration": 28,
    "start_time": "2022-11-10T15:41:17.561Z"
   },
   {
    "duration": 2114,
    "start_time": "2022-11-10T15:41:17.591Z"
   },
   {
    "duration": 30,
    "start_time": "2022-11-10T15:41:19.707Z"
   },
   {
    "duration": 21,
    "start_time": "2022-11-10T15:41:19.739Z"
   },
   {
    "duration": 200,
    "start_time": "2022-11-10T15:41:19.762Z"
   },
   {
    "duration": 8,
    "start_time": "2022-11-10T15:41:19.963Z"
   },
   {
    "duration": 20,
    "start_time": "2022-11-10T15:41:19.979Z"
   },
   {
    "duration": 53,
    "start_time": "2022-11-10T15:41:20.001Z"
   },
   {
    "duration": 26,
    "start_time": "2022-11-10T15:41:58.022Z"
   },
   {
    "duration": 77,
    "start_time": "2022-11-10T15:44:36.594Z"
   },
   {
    "duration": 38,
    "start_time": "2022-11-10T15:45:04.464Z"
   },
   {
    "duration": 33,
    "start_time": "2022-11-10T15:45:17.131Z"
   },
   {
    "duration": 24,
    "start_time": "2022-11-10T15:45:30.005Z"
   },
   {
    "duration": 661,
    "start_time": "2022-11-10T15:45:37.010Z"
   },
   {
    "duration": 104,
    "start_time": "2022-11-10T15:45:37.673Z"
   },
   {
    "duration": 43,
    "start_time": "2022-11-10T15:45:37.779Z"
   },
   {
    "duration": 31,
    "start_time": "2022-11-10T15:45:37.824Z"
   },
   {
    "duration": 18,
    "start_time": "2022-11-10T15:45:37.858Z"
   },
   {
    "duration": 47,
    "start_time": "2022-11-10T15:45:37.878Z"
   },
   {
    "duration": 2322,
    "start_time": "2022-11-10T15:45:37.927Z"
   },
   {
    "duration": 24,
    "start_time": "2022-11-10T15:45:40.251Z"
   },
   {
    "duration": 36,
    "start_time": "2022-11-10T15:45:40.277Z"
   },
   {
    "duration": 189,
    "start_time": "2022-11-10T15:45:40.315Z"
   },
   {
    "duration": 8,
    "start_time": "2022-11-10T15:45:40.506Z"
   },
   {
    "duration": 24,
    "start_time": "2022-11-10T15:45:40.516Z"
   },
   {
    "duration": 63,
    "start_time": "2022-11-10T15:45:40.542Z"
   },
   {
    "duration": 37,
    "start_time": "2022-11-10T15:45:40.611Z"
   },
   {
    "duration": 52,
    "start_time": "2022-11-10T15:46:46.509Z"
   },
   {
    "duration": 81,
    "start_time": "2022-11-10T15:47:04.465Z"
   },
   {
    "duration": 18,
    "start_time": "2022-11-10T15:47:10.372Z"
   },
   {
    "duration": 14,
    "start_time": "2022-11-10T15:47:21.238Z"
   },
   {
    "duration": 14,
    "start_time": "2022-11-10T15:48:00.458Z"
   },
   {
    "duration": 14,
    "start_time": "2022-11-10T15:48:04.826Z"
   },
   {
    "duration": 57,
    "start_time": "2022-11-10T15:48:14.241Z"
   },
   {
    "duration": 60,
    "start_time": "2022-11-10T15:48:45.968Z"
   },
   {
    "duration": 49,
    "start_time": "2022-11-10T15:49:11.127Z"
   },
   {
    "duration": 62,
    "start_time": "2022-11-10T15:51:55.446Z"
   },
   {
    "duration": 53,
    "start_time": "2022-11-10T15:51:59.826Z"
   },
   {
    "duration": 67,
    "start_time": "2022-11-10T15:52:14.635Z"
   },
   {
    "duration": 50,
    "start_time": "2022-11-10T15:53:35.621Z"
   },
   {
    "duration": 33,
    "start_time": "2022-11-10T15:54:13.224Z"
   },
   {
    "duration": 61,
    "start_time": "2022-11-10T15:54:20.571Z"
   },
   {
    "duration": 60,
    "start_time": "2022-11-10T15:55:48.023Z"
   },
   {
    "duration": 652,
    "start_time": "2022-11-10T15:56:55.005Z"
   },
   {
    "duration": 103,
    "start_time": "2022-11-10T15:56:55.660Z"
   },
   {
    "duration": 77,
    "start_time": "2022-11-10T15:56:55.765Z"
   },
   {
    "duration": 46,
    "start_time": "2022-11-10T15:56:55.844Z"
   },
   {
    "duration": 15,
    "start_time": "2022-11-10T15:56:55.897Z"
   },
   {
    "duration": 38,
    "start_time": "2022-11-10T15:56:55.914Z"
   },
   {
    "duration": 2168,
    "start_time": "2022-11-10T15:56:55.954Z"
   },
   {
    "duration": 26,
    "start_time": "2022-11-10T15:56:58.123Z"
   },
   {
    "duration": 39,
    "start_time": "2022-11-10T15:56:58.151Z"
   },
   {
    "duration": 178,
    "start_time": "2022-11-10T15:56:58.195Z"
   },
   {
    "duration": 24,
    "start_time": "2022-11-10T15:56:58.374Z"
   },
   {
    "duration": 25,
    "start_time": "2022-11-10T15:56:58.400Z"
   },
   {
    "duration": 97,
    "start_time": "2022-11-10T15:56:58.427Z"
   },
   {
    "duration": 28,
    "start_time": "2022-11-10T15:56:58.528Z"
   },
   {
    "duration": 678,
    "start_time": "2022-11-10T15:57:08.424Z"
   },
   {
    "duration": 105,
    "start_time": "2022-11-10T15:57:09.104Z"
   },
   {
    "duration": 38,
    "start_time": "2022-11-10T15:57:09.210Z"
   },
   {
    "duration": 52,
    "start_time": "2022-11-10T15:57:09.250Z"
   },
   {
    "duration": 24,
    "start_time": "2022-11-10T15:57:09.306Z"
   },
   {
    "duration": 37,
    "start_time": "2022-11-10T15:57:09.333Z"
   },
   {
    "duration": 2197,
    "start_time": "2022-11-10T15:57:09.373Z"
   },
   {
    "duration": 39,
    "start_time": "2022-11-10T15:57:11.572Z"
   },
   {
    "duration": 32,
    "start_time": "2022-11-10T15:57:11.613Z"
   },
   {
    "duration": 204,
    "start_time": "2022-11-10T15:57:11.647Z"
   },
   {
    "duration": 14,
    "start_time": "2022-11-10T15:57:11.853Z"
   },
   {
    "duration": 22,
    "start_time": "2022-11-10T15:57:11.879Z"
   },
   {
    "duration": 53,
    "start_time": "2022-11-10T15:57:11.903Z"
   },
   {
    "duration": 37,
    "start_time": "2022-11-10T15:57:11.958Z"
   },
   {
    "duration": 42,
    "start_time": "2022-11-10T15:58:12.760Z"
   },
   {
    "duration": 16,
    "start_time": "2022-11-10T15:58:44.057Z"
   },
   {
    "duration": 82,
    "start_time": "2022-11-10T15:59:13.949Z"
   },
   {
    "duration": 39,
    "start_time": "2022-11-10T15:59:29.570Z"
   },
   {
    "duration": 38,
    "start_time": "2022-11-10T15:59:45.307Z"
   },
   {
    "duration": 615,
    "start_time": "2022-11-10T16:01:07.806Z"
   },
   {
    "duration": 99,
    "start_time": "2022-11-10T16:01:08.423Z"
   },
   {
    "duration": 30,
    "start_time": "2022-11-10T16:01:08.524Z"
   },
   {
    "duration": 43,
    "start_time": "2022-11-10T16:01:08.556Z"
   },
   {
    "duration": 20,
    "start_time": "2022-11-10T16:01:08.601Z"
   },
   {
    "duration": 36,
    "start_time": "2022-11-10T16:01:08.623Z"
   },
   {
    "duration": 2193,
    "start_time": "2022-11-10T16:01:08.661Z"
   },
   {
    "duration": 42,
    "start_time": "2022-11-10T16:01:10.856Z"
   },
   {
    "duration": 32,
    "start_time": "2022-11-10T16:01:10.901Z"
   },
   {
    "duration": 189,
    "start_time": "2022-11-10T16:01:10.936Z"
   },
   {
    "duration": 8,
    "start_time": "2022-11-10T16:01:11.126Z"
   },
   {
    "duration": 18,
    "start_time": "2022-11-10T16:01:11.136Z"
   },
   {
    "duration": 73,
    "start_time": "2022-11-10T16:01:11.156Z"
   },
   {
    "duration": 27,
    "start_time": "2022-11-10T16:01:11.230Z"
   },
   {
    "duration": 51,
    "start_time": "2022-11-10T16:02:29.157Z"
   },
   {
    "duration": 30,
    "start_time": "2022-11-10T16:02:41.854Z"
   },
   {
    "duration": 72,
    "start_time": "2022-11-10T16:09:31.722Z"
   },
   {
    "duration": 26,
    "start_time": "2022-11-10T16:09:42.828Z"
   },
   {
    "duration": 28,
    "start_time": "2022-11-10T16:12:02.227Z"
   },
   {
    "duration": 31,
    "start_time": "2022-11-10T16:12:15.041Z"
   },
   {
    "duration": 1208,
    "start_time": "2022-11-10T16:13:27.765Z"
   },
   {
    "duration": 1201,
    "start_time": "2022-11-10T16:15:03.265Z"
   },
   {
    "duration": 909,
    "start_time": "2022-11-10T16:15:25.539Z"
   },
   {
    "duration": 219,
    "start_time": "2022-11-10T16:15:50.873Z"
   },
   {
    "duration": 224,
    "start_time": "2022-11-10T16:16:03.899Z"
   },
   {
    "duration": 226,
    "start_time": "2022-11-10T16:16:31.598Z"
   },
   {
    "duration": 59,
    "start_time": "2022-11-10T16:20:16.958Z"
   },
   {
    "duration": 211,
    "start_time": "2022-11-10T16:20:21.125Z"
   },
   {
    "duration": 974,
    "start_time": "2022-11-10T16:20:32.025Z"
   },
   {
    "duration": 949,
    "start_time": "2022-11-10T16:20:45.395Z"
   },
   {
    "duration": 60,
    "start_time": "2022-11-10T16:28:24.844Z"
   },
   {
    "duration": 428,
    "start_time": "2022-11-10T16:28:29.740Z"
   },
   {
    "duration": 27,
    "start_time": "2022-11-10T16:30:22.971Z"
   },
   {
    "duration": 873,
    "start_time": "2022-11-10T16:31:21.657Z"
   },
   {
    "duration": 18,
    "start_time": "2022-11-10T16:31:32.904Z"
   },
   {
    "duration": 30,
    "start_time": "2022-11-10T16:31:56.660Z"
   },
   {
    "duration": 141,
    "start_time": "2022-11-10T16:32:58.810Z"
   },
   {
    "duration": 14,
    "start_time": "2022-11-10T16:35:03.703Z"
   },
   {
    "duration": 29,
    "start_time": "2022-11-10T16:35:08.214Z"
   },
   {
    "duration": 648,
    "start_time": "2022-11-10T16:36:59.895Z"
   },
   {
    "duration": 103,
    "start_time": "2022-11-10T16:37:00.546Z"
   },
   {
    "duration": 49,
    "start_time": "2022-11-10T16:37:00.650Z"
   },
   {
    "duration": 36,
    "start_time": "2022-11-10T16:37:00.701Z"
   },
   {
    "duration": 64,
    "start_time": "2022-11-10T16:37:00.739Z"
   },
   {
    "duration": 76,
    "start_time": "2022-11-10T16:37:00.805Z"
   },
   {
    "duration": 2336,
    "start_time": "2022-11-10T16:37:00.883Z"
   },
   {
    "duration": 27,
    "start_time": "2022-11-10T16:37:03.221Z"
   },
   {
    "duration": 24,
    "start_time": "2022-11-10T16:37:03.250Z"
   },
   {
    "duration": 199,
    "start_time": "2022-11-10T16:37:03.277Z"
   },
   {
    "duration": 18,
    "start_time": "2022-11-10T16:37:03.477Z"
   },
   {
    "duration": 51,
    "start_time": "2022-11-10T16:37:03.501Z"
   },
   {
    "duration": 108,
    "start_time": "2022-11-10T16:37:03.556Z"
   },
   {
    "duration": 43,
    "start_time": "2022-11-10T16:37:03.666Z"
   },
   {
    "duration": 643,
    "start_time": "2022-11-10T16:37:22.504Z"
   },
   {
    "duration": 100,
    "start_time": "2022-11-10T16:37:23.149Z"
   },
   {
    "duration": 42,
    "start_time": "2022-11-10T16:37:23.251Z"
   },
   {
    "duration": 24,
    "start_time": "2022-11-10T16:37:23.294Z"
   },
   {
    "duration": 18,
    "start_time": "2022-11-10T16:37:23.320Z"
   },
   {
    "duration": 34,
    "start_time": "2022-11-10T16:37:23.340Z"
   },
   {
    "duration": 2202,
    "start_time": "2022-11-10T16:37:23.375Z"
   },
   {
    "duration": 30,
    "start_time": "2022-11-10T16:37:25.579Z"
   },
   {
    "duration": 20,
    "start_time": "2022-11-10T16:37:25.611Z"
   },
   {
    "duration": 192,
    "start_time": "2022-11-10T16:37:25.633Z"
   },
   {
    "duration": 8,
    "start_time": "2022-11-10T16:37:25.826Z"
   },
   {
    "duration": 16,
    "start_time": "2022-11-10T16:37:25.835Z"
   },
   {
    "duration": 61,
    "start_time": "2022-11-10T16:37:25.853Z"
   },
   {
    "duration": 32,
    "start_time": "2022-11-10T16:37:25.916Z"
   },
   {
    "duration": 32,
    "start_time": "2022-11-10T16:39:04.085Z"
   },
   {
    "duration": 689,
    "start_time": "2022-11-10T16:43:08.538Z"
   },
   {
    "duration": 105,
    "start_time": "2022-11-10T16:43:09.230Z"
   },
   {
    "duration": 30,
    "start_time": "2022-11-10T16:43:09.336Z"
   },
   {
    "duration": 40,
    "start_time": "2022-11-10T16:43:09.367Z"
   },
   {
    "duration": 13,
    "start_time": "2022-11-10T16:43:09.410Z"
   },
   {
    "duration": 31,
    "start_time": "2022-11-10T16:43:09.425Z"
   },
   {
    "duration": 2137,
    "start_time": "2022-11-10T16:43:09.458Z"
   },
   {
    "duration": 27,
    "start_time": "2022-11-10T16:43:11.597Z"
   },
   {
    "duration": 28,
    "start_time": "2022-11-10T16:43:11.625Z"
   },
   {
    "duration": 186,
    "start_time": "2022-11-10T16:43:11.656Z"
   },
   {
    "duration": 12,
    "start_time": "2022-11-10T16:43:11.845Z"
   },
   {
    "duration": 31,
    "start_time": "2022-11-10T16:43:11.860Z"
   },
   {
    "duration": 53,
    "start_time": "2022-11-10T16:43:11.894Z"
   },
   {
    "duration": 38,
    "start_time": "2022-11-10T16:43:11.950Z"
   },
   {
    "duration": 652,
    "start_time": "2022-11-10T16:44:05.257Z"
   },
   {
    "duration": 103,
    "start_time": "2022-11-10T16:44:05.911Z"
   },
   {
    "duration": 31,
    "start_time": "2022-11-10T16:44:06.016Z"
   },
   {
    "duration": 49,
    "start_time": "2022-11-10T16:44:06.049Z"
   },
   {
    "duration": 5,
    "start_time": "2022-11-10T16:44:06.100Z"
   },
   {
    "duration": 29,
    "start_time": "2022-11-10T16:44:06.107Z"
   },
   {
    "duration": 2191,
    "start_time": "2022-11-10T16:44:06.138Z"
   },
   {
    "duration": 25,
    "start_time": "2022-11-10T16:44:08.331Z"
   },
   {
    "duration": 18,
    "start_time": "2022-11-10T16:44:08.358Z"
   },
   {
    "duration": 171,
    "start_time": "2022-11-10T16:44:08.378Z"
   },
   {
    "duration": 11,
    "start_time": "2022-11-10T16:44:08.551Z"
   },
   {
    "duration": 38,
    "start_time": "2022-11-10T16:44:08.564Z"
   },
   {
    "duration": 60,
    "start_time": "2022-11-10T16:44:08.604Z"
   },
   {
    "duration": 40,
    "start_time": "2022-11-10T16:44:08.668Z"
   },
   {
    "duration": 9,
    "start_time": "2022-11-10T16:45:09.306Z"
   },
   {
    "duration": 646,
    "start_time": "2022-11-10T17:18:38.465Z"
   },
   {
    "duration": 99,
    "start_time": "2022-11-10T17:18:39.114Z"
   },
   {
    "duration": 27,
    "start_time": "2022-11-10T17:18:39.215Z"
   },
   {
    "duration": 50,
    "start_time": "2022-11-10T17:18:39.244Z"
   },
   {
    "duration": 4,
    "start_time": "2022-11-10T17:18:39.296Z"
   },
   {
    "duration": 17,
    "start_time": "2022-11-10T17:18:39.302Z"
   },
   {
    "duration": 2076,
    "start_time": "2022-11-10T17:18:39.321Z"
   },
   {
    "duration": 25,
    "start_time": "2022-11-10T17:18:41.399Z"
   },
   {
    "duration": 17,
    "start_time": "2022-11-10T17:18:41.426Z"
   },
   {
    "duration": 172,
    "start_time": "2022-11-10T17:18:41.445Z"
   },
   {
    "duration": 8,
    "start_time": "2022-11-10T17:18:41.619Z"
   },
   {
    "duration": 8,
    "start_time": "2022-11-10T17:18:41.629Z"
   },
   {
    "duration": 78,
    "start_time": "2022-11-10T17:18:41.638Z"
   },
   {
    "duration": 35,
    "start_time": "2022-11-10T17:18:41.718Z"
   },
   {
    "duration": 672,
    "start_time": "2022-11-10T17:22:29.759Z"
   },
   {
    "duration": 105,
    "start_time": "2022-11-10T17:22:30.433Z"
   },
   {
    "duration": 29,
    "start_time": "2022-11-10T17:22:30.540Z"
   },
   {
    "duration": 65,
    "start_time": "2022-11-10T17:22:30.570Z"
   },
   {
    "duration": 28,
    "start_time": "2022-11-10T17:22:30.637Z"
   },
   {
    "duration": 48,
    "start_time": "2022-11-10T17:22:30.667Z"
   },
   {
    "duration": 2200,
    "start_time": "2022-11-10T17:22:30.717Z"
   },
   {
    "duration": 29,
    "start_time": "2022-11-10T17:22:32.920Z"
   },
   {
    "duration": 20,
    "start_time": "2022-11-10T17:22:32.950Z"
   },
   {
    "duration": 163,
    "start_time": "2022-11-10T17:22:32.973Z"
   },
   {
    "duration": 7,
    "start_time": "2022-11-10T17:22:33.138Z"
   },
   {
    "duration": 8,
    "start_time": "2022-11-10T17:22:33.146Z"
   },
   {
    "duration": 69,
    "start_time": "2022-11-10T17:22:33.156Z"
   },
   {
    "duration": 26,
    "start_time": "2022-11-10T17:22:33.227Z"
   },
   {
    "duration": 12,
    "start_time": "2022-11-10T17:24:35.370Z"
   },
   {
    "duration": 2,
    "start_time": "2022-11-10T17:24:45.515Z"
   },
   {
    "duration": 98,
    "start_time": "2022-11-10T17:24:45.703Z"
   },
   {
    "duration": 30,
    "start_time": "2022-11-10T17:24:46.174Z"
   },
   {
    "duration": 26,
    "start_time": "2022-11-10T17:24:46.899Z"
   },
   {
    "duration": 11,
    "start_time": "2022-11-10T17:24:52.597Z"
   },
   {
    "duration": 625,
    "start_time": "2022-11-10T17:25:03.907Z"
   },
   {
    "duration": 102,
    "start_time": "2022-11-10T17:25:04.534Z"
   },
   {
    "duration": 34,
    "start_time": "2022-11-10T17:25:04.637Z"
   },
   {
    "duration": 33,
    "start_time": "2022-11-10T17:25:04.673Z"
   },
   {
    "duration": 4,
    "start_time": "2022-11-10T17:25:04.708Z"
   },
   {
    "duration": 23,
    "start_time": "2022-11-10T17:25:04.713Z"
   },
   {
    "duration": 2217,
    "start_time": "2022-11-10T17:25:04.737Z"
   },
   {
    "duration": 27,
    "start_time": "2022-11-10T17:25:06.955Z"
   },
   {
    "duration": 28,
    "start_time": "2022-11-10T17:25:06.983Z"
   },
   {
    "duration": 186,
    "start_time": "2022-11-10T17:25:07.013Z"
   },
   {
    "duration": 10,
    "start_time": "2022-11-10T17:25:07.201Z"
   },
   {
    "duration": 15,
    "start_time": "2022-11-10T17:25:07.212Z"
   },
   {
    "duration": 70,
    "start_time": "2022-11-10T17:25:07.228Z"
   },
   {
    "duration": 32,
    "start_time": "2022-11-10T17:25:07.301Z"
   },
   {
    "duration": 25,
    "start_time": "2022-11-10T17:28:08.003Z"
   },
   {
    "duration": 15,
    "start_time": "2022-11-10T17:28:18.917Z"
   },
   {
    "duration": 19,
    "start_time": "2022-11-10T17:28:25.307Z"
   },
   {
    "duration": 16,
    "start_time": "2022-11-10T17:28:51.245Z"
   },
   {
    "duration": 973,
    "start_time": "2022-11-10T17:29:03.329Z"
   },
   {
    "duration": 20,
    "start_time": "2022-11-10T17:29:13.208Z"
   },
   {
    "duration": 20,
    "start_time": "2022-11-10T17:29:28.094Z"
   },
   {
    "duration": 21,
    "start_time": "2022-11-10T17:29:31.194Z"
   },
   {
    "duration": 27,
    "start_time": "2022-11-10T17:29:33.974Z"
   },
   {
    "duration": 26,
    "start_time": "2022-11-10T17:29:37.026Z"
   },
   {
    "duration": 24,
    "start_time": "2022-11-10T17:29:45.841Z"
   },
   {
    "duration": 39,
    "start_time": "2022-11-10T17:30:02.219Z"
   },
   {
    "duration": 687,
    "start_time": "2022-11-10T17:30:29.727Z"
   },
   {
    "duration": 98,
    "start_time": "2022-11-10T17:30:30.416Z"
   },
   {
    "duration": 31,
    "start_time": "2022-11-10T17:30:30.516Z"
   },
   {
    "duration": 47,
    "start_time": "2022-11-10T17:30:30.550Z"
   },
   {
    "duration": 37,
    "start_time": "2022-11-10T17:30:30.599Z"
   },
   {
    "duration": 37,
    "start_time": "2022-11-10T17:30:30.638Z"
   },
   {
    "duration": 861,
    "start_time": "2022-11-11T08:39:07.721Z"
   },
   {
    "duration": 147,
    "start_time": "2022-11-11T08:39:08.584Z"
   },
   {
    "duration": 32,
    "start_time": "2022-11-11T08:39:08.736Z"
   },
   {
    "duration": 26,
    "start_time": "2022-11-11T08:39:08.770Z"
   },
   {
    "duration": 24,
    "start_time": "2022-11-11T08:39:08.798Z"
   },
   {
    "duration": 19,
    "start_time": "2022-11-11T08:39:08.824Z"
   },
   {
    "duration": 2251,
    "start_time": "2022-11-11T08:39:08.845Z"
   },
   {
    "duration": 24,
    "start_time": "2022-11-11T08:39:11.097Z"
   },
   {
    "duration": 22,
    "start_time": "2022-11-11T08:39:11.124Z"
   },
   {
    "duration": 160,
    "start_time": "2022-11-11T08:39:11.148Z"
   },
   {
    "duration": 18,
    "start_time": "2022-11-11T08:39:11.310Z"
   },
   {
    "duration": 12,
    "start_time": "2022-11-11T08:39:11.329Z"
   },
   {
    "duration": 55,
    "start_time": "2022-11-11T08:39:11.343Z"
   },
   {
    "duration": 36,
    "start_time": "2022-11-11T08:39:11.399Z"
   },
   {
    "duration": 655,
    "start_time": "2022-11-11T08:39:22.121Z"
   },
   {
    "duration": 89,
    "start_time": "2022-11-11T08:39:22.778Z"
   },
   {
    "duration": 31,
    "start_time": "2022-11-11T08:39:22.868Z"
   },
   {
    "duration": 38,
    "start_time": "2022-11-11T08:39:22.901Z"
   },
   {
    "duration": 8,
    "start_time": "2022-11-11T08:39:22.941Z"
   },
   {
    "duration": 18,
    "start_time": "2022-11-11T08:39:22.951Z"
   },
   {
    "duration": 2273,
    "start_time": "2022-11-11T08:39:22.971Z"
   },
   {
    "duration": 26,
    "start_time": "2022-11-11T08:39:25.245Z"
   },
   {
    "duration": 18,
    "start_time": "2022-11-11T08:39:25.272Z"
   },
   {
    "duration": 159,
    "start_time": "2022-11-11T08:39:25.291Z"
   },
   {
    "duration": 7,
    "start_time": "2022-11-11T08:39:25.452Z"
   },
   {
    "duration": 9,
    "start_time": "2022-11-11T08:39:25.460Z"
   },
   {
    "duration": 67,
    "start_time": "2022-11-11T08:39:25.470Z"
   },
   {
    "duration": 30,
    "start_time": "2022-11-11T08:39:25.539Z"
   },
   {
    "duration": 590,
    "start_time": "2022-11-11T08:40:55.679Z"
   },
   {
    "duration": 86,
    "start_time": "2022-11-11T08:40:56.270Z"
   },
   {
    "duration": 30,
    "start_time": "2022-11-11T08:40:56.358Z"
   },
   {
    "duration": 41,
    "start_time": "2022-11-11T08:40:56.389Z"
   },
   {
    "duration": 4,
    "start_time": "2022-11-11T08:40:56.433Z"
   },
   {
    "duration": 17,
    "start_time": "2022-11-11T08:40:56.439Z"
   },
   {
    "duration": 2197,
    "start_time": "2022-11-11T08:40:56.458Z"
   },
   {
    "duration": 25,
    "start_time": "2022-11-11T08:40:58.658Z"
   },
   {
    "duration": 19,
    "start_time": "2022-11-11T08:40:58.685Z"
   },
   {
    "duration": 148,
    "start_time": "2022-11-11T08:40:58.706Z"
   },
   {
    "duration": 9,
    "start_time": "2022-11-11T08:40:58.856Z"
   },
   {
    "duration": 13,
    "start_time": "2022-11-11T08:40:58.866Z"
   },
   {
    "duration": 63,
    "start_time": "2022-11-11T08:40:58.881Z"
   },
   {
    "duration": 30,
    "start_time": "2022-11-11T08:40:58.946Z"
   },
   {
    "duration": 6,
    "start_time": "2022-11-11T08:45:53.376Z"
   },
   {
    "duration": 73,
    "start_time": "2022-11-11T08:54:29.417Z"
   },
   {
    "duration": 9,
    "start_time": "2022-11-11T08:54:34.766Z"
   },
   {
    "duration": 39,
    "start_time": "2022-11-11T08:54:48.239Z"
   },
   {
    "duration": 15,
    "start_time": "2022-11-11T09:01:39.342Z"
   },
   {
    "duration": 37,
    "start_time": "2022-11-11T09:01:54.953Z"
   },
   {
    "duration": 41,
    "start_time": "2022-11-11T09:02:50.035Z"
   },
   {
    "duration": 16,
    "start_time": "2022-11-11T09:03:03.084Z"
   },
   {
    "duration": 16,
    "start_time": "2022-11-11T09:03:07.006Z"
   },
   {
    "duration": 17,
    "start_time": "2022-11-11T09:03:11.618Z"
   },
   {
    "duration": 35,
    "start_time": "2022-11-11T09:03:17.613Z"
   },
   {
    "duration": 35,
    "start_time": "2022-11-11T09:04:06.183Z"
   },
   {
    "duration": 5,
    "start_time": "2022-11-11T09:07:26.532Z"
   },
   {
    "duration": 42,
    "start_time": "2022-11-11T09:07:36.455Z"
   },
   {
    "duration": 863,
    "start_time": "2022-11-11T15:55:49.359Z"
   },
   {
    "duration": 151,
    "start_time": "2022-11-11T15:55:50.225Z"
   },
   {
    "duration": 33,
    "start_time": "2022-11-11T15:55:50.378Z"
   },
   {
    "duration": 28,
    "start_time": "2022-11-11T15:55:50.413Z"
   },
   {
    "duration": 4,
    "start_time": "2022-11-11T15:55:50.442Z"
   },
   {
    "duration": 43,
    "start_time": "2022-11-11T15:55:50.447Z"
   },
   {
    "duration": 2211,
    "start_time": "2022-11-11T15:55:50.491Z"
   },
   {
    "duration": 46,
    "start_time": "2022-11-11T15:55:52.704Z"
   },
   {
    "duration": 27,
    "start_time": "2022-11-11T15:55:52.752Z"
   },
   {
    "duration": 24,
    "start_time": "2022-11-11T15:55:52.781Z"
   },
   {
    "duration": 201,
    "start_time": "2022-11-11T15:55:52.807Z"
   },
   {
    "duration": 8,
    "start_time": "2022-11-11T15:55:53.010Z"
   },
   {
    "duration": 8,
    "start_time": "2022-11-11T15:55:53.020Z"
   },
   {
    "duration": 64,
    "start_time": "2022-11-11T15:55:53.030Z"
   },
   {
    "duration": 30,
    "start_time": "2022-11-11T15:55:53.096Z"
   },
   {
    "duration": 32,
    "start_time": "2022-11-11T15:57:29.314Z"
   },
   {
    "duration": 32,
    "start_time": "2022-11-11T15:57:58.442Z"
   },
   {
    "duration": 30,
    "start_time": "2022-11-11T15:58:11.802Z"
   },
   {
    "duration": 31,
    "start_time": "2022-11-11T15:58:36.971Z"
   },
   {
    "duration": 671,
    "start_time": "2022-11-11T16:00:30.326Z"
   },
   {
    "duration": 120,
    "start_time": "2022-11-11T16:00:31.000Z"
   },
   {
    "duration": 30,
    "start_time": "2022-11-11T16:00:31.122Z"
   },
   {
    "duration": 61,
    "start_time": "2022-11-11T16:00:31.153Z"
   },
   {
    "duration": 11,
    "start_time": "2022-11-11T16:00:31.216Z"
   },
   {
    "duration": 48,
    "start_time": "2022-11-11T16:00:31.229Z"
   },
   {
    "duration": 2265,
    "start_time": "2022-11-11T16:00:31.280Z"
   },
   {
    "duration": 27,
    "start_time": "2022-11-11T16:00:33.547Z"
   },
   {
    "duration": 21,
    "start_time": "2022-11-11T16:00:33.576Z"
   },
   {
    "duration": 174,
    "start_time": "2022-11-11T16:00:33.600Z"
   },
   {
    "duration": 8,
    "start_time": "2022-11-11T16:00:33.777Z"
   },
   {
    "duration": 17,
    "start_time": "2022-11-11T16:00:33.787Z"
   },
   {
    "duration": 58,
    "start_time": "2022-11-11T16:00:33.806Z"
   },
   {
    "duration": 45,
    "start_time": "2022-11-11T16:00:33.866Z"
   },
   {
    "duration": 2962,
    "start_time": "2022-11-11T16:10:23.201Z"
   },
   {
    "duration": 2997,
    "start_time": "2022-11-11T16:11:21.594Z"
   },
   {
    "duration": 2924,
    "start_time": "2022-11-11T16:11:32.594Z"
   },
   {
    "duration": 3272,
    "start_time": "2022-11-11T16:11:42.797Z"
   },
   {
    "duration": 3247,
    "start_time": "2022-11-11T16:11:59.051Z"
   },
   {
    "duration": 3168,
    "start_time": "2022-11-11T16:12:16.729Z"
   },
   {
    "duration": 7,
    "start_time": "2022-11-11T16:18:06.056Z"
   },
   {
    "duration": 7,
    "start_time": "2022-11-11T16:18:13.405Z"
   },
   {
    "duration": 5,
    "start_time": "2022-11-11T16:18:19.958Z"
   },
   {
    "duration": 7,
    "start_time": "2022-11-11T16:18:26.940Z"
   },
   {
    "duration": 8,
    "start_time": "2022-11-11T16:18:32.905Z"
   },
   {
    "duration": 757,
    "start_time": "2022-11-11T16:26:21.575Z"
   },
   {
    "duration": 1357,
    "start_time": "2022-11-11T16:26:34.159Z"
   },
   {
    "duration": 13,
    "start_time": "2022-11-11T16:33:11.800Z"
   },
   {
    "duration": 16,
    "start_time": "2022-11-11T16:33:24.153Z"
   },
   {
    "duration": 1841,
    "start_time": "2022-11-11T16:33:38.590Z"
   },
   {
    "duration": 1827,
    "start_time": "2022-11-11T16:34:34.375Z"
   },
   {
    "duration": 2191,
    "start_time": "2022-11-11T16:34:42.054Z"
   },
   {
    "duration": 1856,
    "start_time": "2022-11-11T16:34:49.687Z"
   },
   {
    "duration": 674,
    "start_time": "2022-11-11T16:34:57.897Z"
   },
   {
    "duration": 100,
    "start_time": "2022-11-11T16:34:58.573Z"
   },
   {
    "duration": 30,
    "start_time": "2022-11-11T16:34:58.675Z"
   },
   {
    "duration": 27,
    "start_time": "2022-11-11T16:34:58.707Z"
   },
   {
    "duration": 5,
    "start_time": "2022-11-11T16:34:58.736Z"
   },
   {
    "duration": 42,
    "start_time": "2022-11-11T16:34:58.743Z"
   },
   {
    "duration": 26,
    "start_time": "2022-11-11T16:34:58.788Z"
   },
   {
    "duration": 19,
    "start_time": "2022-11-11T16:34:58.815Z"
   },
   {
    "duration": 186,
    "start_time": "2022-11-11T16:34:58.836Z"
   },
   {
    "duration": 12,
    "start_time": "2022-11-11T16:34:59.025Z"
   },
   {
    "duration": 7,
    "start_time": "2022-11-11T16:34:59.039Z"
   },
   {
    "duration": 73,
    "start_time": "2022-11-11T16:34:59.048Z"
   },
   {
    "duration": 39,
    "start_time": "2022-11-11T16:34:59.123Z"
   },
   {
    "duration": 2038,
    "start_time": "2022-11-11T16:34:59.164Z"
   },
   {
    "duration": 10,
    "start_time": "2022-11-11T16:35:01.204Z"
   },
   {
    "duration": 670,
    "start_time": "2022-11-11T16:57:45.236Z"
   },
   {
    "duration": 100,
    "start_time": "2022-11-11T16:57:45.908Z"
   },
   {
    "duration": 35,
    "start_time": "2022-11-11T16:57:46.010Z"
   },
   {
    "duration": 41,
    "start_time": "2022-11-11T16:57:46.047Z"
   },
   {
    "duration": 14,
    "start_time": "2022-11-11T16:57:46.090Z"
   },
   {
    "duration": 29,
    "start_time": "2022-11-11T16:57:46.106Z"
   },
   {
    "duration": 27,
    "start_time": "2022-11-11T16:57:46.138Z"
   },
   {
    "duration": 30,
    "start_time": "2022-11-11T16:57:46.166Z"
   },
   {
    "duration": 169,
    "start_time": "2022-11-11T16:57:46.197Z"
   },
   {
    "duration": 16,
    "start_time": "2022-11-11T16:57:46.368Z"
   },
   {
    "duration": 9,
    "start_time": "2022-11-11T16:57:46.386Z"
   },
   {
    "duration": 51,
    "start_time": "2022-11-11T16:57:46.397Z"
   },
   {
    "duration": 58,
    "start_time": "2022-11-11T16:57:46.449Z"
   },
   {
    "duration": 1888,
    "start_time": "2022-11-11T16:57:46.510Z"
   },
   {
    "duration": 8,
    "start_time": "2022-11-11T16:57:48.399Z"
   },
   {
    "duration": 222,
    "start_time": "2022-11-11T16:57:48.408Z"
   },
   {
    "duration": 223,
    "start_time": "2022-11-11T16:57:57.639Z"
   },
   {
    "duration": 223,
    "start_time": "2022-11-11T16:58:02.292Z"
   },
   {
    "duration": 284,
    "start_time": "2022-11-11T16:58:26.443Z"
   },
   {
    "duration": 169,
    "start_time": "2022-11-11T16:58:30.621Z"
   },
   {
    "duration": 287,
    "start_time": "2022-11-11T16:58:35.847Z"
   },
   {
    "duration": 181,
    "start_time": "2022-11-11T16:59:02.980Z"
   },
   {
    "duration": 187,
    "start_time": "2022-11-11T16:59:12.262Z"
   },
   {
    "duration": 242,
    "start_time": "2022-11-11T16:59:18.026Z"
   },
   {
    "duration": 6,
    "start_time": "2022-11-11T17:00:14.193Z"
   },
   {
    "duration": 5,
    "start_time": "2022-11-11T17:00:20.698Z"
   },
   {
    "duration": 6,
    "start_time": "2022-11-11T17:00:36.690Z"
   },
   {
    "duration": 687,
    "start_time": "2022-11-11T17:39:13.082Z"
   },
   {
    "duration": 108,
    "start_time": "2022-11-11T17:39:13.771Z"
   },
   {
    "duration": 37,
    "start_time": "2022-11-11T17:39:13.881Z"
   },
   {
    "duration": 33,
    "start_time": "2022-11-11T17:39:13.920Z"
   },
   {
    "duration": 26,
    "start_time": "2022-11-11T17:39:13.955Z"
   },
   {
    "duration": 27,
    "start_time": "2022-11-11T17:39:13.983Z"
   },
   {
    "duration": 45,
    "start_time": "2022-11-11T17:39:14.013Z"
   },
   {
    "duration": 42,
    "start_time": "2022-11-11T17:39:14.060Z"
   },
   {
    "duration": 228,
    "start_time": "2022-11-11T17:39:14.104Z"
   },
   {
    "duration": 13,
    "start_time": "2022-11-11T17:39:14.335Z"
   },
   {
    "duration": 19,
    "start_time": "2022-11-11T17:39:14.350Z"
   },
   {
    "duration": 68,
    "start_time": "2022-11-11T17:39:14.371Z"
   },
   {
    "duration": 68,
    "start_time": "2022-11-11T17:39:14.441Z"
   },
   {
    "duration": 2035,
    "start_time": "2022-11-11T17:39:14.511Z"
   },
   {
    "duration": 8,
    "start_time": "2022-11-11T17:39:16.547Z"
   },
   {
    "duration": 231,
    "start_time": "2022-11-11T17:39:16.557Z"
   },
   {
    "duration": 229,
    "start_time": "2022-11-11T17:39:16.790Z"
   },
   {
    "duration": 7,
    "start_time": "2022-11-11T17:39:17.021Z"
   },
   {
    "duration": 188,
    "start_time": "2022-11-11T17:39:29.586Z"
   },
   {
    "duration": 284,
    "start_time": "2022-11-11T17:39:34.034Z"
   },
   {
    "duration": 179,
    "start_time": "2022-11-11T17:39:37.647Z"
   },
   {
    "duration": 173,
    "start_time": "2022-11-11T17:39:43.710Z"
   },
   {
    "duration": 286,
    "start_time": "2022-11-11T17:39:58.834Z"
   },
   {
    "duration": 22,
    "start_time": "2022-11-11T17:48:33.880Z"
   },
   {
    "duration": 14,
    "start_time": "2022-11-11T17:52:32.626Z"
   },
   {
    "duration": 34,
    "start_time": "2022-11-11T17:52:43.350Z"
   },
   {
    "duration": 27,
    "start_time": "2022-11-11T17:52:59.270Z"
   },
   {
    "duration": 99,
    "start_time": "2022-11-11T17:53:06.296Z"
   },
   {
    "duration": 25,
    "start_time": "2022-11-11T17:53:23.921Z"
   },
   {
    "duration": 20,
    "start_time": "2022-11-11T17:54:19.806Z"
   },
   {
    "duration": 27,
    "start_time": "2022-11-11T17:54:31.490Z"
   },
   {
    "duration": 20,
    "start_time": "2022-11-11T17:54:49.576Z"
   },
   {
    "duration": 19,
    "start_time": "2022-11-11T17:54:57.411Z"
   },
   {
    "duration": 21,
    "start_time": "2022-11-11T17:56:27.282Z"
   },
   {
    "duration": 21,
    "start_time": "2022-11-11T17:56:34.594Z"
   },
   {
    "duration": 27,
    "start_time": "2022-11-11T17:58:37.222Z"
   },
   {
    "duration": 18,
    "start_time": "2022-11-11T17:58:53.643Z"
   },
   {
    "duration": 28,
    "start_time": "2022-11-11T17:59:11.839Z"
   },
   {
    "duration": 28,
    "start_time": "2022-11-11T17:59:24.021Z"
   },
   {
    "duration": 25,
    "start_time": "2022-11-11T18:02:03.254Z"
   },
   {
    "duration": 24,
    "start_time": "2022-11-11T18:02:12.809Z"
   },
   {
    "duration": 9,
    "start_time": "2022-11-11T18:02:41.886Z"
   },
   {
    "duration": 25,
    "start_time": "2022-11-11T18:02:54.739Z"
   },
   {
    "duration": 74,
    "start_time": "2022-11-11T18:03:07.748Z"
   },
   {
    "duration": 6,
    "start_time": "2022-11-11T18:03:48.755Z"
   },
   {
    "duration": 18,
    "start_time": "2022-11-11T18:03:56.186Z"
   },
   {
    "duration": 24,
    "start_time": "2022-11-11T18:04:24.776Z"
   },
   {
    "duration": 19,
    "start_time": "2022-11-11T18:04:29.753Z"
   },
   {
    "duration": 33,
    "start_time": "2022-11-11T18:05:31.365Z"
   },
   {
    "duration": 40,
    "start_time": "2022-11-11T18:05:43.645Z"
   },
   {
    "duration": 27,
    "start_time": "2022-11-11T18:06:40.021Z"
   },
   {
    "duration": 34,
    "start_time": "2022-11-11T18:06:56.105Z"
   },
   {
    "duration": 27,
    "start_time": "2022-11-11T18:07:30.391Z"
   },
   {
    "duration": 720,
    "start_time": "2022-11-11T18:08:17.575Z"
   },
   {
    "duration": 102,
    "start_time": "2022-11-11T18:08:18.298Z"
   },
   {
    "duration": 31,
    "start_time": "2022-11-11T18:08:18.402Z"
   },
   {
    "duration": 27,
    "start_time": "2022-11-11T18:08:18.435Z"
   },
   {
    "duration": 21,
    "start_time": "2022-11-11T18:08:18.464Z"
   },
   {
    "duration": 25,
    "start_time": "2022-11-11T18:08:18.488Z"
   },
   {
    "duration": 26,
    "start_time": "2022-11-11T18:08:18.515Z"
   },
   {
    "duration": 39,
    "start_time": "2022-11-11T18:08:18.542Z"
   },
   {
    "duration": 188,
    "start_time": "2022-11-11T18:08:18.583Z"
   },
   {
    "duration": 17,
    "start_time": "2022-11-11T18:08:18.777Z"
   },
   {
    "duration": 13,
    "start_time": "2022-11-11T18:08:18.796Z"
   },
   {
    "duration": 52,
    "start_time": "2022-11-11T18:08:18.811Z"
   },
   {
    "duration": 39,
    "start_time": "2022-11-11T18:08:18.878Z"
   },
   {
    "duration": 2031,
    "start_time": "2022-11-11T18:08:18.919Z"
   },
   {
    "duration": 9,
    "start_time": "2022-11-11T18:08:20.952Z"
   },
   {
    "duration": 262,
    "start_time": "2022-11-11T18:08:20.962Z"
   },
   {
    "duration": 189,
    "start_time": "2022-11-11T18:08:21.225Z"
   },
   {
    "duration": 5,
    "start_time": "2022-11-11T18:08:21.416Z"
   },
   {
    "duration": 38,
    "start_time": "2022-11-11T18:08:21.423Z"
   },
   {
    "duration": 23,
    "start_time": "2022-11-11T18:08:21.462Z"
   },
   {
    "duration": 21,
    "start_time": "2022-11-11T18:08:32.391Z"
   },
   {
    "duration": 27,
    "start_time": "2022-11-11T18:08:32.598Z"
   },
   {
    "duration": 9,
    "start_time": "2022-11-11T18:13:44.644Z"
   },
   {
    "duration": 10,
    "start_time": "2022-11-11T18:13:53.584Z"
   },
   {
    "duration": 10,
    "start_time": "2022-11-11T18:14:02.517Z"
   },
   {
    "duration": 8,
    "start_time": "2022-11-11T18:14:47.330Z"
   },
   {
    "duration": 10,
    "start_time": "2022-11-11T18:15:02.768Z"
   },
   {
    "duration": 8,
    "start_time": "2022-11-11T18:15:18.613Z"
   },
   {
    "duration": 11,
    "start_time": "2022-11-11T18:15:44.586Z"
   },
   {
    "duration": 11,
    "start_time": "2022-11-11T18:15:50.189Z"
   },
   {
    "duration": 13,
    "start_time": "2022-11-11T18:16:03.068Z"
   },
   {
    "duration": 697,
    "start_time": "2022-11-11T18:17:26.445Z"
   },
   {
    "duration": 102,
    "start_time": "2022-11-11T18:17:27.145Z"
   },
   {
    "duration": 33,
    "start_time": "2022-11-11T18:17:27.249Z"
   },
   {
    "duration": 27,
    "start_time": "2022-11-11T18:17:27.284Z"
   },
   {
    "duration": 5,
    "start_time": "2022-11-11T18:17:27.315Z"
   },
   {
    "duration": 20,
    "start_time": "2022-11-11T18:17:27.321Z"
   },
   {
    "duration": 52,
    "start_time": "2022-11-11T18:17:27.343Z"
   },
   {
    "duration": 19,
    "start_time": "2022-11-11T18:17:27.396Z"
   },
   {
    "duration": 174,
    "start_time": "2022-11-11T18:17:27.417Z"
   },
   {
    "duration": 8,
    "start_time": "2022-11-11T18:17:27.593Z"
   },
   {
    "duration": 8,
    "start_time": "2022-11-11T18:17:27.602Z"
   },
   {
    "duration": 67,
    "start_time": "2022-11-11T18:17:27.612Z"
   },
   {
    "duration": 39,
    "start_time": "2022-11-11T18:17:27.681Z"
   },
   {
    "duration": 1856,
    "start_time": "2022-11-11T18:17:27.722Z"
   },
   {
    "duration": 8,
    "start_time": "2022-11-11T18:17:29.579Z"
   },
   {
    "duration": 231,
    "start_time": "2022-11-11T18:17:29.589Z"
   },
   {
    "duration": 173,
    "start_time": "2022-11-11T18:17:29.822Z"
   },
   {
    "duration": 7,
    "start_time": "2022-11-11T18:17:29.997Z"
   },
   {
    "duration": 22,
    "start_time": "2022-11-11T18:17:30.006Z"
   },
   {
    "duration": 49,
    "start_time": "2022-11-11T18:17:30.030Z"
   },
   {
    "duration": 11,
    "start_time": "2022-11-11T18:17:30.081Z"
   },
   {
    "duration": 17,
    "start_time": "2022-11-11T18:20:20.589Z"
   },
   {
    "duration": 48,
    "start_time": "2022-11-11T18:20:33.809Z"
   },
   {
    "duration": 44,
    "start_time": "2022-11-11T18:20:58.273Z"
   },
   {
    "duration": 18,
    "start_time": "2022-11-11T18:22:15.057Z"
   },
   {
    "duration": 19,
    "start_time": "2022-11-11T18:22:31.344Z"
   },
   {
    "duration": 16,
    "start_time": "2022-11-11T18:22:39.458Z"
   },
   {
    "duration": 21,
    "start_time": "2022-11-11T18:23:13.974Z"
   },
   {
    "duration": 21,
    "start_time": "2022-11-11T18:23:59.169Z"
   },
   {
    "duration": 24,
    "start_time": "2022-11-11T18:24:07.845Z"
   },
   {
    "duration": 23,
    "start_time": "2022-11-11T18:24:17.542Z"
   },
   {
    "duration": 102,
    "start_time": "2022-11-11T18:24:53.687Z"
   },
   {
    "duration": 24,
    "start_time": "2022-11-11T18:25:19.396Z"
   },
   {
    "duration": 21,
    "start_time": "2022-11-11T18:25:32.107Z"
   },
   {
    "duration": 631,
    "start_time": "2022-11-11T18:25:35.818Z"
   },
   {
    "duration": 100,
    "start_time": "2022-11-11T18:25:36.451Z"
   },
   {
    "duration": 34,
    "start_time": "2022-11-11T18:25:36.552Z"
   },
   {
    "duration": 29,
    "start_time": "2022-11-11T18:25:36.588Z"
   },
   {
    "duration": 4,
    "start_time": "2022-11-11T18:25:36.620Z"
   },
   {
    "duration": 20,
    "start_time": "2022-11-11T18:25:36.625Z"
   },
   {
    "duration": 51,
    "start_time": "2022-11-11T18:25:36.646Z"
   },
   {
    "duration": 22,
    "start_time": "2022-11-11T18:25:36.698Z"
   },
   {
    "duration": 179,
    "start_time": "2022-11-11T18:25:36.722Z"
   },
   {
    "duration": 9,
    "start_time": "2022-11-11T18:25:36.903Z"
   },
   {
    "duration": 8,
    "start_time": "2022-11-11T18:25:36.914Z"
   },
   {
    "duration": 66,
    "start_time": "2022-11-11T18:25:36.924Z"
   },
   {
    "duration": 35,
    "start_time": "2022-11-11T18:25:36.992Z"
   },
   {
    "duration": 1856,
    "start_time": "2022-11-11T18:25:37.030Z"
   },
   {
    "duration": 7,
    "start_time": "2022-11-11T18:25:38.887Z"
   },
   {
    "duration": 239,
    "start_time": "2022-11-11T18:25:38.896Z"
   },
   {
    "duration": 182,
    "start_time": "2022-11-11T18:25:39.136Z"
   },
   {
    "duration": 6,
    "start_time": "2022-11-11T18:25:39.320Z"
   },
   {
    "duration": 19,
    "start_time": "2022-11-11T18:25:39.328Z"
   },
   {
    "duration": 41,
    "start_time": "2022-11-11T18:25:39.350Z"
   },
   {
    "duration": 18,
    "start_time": "2022-11-11T18:25:39.393Z"
   },
   {
    "duration": 695,
    "start_time": "2022-11-11T18:31:38.967Z"
   },
   {
    "duration": 100,
    "start_time": "2022-11-11T18:31:39.664Z"
   },
   {
    "duration": 31,
    "start_time": "2022-11-11T18:31:39.766Z"
   },
   {
    "duration": 27,
    "start_time": "2022-11-11T18:31:39.799Z"
   },
   {
    "duration": 6,
    "start_time": "2022-11-11T18:31:39.828Z"
   },
   {
    "duration": 18,
    "start_time": "2022-11-11T18:31:39.835Z"
   },
   {
    "duration": 46,
    "start_time": "2022-11-11T18:31:39.855Z"
   },
   {
    "duration": 20,
    "start_time": "2022-11-11T18:31:39.903Z"
   },
   {
    "duration": 181,
    "start_time": "2022-11-11T18:31:39.924Z"
   },
   {
    "duration": 9,
    "start_time": "2022-11-11T18:31:40.108Z"
   },
   {
    "duration": 11,
    "start_time": "2022-11-11T18:31:40.118Z"
   },
   {
    "duration": 71,
    "start_time": "2022-11-11T18:31:40.130Z"
   },
   {
    "duration": 37,
    "start_time": "2022-11-11T18:31:40.203Z"
   },
   {
    "duration": 1988,
    "start_time": "2022-11-11T18:31:40.242Z"
   },
   {
    "duration": 8,
    "start_time": "2022-11-11T18:31:42.231Z"
   },
   {
    "duration": 221,
    "start_time": "2022-11-11T18:31:42.241Z"
   },
   {
    "duration": 180,
    "start_time": "2022-11-11T18:31:42.464Z"
   },
   {
    "duration": 6,
    "start_time": "2022-11-11T18:31:42.646Z"
   },
   {
    "duration": 35,
    "start_time": "2022-11-11T18:31:42.654Z"
   },
   {
    "duration": 22,
    "start_time": "2022-11-11T18:31:42.691Z"
   },
   {
    "duration": 17,
    "start_time": "2022-11-11T18:31:42.715Z"
   },
   {
    "duration": 22,
    "start_time": "2022-11-11T18:33:09.306Z"
   },
   {
    "duration": 10,
    "start_time": "2022-11-11T18:34:19.326Z"
   },
   {
    "duration": 2527,
    "start_time": "2022-11-11T18:34:35.774Z"
   },
   {
    "duration": 21,
    "start_time": "2022-11-11T18:34:56.538Z"
   },
   {
    "duration": 8,
    "start_time": "2022-11-11T18:35:51.107Z"
   },
   {
    "duration": 656,
    "start_time": "2022-11-11T18:38:27.808Z"
   },
   {
    "duration": 106,
    "start_time": "2022-11-11T18:38:28.466Z"
   },
   {
    "duration": 33,
    "start_time": "2022-11-11T18:38:28.574Z"
   },
   {
    "duration": 49,
    "start_time": "2022-11-11T18:38:28.610Z"
   },
   {
    "duration": 6,
    "start_time": "2022-11-11T18:38:28.677Z"
   },
   {
    "duration": 22,
    "start_time": "2022-11-11T18:38:28.686Z"
   },
   {
    "duration": 25,
    "start_time": "2022-11-11T18:38:28.710Z"
   },
   {
    "duration": 47,
    "start_time": "2022-11-11T18:38:28.737Z"
   },
   {
    "duration": 169,
    "start_time": "2022-11-11T18:38:28.786Z"
   },
   {
    "duration": 22,
    "start_time": "2022-11-11T18:38:28.956Z"
   },
   {
    "duration": 6,
    "start_time": "2022-11-11T18:38:28.979Z"
   },
   {
    "duration": 59,
    "start_time": "2022-11-11T18:38:28.986Z"
   },
   {
    "duration": 59,
    "start_time": "2022-11-11T18:38:29.046Z"
   },
   {
    "duration": 1882,
    "start_time": "2022-11-11T18:38:29.108Z"
   },
   {
    "duration": 7,
    "start_time": "2022-11-11T18:38:30.992Z"
   },
   {
    "duration": 229,
    "start_time": "2022-11-11T18:38:31.001Z"
   },
   {
    "duration": 183,
    "start_time": "2022-11-11T18:38:31.232Z"
   },
   {
    "duration": 6,
    "start_time": "2022-11-11T18:38:31.417Z"
   },
   {
    "duration": 27,
    "start_time": "2022-11-11T18:38:31.425Z"
   },
   {
    "duration": 40,
    "start_time": "2022-11-11T18:38:31.455Z"
   },
   {
    "duration": 24,
    "start_time": "2022-11-11T18:38:31.498Z"
   },
   {
    "duration": 2571,
    "start_time": "2022-11-11T18:41:58.682Z"
   },
   {
    "duration": 1567,
    "start_time": "2022-11-11T18:42:25.640Z"
   },
   {
    "duration": 1021,
    "start_time": "2022-11-11T18:43:27.006Z"
   },
   {
    "duration": 1082,
    "start_time": "2022-11-11T18:43:45.492Z"
   },
   {
    "duration": 88,
    "start_time": "2022-11-11T18:45:29.956Z"
   },
   {
    "duration": 13,
    "start_time": "2022-11-11T18:47:31.641Z"
   },
   {
    "duration": 1405,
    "start_time": "2022-11-11T18:48:47.487Z"
   },
   {
    "duration": 70,
    "start_time": "2022-11-11T18:59:43.692Z"
   },
   {
    "duration": 762,
    "start_time": "2022-11-11T19:00:11.175Z"
   },
   {
    "duration": 118,
    "start_time": "2022-11-11T19:00:11.940Z"
   },
   {
    "duration": 45,
    "start_time": "2022-11-11T19:00:12.060Z"
   },
   {
    "duration": 27,
    "start_time": "2022-11-11T19:00:12.107Z"
   },
   {
    "duration": 17,
    "start_time": "2022-11-11T19:00:12.138Z"
   },
   {
    "duration": 54,
    "start_time": "2022-11-11T19:00:12.157Z"
   },
   {
    "duration": 26,
    "start_time": "2022-11-11T19:00:12.214Z"
   },
   {
    "duration": 33,
    "start_time": "2022-11-11T19:00:12.242Z"
   },
   {
    "duration": 160,
    "start_time": "2022-11-11T19:00:12.277Z"
   },
   {
    "duration": 9,
    "start_time": "2022-11-11T19:00:12.439Z"
   },
   {
    "duration": 27,
    "start_time": "2022-11-11T19:00:12.450Z"
   },
   {
    "duration": 74,
    "start_time": "2022-11-11T19:00:12.479Z"
   },
   {
    "duration": 38,
    "start_time": "2022-11-11T19:00:12.555Z"
   },
   {
    "duration": 2163,
    "start_time": "2022-11-11T19:00:12.595Z"
   },
   {
    "duration": 7,
    "start_time": "2022-11-11T19:00:14.760Z"
   },
   {
    "duration": 268,
    "start_time": "2022-11-11T19:00:14.769Z"
   },
   {
    "duration": 211,
    "start_time": "2022-11-11T19:00:15.040Z"
   },
   {
    "duration": 5,
    "start_time": "2022-11-11T19:00:15.253Z"
   },
   {
    "duration": 41,
    "start_time": "2022-11-11T19:00:15.260Z"
   },
   {
    "duration": 1228,
    "start_time": "2022-11-11T19:00:15.303Z"
   },
   {
    "duration": 15,
    "start_time": "2022-11-11T19:00:16.533Z"
   },
   {
    "duration": 1764,
    "start_time": "2022-11-11T19:00:16.550Z"
   },
   {
    "duration": 27,
    "start_time": "2022-11-11T19:00:18.316Z"
   },
   {
    "duration": 39,
    "start_time": "2022-11-11T19:00:18.345Z"
   },
   {
    "duration": 70,
    "start_time": "2022-11-11T19:51:32.603Z"
   },
   {
    "duration": 2940,
    "start_time": "2022-11-11T19:51:37.706Z"
   },
   {
    "duration": 716,
    "start_time": "2022-11-11T19:51:47.360Z"
   },
   {
    "duration": 100,
    "start_time": "2022-11-11T19:51:48.078Z"
   },
   {
    "duration": 32,
    "start_time": "2022-11-11T19:51:48.180Z"
   },
   {
    "duration": 29,
    "start_time": "2022-11-11T19:51:48.214Z"
   },
   {
    "duration": 15,
    "start_time": "2022-11-11T19:51:48.245Z"
   },
   {
    "duration": 24,
    "start_time": "2022-11-11T19:51:48.279Z"
   },
   {
    "duration": 2268,
    "start_time": "2022-11-11T19:51:48.305Z"
   },
   {
    "duration": 27,
    "start_time": "2022-11-11T19:51:50.575Z"
   },
   {
    "duration": 21,
    "start_time": "2022-11-11T19:51:50.604Z"
   },
   {
    "duration": 181,
    "start_time": "2022-11-11T19:51:50.628Z"
   },
   {
    "duration": 9,
    "start_time": "2022-11-11T19:51:50.811Z"
   },
   {
    "duration": 11,
    "start_time": "2022-11-11T19:51:50.822Z"
   },
   {
    "duration": 92,
    "start_time": "2022-11-11T19:51:50.835Z"
   },
   {
    "duration": 60,
    "start_time": "2022-11-11T19:51:50.929Z"
   },
   {
    "duration": 2063,
    "start_time": "2022-11-11T19:51:50.991Z"
   },
   {
    "duration": 13,
    "start_time": "2022-11-11T19:51:53.058Z"
   },
   {
    "duration": 263,
    "start_time": "2022-11-11T19:51:53.079Z"
   },
   {
    "duration": 194,
    "start_time": "2022-11-11T19:51:53.344Z"
   },
   {
    "duration": 7,
    "start_time": "2022-11-11T19:51:53.540Z"
   },
   {
    "duration": 39,
    "start_time": "2022-11-11T19:51:53.548Z"
   },
   {
    "duration": 1380,
    "start_time": "2022-11-11T19:51:53.589Z"
   },
   {
    "duration": 22,
    "start_time": "2022-11-11T19:51:54.971Z"
   },
   {
    "duration": 1694,
    "start_time": "2022-11-11T19:51:54.995Z"
   },
   {
    "duration": 25,
    "start_time": "2022-11-11T19:51:56.691Z"
   },
   {
    "duration": 33,
    "start_time": "2022-11-11T19:51:56.718Z"
   },
   {
    "duration": 42,
    "start_time": "2022-11-11T20:01:01.903Z"
   },
   {
    "duration": 783,
    "start_time": "2022-11-11T20:01:38.667Z"
   },
   {
    "duration": 109,
    "start_time": "2022-11-11T20:01:39.452Z"
   },
   {
    "duration": 49,
    "start_time": "2022-11-11T20:01:39.563Z"
   },
   {
    "duration": 28,
    "start_time": "2022-11-11T20:01:39.614Z"
   },
   {
    "duration": 8,
    "start_time": "2022-11-11T20:01:39.644Z"
   },
   {
    "duration": 47,
    "start_time": "2022-11-11T20:01:39.653Z"
   },
   {
    "duration": 2414,
    "start_time": "2022-11-11T20:01:39.704Z"
   },
   {
    "duration": 27,
    "start_time": "2022-11-11T20:01:42.119Z"
   },
   {
    "duration": 21,
    "start_time": "2022-11-11T20:01:42.148Z"
   },
   {
    "duration": 196,
    "start_time": "2022-11-11T20:01:42.171Z"
   },
   {
    "duration": 24,
    "start_time": "2022-11-11T20:01:42.369Z"
   },
   {
    "duration": 7,
    "start_time": "2022-11-11T20:01:42.397Z"
   },
   {
    "duration": 77,
    "start_time": "2022-11-11T20:01:42.406Z"
   },
   {
    "duration": 40,
    "start_time": "2022-11-11T20:01:42.488Z"
   },
   {
    "duration": 2285,
    "start_time": "2022-11-11T20:01:42.530Z"
   },
   {
    "duration": 7,
    "start_time": "2022-11-11T20:01:44.817Z"
   },
   {
    "duration": 290,
    "start_time": "2022-11-11T20:01:44.826Z"
   },
   {
    "duration": 202,
    "start_time": "2022-11-11T20:01:45.118Z"
   },
   {
    "duration": 6,
    "start_time": "2022-11-11T20:01:45.322Z"
   },
   {
    "duration": 24,
    "start_time": "2022-11-11T20:01:45.330Z"
   },
   {
    "duration": 1312,
    "start_time": "2022-11-11T20:01:45.356Z"
   },
   {
    "duration": 29,
    "start_time": "2022-11-11T20:01:46.670Z"
   },
   {
    "duration": 1787,
    "start_time": "2022-11-11T20:01:46.706Z"
   },
   {
    "duration": 29,
    "start_time": "2022-11-11T20:01:48.495Z"
   },
   {
    "duration": 17,
    "start_time": "2022-11-11T20:01:48.526Z"
   },
   {
    "duration": 2202,
    "start_time": "2022-11-11T20:04:14.423Z"
   },
   {
    "duration": 402,
    "start_time": "2022-11-11T20:04:50.892Z"
   },
   {
    "duration": 39,
    "start_time": "2022-11-11T20:05:53.218Z"
   },
   {
    "duration": 441,
    "start_time": "2022-11-11T20:09:19.530Z"
   },
   {
    "duration": 282,
    "start_time": "2022-11-11T20:11:43.454Z"
   },
   {
    "duration": 659,
    "start_time": "2022-11-11T20:12:42.043Z"
   },
   {
    "duration": 101,
    "start_time": "2022-11-11T20:12:42.704Z"
   },
   {
    "duration": 38,
    "start_time": "2022-11-11T20:12:42.807Z"
   },
   {
    "duration": 54,
    "start_time": "2022-11-11T20:12:42.847Z"
   },
   {
    "duration": 24,
    "start_time": "2022-11-11T20:12:42.903Z"
   },
   {
    "duration": 23,
    "start_time": "2022-11-11T20:12:42.929Z"
   },
   {
    "duration": 2568,
    "start_time": "2022-11-11T20:12:42.954Z"
   },
   {
    "duration": 27,
    "start_time": "2022-11-11T20:12:45.525Z"
   },
   {
    "duration": 23,
    "start_time": "2022-11-11T20:12:45.553Z"
   },
   {
    "duration": 200,
    "start_time": "2022-11-11T20:12:45.581Z"
   },
   {
    "duration": 15,
    "start_time": "2022-11-11T20:12:45.784Z"
   },
   {
    "duration": 8,
    "start_time": "2022-11-11T20:12:45.802Z"
   },
   {
    "duration": 84,
    "start_time": "2022-11-11T20:12:45.812Z"
   },
   {
    "duration": 51,
    "start_time": "2022-11-11T20:12:45.899Z"
   },
   {
    "duration": 2203,
    "start_time": "2022-11-11T20:12:45.952Z"
   },
   {
    "duration": 8,
    "start_time": "2022-11-11T20:12:48.158Z"
   },
   {
    "duration": 292,
    "start_time": "2022-11-11T20:12:48.168Z"
   },
   {
    "duration": 199,
    "start_time": "2022-11-11T20:12:48.463Z"
   },
   {
    "duration": 15,
    "start_time": "2022-11-11T20:12:48.665Z"
   },
   {
    "duration": 48,
    "start_time": "2022-11-11T20:12:48.683Z"
   },
   {
    "duration": 1402,
    "start_time": "2022-11-11T20:12:48.733Z"
   },
   {
    "duration": 16,
    "start_time": "2022-11-11T20:12:50.137Z"
   },
   {
    "duration": 1801,
    "start_time": "2022-11-11T20:12:50.155Z"
   },
   {
    "duration": 48,
    "start_time": "2022-11-11T20:12:51.958Z"
   },
   {
    "duration": 25,
    "start_time": "2022-11-11T20:12:52.008Z"
   },
   {
    "duration": 247,
    "start_time": "2022-11-11T20:12:52.035Z"
   },
   {
    "duration": 226,
    "start_time": "2022-11-11T20:13:20.389Z"
   },
   {
    "duration": 235,
    "start_time": "2022-11-11T20:13:29.607Z"
   },
   {
    "duration": 215,
    "start_time": "2022-11-11T20:13:36.032Z"
   },
   {
    "duration": 213,
    "start_time": "2022-11-11T20:14:32.275Z"
   },
   {
    "duration": 187,
    "start_time": "2022-11-11T20:15:04.946Z"
   },
   {
    "duration": 83,
    "start_time": "2022-11-11T20:15:41.302Z"
   },
   {
    "duration": 13,
    "start_time": "2022-11-11T20:15:44.797Z"
   },
   {
    "duration": 682,
    "start_time": "2022-11-11T20:15:52.132Z"
   },
   {
    "duration": 127,
    "start_time": "2022-11-11T20:15:52.817Z"
   },
   {
    "duration": 51,
    "start_time": "2022-11-11T20:15:52.946Z"
   },
   {
    "duration": 31,
    "start_time": "2022-11-11T20:15:53.002Z"
   },
   {
    "duration": 5,
    "start_time": "2022-11-11T20:15:53.036Z"
   },
   {
    "duration": 22,
    "start_time": "2022-11-11T20:15:53.043Z"
   },
   {
    "duration": 2491,
    "start_time": "2022-11-11T20:15:53.067Z"
   },
   {
    "duration": 33,
    "start_time": "2022-11-11T20:15:55.559Z"
   },
   {
    "duration": 24,
    "start_time": "2022-11-11T20:15:55.597Z"
   },
   {
    "duration": 217,
    "start_time": "2022-11-11T20:15:55.623Z"
   },
   {
    "duration": 12,
    "start_time": "2022-11-11T20:15:55.843Z"
   },
   {
    "duration": 21,
    "start_time": "2022-11-11T20:15:55.857Z"
   },
   {
    "duration": 74,
    "start_time": "2022-11-11T20:15:55.881Z"
   },
   {
    "duration": 64,
    "start_time": "2022-11-11T20:15:55.958Z"
   },
   {
    "duration": 2102,
    "start_time": "2022-11-11T20:15:56.024Z"
   },
   {
    "duration": 7,
    "start_time": "2022-11-11T20:15:58.128Z"
   },
   {
    "duration": 274,
    "start_time": "2022-11-11T20:15:58.137Z"
   },
   {
    "duration": 203,
    "start_time": "2022-11-11T20:15:58.413Z"
   },
   {
    "duration": 6,
    "start_time": "2022-11-11T20:15:58.618Z"
   },
   {
    "duration": 22,
    "start_time": "2022-11-11T20:15:58.626Z"
   },
   {
    "duration": 1299,
    "start_time": "2022-11-11T20:15:58.651Z"
   },
   {
    "duration": 13,
    "start_time": "2022-11-11T20:15:59.952Z"
   },
   {
    "duration": 1796,
    "start_time": "2022-11-11T20:15:59.967Z"
   },
   {
    "duration": 44,
    "start_time": "2022-11-11T20:16:01.765Z"
   },
   {
    "duration": 18,
    "start_time": "2022-11-11T20:16:01.810Z"
   },
   {
    "duration": 222,
    "start_time": "2022-11-11T20:16:01.830Z"
   },
   {
    "duration": 654,
    "start_time": "2022-11-11T20:17:35.438Z"
   },
   {
    "duration": 99,
    "start_time": "2022-11-11T20:17:36.095Z"
   },
   {
    "duration": 41,
    "start_time": "2022-11-11T20:17:36.196Z"
   },
   {
    "duration": 63,
    "start_time": "2022-11-11T20:17:36.239Z"
   },
   {
    "duration": 11,
    "start_time": "2022-11-11T20:17:36.309Z"
   },
   {
    "duration": 24,
    "start_time": "2022-11-11T20:17:36.322Z"
   },
   {
    "duration": 2335,
    "start_time": "2022-11-11T20:17:36.347Z"
   },
   {
    "duration": 33,
    "start_time": "2022-11-11T20:17:38.685Z"
   },
   {
    "duration": 21,
    "start_time": "2022-11-11T20:17:38.719Z"
   },
   {
    "duration": 202,
    "start_time": "2022-11-11T20:17:38.742Z"
   },
   {
    "duration": 8,
    "start_time": "2022-11-11T20:17:38.946Z"
   },
   {
    "duration": 39,
    "start_time": "2022-11-11T20:17:38.955Z"
   },
   {
    "duration": 57,
    "start_time": "2022-11-11T20:17:38.998Z"
   },
   {
    "duration": 57,
    "start_time": "2022-11-11T20:17:39.060Z"
   },
   {
    "duration": 2187,
    "start_time": "2022-11-11T20:17:39.119Z"
   },
   {
    "duration": 7,
    "start_time": "2022-11-11T20:17:41.308Z"
   },
   {
    "duration": 279,
    "start_time": "2022-11-11T20:17:41.317Z"
   },
   {
    "duration": 187,
    "start_time": "2022-11-11T20:17:41.598Z"
   },
   {
    "duration": 9,
    "start_time": "2022-11-11T20:17:41.787Z"
   },
   {
    "duration": 24,
    "start_time": "2022-11-11T20:17:41.798Z"
   },
   {
    "duration": 1251,
    "start_time": "2022-11-11T20:17:41.824Z"
   },
   {
    "duration": 30,
    "start_time": "2022-11-11T20:17:43.080Z"
   },
   {
    "duration": 1835,
    "start_time": "2022-11-11T20:17:43.113Z"
   },
   {
    "duration": 42,
    "start_time": "2022-11-11T20:17:44.951Z"
   },
   {
    "duration": 23,
    "start_time": "2022-11-11T20:17:44.996Z"
   },
   {
    "duration": 706,
    "start_time": "2022-11-11T20:20:16.345Z"
   },
   {
    "duration": 121,
    "start_time": "2022-11-11T20:20:17.053Z"
   },
   {
    "duration": 44,
    "start_time": "2022-11-11T20:20:17.176Z"
   },
   {
    "duration": 27,
    "start_time": "2022-11-11T20:20:17.222Z"
   },
   {
    "duration": 4,
    "start_time": "2022-11-11T20:20:17.252Z"
   },
   {
    "duration": 41,
    "start_time": "2022-11-11T20:20:17.258Z"
   },
   {
    "duration": 2277,
    "start_time": "2022-11-11T20:20:17.302Z"
   },
   {
    "duration": 30,
    "start_time": "2022-11-11T20:20:19.581Z"
   },
   {
    "duration": 19,
    "start_time": "2022-11-11T20:20:19.613Z"
   },
   {
    "duration": 192,
    "start_time": "2022-11-11T20:20:19.633Z"
   },
   {
    "duration": 8,
    "start_time": "2022-11-11T20:20:19.827Z"
   },
   {
    "duration": 14,
    "start_time": "2022-11-11T20:20:19.837Z"
   },
   {
    "duration": 67,
    "start_time": "2022-11-11T20:20:19.854Z"
   },
   {
    "duration": 32,
    "start_time": "2022-11-11T20:20:19.923Z"
   },
   {
    "duration": 1942,
    "start_time": "2022-11-11T20:20:19.957Z"
   },
   {
    "duration": 9,
    "start_time": "2022-11-11T20:20:21.900Z"
   },
   {
    "duration": 249,
    "start_time": "2022-11-11T20:20:21.911Z"
   },
   {
    "duration": 178,
    "start_time": "2022-11-11T20:20:22.161Z"
   },
   {
    "duration": 6,
    "start_time": "2022-11-11T20:20:22.341Z"
   },
   {
    "duration": 44,
    "start_time": "2022-11-11T20:20:22.349Z"
   },
   {
    "duration": 1182,
    "start_time": "2022-11-11T20:20:22.395Z"
   },
   {
    "duration": 13,
    "start_time": "2022-11-11T20:20:23.593Z"
   },
   {
    "duration": 1693,
    "start_time": "2022-11-11T20:20:23.608Z"
   },
   {
    "duration": 23,
    "start_time": "2022-11-11T20:20:25.303Z"
   },
   {
    "duration": 15,
    "start_time": "2022-11-11T20:20:25.328Z"
   },
   {
    "duration": 1400,
    "start_time": "2022-11-11T20:20:25.344Z"
   },
   {
    "duration": 1348,
    "start_time": "2022-11-11T20:21:10.809Z"
   },
   {
    "duration": 1284,
    "start_time": "2022-11-11T20:22:11.041Z"
   },
   {
    "duration": 159,
    "start_time": "2022-11-11T20:22:16.475Z"
   },
   {
    "duration": 1321,
    "start_time": "2022-11-11T20:22:32.766Z"
   },
   {
    "duration": 9,
    "start_time": "2022-11-11T20:22:44.912Z"
   },
   {
    "duration": 13,
    "start_time": "2022-11-11T20:24:06.731Z"
   },
   {
    "duration": 11,
    "start_time": "2022-11-11T20:24:07.159Z"
   },
   {
    "duration": 232,
    "start_time": "2022-11-11T20:25:23.706Z"
   },
   {
    "duration": 199,
    "start_time": "2022-11-11T20:25:31.107Z"
   },
   {
    "duration": 221,
    "start_time": "2022-11-11T20:25:54.699Z"
   },
   {
    "duration": 740,
    "start_time": "2022-11-11T20:28:27.301Z"
   },
   {
    "duration": 111,
    "start_time": "2022-11-11T20:28:28.043Z"
   },
   {
    "duration": 50,
    "start_time": "2022-11-11T20:28:28.156Z"
   },
   {
    "duration": 26,
    "start_time": "2022-11-11T20:28:28.208Z"
   },
   {
    "duration": 5,
    "start_time": "2022-11-11T20:28:28.237Z"
   },
   {
    "duration": 19,
    "start_time": "2022-11-11T20:28:28.244Z"
   },
   {
    "duration": 2383,
    "start_time": "2022-11-11T20:28:28.283Z"
   },
   {
    "duration": 35,
    "start_time": "2022-11-11T20:28:30.668Z"
   },
   {
    "duration": 22,
    "start_time": "2022-11-11T20:28:30.705Z"
   },
   {
    "duration": 202,
    "start_time": "2022-11-11T20:28:30.728Z"
   },
   {
    "duration": 9,
    "start_time": "2022-11-11T20:28:30.933Z"
   },
   {
    "duration": 25,
    "start_time": "2022-11-11T20:28:30.944Z"
   },
   {
    "duration": 93,
    "start_time": "2022-11-11T20:28:30.971Z"
   },
   {
    "duration": 48,
    "start_time": "2022-11-11T20:28:31.068Z"
   },
   {
    "duration": 2079,
    "start_time": "2022-11-11T20:28:31.118Z"
   },
   {
    "duration": 10,
    "start_time": "2022-11-11T20:28:33.201Z"
   },
   {
    "duration": 280,
    "start_time": "2022-11-11T20:28:33.213Z"
   },
   {
    "duration": 199,
    "start_time": "2022-11-11T20:28:33.496Z"
   },
   {
    "duration": 9,
    "start_time": "2022-11-11T20:28:33.697Z"
   },
   {
    "duration": 24,
    "start_time": "2022-11-11T20:28:33.709Z"
   },
   {
    "duration": 1373,
    "start_time": "2022-11-11T20:28:33.735Z"
   },
   {
    "duration": 15,
    "start_time": "2022-11-11T20:28:35.111Z"
   },
   {
    "duration": 1816,
    "start_time": "2022-11-11T20:28:35.128Z"
   },
   {
    "duration": 42,
    "start_time": "2022-11-11T20:28:36.946Z"
   },
   {
    "duration": 19,
    "start_time": "2022-11-11T20:28:36.990Z"
   },
   {
    "duration": 183,
    "start_time": "2022-11-11T20:28:37.011Z"
   },
   {
    "duration": 208,
    "start_time": "2022-11-11T20:29:04.552Z"
   },
   {
    "duration": 198,
    "start_time": "2022-11-11T20:29:18.205Z"
   },
   {
    "duration": 294,
    "start_time": "2022-11-11T20:29:23.622Z"
   },
   {
    "duration": 217,
    "start_time": "2022-11-11T20:30:14.709Z"
   },
   {
    "duration": 15,
    "start_time": "2022-11-11T20:30:37.202Z"
   },
   {
    "duration": 1531,
    "start_time": "2022-11-11T20:30:37.533Z"
   },
   {
    "duration": 14,
    "start_time": "2022-11-11T20:32:04.950Z"
   },
   {
    "duration": 208,
    "start_time": "2022-11-11T20:32:05.263Z"
   },
   {
    "duration": 797,
    "start_time": "2022-11-11T20:32:27.060Z"
   },
   {
    "duration": 132,
    "start_time": "2022-11-11T20:32:27.859Z"
   },
   {
    "duration": 47,
    "start_time": "2022-11-11T20:32:27.995Z"
   },
   {
    "duration": 36,
    "start_time": "2022-11-11T20:32:28.045Z"
   },
   {
    "duration": 6,
    "start_time": "2022-11-11T20:32:28.083Z"
   },
   {
    "duration": 36,
    "start_time": "2022-11-11T20:32:28.090Z"
   },
   {
    "duration": 2414,
    "start_time": "2022-11-11T20:32:28.128Z"
   },
   {
    "duration": 27,
    "start_time": "2022-11-11T20:32:30.544Z"
   },
   {
    "duration": 46,
    "start_time": "2022-11-11T20:32:30.573Z"
   },
   {
    "duration": 234,
    "start_time": "2022-11-11T20:32:30.622Z"
   },
   {
    "duration": 10,
    "start_time": "2022-11-11T20:32:30.858Z"
   },
   {
    "duration": 44,
    "start_time": "2022-11-11T20:32:30.870Z"
   },
   {
    "duration": 72,
    "start_time": "2022-11-11T20:32:30.915Z"
   },
   {
    "duration": 50,
    "start_time": "2022-11-11T20:32:30.989Z"
   },
   {
    "duration": 2197,
    "start_time": "2022-11-11T20:32:31.041Z"
   },
   {
    "duration": 8,
    "start_time": "2022-11-11T20:32:33.240Z"
   },
   {
    "duration": 284,
    "start_time": "2022-11-11T20:32:33.249Z"
   },
   {
    "duration": 204,
    "start_time": "2022-11-11T20:32:33.535Z"
   },
   {
    "duration": 6,
    "start_time": "2022-11-11T20:32:33.741Z"
   },
   {
    "duration": 57,
    "start_time": "2022-11-11T20:32:33.749Z"
   },
   {
    "duration": 1447,
    "start_time": "2022-11-11T20:32:33.813Z"
   },
   {
    "duration": 24,
    "start_time": "2022-11-11T20:32:35.261Z"
   },
   {
    "duration": 1883,
    "start_time": "2022-11-11T20:32:35.292Z"
   },
   {
    "duration": 37,
    "start_time": "2022-11-11T20:32:37.177Z"
   },
   {
    "duration": 21,
    "start_time": "2022-11-11T20:32:37.215Z"
   },
   {
    "duration": 216,
    "start_time": "2022-11-11T20:32:37.238Z"
   },
   {
    "duration": 221,
    "start_time": "2022-11-11T20:33:02.214Z"
   },
   {
    "duration": 224,
    "start_time": "2022-11-11T20:33:16.032Z"
   },
   {
    "duration": 218,
    "start_time": "2022-11-11T20:33:27.324Z"
   },
   {
    "duration": 13,
    "start_time": "2022-11-11T21:33:07.208Z"
   },
   {
    "duration": 208,
    "start_time": "2022-11-11T21:33:08.751Z"
   },
   {
    "duration": 6,
    "start_time": "2022-11-11T21:34:55.702Z"
   },
   {
    "duration": 2827,
    "start_time": "2022-11-11T21:35:05.357Z"
   },
   {
    "duration": 7,
    "start_time": "2022-11-11T21:35:23.606Z"
   },
   {
    "duration": 41,
    "start_time": "2022-11-11T21:36:07.840Z"
   },
   {
    "duration": 51,
    "start_time": "2022-11-11T21:39:10.357Z"
   },
   {
    "duration": 776,
    "start_time": "2022-11-11T21:39:16.157Z"
   },
   {
    "duration": 158,
    "start_time": "2022-11-11T21:39:16.935Z"
   },
   {
    "duration": 30,
    "start_time": "2022-11-11T21:39:17.095Z"
   },
   {
    "duration": 41,
    "start_time": "2022-11-11T21:39:17.127Z"
   },
   {
    "duration": 29,
    "start_time": "2022-11-11T21:39:17.170Z"
   },
   {
    "duration": 51,
    "start_time": "2022-11-11T21:39:17.202Z"
   },
   {
    "duration": 2187,
    "start_time": "2022-11-11T21:39:17.255Z"
   },
   {
    "duration": 25,
    "start_time": "2022-11-11T21:39:19.444Z"
   },
   {
    "duration": 46,
    "start_time": "2022-11-11T21:39:19.471Z"
   },
   {
    "duration": 192,
    "start_time": "2022-11-11T21:39:19.519Z"
   },
   {
    "duration": 10,
    "start_time": "2022-11-11T21:39:19.713Z"
   },
   {
    "duration": 51,
    "start_time": "2022-11-11T21:39:39.278Z"
   },
   {
    "duration": 848,
    "start_time": "2022-11-11T21:39:43.777Z"
   },
   {
    "duration": 155,
    "start_time": "2022-11-11T21:39:44.627Z"
   },
   {
    "duration": 44,
    "start_time": "2022-11-11T21:39:45.003Z"
   },
   {
    "duration": 38,
    "start_time": "2022-11-11T21:39:45.994Z"
   },
   {
    "duration": 4,
    "start_time": "2022-11-11T21:39:46.456Z"
   },
   {
    "duration": 16,
    "start_time": "2022-11-11T21:39:46.650Z"
   },
   {
    "duration": 2295,
    "start_time": "2022-11-11T21:39:47.106Z"
   },
   {
    "duration": 27,
    "start_time": "2022-11-11T21:39:49.404Z"
   },
   {
    "duration": 26,
    "start_time": "2022-11-11T21:39:49.433Z"
   },
   {
    "duration": 181,
    "start_time": "2022-11-11T21:39:49.461Z"
   },
   {
    "duration": 8,
    "start_time": "2022-11-11T21:39:49.645Z"
   },
   {
    "duration": 55,
    "start_time": "2022-11-11T21:40:21.656Z"
   },
   {
    "duration": 667,
    "start_time": "2022-11-11T21:40:27.391Z"
   },
   {
    "duration": 163,
    "start_time": "2022-11-11T21:40:28.061Z"
   },
   {
    "duration": 713,
    "start_time": "2022-11-11T21:40:45.951Z"
   },
   {
    "duration": 152,
    "start_time": "2022-11-11T21:40:46.666Z"
   },
   {
    "duration": 32,
    "start_time": "2022-11-11T21:40:46.820Z"
   },
   {
    "duration": 29,
    "start_time": "2022-11-11T21:40:46.855Z"
   },
   {
    "duration": 5,
    "start_time": "2022-11-11T21:40:46.886Z"
   },
   {
    "duration": 18,
    "start_time": "2022-11-11T21:40:46.893Z"
   },
   {
    "duration": 2200,
    "start_time": "2022-11-11T21:40:46.913Z"
   },
   {
    "duration": 28,
    "start_time": "2022-11-11T21:40:49.116Z"
   },
   {
    "duration": 23,
    "start_time": "2022-11-11T21:40:49.146Z"
   },
   {
    "duration": 180,
    "start_time": "2022-11-11T21:40:49.173Z"
   },
   {
    "duration": 10,
    "start_time": "2022-11-11T21:40:49.354Z"
   },
   {
    "duration": 15,
    "start_time": "2022-11-11T21:40:49.379Z"
   },
   {
    "duration": 63,
    "start_time": "2022-11-11T21:40:49.396Z"
   },
   {
    "duration": 54,
    "start_time": "2022-11-11T21:40:49.461Z"
   },
   {
    "duration": 32,
    "start_time": "2022-11-11T21:40:49.517Z"
   },
   {
    "duration": 1909,
    "start_time": "2022-11-11T21:40:49.551Z"
   },
   {
    "duration": 7,
    "start_time": "2022-11-11T21:40:51.462Z"
   },
   {
    "duration": 231,
    "start_time": "2022-11-11T21:40:51.478Z"
   },
   {
    "duration": 180,
    "start_time": "2022-11-11T21:40:51.710Z"
   },
   {
    "duration": 5,
    "start_time": "2022-11-11T21:40:51.892Z"
   },
   {
    "duration": 23,
    "start_time": "2022-11-11T21:40:51.899Z"
   },
   {
    "duration": 1163,
    "start_time": "2022-11-11T21:40:51.923Z"
   },
   {
    "duration": 14,
    "start_time": "2022-11-11T21:40:53.088Z"
   },
   {
    "duration": 1596,
    "start_time": "2022-11-11T21:40:53.104Z"
   },
   {
    "duration": 22,
    "start_time": "2022-11-11T21:40:54.702Z"
   },
   {
    "duration": 12,
    "start_time": "2022-11-11T21:40:54.726Z"
   },
   {
    "duration": 217,
    "start_time": "2022-11-11T21:40:54.740Z"
   },
   {
    "duration": 51,
    "start_time": "2022-11-11T21:42:13.823Z"
   },
   {
    "duration": 672,
    "start_time": "2022-11-11T21:42:18.614Z"
   },
   {
    "duration": 152,
    "start_time": "2022-11-11T21:42:19.288Z"
   },
   {
    "duration": 32,
    "start_time": "2022-11-11T21:42:19.441Z"
   },
   {
    "duration": 27,
    "start_time": "2022-11-11T21:42:19.475Z"
   },
   {
    "duration": 4,
    "start_time": "2022-11-11T21:42:19.505Z"
   },
   {
    "duration": 19,
    "start_time": "2022-11-11T21:42:19.511Z"
   },
   {
    "duration": 2150,
    "start_time": "2022-11-11T21:42:19.532Z"
   },
   {
    "duration": 28,
    "start_time": "2022-11-11T21:42:21.684Z"
   },
   {
    "duration": 31,
    "start_time": "2022-11-11T21:42:21.714Z"
   },
   {
    "duration": 182,
    "start_time": "2022-11-11T21:42:21.747Z"
   },
   {
    "duration": 9,
    "start_time": "2022-11-11T21:42:21.930Z"
   },
   {
    "duration": 704,
    "start_time": "2022-11-11T21:44:19.560Z"
   },
   {
    "duration": 156,
    "start_time": "2022-11-11T21:44:20.266Z"
   },
   {
    "duration": 31,
    "start_time": "2022-11-11T21:44:20.426Z"
   },
   {
    "duration": 28,
    "start_time": "2022-11-11T21:44:20.459Z"
   },
   {
    "duration": 3,
    "start_time": "2022-11-11T21:44:20.489Z"
   },
   {
    "duration": 19,
    "start_time": "2022-11-11T21:44:20.494Z"
   },
   {
    "duration": 2095,
    "start_time": "2022-11-11T21:44:20.515Z"
   },
   {
    "duration": 27,
    "start_time": "2022-11-11T21:44:22.611Z"
   },
   {
    "duration": 21,
    "start_time": "2022-11-11T21:44:22.639Z"
   },
   {
    "duration": 172,
    "start_time": "2022-11-11T21:44:22.662Z"
   },
   {
    "duration": 15,
    "start_time": "2022-11-11T21:44:22.837Z"
   },
   {
    "duration": 675,
    "start_time": "2022-11-11T21:45:11.090Z"
   },
   {
    "duration": 154,
    "start_time": "2022-11-11T21:45:11.766Z"
   },
   {
    "duration": 31,
    "start_time": "2022-11-11T21:45:11.922Z"
   },
   {
    "duration": 45,
    "start_time": "2022-11-11T21:45:11.955Z"
   },
   {
    "duration": 26,
    "start_time": "2022-11-11T21:45:12.002Z"
   },
   {
    "duration": 38,
    "start_time": "2022-11-11T21:45:12.030Z"
   },
   {
    "duration": 2202,
    "start_time": "2022-11-11T21:45:12.071Z"
   },
   {
    "duration": 27,
    "start_time": "2022-11-11T21:45:14.275Z"
   },
   {
    "duration": 20,
    "start_time": "2022-11-11T21:45:14.304Z"
   },
   {
    "duration": 200,
    "start_time": "2022-11-11T21:45:14.328Z"
   },
   {
    "duration": 8,
    "start_time": "2022-11-11T21:45:14.530Z"
   },
   {
    "duration": 10,
    "start_time": "2022-11-11T21:45:14.539Z"
   },
   {
    "duration": 69,
    "start_time": "2022-11-11T21:45:14.551Z"
   },
   {
    "duration": 58,
    "start_time": "2022-11-11T21:45:14.622Z"
   },
   {
    "duration": 32,
    "start_time": "2022-11-11T21:45:14.682Z"
   },
   {
    "duration": 1846,
    "start_time": "2022-11-11T21:45:14.716Z"
   },
   {
    "duration": 17,
    "start_time": "2022-11-11T21:45:16.564Z"
   },
   {
    "duration": 232,
    "start_time": "2022-11-11T21:45:16.583Z"
   },
   {
    "duration": 172,
    "start_time": "2022-11-11T21:45:16.817Z"
   },
   {
    "duration": 5,
    "start_time": "2022-11-11T21:45:16.991Z"
   },
   {
    "duration": 24,
    "start_time": "2022-11-11T21:45:16.998Z"
   },
   {
    "duration": 1099,
    "start_time": "2022-11-11T21:45:17.024Z"
   },
   {
    "duration": 15,
    "start_time": "2022-11-11T21:45:18.125Z"
   },
   {
    "duration": 1627,
    "start_time": "2022-11-11T21:45:18.141Z"
   },
   {
    "duration": 38,
    "start_time": "2022-11-11T21:45:19.770Z"
   },
   {
    "duration": 14,
    "start_time": "2022-11-11T21:45:19.810Z"
   },
   {
    "duration": 228,
    "start_time": "2022-11-11T21:45:19.826Z"
   },
   {
    "duration": 8,
    "start_time": "2022-11-11T21:46:00.702Z"
   },
   {
    "duration": 45,
    "start_time": "2022-11-11T21:46:01.482Z"
   },
   {
    "duration": 2792,
    "start_time": "2022-11-11T21:46:17.200Z"
   },
   {
    "duration": 28,
    "start_time": "2022-11-11T21:46:19.994Z"
   },
   {
    "duration": 20,
    "start_time": "2022-11-11T21:46:20.024Z"
   },
   {
    "duration": 177,
    "start_time": "2022-11-11T21:46:20.046Z"
   },
   {
    "duration": 9,
    "start_time": "2022-11-11T21:46:20.225Z"
   },
   {
    "duration": 9,
    "start_time": "2022-11-11T21:46:23.976Z"
   },
   {
    "duration": 40,
    "start_time": "2022-11-11T21:46:24.673Z"
   },
   {
    "duration": 78,
    "start_time": "2022-11-11T21:46:34.410Z"
   },
   {
    "duration": 18,
    "start_time": "2022-11-11T21:46:39.572Z"
   },
   {
    "duration": 16,
    "start_time": "2022-11-11T21:47:22.444Z"
   },
   {
    "duration": 11,
    "start_time": "2022-11-11T21:48:28.284Z"
   },
   {
    "duration": 13,
    "start_time": "2022-11-11T21:48:38.435Z"
   },
   {
    "duration": 39,
    "start_time": "2022-11-11T21:50:16.393Z"
   },
   {
    "duration": 11,
    "start_time": "2022-11-11T21:51:56.142Z"
   },
   {
    "duration": 18,
    "start_time": "2022-11-11T21:51:56.666Z"
   },
   {
    "duration": 14,
    "start_time": "2022-11-11T21:52:21.138Z"
   },
   {
    "duration": 24,
    "start_time": "2022-11-11T21:52:24.430Z"
   },
   {
    "duration": 9,
    "start_time": "2022-11-11T21:52:29.410Z"
   },
   {
    "duration": 11,
    "start_time": "2022-11-11T21:52:35.131Z"
   },
   {
    "duration": 8,
    "start_time": "2022-11-11T21:52:35.414Z"
   },
   {
    "duration": 10,
    "start_time": "2022-11-11T21:52:42.276Z"
   },
   {
    "duration": 8,
    "start_time": "2022-11-11T21:52:42.918Z"
   },
   {
    "duration": 709,
    "start_time": "2022-11-11T21:52:46.741Z"
   },
   {
    "duration": 96,
    "start_time": "2022-11-11T21:52:47.452Z"
   },
   {
    "duration": 32,
    "start_time": "2022-11-11T21:52:47.549Z"
   },
   {
    "duration": 27,
    "start_time": "2022-11-11T21:52:47.583Z"
   },
   {
    "duration": 5,
    "start_time": "2022-11-11T21:52:47.614Z"
   },
   {
    "duration": 28,
    "start_time": "2022-11-11T21:52:47.621Z"
   },
   {
    "duration": 2178,
    "start_time": "2022-11-11T21:52:47.652Z"
   },
   {
    "duration": 25,
    "start_time": "2022-11-11T21:52:49.832Z"
   },
   {
    "duration": 20,
    "start_time": "2022-11-11T21:52:49.859Z"
   },
   {
    "duration": 185,
    "start_time": "2022-11-11T21:52:49.880Z"
   },
   {
    "duration": 19,
    "start_time": "2022-11-11T21:52:50.067Z"
   },
   {
    "duration": 15,
    "start_time": "2022-11-11T21:52:50.088Z"
   },
   {
    "duration": 27,
    "start_time": "2022-11-11T21:52:50.105Z"
   },
   {
    "duration": 75,
    "start_time": "2022-11-11T21:52:50.136Z"
   },
   {
    "duration": 32,
    "start_time": "2022-11-11T21:52:50.214Z"
   },
   {
    "duration": 1910,
    "start_time": "2022-11-11T21:52:50.247Z"
   },
   {
    "duration": 9,
    "start_time": "2022-11-11T21:52:52.159Z"
   },
   {
    "duration": 245,
    "start_time": "2022-11-11T21:52:52.179Z"
   },
   {
    "duration": 174,
    "start_time": "2022-11-11T21:52:52.426Z"
   },
   {
    "duration": 6,
    "start_time": "2022-11-11T21:52:52.602Z"
   },
   {
    "duration": 21,
    "start_time": "2022-11-11T21:52:52.610Z"
   },
   {
    "duration": 1174,
    "start_time": "2022-11-11T21:52:52.633Z"
   },
   {
    "duration": 13,
    "start_time": "2022-11-11T21:52:53.809Z"
   },
   {
    "duration": 1626,
    "start_time": "2022-11-11T21:52:53.823Z"
   },
   {
    "duration": 31,
    "start_time": "2022-11-11T21:52:55.451Z"
   },
   {
    "duration": 14,
    "start_time": "2022-11-11T21:52:55.484Z"
   },
   {
    "duration": 220,
    "start_time": "2022-11-11T21:52:55.500Z"
   },
   {
    "duration": 17,
    "start_time": "2022-11-11T21:53:19.863Z"
   },
   {
    "duration": 26,
    "start_time": "2022-11-11T21:53:20.520Z"
   },
   {
    "duration": 17,
    "start_time": "2022-11-11T21:53:27.210Z"
   },
   {
    "duration": 25,
    "start_time": "2022-11-11T21:53:27.830Z"
   },
   {
    "duration": 685,
    "start_time": "2022-11-11T21:53:59.965Z"
   },
   {
    "duration": 98,
    "start_time": "2022-11-11T21:54:00.652Z"
   },
   {
    "duration": 34,
    "start_time": "2022-11-11T21:54:00.752Z"
   },
   {
    "duration": 29,
    "start_time": "2022-11-11T21:54:00.788Z"
   },
   {
    "duration": 33,
    "start_time": "2022-11-11T21:54:00.818Z"
   },
   {
    "duration": 26,
    "start_time": "2022-11-11T21:54:00.853Z"
   },
   {
    "duration": 2118,
    "start_time": "2022-11-11T21:54:00.880Z"
   },
   {
    "duration": 37,
    "start_time": "2022-11-11T21:54:03.000Z"
   },
   {
    "duration": 19,
    "start_time": "2022-11-11T21:54:03.039Z"
   },
   {
    "duration": 179,
    "start_time": "2022-11-11T21:54:03.061Z"
   },
   {
    "duration": 8,
    "start_time": "2022-11-11T21:54:03.242Z"
   },
   {
    "duration": 9,
    "start_time": "2022-11-11T21:54:03.252Z"
   },
   {
    "duration": 61,
    "start_time": "2022-11-11T21:54:03.263Z"
   },
   {
    "duration": 40,
    "start_time": "2022-11-11T21:54:03.326Z"
   },
   {
    "duration": 1933,
    "start_time": "2022-11-11T21:54:03.378Z"
   },
   {
    "duration": 8,
    "start_time": "2022-11-11T21:54:05.313Z"
   },
   {
    "duration": 260,
    "start_time": "2022-11-11T21:54:05.323Z"
   },
   {
    "duration": 178,
    "start_time": "2022-11-11T21:54:05.585Z"
   },
   {
    "duration": 5,
    "start_time": "2022-11-11T21:54:05.764Z"
   },
   {
    "duration": 23,
    "start_time": "2022-11-11T21:54:05.778Z"
   },
   {
    "duration": 1120,
    "start_time": "2022-11-11T21:54:05.803Z"
   },
   {
    "duration": 13,
    "start_time": "2022-11-11T21:54:06.925Z"
   },
   {
    "duration": 1548,
    "start_time": "2022-11-11T21:54:06.940Z"
   },
   {
    "duration": 23,
    "start_time": "2022-11-11T21:54:08.490Z"
   },
   {
    "duration": 13,
    "start_time": "2022-11-11T21:54:08.514Z"
   },
   {
    "duration": 236,
    "start_time": "2022-11-11T21:54:08.529Z"
   },
   {
    "duration": 659,
    "start_time": "2022-11-11T22:05:47.142Z"
   },
   {
    "duration": 103,
    "start_time": "2022-11-11T22:05:47.803Z"
   },
   {
    "duration": 30,
    "start_time": "2022-11-11T22:05:47.908Z"
   },
   {
    "duration": 40,
    "start_time": "2022-11-11T22:05:47.940Z"
   },
   {
    "duration": 3,
    "start_time": "2022-11-11T22:05:47.983Z"
   },
   {
    "duration": 21,
    "start_time": "2022-11-11T22:05:47.988Z"
   },
   {
    "duration": 2150,
    "start_time": "2022-11-11T22:05:48.011Z"
   },
   {
    "duration": 26,
    "start_time": "2022-11-11T22:05:50.163Z"
   },
   {
    "duration": 19,
    "start_time": "2022-11-11T22:05:50.191Z"
   },
   {
    "duration": 169,
    "start_time": "2022-11-11T22:05:50.212Z"
   },
   {
    "duration": 8,
    "start_time": "2022-11-11T22:05:50.382Z"
   },
   {
    "duration": 11,
    "start_time": "2022-11-11T22:05:50.391Z"
   },
   {
    "duration": 46,
    "start_time": "2022-11-11T22:05:50.404Z"
   },
   {
    "duration": 54,
    "start_time": "2022-11-11T22:05:50.453Z"
   },
   {
    "duration": 1865,
    "start_time": "2022-11-11T22:05:50.509Z"
   },
   {
    "duration": 8,
    "start_time": "2022-11-11T22:05:52.375Z"
   },
   {
    "duration": 238,
    "start_time": "2022-11-11T22:05:52.384Z"
   },
   {
    "duration": 180,
    "start_time": "2022-11-11T22:05:52.624Z"
   },
   {
    "duration": 6,
    "start_time": "2022-11-11T22:05:52.807Z"
   },
   {
    "duration": 26,
    "start_time": "2022-11-11T22:05:52.815Z"
   },
   {
    "duration": 1139,
    "start_time": "2022-11-11T22:05:52.844Z"
   },
   {
    "duration": 17,
    "start_time": "2022-11-11T22:05:53.985Z"
   },
   {
    "duration": 1588,
    "start_time": "2022-11-11T22:05:54.005Z"
   },
   {
    "duration": 26,
    "start_time": "2022-11-11T22:05:55.595Z"
   },
   {
    "duration": 15,
    "start_time": "2022-11-11T22:05:55.623Z"
   },
   {
    "duration": 230,
    "start_time": "2022-11-11T22:05:55.639Z"
   },
   {
    "duration": 678,
    "start_time": "2022-11-11T22:12:46.786Z"
   },
   {
    "duration": 102,
    "start_time": "2022-11-11T22:12:47.466Z"
   },
   {
    "duration": 31,
    "start_time": "2022-11-11T22:12:47.570Z"
   },
   {
    "duration": 27,
    "start_time": "2022-11-11T22:12:47.602Z"
   },
   {
    "duration": 4,
    "start_time": "2022-11-11T22:12:47.632Z"
   },
   {
    "duration": 45,
    "start_time": "2022-11-11T22:12:47.637Z"
   },
   {
    "duration": 2155,
    "start_time": "2022-11-11T22:12:47.683Z"
   },
   {
    "duration": 28,
    "start_time": "2022-11-11T22:12:49.840Z"
   },
   {
    "duration": 24,
    "start_time": "2022-11-11T22:12:49.870Z"
   },
   {
    "duration": 177,
    "start_time": "2022-11-11T22:12:49.896Z"
   },
   {
    "duration": 11,
    "start_time": "2022-11-11T22:12:50.078Z"
   },
   {
    "duration": 11,
    "start_time": "2022-11-11T22:12:50.091Z"
   },
   {
    "duration": 47,
    "start_time": "2022-11-11T22:12:50.104Z"
   },
   {
    "duration": 54,
    "start_time": "2022-11-11T22:12:50.153Z"
   },
   {
    "duration": 1834,
    "start_time": "2022-11-11T22:12:50.209Z"
   },
   {
    "duration": 7,
    "start_time": "2022-11-11T22:12:52.045Z"
   },
   {
    "duration": 245,
    "start_time": "2022-11-11T22:12:52.054Z"
   },
   {
    "duration": 176,
    "start_time": "2022-11-11T22:12:52.300Z"
   },
   {
    "duration": 6,
    "start_time": "2022-11-11T22:12:52.477Z"
   },
   {
    "duration": 22,
    "start_time": "2022-11-11T22:12:52.486Z"
   },
   {
    "duration": 1141,
    "start_time": "2022-11-11T22:12:52.510Z"
   },
   {
    "duration": 26,
    "start_time": "2022-11-11T22:12:53.653Z"
   },
   {
    "duration": 1591,
    "start_time": "2022-11-11T22:12:53.681Z"
   },
   {
    "duration": 23,
    "start_time": "2022-11-11T22:12:55.273Z"
   },
   {
    "duration": 12,
    "start_time": "2022-11-11T22:12:55.298Z"
   },
   {
    "duration": 212,
    "start_time": "2022-11-11T22:12:55.311Z"
   },
   {
    "duration": 61,
    "start_time": "2022-11-11T22:13:32.710Z"
   },
   {
    "duration": 48,
    "start_time": "2022-11-11T22:16:08.188Z"
   },
   {
    "duration": 61,
    "start_time": "2022-11-11T22:16:13.419Z"
   },
   {
    "duration": 700,
    "start_time": "2022-11-11T22:23:55.566Z"
   },
   {
    "duration": 98,
    "start_time": "2022-11-11T22:23:56.269Z"
   },
   {
    "duration": 32,
    "start_time": "2022-11-11T22:23:56.369Z"
   },
   {
    "duration": 28,
    "start_time": "2022-11-11T22:23:56.405Z"
   },
   {
    "duration": 5,
    "start_time": "2022-11-11T22:23:56.435Z"
   },
   {
    "duration": 47,
    "start_time": "2022-11-11T22:23:56.442Z"
   },
   {
    "duration": 2099,
    "start_time": "2022-11-11T22:23:56.491Z"
   },
   {
    "duration": 28,
    "start_time": "2022-11-11T22:23:58.592Z"
   },
   {
    "duration": 22,
    "start_time": "2022-11-11T22:23:58.622Z"
   },
   {
    "duration": 200,
    "start_time": "2022-11-11T22:23:58.648Z"
   },
   {
    "duration": 9,
    "start_time": "2022-11-11T22:23:58.850Z"
   },
   {
    "duration": 40,
    "start_time": "2022-11-11T22:23:58.861Z"
   },
   {
    "duration": 61,
    "start_time": "2022-11-11T22:23:58.904Z"
   },
   {
    "duration": 34,
    "start_time": "2022-11-11T22:23:58.967Z"
   },
   {
    "duration": 1829,
    "start_time": "2022-11-11T22:23:59.002Z"
   },
   {
    "duration": 8,
    "start_time": "2022-11-11T22:24:00.833Z"
   },
   {
    "duration": 253,
    "start_time": "2022-11-11T22:24:00.843Z"
   },
   {
    "duration": 187,
    "start_time": "2022-11-11T22:24:01.097Z"
   },
   {
    "duration": 6,
    "start_time": "2022-11-11T22:24:01.286Z"
   },
   {
    "duration": 35,
    "start_time": "2022-11-11T22:24:01.294Z"
   },
   {
    "duration": 1133,
    "start_time": "2022-11-11T22:24:01.331Z"
   },
   {
    "duration": 18,
    "start_time": "2022-11-11T22:24:02.466Z"
   },
   {
    "duration": 1675,
    "start_time": "2022-11-11T22:24:02.486Z"
   },
   {
    "duration": 34,
    "start_time": "2022-11-11T22:24:04.163Z"
   },
   {
    "duration": 14,
    "start_time": "2022-11-11T22:24:04.199Z"
   },
   {
    "duration": 220,
    "start_time": "2022-11-11T22:24:04.214Z"
   },
   {
    "duration": 77,
    "start_time": "2022-11-11T22:24:48.922Z"
   },
   {
    "duration": 1921,
    "start_time": "2022-11-11T22:25:00.855Z"
   },
   {
    "duration": 1731,
    "start_time": "2022-11-11T22:26:42.708Z"
   },
   {
    "duration": 7,
    "start_time": "2022-11-11T22:30:11.568Z"
   },
   {
    "duration": 184,
    "start_time": "2022-11-11T22:31:04.547Z"
   },
   {
    "duration": 156,
    "start_time": "2022-11-11T22:31:10.554Z"
   },
   {
    "duration": 346,
    "start_time": "2022-11-11T22:31:36.342Z"
   },
   {
    "duration": 8,
    "start_time": "2022-11-11T22:37:35.461Z"
   },
   {
    "duration": 190,
    "start_time": "2022-11-11T22:38:09.769Z"
   },
   {
    "duration": 6,
    "start_time": "2022-11-11T22:41:14.571Z"
   },
   {
    "duration": 172,
    "start_time": "2022-11-11T22:41:29.054Z"
   },
   {
    "duration": 237,
    "start_time": "2022-11-11T22:41:34.581Z"
   },
   {
    "duration": 191,
    "start_time": "2022-11-11T22:42:07.555Z"
   },
   {
    "duration": 627,
    "start_time": "2022-11-11T22:42:55.708Z"
   },
   {
    "duration": 99,
    "start_time": "2022-11-11T22:42:56.337Z"
   },
   {
    "duration": 30,
    "start_time": "2022-11-11T22:42:56.438Z"
   },
   {
    "duration": 30,
    "start_time": "2022-11-11T22:42:56.470Z"
   },
   {
    "duration": 4,
    "start_time": "2022-11-11T22:42:56.503Z"
   },
   {
    "duration": 17,
    "start_time": "2022-11-11T22:42:56.509Z"
   },
   {
    "duration": 2019,
    "start_time": "2022-11-11T22:42:56.527Z"
   },
   {
    "duration": 25,
    "start_time": "2022-11-11T22:42:58.547Z"
   },
   {
    "duration": 18,
    "start_time": "2022-11-11T22:42:58.574Z"
   },
   {
    "duration": 160,
    "start_time": "2022-11-11T22:42:58.594Z"
   },
   {
    "duration": 8,
    "start_time": "2022-11-11T22:42:58.756Z"
   },
   {
    "duration": 9,
    "start_time": "2022-11-11T22:42:58.777Z"
   },
   {
    "duration": 45,
    "start_time": "2022-11-11T22:42:58.788Z"
   },
   {
    "duration": 48,
    "start_time": "2022-11-11T22:42:58.836Z"
   },
   {
    "duration": 73,
    "start_time": "2022-11-11T22:42:58.886Z"
   },
   {
    "duration": 0,
    "start_time": "2022-11-11T22:42:58.961Z"
   },
   {
    "duration": 0,
    "start_time": "2022-11-11T22:42:58.962Z"
   },
   {
    "duration": 0,
    "start_time": "2022-11-11T22:42:58.963Z"
   },
   {
    "duration": 0,
    "start_time": "2022-11-11T22:42:58.965Z"
   },
   {
    "duration": 0,
    "start_time": "2022-11-11T22:42:58.966Z"
   },
   {
    "duration": 0,
    "start_time": "2022-11-11T22:42:58.967Z"
   },
   {
    "duration": 0,
    "start_time": "2022-11-11T22:42:58.968Z"
   },
   {
    "duration": 0,
    "start_time": "2022-11-11T22:42:58.969Z"
   },
   {
    "duration": 0,
    "start_time": "2022-11-11T22:42:58.970Z"
   },
   {
    "duration": 0,
    "start_time": "2022-11-11T22:42:58.971Z"
   },
   {
    "duration": 0,
    "start_time": "2022-11-11T22:42:58.972Z"
   },
   {
    "duration": 0,
    "start_time": "2022-11-11T22:42:58.973Z"
   },
   {
    "duration": 0,
    "start_time": "2022-11-11T22:42:58.974Z"
   },
   {
    "duration": 0,
    "start_time": "2022-11-11T22:42:58.975Z"
   },
   {
    "duration": 0,
    "start_time": "2022-11-11T22:42:58.976Z"
   },
   {
    "duration": 69,
    "start_time": "2022-11-11T22:43:25.621Z"
   },
   {
    "duration": 72,
    "start_time": "2022-11-11T22:43:34.286Z"
   },
   {
    "duration": 1811,
    "start_time": "2022-11-11T22:43:39.830Z"
   },
   {
    "duration": 7,
    "start_time": "2022-11-11T22:43:42.489Z"
   },
   {
    "duration": 206,
    "start_time": "2022-11-11T22:43:42.643Z"
   },
   {
    "duration": 8,
    "start_time": "2022-11-11T22:43:43.398Z"
   },
   {
    "duration": 253,
    "start_time": "2022-11-11T22:43:43.927Z"
   },
   {
    "duration": 8,
    "start_time": "2022-11-11T22:43:45.750Z"
   },
   {
    "duration": 219,
    "start_time": "2022-11-11T22:43:45.877Z"
   },
   {
    "duration": 175,
    "start_time": "2022-11-11T22:43:46.098Z"
   },
   {
    "duration": 7,
    "start_time": "2022-11-11T22:43:46.278Z"
   },
   {
    "duration": 7,
    "start_time": "2022-11-11T22:47:50.914Z"
   },
   {
    "duration": 206,
    "start_time": "2022-11-11T22:48:50.241Z"
   },
   {
    "duration": 162,
    "start_time": "2022-11-11T22:49:11.812Z"
   },
   {
    "duration": 182,
    "start_time": "2022-11-11T22:49:17.005Z"
   },
   {
    "duration": 637,
    "start_time": "2022-11-11T22:50:15.403Z"
   },
   {
    "duration": 95,
    "start_time": "2022-11-11T22:50:16.042Z"
   },
   {
    "duration": 30,
    "start_time": "2022-11-11T22:50:16.139Z"
   },
   {
    "duration": 30,
    "start_time": "2022-11-11T22:50:16.171Z"
   },
   {
    "duration": 5,
    "start_time": "2022-11-11T22:50:16.203Z"
   },
   {
    "duration": 19,
    "start_time": "2022-11-11T22:50:16.209Z"
   },
   {
    "duration": 2024,
    "start_time": "2022-11-11T22:50:16.230Z"
   },
   {
    "duration": 26,
    "start_time": "2022-11-11T22:50:18.255Z"
   },
   {
    "duration": 19,
    "start_time": "2022-11-11T22:50:18.283Z"
   },
   {
    "duration": 158,
    "start_time": "2022-11-11T22:50:18.303Z"
   },
   {
    "duration": 15,
    "start_time": "2022-11-11T22:50:18.463Z"
   },
   {
    "duration": 9,
    "start_time": "2022-11-11T22:50:18.480Z"
   },
   {
    "duration": 45,
    "start_time": "2022-11-11T22:50:18.491Z"
   },
   {
    "duration": 55,
    "start_time": "2022-11-11T22:50:18.539Z"
   },
   {
    "duration": 1853,
    "start_time": "2022-11-11T22:50:18.595Z"
   },
   {
    "duration": 7,
    "start_time": "2022-11-11T22:50:20.450Z"
   },
   {
    "duration": 208,
    "start_time": "2022-11-11T22:50:20.459Z"
   },
   {
    "duration": 13,
    "start_time": "2022-11-11T22:50:20.668Z"
   },
   {
    "duration": 198,
    "start_time": "2022-11-11T22:50:20.682Z"
   },
   {
    "duration": 7,
    "start_time": "2022-11-11T22:50:20.882Z"
   },
   {
    "duration": 212,
    "start_time": "2022-11-11T22:50:20.891Z"
   },
   {
    "duration": 8,
    "start_time": "2022-11-11T22:50:21.105Z"
   },
   {
    "duration": 235,
    "start_time": "2022-11-11T22:50:21.115Z"
   },
   {
    "duration": 175,
    "start_time": "2022-11-11T22:50:21.352Z"
   },
   {
    "duration": 6,
    "start_time": "2022-11-11T22:50:21.529Z"
   },
   {
    "duration": 22,
    "start_time": "2022-11-11T22:50:21.537Z"
   },
   {
    "duration": 1196,
    "start_time": "2022-11-11T22:50:21.578Z"
   },
   {
    "duration": 14,
    "start_time": "2022-11-11T22:50:22.777Z"
   },
   {
    "duration": 1489,
    "start_time": "2022-11-11T22:50:22.793Z"
   },
   {
    "duration": 23,
    "start_time": "2022-11-11T22:50:24.283Z"
   },
   {
    "duration": 13,
    "start_time": "2022-11-11T22:50:24.307Z"
   },
   {
    "duration": 213,
    "start_time": "2022-11-11T22:50:24.322Z"
   },
   {
    "duration": 8,
    "start_time": "2022-11-11T22:54:31.170Z"
   },
   {
    "duration": 7,
    "start_time": "2022-11-11T22:54:38.606Z"
   },
   {
    "duration": 227,
    "start_time": "2022-11-11T22:54:39.422Z"
   },
   {
    "duration": 84,
    "start_time": "2022-11-11T22:55:07.356Z"
   },
   {
    "duration": 170,
    "start_time": "2022-11-11T22:55:33.870Z"
   },
   {
    "duration": 74,
    "start_time": "2022-11-11T22:56:05.721Z"
   },
   {
    "duration": 160,
    "start_time": "2022-11-11T22:56:35.937Z"
   },
   {
    "duration": 227,
    "start_time": "2022-11-11T22:57:33.187Z"
   },
   {
    "duration": 308,
    "start_time": "2022-11-11T22:57:48.170Z"
   },
   {
    "duration": 175,
    "start_time": "2022-11-11T22:58:32.058Z"
   },
   {
    "duration": 1354,
    "start_time": "2022-11-11T22:59:43.146Z"
   },
   {
    "duration": 704,
    "start_time": "2022-11-11T23:02:23.371Z"
   },
   {
    "duration": 101,
    "start_time": "2022-11-11T23:02:24.078Z"
   },
   {
    "duration": 30,
    "start_time": "2022-11-11T23:02:24.181Z"
   },
   {
    "duration": 115,
    "start_time": "2022-11-11T23:02:24.213Z"
   },
   {
    "duration": 9,
    "start_time": "2022-11-11T23:02:24.329Z"
   },
   {
    "duration": 19,
    "start_time": "2022-11-11T23:02:24.339Z"
   },
   {
    "duration": 2098,
    "start_time": "2022-11-11T23:02:24.360Z"
   },
   {
    "duration": 27,
    "start_time": "2022-11-11T23:02:26.459Z"
   },
   {
    "duration": 18,
    "start_time": "2022-11-11T23:02:26.488Z"
   },
   {
    "duration": 174,
    "start_time": "2022-11-11T23:02:26.509Z"
   },
   {
    "duration": 8,
    "start_time": "2022-11-11T23:02:26.684Z"
   },
   {
    "duration": 13,
    "start_time": "2022-11-11T23:02:26.694Z"
   },
   {
    "duration": 49,
    "start_time": "2022-11-11T23:02:26.709Z"
   },
   {
    "duration": 33,
    "start_time": "2022-11-11T23:02:26.777Z"
   },
   {
    "duration": 1833,
    "start_time": "2022-11-11T23:02:26.812Z"
   },
   {
    "duration": 9,
    "start_time": "2022-11-11T23:02:28.647Z"
   },
   {
    "duration": 220,
    "start_time": "2022-11-11T23:02:28.658Z"
   },
   {
    "duration": 7,
    "start_time": "2022-11-11T23:02:28.880Z"
   },
   {
    "duration": 243,
    "start_time": "2022-11-11T23:02:28.890Z"
   },
   {
    "duration": 163,
    "start_time": "2022-11-11T23:02:29.135Z"
   },
   {
    "duration": 184,
    "start_time": "2022-11-11T23:02:29.301Z"
   },
   {
    "duration": 1516,
    "start_time": "2022-11-11T23:02:29.487Z"
   },
   {
    "duration": 8,
    "start_time": "2022-11-11T23:02:31.006Z"
   },
   {
    "duration": 249,
    "start_time": "2022-11-11T23:02:31.015Z"
   },
   {
    "duration": 173,
    "start_time": "2022-11-11T23:02:31.266Z"
   },
   {
    "duration": 6,
    "start_time": "2022-11-11T23:02:31.440Z"
   },
   {
    "duration": 32,
    "start_time": "2022-11-11T23:02:31.447Z"
   },
   {
    "duration": 1098,
    "start_time": "2022-11-11T23:02:31.482Z"
   },
   {
    "duration": 13,
    "start_time": "2022-11-11T23:02:32.582Z"
   },
   {
    "duration": 1606,
    "start_time": "2022-11-11T23:02:32.596Z"
   },
   {
    "duration": 24,
    "start_time": "2022-11-11T23:02:34.204Z"
   },
   {
    "duration": 15,
    "start_time": "2022-11-11T23:02:34.230Z"
   },
   {
    "duration": 213,
    "start_time": "2022-11-11T23:02:34.247Z"
   },
   {
    "duration": 7,
    "start_time": "2022-11-11T23:03:02.925Z"
   },
   {
    "duration": 187,
    "start_time": "2022-11-11T23:03:03.224Z"
   },
   {
    "duration": 10,
    "start_time": "2022-11-11T23:03:04.049Z"
   },
   {
    "duration": 1935,
    "start_time": "2022-11-11T23:03:55.426Z"
   },
   {
    "duration": 1603,
    "start_time": "2022-11-11T23:04:15.872Z"
   },
   {
    "duration": 1362,
    "start_time": "2022-11-11T23:05:38.264Z"
   },
   {
    "duration": 1520,
    "start_time": "2022-11-11T23:05:44.988Z"
   },
   {
    "duration": 2019,
    "start_time": "2022-11-11T23:06:04.772Z"
   },
   {
    "duration": 12,
    "start_time": "2022-11-11T23:14:47.401Z"
   },
   {
    "duration": 1970,
    "start_time": "2022-11-11T23:15:03.171Z"
   },
   {
    "duration": 1891,
    "start_time": "2022-11-11T23:18:01.807Z"
   },
   {
    "duration": 21,
    "start_time": "2022-11-11T23:18:16.231Z"
   },
   {
    "duration": 13,
    "start_time": "2022-11-11T23:20:54.991Z"
   },
   {
    "duration": 1704,
    "start_time": "2022-11-11T23:20:55.481Z"
   },
   {
    "duration": 685,
    "start_time": "2022-11-11T23:21:02.992Z"
   },
   {
    "duration": 100,
    "start_time": "2022-11-11T23:21:03.679Z"
   },
   {
    "duration": 31,
    "start_time": "2022-11-11T23:21:03.781Z"
   },
   {
    "duration": 27,
    "start_time": "2022-11-11T23:21:03.813Z"
   },
   {
    "duration": 10,
    "start_time": "2022-11-11T23:21:03.842Z"
   },
   {
    "duration": 38,
    "start_time": "2022-11-11T23:21:03.854Z"
   },
   {
    "duration": 2200,
    "start_time": "2022-11-11T23:21:03.893Z"
   },
   {
    "duration": 28,
    "start_time": "2022-11-11T23:21:06.095Z"
   },
   {
    "duration": 19,
    "start_time": "2022-11-11T23:21:06.125Z"
   },
   {
    "duration": 163,
    "start_time": "2022-11-11T23:21:06.146Z"
   },
   {
    "duration": 8,
    "start_time": "2022-11-11T23:21:06.311Z"
   },
   {
    "duration": 12,
    "start_time": "2022-11-11T23:21:06.321Z"
   },
   {
    "duration": 64,
    "start_time": "2022-11-11T23:21:06.334Z"
   },
   {
    "duration": 33,
    "start_time": "2022-11-11T23:21:06.401Z"
   },
   {
    "duration": 7,
    "start_time": "2022-11-11T23:21:06.436Z"
   },
   {
    "duration": 219,
    "start_time": "2022-11-11T23:21:06.444Z"
   },
   {
    "duration": 14,
    "start_time": "2022-11-11T23:21:06.665Z"
   },
   {
    "duration": 235,
    "start_time": "2022-11-11T23:21:06.681Z"
   },
   {
    "duration": 173,
    "start_time": "2022-11-11T23:21:06.918Z"
   },
   {
    "duration": 172,
    "start_time": "2022-11-11T23:21:07.093Z"
   },
   {
    "duration": 2128,
    "start_time": "2022-11-11T23:21:07.267Z"
   },
   {
    "duration": 8,
    "start_time": "2022-11-11T23:21:09.397Z"
   },
   {
    "duration": 361,
    "start_time": "2022-11-11T23:21:09.407Z"
   },
   {
    "duration": 178,
    "start_time": "2022-11-11T23:21:09.770Z"
   },
   {
    "duration": 7,
    "start_time": "2022-11-11T23:21:09.950Z"
   },
   {
    "duration": 36,
    "start_time": "2022-11-11T23:21:09.959Z"
   },
   {
    "duration": 13,
    "start_time": "2022-11-11T23:21:09.997Z"
   },
   {
    "duration": 1774,
    "start_time": "2022-11-11T23:21:10.012Z"
   },
   {
    "duration": 24,
    "start_time": "2022-11-11T23:21:11.788Z"
   },
   {
    "duration": 14,
    "start_time": "2022-11-11T23:21:11.814Z"
   },
   {
    "duration": 236,
    "start_time": "2022-11-11T23:21:11.829Z"
   },
   {
    "duration": 51,
    "start_time": "2022-11-12T09:26:26.206Z"
   },
   {
    "duration": 832,
    "start_time": "2022-11-12T09:26:31.823Z"
   },
   {
    "duration": 162,
    "start_time": "2022-11-12T09:26:32.657Z"
   },
   {
    "duration": 38,
    "start_time": "2022-11-12T09:26:32.821Z"
   },
   {
    "duration": 39,
    "start_time": "2022-11-12T09:26:32.862Z"
   },
   {
    "duration": 5,
    "start_time": "2022-11-12T09:26:32.903Z"
   },
   {
    "duration": 39,
    "start_time": "2022-11-12T09:26:32.910Z"
   },
   {
    "duration": 2231,
    "start_time": "2022-11-12T09:26:32.951Z"
   },
   {
    "duration": 38,
    "start_time": "2022-11-12T09:26:35.184Z"
   },
   {
    "duration": 32,
    "start_time": "2022-11-12T09:26:35.224Z"
   },
   {
    "duration": 180,
    "start_time": "2022-11-12T09:26:35.259Z"
   },
   {
    "duration": 12,
    "start_time": "2022-11-12T09:26:35.441Z"
   },
   {
    "duration": 28,
    "start_time": "2022-11-12T09:26:35.455Z"
   },
   {
    "duration": 57,
    "start_time": "2022-11-12T09:26:35.486Z"
   },
   {
    "duration": 56,
    "start_time": "2022-11-12T09:26:35.545Z"
   },
   {
    "duration": 17,
    "start_time": "2022-11-12T09:26:35.603Z"
   },
   {
    "duration": 211,
    "start_time": "2022-11-12T09:26:35.622Z"
   },
   {
    "duration": 8,
    "start_time": "2022-11-12T09:26:35.835Z"
   },
   {
    "duration": 274,
    "start_time": "2022-11-12T09:26:35.845Z"
   },
   {
    "duration": 170,
    "start_time": "2022-11-12T09:26:36.121Z"
   },
   {
    "duration": 178,
    "start_time": "2022-11-12T09:26:36.293Z"
   },
   {
    "duration": 2246,
    "start_time": "2022-11-12T09:26:36.477Z"
   },
   {
    "duration": 9,
    "start_time": "2022-11-12T09:26:38.726Z"
   },
   {
    "duration": 381,
    "start_time": "2022-11-12T09:26:38.737Z"
   },
   {
    "duration": 206,
    "start_time": "2022-11-12T09:26:39.120Z"
   },
   {
    "duration": 6,
    "start_time": "2022-11-12T09:26:39.327Z"
   },
   {
    "duration": 25,
    "start_time": "2022-11-12T09:26:39.335Z"
   },
   {
    "duration": 18,
    "start_time": "2022-11-12T09:26:39.379Z"
   },
   {
    "duration": 1828,
    "start_time": "2022-11-12T09:26:39.402Z"
   },
   {
    "duration": 28,
    "start_time": "2022-11-12T09:26:41.232Z"
   },
   {
    "duration": 40,
    "start_time": "2022-11-12T09:26:41.263Z"
   },
   {
    "duration": 214,
    "start_time": "2022-11-12T09:26:41.305Z"
   },
   {
    "duration": 186,
    "start_time": "2022-11-12T09:32:02.680Z"
   },
   {
    "duration": 159,
    "start_time": "2022-11-12T09:32:11.058Z"
   },
   {
    "duration": 92,
    "start_time": "2022-11-12T09:37:03.853Z"
   },
   {
    "duration": 87,
    "start_time": "2022-11-12T09:37:08.027Z"
   },
   {
    "duration": 117,
    "start_time": "2022-11-12T09:38:14.245Z"
   },
   {
    "duration": 51,
    "start_time": "2022-11-12T09:38:18.519Z"
   },
   {
    "duration": 7,
    "start_time": "2022-11-12T09:39:53.666Z"
   },
   {
    "duration": 689,
    "start_time": "2022-11-12T09:40:00.391Z"
   },
   {
    "duration": 100,
    "start_time": "2022-11-12T09:40:01.082Z"
   },
   {
    "duration": 37,
    "start_time": "2022-11-12T09:40:01.184Z"
   },
   {
    "duration": 31,
    "start_time": "2022-11-12T09:40:01.224Z"
   },
   {
    "duration": 22,
    "start_time": "2022-11-12T09:40:01.257Z"
   },
   {
    "duration": 18,
    "start_time": "2022-11-12T09:40:01.281Z"
   },
   {
    "duration": 2129,
    "start_time": "2022-11-12T09:40:01.300Z"
   },
   {
    "duration": 27,
    "start_time": "2022-11-12T09:40:03.431Z"
   },
   {
    "duration": 19,
    "start_time": "2022-11-12T09:40:03.460Z"
   },
   {
    "duration": 159,
    "start_time": "2022-11-12T09:40:03.481Z"
   },
   {
    "duration": 8,
    "start_time": "2022-11-12T09:40:03.642Z"
   },
   {
    "duration": 27,
    "start_time": "2022-11-12T09:40:03.651Z"
   },
   {
    "duration": 46,
    "start_time": "2022-11-12T09:40:03.680Z"
   },
   {
    "duration": 32,
    "start_time": "2022-11-12T09:40:03.728Z"
   },
   {
    "duration": 8,
    "start_time": "2022-11-12T09:40:03.779Z"
   },
   {
    "duration": 234,
    "start_time": "2022-11-12T09:40:03.789Z"
   },
   {
    "duration": 9,
    "start_time": "2022-11-12T09:40:04.025Z"
   },
   {
    "duration": 282,
    "start_time": "2022-11-12T09:40:04.037Z"
   },
   {
    "duration": 162,
    "start_time": "2022-11-12T09:40:04.321Z"
   },
   {
    "duration": 176,
    "start_time": "2022-11-12T09:40:04.485Z"
   },
   {
    "duration": 2124,
    "start_time": "2022-11-12T09:40:04.663Z"
   },
   {
    "duration": 8,
    "start_time": "2022-11-12T09:40:06.788Z"
   },
   {
    "duration": 348,
    "start_time": "2022-11-12T09:40:06.797Z"
   },
   {
    "duration": 178,
    "start_time": "2022-11-12T09:40:07.147Z"
   },
   {
    "duration": 7,
    "start_time": "2022-11-12T09:40:07.327Z"
   },
   {
    "duration": 43,
    "start_time": "2022-11-12T09:40:07.336Z"
   },
   {
    "duration": 13,
    "start_time": "2022-11-12T09:40:07.381Z"
   },
   {
    "duration": 1761,
    "start_time": "2022-11-12T09:40:07.398Z"
   },
   {
    "duration": 17,
    "start_time": "2022-11-12T09:40:09.161Z"
   },
   {
    "duration": 47,
    "start_time": "2022-11-12T09:40:09.180Z"
   },
   {
    "duration": 22,
    "start_time": "2022-11-12T09:40:09.229Z"
   },
   {
    "duration": 47,
    "start_time": "2022-11-12T09:40:09.252Z"
   },
   {
    "duration": 234,
    "start_time": "2022-11-12T09:40:09.301Z"
   },
   {
    "duration": 53,
    "start_time": "2022-11-12T09:40:51.416Z"
   },
   {
    "duration": 51,
    "start_time": "2022-11-12T09:41:56.783Z"
   },
   {
    "duration": 701,
    "start_time": "2022-11-12T09:42:06.544Z"
   },
   {
    "duration": 102,
    "start_time": "2022-11-12T09:42:07.247Z"
   },
   {
    "duration": 36,
    "start_time": "2022-11-12T09:42:07.350Z"
   },
   {
    "duration": 27,
    "start_time": "2022-11-12T09:42:07.387Z"
   },
   {
    "duration": 5,
    "start_time": "2022-11-12T09:42:07.416Z"
   },
   {
    "duration": 18,
    "start_time": "2022-11-12T09:42:07.423Z"
   },
   {
    "duration": 2098,
    "start_time": "2022-11-12T09:42:07.443Z"
   },
   {
    "duration": 27,
    "start_time": "2022-11-12T09:42:09.544Z"
   },
   {
    "duration": 23,
    "start_time": "2022-11-12T09:42:09.573Z"
   },
   {
    "duration": 174,
    "start_time": "2022-11-12T09:42:09.599Z"
   },
   {
    "duration": 10,
    "start_time": "2022-11-12T09:42:09.774Z"
   },
   {
    "duration": 11,
    "start_time": "2022-11-12T09:42:09.786Z"
   },
   {
    "duration": 52,
    "start_time": "2022-11-12T09:42:09.798Z"
   },
   {
    "duration": 57,
    "start_time": "2022-11-12T09:42:09.852Z"
   },
   {
    "duration": 7,
    "start_time": "2022-11-12T09:42:09.911Z"
   },
   {
    "duration": 213,
    "start_time": "2022-11-12T09:42:09.920Z"
   },
   {
    "duration": 7,
    "start_time": "2022-11-12T09:42:10.135Z"
   },
   {
    "duration": 244,
    "start_time": "2022-11-12T09:42:10.143Z"
   },
   {
    "duration": 162,
    "start_time": "2022-11-12T09:42:10.389Z"
   },
   {
    "duration": 178,
    "start_time": "2022-11-12T09:42:10.553Z"
   },
   {
    "duration": 2159,
    "start_time": "2022-11-12T09:42:10.733Z"
   },
   {
    "duration": 9,
    "start_time": "2022-11-12T09:42:12.894Z"
   },
   {
    "duration": 352,
    "start_time": "2022-11-12T09:42:12.905Z"
   },
   {
    "duration": 193,
    "start_time": "2022-11-12T09:42:13.259Z"
   },
   {
    "duration": 6,
    "start_time": "2022-11-12T09:42:13.454Z"
   },
   {
    "duration": 32,
    "start_time": "2022-11-12T09:42:13.462Z"
   },
   {
    "duration": 14,
    "start_time": "2022-11-12T09:42:13.496Z"
   },
   {
    "duration": 1813,
    "start_time": "2022-11-12T09:42:13.513Z"
   },
   {
    "duration": 8,
    "start_time": "2022-11-12T09:42:15.327Z"
   },
   {
    "duration": 54,
    "start_time": "2022-11-12T09:42:15.337Z"
   },
   {
    "duration": 25,
    "start_time": "2022-11-12T09:42:15.393Z"
   },
   {
    "duration": 25,
    "start_time": "2022-11-12T09:42:15.420Z"
   },
   {
    "duration": 243,
    "start_time": "2022-11-12T09:42:15.447Z"
   },
   {
    "duration": 39,
    "start_time": "2022-11-12T09:43:29.560Z"
   },
   {
    "duration": 720,
    "start_time": "2022-11-12T09:45:31.878Z"
   },
   {
    "duration": 95,
    "start_time": "2022-11-12T09:45:32.601Z"
   },
   {
    "duration": 32,
    "start_time": "2022-11-12T09:45:32.697Z"
   },
   {
    "duration": 27,
    "start_time": "2022-11-12T09:45:32.731Z"
   },
   {
    "duration": 5,
    "start_time": "2022-11-12T09:45:32.778Z"
   },
   {
    "duration": 24,
    "start_time": "2022-11-12T09:45:32.785Z"
   },
   {
    "duration": 2162,
    "start_time": "2022-11-12T09:45:32.811Z"
   },
   {
    "duration": 27,
    "start_time": "2022-11-12T09:45:34.975Z"
   },
   {
    "duration": 21,
    "start_time": "2022-11-12T09:45:35.004Z"
   },
   {
    "duration": 209,
    "start_time": "2022-11-12T09:45:35.029Z"
   },
   {
    "duration": 9,
    "start_time": "2022-11-12T09:45:35.240Z"
   },
   {
    "duration": 11,
    "start_time": "2022-11-12T09:45:35.250Z"
   },
   {
    "duration": 59,
    "start_time": "2022-11-12T09:45:35.263Z"
   },
   {
    "duration": 34,
    "start_time": "2022-11-12T09:45:35.323Z"
   },
   {
    "duration": 25,
    "start_time": "2022-11-12T09:45:35.359Z"
   },
   {
    "duration": 210,
    "start_time": "2022-11-12T09:45:35.386Z"
   },
   {
    "duration": 7,
    "start_time": "2022-11-12T09:45:35.597Z"
   },
   {
    "duration": 243,
    "start_time": "2022-11-12T09:45:35.606Z"
   },
   {
    "duration": 161,
    "start_time": "2022-11-12T09:45:35.852Z"
   },
   {
    "duration": 187,
    "start_time": "2022-11-12T09:45:36.015Z"
   },
   {
    "duration": 2254,
    "start_time": "2022-11-12T09:45:36.204Z"
   },
   {
    "duration": 8,
    "start_time": "2022-11-12T09:45:38.459Z"
   },
   {
    "duration": 324,
    "start_time": "2022-11-12T09:45:38.479Z"
   },
   {
    "duration": 180,
    "start_time": "2022-11-12T09:45:38.804Z"
   },
   {
    "duration": 7,
    "start_time": "2022-11-12T09:45:38.985Z"
   },
   {
    "duration": 24,
    "start_time": "2022-11-12T09:45:38.993Z"
   },
   {
    "duration": 16,
    "start_time": "2022-11-12T09:45:39.019Z"
   },
   {
    "duration": 1715,
    "start_time": "2022-11-12T09:45:39.039Z"
   },
   {
    "duration": 8,
    "start_time": "2022-11-12T09:45:40.756Z"
   },
   {
    "duration": 30,
    "start_time": "2022-11-12T09:45:40.779Z"
   },
   {
    "duration": 22,
    "start_time": "2022-11-12T09:45:40.811Z"
   },
   {
    "duration": 43,
    "start_time": "2022-11-12T09:45:40.835Z"
   },
   {
    "duration": 208,
    "start_time": "2022-11-12T09:45:40.879Z"
   },
   {
    "duration": 39,
    "start_time": "2022-11-12T09:45:49.267Z"
   },
   {
    "duration": 38,
    "start_time": "2022-11-12T09:46:04.466Z"
   },
   {
    "duration": 35,
    "start_time": "2022-11-12T09:46:19.455Z"
   },
   {
    "duration": 26,
    "start_time": "2022-11-12T09:46:34.717Z"
   },
   {
    "duration": 4,
    "start_time": "2022-11-12T09:46:41.452Z"
   },
   {
    "duration": 17,
    "start_time": "2022-11-12T09:47:01.070Z"
   },
   {
    "duration": 22,
    "start_time": "2022-11-12T09:50:28.625Z"
   },
   {
    "duration": 1848,
    "start_time": "2022-11-12T09:50:58.330Z"
   },
   {
    "duration": 128,
    "start_time": "2022-11-12T09:52:30.904Z"
   },
   {
    "duration": 12,
    "start_time": "2022-11-12T09:54:38.282Z"
   },
   {
    "duration": 73,
    "start_time": "2022-11-12T09:59:06.810Z"
   },
   {
    "duration": 1735,
    "start_time": "2022-11-12T10:05:44.973Z"
   },
   {
    "duration": 2307,
    "start_time": "2022-11-12T10:08:46.873Z"
   },
   {
    "duration": 2152,
    "start_time": "2022-11-12T10:10:53.061Z"
   },
   {
    "duration": 743,
    "start_time": "2022-11-12T10:50:32.190Z"
   },
   {
    "duration": 318,
    "start_time": "2022-11-12T10:50:32.935Z"
   },
   {
    "duration": 28,
    "start_time": "2022-11-12T10:50:33.344Z"
   },
   {
    "duration": 22,
    "start_time": "2022-11-12T10:50:33.738Z"
   },
   {
    "duration": 5,
    "start_time": "2022-11-12T10:50:34.709Z"
   },
   {
    "duration": 14,
    "start_time": "2022-11-12T10:50:35.003Z"
   },
   {
    "duration": 1800,
    "start_time": "2022-11-12T10:50:35.915Z"
   },
   {
    "duration": 25,
    "start_time": "2022-11-12T10:50:38.692Z"
   },
   {
    "duration": 17,
    "start_time": "2022-11-12T10:50:39.125Z"
   },
   {
    "duration": 137,
    "start_time": "2022-11-12T10:50:39.962Z"
   },
   {
    "duration": 9,
    "start_time": "2022-11-12T10:50:40.768Z"
   },
   {
    "duration": 9,
    "start_time": "2022-11-12T10:50:42.265Z"
   },
   {
    "duration": 69,
    "start_time": "2022-11-12T10:50:43.751Z"
   },
   {
    "duration": 9,
    "start_time": "2022-11-12T10:51:14.487Z"
   },
   {
    "duration": 41,
    "start_time": "2022-11-12T15:52:50.512Z"
   },
   {
    "duration": 754,
    "start_time": "2022-11-12T15:52:57.895Z"
   },
   {
    "duration": 126,
    "start_time": "2022-11-12T15:52:58.651Z"
   },
   {
    "duration": 28,
    "start_time": "2022-11-12T15:52:58.779Z"
   },
   {
    "duration": 21,
    "start_time": "2022-11-12T15:52:58.809Z"
   },
   {
    "duration": 3,
    "start_time": "2022-11-12T15:52:58.832Z"
   },
   {
    "duration": 15,
    "start_time": "2022-11-12T15:52:58.837Z"
   },
   {
    "duration": 1847,
    "start_time": "2022-11-12T15:52:58.854Z"
   },
   {
    "duration": 22,
    "start_time": "2022-11-12T15:53:00.703Z"
   },
   {
    "duration": 15,
    "start_time": "2022-11-12T15:53:00.727Z"
   },
   {
    "duration": 146,
    "start_time": "2022-11-12T15:53:00.745Z"
   },
   {
    "duration": 8,
    "start_time": "2022-11-12T15:53:00.893Z"
   },
   {
    "duration": 5,
    "start_time": "2022-11-12T15:53:00.913Z"
   },
   {
    "duration": 11,
    "start_time": "2022-11-12T15:53:00.920Z"
   },
   {
    "duration": 52,
    "start_time": "2022-11-12T15:53:00.933Z"
   },
   {
    "duration": 42,
    "start_time": "2022-11-12T15:53:00.986Z"
   },
   {
    "duration": 7,
    "start_time": "2022-11-12T15:53:01.030Z"
   },
   {
    "duration": 179,
    "start_time": "2022-11-12T15:53:01.039Z"
   },
   {
    "duration": 6,
    "start_time": "2022-11-12T15:53:01.220Z"
   },
   {
    "duration": 212,
    "start_time": "2022-11-12T15:53:01.227Z"
   },
   {
    "duration": 142,
    "start_time": "2022-11-12T15:53:01.440Z"
   },
   {
    "duration": 149,
    "start_time": "2022-11-12T15:53:01.583Z"
   },
   {
    "duration": 1704,
    "start_time": "2022-11-12T15:53:01.733Z"
   },
   {
    "duration": 6,
    "start_time": "2022-11-12T15:53:03.438Z"
   },
   {
    "duration": 206,
    "start_time": "2022-11-12T15:53:03.446Z"
   },
   {
    "duration": 229,
    "start_time": "2022-11-12T15:53:03.653Z"
   },
   {
    "duration": 4,
    "start_time": "2022-11-12T15:53:03.884Z"
   },
   {
    "duration": 7,
    "start_time": "2022-11-12T15:53:03.890Z"
   },
   {
    "duration": 18,
    "start_time": "2022-11-12T15:53:03.914Z"
   },
   {
    "duration": 10,
    "start_time": "2022-11-12T15:53:03.933Z"
   },
   {
    "duration": 1497,
    "start_time": "2022-11-12T15:53:03.944Z"
   },
   {
    "duration": 2,
    "start_time": "2022-11-12T15:53:05.443Z"
   },
   {
    "duration": 77,
    "start_time": "2022-11-12T15:53:05.447Z"
   },
   {
    "duration": 0,
    "start_time": "2022-11-12T15:53:05.526Z"
   },
   {
    "duration": 0,
    "start_time": "2022-11-12T15:53:05.527Z"
   },
   {
    "duration": 0,
    "start_time": "2022-11-12T15:53:05.529Z"
   },
   {
    "duration": 0,
    "start_time": "2022-11-12T15:53:05.530Z"
   },
   {
    "duration": 0,
    "start_time": "2022-11-12T15:53:05.531Z"
   },
   {
    "duration": 730,
    "start_time": "2022-11-12T19:28:16.126Z"
   },
   {
    "duration": 354,
    "start_time": "2022-11-12T19:28:16.858Z"
   },
   {
    "duration": 27,
    "start_time": "2022-11-12T19:28:17.213Z"
   },
   {
    "duration": 28,
    "start_time": "2022-11-12T19:28:17.242Z"
   },
   {
    "duration": 4,
    "start_time": "2022-11-12T19:28:17.274Z"
   },
   {
    "duration": 18,
    "start_time": "2022-11-12T19:28:17.279Z"
   },
   {
    "duration": 1841,
    "start_time": "2022-11-12T19:28:17.298Z"
   },
   {
    "duration": 28,
    "start_time": "2022-11-12T19:28:19.141Z"
   },
   {
    "duration": 18,
    "start_time": "2022-11-12T19:28:19.173Z"
   },
   {
    "duration": 161,
    "start_time": "2022-11-12T19:28:19.193Z"
   },
   {
    "duration": 19,
    "start_time": "2022-11-12T19:28:19.355Z"
   },
   {
    "duration": 8,
    "start_time": "2022-11-12T19:28:19.376Z"
   },
   {
    "duration": 8,
    "start_time": "2022-11-12T19:28:19.386Z"
   },
   {
    "duration": 40,
    "start_time": "2022-11-12T19:28:19.396Z"
   },
   {
    "duration": 45,
    "start_time": "2022-11-12T19:28:19.438Z"
   },
   {
    "duration": 6,
    "start_time": "2022-11-12T19:28:19.484Z"
   },
   {
    "duration": 184,
    "start_time": "2022-11-12T19:28:19.492Z"
   },
   {
    "duration": 6,
    "start_time": "2022-11-12T19:28:19.679Z"
   },
   {
    "duration": 207,
    "start_time": "2022-11-12T19:28:19.687Z"
   },
   {
    "duration": 140,
    "start_time": "2022-11-12T19:28:19.896Z"
   },
   {
    "duration": 164,
    "start_time": "2022-11-12T19:28:20.037Z"
   },
   {
    "duration": 1787,
    "start_time": "2022-11-12T19:28:20.203Z"
   },
   {
    "duration": 7,
    "start_time": "2022-11-12T19:28:21.992Z"
   },
   {
    "duration": 208,
    "start_time": "2022-11-12T19:28:22.000Z"
   },
   {
    "duration": 234,
    "start_time": "2022-11-12T19:28:22.209Z"
   },
   {
    "duration": 17,
    "start_time": "2022-11-12T19:28:22.445Z"
   },
   {
    "duration": 7,
    "start_time": "2022-11-12T19:28:22.463Z"
   },
   {
    "duration": 19,
    "start_time": "2022-11-12T19:28:22.475Z"
   },
   {
    "duration": 10,
    "start_time": "2022-11-12T19:28:22.496Z"
   },
   {
    "duration": 1601,
    "start_time": "2022-11-12T19:28:22.507Z"
   },
   {
    "duration": 3,
    "start_time": "2022-11-12T19:28:24.109Z"
   },
   {
    "duration": 84,
    "start_time": "2022-11-12T19:28:24.114Z"
   },
   {
    "duration": 0,
    "start_time": "2022-11-12T19:28:24.200Z"
   },
   {
    "duration": 0,
    "start_time": "2022-11-12T19:28:24.201Z"
   },
   {
    "duration": 0,
    "start_time": "2022-11-12T19:28:24.202Z"
   },
   {
    "duration": 0,
    "start_time": "2022-11-12T19:28:24.203Z"
   },
   {
    "duration": 0,
    "start_time": "2022-11-12T19:28:24.204Z"
   },
   {
    "duration": 10,
    "start_time": "2022-11-12T19:28:33.902Z"
   },
   {
    "duration": 17,
    "start_time": "2022-11-12T19:28:41.398Z"
   },
   {
    "duration": 10,
    "start_time": "2022-11-12T19:28:52.628Z"
   },
   {
    "duration": 11,
    "start_time": "2022-11-12T19:29:04.346Z"
   },
   {
    "duration": 3,
    "start_time": "2022-11-12T19:29:08.549Z"
   },
   {
    "duration": 12,
    "start_time": "2022-11-12T19:29:08.830Z"
   },
   {
    "duration": 1837,
    "start_time": "2022-11-12T19:29:23.171Z"
   },
   {
    "duration": 13,
    "start_time": "2022-11-12T19:29:29.145Z"
   },
   {
    "duration": 21,
    "start_time": "2022-11-12T19:29:29.711Z"
   },
   {
    "duration": 19,
    "start_time": "2022-11-12T19:29:30.432Z"
   },
   {
    "duration": 185,
    "start_time": "2022-11-12T19:29:30.613Z"
   },
   {
    "duration": 6,
    "start_time": "2022-11-12T19:29:53.377Z"
   },
   {
    "duration": 7,
    "start_time": "2022-11-12T19:31:21.372Z"
   },
   {
    "duration": 159,
    "start_time": "2022-11-12T19:32:56.373Z"
   },
   {
    "duration": 139,
    "start_time": "2022-11-12T19:35:10.802Z"
   },
   {
    "duration": 46,
    "start_time": "2022-11-12T19:37:51.945Z"
   },
   {
    "duration": 6,
    "start_time": "2022-11-12T19:38:01.080Z"
   },
   {
    "duration": 5,
    "start_time": "2022-11-12T19:38:13.784Z"
   },
   {
    "duration": 40,
    "start_time": "2022-11-12T19:38:26.715Z"
   },
   {
    "duration": 5,
    "start_time": "2022-11-12T19:38:27.412Z"
   },
   {
    "duration": 6,
    "start_time": "2022-11-12T19:38:27.795Z"
   },
   {
    "duration": 43,
    "start_time": "2022-11-12T19:39:13.092Z"
   },
   {
    "duration": 39,
    "start_time": "2022-11-12T19:39:23.387Z"
   },
   {
    "duration": 6,
    "start_time": "2022-11-12T19:39:24.724Z"
   },
   {
    "duration": 12,
    "start_time": "2022-11-12T19:39:25.267Z"
   },
   {
    "duration": 46,
    "start_time": "2022-11-12T19:40:07.826Z"
   },
   {
    "duration": 5,
    "start_time": "2022-11-12T19:40:08.839Z"
   },
   {
    "duration": 6,
    "start_time": "2022-11-12T19:40:09.182Z"
   },
   {
    "duration": 126,
    "start_time": "2022-11-12T19:40:22.246Z"
   },
   {
    "duration": 10,
    "start_time": "2022-11-12T19:40:23.346Z"
   },
   {
    "duration": 9,
    "start_time": "2022-11-12T19:40:23.547Z"
   },
   {
    "duration": 134,
    "start_time": "2022-11-12T19:40:33.707Z"
   },
   {
    "duration": 43,
    "start_time": "2022-11-12T19:40:45.975Z"
   },
   {
    "duration": 8,
    "start_time": "2022-11-12T19:40:49.416Z"
   },
   {
    "duration": 692,
    "start_time": "2022-11-12T19:40:54.633Z"
   },
   {
    "duration": 95,
    "start_time": "2022-11-12T19:40:55.326Z"
   },
   {
    "duration": 28,
    "start_time": "2022-11-12T19:40:55.423Z"
   },
   {
    "duration": 26,
    "start_time": "2022-11-12T19:40:55.461Z"
   },
   {
    "duration": 5,
    "start_time": "2022-11-12T19:40:55.488Z"
   },
   {
    "duration": 16,
    "start_time": "2022-11-12T19:40:55.494Z"
   },
   {
    "duration": 1924,
    "start_time": "2022-11-12T19:40:55.511Z"
   },
   {
    "duration": 25,
    "start_time": "2022-11-12T19:40:57.437Z"
   },
   {
    "duration": 28,
    "start_time": "2022-11-12T19:40:57.464Z"
   },
   {
    "duration": 153,
    "start_time": "2022-11-12T19:40:57.495Z"
   },
   {
    "duration": 19,
    "start_time": "2022-11-12T19:40:57.650Z"
   },
   {
    "duration": 13,
    "start_time": "2022-11-12T19:40:57.672Z"
   },
   {
    "duration": 9,
    "start_time": "2022-11-12T19:40:57.686Z"
   },
   {
    "duration": 44,
    "start_time": "2022-11-12T19:40:57.696Z"
   },
   {
    "duration": 44,
    "start_time": "2022-11-12T19:40:57.741Z"
   },
   {
    "duration": 6,
    "start_time": "2022-11-12T19:40:57.787Z"
   },
   {
    "duration": 188,
    "start_time": "2022-11-12T19:40:57.794Z"
   },
   {
    "duration": 6,
    "start_time": "2022-11-12T19:40:57.983Z"
   },
   {
    "duration": 232,
    "start_time": "2022-11-12T19:40:57.991Z"
   },
   {
    "duration": 152,
    "start_time": "2022-11-12T19:40:58.225Z"
   },
   {
    "duration": 172,
    "start_time": "2022-11-12T19:40:58.379Z"
   },
   {
    "duration": 1821,
    "start_time": "2022-11-12T19:40:58.553Z"
   },
   {
    "duration": 8,
    "start_time": "2022-11-12T19:41:00.376Z"
   },
   {
    "duration": 223,
    "start_time": "2022-11-12T19:41:00.386Z"
   },
   {
    "duration": 268,
    "start_time": "2022-11-12T19:41:00.611Z"
   },
   {
    "duration": 6,
    "start_time": "2022-11-12T19:41:00.881Z"
   },
   {
    "duration": 55,
    "start_time": "2022-11-12T19:41:00.888Z"
   },
   {
    "duration": 5,
    "start_time": "2022-11-12T19:41:00.946Z"
   },
   {
    "duration": 16,
    "start_time": "2022-11-12T19:41:00.962Z"
   },
   {
    "duration": 21,
    "start_time": "2022-11-12T19:41:00.979Z"
   },
   {
    "duration": 13,
    "start_time": "2022-11-12T19:41:01.002Z"
   },
   {
    "duration": 1603,
    "start_time": "2022-11-12T19:41:01.019Z"
   },
   {
    "duration": 4,
    "start_time": "2022-11-12T19:41:02.624Z"
   },
   {
    "duration": 83,
    "start_time": "2022-11-12T19:41:02.630Z"
   },
   {
    "duration": 0,
    "start_time": "2022-11-12T19:41:02.715Z"
   },
   {
    "duration": 0,
    "start_time": "2022-11-12T19:41:02.716Z"
   },
   {
    "duration": 0,
    "start_time": "2022-11-12T19:41:02.717Z"
   },
   {
    "duration": 0,
    "start_time": "2022-11-12T19:41:02.718Z"
   },
   {
    "duration": 0,
    "start_time": "2022-11-12T19:41:02.719Z"
   },
   {
    "duration": 48,
    "start_time": "2022-11-12T19:41:54.803Z"
   },
   {
    "duration": 7,
    "start_time": "2022-11-12T19:41:58.081Z"
   },
   {
    "duration": 7,
    "start_time": "2022-11-12T19:41:59.272Z"
   },
   {
    "duration": 49,
    "start_time": "2022-11-12T19:42:03.631Z"
   },
   {
    "duration": 7,
    "start_time": "2022-11-12T19:42:04.128Z"
   },
   {
    "duration": 7,
    "start_time": "2022-11-12T19:42:04.480Z"
   },
   {
    "duration": 43,
    "start_time": "2022-11-12T19:42:16.212Z"
   },
   {
    "duration": 5,
    "start_time": "2022-11-12T19:42:16.708Z"
   },
   {
    "duration": 7,
    "start_time": "2022-11-12T19:42:17.269Z"
   },
   {
    "duration": 63,
    "start_time": "2022-11-12T19:44:04.573Z"
   },
   {
    "duration": 54,
    "start_time": "2022-11-12T19:44:14.798Z"
   },
   {
    "duration": 6,
    "start_time": "2022-11-12T19:44:16.127Z"
   },
   {
    "duration": 6,
    "start_time": "2022-11-12T19:44:16.799Z"
   },
   {
    "duration": 39,
    "start_time": "2022-11-12T19:44:54.933Z"
   },
   {
    "duration": 29,
    "start_time": "2022-11-12T19:45:06.043Z"
   },
   {
    "duration": 37,
    "start_time": "2022-11-12T19:45:11.991Z"
   },
   {
    "duration": 559,
    "start_time": "2022-11-12T19:46:07.304Z"
   },
   {
    "duration": 108,
    "start_time": "2022-11-12T19:46:07.865Z"
   },
   {
    "duration": 26,
    "start_time": "2022-11-12T19:46:07.975Z"
   },
   {
    "duration": 24,
    "start_time": "2022-11-12T19:46:08.003Z"
   },
   {
    "duration": 3,
    "start_time": "2022-11-12T19:46:08.028Z"
   },
   {
    "duration": 39,
    "start_time": "2022-11-12T19:46:08.032Z"
   },
   {
    "duration": 1900,
    "start_time": "2022-11-12T19:46:08.072Z"
   },
   {
    "duration": 24,
    "start_time": "2022-11-12T19:46:09.974Z"
   },
   {
    "duration": 18,
    "start_time": "2022-11-12T19:46:10.000Z"
   },
   {
    "duration": 170,
    "start_time": "2022-11-12T19:46:10.020Z"
   },
   {
    "duration": 7,
    "start_time": "2022-11-12T19:46:10.192Z"
   },
   {
    "duration": 7,
    "start_time": "2022-11-12T19:46:10.201Z"
   },
   {
    "duration": 10,
    "start_time": "2022-11-12T19:46:10.209Z"
   },
   {
    "duration": 65,
    "start_time": "2022-11-12T19:46:10.220Z"
   },
   {
    "duration": 29,
    "start_time": "2022-11-12T19:46:10.287Z"
   },
   {
    "duration": 7,
    "start_time": "2022-11-12T19:46:10.317Z"
   },
   {
    "duration": 204,
    "start_time": "2022-11-12T19:46:10.326Z"
   },
   {
    "duration": 8,
    "start_time": "2022-11-12T19:46:10.531Z"
   },
   {
    "duration": 229,
    "start_time": "2022-11-12T19:46:10.540Z"
   },
   {
    "duration": 134,
    "start_time": "2022-11-12T19:46:10.771Z"
   },
   {
    "duration": 179,
    "start_time": "2022-11-12T19:46:10.906Z"
   },
   {
    "duration": 1791,
    "start_time": "2022-11-12T19:46:11.087Z"
   },
   {
    "duration": 7,
    "start_time": "2022-11-12T19:46:12.880Z"
   },
   {
    "duration": 206,
    "start_time": "2022-11-12T19:46:12.888Z"
   },
   {
    "duration": 243,
    "start_time": "2022-11-12T19:46:13.096Z"
   },
   {
    "duration": 6,
    "start_time": "2022-11-12T19:46:13.340Z"
   },
   {
    "duration": 60,
    "start_time": "2022-11-12T19:46:13.347Z"
   },
   {
    "duration": 4,
    "start_time": "2022-11-12T19:46:13.410Z"
   },
   {
    "duration": 6,
    "start_time": "2022-11-12T19:46:13.416Z"
   },
   {
    "duration": 17,
    "start_time": "2022-11-12T19:46:13.423Z"
   },
   {
    "duration": 11,
    "start_time": "2022-11-12T19:46:13.471Z"
   },
   {
    "duration": 1641,
    "start_time": "2022-11-12T19:46:13.487Z"
   },
   {
    "duration": 3,
    "start_time": "2022-11-12T19:46:15.129Z"
   },
   {
    "duration": 98,
    "start_time": "2022-11-12T19:46:15.133Z"
   },
   {
    "duration": 0,
    "start_time": "2022-11-12T19:46:15.233Z"
   },
   {
    "duration": 0,
    "start_time": "2022-11-12T19:46:15.234Z"
   },
   {
    "duration": 0,
    "start_time": "2022-11-12T19:46:15.235Z"
   },
   {
    "duration": 0,
    "start_time": "2022-11-12T19:46:15.236Z"
   },
   {
    "duration": 0,
    "start_time": "2022-11-12T19:46:15.237Z"
   },
   {
    "duration": 43,
    "start_time": "2022-11-12T19:47:32.790Z"
   },
   {
    "duration": 128,
    "start_time": "2022-11-12T19:47:43.026Z"
   },
   {
    "duration": 26,
    "start_time": "2022-11-12T19:48:32.688Z"
   },
   {
    "duration": 15,
    "start_time": "2022-11-12T19:49:03.622Z"
   },
   {
    "duration": 5,
    "start_time": "2022-11-12T19:49:08.546Z"
   },
   {
    "duration": 603,
    "start_time": "2022-11-12T19:49:12.872Z"
   },
   {
    "duration": 96,
    "start_time": "2022-11-12T19:49:13.477Z"
   },
   {
    "duration": 30,
    "start_time": "2022-11-12T19:49:13.575Z"
   },
   {
    "duration": 23,
    "start_time": "2022-11-12T19:49:13.607Z"
   },
   {
    "duration": 5,
    "start_time": "2022-11-12T19:49:13.632Z"
   },
   {
    "duration": 37,
    "start_time": "2022-11-12T19:49:13.638Z"
   },
   {
    "duration": 1964,
    "start_time": "2022-11-12T19:49:13.676Z"
   },
   {
    "duration": 33,
    "start_time": "2022-11-12T19:49:15.641Z"
   },
   {
    "duration": 17,
    "start_time": "2022-11-12T19:49:15.675Z"
   },
   {
    "duration": 146,
    "start_time": "2022-11-12T19:49:15.693Z"
   },
   {
    "duration": 8,
    "start_time": "2022-11-12T19:49:15.840Z"
   },
   {
    "duration": 27,
    "start_time": "2022-11-12T19:49:15.849Z"
   },
   {
    "duration": 12,
    "start_time": "2022-11-12T19:49:15.878Z"
   },
   {
    "duration": 44,
    "start_time": "2022-11-12T19:49:15.893Z"
   },
   {
    "duration": 35,
    "start_time": "2022-11-12T19:49:15.938Z"
   },
   {
    "duration": 7,
    "start_time": "2022-11-12T19:49:15.974Z"
   },
   {
    "duration": 196,
    "start_time": "2022-11-12T19:49:15.982Z"
   },
   {
    "duration": 6,
    "start_time": "2022-11-12T19:49:16.179Z"
   },
   {
    "duration": 215,
    "start_time": "2022-11-12T19:49:16.187Z"
   },
   {
    "duration": 139,
    "start_time": "2022-11-12T19:49:16.403Z"
   },
   {
    "duration": 179,
    "start_time": "2022-11-12T19:49:16.544Z"
   },
   {
    "duration": 1830,
    "start_time": "2022-11-12T19:49:16.724Z"
   },
   {
    "duration": 14,
    "start_time": "2022-11-12T19:49:18.561Z"
   },
   {
    "duration": 223,
    "start_time": "2022-11-12T19:49:18.577Z"
   },
   {
    "duration": 258,
    "start_time": "2022-11-12T19:49:18.802Z"
   },
   {
    "duration": 9,
    "start_time": "2022-11-12T19:49:19.067Z"
   },
   {
    "duration": 59,
    "start_time": "2022-11-12T19:49:19.077Z"
   },
   {
    "duration": 5,
    "start_time": "2022-11-12T19:49:19.138Z"
   },
   {
    "duration": 35,
    "start_time": "2022-11-12T19:49:19.145Z"
   },
   {
    "duration": 19,
    "start_time": "2022-11-12T19:49:19.182Z"
   },
   {
    "duration": 13,
    "start_time": "2022-11-12T19:49:19.202Z"
   },
   {
    "duration": 1523,
    "start_time": "2022-11-12T19:49:19.216Z"
   },
   {
    "duration": 4,
    "start_time": "2022-11-12T19:49:20.740Z"
   },
   {
    "duration": 83,
    "start_time": "2022-11-12T19:49:20.746Z"
   },
   {
    "duration": 0,
    "start_time": "2022-11-12T19:49:20.831Z"
   },
   {
    "duration": 0,
    "start_time": "2022-11-12T19:49:20.832Z"
   },
   {
    "duration": 0,
    "start_time": "2022-11-12T19:49:20.834Z"
   },
   {
    "duration": 0,
    "start_time": "2022-11-12T19:49:20.835Z"
   },
   {
    "duration": 0,
    "start_time": "2022-11-12T19:49:20.836Z"
   },
   {
    "duration": 44,
    "start_time": "2022-11-12T19:50:26.488Z"
   },
   {
    "duration": 56,
    "start_time": "2022-11-12T19:50:31.438Z"
   },
   {
    "duration": 14,
    "start_time": "2022-11-12T19:50:36.711Z"
   },
   {
    "duration": 15,
    "start_time": "2022-11-12T19:50:46.768Z"
   },
   {
    "duration": 7,
    "start_time": "2022-11-12T19:50:54.758Z"
   },
   {
    "duration": 4,
    "start_time": "2022-11-12T19:50:56.273Z"
   },
   {
    "duration": 4,
    "start_time": "2022-11-12T19:51:04.185Z"
   },
   {
    "duration": 4,
    "start_time": "2022-11-12T19:51:04.512Z"
   },
   {
    "duration": 6,
    "start_time": "2022-11-12T19:51:05.965Z"
   },
   {
    "duration": 618,
    "start_time": "2022-11-12T19:52:07.480Z"
   },
   {
    "duration": 109,
    "start_time": "2022-11-12T19:52:08.100Z"
   },
   {
    "duration": 27,
    "start_time": "2022-11-12T19:52:08.210Z"
   },
   {
    "duration": 38,
    "start_time": "2022-11-12T19:52:08.238Z"
   },
   {
    "duration": 7,
    "start_time": "2022-11-12T19:52:08.281Z"
   },
   {
    "duration": 21,
    "start_time": "2022-11-12T19:52:08.289Z"
   },
   {
    "duration": 2084,
    "start_time": "2022-11-12T19:52:08.312Z"
   },
   {
    "duration": 23,
    "start_time": "2022-11-12T19:52:10.397Z"
   },
   {
    "duration": 16,
    "start_time": "2022-11-12T19:52:10.422Z"
   },
   {
    "duration": 148,
    "start_time": "2022-11-12T19:52:10.440Z"
   },
   {
    "duration": 7,
    "start_time": "2022-11-12T19:52:10.590Z"
   },
   {
    "duration": 14,
    "start_time": "2022-11-12T19:52:10.598Z"
   },
   {
    "duration": 13,
    "start_time": "2022-11-12T19:52:10.613Z"
   },
   {
    "duration": 53,
    "start_time": "2022-11-12T19:52:10.629Z"
   },
   {
    "duration": 30,
    "start_time": "2022-11-12T19:52:10.684Z"
   },
   {
    "duration": 5,
    "start_time": "2022-11-12T19:52:10.716Z"
   },
   {
    "duration": 193,
    "start_time": "2022-11-12T19:52:10.723Z"
   },
   {
    "duration": 6,
    "start_time": "2022-11-12T19:52:10.917Z"
   },
   {
    "duration": 242,
    "start_time": "2022-11-12T19:52:10.924Z"
   },
   {
    "duration": 154,
    "start_time": "2022-11-12T19:52:11.167Z"
   },
   {
    "duration": 175,
    "start_time": "2022-11-12T19:52:11.323Z"
   },
   {
    "duration": 1781,
    "start_time": "2022-11-12T19:52:11.500Z"
   },
   {
    "duration": 7,
    "start_time": "2022-11-12T19:52:13.283Z"
   },
   {
    "duration": 194,
    "start_time": "2022-11-12T19:52:13.292Z"
   },
   {
    "duration": 240,
    "start_time": "2022-11-12T19:52:13.488Z"
   },
   {
    "duration": 5,
    "start_time": "2022-11-12T19:52:13.730Z"
   },
   {
    "duration": 7,
    "start_time": "2022-11-12T19:52:13.736Z"
   },
   {
    "duration": 27,
    "start_time": "2022-11-12T19:52:13.744Z"
   },
   {
    "duration": 19,
    "start_time": "2022-11-12T19:52:13.773Z"
   },
   {
    "duration": 11,
    "start_time": "2022-11-12T19:52:13.793Z"
   },
   {
    "duration": 1647,
    "start_time": "2022-11-12T19:52:13.805Z"
   },
   {
    "duration": 18,
    "start_time": "2022-11-12T19:52:15.453Z"
   },
   {
    "duration": 78,
    "start_time": "2022-11-12T19:52:15.473Z"
   },
   {
    "duration": 0,
    "start_time": "2022-11-12T19:52:15.552Z"
   },
   {
    "duration": 0,
    "start_time": "2022-11-12T19:52:15.554Z"
   },
   {
    "duration": 0,
    "start_time": "2022-11-12T19:52:15.554Z"
   },
   {
    "duration": 0,
    "start_time": "2022-11-12T19:52:15.555Z"
   },
   {
    "duration": 0,
    "start_time": "2022-11-12T19:52:15.556Z"
   },
   {
    "duration": 6,
    "start_time": "2022-11-12T19:56:28.675Z"
   },
   {
    "duration": 6,
    "start_time": "2022-11-12T19:57:36.293Z"
   },
   {
    "duration": 14,
    "start_time": "2022-11-12T19:57:37.055Z"
   },
   {
    "duration": 8,
    "start_time": "2022-11-12T19:57:38.672Z"
   },
   {
    "duration": 6,
    "start_time": "2022-11-12T19:57:49.325Z"
   },
   {
    "duration": 11,
    "start_time": "2022-11-12T19:57:59.083Z"
   },
   {
    "duration": 6,
    "start_time": "2022-11-12T19:57:59.296Z"
   },
   {
    "duration": 622,
    "start_time": "2022-11-12T20:01:38.086Z"
   },
   {
    "duration": 97,
    "start_time": "2022-11-12T20:01:38.710Z"
   },
   {
    "duration": 27,
    "start_time": "2022-11-12T20:01:38.811Z"
   },
   {
    "duration": 35,
    "start_time": "2022-11-12T20:01:38.840Z"
   },
   {
    "duration": 5,
    "start_time": "2022-11-12T20:01:38.876Z"
   },
   {
    "duration": 16,
    "start_time": "2022-11-12T20:01:38.883Z"
   },
   {
    "duration": 1891,
    "start_time": "2022-11-12T20:01:38.900Z"
   },
   {
    "duration": 23,
    "start_time": "2022-11-12T20:01:40.793Z"
   },
   {
    "duration": 17,
    "start_time": "2022-11-12T20:01:40.818Z"
   },
   {
    "duration": 147,
    "start_time": "2022-11-12T20:01:40.836Z"
   },
   {
    "duration": 7,
    "start_time": "2022-11-12T20:01:40.985Z"
   },
   {
    "duration": 7,
    "start_time": "2022-11-12T20:01:40.993Z"
   },
   {
    "duration": 9,
    "start_time": "2022-11-12T20:01:41.002Z"
   },
   {
    "duration": 69,
    "start_time": "2022-11-12T20:01:41.012Z"
   },
   {
    "duration": 27,
    "start_time": "2022-11-12T20:01:41.083Z"
   },
   {
    "duration": 6,
    "start_time": "2022-11-12T20:01:41.112Z"
   },
   {
    "duration": 210,
    "start_time": "2022-11-12T20:01:41.120Z"
   },
   {
    "duration": 7,
    "start_time": "2022-11-12T20:01:41.332Z"
   },
   {
    "duration": 245,
    "start_time": "2022-11-12T20:01:41.341Z"
   },
   {
    "duration": 149,
    "start_time": "2022-11-12T20:01:41.587Z"
   },
   {
    "duration": 156,
    "start_time": "2022-11-12T20:01:41.738Z"
   },
   {
    "duration": 1803,
    "start_time": "2022-11-12T20:01:41.895Z"
   },
   {
    "duration": 7,
    "start_time": "2022-11-12T20:01:43.700Z"
   },
   {
    "duration": 217,
    "start_time": "2022-11-12T20:01:43.709Z"
   },
   {
    "duration": 260,
    "start_time": "2022-11-12T20:01:43.927Z"
   },
   {
    "duration": 5,
    "start_time": "2022-11-12T20:01:44.189Z"
   },
   {
    "duration": 6,
    "start_time": "2022-11-12T20:01:44.195Z"
   },
   {
    "duration": 7,
    "start_time": "2022-11-12T20:01:44.203Z"
   },
   {
    "duration": 22,
    "start_time": "2022-11-12T20:01:44.211Z"
   },
   {
    "duration": 37,
    "start_time": "2022-11-12T20:01:44.235Z"
   },
   {
    "duration": 1654,
    "start_time": "2022-11-12T20:01:44.273Z"
   },
   {
    "duration": 2,
    "start_time": "2022-11-12T20:01:45.929Z"
   },
   {
    "duration": 88,
    "start_time": "2022-11-12T20:01:45.933Z"
   },
   {
    "duration": 0,
    "start_time": "2022-11-12T20:01:46.022Z"
   },
   {
    "duration": 0,
    "start_time": "2022-11-12T20:01:46.023Z"
   },
   {
    "duration": 0,
    "start_time": "2022-11-12T20:01:46.025Z"
   },
   {
    "duration": 1,
    "start_time": "2022-11-12T20:01:46.025Z"
   },
   {
    "duration": 0,
    "start_time": "2022-11-12T20:01:46.027Z"
   },
   {
    "duration": 6,
    "start_time": "2022-11-12T20:05:52.384Z"
   },
   {
    "duration": 9,
    "start_time": "2022-11-12T20:05:53.903Z"
   },
   {
    "duration": 6,
    "start_time": "2022-11-12T20:05:55.076Z"
   },
   {
    "duration": 6,
    "start_time": "2022-11-12T20:05:55.976Z"
   },
   {
    "duration": 17,
    "start_time": "2022-11-12T20:06:56.368Z"
   },
   {
    "duration": 6,
    "start_time": "2022-11-12T20:06:56.689Z"
   },
   {
    "duration": 7,
    "start_time": "2022-11-12T20:06:57.022Z"
   },
   {
    "duration": 199,
    "start_time": "2022-11-12T20:07:39.748Z"
   },
   {
    "duration": 9,
    "start_time": "2022-11-12T20:07:40.157Z"
   },
   {
    "duration": 210,
    "start_time": "2022-11-12T20:07:49.034Z"
   },
   {
    "duration": 14,
    "start_time": "2022-11-12T20:08:24.080Z"
   },
   {
    "duration": 5,
    "start_time": "2022-11-12T20:08:36.440Z"
   },
   {
    "duration": 5,
    "start_time": "2022-11-12T20:08:44.015Z"
   },
   {
    "duration": 594,
    "start_time": "2022-11-12T20:08:52.380Z"
   },
   {
    "duration": 107,
    "start_time": "2022-11-12T20:08:52.976Z"
   },
   {
    "duration": 26,
    "start_time": "2022-11-12T20:08:53.085Z"
   },
   {
    "duration": 21,
    "start_time": "2022-11-12T20:08:53.113Z"
   },
   {
    "duration": 26,
    "start_time": "2022-11-12T20:08:53.136Z"
   },
   {
    "duration": 25,
    "start_time": "2022-11-12T20:08:53.163Z"
   },
   {
    "duration": 1982,
    "start_time": "2022-11-12T20:08:53.190Z"
   },
   {
    "duration": 24,
    "start_time": "2022-11-12T20:08:55.174Z"
   },
   {
    "duration": 19,
    "start_time": "2022-11-12T20:08:55.199Z"
   },
   {
    "duration": 152,
    "start_time": "2022-11-12T20:08:55.220Z"
   },
   {
    "duration": 7,
    "start_time": "2022-11-12T20:08:55.374Z"
   },
   {
    "duration": 8,
    "start_time": "2022-11-12T20:08:55.382Z"
   },
   {
    "duration": 8,
    "start_time": "2022-11-12T20:08:55.392Z"
   },
   {
    "duration": 39,
    "start_time": "2022-11-12T20:08:55.401Z"
   },
   {
    "duration": 33,
    "start_time": "2022-11-12T20:08:55.463Z"
   },
   {
    "duration": 6,
    "start_time": "2022-11-12T20:08:55.498Z"
   },
   {
    "duration": 207,
    "start_time": "2022-11-12T20:08:55.505Z"
   },
   {
    "duration": 7,
    "start_time": "2022-11-12T20:08:55.713Z"
   },
   {
    "duration": 211,
    "start_time": "2022-11-12T20:08:55.721Z"
   },
   {
    "duration": 147,
    "start_time": "2022-11-12T20:08:55.933Z"
   },
   {
    "duration": 157,
    "start_time": "2022-11-12T20:08:56.081Z"
   },
   {
    "duration": 1780,
    "start_time": "2022-11-12T20:08:56.239Z"
   },
   {
    "duration": 6,
    "start_time": "2022-11-12T20:08:58.021Z"
   },
   {
    "duration": 201,
    "start_time": "2022-11-12T20:08:58.029Z"
   },
   {
    "duration": 251,
    "start_time": "2022-11-12T20:08:58.232Z"
   },
   {
    "duration": 6,
    "start_time": "2022-11-12T20:08:58.485Z"
   },
   {
    "duration": 4,
    "start_time": "2022-11-12T20:08:58.492Z"
   },
   {
    "duration": 6,
    "start_time": "2022-11-12T20:08:58.499Z"
   },
   {
    "duration": 6,
    "start_time": "2022-11-12T20:08:58.507Z"
   },
   {
    "duration": 17,
    "start_time": "2022-11-12T20:08:58.514Z"
   },
   {
    "duration": 13,
    "start_time": "2022-11-12T20:08:58.563Z"
   },
   {
    "duration": 1565,
    "start_time": "2022-11-12T20:08:58.578Z"
   },
   {
    "duration": 3,
    "start_time": "2022-11-12T20:09:00.145Z"
   },
   {
    "duration": 89,
    "start_time": "2022-11-12T20:09:00.166Z"
   },
   {
    "duration": 0,
    "start_time": "2022-11-12T20:09:00.257Z"
   },
   {
    "duration": 0,
    "start_time": "2022-11-12T20:09:00.258Z"
   },
   {
    "duration": 0,
    "start_time": "2022-11-12T20:09:00.259Z"
   },
   {
    "duration": 0,
    "start_time": "2022-11-12T20:09:00.260Z"
   },
   {
    "duration": 0,
    "start_time": "2022-11-12T20:09:00.260Z"
   },
   {
    "duration": 7,
    "start_time": "2022-11-12T20:09:11.435Z"
   },
   {
    "duration": 11,
    "start_time": "2022-11-12T20:11:27.738Z"
   },
   {
    "duration": 6,
    "start_time": "2022-11-12T20:11:35.901Z"
   },
   {
    "duration": 16,
    "start_time": "2022-11-12T20:11:36.652Z"
   },
   {
    "duration": 38,
    "start_time": "2022-11-12T20:12:23.537Z"
   },
   {
    "duration": 45,
    "start_time": "2022-11-12T20:12:31.761Z"
   },
   {
    "duration": 38,
    "start_time": "2022-11-12T20:12:43.201Z"
   },
   {
    "duration": 44,
    "start_time": "2022-11-12T20:13:16.219Z"
   },
   {
    "duration": 39,
    "start_time": "2022-11-12T20:13:27.050Z"
   },
   {
    "duration": 33,
    "start_time": "2022-11-12T20:13:38.136Z"
   },
   {
    "duration": 27,
    "start_time": "2022-11-12T20:14:39.445Z"
   },
   {
    "duration": 563,
    "start_time": "2022-11-12T20:14:47.408Z"
   },
   {
    "duration": 99,
    "start_time": "2022-11-12T20:14:47.973Z"
   },
   {
    "duration": 30,
    "start_time": "2022-11-12T20:14:48.073Z"
   },
   {
    "duration": 25,
    "start_time": "2022-11-12T20:14:48.104Z"
   },
   {
    "duration": 4,
    "start_time": "2022-11-12T20:14:48.130Z"
   },
   {
    "duration": 38,
    "start_time": "2022-11-12T20:14:48.135Z"
   },
   {
    "duration": 1858,
    "start_time": "2022-11-12T20:14:48.174Z"
   },
   {
    "duration": 26,
    "start_time": "2022-11-12T20:14:50.033Z"
   },
   {
    "duration": 25,
    "start_time": "2022-11-12T20:14:50.064Z"
   },
   {
    "duration": 160,
    "start_time": "2022-11-12T20:14:50.092Z"
   },
   {
    "duration": 21,
    "start_time": "2022-11-12T20:14:50.253Z"
   },
   {
    "duration": 13,
    "start_time": "2022-11-12T20:14:50.275Z"
   },
   {
    "duration": 13,
    "start_time": "2022-11-12T20:14:50.289Z"
   },
   {
    "duration": 42,
    "start_time": "2022-11-12T20:14:50.303Z"
   },
   {
    "duration": 46,
    "start_time": "2022-11-12T20:14:50.346Z"
   },
   {
    "duration": 6,
    "start_time": "2022-11-12T20:14:50.393Z"
   },
   {
    "duration": 177,
    "start_time": "2022-11-12T20:14:50.401Z"
   },
   {
    "duration": 6,
    "start_time": "2022-11-12T20:14:50.580Z"
   },
   {
    "duration": 231,
    "start_time": "2022-11-12T20:14:50.588Z"
   },
   {
    "duration": 148,
    "start_time": "2022-11-12T20:14:50.821Z"
   },
   {
    "duration": 156,
    "start_time": "2022-11-12T20:14:50.971Z"
   },
   {
    "duration": 1819,
    "start_time": "2022-11-12T20:14:51.128Z"
   },
   {
    "duration": 23,
    "start_time": "2022-11-12T20:14:52.948Z"
   },
   {
    "duration": 193,
    "start_time": "2022-11-12T20:14:52.973Z"
   },
   {
    "duration": 249,
    "start_time": "2022-11-12T20:14:53.167Z"
   },
   {
    "duration": 5,
    "start_time": "2022-11-12T20:14:53.418Z"
   },
   {
    "duration": 60,
    "start_time": "2022-11-12T20:14:53.425Z"
   },
   {
    "duration": 6,
    "start_time": "2022-11-12T20:14:53.489Z"
   },
   {
    "duration": 7,
    "start_time": "2022-11-12T20:14:53.497Z"
   },
   {
    "duration": 19,
    "start_time": "2022-11-12T20:14:53.506Z"
   },
   {
    "duration": 35,
    "start_time": "2022-11-12T20:14:53.526Z"
   },
   {
    "duration": 1715,
    "start_time": "2022-11-12T20:14:53.562Z"
   },
   {
    "duration": 3,
    "start_time": "2022-11-12T20:14:55.278Z"
   },
   {
    "duration": 79,
    "start_time": "2022-11-12T20:14:55.282Z"
   },
   {
    "duration": 0,
    "start_time": "2022-11-12T20:14:55.372Z"
   },
   {
    "duration": 0,
    "start_time": "2022-11-12T20:14:55.373Z"
   },
   {
    "duration": 0,
    "start_time": "2022-11-12T20:14:55.374Z"
   },
   {
    "duration": 0,
    "start_time": "2022-11-12T20:14:55.375Z"
   },
   {
    "duration": 0,
    "start_time": "2022-11-12T20:14:55.376Z"
   },
   {
    "duration": 47,
    "start_time": "2022-11-12T20:15:32.121Z"
   },
   {
    "duration": 47,
    "start_time": "2022-11-12T20:15:35.861Z"
   },
   {
    "duration": 48,
    "start_time": "2022-11-12T20:15:39.461Z"
   },
   {
    "duration": 44,
    "start_time": "2022-11-12T20:15:41.649Z"
   },
   {
    "duration": 6,
    "start_time": "2022-11-12T20:16:02.045Z"
   },
   {
    "duration": 6,
    "start_time": "2022-11-12T20:16:03.288Z"
   },
   {
    "duration": 632,
    "start_time": "2022-11-12T20:16:21.866Z"
   },
   {
    "duration": 96,
    "start_time": "2022-11-12T20:16:22.500Z"
   },
   {
    "duration": 26,
    "start_time": "2022-11-12T20:16:22.597Z"
   },
   {
    "duration": 37,
    "start_time": "2022-11-12T20:16:22.625Z"
   },
   {
    "duration": 7,
    "start_time": "2022-11-12T20:16:22.663Z"
   },
   {
    "duration": 19,
    "start_time": "2022-11-12T20:16:22.671Z"
   },
   {
    "duration": 1929,
    "start_time": "2022-11-12T20:16:22.691Z"
   },
   {
    "duration": 28,
    "start_time": "2022-11-12T20:16:24.622Z"
   },
   {
    "duration": 29,
    "start_time": "2022-11-12T20:16:24.653Z"
   },
   {
    "duration": 185,
    "start_time": "2022-11-12T20:16:24.686Z"
   },
   {
    "duration": 9,
    "start_time": "2022-11-12T20:16:24.875Z"
   },
   {
    "duration": 15,
    "start_time": "2022-11-12T20:16:24.886Z"
   },
   {
    "duration": 15,
    "start_time": "2022-11-12T20:16:24.903Z"
   },
   {
    "duration": 52,
    "start_time": "2022-11-12T20:16:24.920Z"
   },
   {
    "duration": 28,
    "start_time": "2022-11-12T20:16:24.973Z"
   },
   {
    "duration": 6,
    "start_time": "2022-11-12T20:16:25.003Z"
   },
   {
    "duration": 190,
    "start_time": "2022-11-12T20:16:25.010Z"
   },
   {
    "duration": 7,
    "start_time": "2022-11-12T20:16:25.202Z"
   },
   {
    "duration": 228,
    "start_time": "2022-11-12T20:16:25.212Z"
   },
   {
    "duration": 145,
    "start_time": "2022-11-12T20:16:25.441Z"
   },
   {
    "duration": 168,
    "start_time": "2022-11-12T20:16:25.587Z"
   },
   {
    "duration": 1878,
    "start_time": "2022-11-12T20:16:25.756Z"
   },
   {
    "duration": 8,
    "start_time": "2022-11-12T20:16:27.636Z"
   },
   {
    "duration": 235,
    "start_time": "2022-11-12T20:16:27.645Z"
   },
   {
    "duration": 266,
    "start_time": "2022-11-12T20:16:27.882Z"
   },
   {
    "duration": 10,
    "start_time": "2022-11-12T20:16:28.149Z"
   },
   {
    "duration": 16,
    "start_time": "2022-11-12T20:16:28.161Z"
   },
   {
    "duration": 12,
    "start_time": "2022-11-12T20:16:28.180Z"
   },
   {
    "duration": 10,
    "start_time": "2022-11-12T20:16:28.194Z"
   },
   {
    "duration": 19,
    "start_time": "2022-11-12T20:16:28.205Z"
   },
   {
    "duration": 11,
    "start_time": "2022-11-12T20:16:28.225Z"
   },
   {
    "duration": 1628,
    "start_time": "2022-11-12T20:16:28.238Z"
   },
   {
    "duration": 5,
    "start_time": "2022-11-12T20:16:29.868Z"
   },
   {
    "duration": 81,
    "start_time": "2022-11-12T20:16:29.875Z"
   },
   {
    "duration": 0,
    "start_time": "2022-11-12T20:16:29.959Z"
   },
   {
    "duration": 0,
    "start_time": "2022-11-12T20:16:29.959Z"
   },
   {
    "duration": 0,
    "start_time": "2022-11-12T20:16:29.960Z"
   },
   {
    "duration": 0,
    "start_time": "2022-11-12T20:16:29.960Z"
   },
   {
    "duration": 0,
    "start_time": "2022-11-12T20:16:29.961Z"
   },
   {
    "duration": 40,
    "start_time": "2022-11-12T20:17:12.026Z"
   },
   {
    "duration": 63,
    "start_time": "2022-11-12T20:23:14.939Z"
   },
   {
    "duration": 23,
    "start_time": "2022-11-12T20:24:05.470Z"
   },
   {
    "duration": 36,
    "start_time": "2022-11-12T20:24:14.997Z"
   },
   {
    "duration": 31,
    "start_time": "2022-11-12T20:25:13.077Z"
   },
   {
    "duration": 9,
    "start_time": "2022-11-12T20:26:45.702Z"
   },
   {
    "duration": 49,
    "start_time": "2022-11-12T20:26:50.228Z"
   },
   {
    "duration": 7,
    "start_time": "2022-11-12T20:26:55.686Z"
   },
   {
    "duration": 7,
    "start_time": "2022-11-12T20:26:56.140Z"
   },
   {
    "duration": 50,
    "start_time": "2022-11-12T20:27:56.657Z"
   },
   {
    "duration": 54,
    "start_time": "2022-11-12T20:28:07.997Z"
   },
   {
    "duration": 32,
    "start_time": "2022-11-12T20:28:50.387Z"
   },
   {
    "duration": 6,
    "start_time": "2022-11-12T20:28:58.609Z"
   },
   {
    "duration": 18,
    "start_time": "2022-11-12T20:29:10.421Z"
   },
   {
    "duration": 12,
    "start_time": "2022-11-12T20:29:19.148Z"
   },
   {
    "duration": 11,
    "start_time": "2022-11-12T20:29:29.816Z"
   },
   {
    "duration": 3,
    "start_time": "2022-11-12T20:29:33.422Z"
   },
   {
    "duration": 16,
    "start_time": "2022-11-12T20:29:33.612Z"
   },
   {
    "duration": 1674,
    "start_time": "2022-11-12T20:29:35.291Z"
   },
   {
    "duration": 10,
    "start_time": "2022-11-12T20:29:36.967Z"
   },
   {
    "duration": 22,
    "start_time": "2022-11-12T20:29:37.455Z"
   },
   {
    "duration": 26,
    "start_time": "2022-11-12T20:29:37.898Z"
   },
   {
    "duration": 194,
    "start_time": "2022-11-12T20:29:38.056Z"
   },
   {
    "duration": 45,
    "start_time": "2022-11-12T20:38:00.689Z"
   },
   {
    "duration": 3,
    "start_time": "2022-11-12T20:38:20.791Z"
   },
   {
    "duration": 86,
    "start_time": "2022-11-12T20:38:21.047Z"
   },
   {
    "duration": 46,
    "start_time": "2022-11-12T20:38:21.756Z"
   },
   {
    "duration": 44,
    "start_time": "2022-11-12T20:39:48.925Z"
   },
   {
    "duration": 5,
    "start_time": "2022-11-12T20:39:50.406Z"
   },
   {
    "duration": 7,
    "start_time": "2022-11-12T20:39:52.333Z"
   },
   {
    "duration": 622,
    "start_time": "2022-11-12T20:40:06.069Z"
   },
   {
    "duration": 95,
    "start_time": "2022-11-12T20:40:06.693Z"
   },
   {
    "duration": 28,
    "start_time": "2022-11-12T20:40:06.789Z"
   },
   {
    "duration": 22,
    "start_time": "2022-11-12T20:40:06.819Z"
   },
   {
    "duration": 17,
    "start_time": "2022-11-12T20:40:06.842Z"
   },
   {
    "duration": 14,
    "start_time": "2022-11-12T20:40:06.861Z"
   },
   {
    "duration": 1852,
    "start_time": "2022-11-12T20:40:06.876Z"
   },
   {
    "duration": 27,
    "start_time": "2022-11-12T20:40:08.729Z"
   },
   {
    "duration": 19,
    "start_time": "2022-11-12T20:40:08.758Z"
   },
   {
    "duration": 155,
    "start_time": "2022-11-12T20:40:08.779Z"
   },
   {
    "duration": 9,
    "start_time": "2022-11-12T20:40:08.936Z"
   },
   {
    "duration": 17,
    "start_time": "2022-11-12T20:40:08.947Z"
   },
   {
    "duration": 10,
    "start_time": "2022-11-12T20:40:08.965Z"
   },
   {
    "duration": 46,
    "start_time": "2022-11-12T20:40:08.976Z"
   },
   {
    "duration": 58,
    "start_time": "2022-11-12T20:40:09.024Z"
   },
   {
    "duration": 7,
    "start_time": "2022-11-12T20:40:09.084Z"
   },
   {
    "duration": 194,
    "start_time": "2022-11-12T20:40:09.093Z"
   },
   {
    "duration": 7,
    "start_time": "2022-11-12T20:40:09.289Z"
   },
   {
    "duration": 222,
    "start_time": "2022-11-12T20:40:09.298Z"
   },
   {
    "duration": 158,
    "start_time": "2022-11-12T20:40:09.522Z"
   },
   {
    "duration": 163,
    "start_time": "2022-11-12T20:40:09.681Z"
   },
   {
    "duration": 1932,
    "start_time": "2022-11-12T20:40:09.846Z"
   },
   {
    "duration": 8,
    "start_time": "2022-11-12T20:40:11.779Z"
   },
   {
    "duration": 237,
    "start_time": "2022-11-12T20:40:11.789Z"
   },
   {
    "duration": 285,
    "start_time": "2022-11-12T20:40:12.028Z"
   },
   {
    "duration": 7,
    "start_time": "2022-11-12T20:40:12.314Z"
   },
   {
    "duration": 67,
    "start_time": "2022-11-12T20:40:12.323Z"
   },
   {
    "duration": 5,
    "start_time": "2022-11-12T20:40:12.394Z"
   },
   {
    "duration": 10,
    "start_time": "2022-11-12T20:40:12.401Z"
   },
   {
    "duration": 22,
    "start_time": "2022-11-12T20:40:12.413Z"
   },
   {
    "duration": 33,
    "start_time": "2022-11-12T20:40:12.437Z"
   },
   {
    "duration": 1609,
    "start_time": "2022-11-12T20:40:12.472Z"
   },
   {
    "duration": 4,
    "start_time": "2022-11-12T20:40:14.083Z"
   },
   {
    "duration": 86,
    "start_time": "2022-11-12T20:40:14.089Z"
   },
   {
    "duration": 0,
    "start_time": "2022-11-12T20:40:14.176Z"
   },
   {
    "duration": 0,
    "start_time": "2022-11-12T20:40:14.178Z"
   },
   {
    "duration": 0,
    "start_time": "2022-11-12T20:40:14.179Z"
   },
   {
    "duration": 0,
    "start_time": "2022-11-12T20:40:14.180Z"
   },
   {
    "duration": 0,
    "start_time": "2022-11-12T20:40:14.181Z"
   },
   {
    "duration": 10,
    "start_time": "2022-11-12T20:40:53.009Z"
   },
   {
    "duration": 17,
    "start_time": "2022-11-12T20:41:13.919Z"
   },
   {
    "duration": 9,
    "start_time": "2022-11-12T20:41:21.781Z"
   },
   {
    "duration": 11,
    "start_time": "2022-11-12T20:41:22.963Z"
   },
   {
    "duration": 1806,
    "start_time": "2022-11-12T20:41:24.495Z"
   },
   {
    "duration": 11,
    "start_time": "2022-11-12T20:41:26.303Z"
   },
   {
    "duration": 20,
    "start_time": "2022-11-12T20:41:26.315Z"
   },
   {
    "duration": 37,
    "start_time": "2022-11-12T20:41:26.337Z"
   },
   {
    "duration": 186,
    "start_time": "2022-11-12T20:41:26.376Z"
   },
   {
    "duration": 735,
    "start_time": "2022-11-13T08:26:14.985Z"
   },
   {
    "duration": 345,
    "start_time": "2022-11-13T08:26:15.722Z"
   },
   {
    "duration": 36,
    "start_time": "2022-11-13T08:26:16.069Z"
   },
   {
    "duration": 32,
    "start_time": "2022-11-13T08:26:16.108Z"
   },
   {
    "duration": 28,
    "start_time": "2022-11-13T08:26:16.143Z"
   },
   {
    "duration": 29,
    "start_time": "2022-11-13T08:26:16.172Z"
   },
   {
    "duration": 1939,
    "start_time": "2022-11-13T08:26:16.202Z"
   },
   {
    "duration": 22,
    "start_time": "2022-11-13T08:26:18.143Z"
   },
   {
    "duration": 15,
    "start_time": "2022-11-13T08:26:18.166Z"
   },
   {
    "duration": 163,
    "start_time": "2022-11-13T08:26:18.184Z"
   },
   {
    "duration": 7,
    "start_time": "2022-11-13T08:26:18.349Z"
   },
   {
    "duration": 5,
    "start_time": "2022-11-13T08:26:18.368Z"
   },
   {
    "duration": 10,
    "start_time": "2022-11-13T08:26:18.374Z"
   },
   {
    "duration": 40,
    "start_time": "2022-11-13T08:26:18.386Z"
   },
   {
    "duration": 44,
    "start_time": "2022-11-13T08:26:18.428Z"
   },
   {
    "duration": 9,
    "start_time": "2022-11-13T08:26:18.474Z"
   },
   {
    "duration": 202,
    "start_time": "2022-11-13T08:26:18.485Z"
   },
   {
    "duration": 7,
    "start_time": "2022-11-13T08:26:18.688Z"
   },
   {
    "duration": 243,
    "start_time": "2022-11-13T08:26:18.697Z"
   },
   {
    "duration": 146,
    "start_time": "2022-11-13T08:26:18.942Z"
   },
   {
    "duration": 178,
    "start_time": "2022-11-13T08:26:19.090Z"
   },
   {
    "duration": 1891,
    "start_time": "2022-11-13T08:26:19.270Z"
   },
   {
    "duration": 8,
    "start_time": "2022-11-13T08:26:21.163Z"
   },
   {
    "duration": 224,
    "start_time": "2022-11-13T08:26:21.173Z"
   },
   {
    "duration": 266,
    "start_time": "2022-11-13T08:26:21.398Z"
   },
   {
    "duration": 8,
    "start_time": "2022-11-13T08:26:21.665Z"
   },
   {
    "duration": 47,
    "start_time": "2022-11-13T08:26:21.674Z"
   },
   {
    "duration": 0,
    "start_time": "2022-11-13T08:26:21.723Z"
   },
   {
    "duration": 0,
    "start_time": "2022-11-13T08:26:21.724Z"
   },
   {
    "duration": 0,
    "start_time": "2022-11-13T08:26:21.726Z"
   },
   {
    "duration": 0,
    "start_time": "2022-11-13T08:26:21.727Z"
   },
   {
    "duration": 0,
    "start_time": "2022-11-13T08:26:21.728Z"
   },
   {
    "duration": 0,
    "start_time": "2022-11-13T08:26:21.729Z"
   },
   {
    "duration": 0,
    "start_time": "2022-11-13T08:26:21.730Z"
   },
   {
    "duration": 0,
    "start_time": "2022-11-13T08:26:21.731Z"
   },
   {
    "duration": 0,
    "start_time": "2022-11-13T08:26:21.732Z"
   },
   {
    "duration": 0,
    "start_time": "2022-11-13T08:26:21.733Z"
   },
   {
    "duration": 0,
    "start_time": "2022-11-13T08:26:21.734Z"
   },
   {
    "duration": 0,
    "start_time": "2022-11-13T08:26:21.735Z"
   },
   {
    "duration": 71,
    "start_time": "2022-11-13T08:26:41.944Z"
   },
   {
    "duration": 6,
    "start_time": "2022-11-13T08:28:56.251Z"
   },
   {
    "duration": 10,
    "start_time": "2022-11-13T08:29:25.798Z"
   },
   {
    "duration": 6,
    "start_time": "2022-11-13T08:29:28.517Z"
   },
   {
    "duration": 6,
    "start_time": "2022-11-13T08:29:29.179Z"
   },
   {
    "duration": 14,
    "start_time": "2022-11-13T08:29:41.489Z"
   },
   {
    "duration": 589,
    "start_time": "2022-11-13T08:30:07.331Z"
   },
   {
    "duration": 99,
    "start_time": "2022-11-13T08:30:07.922Z"
   },
   {
    "duration": 28,
    "start_time": "2022-11-13T08:30:08.022Z"
   },
   {
    "duration": 52,
    "start_time": "2022-11-13T08:30:08.052Z"
   },
   {
    "duration": 30,
    "start_time": "2022-11-13T08:30:08.106Z"
   },
   {
    "duration": 63,
    "start_time": "2022-11-13T08:30:08.138Z"
   },
   {
    "duration": 1970,
    "start_time": "2022-11-13T08:30:08.203Z"
   },
   {
    "duration": 23,
    "start_time": "2022-11-13T08:30:10.175Z"
   },
   {
    "duration": 16,
    "start_time": "2022-11-13T08:30:10.200Z"
   },
   {
    "duration": 157,
    "start_time": "2022-11-13T08:30:10.219Z"
   },
   {
    "duration": 7,
    "start_time": "2022-11-13T08:30:10.378Z"
   },
   {
    "duration": 10,
    "start_time": "2022-11-13T08:30:10.386Z"
   },
   {
    "duration": 13,
    "start_time": "2022-11-13T08:30:10.397Z"
   },
   {
    "duration": 59,
    "start_time": "2022-11-13T08:30:10.411Z"
   },
   {
    "duration": 37,
    "start_time": "2022-11-13T08:30:10.472Z"
   },
   {
    "duration": 6,
    "start_time": "2022-11-13T08:30:10.511Z"
   },
   {
    "duration": 210,
    "start_time": "2022-11-13T08:30:10.519Z"
   },
   {
    "duration": 7,
    "start_time": "2022-11-13T08:30:10.731Z"
   },
   {
    "duration": 242,
    "start_time": "2022-11-13T08:30:10.740Z"
   },
   {
    "duration": 154,
    "start_time": "2022-11-13T08:30:10.985Z"
   },
   {
    "duration": 174,
    "start_time": "2022-11-13T08:30:11.141Z"
   },
   {
    "duration": 1827,
    "start_time": "2022-11-13T08:30:11.317Z"
   },
   {
    "duration": 8,
    "start_time": "2022-11-13T08:30:13.147Z"
   },
   {
    "duration": 206,
    "start_time": "2022-11-13T08:30:13.169Z"
   },
   {
    "duration": 261,
    "start_time": "2022-11-13T08:30:13.377Z"
   },
   {
    "duration": 7,
    "start_time": "2022-11-13T08:30:13.640Z"
   },
   {
    "duration": 21,
    "start_time": "2022-11-13T08:30:13.649Z"
   },
   {
    "duration": 4,
    "start_time": "2022-11-13T08:30:13.673Z"
   },
   {
    "duration": 8,
    "start_time": "2022-11-13T08:30:13.679Z"
   },
   {
    "duration": 16,
    "start_time": "2022-11-13T08:30:13.688Z"
   },
   {
    "duration": 18,
    "start_time": "2022-11-13T08:30:13.706Z"
   },
   {
    "duration": 24,
    "start_time": "2022-11-13T08:30:13.726Z"
   },
   {
    "duration": 1133,
    "start_time": "2022-11-13T08:30:13.751Z"
   },
   {
    "duration": 0,
    "start_time": "2022-11-13T08:30:14.886Z"
   },
   {
    "duration": 0,
    "start_time": "2022-11-13T08:30:14.887Z"
   },
   {
    "duration": 0,
    "start_time": "2022-11-13T08:30:14.888Z"
   },
   {
    "duration": 0,
    "start_time": "2022-11-13T08:30:14.889Z"
   },
   {
    "duration": 0,
    "start_time": "2022-11-13T08:30:14.890Z"
   },
   {
    "duration": 0,
    "start_time": "2022-11-13T08:30:14.891Z"
   },
   {
    "duration": 0,
    "start_time": "2022-11-13T08:30:14.892Z"
   },
   {
    "duration": 597,
    "start_time": "2022-11-13T08:30:47.586Z"
   },
   {
    "duration": 86,
    "start_time": "2022-11-13T08:30:48.185Z"
   },
   {
    "duration": 29,
    "start_time": "2022-11-13T08:30:48.272Z"
   },
   {
    "duration": 25,
    "start_time": "2022-11-13T08:30:48.303Z"
   },
   {
    "duration": 4,
    "start_time": "2022-11-13T08:30:48.329Z"
   },
   {
    "duration": 39,
    "start_time": "2022-11-13T08:30:48.334Z"
   },
   {
    "duration": 1990,
    "start_time": "2022-11-13T08:30:48.375Z"
   },
   {
    "duration": 24,
    "start_time": "2022-11-13T08:30:50.367Z"
   },
   {
    "duration": 17,
    "start_time": "2022-11-13T08:30:50.393Z"
   },
   {
    "duration": 170,
    "start_time": "2022-11-13T08:30:50.412Z"
   },
   {
    "duration": 7,
    "start_time": "2022-11-13T08:30:50.584Z"
   },
   {
    "duration": 10,
    "start_time": "2022-11-13T08:30:50.592Z"
   },
   {
    "duration": 10,
    "start_time": "2022-11-13T08:30:50.603Z"
   },
   {
    "duration": 60,
    "start_time": "2022-11-13T08:30:50.616Z"
   },
   {
    "duration": 31,
    "start_time": "2022-11-13T08:30:50.678Z"
   },
   {
    "duration": 6,
    "start_time": "2022-11-13T08:30:50.711Z"
   },
   {
    "duration": 211,
    "start_time": "2022-11-13T08:30:50.719Z"
   },
   {
    "duration": 7,
    "start_time": "2022-11-13T08:30:50.932Z"
   },
   {
    "duration": 230,
    "start_time": "2022-11-13T08:30:50.941Z"
   },
   {
    "duration": 156,
    "start_time": "2022-11-13T08:30:51.172Z"
   },
   {
    "duration": 172,
    "start_time": "2022-11-13T08:30:51.330Z"
   },
   {
    "duration": 1965,
    "start_time": "2022-11-13T08:30:51.503Z"
   },
   {
    "duration": 7,
    "start_time": "2022-11-13T08:30:53.470Z"
   },
   {
    "duration": 236,
    "start_time": "2022-11-13T08:30:53.479Z"
   },
   {
    "duration": 270,
    "start_time": "2022-11-13T08:30:53.717Z"
   },
   {
    "duration": 7,
    "start_time": "2022-11-13T08:30:53.988Z"
   },
   {
    "duration": 14,
    "start_time": "2022-11-13T08:30:53.996Z"
   },
   {
    "duration": 6,
    "start_time": "2022-11-13T08:30:54.012Z"
   },
   {
    "duration": 8,
    "start_time": "2022-11-13T08:30:54.019Z"
   },
   {
    "duration": 69,
    "start_time": "2022-11-13T08:30:54.029Z"
   },
   {
    "duration": 19,
    "start_time": "2022-11-13T08:30:54.100Z"
   },
   {
    "duration": 12,
    "start_time": "2022-11-13T08:30:54.121Z"
   },
   {
    "duration": 1550,
    "start_time": "2022-11-13T08:30:54.135Z"
   },
   {
    "duration": 11,
    "start_time": "2022-11-13T08:30:55.687Z"
   },
   {
    "duration": 90,
    "start_time": "2022-11-13T08:30:55.700Z"
   },
   {
    "duration": 0,
    "start_time": "2022-11-13T08:30:55.792Z"
   },
   {
    "duration": 0,
    "start_time": "2022-11-13T08:30:55.794Z"
   },
   {
    "duration": 0,
    "start_time": "2022-11-13T08:30:55.796Z"
   },
   {
    "duration": 0,
    "start_time": "2022-11-13T08:30:55.797Z"
   },
   {
    "duration": 0,
    "start_time": "2022-11-13T08:30:55.799Z"
   },
   {
    "duration": 20,
    "start_time": "2022-11-13T08:31:29.635Z"
   },
   {
    "duration": 12,
    "start_time": "2022-11-13T08:33:08.044Z"
   },
   {
    "duration": 7,
    "start_time": "2022-11-13T08:33:14.796Z"
   },
   {
    "duration": 8,
    "start_time": "2022-11-13T08:33:34.175Z"
   },
   {
    "duration": 5,
    "start_time": "2022-11-13T08:33:35.085Z"
   },
   {
    "duration": 6,
    "start_time": "2022-11-13T08:33:35.873Z"
   },
   {
    "duration": 589,
    "start_time": "2022-11-13T08:34:01.923Z"
   },
   {
    "duration": 98,
    "start_time": "2022-11-13T08:34:02.515Z"
   },
   {
    "duration": 29,
    "start_time": "2022-11-13T08:34:02.615Z"
   },
   {
    "duration": 35,
    "start_time": "2022-11-13T08:34:02.646Z"
   },
   {
    "duration": 18,
    "start_time": "2022-11-13T08:34:02.683Z"
   },
   {
    "duration": 34,
    "start_time": "2022-11-13T08:34:02.703Z"
   },
   {
    "duration": 1994,
    "start_time": "2022-11-13T08:34:02.739Z"
   },
   {
    "duration": 25,
    "start_time": "2022-11-13T08:34:04.735Z"
   },
   {
    "duration": 17,
    "start_time": "2022-11-13T08:34:04.762Z"
   },
   {
    "duration": 153,
    "start_time": "2022-11-13T08:34:04.781Z"
   },
   {
    "duration": 8,
    "start_time": "2022-11-13T08:34:04.936Z"
   },
   {
    "duration": 10,
    "start_time": "2022-11-13T08:34:04.945Z"
   },
   {
    "duration": 9,
    "start_time": "2022-11-13T08:34:04.967Z"
   },
   {
    "duration": 55,
    "start_time": "2022-11-13T08:34:04.979Z"
   },
   {
    "duration": 38,
    "start_time": "2022-11-13T08:34:05.036Z"
   },
   {
    "duration": 6,
    "start_time": "2022-11-13T08:34:05.076Z"
   },
   {
    "duration": 205,
    "start_time": "2022-11-13T08:34:05.084Z"
   },
   {
    "duration": 7,
    "start_time": "2022-11-13T08:34:05.291Z"
   },
   {
    "duration": 251,
    "start_time": "2022-11-13T08:34:05.300Z"
   },
   {
    "duration": 154,
    "start_time": "2022-11-13T08:34:05.553Z"
   },
   {
    "duration": 179,
    "start_time": "2022-11-13T08:34:05.709Z"
   },
   {
    "duration": 1895,
    "start_time": "2022-11-13T08:34:05.891Z"
   },
   {
    "duration": 8,
    "start_time": "2022-11-13T08:34:07.788Z"
   },
   {
    "duration": 226,
    "start_time": "2022-11-13T08:34:07.798Z"
   },
   {
    "duration": 265,
    "start_time": "2022-11-13T08:34:08.025Z"
   },
   {
    "duration": 6,
    "start_time": "2022-11-13T08:34:08.291Z"
   },
   {
    "duration": 13,
    "start_time": "2022-11-13T08:34:08.299Z"
   },
   {
    "duration": 5,
    "start_time": "2022-11-13T08:34:08.313Z"
   },
   {
    "duration": 13,
    "start_time": "2022-11-13T08:34:08.320Z"
   },
   {
    "duration": 60,
    "start_time": "2022-11-13T08:34:08.335Z"
   },
   {
    "duration": 16,
    "start_time": "2022-11-13T08:34:08.397Z"
   },
   {
    "duration": 11,
    "start_time": "2022-11-13T08:34:08.414Z"
   },
   {
    "duration": 1500,
    "start_time": "2022-11-13T08:34:08.426Z"
   },
   {
    "duration": 9,
    "start_time": "2022-11-13T08:34:09.927Z"
   },
   {
    "duration": 87,
    "start_time": "2022-11-13T08:34:09.938Z"
   },
   {
    "duration": 0,
    "start_time": "2022-11-13T08:34:10.027Z"
   },
   {
    "duration": 0,
    "start_time": "2022-11-13T08:34:10.028Z"
   },
   {
    "duration": 0,
    "start_time": "2022-11-13T08:34:10.029Z"
   },
   {
    "duration": 0,
    "start_time": "2022-11-13T08:34:10.030Z"
   },
   {
    "duration": 0,
    "start_time": "2022-11-13T08:34:10.031Z"
   },
   {
    "duration": 32,
    "start_time": "2022-11-13T08:34:45.216Z"
   },
   {
    "duration": 12,
    "start_time": "2022-11-13T08:35:21.651Z"
   },
   {
    "duration": 6,
    "start_time": "2022-11-13T08:35:27.442Z"
   },
   {
    "duration": 6,
    "start_time": "2022-11-13T08:35:28.436Z"
   },
   {
    "duration": 8,
    "start_time": "2022-11-13T08:36:25.889Z"
   },
   {
    "duration": 12,
    "start_time": "2022-11-13T08:36:27.275Z"
   },
   {
    "duration": 6,
    "start_time": "2022-11-13T08:36:28.728Z"
   },
   {
    "duration": 7,
    "start_time": "2022-11-13T08:36:31.425Z"
   },
   {
    "duration": 16,
    "start_time": "2022-11-13T08:36:59.106Z"
   },
   {
    "duration": 7,
    "start_time": "2022-11-13T08:36:59.993Z"
   },
   {
    "duration": 6,
    "start_time": "2022-11-13T08:37:03.491Z"
   },
   {
    "duration": 59,
    "start_time": "2022-11-13T08:37:23.673Z"
   },
   {
    "duration": 29,
    "start_time": "2022-11-13T08:37:31.104Z"
   },
   {
    "duration": 32,
    "start_time": "2022-11-13T08:37:54.437Z"
   },
   {
    "duration": 22,
    "start_time": "2022-11-13T08:38:13.791Z"
   },
   {
    "duration": 5,
    "start_time": "2022-11-13T08:38:16.210Z"
   },
   {
    "duration": 592,
    "start_time": "2022-11-13T08:38:29.202Z"
   },
   {
    "duration": 112,
    "start_time": "2022-11-13T08:38:29.796Z"
   },
   {
    "duration": 37,
    "start_time": "2022-11-13T08:38:29.910Z"
   },
   {
    "duration": 38,
    "start_time": "2022-11-13T08:38:29.949Z"
   },
   {
    "duration": 3,
    "start_time": "2022-11-13T08:38:29.989Z"
   },
   {
    "duration": 18,
    "start_time": "2022-11-13T08:38:29.994Z"
   },
   {
    "duration": 2028,
    "start_time": "2022-11-13T08:38:30.013Z"
   },
   {
    "duration": 35,
    "start_time": "2022-11-13T08:38:32.044Z"
   },
   {
    "duration": 17,
    "start_time": "2022-11-13T08:38:32.081Z"
   },
   {
    "duration": 167,
    "start_time": "2022-11-13T08:38:32.100Z"
   },
   {
    "duration": 11,
    "start_time": "2022-11-13T08:38:32.269Z"
   },
   {
    "duration": 10,
    "start_time": "2022-11-13T08:38:32.282Z"
   },
   {
    "duration": 15,
    "start_time": "2022-11-13T08:38:32.293Z"
   },
   {
    "duration": 60,
    "start_time": "2022-11-13T08:38:32.311Z"
   },
   {
    "duration": 43,
    "start_time": "2022-11-13T08:38:32.373Z"
   },
   {
    "duration": 9,
    "start_time": "2022-11-13T08:38:32.418Z"
   },
   {
    "duration": 242,
    "start_time": "2022-11-13T08:38:32.429Z"
   },
   {
    "duration": 6,
    "start_time": "2022-11-13T08:38:32.673Z"
   },
   {
    "duration": 233,
    "start_time": "2022-11-13T08:38:32.680Z"
   },
   {
    "duration": 153,
    "start_time": "2022-11-13T08:38:32.916Z"
   },
   {
    "duration": 166,
    "start_time": "2022-11-13T08:38:33.071Z"
   },
   {
    "duration": 1910,
    "start_time": "2022-11-13T08:38:33.239Z"
   },
   {
    "duration": 19,
    "start_time": "2022-11-13T08:38:35.151Z"
   },
   {
    "duration": 211,
    "start_time": "2022-11-13T08:38:35.172Z"
   },
   {
    "duration": 269,
    "start_time": "2022-11-13T08:38:35.385Z"
   },
   {
    "duration": 15,
    "start_time": "2022-11-13T08:38:35.656Z"
   },
   {
    "duration": 24,
    "start_time": "2022-11-13T08:38:35.672Z"
   },
   {
    "duration": 6,
    "start_time": "2022-11-13T08:38:35.698Z"
   },
   {
    "duration": 9,
    "start_time": "2022-11-13T08:38:35.706Z"
   },
   {
    "duration": 65,
    "start_time": "2022-11-13T08:38:35.717Z"
   },
   {
    "duration": 18,
    "start_time": "2022-11-13T08:38:35.784Z"
   },
   {
    "duration": 11,
    "start_time": "2022-11-13T08:38:35.804Z"
   },
   {
    "duration": 1532,
    "start_time": "2022-11-13T08:38:35.816Z"
   },
   {
    "duration": 19,
    "start_time": "2022-11-13T08:38:37.350Z"
   },
   {
    "duration": 81,
    "start_time": "2022-11-13T08:38:37.371Z"
   },
   {
    "duration": 0,
    "start_time": "2022-11-13T08:38:37.454Z"
   },
   {
    "duration": 0,
    "start_time": "2022-11-13T08:38:37.455Z"
   },
   {
    "duration": 0,
    "start_time": "2022-11-13T08:38:37.456Z"
   },
   {
    "duration": 0,
    "start_time": "2022-11-13T08:38:37.457Z"
   },
   {
    "duration": 0,
    "start_time": "2022-11-13T08:38:37.467Z"
   },
   {
    "duration": 180,
    "start_time": "2022-11-13T08:39:04.290Z"
   },
   {
    "duration": 166,
    "start_time": "2022-11-13T08:39:26.174Z"
   },
   {
    "duration": 159,
    "start_time": "2022-11-13T08:39:31.890Z"
   },
   {
    "duration": 22,
    "start_time": "2022-11-13T08:41:59.300Z"
   },
   {
    "duration": 26,
    "start_time": "2022-11-13T08:42:05.748Z"
   },
   {
    "duration": 19,
    "start_time": "2022-11-13T08:42:06.501Z"
   },
   {
    "duration": 643,
    "start_time": "2022-11-13T08:42:11.655Z"
   },
   {
    "duration": 91,
    "start_time": "2022-11-13T08:42:12.299Z"
   },
   {
    "duration": 30,
    "start_time": "2022-11-13T08:42:12.391Z"
   },
   {
    "duration": 25,
    "start_time": "2022-11-13T08:42:12.423Z"
   },
   {
    "duration": 20,
    "start_time": "2022-11-13T08:42:12.449Z"
   },
   {
    "duration": 19,
    "start_time": "2022-11-13T08:42:12.471Z"
   },
   {
    "duration": 2040,
    "start_time": "2022-11-13T08:42:12.493Z"
   },
   {
    "duration": 25,
    "start_time": "2022-11-13T08:42:14.535Z"
   },
   {
    "duration": 17,
    "start_time": "2022-11-13T08:42:14.562Z"
   },
   {
    "duration": 155,
    "start_time": "2022-11-13T08:42:14.582Z"
   },
   {
    "duration": 7,
    "start_time": "2022-11-13T08:42:14.739Z"
   },
   {
    "duration": 9,
    "start_time": "2022-11-13T08:42:14.748Z"
   },
   {
    "duration": 16,
    "start_time": "2022-11-13T08:42:14.758Z"
   },
   {
    "duration": 44,
    "start_time": "2022-11-13T08:42:14.775Z"
   },
   {
    "duration": 27,
    "start_time": "2022-11-13T08:42:14.820Z"
   },
   {
    "duration": 7,
    "start_time": "2022-11-13T08:42:14.867Z"
   },
   {
    "duration": 203,
    "start_time": "2022-11-13T08:42:14.876Z"
   },
   {
    "duration": 8,
    "start_time": "2022-11-13T08:42:15.081Z"
   },
   {
    "duration": 232,
    "start_time": "2022-11-13T08:42:15.091Z"
   },
   {
    "duration": 153,
    "start_time": "2022-11-13T08:42:15.325Z"
   },
   {
    "duration": 166,
    "start_time": "2022-11-13T08:42:15.479Z"
   },
   {
    "duration": 1994,
    "start_time": "2022-11-13T08:42:15.647Z"
   },
   {
    "duration": 8,
    "start_time": "2022-11-13T08:42:17.642Z"
   },
   {
    "duration": 240,
    "start_time": "2022-11-13T08:42:17.651Z"
   },
   {
    "duration": 288,
    "start_time": "2022-11-13T08:42:17.893Z"
   },
   {
    "duration": 7,
    "start_time": "2022-11-13T08:42:18.183Z"
   },
   {
    "duration": 24,
    "start_time": "2022-11-13T08:42:18.192Z"
   },
   {
    "duration": 193,
    "start_time": "2022-11-13T08:42:18.220Z"
   },
   {
    "duration": 5,
    "start_time": "2022-11-13T08:42:18.414Z"
   },
   {
    "duration": 20,
    "start_time": "2022-11-13T08:42:18.421Z"
   },
   {
    "duration": 28,
    "start_time": "2022-11-13T08:42:18.443Z"
   },
   {
    "duration": 1518,
    "start_time": "2022-11-13T08:42:18.473Z"
   },
   {
    "duration": 20,
    "start_time": "2022-11-13T08:42:19.993Z"
   },
   {
    "duration": 19,
    "start_time": "2022-11-13T08:42:20.015Z"
   },
   {
    "duration": 1626,
    "start_time": "2022-11-13T08:42:20.036Z"
   },
   {
    "duration": 11,
    "start_time": "2022-11-13T08:42:21.664Z"
   },
   {
    "duration": 18,
    "start_time": "2022-11-13T08:42:21.677Z"
   },
   {
    "duration": 16,
    "start_time": "2022-11-13T08:42:21.697Z"
   },
   {
    "duration": 214,
    "start_time": "2022-11-13T08:42:21.715Z"
   },
   {
    "duration": 26,
    "start_time": "2022-11-13T08:44:12.732Z"
   },
   {
    "duration": 175,
    "start_time": "2022-11-13T08:44:13.281Z"
   },
   {
    "duration": 568,
    "start_time": "2022-11-13T08:44:26.397Z"
   },
   {
    "duration": 88,
    "start_time": "2022-11-13T08:44:26.968Z"
   },
   {
    "duration": 27,
    "start_time": "2022-11-13T08:44:27.057Z"
   },
   {
    "duration": 23,
    "start_time": "2022-11-13T08:44:27.085Z"
   },
   {
    "duration": 4,
    "start_time": "2022-11-13T08:44:27.110Z"
   },
   {
    "duration": 17,
    "start_time": "2022-11-13T08:44:27.115Z"
   },
   {
    "duration": 1955,
    "start_time": "2022-11-13T08:44:27.134Z"
   },
   {
    "duration": 24,
    "start_time": "2022-11-13T08:44:29.091Z"
   },
   {
    "duration": 16,
    "start_time": "2022-11-13T08:44:29.116Z"
   },
   {
    "duration": 136,
    "start_time": "2022-11-13T08:44:29.134Z"
   },
   {
    "duration": 7,
    "start_time": "2022-11-13T08:44:29.272Z"
   },
   {
    "duration": 7,
    "start_time": "2022-11-13T08:44:29.281Z"
   },
   {
    "duration": 12,
    "start_time": "2022-11-13T08:44:29.289Z"
   },
   {
    "duration": 44,
    "start_time": "2022-11-13T08:44:29.304Z"
   },
   {
    "duration": 33,
    "start_time": "2022-11-13T08:44:29.368Z"
   },
   {
    "duration": 6,
    "start_time": "2022-11-13T08:44:29.403Z"
   },
   {
    "duration": 204,
    "start_time": "2022-11-13T08:44:29.411Z"
   },
   {
    "duration": 7,
    "start_time": "2022-11-13T08:44:29.616Z"
   },
   {
    "duration": 222,
    "start_time": "2022-11-13T08:44:29.624Z"
   },
   {
    "duration": 150,
    "start_time": "2022-11-13T08:44:29.848Z"
   },
   {
    "duration": 160,
    "start_time": "2022-11-13T08:44:30.000Z"
   },
   {
    "duration": 1858,
    "start_time": "2022-11-13T08:44:30.161Z"
   },
   {
    "duration": 6,
    "start_time": "2022-11-13T08:44:32.021Z"
   },
   {
    "duration": 210,
    "start_time": "2022-11-13T08:44:32.028Z"
   },
   {
    "duration": 272,
    "start_time": "2022-11-13T08:44:32.240Z"
   },
   {
    "duration": 6,
    "start_time": "2022-11-13T08:44:32.514Z"
   },
   {
    "duration": 25,
    "start_time": "2022-11-13T08:44:32.522Z"
   },
   {
    "duration": 186,
    "start_time": "2022-11-13T08:44:32.549Z"
   },
   {
    "duration": 5,
    "start_time": "2022-11-13T08:44:32.737Z"
   },
   {
    "duration": 32,
    "start_time": "2022-11-13T08:44:32.744Z"
   },
   {
    "duration": 11,
    "start_time": "2022-11-13T08:44:32.778Z"
   },
   {
    "duration": 1461,
    "start_time": "2022-11-13T08:44:32.791Z"
   },
   {
    "duration": 25,
    "start_time": "2022-11-13T08:44:34.254Z"
   },
   {
    "duration": 11,
    "start_time": "2022-11-13T08:44:34.281Z"
   },
   {
    "duration": 1638,
    "start_time": "2022-11-13T08:44:34.294Z"
   },
   {
    "duration": 15,
    "start_time": "2022-11-13T08:44:35.934Z"
   },
   {
    "duration": 42,
    "start_time": "2022-11-13T08:44:35.950Z"
   },
   {
    "duration": 21,
    "start_time": "2022-11-13T08:44:35.994Z"
   },
   {
    "duration": 224,
    "start_time": "2022-11-13T08:44:36.017Z"
   },
   {
    "duration": 45,
    "start_time": "2022-11-17T15:30:33.073Z"
   },
   {
    "duration": 720,
    "start_time": "2022-11-17T15:30:44.924Z"
   },
   {
    "duration": 11,
    "start_time": "2022-11-17T15:30:49.788Z"
   },
   {
    "duration": 50,
    "start_time": "2022-12-05T21:36:15.251Z"
   },
   {
    "duration": 828,
    "start_time": "2022-12-05T21:36:18.445Z"
   },
   {
    "duration": 311,
    "start_time": "2022-12-05T21:36:19.276Z"
   },
   {
    "duration": 31,
    "start_time": "2022-12-05T21:36:19.592Z"
   },
   {
    "duration": 26,
    "start_time": "2022-12-05T21:36:19.626Z"
   },
   {
    "duration": 5,
    "start_time": "2022-12-05T21:36:19.653Z"
   },
   {
    "duration": 51,
    "start_time": "2022-12-05T21:36:19.660Z"
   },
   {
    "duration": 2076,
    "start_time": "2022-12-05T21:36:19.713Z"
   },
   {
    "duration": 27,
    "start_time": "2022-12-05T21:36:21.791Z"
   },
   {
    "duration": 20,
    "start_time": "2022-12-05T21:36:21.820Z"
   },
   {
    "duration": 187,
    "start_time": "2022-12-05T21:36:21.842Z"
   },
   {
    "duration": 12,
    "start_time": "2022-12-05T21:36:22.034Z"
   },
   {
    "duration": 24,
    "start_time": "2022-12-05T21:36:22.047Z"
   },
   {
    "duration": 24,
    "start_time": "2022-12-05T21:36:22.075Z"
   },
   {
    "duration": 83,
    "start_time": "2022-12-05T21:36:22.100Z"
   },
   {
    "duration": 15,
    "start_time": "2022-12-05T21:36:22.185Z"
   },
   {
    "duration": 45,
    "start_time": "2022-12-05T21:36:22.202Z"
   },
   {
    "duration": 9,
    "start_time": "2022-12-05T21:36:22.249Z"
   },
   {
    "duration": 272,
    "start_time": "2022-12-05T21:36:22.260Z"
   },
   {
    "duration": 13,
    "start_time": "2022-12-05T21:36:22.534Z"
   },
   {
    "duration": 341,
    "start_time": "2022-12-05T21:36:22.549Z"
   },
   {
    "duration": 159,
    "start_time": "2022-12-05T21:36:22.892Z"
   },
   {
    "duration": 182,
    "start_time": "2022-12-05T21:36:23.053Z"
   },
   {
    "duration": 1987,
    "start_time": "2022-12-05T21:36:23.237Z"
   },
   {
    "duration": 10,
    "start_time": "2022-12-05T21:36:25.227Z"
   },
   {
    "duration": 225,
    "start_time": "2022-12-05T21:36:25.239Z"
   },
   {
    "duration": 275,
    "start_time": "2022-12-05T21:36:25.466Z"
   },
   {
    "duration": 7,
    "start_time": "2022-12-05T21:36:25.743Z"
   },
   {
    "duration": 26,
    "start_time": "2022-12-05T21:36:25.752Z"
   },
   {
    "duration": 191,
    "start_time": "2022-12-05T21:36:25.780Z"
   },
   {
    "duration": 6,
    "start_time": "2022-12-05T21:36:25.973Z"
   },
   {
    "duration": 34,
    "start_time": "2022-12-05T21:36:25.980Z"
   },
   {
    "duration": 26,
    "start_time": "2022-12-05T21:36:26.015Z"
   },
   {
    "duration": 1622,
    "start_time": "2022-12-05T21:36:26.043Z"
   },
   {
    "duration": 22,
    "start_time": "2022-12-05T21:36:27.667Z"
   },
   {
    "duration": 16,
    "start_time": "2022-12-05T21:36:27.691Z"
   },
   {
    "duration": 1641,
    "start_time": "2022-12-05T21:36:27.709Z"
   },
   {
    "duration": 11,
    "start_time": "2022-12-05T21:36:29.352Z"
   },
   {
    "duration": 20,
    "start_time": "2022-12-05T21:36:29.364Z"
   },
   {
    "duration": 16,
    "start_time": "2022-12-05T21:36:29.386Z"
   },
   {
    "duration": 206,
    "start_time": "2022-12-05T21:36:29.406Z"
   },
   {
    "duration": 7,
    "start_time": "2022-12-05T21:36:29.614Z"
   },
   {
    "duration": 870,
    "start_time": "2023-07-25T10:27:51.873Z"
   },
   {
    "duration": 303,
    "start_time": "2023-07-25T10:27:52.745Z"
   },
   {
    "duration": 33,
    "start_time": "2023-07-25T10:27:53.049Z"
   },
   {
    "duration": 27,
    "start_time": "2023-07-25T10:27:53.084Z"
   },
   {
    "duration": 19,
    "start_time": "2023-07-25T10:27:53.114Z"
   },
   {
    "duration": 52,
    "start_time": "2023-07-25T10:27:53.135Z"
   },
   {
    "duration": 2119,
    "start_time": "2023-07-25T10:27:53.188Z"
   },
   {
    "duration": 33,
    "start_time": "2023-07-25T10:27:55.309Z"
   },
   {
    "duration": 21,
    "start_time": "2023-07-25T10:27:55.344Z"
   },
   {
    "duration": 160,
    "start_time": "2023-07-25T10:27:55.368Z"
   },
   {
    "duration": 11,
    "start_time": "2023-07-25T10:27:55.530Z"
   },
   {
    "duration": 14,
    "start_time": "2023-07-25T10:27:55.542Z"
   },
   {
    "duration": 27,
    "start_time": "2023-07-25T10:27:55.559Z"
   },
   {
    "duration": 62,
    "start_time": "2023-07-25T10:27:55.590Z"
   },
   {
    "duration": 32,
    "start_time": "2023-07-25T10:27:55.654Z"
   },
   {
    "duration": 7,
    "start_time": "2023-07-25T10:27:55.688Z"
   },
   {
    "duration": 211,
    "start_time": "2023-07-25T10:27:55.697Z"
   },
   {
    "duration": 7,
    "start_time": "2023-07-25T10:27:55.910Z"
   },
   {
    "duration": 246,
    "start_time": "2023-07-25T10:27:55.919Z"
   },
   {
    "duration": 170,
    "start_time": "2023-07-25T10:27:56.167Z"
   },
   {
    "duration": 169,
    "start_time": "2023-07-25T10:27:56.339Z"
   },
   {
    "duration": 2116,
    "start_time": "2023-07-25T10:27:56.510Z"
   },
   {
    "duration": 25,
    "start_time": "2023-07-25T10:27:58.628Z"
   },
   {
    "duration": 237,
    "start_time": "2023-07-25T10:27:58.656Z"
   },
   {
    "duration": 301,
    "start_time": "2023-07-25T10:27:58.894Z"
   },
   {
    "duration": 7,
    "start_time": "2023-07-25T10:27:59.197Z"
   },
   {
    "duration": 64,
    "start_time": "2023-07-25T10:27:59.206Z"
   },
   {
    "duration": 213,
    "start_time": "2023-07-25T10:27:59.271Z"
   },
   {
    "duration": 6,
    "start_time": "2023-07-25T10:27:59.486Z"
   },
   {
    "duration": 151,
    "start_time": "2023-07-25T10:27:59.494Z"
   },
   {
    "duration": 17,
    "start_time": "2023-07-25T10:27:59.648Z"
   },
   {
    "duration": 1632,
    "start_time": "2023-07-25T10:27:59.667Z"
   },
   {
    "duration": 30,
    "start_time": "2023-07-25T10:28:01.301Z"
   },
   {
    "duration": 57,
    "start_time": "2023-07-25T10:28:01.333Z"
   },
   {
    "duration": 1860,
    "start_time": "2023-07-25T10:28:01.392Z"
   },
   {
    "duration": 16,
    "start_time": "2023-07-25T10:28:03.254Z"
   },
   {
    "duration": 37,
    "start_time": "2023-07-25T10:28:03.273Z"
   },
   {
    "duration": 40,
    "start_time": "2023-07-25T10:28:03.312Z"
   },
   {
    "duration": 215,
    "start_time": "2023-07-25T10:28:03.354Z"
   }
  ],
  "kernelspec": {
   "display_name": "Python 3 (ipykernel)",
   "language": "python",
   "name": "python3"
  },
  "language_info": {
   "codemirror_mode": {
    "name": "ipython",
    "version": 3
   },
   "file_extension": ".py",
   "mimetype": "text/x-python",
   "name": "python",
   "nbconvert_exporter": "python",
   "pygments_lexer": "ipython3",
   "version": "3.9.5"
  },
  "toc": {
   "base_numbering": 1,
   "nav_menu": {},
   "number_sections": true,
   "sideBar": true,
   "skip_h1_title": true,
   "title_cell": "Table of Contents",
   "title_sidebar": "Contents",
   "toc_cell": false,
   "toc_position": {},
   "toc_section_display": true,
   "toc_window_display": false
  }
 },
 "nbformat": 4,
 "nbformat_minor": 2
}
