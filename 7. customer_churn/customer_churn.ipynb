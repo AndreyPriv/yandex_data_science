{
 "cells": [
  {
   "cell_type": "markdown",
   "metadata": {
    "toc": true
   },
   "source": [
    "<h1>Содержание<span class=\"tocSkip\"></span></h1>\n",
    "<div class=\"toc\"><ul class=\"toc-item\"><li><span><a href=\"#Подготовка-данных\" data-toc-modified-id=\"Подготовка-данных-1\"><span class=\"toc-item-num\">1&nbsp;&nbsp;</span>Подготовка данных</a></span></li><li><span><a href=\"#Исследование-задачи\" data-toc-modified-id=\"Исследование-задачи-2\"><span class=\"toc-item-num\">2&nbsp;&nbsp;</span>Исследование задачи</a></span></li><li><span><a href=\"#Борьба-с-дисбалансом\" data-toc-modified-id=\"Борьба-с-дисбалансом-3\"><span class=\"toc-item-num\">3&nbsp;&nbsp;</span>Борьба с дисбалансом</a></span></li><li><span><a href=\"#Тестирование-модели\" data-toc-modified-id=\"Тестирование-модели-4\"><span class=\"toc-item-num\">4&nbsp;&nbsp;</span>Тестирование модели</a></span></li><li><span><a href=\"#Чек-лист-готовности-проекта\" data-toc-modified-id=\"Чек-лист-готовности-проекта-5\"><span class=\"toc-item-num\">5&nbsp;&nbsp;</span>Чек-лист готовности проекта</a></span></li></ul></div>"
   ]
  },
  {
   "cell_type": "markdown",
   "metadata": {},
   "source": [
    "# Отток клиентов"
   ]
  },
  {
   "cell_type": "markdown",
   "metadata": {},
   "source": [
    "Из «Бета-Банка» стали уходить клиенты. Каждый месяц. Немного, но заметно. Банковские маркетологи посчитали: сохранять текущих клиентов дешевле, чем привлекать новых.\n",
    "\n",
    "Нужно спрогнозировать, уйдёт клиент из банка в ближайшее время или нет. Вам предоставлены исторические данные о поведении клиентов и расторжении договоров с банком. \n",
    "\n",
    "Постройте модель с предельно большим значением *F1*-меры. Чтобы сдать проект успешно, нужно довести метрику до 0.59. Проверьте *F1*-меру на тестовой выборке самостоятельно.\n",
    "\n",
    "Дополнительно измеряйте *AUC-ROC*, сравнивайте её значение с *F1*-мерой.\n",
    "\n",
    "Источник данных: [https://www.kaggle.com/barelydedicated/bank-customer-churn-modeling](https://www.kaggle.com/barelydedicated/bank-customer-churn-modeling)"
   ]
  },
  {
   "cell_type": "markdown",
   "metadata": {},
   "source": [
    "## Подготовка данных"
   ]
  },
  {
   "cell_type": "markdown",
   "metadata": {},
   "source": [
    "<b>1.1 Импорт библиотек и знакомство с датафреймом</b>"
   ]
  },
  {
   "cell_type": "code",
   "execution_count": 1,
   "metadata": {},
   "outputs": [],
   "source": [
    "import pandas as pd\n",
    "\n",
    "from sklearn.model_selection import train_test_split, GridSearchCV\n",
    "\n",
    "from sklearn.metrics import (\n",
    "    f1_score, accuracy_score, roc_auc_score, confusion_matrix, recall_score, precision_score\n",
    ")\n",
    "from sklearn.utils import shuffle\n",
    "\n",
    "from sklearn.tree import DecisionTreeClassifier\n",
    "from sklearn.ensemble import RandomForestClassifier\n",
    "from sklearn.linear_model import LogisticRegression\n",
    "\n",
    "from sklearn.preprocessing import StandardScaler\n",
    "\n",
    "import warnings\n",
    "warnings.filterwarnings(\"ignore\")\n",
    "\n",
    "from imblearn.over_sampling import SMOTE\n",
    "from imblearn.under_sampling import RandomUnderSampler"
   ]
  },
  {
   "cell_type": "code",
   "execution_count": 2,
   "metadata": {},
   "outputs": [],
   "source": [
    "df = pd.read_csv('/datasets/Churn.csv')"
   ]
  },
  {
   "cell_type": "code",
   "execution_count": 3,
   "metadata": {},
   "outputs": [
    {
     "data": {
      "text/html": [
       "<div>\n",
       "<style scoped>\n",
       "    .dataframe tbody tr th:only-of-type {\n",
       "        vertical-align: middle;\n",
       "    }\n",
       "\n",
       "    .dataframe tbody tr th {\n",
       "        vertical-align: top;\n",
       "    }\n",
       "\n",
       "    .dataframe thead th {\n",
       "        text-align: right;\n",
       "    }\n",
       "</style>\n",
       "<table border=\"1\" class=\"dataframe\">\n",
       "  <thead>\n",
       "    <tr style=\"text-align: right;\">\n",
       "      <th></th>\n",
       "      <th>RowNumber</th>\n",
       "      <th>CustomerId</th>\n",
       "      <th>Surname</th>\n",
       "      <th>CreditScore</th>\n",
       "      <th>Geography</th>\n",
       "      <th>Gender</th>\n",
       "      <th>Age</th>\n",
       "      <th>Tenure</th>\n",
       "      <th>Balance</th>\n",
       "      <th>NumOfProducts</th>\n",
       "      <th>HasCrCard</th>\n",
       "      <th>IsActiveMember</th>\n",
       "      <th>EstimatedSalary</th>\n",
       "      <th>Exited</th>\n",
       "    </tr>\n",
       "  </thead>\n",
       "  <tbody>\n",
       "    <tr>\n",
       "      <th>0</th>\n",
       "      <td>1</td>\n",
       "      <td>15634602</td>\n",
       "      <td>Hargrave</td>\n",
       "      <td>619</td>\n",
       "      <td>France</td>\n",
       "      <td>Female</td>\n",
       "      <td>42</td>\n",
       "      <td>2.0</td>\n",
       "      <td>0.00</td>\n",
       "      <td>1</td>\n",
       "      <td>1</td>\n",
       "      <td>1</td>\n",
       "      <td>101348.88</td>\n",
       "      <td>1</td>\n",
       "    </tr>\n",
       "    <tr>\n",
       "      <th>1</th>\n",
       "      <td>2</td>\n",
       "      <td>15647311</td>\n",
       "      <td>Hill</td>\n",
       "      <td>608</td>\n",
       "      <td>Spain</td>\n",
       "      <td>Female</td>\n",
       "      <td>41</td>\n",
       "      <td>1.0</td>\n",
       "      <td>83807.86</td>\n",
       "      <td>1</td>\n",
       "      <td>0</td>\n",
       "      <td>1</td>\n",
       "      <td>112542.58</td>\n",
       "      <td>0</td>\n",
       "    </tr>\n",
       "    <tr>\n",
       "      <th>2</th>\n",
       "      <td>3</td>\n",
       "      <td>15619304</td>\n",
       "      <td>Onio</td>\n",
       "      <td>502</td>\n",
       "      <td>France</td>\n",
       "      <td>Female</td>\n",
       "      <td>42</td>\n",
       "      <td>8.0</td>\n",
       "      <td>159660.80</td>\n",
       "      <td>3</td>\n",
       "      <td>1</td>\n",
       "      <td>0</td>\n",
       "      <td>113931.57</td>\n",
       "      <td>1</td>\n",
       "    </tr>\n",
       "    <tr>\n",
       "      <th>3</th>\n",
       "      <td>4</td>\n",
       "      <td>15701354</td>\n",
       "      <td>Boni</td>\n",
       "      <td>699</td>\n",
       "      <td>France</td>\n",
       "      <td>Female</td>\n",
       "      <td>39</td>\n",
       "      <td>1.0</td>\n",
       "      <td>0.00</td>\n",
       "      <td>2</td>\n",
       "      <td>0</td>\n",
       "      <td>0</td>\n",
       "      <td>93826.63</td>\n",
       "      <td>0</td>\n",
       "    </tr>\n",
       "    <tr>\n",
       "      <th>4</th>\n",
       "      <td>5</td>\n",
       "      <td>15737888</td>\n",
       "      <td>Mitchell</td>\n",
       "      <td>850</td>\n",
       "      <td>Spain</td>\n",
       "      <td>Female</td>\n",
       "      <td>43</td>\n",
       "      <td>2.0</td>\n",
       "      <td>125510.82</td>\n",
       "      <td>1</td>\n",
       "      <td>1</td>\n",
       "      <td>1</td>\n",
       "      <td>79084.10</td>\n",
       "      <td>0</td>\n",
       "    </tr>\n",
       "  </tbody>\n",
       "</table>\n",
       "</div>"
      ],
      "text/plain": [
       "   RowNumber  CustomerId   Surname  CreditScore Geography  Gender  Age  \\\n",
       "0          1    15634602  Hargrave          619    France  Female   42   \n",
       "1          2    15647311      Hill          608     Spain  Female   41   \n",
       "2          3    15619304      Onio          502    France  Female   42   \n",
       "3          4    15701354      Boni          699    France  Female   39   \n",
       "4          5    15737888  Mitchell          850     Spain  Female   43   \n",
       "\n",
       "   Tenure    Balance  NumOfProducts  HasCrCard  IsActiveMember  \\\n",
       "0     2.0       0.00              1          1               1   \n",
       "1     1.0   83807.86              1          0               1   \n",
       "2     8.0  159660.80              3          1               0   \n",
       "3     1.0       0.00              2          0               0   \n",
       "4     2.0  125510.82              1          1               1   \n",
       "\n",
       "   EstimatedSalary  Exited  \n",
       "0        101348.88       1  \n",
       "1        112542.58       0  \n",
       "2        113931.57       1  \n",
       "3         93826.63       0  \n",
       "4         79084.10       0  "
      ]
     },
     "execution_count": 3,
     "metadata": {},
     "output_type": "execute_result"
    }
   ],
   "source": [
    "df.head()"
   ]
  },
  {
   "cell_type": "code",
   "execution_count": 4,
   "metadata": {},
   "outputs": [
    {
     "data": {
      "text/html": [
       "<div>\n",
       "<style scoped>\n",
       "    .dataframe tbody tr th:only-of-type {\n",
       "        vertical-align: middle;\n",
       "    }\n",
       "\n",
       "    .dataframe tbody tr th {\n",
       "        vertical-align: top;\n",
       "    }\n",
       "\n",
       "    .dataframe thead th {\n",
       "        text-align: right;\n",
       "    }\n",
       "</style>\n",
       "<table border=\"1\" class=\"dataframe\">\n",
       "  <thead>\n",
       "    <tr style=\"text-align: right;\">\n",
       "      <th></th>\n",
       "      <th>RowNumber</th>\n",
       "      <th>CustomerId</th>\n",
       "      <th>Surname</th>\n",
       "      <th>CreditScore</th>\n",
       "      <th>Geography</th>\n",
       "      <th>Gender</th>\n",
       "      <th>Age</th>\n",
       "      <th>Tenure</th>\n",
       "      <th>Balance</th>\n",
       "      <th>NumOfProducts</th>\n",
       "      <th>HasCrCard</th>\n",
       "      <th>IsActiveMember</th>\n",
       "      <th>EstimatedSalary</th>\n",
       "      <th>Exited</th>\n",
       "    </tr>\n",
       "  </thead>\n",
       "  <tbody>\n",
       "    <tr>\n",
       "      <th>9995</th>\n",
       "      <td>9996</td>\n",
       "      <td>15606229</td>\n",
       "      <td>Obijiaku</td>\n",
       "      <td>771</td>\n",
       "      <td>France</td>\n",
       "      <td>Male</td>\n",
       "      <td>39</td>\n",
       "      <td>5.0</td>\n",
       "      <td>0.00</td>\n",
       "      <td>2</td>\n",
       "      <td>1</td>\n",
       "      <td>0</td>\n",
       "      <td>96270.64</td>\n",
       "      <td>0</td>\n",
       "    </tr>\n",
       "    <tr>\n",
       "      <th>9996</th>\n",
       "      <td>9997</td>\n",
       "      <td>15569892</td>\n",
       "      <td>Johnstone</td>\n",
       "      <td>516</td>\n",
       "      <td>France</td>\n",
       "      <td>Male</td>\n",
       "      <td>35</td>\n",
       "      <td>10.0</td>\n",
       "      <td>57369.61</td>\n",
       "      <td>1</td>\n",
       "      <td>1</td>\n",
       "      <td>1</td>\n",
       "      <td>101699.77</td>\n",
       "      <td>0</td>\n",
       "    </tr>\n",
       "    <tr>\n",
       "      <th>9997</th>\n",
       "      <td>9998</td>\n",
       "      <td>15584532</td>\n",
       "      <td>Liu</td>\n",
       "      <td>709</td>\n",
       "      <td>France</td>\n",
       "      <td>Female</td>\n",
       "      <td>36</td>\n",
       "      <td>7.0</td>\n",
       "      <td>0.00</td>\n",
       "      <td>1</td>\n",
       "      <td>0</td>\n",
       "      <td>1</td>\n",
       "      <td>42085.58</td>\n",
       "      <td>1</td>\n",
       "    </tr>\n",
       "    <tr>\n",
       "      <th>9998</th>\n",
       "      <td>9999</td>\n",
       "      <td>15682355</td>\n",
       "      <td>Sabbatini</td>\n",
       "      <td>772</td>\n",
       "      <td>Germany</td>\n",
       "      <td>Male</td>\n",
       "      <td>42</td>\n",
       "      <td>3.0</td>\n",
       "      <td>75075.31</td>\n",
       "      <td>2</td>\n",
       "      <td>1</td>\n",
       "      <td>0</td>\n",
       "      <td>92888.52</td>\n",
       "      <td>1</td>\n",
       "    </tr>\n",
       "    <tr>\n",
       "      <th>9999</th>\n",
       "      <td>10000</td>\n",
       "      <td>15628319</td>\n",
       "      <td>Walker</td>\n",
       "      <td>792</td>\n",
       "      <td>France</td>\n",
       "      <td>Female</td>\n",
       "      <td>28</td>\n",
       "      <td>NaN</td>\n",
       "      <td>130142.79</td>\n",
       "      <td>1</td>\n",
       "      <td>1</td>\n",
       "      <td>0</td>\n",
       "      <td>38190.78</td>\n",
       "      <td>0</td>\n",
       "    </tr>\n",
       "  </tbody>\n",
       "</table>\n",
       "</div>"
      ],
      "text/plain": [
       "      RowNumber  CustomerId    Surname  CreditScore Geography  Gender  Age  \\\n",
       "9995       9996    15606229   Obijiaku          771    France    Male   39   \n",
       "9996       9997    15569892  Johnstone          516    France    Male   35   \n",
       "9997       9998    15584532        Liu          709    France  Female   36   \n",
       "9998       9999    15682355  Sabbatini          772   Germany    Male   42   \n",
       "9999      10000    15628319     Walker          792    France  Female   28   \n",
       "\n",
       "      Tenure    Balance  NumOfProducts  HasCrCard  IsActiveMember  \\\n",
       "9995     5.0       0.00              2          1               0   \n",
       "9996    10.0   57369.61              1          1               1   \n",
       "9997     7.0       0.00              1          0               1   \n",
       "9998     3.0   75075.31              2          1               0   \n",
       "9999     NaN  130142.79              1          1               0   \n",
       "\n",
       "      EstimatedSalary  Exited  \n",
       "9995         96270.64       0  \n",
       "9996        101699.77       0  \n",
       "9997         42085.58       1  \n",
       "9998         92888.52       1  \n",
       "9999         38190.78       0  "
      ]
     },
     "execution_count": 4,
     "metadata": {},
     "output_type": "execute_result"
    }
   ],
   "source": [
    "df.tail()"
   ]
  },
  {
   "cell_type": "code",
   "execution_count": 5,
   "metadata": {},
   "outputs": [
    {
     "data": {
      "text/plain": [
       "(10000, 14)"
      ]
     },
     "execution_count": 5,
     "metadata": {},
     "output_type": "execute_result"
    }
   ],
   "source": [
    "df.shape"
   ]
  },
  {
   "cell_type": "code",
   "execution_count": 6,
   "metadata": {},
   "outputs": [
    {
     "name": "stdout",
     "output_type": "stream",
     "text": [
      "<class 'pandas.core.frame.DataFrame'>\n",
      "RangeIndex: 10000 entries, 0 to 9999\n",
      "Data columns (total 14 columns):\n",
      " #   Column           Non-Null Count  Dtype  \n",
      "---  ------           --------------  -----  \n",
      " 0   RowNumber        10000 non-null  int64  \n",
      " 1   CustomerId       10000 non-null  int64  \n",
      " 2   Surname          10000 non-null  object \n",
      " 3   CreditScore      10000 non-null  int64  \n",
      " 4   Geography        10000 non-null  object \n",
      " 5   Gender           10000 non-null  object \n",
      " 6   Age              10000 non-null  int64  \n",
      " 7   Tenure           9091 non-null   float64\n",
      " 8   Balance          10000 non-null  float64\n",
      " 9   NumOfProducts    10000 non-null  int64  \n",
      " 10  HasCrCard        10000 non-null  int64  \n",
      " 11  IsActiveMember   10000 non-null  int64  \n",
      " 12  EstimatedSalary  10000 non-null  float64\n",
      " 13  Exited           10000 non-null  int64  \n",
      "dtypes: float64(3), int64(8), object(3)\n",
      "memory usage: 1.1+ MB\n"
     ]
    }
   ],
   "source": [
    "df.info()"
   ]
  },
  {
   "cell_type": "code",
   "execution_count": 7,
   "metadata": {},
   "outputs": [
    {
     "data": {
      "text/html": [
       "<div>\n",
       "<style scoped>\n",
       "    .dataframe tbody tr th:only-of-type {\n",
       "        vertical-align: middle;\n",
       "    }\n",
       "\n",
       "    .dataframe tbody tr th {\n",
       "        vertical-align: top;\n",
       "    }\n",
       "\n",
       "    .dataframe thead th {\n",
       "        text-align: right;\n",
       "    }\n",
       "</style>\n",
       "<table border=\"1\" class=\"dataframe\">\n",
       "  <thead>\n",
       "    <tr style=\"text-align: right;\">\n",
       "      <th></th>\n",
       "      <th>RowNumber</th>\n",
       "      <th>CustomerId</th>\n",
       "      <th>CreditScore</th>\n",
       "      <th>Age</th>\n",
       "      <th>Tenure</th>\n",
       "      <th>Balance</th>\n",
       "      <th>NumOfProducts</th>\n",
       "      <th>HasCrCard</th>\n",
       "      <th>IsActiveMember</th>\n",
       "      <th>EstimatedSalary</th>\n",
       "      <th>Exited</th>\n",
       "    </tr>\n",
       "  </thead>\n",
       "  <tbody>\n",
       "    <tr>\n",
       "      <th>count</th>\n",
       "      <td>10000.00000</td>\n",
       "      <td>1.000000e+04</td>\n",
       "      <td>10000.000000</td>\n",
       "      <td>10000.000000</td>\n",
       "      <td>9091.000000</td>\n",
       "      <td>10000.000000</td>\n",
       "      <td>10000.000000</td>\n",
       "      <td>10000.00000</td>\n",
       "      <td>10000.000000</td>\n",
       "      <td>10000.000000</td>\n",
       "      <td>10000.000000</td>\n",
       "    </tr>\n",
       "    <tr>\n",
       "      <th>mean</th>\n",
       "      <td>5000.50000</td>\n",
       "      <td>1.569094e+07</td>\n",
       "      <td>650.528800</td>\n",
       "      <td>38.921800</td>\n",
       "      <td>4.997690</td>\n",
       "      <td>76485.889288</td>\n",
       "      <td>1.530200</td>\n",
       "      <td>0.70550</td>\n",
       "      <td>0.515100</td>\n",
       "      <td>100090.239881</td>\n",
       "      <td>0.203700</td>\n",
       "    </tr>\n",
       "    <tr>\n",
       "      <th>std</th>\n",
       "      <td>2886.89568</td>\n",
       "      <td>7.193619e+04</td>\n",
       "      <td>96.653299</td>\n",
       "      <td>10.487806</td>\n",
       "      <td>2.894723</td>\n",
       "      <td>62397.405202</td>\n",
       "      <td>0.581654</td>\n",
       "      <td>0.45584</td>\n",
       "      <td>0.499797</td>\n",
       "      <td>57510.492818</td>\n",
       "      <td>0.402769</td>\n",
       "    </tr>\n",
       "    <tr>\n",
       "      <th>min</th>\n",
       "      <td>1.00000</td>\n",
       "      <td>1.556570e+07</td>\n",
       "      <td>350.000000</td>\n",
       "      <td>18.000000</td>\n",
       "      <td>0.000000</td>\n",
       "      <td>0.000000</td>\n",
       "      <td>1.000000</td>\n",
       "      <td>0.00000</td>\n",
       "      <td>0.000000</td>\n",
       "      <td>11.580000</td>\n",
       "      <td>0.000000</td>\n",
       "    </tr>\n",
       "    <tr>\n",
       "      <th>25%</th>\n",
       "      <td>2500.75000</td>\n",
       "      <td>1.562853e+07</td>\n",
       "      <td>584.000000</td>\n",
       "      <td>32.000000</td>\n",
       "      <td>2.000000</td>\n",
       "      <td>0.000000</td>\n",
       "      <td>1.000000</td>\n",
       "      <td>0.00000</td>\n",
       "      <td>0.000000</td>\n",
       "      <td>51002.110000</td>\n",
       "      <td>0.000000</td>\n",
       "    </tr>\n",
       "    <tr>\n",
       "      <th>50%</th>\n",
       "      <td>5000.50000</td>\n",
       "      <td>1.569074e+07</td>\n",
       "      <td>652.000000</td>\n",
       "      <td>37.000000</td>\n",
       "      <td>5.000000</td>\n",
       "      <td>97198.540000</td>\n",
       "      <td>1.000000</td>\n",
       "      <td>1.00000</td>\n",
       "      <td>1.000000</td>\n",
       "      <td>100193.915000</td>\n",
       "      <td>0.000000</td>\n",
       "    </tr>\n",
       "    <tr>\n",
       "      <th>75%</th>\n",
       "      <td>7500.25000</td>\n",
       "      <td>1.575323e+07</td>\n",
       "      <td>718.000000</td>\n",
       "      <td>44.000000</td>\n",
       "      <td>7.000000</td>\n",
       "      <td>127644.240000</td>\n",
       "      <td>2.000000</td>\n",
       "      <td>1.00000</td>\n",
       "      <td>1.000000</td>\n",
       "      <td>149388.247500</td>\n",
       "      <td>0.000000</td>\n",
       "    </tr>\n",
       "    <tr>\n",
       "      <th>max</th>\n",
       "      <td>10000.00000</td>\n",
       "      <td>1.581569e+07</td>\n",
       "      <td>850.000000</td>\n",
       "      <td>92.000000</td>\n",
       "      <td>10.000000</td>\n",
       "      <td>250898.090000</td>\n",
       "      <td>4.000000</td>\n",
       "      <td>1.00000</td>\n",
       "      <td>1.000000</td>\n",
       "      <td>199992.480000</td>\n",
       "      <td>1.000000</td>\n",
       "    </tr>\n",
       "  </tbody>\n",
       "</table>\n",
       "</div>"
      ],
      "text/plain": [
       "         RowNumber    CustomerId   CreditScore           Age       Tenure  \\\n",
       "count  10000.00000  1.000000e+04  10000.000000  10000.000000  9091.000000   \n",
       "mean    5000.50000  1.569094e+07    650.528800     38.921800     4.997690   \n",
       "std     2886.89568  7.193619e+04     96.653299     10.487806     2.894723   \n",
       "min        1.00000  1.556570e+07    350.000000     18.000000     0.000000   \n",
       "25%     2500.75000  1.562853e+07    584.000000     32.000000     2.000000   \n",
       "50%     5000.50000  1.569074e+07    652.000000     37.000000     5.000000   \n",
       "75%     7500.25000  1.575323e+07    718.000000     44.000000     7.000000   \n",
       "max    10000.00000  1.581569e+07    850.000000     92.000000    10.000000   \n",
       "\n",
       "             Balance  NumOfProducts    HasCrCard  IsActiveMember  \\\n",
       "count   10000.000000   10000.000000  10000.00000    10000.000000   \n",
       "mean    76485.889288       1.530200      0.70550        0.515100   \n",
       "std     62397.405202       0.581654      0.45584        0.499797   \n",
       "min         0.000000       1.000000      0.00000        0.000000   \n",
       "25%         0.000000       1.000000      0.00000        0.000000   \n",
       "50%     97198.540000       1.000000      1.00000        1.000000   \n",
       "75%    127644.240000       2.000000      1.00000        1.000000   \n",
       "max    250898.090000       4.000000      1.00000        1.000000   \n",
       "\n",
       "       EstimatedSalary        Exited  \n",
       "count     10000.000000  10000.000000  \n",
       "mean     100090.239881      0.203700  \n",
       "std       57510.492818      0.402769  \n",
       "min          11.580000      0.000000  \n",
       "25%       51002.110000      0.000000  \n",
       "50%      100193.915000      0.000000  \n",
       "75%      149388.247500      0.000000  \n",
       "max      199992.480000      1.000000  "
      ]
     },
     "execution_count": 7,
     "metadata": {},
     "output_type": "execute_result"
    }
   ],
   "source": [
    "df.describe()"
   ]
  },
  {
   "cell_type": "markdown",
   "metadata": {},
   "source": [
    "<b>1.2 Предобработка данных</b>"
   ]
  },
  {
   "cell_type": "code",
   "execution_count": 8,
   "metadata": {},
   "outputs": [
    {
     "data": {
      "text/plain": [
       "1.0     952\n",
       "2.0     950\n",
       "8.0     933\n",
       "3.0     928\n",
       "5.0     927\n",
       "7.0     925\n",
       "4.0     885\n",
       "9.0     882\n",
       "6.0     881\n",
       "10.0    446\n",
       "0.0     382\n",
       "Name: Tenure, dtype: int64"
      ]
     },
     "execution_count": 8,
     "metadata": {},
     "output_type": "execute_result"
    }
   ],
   "source": [
    "df['Tenure'].value_counts()"
   ]
  },
  {
   "cell_type": "markdown",
   "metadata": {},
   "source": [
    "Заполним пропуски медианой."
   ]
  },
  {
   "cell_type": "code",
   "execution_count": 9,
   "metadata": {},
   "outputs": [],
   "source": [
    "df['Tenure'] =  df['Tenure'].fillna(df['Tenure'].median())"
   ]
  },
  {
   "cell_type": "code",
   "execution_count": 10,
   "metadata": {},
   "outputs": [
    {
     "data": {
      "text/plain": [
       "5.0     1836\n",
       "1.0      952\n",
       "2.0      950\n",
       "8.0      933\n",
       "3.0      928\n",
       "7.0      925\n",
       "4.0      885\n",
       "9.0      882\n",
       "6.0      881\n",
       "10.0     446\n",
       "0.0      382\n",
       "Name: Tenure, dtype: int64"
      ]
     },
     "execution_count": 10,
     "metadata": {},
     "output_type": "execute_result"
    }
   ],
   "source": [
    "df['Tenure'].value_counts()"
   ]
  },
  {
   "cell_type": "markdown",
   "metadata": {},
   "source": [
    "Удалим столбцы, которые носят информативно-декоративный характер. К таким относятся столбцы с фамилииями, уникальными идентификаторами клиента, индексом строки в данных."
   ]
  },
  {
   "cell_type": "code",
   "execution_count": 11,
   "metadata": {},
   "outputs": [],
   "source": [
    "df = df.drop(['RowNumber', 'CustomerId', 'Surname'], axis = 1)"
   ]
  },
  {
   "cell_type": "code",
   "execution_count": 12,
   "metadata": {},
   "outputs": [
    {
     "data": {
      "text/html": [
       "<div>\n",
       "<style scoped>\n",
       "    .dataframe tbody tr th:only-of-type {\n",
       "        vertical-align: middle;\n",
       "    }\n",
       "\n",
       "    .dataframe tbody tr th {\n",
       "        vertical-align: top;\n",
       "    }\n",
       "\n",
       "    .dataframe thead th {\n",
       "        text-align: right;\n",
       "    }\n",
       "</style>\n",
       "<table border=\"1\" class=\"dataframe\">\n",
       "  <thead>\n",
       "    <tr style=\"text-align: right;\">\n",
       "      <th></th>\n",
       "      <th>CreditScore</th>\n",
       "      <th>Geography</th>\n",
       "      <th>Gender</th>\n",
       "      <th>Age</th>\n",
       "      <th>Tenure</th>\n",
       "      <th>Balance</th>\n",
       "      <th>NumOfProducts</th>\n",
       "      <th>HasCrCard</th>\n",
       "      <th>IsActiveMember</th>\n",
       "      <th>EstimatedSalary</th>\n",
       "      <th>Exited</th>\n",
       "    </tr>\n",
       "  </thead>\n",
       "  <tbody>\n",
       "    <tr>\n",
       "      <th>0</th>\n",
       "      <td>619</td>\n",
       "      <td>France</td>\n",
       "      <td>Female</td>\n",
       "      <td>42</td>\n",
       "      <td>2.0</td>\n",
       "      <td>0.00</td>\n",
       "      <td>1</td>\n",
       "      <td>1</td>\n",
       "      <td>1</td>\n",
       "      <td>101348.88</td>\n",
       "      <td>1</td>\n",
       "    </tr>\n",
       "    <tr>\n",
       "      <th>1</th>\n",
       "      <td>608</td>\n",
       "      <td>Spain</td>\n",
       "      <td>Female</td>\n",
       "      <td>41</td>\n",
       "      <td>1.0</td>\n",
       "      <td>83807.86</td>\n",
       "      <td>1</td>\n",
       "      <td>0</td>\n",
       "      <td>1</td>\n",
       "      <td>112542.58</td>\n",
       "      <td>0</td>\n",
       "    </tr>\n",
       "    <tr>\n",
       "      <th>2</th>\n",
       "      <td>502</td>\n",
       "      <td>France</td>\n",
       "      <td>Female</td>\n",
       "      <td>42</td>\n",
       "      <td>8.0</td>\n",
       "      <td>159660.80</td>\n",
       "      <td>3</td>\n",
       "      <td>1</td>\n",
       "      <td>0</td>\n",
       "      <td>113931.57</td>\n",
       "      <td>1</td>\n",
       "    </tr>\n",
       "    <tr>\n",
       "      <th>3</th>\n",
       "      <td>699</td>\n",
       "      <td>France</td>\n",
       "      <td>Female</td>\n",
       "      <td>39</td>\n",
       "      <td>1.0</td>\n",
       "      <td>0.00</td>\n",
       "      <td>2</td>\n",
       "      <td>0</td>\n",
       "      <td>0</td>\n",
       "      <td>93826.63</td>\n",
       "      <td>0</td>\n",
       "    </tr>\n",
       "    <tr>\n",
       "      <th>4</th>\n",
       "      <td>850</td>\n",
       "      <td>Spain</td>\n",
       "      <td>Female</td>\n",
       "      <td>43</td>\n",
       "      <td>2.0</td>\n",
       "      <td>125510.82</td>\n",
       "      <td>1</td>\n",
       "      <td>1</td>\n",
       "      <td>1</td>\n",
       "      <td>79084.10</td>\n",
       "      <td>0</td>\n",
       "    </tr>\n",
       "  </tbody>\n",
       "</table>\n",
       "</div>"
      ],
      "text/plain": [
       "   CreditScore Geography  Gender  Age  Tenure    Balance  NumOfProducts  \\\n",
       "0          619    France  Female   42     2.0       0.00              1   \n",
       "1          608     Spain  Female   41     1.0   83807.86              1   \n",
       "2          502    France  Female   42     8.0  159660.80              3   \n",
       "3          699    France  Female   39     1.0       0.00              2   \n",
       "4          850     Spain  Female   43     2.0  125510.82              1   \n",
       "\n",
       "   HasCrCard  IsActiveMember  EstimatedSalary  Exited  \n",
       "0          1               1        101348.88       1  \n",
       "1          0               1        112542.58       0  \n",
       "2          1               0        113931.57       1  \n",
       "3          0               0         93826.63       0  \n",
       "4          1               1         79084.10       0  "
      ]
     },
     "execution_count": 12,
     "metadata": {},
     "output_type": "execute_result"
    }
   ],
   "source": [
    "df.head()"
   ]
  },
  {
   "cell_type": "markdown",
   "metadata": {},
   "source": [
    "<b>1.3 One-hot-encoding</b>"
   ]
  },
  {
   "cell_type": "markdown",
   "metadata": {},
   "source": [
    "Преобразуем категориальные признаки к числовым, использую One-hot-encoding"
   ]
  },
  {
   "cell_type": "code",
   "execution_count": 13,
   "metadata": {},
   "outputs": [],
   "source": [
    "df_ohe = df.copy()\n",
    "df_ohe = pd.get_dummies(df_ohe, drop_first = True)"
   ]
  },
  {
   "cell_type": "code",
   "execution_count": 14,
   "metadata": {},
   "outputs": [
    {
     "data": {
      "text/html": [
       "<div>\n",
       "<style scoped>\n",
       "    .dataframe tbody tr th:only-of-type {\n",
       "        vertical-align: middle;\n",
       "    }\n",
       "\n",
       "    .dataframe tbody tr th {\n",
       "        vertical-align: top;\n",
       "    }\n",
       "\n",
       "    .dataframe thead th {\n",
       "        text-align: right;\n",
       "    }\n",
       "</style>\n",
       "<table border=\"1\" class=\"dataframe\">\n",
       "  <thead>\n",
       "    <tr style=\"text-align: right;\">\n",
       "      <th></th>\n",
       "      <th>CreditScore</th>\n",
       "      <th>Age</th>\n",
       "      <th>Tenure</th>\n",
       "      <th>Balance</th>\n",
       "      <th>NumOfProducts</th>\n",
       "      <th>HasCrCard</th>\n",
       "      <th>IsActiveMember</th>\n",
       "      <th>EstimatedSalary</th>\n",
       "      <th>Exited</th>\n",
       "      <th>Geography_Germany</th>\n",
       "      <th>Geography_Spain</th>\n",
       "      <th>Gender_Male</th>\n",
       "    </tr>\n",
       "  </thead>\n",
       "  <tbody>\n",
       "    <tr>\n",
       "      <th>0</th>\n",
       "      <td>619</td>\n",
       "      <td>42</td>\n",
       "      <td>2.0</td>\n",
       "      <td>0.00</td>\n",
       "      <td>1</td>\n",
       "      <td>1</td>\n",
       "      <td>1</td>\n",
       "      <td>101348.88</td>\n",
       "      <td>1</td>\n",
       "      <td>0</td>\n",
       "      <td>0</td>\n",
       "      <td>0</td>\n",
       "    </tr>\n",
       "    <tr>\n",
       "      <th>1</th>\n",
       "      <td>608</td>\n",
       "      <td>41</td>\n",
       "      <td>1.0</td>\n",
       "      <td>83807.86</td>\n",
       "      <td>1</td>\n",
       "      <td>0</td>\n",
       "      <td>1</td>\n",
       "      <td>112542.58</td>\n",
       "      <td>0</td>\n",
       "      <td>0</td>\n",
       "      <td>1</td>\n",
       "      <td>0</td>\n",
       "    </tr>\n",
       "    <tr>\n",
       "      <th>2</th>\n",
       "      <td>502</td>\n",
       "      <td>42</td>\n",
       "      <td>8.0</td>\n",
       "      <td>159660.80</td>\n",
       "      <td>3</td>\n",
       "      <td>1</td>\n",
       "      <td>0</td>\n",
       "      <td>113931.57</td>\n",
       "      <td>1</td>\n",
       "      <td>0</td>\n",
       "      <td>0</td>\n",
       "      <td>0</td>\n",
       "    </tr>\n",
       "    <tr>\n",
       "      <th>3</th>\n",
       "      <td>699</td>\n",
       "      <td>39</td>\n",
       "      <td>1.0</td>\n",
       "      <td>0.00</td>\n",
       "      <td>2</td>\n",
       "      <td>0</td>\n",
       "      <td>0</td>\n",
       "      <td>93826.63</td>\n",
       "      <td>0</td>\n",
       "      <td>0</td>\n",
       "      <td>0</td>\n",
       "      <td>0</td>\n",
       "    </tr>\n",
       "    <tr>\n",
       "      <th>4</th>\n",
       "      <td>850</td>\n",
       "      <td>43</td>\n",
       "      <td>2.0</td>\n",
       "      <td>125510.82</td>\n",
       "      <td>1</td>\n",
       "      <td>1</td>\n",
       "      <td>1</td>\n",
       "      <td>79084.10</td>\n",
       "      <td>0</td>\n",
       "      <td>0</td>\n",
       "      <td>1</td>\n",
       "      <td>0</td>\n",
       "    </tr>\n",
       "  </tbody>\n",
       "</table>\n",
       "</div>"
      ],
      "text/plain": [
       "   CreditScore  Age  Tenure    Balance  NumOfProducts  HasCrCard  \\\n",
       "0          619   42     2.0       0.00              1          1   \n",
       "1          608   41     1.0   83807.86              1          0   \n",
       "2          502   42     8.0  159660.80              3          1   \n",
       "3          699   39     1.0       0.00              2          0   \n",
       "4          850   43     2.0  125510.82              1          1   \n",
       "\n",
       "   IsActiveMember  EstimatedSalary  Exited  Geography_Germany  \\\n",
       "0               1        101348.88       1                  0   \n",
       "1               1        112542.58       0                  0   \n",
       "2               0        113931.57       1                  0   \n",
       "3               0         93826.63       0                  0   \n",
       "4               1         79084.10       0                  0   \n",
       "\n",
       "   Geography_Spain  Gender_Male  \n",
       "0                0            0  \n",
       "1                1            0  \n",
       "2                0            0  \n",
       "3                0            0  \n",
       "4                1            0  "
      ]
     },
     "execution_count": 14,
     "metadata": {},
     "output_type": "execute_result"
    }
   ],
   "source": [
    "df_ohe.head()"
   ]
  },
  {
   "cell_type": "code",
   "execution_count": 15,
   "metadata": {},
   "outputs": [
    {
     "data": {
      "text/plain": [
       "(10000, 12)"
      ]
     },
     "execution_count": 15,
     "metadata": {},
     "output_type": "execute_result"
    }
   ],
   "source": [
    "df_ohe.shape"
   ]
  },
  {
   "cell_type": "markdown",
   "metadata": {},
   "source": [
    "В новом датафрейме мы получили 12 столбцов. <br>\n",
    "Столбец Geography содержал 3 класса, Gender_Male 2 класса — в результате мы получили только 2 и 1 столбцов соответственно, что позволяет избежать дамми-ловушки."
   ]
  },
  {
   "cell_type": "markdown",
   "metadata": {},
   "source": [
    "## Исследование задачи"
   ]
  },
  {
   "cell_type": "markdown",
   "metadata": {},
   "source": [
    "<b>2.1 Разделение на тренировочную, валидационную и тестовую выборки</b>"
   ]
  },
  {
   "cell_type": "markdown",
   "metadata": {},
   "source": [
    "Разделим генеральную совокупность на выборки в соотношении 80/20"
   ]
  },
  {
   "cell_type": "code",
   "execution_count": 16,
   "metadata": {},
   "outputs": [],
   "source": [
    "train, test = train_test_split(df_ohe, test_size = 0.2, random_state = 42)"
   ]
  },
  {
   "cell_type": "code",
   "execution_count": 17,
   "metadata": {},
   "outputs": [],
   "source": [
    "features_train = train.drop('Exited', axis = 1)\n",
    "target_train = train['Exited']"
   ]
  },
  {
   "cell_type": "code",
   "execution_count": 18,
   "metadata": {},
   "outputs": [],
   "source": [
    "features_test = test.drop('Exited', axis=1)\n",
    "target_test = test['Exited']"
   ]
  },
  {
   "cell_type": "code",
   "execution_count": 19,
   "metadata": {
    "scrolled": true
   },
   "outputs": [
    {
     "name": "stdout",
     "output_type": "stream",
     "text": [
      "Размерность обучающей выборки (8000, 11)\n",
      "Размерность тестовой выборки (2000, 11)\n"
     ]
    }
   ],
   "source": [
    "print('Размерность обучающей выборки',features_train.shape)\n",
    "print('Размерность тестовой выборки',features_test.shape)"
   ]
  },
  {
   "cell_type": "markdown",
   "metadata": {},
   "source": [
    "<b>2.2 Стандартизация</b>"
   ]
  },
  {
   "cell_type": "code",
   "execution_count": 20,
   "metadata": {
    "scrolled": true
   },
   "outputs": [
    {
     "data": {
      "text/html": [
       "<div>\n",
       "<style scoped>\n",
       "    .dataframe tbody tr th:only-of-type {\n",
       "        vertical-align: middle;\n",
       "    }\n",
       "\n",
       "    .dataframe tbody tr th {\n",
       "        vertical-align: top;\n",
       "    }\n",
       "\n",
       "    .dataframe thead th {\n",
       "        text-align: right;\n",
       "    }\n",
       "</style>\n",
       "<table border=\"1\" class=\"dataframe\">\n",
       "  <thead>\n",
       "    <tr style=\"text-align: right;\">\n",
       "      <th></th>\n",
       "      <th>CreditScore</th>\n",
       "      <th>Age</th>\n",
       "      <th>Tenure</th>\n",
       "      <th>Balance</th>\n",
       "      <th>NumOfProducts</th>\n",
       "      <th>HasCrCard</th>\n",
       "      <th>IsActiveMember</th>\n",
       "      <th>EstimatedSalary</th>\n",
       "      <th>Geography_Germany</th>\n",
       "      <th>Geography_Spain</th>\n",
       "      <th>Gender_Male</th>\n",
       "    </tr>\n",
       "  </thead>\n",
       "  <tbody>\n",
       "    <tr>\n",
       "      <th>9254</th>\n",
       "      <td>0.356500</td>\n",
       "      <td>-0.655786</td>\n",
       "      <td>0.368497</td>\n",
       "      <td>-1.218471</td>\n",
       "      <td>0.808436</td>\n",
       "      <td>1</td>\n",
       "      <td>1</td>\n",
       "      <td>1.367670</td>\n",
       "      <td>0</td>\n",
       "      <td>0</td>\n",
       "      <td>1</td>\n",
       "    </tr>\n",
       "    <tr>\n",
       "      <th>1561</th>\n",
       "      <td>-0.203898</td>\n",
       "      <td>0.294938</td>\n",
       "      <td>-0.359758</td>\n",
       "      <td>0.696838</td>\n",
       "      <td>0.808436</td>\n",
       "      <td>1</td>\n",
       "      <td>1</td>\n",
       "      <td>1.661254</td>\n",
       "      <td>1</td>\n",
       "      <td>0</td>\n",
       "      <td>1</td>\n",
       "    </tr>\n",
       "    <tr>\n",
       "      <th>1670</th>\n",
       "      <td>-0.961472</td>\n",
       "      <td>-1.416365</td>\n",
       "      <td>-0.723886</td>\n",
       "      <td>0.618629</td>\n",
       "      <td>-0.916688</td>\n",
       "      <td>1</td>\n",
       "      <td>0</td>\n",
       "      <td>-0.252807</td>\n",
       "      <td>0</td>\n",
       "      <td>1</td>\n",
       "      <td>1</td>\n",
       "    </tr>\n",
       "    <tr>\n",
       "      <th>6087</th>\n",
       "      <td>-0.940717</td>\n",
       "      <td>-1.131148</td>\n",
       "      <td>1.460880</td>\n",
       "      <td>0.953212</td>\n",
       "      <td>-0.916688</td>\n",
       "      <td>1</td>\n",
       "      <td>0</td>\n",
       "      <td>0.915393</td>\n",
       "      <td>0</td>\n",
       "      <td>0</td>\n",
       "      <td>0</td>\n",
       "    </tr>\n",
       "    <tr>\n",
       "      <th>6669</th>\n",
       "      <td>-1.397337</td>\n",
       "      <td>1.625953</td>\n",
       "      <td>1.460880</td>\n",
       "      <td>1.057449</td>\n",
       "      <td>-0.916688</td>\n",
       "      <td>0</td>\n",
       "      <td>0</td>\n",
       "      <td>-1.059600</td>\n",
       "      <td>0</td>\n",
       "      <td>0</td>\n",
       "      <td>1</td>\n",
       "    </tr>\n",
       "  </tbody>\n",
       "</table>\n",
       "</div>"
      ],
      "text/plain": [
       "      CreditScore       Age    Tenure   Balance  NumOfProducts  HasCrCard  \\\n",
       "9254     0.356500 -0.655786  0.368497 -1.218471       0.808436          1   \n",
       "1561    -0.203898  0.294938 -0.359758  0.696838       0.808436          1   \n",
       "1670    -0.961472 -1.416365 -0.723886  0.618629      -0.916688          1   \n",
       "6087    -0.940717 -1.131148  1.460880  0.953212      -0.916688          1   \n",
       "6669    -1.397337  1.625953  1.460880  1.057449      -0.916688          0   \n",
       "\n",
       "      IsActiveMember  EstimatedSalary  Geography_Germany  Geography_Spain  \\\n",
       "9254               1         1.367670                  0                0   \n",
       "1561               1         1.661254                  1                0   \n",
       "1670               0        -0.252807                  0                1   \n",
       "6087               0         0.915393                  0                0   \n",
       "6669               0        -1.059600                  0                0   \n",
       "\n",
       "      Gender_Male  \n",
       "9254            1  \n",
       "1561            1  \n",
       "1670            1  \n",
       "6087            0  \n",
       "6669            1  "
      ]
     },
     "execution_count": 20,
     "metadata": {},
     "output_type": "execute_result"
    }
   ],
   "source": [
    "numeric = ['CreditScore', 'Age', 'Tenure', 'Balance', 'NumOfProducts', 'EstimatedSalary']\n",
    "\n",
    "scaler = StandardScaler()\n",
    "scaler.fit(features_train[numeric])\n",
    "\n",
    "features_train[numeric] = scaler.transform(features_train[numeric])\n",
    "features_test[numeric] = scaler.transform(features_test[numeric])\n",
    "\n",
    "features_train.head()"
   ]
  },
  {
   "cell_type": "markdown",
   "metadata": {},
   "source": [
    "<b>2.3 Обучение моделей</b>"
   ]
  },
  {
   "cell_type": "code",
   "execution_count": 21,
   "metadata": {},
   "outputs": [
    {
     "data": {
      "text/plain": [
       "0    7963\n",
       "1    2037\n",
       "Name: Exited, dtype: int64"
      ]
     },
     "execution_count": 21,
     "metadata": {},
     "output_type": "execute_result"
    }
   ],
   "source": [
    "df_ohe['Exited'].value_counts()"
   ]
  },
  {
   "cell_type": "markdown",
   "metadata": {},
   "source": [
    "Присутствует дисбаланс классов. Значений класса 1 в 4 раза меньше."
   ]
  },
  {
   "cell_type": "markdown",
   "metadata": {},
   "source": [
    "Для обучения моделей будем использовать 2 модели машинного обучения: Логистическая регрессия и Случайный лес"
   ]
  },
  {
   "cell_type": "markdown",
   "metadata": {},
   "source": [
    "<b>Логистическая регрессия</b>"
   ]
  },
  {
   "cell_type": "code",
   "execution_count": 22,
   "metadata": {
    "scrolled": false
   },
   "outputs": [],
   "source": [
    "model_LR = LogisticRegression(random_state = 42)\n",
    "param_LR = { \n",
    "    'solver': ['lbfgs', 'liblinear', 'sag', 'saga'], \n",
    "    'multi_class' : ['auto', 'ovr', 'multinomial']\n",
    "}"
   ]
  },
  {
   "cell_type": "code",
   "execution_count": 23,
   "metadata": {},
   "outputs": [],
   "source": [
    "Grid_LR = GridSearchCV(estimator = model_LR, param_grid = param_LR, cv = 5, n_jobs = -1, scoring = 'f1')"
   ]
  },
  {
   "cell_type": "code",
   "execution_count": 24,
   "metadata": {
    "scrolled": false
   },
   "outputs": [
    {
     "data": {
      "text/html": [
       "<style>#sk-container-id-1 {color: black;background-color: white;}#sk-container-id-1 pre{padding: 0;}#sk-container-id-1 div.sk-toggleable {background-color: white;}#sk-container-id-1 label.sk-toggleable__label {cursor: pointer;display: block;width: 100%;margin-bottom: 0;padding: 0.3em;box-sizing: border-box;text-align: center;}#sk-container-id-1 label.sk-toggleable__label-arrow:before {content: \"▸\";float: left;margin-right: 0.25em;color: #696969;}#sk-container-id-1 label.sk-toggleable__label-arrow:hover:before {color: black;}#sk-container-id-1 div.sk-estimator:hover label.sk-toggleable__label-arrow:before {color: black;}#sk-container-id-1 div.sk-toggleable__content {max-height: 0;max-width: 0;overflow: hidden;text-align: left;background-color: #f0f8ff;}#sk-container-id-1 div.sk-toggleable__content pre {margin: 0.2em;color: black;border-radius: 0.25em;background-color: #f0f8ff;}#sk-container-id-1 input.sk-toggleable__control:checked~div.sk-toggleable__content {max-height: 200px;max-width: 100%;overflow: auto;}#sk-container-id-1 input.sk-toggleable__control:checked~label.sk-toggleable__label-arrow:before {content: \"▾\";}#sk-container-id-1 div.sk-estimator input.sk-toggleable__control:checked~label.sk-toggleable__label {background-color: #d4ebff;}#sk-container-id-1 div.sk-label input.sk-toggleable__control:checked~label.sk-toggleable__label {background-color: #d4ebff;}#sk-container-id-1 input.sk-hidden--visually {border: 0;clip: rect(1px 1px 1px 1px);clip: rect(1px, 1px, 1px, 1px);height: 1px;margin: -1px;overflow: hidden;padding: 0;position: absolute;width: 1px;}#sk-container-id-1 div.sk-estimator {font-family: monospace;background-color: #f0f8ff;border: 1px dotted black;border-radius: 0.25em;box-sizing: border-box;margin-bottom: 0.5em;}#sk-container-id-1 div.sk-estimator:hover {background-color: #d4ebff;}#sk-container-id-1 div.sk-parallel-item::after {content: \"\";width: 100%;border-bottom: 1px solid gray;flex-grow: 1;}#sk-container-id-1 div.sk-label:hover label.sk-toggleable__label {background-color: #d4ebff;}#sk-container-id-1 div.sk-serial::before {content: \"\";position: absolute;border-left: 1px solid gray;box-sizing: border-box;top: 0;bottom: 0;left: 50%;z-index: 0;}#sk-container-id-1 div.sk-serial {display: flex;flex-direction: column;align-items: center;background-color: white;padding-right: 0.2em;padding-left: 0.2em;position: relative;}#sk-container-id-1 div.sk-item {position: relative;z-index: 1;}#sk-container-id-1 div.sk-parallel {display: flex;align-items: stretch;justify-content: center;background-color: white;position: relative;}#sk-container-id-1 div.sk-item::before, #sk-container-id-1 div.sk-parallel-item::before {content: \"\";position: absolute;border-left: 1px solid gray;box-sizing: border-box;top: 0;bottom: 0;left: 50%;z-index: -1;}#sk-container-id-1 div.sk-parallel-item {display: flex;flex-direction: column;z-index: 1;position: relative;background-color: white;}#sk-container-id-1 div.sk-parallel-item:first-child::after {align-self: flex-end;width: 50%;}#sk-container-id-1 div.sk-parallel-item:last-child::after {align-self: flex-start;width: 50%;}#sk-container-id-1 div.sk-parallel-item:only-child::after {width: 0;}#sk-container-id-1 div.sk-dashed-wrapped {border: 1px dashed gray;margin: 0 0.4em 0.5em 0.4em;box-sizing: border-box;padding-bottom: 0.4em;background-color: white;}#sk-container-id-1 div.sk-label label {font-family: monospace;font-weight: bold;display: inline-block;line-height: 1.2em;}#sk-container-id-1 div.sk-label-container {text-align: center;}#sk-container-id-1 div.sk-container {/* jupyter's `normalize.less` sets `[hidden] { display: none; }` but bootstrap.min.css set `[hidden] { display: none !important; }` so we also need the `!important` here to be able to override the default hidden behavior on the sphinx rendered scikit-learn.org. See: https://github.com/scikit-learn/scikit-learn/issues/21755 */display: inline-block !important;position: relative;}#sk-container-id-1 div.sk-text-repr-fallback {display: none;}</style><div id=\"sk-container-id-1\" class=\"sk-top-container\"><div class=\"sk-text-repr-fallback\"><pre>GridSearchCV(cv=5, estimator=LogisticRegression(random_state=42), n_jobs=-1,\n",
       "             param_grid={&#x27;multi_class&#x27;: [&#x27;auto&#x27;, &#x27;ovr&#x27;, &#x27;multinomial&#x27;],\n",
       "                         &#x27;solver&#x27;: [&#x27;lbfgs&#x27;, &#x27;liblinear&#x27;, &#x27;sag&#x27;, &#x27;saga&#x27;]},\n",
       "             scoring=&#x27;f1&#x27;)</pre><b>In a Jupyter environment, please rerun this cell to show the HTML representation or trust the notebook. <br />On GitHub, the HTML representation is unable to render, please try loading this page with nbviewer.org.</b></div><div class=\"sk-container\" hidden><div class=\"sk-item sk-dashed-wrapped\"><div class=\"sk-label-container\"><div class=\"sk-label sk-toggleable\"><input class=\"sk-toggleable__control sk-hidden--visually\" id=\"sk-estimator-id-1\" type=\"checkbox\" ><label for=\"sk-estimator-id-1\" class=\"sk-toggleable__label sk-toggleable__label-arrow\">GridSearchCV</label><div class=\"sk-toggleable__content\"><pre>GridSearchCV(cv=5, estimator=LogisticRegression(random_state=42), n_jobs=-1,\n",
       "             param_grid={&#x27;multi_class&#x27;: [&#x27;auto&#x27;, &#x27;ovr&#x27;, &#x27;multinomial&#x27;],\n",
       "                         &#x27;solver&#x27;: [&#x27;lbfgs&#x27;, &#x27;liblinear&#x27;, &#x27;sag&#x27;, &#x27;saga&#x27;]},\n",
       "             scoring=&#x27;f1&#x27;)</pre></div></div></div><div class=\"sk-parallel\"><div class=\"sk-parallel-item\"><div class=\"sk-item\"><div class=\"sk-label-container\"><div class=\"sk-label sk-toggleable\"><input class=\"sk-toggleable__control sk-hidden--visually\" id=\"sk-estimator-id-2\" type=\"checkbox\" ><label for=\"sk-estimator-id-2\" class=\"sk-toggleable__label sk-toggleable__label-arrow\">estimator: LogisticRegression</label><div class=\"sk-toggleable__content\"><pre>LogisticRegression(random_state=42)</pre></div></div></div><div class=\"sk-serial\"><div class=\"sk-item\"><div class=\"sk-estimator sk-toggleable\"><input class=\"sk-toggleable__control sk-hidden--visually\" id=\"sk-estimator-id-3\" type=\"checkbox\" ><label for=\"sk-estimator-id-3\" class=\"sk-toggleable__label sk-toggleable__label-arrow\">LogisticRegression</label><div class=\"sk-toggleable__content\"><pre>LogisticRegression(random_state=42)</pre></div></div></div></div></div></div></div></div></div></div>"
      ],
      "text/plain": [
       "GridSearchCV(cv=5, estimator=LogisticRegression(random_state=42), n_jobs=-1,\n",
       "             param_grid={'multi_class': ['auto', 'ovr', 'multinomial'],\n",
       "                         'solver': ['lbfgs', 'liblinear', 'sag', 'saga']},\n",
       "             scoring='f1')"
      ]
     },
     "execution_count": 24,
     "metadata": {},
     "output_type": "execute_result"
    }
   ],
   "source": [
    "Grid_LR.fit(features_train, target_train)"
   ]
  },
  {
   "cell_type": "code",
   "execution_count": 25,
   "metadata": {},
   "outputs": [],
   "source": [
    "best_model_LR = Grid_LR.best_estimator_"
   ]
  },
  {
   "cell_type": "code",
   "execution_count": 26,
   "metadata": {},
   "outputs": [
    {
     "name": "stdout",
     "output_type": "stream",
     "text": [
      "Лучший результат:\n",
      "0.3210514365231346\n"
     ]
    }
   ],
   "source": [
    "print('Лучший результат:')\n",
    "print(Grid_LR.best_score_)"
   ]
  },
  {
   "cell_type": "code",
   "execution_count": 27,
   "metadata": {},
   "outputs": [
    {
     "name": "stdout",
     "output_type": "stream",
     "text": [
      "Лучшие параметры:\n",
      "{'multi_class': 'auto', 'solver': 'lbfgs'}\n"
     ]
    }
   ],
   "source": [
    "print('Лучшие параметры:')\n",
    "print(Grid_LR.best_params_)"
   ]
  },
  {
   "cell_type": "markdown",
   "metadata": {},
   "source": [
    "<b>Случайный лес</b>"
   ]
  },
  {
   "cell_type": "code",
   "execution_count": 31,
   "metadata": {},
   "outputs": [],
   "source": [
    "model_RF = RandomForestClassifier(random_state = 42)\n",
    "param_RF = { \n",
    "    'criterion': ['entropy'],\n",
    "    'max_depth' : list(range(8, 32, 4)),\n",
    "    'min_samples_leaf' : list(range(4, 10, 2)), \n",
    "    'n_estimators' : list(range(100, 200, 20)),\n",
    "}"
   ]
  },
  {
   "cell_type": "code",
   "execution_count": 32,
   "metadata": {},
   "outputs": [],
   "source": [
    "Grid_RF = GridSearchCV(estimator = model_RF, param_grid = param_RF, cv = 5, n_jobs = -1, scoring = 'f1')"
   ]
  },
  {
   "cell_type": "code",
   "execution_count": 33,
   "metadata": {},
   "outputs": [
    {
     "data": {
      "text/html": [
       "<style>#sk-container-id-2 {color: black;background-color: white;}#sk-container-id-2 pre{padding: 0;}#sk-container-id-2 div.sk-toggleable {background-color: white;}#sk-container-id-2 label.sk-toggleable__label {cursor: pointer;display: block;width: 100%;margin-bottom: 0;padding: 0.3em;box-sizing: border-box;text-align: center;}#sk-container-id-2 label.sk-toggleable__label-arrow:before {content: \"▸\";float: left;margin-right: 0.25em;color: #696969;}#sk-container-id-2 label.sk-toggleable__label-arrow:hover:before {color: black;}#sk-container-id-2 div.sk-estimator:hover label.sk-toggleable__label-arrow:before {color: black;}#sk-container-id-2 div.sk-toggleable__content {max-height: 0;max-width: 0;overflow: hidden;text-align: left;background-color: #f0f8ff;}#sk-container-id-2 div.sk-toggleable__content pre {margin: 0.2em;color: black;border-radius: 0.25em;background-color: #f0f8ff;}#sk-container-id-2 input.sk-toggleable__control:checked~div.sk-toggleable__content {max-height: 200px;max-width: 100%;overflow: auto;}#sk-container-id-2 input.sk-toggleable__control:checked~label.sk-toggleable__label-arrow:before {content: \"▾\";}#sk-container-id-2 div.sk-estimator input.sk-toggleable__control:checked~label.sk-toggleable__label {background-color: #d4ebff;}#sk-container-id-2 div.sk-label input.sk-toggleable__control:checked~label.sk-toggleable__label {background-color: #d4ebff;}#sk-container-id-2 input.sk-hidden--visually {border: 0;clip: rect(1px 1px 1px 1px);clip: rect(1px, 1px, 1px, 1px);height: 1px;margin: -1px;overflow: hidden;padding: 0;position: absolute;width: 1px;}#sk-container-id-2 div.sk-estimator {font-family: monospace;background-color: #f0f8ff;border: 1px dotted black;border-radius: 0.25em;box-sizing: border-box;margin-bottom: 0.5em;}#sk-container-id-2 div.sk-estimator:hover {background-color: #d4ebff;}#sk-container-id-2 div.sk-parallel-item::after {content: \"\";width: 100%;border-bottom: 1px solid gray;flex-grow: 1;}#sk-container-id-2 div.sk-label:hover label.sk-toggleable__label {background-color: #d4ebff;}#sk-container-id-2 div.sk-serial::before {content: \"\";position: absolute;border-left: 1px solid gray;box-sizing: border-box;top: 0;bottom: 0;left: 50%;z-index: 0;}#sk-container-id-2 div.sk-serial {display: flex;flex-direction: column;align-items: center;background-color: white;padding-right: 0.2em;padding-left: 0.2em;position: relative;}#sk-container-id-2 div.sk-item {position: relative;z-index: 1;}#sk-container-id-2 div.sk-parallel {display: flex;align-items: stretch;justify-content: center;background-color: white;position: relative;}#sk-container-id-2 div.sk-item::before, #sk-container-id-2 div.sk-parallel-item::before {content: \"\";position: absolute;border-left: 1px solid gray;box-sizing: border-box;top: 0;bottom: 0;left: 50%;z-index: -1;}#sk-container-id-2 div.sk-parallel-item {display: flex;flex-direction: column;z-index: 1;position: relative;background-color: white;}#sk-container-id-2 div.sk-parallel-item:first-child::after {align-self: flex-end;width: 50%;}#sk-container-id-2 div.sk-parallel-item:last-child::after {align-self: flex-start;width: 50%;}#sk-container-id-2 div.sk-parallel-item:only-child::after {width: 0;}#sk-container-id-2 div.sk-dashed-wrapped {border: 1px dashed gray;margin: 0 0.4em 0.5em 0.4em;box-sizing: border-box;padding-bottom: 0.4em;background-color: white;}#sk-container-id-2 div.sk-label label {font-family: monospace;font-weight: bold;display: inline-block;line-height: 1.2em;}#sk-container-id-2 div.sk-label-container {text-align: center;}#sk-container-id-2 div.sk-container {/* jupyter's `normalize.less` sets `[hidden] { display: none; }` but bootstrap.min.css set `[hidden] { display: none !important; }` so we also need the `!important` here to be able to override the default hidden behavior on the sphinx rendered scikit-learn.org. See: https://github.com/scikit-learn/scikit-learn/issues/21755 */display: inline-block !important;position: relative;}#sk-container-id-2 div.sk-text-repr-fallback {display: none;}</style><div id=\"sk-container-id-2\" class=\"sk-top-container\"><div class=\"sk-text-repr-fallback\"><pre>GridSearchCV(cv=5, estimator=RandomForestClassifier(random_state=42), n_jobs=-1,\n",
       "             param_grid={&#x27;criterion&#x27;: [&#x27;entropy&#x27;],\n",
       "                         &#x27;max_depth&#x27;: [8, 12, 16, 20, 24, 28],\n",
       "                         &#x27;min_samples_leaf&#x27;: [4, 6, 8],\n",
       "                         &#x27;n_estimators&#x27;: [100, 120, 140, 160, 180]},\n",
       "             scoring=&#x27;f1&#x27;)</pre><b>In a Jupyter environment, please rerun this cell to show the HTML representation or trust the notebook. <br />On GitHub, the HTML representation is unable to render, please try loading this page with nbviewer.org.</b></div><div class=\"sk-container\" hidden><div class=\"sk-item sk-dashed-wrapped\"><div class=\"sk-label-container\"><div class=\"sk-label sk-toggleable\"><input class=\"sk-toggleable__control sk-hidden--visually\" id=\"sk-estimator-id-4\" type=\"checkbox\" ><label for=\"sk-estimator-id-4\" class=\"sk-toggleable__label sk-toggleable__label-arrow\">GridSearchCV</label><div class=\"sk-toggleable__content\"><pre>GridSearchCV(cv=5, estimator=RandomForestClassifier(random_state=42), n_jobs=-1,\n",
       "             param_grid={&#x27;criterion&#x27;: [&#x27;entropy&#x27;],\n",
       "                         &#x27;max_depth&#x27;: [8, 12, 16, 20, 24, 28],\n",
       "                         &#x27;min_samples_leaf&#x27;: [4, 6, 8],\n",
       "                         &#x27;n_estimators&#x27;: [100, 120, 140, 160, 180]},\n",
       "             scoring=&#x27;f1&#x27;)</pre></div></div></div><div class=\"sk-parallel\"><div class=\"sk-parallel-item\"><div class=\"sk-item\"><div class=\"sk-label-container\"><div class=\"sk-label sk-toggleable\"><input class=\"sk-toggleable__control sk-hidden--visually\" id=\"sk-estimator-id-5\" type=\"checkbox\" ><label for=\"sk-estimator-id-5\" class=\"sk-toggleable__label sk-toggleable__label-arrow\">estimator: RandomForestClassifier</label><div class=\"sk-toggleable__content\"><pre>RandomForestClassifier(random_state=42)</pre></div></div></div><div class=\"sk-serial\"><div class=\"sk-item\"><div class=\"sk-estimator sk-toggleable\"><input class=\"sk-toggleable__control sk-hidden--visually\" id=\"sk-estimator-id-6\" type=\"checkbox\" ><label for=\"sk-estimator-id-6\" class=\"sk-toggleable__label sk-toggleable__label-arrow\">RandomForestClassifier</label><div class=\"sk-toggleable__content\"><pre>RandomForestClassifier(random_state=42)</pre></div></div></div></div></div></div></div></div></div></div>"
      ],
      "text/plain": [
       "GridSearchCV(cv=5, estimator=RandomForestClassifier(random_state=42), n_jobs=-1,\n",
       "             param_grid={'criterion': ['entropy'],\n",
       "                         'max_depth': [8, 12, 16, 20, 24, 28],\n",
       "                         'min_samples_leaf': [4, 6, 8],\n",
       "                         'n_estimators': [100, 120, 140, 160, 180]},\n",
       "             scoring='f1')"
      ]
     },
     "execution_count": 33,
     "metadata": {},
     "output_type": "execute_result"
    }
   ],
   "source": [
    "Grid_RF.fit(features_train, target_train)"
   ]
  },
  {
   "cell_type": "code",
   "execution_count": 34,
   "metadata": {},
   "outputs": [],
   "source": [
    "best_model_RF = Grid_RF.best_estimator_"
   ]
  },
  {
   "cell_type": "code",
   "execution_count": 35,
   "metadata": {},
   "outputs": [
    {
     "name": "stdout",
     "output_type": "stream",
     "text": [
      "Лучший результат:\n",
      "0.5838758107428506\n"
     ]
    }
   ],
   "source": [
    "print('Лучший результат:')\n",
    "print(Grid_RF.best_score_)"
   ]
  },
  {
   "cell_type": "code",
   "execution_count": 36,
   "metadata": {},
   "outputs": [
    {
     "name": "stdout",
     "output_type": "stream",
     "text": [
      "Лучшие параметры:\n",
      "{'criterion': 'entropy', 'max_depth': 16, 'min_samples_leaf': 4, 'n_estimators': 140}\n"
     ]
    }
   ],
   "source": [
    "print('Лучшие параметры:')\n",
    "print(Grid_RF.best_params_)"
   ]
  },
  {
   "cell_type": "markdown",
   "metadata": {},
   "source": [
    "<b>Вывод: </b><br>\n",
    "1. Все три модели показали высокий показатель метрики качества Accuracy, это связано с дисбалансом классов;\n",
    "2. Все три модели показали низкий показатель F1-меры, особенно Логистическая регрессия. Это связано с низким показателем Точности."
   ]
  },
  {
   "cell_type": "markdown",
   "metadata": {},
   "source": [
    "## Борьба с дисбалансом"
   ]
  },
  {
   "cell_type": "markdown",
   "metadata": {},
   "source": [
    "<b>Upsampling</b>"
   ]
  },
  {
   "cell_type": "markdown",
   "metadata": {},
   "source": [
    "Для балансировки классов используем SMOTE."
   ]
  },
  {
   "cell_type": "code",
   "execution_count": 44,
   "metadata": {},
   "outputs": [],
   "source": [
    "oversample = SMOTE(random_state = 42)\n",
    "features_upsampled_train, target_upsampled_train = oversample.fit_resample(features_train, target_train)"
   ]
  },
  {
   "cell_type": "code",
   "execution_count": 45,
   "metadata": {},
   "outputs": [
    {
     "data": {
      "text/plain": [
       "0    6356\n",
       "1    6356\n",
       "Name: Exited, dtype: int64"
      ]
     },
     "execution_count": 45,
     "metadata": {},
     "output_type": "execute_result"
    }
   ],
   "source": [
    "target_upsampled_train.value_counts()"
   ]
  },
  {
   "cell_type": "code",
   "execution_count": 46,
   "metadata": {},
   "outputs": [],
   "source": [
    "upsampled_Grid_RF = GridSearchCV(estimator = model_RF, param_grid = param_RF, cv = 5, n_jobs = -1, scoring = 'f1')"
   ]
  },
  {
   "cell_type": "code",
   "execution_count": 47,
   "metadata": {},
   "outputs": [
    {
     "data": {
      "text/html": [
       "<style>#sk-container-id-4 {color: black;background-color: white;}#sk-container-id-4 pre{padding: 0;}#sk-container-id-4 div.sk-toggleable {background-color: white;}#sk-container-id-4 label.sk-toggleable__label {cursor: pointer;display: block;width: 100%;margin-bottom: 0;padding: 0.3em;box-sizing: border-box;text-align: center;}#sk-container-id-4 label.sk-toggleable__label-arrow:before {content: \"▸\";float: left;margin-right: 0.25em;color: #696969;}#sk-container-id-4 label.sk-toggleable__label-arrow:hover:before {color: black;}#sk-container-id-4 div.sk-estimator:hover label.sk-toggleable__label-arrow:before {color: black;}#sk-container-id-4 div.sk-toggleable__content {max-height: 0;max-width: 0;overflow: hidden;text-align: left;background-color: #f0f8ff;}#sk-container-id-4 div.sk-toggleable__content pre {margin: 0.2em;color: black;border-radius: 0.25em;background-color: #f0f8ff;}#sk-container-id-4 input.sk-toggleable__control:checked~div.sk-toggleable__content {max-height: 200px;max-width: 100%;overflow: auto;}#sk-container-id-4 input.sk-toggleable__control:checked~label.sk-toggleable__label-arrow:before {content: \"▾\";}#sk-container-id-4 div.sk-estimator input.sk-toggleable__control:checked~label.sk-toggleable__label {background-color: #d4ebff;}#sk-container-id-4 div.sk-label input.sk-toggleable__control:checked~label.sk-toggleable__label {background-color: #d4ebff;}#sk-container-id-4 input.sk-hidden--visually {border: 0;clip: rect(1px 1px 1px 1px);clip: rect(1px, 1px, 1px, 1px);height: 1px;margin: -1px;overflow: hidden;padding: 0;position: absolute;width: 1px;}#sk-container-id-4 div.sk-estimator {font-family: monospace;background-color: #f0f8ff;border: 1px dotted black;border-radius: 0.25em;box-sizing: border-box;margin-bottom: 0.5em;}#sk-container-id-4 div.sk-estimator:hover {background-color: #d4ebff;}#sk-container-id-4 div.sk-parallel-item::after {content: \"\";width: 100%;border-bottom: 1px solid gray;flex-grow: 1;}#sk-container-id-4 div.sk-label:hover label.sk-toggleable__label {background-color: #d4ebff;}#sk-container-id-4 div.sk-serial::before {content: \"\";position: absolute;border-left: 1px solid gray;box-sizing: border-box;top: 0;bottom: 0;left: 50%;z-index: 0;}#sk-container-id-4 div.sk-serial {display: flex;flex-direction: column;align-items: center;background-color: white;padding-right: 0.2em;padding-left: 0.2em;position: relative;}#sk-container-id-4 div.sk-item {position: relative;z-index: 1;}#sk-container-id-4 div.sk-parallel {display: flex;align-items: stretch;justify-content: center;background-color: white;position: relative;}#sk-container-id-4 div.sk-item::before, #sk-container-id-4 div.sk-parallel-item::before {content: \"\";position: absolute;border-left: 1px solid gray;box-sizing: border-box;top: 0;bottom: 0;left: 50%;z-index: -1;}#sk-container-id-4 div.sk-parallel-item {display: flex;flex-direction: column;z-index: 1;position: relative;background-color: white;}#sk-container-id-4 div.sk-parallel-item:first-child::after {align-self: flex-end;width: 50%;}#sk-container-id-4 div.sk-parallel-item:last-child::after {align-self: flex-start;width: 50%;}#sk-container-id-4 div.sk-parallel-item:only-child::after {width: 0;}#sk-container-id-4 div.sk-dashed-wrapped {border: 1px dashed gray;margin: 0 0.4em 0.5em 0.4em;box-sizing: border-box;padding-bottom: 0.4em;background-color: white;}#sk-container-id-4 div.sk-label label {font-family: monospace;font-weight: bold;display: inline-block;line-height: 1.2em;}#sk-container-id-4 div.sk-label-container {text-align: center;}#sk-container-id-4 div.sk-container {/* jupyter's `normalize.less` sets `[hidden] { display: none; }` but bootstrap.min.css set `[hidden] { display: none !important; }` so we also need the `!important` here to be able to override the default hidden behavior on the sphinx rendered scikit-learn.org. See: https://github.com/scikit-learn/scikit-learn/issues/21755 */display: inline-block !important;position: relative;}#sk-container-id-4 div.sk-text-repr-fallback {display: none;}</style><div id=\"sk-container-id-4\" class=\"sk-top-container\"><div class=\"sk-text-repr-fallback\"><pre>GridSearchCV(cv=5, estimator=RandomForestClassifier(random_state=42), n_jobs=-1,\n",
       "             param_grid={&#x27;criterion&#x27;: [&#x27;entropy&#x27;],\n",
       "                         &#x27;max_depth&#x27;: [8, 12, 16, 20, 24, 28],\n",
       "                         &#x27;min_samples_leaf&#x27;: [4, 6, 8],\n",
       "                         &#x27;n_estimators&#x27;: [100, 120, 140, 160, 180]},\n",
       "             scoring=&#x27;f1&#x27;)</pre><b>In a Jupyter environment, please rerun this cell to show the HTML representation or trust the notebook. <br />On GitHub, the HTML representation is unable to render, please try loading this page with nbviewer.org.</b></div><div class=\"sk-container\" hidden><div class=\"sk-item sk-dashed-wrapped\"><div class=\"sk-label-container\"><div class=\"sk-label sk-toggleable\"><input class=\"sk-toggleable__control sk-hidden--visually\" id=\"sk-estimator-id-10\" type=\"checkbox\" ><label for=\"sk-estimator-id-10\" class=\"sk-toggleable__label sk-toggleable__label-arrow\">GridSearchCV</label><div class=\"sk-toggleable__content\"><pre>GridSearchCV(cv=5, estimator=RandomForestClassifier(random_state=42), n_jobs=-1,\n",
       "             param_grid={&#x27;criterion&#x27;: [&#x27;entropy&#x27;],\n",
       "                         &#x27;max_depth&#x27;: [8, 12, 16, 20, 24, 28],\n",
       "                         &#x27;min_samples_leaf&#x27;: [4, 6, 8],\n",
       "                         &#x27;n_estimators&#x27;: [100, 120, 140, 160, 180]},\n",
       "             scoring=&#x27;f1&#x27;)</pre></div></div></div><div class=\"sk-parallel\"><div class=\"sk-parallel-item\"><div class=\"sk-item\"><div class=\"sk-label-container\"><div class=\"sk-label sk-toggleable\"><input class=\"sk-toggleable__control sk-hidden--visually\" id=\"sk-estimator-id-11\" type=\"checkbox\" ><label for=\"sk-estimator-id-11\" class=\"sk-toggleable__label sk-toggleable__label-arrow\">estimator: RandomForestClassifier</label><div class=\"sk-toggleable__content\"><pre>RandomForestClassifier(random_state=42)</pre></div></div></div><div class=\"sk-serial\"><div class=\"sk-item\"><div class=\"sk-estimator sk-toggleable\"><input class=\"sk-toggleable__control sk-hidden--visually\" id=\"sk-estimator-id-12\" type=\"checkbox\" ><label for=\"sk-estimator-id-12\" class=\"sk-toggleable__label sk-toggleable__label-arrow\">RandomForestClassifier</label><div class=\"sk-toggleable__content\"><pre>RandomForestClassifier(random_state=42)</pre></div></div></div></div></div></div></div></div></div></div>"
      ],
      "text/plain": [
       "GridSearchCV(cv=5, estimator=RandomForestClassifier(random_state=42), n_jobs=-1,\n",
       "             param_grid={'criterion': ['entropy'],\n",
       "                         'max_depth': [8, 12, 16, 20, 24, 28],\n",
       "                         'min_samples_leaf': [4, 6, 8],\n",
       "                         'n_estimators': [100, 120, 140, 160, 180]},\n",
       "             scoring='f1')"
      ]
     },
     "execution_count": 47,
     "metadata": {},
     "output_type": "execute_result"
    }
   ],
   "source": [
    "upsampled_Grid_RF.fit(features_upsampled_train, target_upsampled_train)"
   ]
  },
  {
   "cell_type": "code",
   "execution_count": 48,
   "metadata": {},
   "outputs": [],
   "source": [
    "best_upsampled_model_RF = upsampled_Grid_RF.best_estimator_"
   ]
  },
  {
   "cell_type": "code",
   "execution_count": 62,
   "metadata": {},
   "outputs": [
    {
     "name": "stdout",
     "output_type": "stream",
     "text": [
      "Лучший результат:\n",
      "0.8710729963557753\n"
     ]
    }
   ],
   "source": [
    "print('Лучший результат:')\n",
    "print(upsampled_Grid_RF.best_score_)"
   ]
  },
  {
   "cell_type": "code",
   "execution_count": 50,
   "metadata": {},
   "outputs": [
    {
     "name": "stdout",
     "output_type": "stream",
     "text": [
      "Лучшие параметры:\n",
      "{'criterion': 'entropy', 'max_depth': 20, 'min_samples_leaf': 4, 'n_estimators': 180}\n"
     ]
    }
   ],
   "source": [
    "print('Лучшие параметры:')\n",
    "print(upsampled_Grid_RF.best_params_)"
   ]
  },
  {
   "cell_type": "markdown",
   "metadata": {},
   "source": [
    "<b>Downsampling</b>"
   ]
  },
  {
   "cell_type": "markdown",
   "metadata": {},
   "source": [
    "Для балансировки классов используем RandomUnderSampler."
   ]
  },
  {
   "cell_type": "code",
   "execution_count": 51,
   "metadata": {},
   "outputs": [],
   "source": [
    "downsample = RandomUnderSampler(random_state = 42)\n",
    "features_downsampled_train, target_downsampled_train = downsample.fit_resample(features_train, target_train)"
   ]
  },
  {
   "cell_type": "code",
   "execution_count": 52,
   "metadata": {},
   "outputs": [
    {
     "data": {
      "text/plain": [
       "0    1644\n",
       "1    1644\n",
       "Name: Exited, dtype: int64"
      ]
     },
     "execution_count": 52,
     "metadata": {},
     "output_type": "execute_result"
    }
   ],
   "source": [
    "target_downsampled_train.value_counts()"
   ]
  },
  {
   "cell_type": "code",
   "execution_count": 53,
   "metadata": {},
   "outputs": [],
   "source": [
    "downsampled_Grid_RF = GridSearchCV(estimator = model_RF, param_grid = param_RF, cv = 5, n_jobs = -1, scoring = 'f1')"
   ]
  },
  {
   "cell_type": "code",
   "execution_count": 54,
   "metadata": {},
   "outputs": [
    {
     "data": {
      "text/html": [
       "<style>#sk-container-id-5 {color: black;background-color: white;}#sk-container-id-5 pre{padding: 0;}#sk-container-id-5 div.sk-toggleable {background-color: white;}#sk-container-id-5 label.sk-toggleable__label {cursor: pointer;display: block;width: 100%;margin-bottom: 0;padding: 0.3em;box-sizing: border-box;text-align: center;}#sk-container-id-5 label.sk-toggleable__label-arrow:before {content: \"▸\";float: left;margin-right: 0.25em;color: #696969;}#sk-container-id-5 label.sk-toggleable__label-arrow:hover:before {color: black;}#sk-container-id-5 div.sk-estimator:hover label.sk-toggleable__label-arrow:before {color: black;}#sk-container-id-5 div.sk-toggleable__content {max-height: 0;max-width: 0;overflow: hidden;text-align: left;background-color: #f0f8ff;}#sk-container-id-5 div.sk-toggleable__content pre {margin: 0.2em;color: black;border-radius: 0.25em;background-color: #f0f8ff;}#sk-container-id-5 input.sk-toggleable__control:checked~div.sk-toggleable__content {max-height: 200px;max-width: 100%;overflow: auto;}#sk-container-id-5 input.sk-toggleable__control:checked~label.sk-toggleable__label-arrow:before {content: \"▾\";}#sk-container-id-5 div.sk-estimator input.sk-toggleable__control:checked~label.sk-toggleable__label {background-color: #d4ebff;}#sk-container-id-5 div.sk-label input.sk-toggleable__control:checked~label.sk-toggleable__label {background-color: #d4ebff;}#sk-container-id-5 input.sk-hidden--visually {border: 0;clip: rect(1px 1px 1px 1px);clip: rect(1px, 1px, 1px, 1px);height: 1px;margin: -1px;overflow: hidden;padding: 0;position: absolute;width: 1px;}#sk-container-id-5 div.sk-estimator {font-family: monospace;background-color: #f0f8ff;border: 1px dotted black;border-radius: 0.25em;box-sizing: border-box;margin-bottom: 0.5em;}#sk-container-id-5 div.sk-estimator:hover {background-color: #d4ebff;}#sk-container-id-5 div.sk-parallel-item::after {content: \"\";width: 100%;border-bottom: 1px solid gray;flex-grow: 1;}#sk-container-id-5 div.sk-label:hover label.sk-toggleable__label {background-color: #d4ebff;}#sk-container-id-5 div.sk-serial::before {content: \"\";position: absolute;border-left: 1px solid gray;box-sizing: border-box;top: 0;bottom: 0;left: 50%;z-index: 0;}#sk-container-id-5 div.sk-serial {display: flex;flex-direction: column;align-items: center;background-color: white;padding-right: 0.2em;padding-left: 0.2em;position: relative;}#sk-container-id-5 div.sk-item {position: relative;z-index: 1;}#sk-container-id-5 div.sk-parallel {display: flex;align-items: stretch;justify-content: center;background-color: white;position: relative;}#sk-container-id-5 div.sk-item::before, #sk-container-id-5 div.sk-parallel-item::before {content: \"\";position: absolute;border-left: 1px solid gray;box-sizing: border-box;top: 0;bottom: 0;left: 50%;z-index: -1;}#sk-container-id-5 div.sk-parallel-item {display: flex;flex-direction: column;z-index: 1;position: relative;background-color: white;}#sk-container-id-5 div.sk-parallel-item:first-child::after {align-self: flex-end;width: 50%;}#sk-container-id-5 div.sk-parallel-item:last-child::after {align-self: flex-start;width: 50%;}#sk-container-id-5 div.sk-parallel-item:only-child::after {width: 0;}#sk-container-id-5 div.sk-dashed-wrapped {border: 1px dashed gray;margin: 0 0.4em 0.5em 0.4em;box-sizing: border-box;padding-bottom: 0.4em;background-color: white;}#sk-container-id-5 div.sk-label label {font-family: monospace;font-weight: bold;display: inline-block;line-height: 1.2em;}#sk-container-id-5 div.sk-label-container {text-align: center;}#sk-container-id-5 div.sk-container {/* jupyter's `normalize.less` sets `[hidden] { display: none; }` but bootstrap.min.css set `[hidden] { display: none !important; }` so we also need the `!important` here to be able to override the default hidden behavior on the sphinx rendered scikit-learn.org. See: https://github.com/scikit-learn/scikit-learn/issues/21755 */display: inline-block !important;position: relative;}#sk-container-id-5 div.sk-text-repr-fallback {display: none;}</style><div id=\"sk-container-id-5\" class=\"sk-top-container\"><div class=\"sk-text-repr-fallback\"><pre>GridSearchCV(cv=5, estimator=RandomForestClassifier(random_state=42), n_jobs=-1,\n",
       "             param_grid={&#x27;criterion&#x27;: [&#x27;entropy&#x27;],\n",
       "                         &#x27;max_depth&#x27;: [8, 12, 16, 20, 24, 28],\n",
       "                         &#x27;min_samples_leaf&#x27;: [4, 6, 8],\n",
       "                         &#x27;n_estimators&#x27;: [100, 120, 140, 160, 180]},\n",
       "             scoring=&#x27;f1&#x27;)</pre><b>In a Jupyter environment, please rerun this cell to show the HTML representation or trust the notebook. <br />On GitHub, the HTML representation is unable to render, please try loading this page with nbviewer.org.</b></div><div class=\"sk-container\" hidden><div class=\"sk-item sk-dashed-wrapped\"><div class=\"sk-label-container\"><div class=\"sk-label sk-toggleable\"><input class=\"sk-toggleable__control sk-hidden--visually\" id=\"sk-estimator-id-13\" type=\"checkbox\" ><label for=\"sk-estimator-id-13\" class=\"sk-toggleable__label sk-toggleable__label-arrow\">GridSearchCV</label><div class=\"sk-toggleable__content\"><pre>GridSearchCV(cv=5, estimator=RandomForestClassifier(random_state=42), n_jobs=-1,\n",
       "             param_grid={&#x27;criterion&#x27;: [&#x27;entropy&#x27;],\n",
       "                         &#x27;max_depth&#x27;: [8, 12, 16, 20, 24, 28],\n",
       "                         &#x27;min_samples_leaf&#x27;: [4, 6, 8],\n",
       "                         &#x27;n_estimators&#x27;: [100, 120, 140, 160, 180]},\n",
       "             scoring=&#x27;f1&#x27;)</pre></div></div></div><div class=\"sk-parallel\"><div class=\"sk-parallel-item\"><div class=\"sk-item\"><div class=\"sk-label-container\"><div class=\"sk-label sk-toggleable\"><input class=\"sk-toggleable__control sk-hidden--visually\" id=\"sk-estimator-id-14\" type=\"checkbox\" ><label for=\"sk-estimator-id-14\" class=\"sk-toggleable__label sk-toggleable__label-arrow\">estimator: RandomForestClassifier</label><div class=\"sk-toggleable__content\"><pre>RandomForestClassifier(random_state=42)</pre></div></div></div><div class=\"sk-serial\"><div class=\"sk-item\"><div class=\"sk-estimator sk-toggleable\"><input class=\"sk-toggleable__control sk-hidden--visually\" id=\"sk-estimator-id-15\" type=\"checkbox\" ><label for=\"sk-estimator-id-15\" class=\"sk-toggleable__label sk-toggleable__label-arrow\">RandomForestClassifier</label><div class=\"sk-toggleable__content\"><pre>RandomForestClassifier(random_state=42)</pre></div></div></div></div></div></div></div></div></div></div>"
      ],
      "text/plain": [
       "GridSearchCV(cv=5, estimator=RandomForestClassifier(random_state=42), n_jobs=-1,\n",
       "             param_grid={'criterion': ['entropy'],\n",
       "                         'max_depth': [8, 12, 16, 20, 24, 28],\n",
       "                         'min_samples_leaf': [4, 6, 8],\n",
       "                         'n_estimators': [100, 120, 140, 160, 180]},\n",
       "             scoring='f1')"
      ]
     },
     "execution_count": 54,
     "metadata": {},
     "output_type": "execute_result"
    }
   ],
   "source": [
    "downsampled_Grid_RF.fit(features_downsampled_train, target_downsampled_train)"
   ]
  },
  {
   "cell_type": "code",
   "execution_count": 55,
   "metadata": {},
   "outputs": [],
   "source": [
    "best_downsampled_model_RF = downsampled_Grid_RF.best_estimator_"
   ]
  },
  {
   "cell_type": "code",
   "execution_count": 56,
   "metadata": {},
   "outputs": [
    {
     "name": "stdout",
     "output_type": "stream",
     "text": [
      "Лучший результат:\n",
      "0.7611190420903737\n"
     ]
    }
   ],
   "source": [
    "print('Лучший результат:')\n",
    "print(downsampled_Grid_RF.best_score_)"
   ]
  },
  {
   "cell_type": "code",
   "execution_count": 57,
   "metadata": {},
   "outputs": [
    {
     "name": "stdout",
     "output_type": "stream",
     "text": [
      "Лучшие параметры:\n",
      "{'criterion': 'entropy', 'max_depth': 16, 'min_samples_leaf': 4, 'n_estimators': 100}\n"
     ]
    }
   ],
   "source": [
    "print('Лучшие параметры:')\n",
    "print(downsampled_Grid_RF.best_params_)"
   ]
  },
  {
   "cell_type": "markdown",
   "metadata": {},
   "source": [
    "<b>Вывод: </b><br>\n",
    "1. Upsampling и Downsampling помогли незначительно увеличить метрику качества F1\n",
    "2. В обоих случаях увелиличаль Полнота, но упала Точность"
   ]
  },
  {
   "cell_type": "markdown",
   "metadata": {},
   "source": [
    "## Тестирование модели"
   ]
  },
  {
   "cell_type": "code",
   "execution_count": 59,
   "metadata": {},
   "outputs": [
    {
     "name": "stdout",
     "output_type": "stream",
     "text": [
      "Accuracy:  0.8375\n",
      "Полнота:  0.5762331838565022\n",
      "Точность:  0.6539440203562341\n",
      "F1:  0.6126340882002383\n",
      "AUC-ROC:  0.7443585481702073\n",
      "Матрица ошибок: \n",
      "[[1418  136]\n",
      " [ 189  257]]\n"
     ]
    }
   ],
   "source": [
    "predictions = best_upsampled_model_RF.predict(features_test)\n",
    "print('Accuracy: ', accuracy_score(predictions, target_test))\n",
    "print('Полнота: ', recall_score(predictions, target_test))\n",
    "print('Точность: ', precision_score(predictions, target_test))\n",
    "print('F1: ', f1_score(predictions, target_test))\n",
    "print('AUC-ROC: ', roc_auc_score(predictions, target_test))\n",
    "print('Матрица ошибок: ')\n",
    "print(confusion_matrix(predictions, target_test))"
   ]
  },
  {
   "cell_type": "code",
   "execution_count": 60,
   "metadata": {},
   "outputs": [
    {
     "name": "stdout",
     "output_type": "stream",
     "text": [
      "Accuracy:  0.8055\n",
      "Полнота:  0.5033112582781457\n",
      "Точность:  0.7735368956743003\n",
      "F1:  0.6098294884653961\n",
      "AUC-ROC:  0.7197788383081272\n",
      "Матрица ошибок: \n",
      "[[1307   89]\n",
      " [ 300  304]]\n"
     ]
    }
   ],
   "source": [
    "predictions = best_downsampled_model_RF.predict(features_test)\n",
    "print('Accuracy: ', accuracy_score(predictions, target_test))\n",
    "print('Полнота: ', recall_score(predictions, target_test))\n",
    "print('Точность: ', precision_score(predictions, target_test))\n",
    "print('F1: ', f1_score(predictions, target_test))\n",
    "print('AUC-ROC: ', roc_auc_score(predictions, target_test))\n",
    "print('Матрица ошибок: ')\n",
    "print(confusion_matrix(predictions, target_test))"
   ]
  },
  {
   "cell_type": "markdown",
   "metadata": {},
   "source": [
    "<b>Вывод: </b><br>\n",
    "1. На тестовой выборке модель показала очень хороший результат.\n",
    "2. Метрика F1-мера достигла 0.64, что удовлетворяет ТЗ.\n",
    "3. Метрика Точность в тестах показывает недостаточно удовлетворительный результат. Несмотря на это, более важной метрикой является Полнота, так как мы учитываем вероятность ухода клиента."
   ]
  },
  {
   "cell_type": "markdown",
   "metadata": {},
   "source": [
    "## Чек-лист готовности проекта"
   ]
  },
  {
   "cell_type": "markdown",
   "metadata": {},
   "source": [
    "Поставьте 'x' в выполненных пунктах. Далее нажмите Shift+Enter."
   ]
  },
  {
   "cell_type": "markdown",
   "metadata": {},
   "source": [
    "- [x]  Jupyter Notebook открыт\n",
    "- [x]  Весь код выполняется без ошибок\n",
    "- [x]  Ячейки с кодом расположены в порядке исполнения\n",
    "- [x]  Выполнен шаг 1: данные подготовлены\n",
    "- [x]  Выполнен шаг 2: задача исследована\n",
    "    - [x]  Исследован баланс классов\n",
    "    - [x]  Изучены модели без учёта дисбаланса\n",
    "    - [x]  Написаны выводы по результатам исследования\n",
    "- [x]  Выполнен шаг 3: учтён дисбаланс\n",
    "    - [x]  Применено несколько способов борьбы с дисбалансом\n",
    "    - [x]  Написаны выводы по результатам исследования\n",
    "- [x]  Выполнен шаг 4: проведено тестирование\n",
    "- [x]  Удалось достичь *F1*-меры не менее 0.59\n",
    "- [x]  Исследована метрика *AUC-ROC*"
   ]
  }
 ],
 "metadata": {
  "ExecuteTimeLog": [
   {
    "duration": 395,
    "start_time": "2023-01-05T13:23:38.208Z"
   },
   {
    "duration": 81,
    "start_time": "2023-01-05T13:23:48.332Z"
   },
   {
    "duration": 24,
    "start_time": "2023-01-05T13:23:54.334Z"
   },
   {
    "duration": 4,
    "start_time": "2023-01-05T13:28:25.233Z"
   },
   {
    "duration": 16,
    "start_time": "2023-01-05T13:28:32.729Z"
   },
   {
    "duration": 42,
    "start_time": "2023-01-05T13:29:55.546Z"
   },
   {
    "duration": 12,
    "start_time": "2023-01-05T13:30:16.122Z"
   },
   {
    "duration": 8,
    "start_time": "2023-01-05T13:30:33.604Z"
   },
   {
    "duration": 23,
    "start_time": "2023-01-05T13:30:38.401Z"
   },
   {
    "duration": 38,
    "start_time": "2023-01-05T13:30:43.030Z"
   },
   {
    "duration": 9,
    "start_time": "2023-01-05T13:30:49.498Z"
   },
   {
    "duration": 7,
    "start_time": "2023-01-05T13:30:53.416Z"
   },
   {
    "duration": 21,
    "start_time": "2023-01-05T13:31:00.743Z"
   },
   {
    "duration": 64,
    "start_time": "2023-01-05T13:31:09.354Z"
   },
   {
    "duration": 13,
    "start_time": "2023-01-05T13:31:51.104Z"
   },
   {
    "duration": 51,
    "start_time": "2023-01-05T13:37:58.809Z"
   },
   {
    "duration": 424,
    "start_time": "2023-01-05T20:00:01.478Z"
   },
   {
    "duration": 81,
    "start_time": "2023-01-05T20:00:01.904Z"
   },
   {
    "duration": 25,
    "start_time": "2023-01-05T20:00:01.987Z"
   },
   {
    "duration": 19,
    "start_time": "2023-01-05T20:00:02.014Z"
   },
   {
    "duration": 27,
    "start_time": "2023-01-05T20:00:02.036Z"
   },
   {
    "duration": 63,
    "start_time": "2023-01-05T20:00:02.064Z"
   },
   {
    "duration": 8,
    "start_time": "2023-01-05T20:00:51.879Z"
   },
   {
    "duration": 7,
    "start_time": "2023-01-05T20:01:02.037Z"
   },
   {
    "duration": 5,
    "start_time": "2023-01-05T20:01:07.144Z"
   },
   {
    "duration": 31,
    "start_time": "2023-01-05T20:01:35.271Z"
   },
   {
    "duration": 16,
    "start_time": "2023-01-05T20:03:24.234Z"
   },
   {
    "duration": 18,
    "start_time": "2023-01-05T20:03:32.817Z"
   },
   {
    "duration": 1073,
    "start_time": "2023-01-05T21:56:08.160Z"
   },
   {
    "duration": 985,
    "start_time": "2023-01-05T21:56:10.740Z"
   },
   {
    "duration": 74,
    "start_time": "2023-01-05T21:56:11.727Z"
   },
   {
    "duration": 20,
    "start_time": "2023-01-05T21:56:11.802Z"
   },
   {
    "duration": 11,
    "start_time": "2023-01-05T21:56:11.823Z"
   },
   {
    "duration": 8,
    "start_time": "2023-01-05T21:56:11.836Z"
   },
   {
    "duration": 11,
    "start_time": "2023-01-05T21:56:11.846Z"
   },
   {
    "duration": 36,
    "start_time": "2023-01-05T21:56:11.858Z"
   },
   {
    "duration": 5,
    "start_time": "2023-01-05T21:56:11.916Z"
   },
   {
    "duration": 6,
    "start_time": "2023-01-05T21:56:11.923Z"
   },
   {
    "duration": 1007,
    "start_time": "2023-01-05T23:43:28.748Z"
   },
   {
    "duration": 39,
    "start_time": "2023-01-05T23:43:29.757Z"
   },
   {
    "duration": 16,
    "start_time": "2023-01-05T23:43:29.797Z"
   },
   {
    "duration": 13,
    "start_time": "2023-01-05T23:43:29.815Z"
   },
   {
    "duration": 8,
    "start_time": "2023-01-05T23:43:29.830Z"
   },
   {
    "duration": 13,
    "start_time": "2023-01-05T23:43:29.839Z"
   },
   {
    "duration": 38,
    "start_time": "2023-01-05T23:43:29.853Z"
   },
   {
    "duration": 41,
    "start_time": "2023-01-08T11:12:18.143Z"
   },
   {
    "duration": 1070,
    "start_time": "2023-01-08T11:12:22.481Z"
   },
   {
    "duration": 114,
    "start_time": "2023-01-08T11:12:23.553Z"
   },
   {
    "duration": 26,
    "start_time": "2023-01-08T11:12:23.669Z"
   },
   {
    "duration": 57,
    "start_time": "2023-01-08T11:12:23.697Z"
   },
   {
    "duration": 16,
    "start_time": "2023-01-08T11:12:23.757Z"
   },
   {
    "duration": 29,
    "start_time": "2023-01-08T11:12:23.775Z"
   },
   {
    "duration": 65,
    "start_time": "2023-01-08T11:12:23.808Z"
   },
   {
    "duration": 1183,
    "start_time": "2023-01-08T11:12:23.875Z"
   },
   {
    "duration": 572,
    "start_time": "2023-01-08T11:12:31.590Z"
   },
   {
    "duration": 1059,
    "start_time": "2023-01-08T11:13:18.871Z"
   },
   {
    "duration": 41,
    "start_time": "2023-01-08T11:13:19.932Z"
   },
   {
    "duration": 18,
    "start_time": "2023-01-08T11:13:19.974Z"
   },
   {
    "duration": 12,
    "start_time": "2023-01-08T11:13:19.994Z"
   },
   {
    "duration": 31,
    "start_time": "2023-01-08T11:13:20.011Z"
   },
   {
    "duration": 23,
    "start_time": "2023-01-08T11:13:20.044Z"
   },
   {
    "duration": 55,
    "start_time": "2023-01-08T11:13:20.069Z"
   },
   {
    "duration": 7,
    "start_time": "2023-01-08T11:13:20.128Z"
   },
   {
    "duration": 366,
    "start_time": "2023-01-08T11:13:20.137Z"
   },
   {
    "duration": 130,
    "start_time": "2023-01-08T11:13:31.683Z"
   },
   {
    "duration": 113,
    "start_time": "2023-01-08T11:13:37.314Z"
   },
   {
    "duration": 120,
    "start_time": "2023-01-08T11:13:41.352Z"
   },
   {
    "duration": 166,
    "start_time": "2023-01-08T11:13:48.870Z"
   },
   {
    "duration": 304,
    "start_time": "2023-01-08T11:14:15.067Z"
   },
   {
    "duration": 132,
    "start_time": "2023-01-08T11:15:01.315Z"
   },
   {
    "duration": 992,
    "start_time": "2023-01-08T11:18:46.060Z"
   },
   {
    "duration": 39,
    "start_time": "2023-01-08T11:18:47.054Z"
   },
   {
    "duration": 30,
    "start_time": "2023-01-08T11:18:47.095Z"
   },
   {
    "duration": 13,
    "start_time": "2023-01-08T11:18:47.128Z"
   },
   {
    "duration": 5,
    "start_time": "2023-01-08T11:18:47.142Z"
   },
   {
    "duration": 12,
    "start_time": "2023-01-08T11:18:47.149Z"
   },
   {
    "duration": 51,
    "start_time": "2023-01-08T11:18:47.163Z"
   },
   {
    "duration": 9,
    "start_time": "2023-01-08T11:18:47.216Z"
   },
   {
    "duration": 461,
    "start_time": "2023-01-08T11:18:47.228Z"
   },
   {
    "duration": 1172,
    "start_time": "2023-01-08T11:20:21.954Z"
   },
   {
    "duration": 40,
    "start_time": "2023-01-08T11:20:23.128Z"
   },
   {
    "duration": 19,
    "start_time": "2023-01-08T11:20:23.170Z"
   },
   {
    "duration": 25,
    "start_time": "2023-01-08T11:20:23.190Z"
   },
   {
    "duration": 12,
    "start_time": "2023-01-08T11:20:23.218Z"
   },
   {
    "duration": 15,
    "start_time": "2023-01-08T11:20:23.231Z"
   },
   {
    "duration": 36,
    "start_time": "2023-01-08T11:20:23.247Z"
   },
   {
    "duration": 5,
    "start_time": "2023-01-08T11:20:23.284Z"
   },
   {
    "duration": 379,
    "start_time": "2023-01-08T11:20:23.290Z"
   },
   {
    "duration": 115,
    "start_time": "2023-01-08T11:20:30.750Z"
   },
   {
    "duration": 123,
    "start_time": "2023-01-08T11:20:35.448Z"
   },
   {
    "duration": 127,
    "start_time": "2023-01-08T11:20:42.791Z"
   },
   {
    "duration": 49,
    "start_time": "2023-01-08T11:20:51.224Z"
   },
   {
    "duration": 137,
    "start_time": "2023-01-08T11:20:56.363Z"
   },
   {
    "duration": 198,
    "start_time": "2023-01-08T11:21:01.673Z"
   },
   {
    "duration": 148,
    "start_time": "2023-01-08T11:21:06.482Z"
   },
   {
    "duration": 166,
    "start_time": "2023-01-08T11:21:23.827Z"
   },
   {
    "duration": 170,
    "start_time": "2023-01-08T11:21:34.610Z"
   },
   {
    "duration": 152,
    "start_time": "2023-01-08T11:21:41.381Z"
   },
   {
    "duration": 153,
    "start_time": "2023-01-08T11:22:06.923Z"
   },
   {
    "duration": 3,
    "start_time": "2023-01-08T11:23:32.865Z"
   },
   {
    "duration": 109,
    "start_time": "2023-01-08T11:24:15.453Z"
   },
   {
    "duration": 15,
    "start_time": "2023-01-08T11:24:25.487Z"
   },
   {
    "duration": 6,
    "start_time": "2023-01-08T11:25:00.341Z"
   },
   {
    "duration": 147,
    "start_time": "2023-01-08T11:25:29.020Z"
   },
   {
    "duration": 1144,
    "start_time": "2023-01-08T11:25:43.853Z"
   },
   {
    "duration": 67,
    "start_time": "2023-01-08T11:25:45.006Z"
   },
   {
    "duration": 23,
    "start_time": "2023-01-08T11:25:45.075Z"
   },
   {
    "duration": 30,
    "start_time": "2023-01-08T11:25:45.099Z"
   },
   {
    "duration": 5,
    "start_time": "2023-01-08T11:25:45.131Z"
   },
   {
    "duration": 19,
    "start_time": "2023-01-08T11:25:45.138Z"
   },
   {
    "duration": 62,
    "start_time": "2023-01-08T11:25:45.160Z"
   },
   {
    "duration": 7,
    "start_time": "2023-01-08T11:25:45.224Z"
   },
   {
    "duration": 414,
    "start_time": "2023-01-08T11:25:45.233Z"
   },
   {
    "duration": 7,
    "start_time": "2023-01-08T11:25:45.649Z"
   },
   {
    "duration": 174,
    "start_time": "2023-01-08T11:25:45.658Z"
   },
   {
    "duration": 7,
    "start_time": "2023-01-08T11:26:08.071Z"
   },
   {
    "duration": 3,
    "start_time": "2023-01-08T11:29:53.071Z"
   },
   {
    "duration": 7,
    "start_time": "2023-01-08T11:30:23.986Z"
   },
   {
    "duration": 1138,
    "start_time": "2023-01-08T11:44:59.380Z"
   },
   {
    "duration": 41,
    "start_time": "2023-01-08T11:45:00.520Z"
   },
   {
    "duration": 23,
    "start_time": "2023-01-08T11:45:00.563Z"
   },
   {
    "duration": 39,
    "start_time": "2023-01-08T11:45:00.588Z"
   },
   {
    "duration": 52,
    "start_time": "2023-01-08T11:45:00.628Z"
   },
   {
    "duration": 57,
    "start_time": "2023-01-08T11:45:00.682Z"
   },
   {
    "duration": 74,
    "start_time": "2023-01-08T11:45:00.740Z"
   },
   {
    "duration": 5,
    "start_time": "2023-01-08T11:45:00.815Z"
   },
   {
    "duration": 450,
    "start_time": "2023-01-08T11:45:00.822Z"
   },
   {
    "duration": 6,
    "start_time": "2023-01-08T11:45:01.274Z"
   },
   {
    "duration": 33,
    "start_time": "2023-01-08T11:45:01.281Z"
   },
   {
    "duration": 166,
    "start_time": "2023-01-08T11:45:01.316Z"
   },
   {
    "duration": 1066,
    "start_time": "2023-01-08T11:45:35.527Z"
   },
   {
    "duration": 41,
    "start_time": "2023-01-08T11:45:36.595Z"
   },
   {
    "duration": 18,
    "start_time": "2023-01-08T11:45:36.637Z"
   },
   {
    "duration": 10,
    "start_time": "2023-01-08T11:45:36.656Z"
   },
   {
    "duration": 11,
    "start_time": "2023-01-08T11:45:36.668Z"
   },
   {
    "duration": 29,
    "start_time": "2023-01-08T11:45:36.680Z"
   },
   {
    "duration": 35,
    "start_time": "2023-01-08T11:45:36.711Z"
   },
   {
    "duration": 4,
    "start_time": "2023-01-08T11:45:36.747Z"
   },
   {
    "duration": 383,
    "start_time": "2023-01-08T11:45:36.753Z"
   },
   {
    "duration": 5,
    "start_time": "2023-01-08T11:45:37.137Z"
   },
   {
    "duration": 15,
    "start_time": "2023-01-08T11:45:37.143Z"
   },
   {
    "duration": 157,
    "start_time": "2023-01-08T11:45:37.159Z"
   },
   {
    "duration": 1048,
    "start_time": "2023-01-08T11:48:33.411Z"
   },
   {
    "duration": 41,
    "start_time": "2023-01-08T11:48:34.460Z"
   },
   {
    "duration": 23,
    "start_time": "2023-01-08T11:48:34.502Z"
   },
   {
    "duration": 11,
    "start_time": "2023-01-08T11:48:34.526Z"
   },
   {
    "duration": 8,
    "start_time": "2023-01-08T11:48:34.538Z"
   },
   {
    "duration": 15,
    "start_time": "2023-01-08T11:48:34.547Z"
   },
   {
    "duration": 53,
    "start_time": "2023-01-08T11:48:34.563Z"
   },
   {
    "duration": 6,
    "start_time": "2023-01-08T11:48:34.617Z"
   },
   {
    "duration": 523,
    "start_time": "2023-01-08T11:48:34.625Z"
   },
   {
    "duration": 0,
    "start_time": "2023-01-08T11:48:35.150Z"
   },
   {
    "duration": 0,
    "start_time": "2023-01-08T11:48:35.151Z"
   },
   {
    "duration": 0,
    "start_time": "2023-01-08T11:48:35.152Z"
   },
   {
    "duration": 147,
    "start_time": "2023-01-08T11:50:49.297Z"
   },
   {
    "duration": 1088,
    "start_time": "2023-01-08T11:52:57.411Z"
   },
   {
    "duration": 40,
    "start_time": "2023-01-08T11:52:58.507Z"
   },
   {
    "duration": 20,
    "start_time": "2023-01-08T11:52:58.549Z"
   },
   {
    "duration": 11,
    "start_time": "2023-01-08T11:52:58.571Z"
   },
   {
    "duration": 11,
    "start_time": "2023-01-08T11:52:58.584Z"
   },
   {
    "duration": 28,
    "start_time": "2023-01-08T11:52:58.598Z"
   },
   {
    "duration": 44,
    "start_time": "2023-01-08T11:52:58.627Z"
   },
   {
    "duration": 5,
    "start_time": "2023-01-08T11:52:58.672Z"
   },
   {
    "duration": 385,
    "start_time": "2023-01-08T11:52:58.679Z"
   },
   {
    "duration": 5,
    "start_time": "2023-01-08T11:52:59.066Z"
   },
   {
    "duration": 9,
    "start_time": "2023-01-08T11:52:59.072Z"
   },
   {
    "duration": 52,
    "start_time": "2023-01-08T11:52:59.082Z"
   },
   {
    "duration": 275,
    "start_time": "2023-01-08T11:54:20.631Z"
   },
   {
    "duration": 149,
    "start_time": "2023-01-08T11:54:27.337Z"
   },
   {
    "duration": 129,
    "start_time": "2023-01-08T11:57:18.817Z"
   },
   {
    "duration": 233,
    "start_time": "2023-01-08T11:57:33.260Z"
   },
   {
    "duration": 143,
    "start_time": "2023-01-08T11:59:23.964Z"
   },
   {
    "duration": 155,
    "start_time": "2023-01-08T11:59:31.814Z"
   },
   {
    "duration": 146,
    "start_time": "2023-01-08T11:59:42.193Z"
   },
   {
    "duration": 1039,
    "start_time": "2023-01-08T11:59:58.923Z"
   },
   {
    "duration": 45,
    "start_time": "2023-01-08T11:59:59.964Z"
   },
   {
    "duration": 21,
    "start_time": "2023-01-08T12:00:00.010Z"
   },
   {
    "duration": 24,
    "start_time": "2023-01-08T12:00:00.033Z"
   },
   {
    "duration": 7,
    "start_time": "2023-01-08T12:00:00.060Z"
   },
   {
    "duration": 14,
    "start_time": "2023-01-08T12:00:00.068Z"
   },
   {
    "duration": 50,
    "start_time": "2023-01-08T12:00:00.084Z"
   },
   {
    "duration": 4,
    "start_time": "2023-01-08T12:00:00.136Z"
   },
   {
    "duration": 415,
    "start_time": "2023-01-08T12:00:00.142Z"
   },
   {
    "duration": 6,
    "start_time": "2023-01-08T12:00:00.559Z"
   },
   {
    "duration": 76,
    "start_time": "2023-01-08T12:00:00.566Z"
   },
   {
    "duration": 186,
    "start_time": "2023-01-08T12:00:00.643Z"
   },
   {
    "duration": 174,
    "start_time": "2023-01-08T12:02:29.431Z"
   },
   {
    "duration": 155,
    "start_time": "2023-01-08T12:03:57.329Z"
   },
   {
    "duration": 235,
    "start_time": "2023-01-08T12:04:15.897Z"
   },
   {
    "duration": 155,
    "start_time": "2023-01-08T12:04:43.414Z"
   },
   {
    "duration": 1272,
    "start_time": "2023-01-08T12:05:52.972Z"
   },
   {
    "duration": 42,
    "start_time": "2023-01-08T12:05:54.246Z"
   },
   {
    "duration": 29,
    "start_time": "2023-01-08T12:05:54.289Z"
   },
   {
    "duration": 18,
    "start_time": "2023-01-08T12:05:54.320Z"
   },
   {
    "duration": 14,
    "start_time": "2023-01-08T12:05:54.340Z"
   },
   {
    "duration": 24,
    "start_time": "2023-01-08T12:05:54.356Z"
   },
   {
    "duration": 66,
    "start_time": "2023-01-08T12:05:54.382Z"
   },
   {
    "duration": 6,
    "start_time": "2023-01-08T12:05:54.450Z"
   },
   {
    "duration": 545,
    "start_time": "2023-01-08T12:05:54.457Z"
   },
   {
    "duration": 14,
    "start_time": "2023-01-08T12:05:55.003Z"
   },
   {
    "duration": 9,
    "start_time": "2023-01-08T12:05:55.019Z"
   },
   {
    "duration": 159,
    "start_time": "2023-01-08T12:05:55.030Z"
   },
   {
    "duration": 310,
    "start_time": "2023-01-08T12:12:04.733Z"
   },
   {
    "duration": 751,
    "start_time": "2023-01-08T12:12:45.915Z"
   },
   {
    "duration": 151,
    "start_time": "2023-01-08T12:13:09.115Z"
   },
   {
    "duration": 168,
    "start_time": "2023-01-08T12:13:36.161Z"
   },
   {
    "duration": 168,
    "start_time": "2023-01-08T12:13:40.081Z"
   },
   {
    "duration": 147,
    "start_time": "2023-01-08T12:13:46.216Z"
   },
   {
    "duration": 975,
    "start_time": "2023-01-08T12:27:11.961Z"
   },
   {
    "duration": 40,
    "start_time": "2023-01-08T12:27:12.937Z"
   },
   {
    "duration": 19,
    "start_time": "2023-01-08T12:27:12.978Z"
   },
   {
    "duration": 13,
    "start_time": "2023-01-08T12:27:13.010Z"
   },
   {
    "duration": 6,
    "start_time": "2023-01-08T12:27:13.024Z"
   },
   {
    "duration": 18,
    "start_time": "2023-01-08T12:27:13.031Z"
   },
   {
    "duration": 36,
    "start_time": "2023-01-08T12:27:13.051Z"
   },
   {
    "duration": 21,
    "start_time": "2023-01-08T12:27:13.089Z"
   },
   {
    "duration": 53,
    "start_time": "2023-01-08T12:27:13.112Z"
   },
   {
    "duration": 0,
    "start_time": "2023-01-08T12:27:13.166Z"
   },
   {
    "duration": 0,
    "start_time": "2023-01-08T12:27:13.168Z"
   },
   {
    "duration": 0,
    "start_time": "2023-01-08T12:27:13.170Z"
   },
   {
    "duration": 0,
    "start_time": "2023-01-08T12:27:13.171Z"
   },
   {
    "duration": 45,
    "start_time": "2023-01-08T12:27:32.750Z"
   },
   {
    "duration": 393,
    "start_time": "2023-01-08T12:27:41.716Z"
   },
   {
    "duration": 7,
    "start_time": "2023-01-08T12:27:45.053Z"
   },
   {
    "duration": 8,
    "start_time": "2023-01-08T12:27:45.474Z"
   },
   {
    "duration": 142,
    "start_time": "2023-01-08T12:27:46.234Z"
   },
   {
    "duration": 7,
    "start_time": "2023-01-08T12:27:46.883Z"
   },
   {
    "duration": 148,
    "start_time": "2023-01-08T12:28:27.380Z"
   },
   {
    "duration": 1073,
    "start_time": "2023-01-08T12:55:45.313Z"
   },
   {
    "duration": 49,
    "start_time": "2023-01-08T12:55:46.388Z"
   },
   {
    "duration": 18,
    "start_time": "2023-01-08T12:55:46.439Z"
   },
   {
    "duration": 11,
    "start_time": "2023-01-08T12:55:46.458Z"
   },
   {
    "duration": 7,
    "start_time": "2023-01-08T12:55:46.470Z"
   },
   {
    "duration": 16,
    "start_time": "2023-01-08T12:55:46.479Z"
   },
   {
    "duration": 42,
    "start_time": "2023-01-08T12:55:46.497Z"
   },
   {
    "duration": 6,
    "start_time": "2023-01-08T12:55:46.540Z"
   },
   {
    "duration": 390,
    "start_time": "2023-01-08T12:55:46.549Z"
   },
   {
    "duration": 6,
    "start_time": "2023-01-08T12:55:46.941Z"
   },
   {
    "duration": 9,
    "start_time": "2023-01-08T12:55:46.949Z"
   },
   {
    "duration": 177,
    "start_time": "2023-01-08T12:55:46.959Z"
   },
   {
    "duration": 6,
    "start_time": "2023-01-08T12:55:47.138Z"
   },
   {
    "duration": 1211,
    "start_time": "2023-01-08T13:00:33.796Z"
   },
   {
    "duration": 41,
    "start_time": "2023-01-08T13:00:35.010Z"
   },
   {
    "duration": 21,
    "start_time": "2023-01-08T13:00:35.053Z"
   },
   {
    "duration": 12,
    "start_time": "2023-01-08T13:00:35.077Z"
   },
   {
    "duration": 26,
    "start_time": "2023-01-08T13:00:35.091Z"
   },
   {
    "duration": 21,
    "start_time": "2023-01-08T13:00:35.118Z"
   },
   {
    "duration": 37,
    "start_time": "2023-01-08T13:00:35.141Z"
   },
   {
    "duration": 5,
    "start_time": "2023-01-08T13:00:35.180Z"
   },
   {
    "duration": 407,
    "start_time": "2023-01-08T13:00:35.187Z"
   },
   {
    "duration": 13,
    "start_time": "2023-01-08T13:00:35.598Z"
   },
   {
    "duration": 12,
    "start_time": "2023-01-08T13:00:35.614Z"
   },
   {
    "duration": 202,
    "start_time": "2023-01-08T13:00:35.629Z"
   },
   {
    "duration": 5,
    "start_time": "2023-01-08T13:00:35.833Z"
   },
   {
    "duration": 5,
    "start_time": "2023-01-08T13:12:27.815Z"
   },
   {
    "duration": 11,
    "start_time": "2023-01-08T13:12:33.929Z"
   },
   {
    "duration": 1165,
    "start_time": "2023-01-08T13:33:25.755Z"
   },
   {
    "duration": 40,
    "start_time": "2023-01-08T13:33:26.921Z"
   },
   {
    "duration": 18,
    "start_time": "2023-01-08T13:33:26.962Z"
   },
   {
    "duration": 12,
    "start_time": "2023-01-08T13:33:26.982Z"
   },
   {
    "duration": 26,
    "start_time": "2023-01-08T13:33:26.995Z"
   },
   {
    "duration": 64,
    "start_time": "2023-01-08T13:33:27.022Z"
   },
   {
    "duration": 57,
    "start_time": "2023-01-08T13:33:27.088Z"
   },
   {
    "duration": 72,
    "start_time": "2023-01-08T13:33:27.146Z"
   },
   {
    "duration": 433,
    "start_time": "2023-01-08T13:33:27.219Z"
   },
   {
    "duration": 5,
    "start_time": "2023-01-08T13:33:27.654Z"
   },
   {
    "duration": 69,
    "start_time": "2023-01-08T13:33:27.661Z"
   },
   {
    "duration": 172,
    "start_time": "2023-01-08T13:33:27.732Z"
   },
   {
    "duration": 5,
    "start_time": "2023-01-08T13:33:27.908Z"
   },
   {
    "duration": 52,
    "start_time": "2023-01-08T13:33:27.915Z"
   },
   {
    "duration": 11,
    "start_time": "2023-01-08T13:47:13.671Z"
   },
   {
    "duration": 12,
    "start_time": "2023-01-08T13:49:25.970Z"
   },
   {
    "duration": 13,
    "start_time": "2023-01-08T13:49:40.189Z"
   },
   {
    "duration": 27,
    "start_time": "2023-01-08T13:49:45.087Z"
   },
   {
    "duration": 1037,
    "start_time": "2023-01-08T13:50:31.809Z"
   },
   {
    "duration": 40,
    "start_time": "2023-01-08T13:50:32.848Z"
   },
   {
    "duration": 24,
    "start_time": "2023-01-08T13:50:32.889Z"
   },
   {
    "duration": 24,
    "start_time": "2023-01-08T13:50:32.915Z"
   },
   {
    "duration": 20,
    "start_time": "2023-01-08T13:50:32.940Z"
   },
   {
    "duration": 30,
    "start_time": "2023-01-08T13:50:32.961Z"
   },
   {
    "duration": 65,
    "start_time": "2023-01-08T13:50:32.992Z"
   },
   {
    "duration": 7,
    "start_time": "2023-01-08T13:50:33.058Z"
   },
   {
    "duration": 417,
    "start_time": "2023-01-08T13:50:33.066Z"
   },
   {
    "duration": 12,
    "start_time": "2023-01-08T13:50:33.486Z"
   },
   {
    "duration": 18,
    "start_time": "2023-01-08T13:50:33.500Z"
   },
   {
    "duration": 181,
    "start_time": "2023-01-08T13:50:33.519Z"
   },
   {
    "duration": 6,
    "start_time": "2023-01-08T13:50:33.702Z"
   },
   {
    "duration": 11,
    "start_time": "2023-01-08T13:50:33.716Z"
   },
   {
    "duration": 18,
    "start_time": "2023-01-08T13:50:33.729Z"
   },
   {
    "duration": 17,
    "start_time": "2023-01-08T13:50:33.749Z"
   },
   {
    "duration": 14,
    "start_time": "2023-01-08T13:50:33.768Z"
   },
   {
    "duration": 1056,
    "start_time": "2023-01-08T13:55:26.110Z"
   },
   {
    "duration": 45,
    "start_time": "2023-01-08T13:55:27.168Z"
   },
   {
    "duration": 18,
    "start_time": "2023-01-08T13:55:27.215Z"
   },
   {
    "duration": 12,
    "start_time": "2023-01-08T13:55:27.235Z"
   },
   {
    "duration": 6,
    "start_time": "2023-01-08T13:55:27.248Z"
   },
   {
    "duration": 19,
    "start_time": "2023-01-08T13:55:27.255Z"
   },
   {
    "duration": 63,
    "start_time": "2023-01-08T13:55:27.275Z"
   },
   {
    "duration": 5,
    "start_time": "2023-01-08T13:55:27.340Z"
   },
   {
    "duration": 407,
    "start_time": "2023-01-08T13:55:27.347Z"
   },
   {
    "duration": 6,
    "start_time": "2023-01-08T13:55:27.756Z"
   },
   {
    "duration": 11,
    "start_time": "2023-01-08T13:55:27.763Z"
   },
   {
    "duration": 188,
    "start_time": "2023-01-08T13:55:27.775Z"
   },
   {
    "duration": 4,
    "start_time": "2023-01-08T13:55:27.965Z"
   },
   {
    "duration": 16,
    "start_time": "2023-01-08T13:55:27.970Z"
   },
   {
    "duration": 28,
    "start_time": "2023-01-08T13:55:28.005Z"
   },
   {
    "duration": 16,
    "start_time": "2023-01-08T13:55:28.035Z"
   },
   {
    "duration": 7,
    "start_time": "2023-01-08T13:55:28.052Z"
   },
   {
    "duration": 11,
    "start_time": "2023-01-08T14:01:57.517Z"
   },
   {
    "duration": 4,
    "start_time": "2023-01-08T14:02:04.528Z"
   },
   {
    "duration": 58,
    "start_time": "2023-01-08T14:07:11.434Z"
   },
   {
    "duration": 1003,
    "start_time": "2023-01-08T14:23:16.553Z"
   },
   {
    "duration": 39,
    "start_time": "2023-01-08T14:23:17.558Z"
   },
   {
    "duration": 20,
    "start_time": "2023-01-08T14:23:17.608Z"
   },
   {
    "duration": 12,
    "start_time": "2023-01-08T14:23:17.629Z"
   },
   {
    "duration": 4,
    "start_time": "2023-01-08T14:23:17.643Z"
   },
   {
    "duration": 18,
    "start_time": "2023-01-08T14:23:17.649Z"
   },
   {
    "duration": 46,
    "start_time": "2023-01-08T14:23:17.669Z"
   },
   {
    "duration": 6,
    "start_time": "2023-01-08T14:23:17.716Z"
   },
   {
    "duration": 414,
    "start_time": "2023-01-08T14:23:17.723Z"
   },
   {
    "duration": 6,
    "start_time": "2023-01-08T14:23:18.139Z"
   },
   {
    "duration": 9,
    "start_time": "2023-01-08T14:23:18.146Z"
   },
   {
    "duration": 169,
    "start_time": "2023-01-08T14:23:18.156Z"
   },
   {
    "duration": 4,
    "start_time": "2023-01-08T14:23:18.327Z"
   },
   {
    "duration": 13,
    "start_time": "2023-01-08T14:23:18.333Z"
   },
   {
    "duration": 23,
    "start_time": "2023-01-08T14:23:18.347Z"
   },
   {
    "duration": 14,
    "start_time": "2023-01-08T14:23:18.371Z"
   },
   {
    "duration": 23,
    "start_time": "2023-01-08T14:23:18.386Z"
   },
   {
    "duration": 5,
    "start_time": "2023-01-08T14:23:18.411Z"
   },
   {
    "duration": 47,
    "start_time": "2023-01-08T14:25:50.411Z"
   },
   {
    "duration": 1011,
    "start_time": "2023-01-08T14:36:33.039Z"
   },
   {
    "duration": 40,
    "start_time": "2023-01-08T14:36:34.052Z"
   },
   {
    "duration": 17,
    "start_time": "2023-01-08T14:36:34.093Z"
   },
   {
    "duration": 11,
    "start_time": "2023-01-08T14:36:34.112Z"
   },
   {
    "duration": 6,
    "start_time": "2023-01-08T14:36:34.124Z"
   },
   {
    "duration": 13,
    "start_time": "2023-01-08T14:36:34.131Z"
   },
   {
    "duration": 55,
    "start_time": "2023-01-08T14:36:34.146Z"
   },
   {
    "duration": 5,
    "start_time": "2023-01-08T14:36:34.202Z"
   },
   {
    "duration": 394,
    "start_time": "2023-01-08T14:36:34.209Z"
   },
   {
    "duration": 9,
    "start_time": "2023-01-08T14:36:34.606Z"
   },
   {
    "duration": 17,
    "start_time": "2023-01-08T14:36:34.617Z"
   },
   {
    "duration": 224,
    "start_time": "2023-01-08T14:36:34.635Z"
   },
   {
    "duration": 5,
    "start_time": "2023-01-08T14:36:34.862Z"
   },
   {
    "duration": 33,
    "start_time": "2023-01-08T14:36:34.870Z"
   },
   {
    "duration": 23,
    "start_time": "2023-01-08T14:36:34.904Z"
   },
   {
    "duration": 23,
    "start_time": "2023-01-08T14:36:34.929Z"
   },
   {
    "duration": 13,
    "start_time": "2023-01-08T14:36:34.954Z"
   },
   {
    "duration": 14,
    "start_time": "2023-01-08T14:36:34.970Z"
   },
   {
    "duration": 162,
    "start_time": "2023-01-08T14:37:27.024Z"
   },
   {
    "duration": 146,
    "start_time": "2023-01-08T14:37:43.639Z"
   },
   {
    "duration": 221,
    "start_time": "2023-01-08T14:38:04.324Z"
   },
   {
    "duration": 147,
    "start_time": "2023-01-08T14:38:22.292Z"
   },
   {
    "duration": 150,
    "start_time": "2023-01-08T14:38:34.847Z"
   },
   {
    "duration": 186,
    "start_time": "2023-01-08T14:39:41.689Z"
   },
   {
    "duration": 1084,
    "start_time": "2023-01-08T14:39:46.369Z"
   },
   {
    "duration": 40,
    "start_time": "2023-01-08T14:39:47.455Z"
   },
   {
    "duration": 17,
    "start_time": "2023-01-08T14:39:47.497Z"
   },
   {
    "duration": 10,
    "start_time": "2023-01-08T14:39:47.516Z"
   },
   {
    "duration": 15,
    "start_time": "2023-01-08T14:39:47.529Z"
   },
   {
    "duration": 14,
    "start_time": "2023-01-08T14:39:47.545Z"
   },
   {
    "duration": 48,
    "start_time": "2023-01-08T14:39:47.560Z"
   },
   {
    "duration": 5,
    "start_time": "2023-01-08T14:39:47.610Z"
   },
   {
    "duration": 388,
    "start_time": "2023-01-08T14:39:47.616Z"
   },
   {
    "duration": 6,
    "start_time": "2023-01-08T14:39:48.006Z"
   },
   {
    "duration": 7,
    "start_time": "2023-01-08T14:39:48.013Z"
   },
   {
    "duration": 175,
    "start_time": "2023-01-08T14:39:48.022Z"
   },
   {
    "duration": 3,
    "start_time": "2023-01-08T14:39:48.199Z"
   },
   {
    "duration": 13,
    "start_time": "2023-01-08T14:39:48.204Z"
   },
   {
    "duration": 17,
    "start_time": "2023-01-08T14:39:48.218Z"
   },
   {
    "duration": 9,
    "start_time": "2023-01-08T14:39:48.236Z"
   },
   {
    "duration": 7,
    "start_time": "2023-01-08T14:39:48.246Z"
   },
   {
    "duration": 7,
    "start_time": "2023-01-08T14:39:48.254Z"
   },
   {
    "duration": 1042,
    "start_time": "2023-01-08T15:45:29.151Z"
   },
   {
    "duration": 85,
    "start_time": "2023-01-08T15:45:30.195Z"
   },
   {
    "duration": 17,
    "start_time": "2023-01-08T15:45:30.282Z"
   },
   {
    "duration": 26,
    "start_time": "2023-01-08T15:45:30.300Z"
   },
   {
    "duration": 25,
    "start_time": "2023-01-08T15:45:30.327Z"
   },
   {
    "duration": 46,
    "start_time": "2023-01-08T15:45:30.353Z"
   },
   {
    "duration": 51,
    "start_time": "2023-01-08T15:45:30.401Z"
   },
   {
    "duration": 5,
    "start_time": "2023-01-08T15:45:30.454Z"
   },
   {
    "duration": 573,
    "start_time": "2023-01-08T15:45:30.460Z"
   },
   {
    "duration": 6,
    "start_time": "2023-01-08T15:45:31.035Z"
   },
   {
    "duration": 38,
    "start_time": "2023-01-08T15:45:31.043Z"
   },
   {
    "duration": 219,
    "start_time": "2023-01-08T15:45:31.082Z"
   },
   {
    "duration": 4,
    "start_time": "2023-01-08T15:45:31.303Z"
   },
   {
    "duration": 36,
    "start_time": "2023-01-08T15:45:31.308Z"
   },
   {
    "duration": 33,
    "start_time": "2023-01-08T15:45:31.346Z"
   },
   {
    "duration": 29,
    "start_time": "2023-01-08T15:45:31.381Z"
   },
   {
    "duration": 36,
    "start_time": "2023-01-08T15:45:31.412Z"
   },
   {
    "duration": 20,
    "start_time": "2023-01-08T15:45:31.449Z"
   },
   {
    "duration": 8,
    "start_time": "2023-01-08T15:46:32.828Z"
   },
   {
    "duration": 4,
    "start_time": "2023-01-08T15:47:53.785Z"
   },
   {
    "duration": 20,
    "start_time": "2023-01-08T15:48:05.354Z"
   },
   {
    "duration": 5,
    "start_time": "2023-01-08T15:49:00.870Z"
   },
   {
    "duration": 6,
    "start_time": "2023-01-08T15:50:11.401Z"
   },
   {
    "duration": 11,
    "start_time": "2023-01-08T15:50:30.603Z"
   },
   {
    "duration": 4,
    "start_time": "2023-01-08T15:50:43.922Z"
   },
   {
    "duration": 4,
    "start_time": "2023-01-08T15:51:16.234Z"
   },
   {
    "duration": 1148,
    "start_time": "2023-01-09T14:53:39.667Z"
   },
   {
    "duration": 365,
    "start_time": "2023-01-09T14:53:40.817Z"
   },
   {
    "duration": 20,
    "start_time": "2023-01-09T14:53:41.183Z"
   },
   {
    "duration": 18,
    "start_time": "2023-01-09T14:53:41.205Z"
   },
   {
    "duration": 9,
    "start_time": "2023-01-09T14:53:41.224Z"
   },
   {
    "duration": 18,
    "start_time": "2023-01-09T14:53:41.235Z"
   },
   {
    "duration": 40,
    "start_time": "2023-01-09T14:53:41.254Z"
   },
   {
    "duration": 5,
    "start_time": "2023-01-09T14:53:41.296Z"
   },
   {
    "duration": 620,
    "start_time": "2023-01-09T14:53:41.312Z"
   },
   {
    "duration": 7,
    "start_time": "2023-01-09T14:53:41.935Z"
   },
   {
    "duration": 11,
    "start_time": "2023-01-09T14:53:41.943Z"
   },
   {
    "duration": 194,
    "start_time": "2023-01-09T14:53:41.955Z"
   },
   {
    "duration": 4,
    "start_time": "2023-01-09T14:53:42.151Z"
   },
   {
    "duration": 17,
    "start_time": "2023-01-09T14:53:42.156Z"
   },
   {
    "duration": 13,
    "start_time": "2023-01-09T14:53:42.175Z"
   },
   {
    "duration": 27,
    "start_time": "2023-01-09T14:53:42.189Z"
   },
   {
    "duration": 4,
    "start_time": "2023-01-09T14:53:42.218Z"
   },
   {
    "duration": 17,
    "start_time": "2023-01-09T14:53:42.223Z"
   },
   {
    "duration": 15,
    "start_time": "2023-01-09T14:53:42.241Z"
   },
   {
    "duration": 10,
    "start_time": "2023-01-09T14:53:42.258Z"
   },
   {
    "duration": 12,
    "start_time": "2023-01-09T14:53:42.270Z"
   },
   {
    "duration": 11,
    "start_time": "2023-01-09T14:53:42.284Z"
   },
   {
    "duration": 16,
    "start_time": "2023-01-09T14:53:42.297Z"
   },
   {
    "duration": 6,
    "start_time": "2023-01-09T14:56:58.780Z"
   },
   {
    "duration": 1085,
    "start_time": "2023-01-09T16:42:33.173Z"
   },
   {
    "duration": 42,
    "start_time": "2023-01-09T16:42:34.260Z"
   },
   {
    "duration": 20,
    "start_time": "2023-01-09T16:42:34.304Z"
   },
   {
    "duration": 14,
    "start_time": "2023-01-09T16:42:34.325Z"
   },
   {
    "duration": 5,
    "start_time": "2023-01-09T16:42:34.341Z"
   },
   {
    "duration": 15,
    "start_time": "2023-01-09T16:42:34.347Z"
   },
   {
    "duration": 65,
    "start_time": "2023-01-09T16:42:34.363Z"
   },
   {
    "duration": 6,
    "start_time": "2023-01-09T16:42:34.430Z"
   },
   {
    "duration": 504,
    "start_time": "2023-01-09T16:42:34.438Z"
   },
   {
    "duration": 8,
    "start_time": "2023-01-09T16:42:34.944Z"
   },
   {
    "duration": 8,
    "start_time": "2023-01-09T16:42:34.953Z"
   },
   {
    "duration": 200,
    "start_time": "2023-01-09T16:42:34.963Z"
   },
   {
    "duration": 5,
    "start_time": "2023-01-09T16:42:35.165Z"
   },
   {
    "duration": 15,
    "start_time": "2023-01-09T16:42:35.173Z"
   },
   {
    "duration": 28,
    "start_time": "2023-01-09T16:42:35.190Z"
   },
   {
    "duration": 12,
    "start_time": "2023-01-09T16:42:35.220Z"
   },
   {
    "duration": 6,
    "start_time": "2023-01-09T16:42:35.234Z"
   },
   {
    "duration": 7,
    "start_time": "2023-01-09T16:42:35.241Z"
   },
   {
    "duration": 5,
    "start_time": "2023-01-09T16:42:35.249Z"
   },
   {
    "duration": 7,
    "start_time": "2023-01-09T16:42:35.255Z"
   },
   {
    "duration": 10,
    "start_time": "2023-01-09T16:42:35.264Z"
   },
   {
    "duration": 5,
    "start_time": "2023-01-09T16:42:35.276Z"
   },
   {
    "duration": 6,
    "start_time": "2023-01-09T16:42:35.314Z"
   },
   {
    "duration": 1088,
    "start_time": "2023-01-09T16:43:11.731Z"
   },
   {
    "duration": 42,
    "start_time": "2023-01-09T16:43:12.820Z"
   },
   {
    "duration": 19,
    "start_time": "2023-01-09T16:43:12.864Z"
   },
   {
    "duration": 12,
    "start_time": "2023-01-09T16:43:12.885Z"
   },
   {
    "duration": 8,
    "start_time": "2023-01-09T16:43:12.899Z"
   },
   {
    "duration": 20,
    "start_time": "2023-01-09T16:43:12.908Z"
   },
   {
    "duration": 43,
    "start_time": "2023-01-09T16:43:12.929Z"
   },
   {
    "duration": 6,
    "start_time": "2023-01-09T16:43:12.974Z"
   },
   {
    "duration": 466,
    "start_time": "2023-01-09T16:43:12.982Z"
   },
   {
    "duration": 6,
    "start_time": "2023-01-09T16:43:13.452Z"
   },
   {
    "duration": 9,
    "start_time": "2023-01-09T16:43:13.460Z"
   },
   {
    "duration": 200,
    "start_time": "2023-01-09T16:43:13.471Z"
   },
   {
    "duration": 4,
    "start_time": "2023-01-09T16:43:13.673Z"
   },
   {
    "duration": 15,
    "start_time": "2023-01-09T16:43:13.678Z"
   },
   {
    "duration": 23,
    "start_time": "2023-01-09T16:43:13.694Z"
   },
   {
    "duration": 11,
    "start_time": "2023-01-09T16:43:13.718Z"
   },
   {
    "duration": 6,
    "start_time": "2023-01-09T16:43:13.730Z"
   },
   {
    "duration": 8,
    "start_time": "2023-01-09T16:43:13.737Z"
   },
   {
    "duration": 5,
    "start_time": "2023-01-09T16:43:13.746Z"
   },
   {
    "duration": 6,
    "start_time": "2023-01-09T16:43:13.753Z"
   },
   {
    "duration": 7,
    "start_time": "2023-01-09T16:43:13.760Z"
   },
   {
    "duration": 5,
    "start_time": "2023-01-09T16:43:13.769Z"
   },
   {
    "duration": 39,
    "start_time": "2023-01-09T16:43:13.775Z"
   },
   {
    "duration": 1099,
    "start_time": "2023-01-09T16:43:20.051Z"
   },
   {
    "duration": 43,
    "start_time": "2023-01-09T16:43:21.152Z"
   },
   {
    "duration": 22,
    "start_time": "2023-01-09T16:43:21.197Z"
   },
   {
    "duration": 12,
    "start_time": "2023-01-09T16:43:21.221Z"
   },
   {
    "duration": 7,
    "start_time": "2023-01-09T16:43:21.235Z"
   },
   {
    "duration": 15,
    "start_time": "2023-01-09T16:43:21.243Z"
   },
   {
    "duration": 59,
    "start_time": "2023-01-09T16:43:21.260Z"
   },
   {
    "duration": 6,
    "start_time": "2023-01-09T16:43:21.320Z"
   },
   {
    "duration": 444,
    "start_time": "2023-01-09T16:43:21.328Z"
   },
   {
    "duration": 6,
    "start_time": "2023-01-09T16:43:21.773Z"
   },
   {
    "duration": 9,
    "start_time": "2023-01-09T16:43:21.781Z"
   },
   {
    "duration": 200,
    "start_time": "2023-01-09T16:43:21.791Z"
   },
   {
    "duration": 5,
    "start_time": "2023-01-09T16:43:21.992Z"
   },
   {
    "duration": 14,
    "start_time": "2023-01-09T16:43:21.999Z"
   },
   {
    "duration": 12,
    "start_time": "2023-01-09T16:43:22.015Z"
   },
   {
    "duration": 12,
    "start_time": "2023-01-09T16:43:22.028Z"
   },
   {
    "duration": 12,
    "start_time": "2023-01-09T16:43:22.041Z"
   },
   {
    "duration": 19,
    "start_time": "2023-01-09T16:43:22.055Z"
   },
   {
    "duration": 16,
    "start_time": "2023-01-09T16:43:22.076Z"
   },
   {
    "duration": 8,
    "start_time": "2023-01-09T16:43:22.094Z"
   },
   {
    "duration": 9,
    "start_time": "2023-01-09T16:43:22.104Z"
   },
   {
    "duration": 16,
    "start_time": "2023-01-09T16:43:22.114Z"
   },
   {
    "duration": 7,
    "start_time": "2023-01-09T16:43:22.132Z"
   },
   {
    "duration": 208,
    "start_time": "2023-01-09T16:44:28.182Z"
   },
   {
    "duration": 184,
    "start_time": "2023-01-09T16:44:33.787Z"
   },
   {
    "duration": 48,
    "start_time": "2023-01-10T11:53:32.783Z"
   },
   {
    "duration": 1091,
    "start_time": "2023-01-10T11:53:37.714Z"
   },
   {
    "duration": 93,
    "start_time": "2023-01-10T11:53:38.807Z"
   },
   {
    "duration": 19,
    "start_time": "2023-01-10T11:53:38.907Z"
   },
   {
    "duration": 13,
    "start_time": "2023-01-10T11:53:38.928Z"
   },
   {
    "duration": 15,
    "start_time": "2023-01-10T11:53:38.942Z"
   },
   {
    "duration": 21,
    "start_time": "2023-01-10T11:53:38.959Z"
   },
   {
    "duration": 50,
    "start_time": "2023-01-10T11:53:38.981Z"
   },
   {
    "duration": 6,
    "start_time": "2023-01-10T11:53:39.032Z"
   },
   {
    "duration": 655,
    "start_time": "2023-01-10T11:53:39.039Z"
   },
   {
    "duration": 6,
    "start_time": "2023-01-10T11:53:39.696Z"
   },
   {
    "duration": 19,
    "start_time": "2023-01-10T11:53:39.704Z"
   },
   {
    "duration": 225,
    "start_time": "2023-01-10T11:53:39.725Z"
   },
   {
    "duration": 6,
    "start_time": "2023-01-10T11:53:39.953Z"
   },
   {
    "duration": 29,
    "start_time": "2023-01-10T11:53:39.961Z"
   },
   {
    "duration": 42,
    "start_time": "2023-01-10T11:53:39.992Z"
   },
   {
    "duration": 21,
    "start_time": "2023-01-10T11:53:40.036Z"
   },
   {
    "duration": 21,
    "start_time": "2023-01-10T11:53:40.059Z"
   },
   {
    "duration": 21,
    "start_time": "2023-01-10T11:53:40.082Z"
   },
   {
    "duration": 17,
    "start_time": "2023-01-10T11:53:40.105Z"
   },
   {
    "duration": 22,
    "start_time": "2023-01-10T11:53:40.124Z"
   },
   {
    "duration": 14,
    "start_time": "2023-01-10T11:53:40.148Z"
   },
   {
    "duration": 13,
    "start_time": "2023-01-10T11:53:40.163Z"
   },
   {
    "duration": 124,
    "start_time": "2023-01-10T11:53:40.177Z"
   },
   {
    "duration": 0,
    "start_time": "2023-01-10T11:53:40.303Z"
   },
   {
    "duration": 26,
    "start_time": "2023-01-10T11:53:46.548Z"
   },
   {
    "duration": 24,
    "start_time": "2023-01-10T11:54:47.366Z"
   },
   {
    "duration": 4,
    "start_time": "2023-01-10T11:55:15.903Z"
   },
   {
    "duration": 1113,
    "start_time": "2023-01-10T11:55:18.532Z"
   },
   {
    "duration": 41,
    "start_time": "2023-01-10T11:55:19.647Z"
   },
   {
    "duration": 20,
    "start_time": "2023-01-10T11:55:19.690Z"
   },
   {
    "duration": 22,
    "start_time": "2023-01-10T11:55:19.712Z"
   },
   {
    "duration": 24,
    "start_time": "2023-01-10T11:55:19.736Z"
   },
   {
    "duration": 23,
    "start_time": "2023-01-10T11:55:19.762Z"
   },
   {
    "duration": 55,
    "start_time": "2023-01-10T11:55:19.787Z"
   },
   {
    "duration": 6,
    "start_time": "2023-01-10T11:55:19.844Z"
   },
   {
    "duration": 447,
    "start_time": "2023-01-10T11:55:19.852Z"
   },
   {
    "duration": 7,
    "start_time": "2023-01-10T11:55:20.301Z"
   },
   {
    "duration": 20,
    "start_time": "2023-01-10T11:55:20.315Z"
   },
   {
    "duration": 198,
    "start_time": "2023-01-10T11:55:20.337Z"
   },
   {
    "duration": 4,
    "start_time": "2023-01-10T11:55:20.536Z"
   },
   {
    "duration": 21,
    "start_time": "2023-01-10T11:55:20.543Z"
   },
   {
    "duration": 14,
    "start_time": "2023-01-10T11:55:20.565Z"
   },
   {
    "duration": 10,
    "start_time": "2023-01-10T11:55:20.582Z"
   },
   {
    "duration": 12,
    "start_time": "2023-01-10T11:55:20.594Z"
   },
   {
    "duration": 30,
    "start_time": "2023-01-10T11:55:20.608Z"
   },
   {
    "duration": 6,
    "start_time": "2023-01-10T11:55:20.640Z"
   },
   {
    "duration": 6,
    "start_time": "2023-01-10T11:55:20.648Z"
   },
   {
    "duration": 10,
    "start_time": "2023-01-10T11:55:20.656Z"
   },
   {
    "duration": 6,
    "start_time": "2023-01-10T11:55:20.667Z"
   },
   {
    "duration": 27,
    "start_time": "2023-01-10T11:55:20.674Z"
   },
   {
    "duration": 24,
    "start_time": "2023-01-10T11:55:20.702Z"
   },
   {
    "duration": 136,
    "start_time": "2023-01-10T11:55:38.504Z"
   },
   {
    "duration": 32,
    "start_time": "2023-01-10T11:55:45.466Z"
   },
   {
    "duration": 27,
    "start_time": "2023-01-10T11:56:46.976Z"
   },
   {
    "duration": 1086,
    "start_time": "2023-01-10T11:57:15.852Z"
   },
   {
    "duration": 42,
    "start_time": "2023-01-10T11:57:16.940Z"
   },
   {
    "duration": 18,
    "start_time": "2023-01-10T11:57:16.984Z"
   },
   {
    "duration": 12,
    "start_time": "2023-01-10T11:57:17.004Z"
   },
   {
    "duration": 5,
    "start_time": "2023-01-10T11:57:17.018Z"
   },
   {
    "duration": 23,
    "start_time": "2023-01-10T11:57:17.024Z"
   },
   {
    "duration": 43,
    "start_time": "2023-01-10T11:57:17.048Z"
   },
   {
    "duration": 6,
    "start_time": "2023-01-10T11:57:17.093Z"
   },
   {
    "duration": 458,
    "start_time": "2023-01-10T11:57:17.115Z"
   },
   {
    "duration": 6,
    "start_time": "2023-01-10T11:57:17.575Z"
   },
   {
    "duration": 9,
    "start_time": "2023-01-10T11:57:17.582Z"
   },
   {
    "duration": 197,
    "start_time": "2023-01-10T11:57:17.593Z"
   },
   {
    "duration": 4,
    "start_time": "2023-01-10T11:57:17.792Z"
   },
   {
    "duration": 25,
    "start_time": "2023-01-10T11:57:17.799Z"
   },
   {
    "duration": 10,
    "start_time": "2023-01-10T11:57:17.825Z"
   },
   {
    "duration": 11,
    "start_time": "2023-01-10T11:57:17.837Z"
   },
   {
    "duration": 21,
    "start_time": "2023-01-10T11:57:17.850Z"
   },
   {
    "duration": 11,
    "start_time": "2023-01-10T11:57:17.873Z"
   },
   {
    "duration": 7,
    "start_time": "2023-01-10T11:57:17.886Z"
   },
   {
    "duration": 8,
    "start_time": "2023-01-10T11:57:17.895Z"
   },
   {
    "duration": 11,
    "start_time": "2023-01-10T11:57:17.904Z"
   },
   {
    "duration": 7,
    "start_time": "2023-01-10T11:57:17.917Z"
   },
   {
    "duration": 31,
    "start_time": "2023-01-10T11:57:17.925Z"
   },
   {
    "duration": 5,
    "start_time": "2023-01-10T11:57:17.958Z"
   },
   {
    "duration": 1053,
    "start_time": "2023-01-10T11:59:10.836Z"
   },
   {
    "duration": 39,
    "start_time": "2023-01-10T11:59:11.891Z"
   },
   {
    "duration": 18,
    "start_time": "2023-01-10T11:59:11.932Z"
   },
   {
    "duration": 15,
    "start_time": "2023-01-10T11:59:11.951Z"
   },
   {
    "duration": 6,
    "start_time": "2023-01-10T11:59:11.968Z"
   },
   {
    "duration": 31,
    "start_time": "2023-01-10T11:59:11.975Z"
   },
   {
    "duration": 64,
    "start_time": "2023-01-10T11:59:12.008Z"
   },
   {
    "duration": 7,
    "start_time": "2023-01-10T11:59:12.079Z"
   },
   {
    "duration": 444,
    "start_time": "2023-01-10T11:59:12.088Z"
   },
   {
    "duration": 7,
    "start_time": "2023-01-10T11:59:12.534Z"
   },
   {
    "duration": 22,
    "start_time": "2023-01-10T11:59:12.542Z"
   },
   {
    "duration": 205,
    "start_time": "2023-01-10T11:59:12.565Z"
   },
   {
    "duration": 5,
    "start_time": "2023-01-10T11:59:12.772Z"
   },
   {
    "duration": 17,
    "start_time": "2023-01-10T11:59:12.779Z"
   },
   {
    "duration": 25,
    "start_time": "2023-01-10T11:59:12.798Z"
   },
   {
    "duration": 14,
    "start_time": "2023-01-10T11:59:12.825Z"
   },
   {
    "duration": 12,
    "start_time": "2023-01-10T11:59:12.841Z"
   },
   {
    "duration": 9,
    "start_time": "2023-01-10T11:59:12.855Z"
   },
   {
    "duration": 8,
    "start_time": "2023-01-10T11:59:12.865Z"
   },
   {
    "duration": 8,
    "start_time": "2023-01-10T11:59:12.875Z"
   },
   {
    "duration": 13,
    "start_time": "2023-01-10T11:59:12.885Z"
   },
   {
    "duration": 10,
    "start_time": "2023-01-10T11:59:12.900Z"
   },
   {
    "duration": 48,
    "start_time": "2023-01-10T11:59:12.916Z"
   },
   {
    "duration": 6,
    "start_time": "2023-01-10T11:59:12.966Z"
   },
   {
    "duration": 32,
    "start_time": "2023-01-10T12:01:03.277Z"
   },
   {
    "duration": 37,
    "start_time": "2023-01-10T12:01:05.989Z"
   },
   {
    "duration": 32,
    "start_time": "2023-01-10T12:01:09.648Z"
   },
   {
    "duration": 1071,
    "start_time": "2023-01-10T12:09:27.624Z"
   },
   {
    "duration": 38,
    "start_time": "2023-01-10T12:09:28.697Z"
   },
   {
    "duration": 17,
    "start_time": "2023-01-10T12:09:28.739Z"
   },
   {
    "duration": 12,
    "start_time": "2023-01-10T12:09:28.759Z"
   },
   {
    "duration": 6,
    "start_time": "2023-01-10T12:09:28.772Z"
   },
   {
    "duration": 17,
    "start_time": "2023-01-10T12:09:28.779Z"
   },
   {
    "duration": 57,
    "start_time": "2023-01-10T12:09:28.797Z"
   },
   {
    "duration": 5,
    "start_time": "2023-01-10T12:09:28.856Z"
   },
   {
    "duration": 404,
    "start_time": "2023-01-10T12:09:28.863Z"
   },
   {
    "duration": 7,
    "start_time": "2023-01-10T12:09:29.268Z"
   },
   {
    "duration": 8,
    "start_time": "2023-01-10T12:09:29.276Z"
   },
   {
    "duration": 186,
    "start_time": "2023-01-10T12:09:29.285Z"
   },
   {
    "duration": 4,
    "start_time": "2023-01-10T12:09:29.473Z"
   },
   {
    "duration": 17,
    "start_time": "2023-01-10T12:09:29.479Z"
   },
   {
    "duration": 33,
    "start_time": "2023-01-10T12:09:29.498Z"
   },
   {
    "duration": 12,
    "start_time": "2023-01-10T12:09:29.533Z"
   },
   {
    "duration": 6,
    "start_time": "2023-01-10T12:09:29.547Z"
   },
   {
    "duration": 16,
    "start_time": "2023-01-10T12:09:29.555Z"
   },
   {
    "duration": 6,
    "start_time": "2023-01-10T12:09:29.572Z"
   },
   {
    "duration": 8,
    "start_time": "2023-01-10T12:09:29.579Z"
   },
   {
    "duration": 9,
    "start_time": "2023-01-10T12:09:29.588Z"
   },
   {
    "duration": 10,
    "start_time": "2023-01-10T12:09:29.598Z"
   },
   {
    "duration": 37,
    "start_time": "2023-01-10T12:09:29.610Z"
   },
   {
    "duration": 5,
    "start_time": "2023-01-10T12:09:29.648Z"
   },
   {
    "duration": 1125,
    "start_time": "2023-01-10T12:09:45.922Z"
   },
   {
    "duration": 44,
    "start_time": "2023-01-10T12:09:47.049Z"
   },
   {
    "duration": 19,
    "start_time": "2023-01-10T12:09:47.094Z"
   },
   {
    "duration": 11,
    "start_time": "2023-01-10T12:09:47.115Z"
   },
   {
    "duration": 10,
    "start_time": "2023-01-10T12:09:47.128Z"
   },
   {
    "duration": 24,
    "start_time": "2023-01-10T12:09:47.139Z"
   },
   {
    "duration": 43,
    "start_time": "2023-01-10T12:09:47.165Z"
   },
   {
    "duration": 11,
    "start_time": "2023-01-10T12:09:47.209Z"
   },
   {
    "duration": 428,
    "start_time": "2023-01-10T12:09:47.222Z"
   },
   {
    "duration": 6,
    "start_time": "2023-01-10T12:09:47.652Z"
   },
   {
    "duration": 15,
    "start_time": "2023-01-10T12:09:47.659Z"
   },
   {
    "duration": 180,
    "start_time": "2023-01-10T12:09:47.676Z"
   },
   {
    "duration": 4,
    "start_time": "2023-01-10T12:09:47.857Z"
   },
   {
    "duration": 14,
    "start_time": "2023-01-10T12:09:47.863Z"
   },
   {
    "duration": 13,
    "start_time": "2023-01-10T12:09:47.879Z"
   },
   {
    "duration": 24,
    "start_time": "2023-01-10T12:09:47.894Z"
   },
   {
    "duration": 3,
    "start_time": "2023-01-10T12:09:47.920Z"
   },
   {
    "duration": 8,
    "start_time": "2023-01-10T12:09:47.924Z"
   },
   {
    "duration": 6,
    "start_time": "2023-01-10T12:09:47.933Z"
   },
   {
    "duration": 7,
    "start_time": "2023-01-10T12:09:47.940Z"
   },
   {
    "duration": 8,
    "start_time": "2023-01-10T12:09:47.948Z"
   },
   {
    "duration": 6,
    "start_time": "2023-01-10T12:09:47.957Z"
   },
   {
    "duration": 57,
    "start_time": "2023-01-10T12:09:47.964Z"
   },
   {
    "duration": 5,
    "start_time": "2023-01-10T12:09:48.023Z"
   },
   {
    "duration": 1094,
    "start_time": "2023-01-10T12:10:31.523Z"
   },
   {
    "duration": 40,
    "start_time": "2023-01-10T12:10:32.619Z"
   },
   {
    "duration": 19,
    "start_time": "2023-01-10T12:10:32.661Z"
   },
   {
    "duration": 13,
    "start_time": "2023-01-10T12:10:32.682Z"
   },
   {
    "duration": 7,
    "start_time": "2023-01-10T12:10:32.697Z"
   },
   {
    "duration": 18,
    "start_time": "2023-01-10T12:10:32.705Z"
   },
   {
    "duration": 38,
    "start_time": "2023-01-10T12:10:32.725Z"
   },
   {
    "duration": 5,
    "start_time": "2023-01-10T12:10:32.764Z"
   },
   {
    "duration": 405,
    "start_time": "2023-01-10T12:10:32.771Z"
   },
   {
    "duration": 6,
    "start_time": "2023-01-10T12:10:33.178Z"
   },
   {
    "duration": 10,
    "start_time": "2023-01-10T12:10:33.185Z"
   },
   {
    "duration": 184,
    "start_time": "2023-01-10T12:10:33.197Z"
   },
   {
    "duration": 4,
    "start_time": "2023-01-10T12:10:33.383Z"
   },
   {
    "duration": 28,
    "start_time": "2023-01-10T12:10:33.389Z"
   },
   {
    "duration": 13,
    "start_time": "2023-01-10T12:10:33.419Z"
   },
   {
    "duration": 13,
    "start_time": "2023-01-10T12:10:33.434Z"
   },
   {
    "duration": 5,
    "start_time": "2023-01-10T12:10:33.448Z"
   },
   {
    "duration": 7,
    "start_time": "2023-01-10T12:10:33.455Z"
   },
   {
    "duration": 4,
    "start_time": "2023-01-10T12:10:33.464Z"
   },
   {
    "duration": 8,
    "start_time": "2023-01-10T12:10:33.469Z"
   },
   {
    "duration": 30,
    "start_time": "2023-01-10T12:10:33.478Z"
   },
   {
    "duration": 17,
    "start_time": "2023-01-10T12:10:33.509Z"
   },
   {
    "duration": 54,
    "start_time": "2023-01-10T12:10:33.527Z"
   },
   {
    "duration": 5,
    "start_time": "2023-01-10T12:10:33.582Z"
   },
   {
    "duration": 41,
    "start_time": "2023-01-10T12:11:35.312Z"
   },
   {
    "duration": 34,
    "start_time": "2023-01-10T12:11:40.241Z"
   },
   {
    "duration": 117,
    "start_time": "2023-01-10T12:19:24.412Z"
   },
   {
    "duration": 8,
    "start_time": "2023-01-10T12:20:53.130Z"
   },
   {
    "duration": 5,
    "start_time": "2023-01-10T12:21:13.967Z"
   },
   {
    "duration": 7,
    "start_time": "2023-01-10T12:21:30.424Z"
   },
   {
    "duration": 1114,
    "start_time": "2023-01-10T12:23:29.433Z"
   },
   {
    "duration": 46,
    "start_time": "2023-01-10T12:23:30.549Z"
   },
   {
    "duration": 31,
    "start_time": "2023-01-10T12:23:30.597Z"
   },
   {
    "duration": 39,
    "start_time": "2023-01-10T12:23:30.631Z"
   },
   {
    "duration": 47,
    "start_time": "2023-01-10T12:23:30.673Z"
   },
   {
    "duration": 80,
    "start_time": "2023-01-10T12:23:30.722Z"
   },
   {
    "duration": 92,
    "start_time": "2023-01-10T12:23:30.804Z"
   },
   {
    "duration": 9,
    "start_time": "2023-01-10T12:23:30.898Z"
   },
   {
    "duration": 488,
    "start_time": "2023-01-10T12:23:30.909Z"
   },
   {
    "duration": 7,
    "start_time": "2023-01-10T12:23:31.399Z"
   },
   {
    "duration": 30,
    "start_time": "2023-01-10T12:23:31.418Z"
   },
   {
    "duration": 219,
    "start_time": "2023-01-10T12:23:31.450Z"
   },
   {
    "duration": 4,
    "start_time": "2023-01-10T12:23:31.670Z"
   },
   {
    "duration": 44,
    "start_time": "2023-01-10T12:23:31.677Z"
   },
   {
    "duration": 19,
    "start_time": "2023-01-10T12:23:31.728Z"
   },
   {
    "duration": 15,
    "start_time": "2023-01-10T12:23:31.749Z"
   },
   {
    "duration": 7,
    "start_time": "2023-01-10T12:23:31.766Z"
   },
   {
    "duration": 14,
    "start_time": "2023-01-10T12:23:31.775Z"
   },
   {
    "duration": 5,
    "start_time": "2023-01-10T12:23:31.790Z"
   },
   {
    "duration": 8,
    "start_time": "2023-01-10T12:23:31.797Z"
   },
   {
    "duration": 10,
    "start_time": "2023-01-10T12:23:31.807Z"
   },
   {
    "duration": 30,
    "start_time": "2023-01-10T12:23:31.824Z"
   },
   {
    "duration": 44,
    "start_time": "2023-01-10T12:23:31.855Z"
   },
   {
    "duration": 6,
    "start_time": "2023-01-10T12:23:31.900Z"
   },
   {
    "duration": 376,
    "start_time": "2023-01-10T12:29:12.829Z"
   },
   {
    "duration": 195,
    "start_time": "2023-01-10T12:29:25.436Z"
   },
   {
    "duration": 294,
    "start_time": "2023-01-10T12:29:40.827Z"
   },
   {
    "duration": 327,
    "start_time": "2023-01-10T12:29:48.695Z"
   },
   {
    "duration": 326,
    "start_time": "2023-01-10T12:30:13.094Z"
   },
   {
    "duration": 226,
    "start_time": "2023-01-10T12:30:19.596Z"
   },
   {
    "duration": 289,
    "start_time": "2023-01-10T12:31:12.726Z"
   },
   {
    "duration": 213,
    "start_time": "2023-01-10T12:31:27.204Z"
   },
   {
    "duration": 194,
    "start_time": "2023-01-10T12:31:37.525Z"
   },
   {
    "duration": 132,
    "start_time": "2023-01-10T12:31:57.187Z"
   },
   {
    "duration": 290,
    "start_time": "2023-01-10T12:34:53.226Z"
   },
   {
    "duration": 26,
    "start_time": "2023-01-10T12:36:24.323Z"
   },
   {
    "duration": 105,
    "start_time": "2023-01-10T12:36:29.414Z"
   },
   {
    "duration": 185,
    "start_time": "2023-01-10T12:36:34.534Z"
   },
   {
    "duration": 1122,
    "start_time": "2023-01-10T12:36:41.395Z"
   },
   {
    "duration": 44,
    "start_time": "2023-01-10T12:36:42.519Z"
   },
   {
    "duration": 20,
    "start_time": "2023-01-10T12:36:42.564Z"
   },
   {
    "duration": 15,
    "start_time": "2023-01-10T12:36:42.586Z"
   },
   {
    "duration": 5,
    "start_time": "2023-01-10T12:36:42.603Z"
   },
   {
    "duration": 15,
    "start_time": "2023-01-10T12:36:42.610Z"
   },
   {
    "duration": 38,
    "start_time": "2023-01-10T12:36:42.627Z"
   },
   {
    "duration": 7,
    "start_time": "2023-01-10T12:36:42.667Z"
   },
   {
    "duration": 439,
    "start_time": "2023-01-10T12:36:42.675Z"
   },
   {
    "duration": 6,
    "start_time": "2023-01-10T12:36:43.115Z"
   },
   {
    "duration": 10,
    "start_time": "2023-01-10T12:36:43.123Z"
   },
   {
    "duration": 237,
    "start_time": "2023-01-10T12:36:43.135Z"
   },
   {
    "duration": 5,
    "start_time": "2023-01-10T12:36:43.374Z"
   },
   {
    "duration": 16,
    "start_time": "2023-01-10T12:36:43.381Z"
   },
   {
    "duration": 14,
    "start_time": "2023-01-10T12:36:43.416Z"
   },
   {
    "duration": 17,
    "start_time": "2023-01-10T12:36:43.432Z"
   },
   {
    "duration": 9,
    "start_time": "2023-01-10T12:36:43.450Z"
   },
   {
    "duration": 6,
    "start_time": "2023-01-10T12:36:43.461Z"
   },
   {
    "duration": 7,
    "start_time": "2023-01-10T12:36:43.469Z"
   },
   {
    "duration": 38,
    "start_time": "2023-01-10T12:36:43.477Z"
   },
   {
    "duration": 7,
    "start_time": "2023-01-10T12:36:43.517Z"
   },
   {
    "duration": 8,
    "start_time": "2023-01-10T12:36:43.526Z"
   },
   {
    "duration": 38,
    "start_time": "2023-01-10T12:36:43.536Z"
   },
   {
    "duration": 142,
    "start_time": "2023-01-10T12:36:43.576Z"
   },
   {
    "duration": 8,
    "start_time": "2023-01-10T12:36:43.721Z"
   },
   {
    "duration": 1065,
    "start_time": "2023-01-10T12:36:59.859Z"
   },
   {
    "duration": 25,
    "start_time": "2023-01-10T12:37:10.451Z"
   },
   {
    "duration": 25,
    "start_time": "2023-01-10T12:37:21.740Z"
   },
   {
    "duration": 1064,
    "start_time": "2023-01-10T12:37:25.370Z"
   },
   {
    "duration": 47,
    "start_time": "2023-01-10T12:37:26.437Z"
   },
   {
    "duration": 25,
    "start_time": "2023-01-10T12:37:26.487Z"
   },
   {
    "duration": 22,
    "start_time": "2023-01-10T12:37:26.514Z"
   },
   {
    "duration": 8,
    "start_time": "2023-01-10T12:37:26.543Z"
   },
   {
    "duration": 26,
    "start_time": "2023-01-10T12:37:26.553Z"
   },
   {
    "duration": 44,
    "start_time": "2023-01-10T12:37:26.581Z"
   },
   {
    "duration": 6,
    "start_time": "2023-01-10T12:37:26.626Z"
   },
   {
    "duration": 419,
    "start_time": "2023-01-10T12:37:26.634Z"
   },
   {
    "duration": 7,
    "start_time": "2023-01-10T12:37:27.055Z"
   },
   {
    "duration": 13,
    "start_time": "2023-01-10T12:37:27.063Z"
   },
   {
    "duration": 193,
    "start_time": "2023-01-10T12:37:27.079Z"
   },
   {
    "duration": 5,
    "start_time": "2023-01-10T12:37:27.274Z"
   },
   {
    "duration": 23,
    "start_time": "2023-01-10T12:37:27.281Z"
   },
   {
    "duration": 18,
    "start_time": "2023-01-10T12:37:27.306Z"
   },
   {
    "duration": 14,
    "start_time": "2023-01-10T12:37:27.326Z"
   },
   {
    "duration": 11,
    "start_time": "2023-01-10T12:37:27.342Z"
   },
   {
    "duration": 8,
    "start_time": "2023-01-10T12:37:27.355Z"
   },
   {
    "duration": 10,
    "start_time": "2023-01-10T12:37:27.364Z"
   },
   {
    "duration": 9,
    "start_time": "2023-01-10T12:37:27.376Z"
   },
   {
    "duration": 12,
    "start_time": "2023-01-10T12:37:27.387Z"
   },
   {
    "duration": 17,
    "start_time": "2023-01-10T12:37:27.400Z"
   },
   {
    "duration": 39,
    "start_time": "2023-01-10T12:37:27.419Z"
   },
   {
    "duration": 157,
    "start_time": "2023-01-10T12:37:27.460Z"
   },
   {
    "duration": 6,
    "start_time": "2023-01-10T12:37:27.618Z"
   },
   {
    "duration": 74,
    "start_time": "2023-01-10T12:39:48.344Z"
   },
   {
    "duration": 66,
    "start_time": "2023-01-10T12:40:29.727Z"
   },
   {
    "duration": 70,
    "start_time": "2023-01-10T13:28:13.945Z"
   },
   {
    "duration": 25,
    "start_time": "2023-01-10T13:28:53.331Z"
   },
   {
    "duration": 25,
    "start_time": "2023-01-10T13:29:12.836Z"
   },
   {
    "duration": 27,
    "start_time": "2023-01-10T13:29:26.128Z"
   },
   {
    "duration": 4,
    "start_time": "2023-01-10T13:40:26.768Z"
   },
   {
    "duration": 3,
    "start_time": "2023-01-10T13:42:19.442Z"
   },
   {
    "duration": 4,
    "start_time": "2023-01-10T13:42:58.302Z"
   },
   {
    "duration": 3,
    "start_time": "2023-01-10T13:42:58.598Z"
   },
   {
    "duration": 166194,
    "start_time": "2023-01-10T13:42:58.911Z"
   },
   {
    "duration": 4,
    "start_time": "2023-01-10T13:47:01.299Z"
   },
   {
    "duration": 4,
    "start_time": "2023-01-10T13:47:51.267Z"
   },
   {
    "duration": 59,
    "start_time": "2023-01-10T13:49:05.444Z"
   },
   {
    "duration": 54,
    "start_time": "2023-01-10T18:11:03.696Z"
   },
   {
    "duration": 1122,
    "start_time": "2023-01-10T18:11:07.159Z"
   },
   {
    "duration": 99,
    "start_time": "2023-01-10T18:11:08.283Z"
   },
   {
    "duration": 21,
    "start_time": "2023-01-10T18:11:08.384Z"
   },
   {
    "duration": 16,
    "start_time": "2023-01-10T18:11:08.407Z"
   },
   {
    "duration": 18,
    "start_time": "2023-01-10T18:11:08.425Z"
   },
   {
    "duration": 26,
    "start_time": "2023-01-10T18:11:08.445Z"
   },
   {
    "duration": 54,
    "start_time": "2023-01-10T18:11:08.473Z"
   },
   {
    "duration": 6,
    "start_time": "2023-01-10T18:11:08.529Z"
   },
   {
    "duration": 806,
    "start_time": "2023-01-10T18:11:08.536Z"
   },
   {
    "duration": 11,
    "start_time": "2023-01-10T18:11:09.345Z"
   },
   {
    "duration": 12,
    "start_time": "2023-01-10T18:11:09.358Z"
   },
   {
    "duration": 218,
    "start_time": "2023-01-10T18:11:09.372Z"
   },
   {
    "duration": 5,
    "start_time": "2023-01-10T18:11:09.591Z"
   },
   {
    "duration": 18,
    "start_time": "2023-01-10T18:11:09.599Z"
   },
   {
    "duration": 15,
    "start_time": "2023-01-10T18:11:09.618Z"
   },
   {
    "duration": 21,
    "start_time": "2023-01-10T18:11:09.635Z"
   },
   {
    "duration": 6,
    "start_time": "2023-01-10T18:11:09.658Z"
   },
   {
    "duration": 7,
    "start_time": "2023-01-10T18:11:09.666Z"
   },
   {
    "duration": 7,
    "start_time": "2023-01-10T18:11:09.675Z"
   },
   {
    "duration": 9,
    "start_time": "2023-01-10T18:11:09.683Z"
   },
   {
    "duration": 6,
    "start_time": "2023-01-10T18:11:09.694Z"
   },
   {
    "duration": 5,
    "start_time": "2023-01-10T18:11:09.702Z"
   },
   {
    "duration": 57,
    "start_time": "2023-01-10T18:11:09.709Z"
   },
   {
    "duration": 92,
    "start_time": "2023-01-10T18:11:09.768Z"
   },
   {
    "duration": 92,
    "start_time": "2023-01-10T18:11:09.863Z"
   },
   {
    "duration": 13,
    "start_time": "2023-01-10T18:11:09.957Z"
   },
   {
    "duration": 34734,
    "start_time": "2023-01-10T18:11:09.971Z"
   },
   {
    "duration": 0,
    "start_time": "2023-01-10T18:11:44.706Z"
   },
   {
    "duration": 0,
    "start_time": "2023-01-10T18:11:44.707Z"
   },
   {
    "duration": 1112,
    "start_time": "2023-01-10T18:12:56.039Z"
   },
   {
    "duration": 39,
    "start_time": "2023-01-10T18:12:57.154Z"
   },
   {
    "duration": 18,
    "start_time": "2023-01-10T18:12:57.195Z"
   },
   {
    "duration": 17,
    "start_time": "2023-01-10T18:12:57.215Z"
   },
   {
    "duration": 6,
    "start_time": "2023-01-10T18:12:57.234Z"
   },
   {
    "duration": 14,
    "start_time": "2023-01-10T18:12:57.241Z"
   },
   {
    "duration": 38,
    "start_time": "2023-01-10T18:12:57.256Z"
   },
   {
    "duration": 5,
    "start_time": "2023-01-10T18:12:57.295Z"
   },
   {
    "duration": 432,
    "start_time": "2023-01-10T18:12:57.302Z"
   },
   {
    "duration": 5,
    "start_time": "2023-01-10T18:12:57.736Z"
   },
   {
    "duration": 13,
    "start_time": "2023-01-10T18:12:57.743Z"
   },
   {
    "duration": 181,
    "start_time": "2023-01-10T18:12:57.758Z"
   },
   {
    "duration": 4,
    "start_time": "2023-01-10T18:12:57.940Z"
   },
   {
    "duration": 11,
    "start_time": "2023-01-10T18:12:57.955Z"
   },
   {
    "duration": 12,
    "start_time": "2023-01-10T18:12:57.968Z"
   },
   {
    "duration": 12,
    "start_time": "2023-01-10T18:12:57.982Z"
   },
   {
    "duration": 9,
    "start_time": "2023-01-10T18:12:57.995Z"
   },
   {
    "duration": 10,
    "start_time": "2023-01-10T18:12:58.005Z"
   },
   {
    "duration": 10,
    "start_time": "2023-01-10T18:12:58.016Z"
   },
   {
    "duration": 7,
    "start_time": "2023-01-10T18:12:58.027Z"
   },
   {
    "duration": 5,
    "start_time": "2023-01-10T18:12:58.055Z"
   },
   {
    "duration": 6,
    "start_time": "2023-01-10T18:12:58.062Z"
   },
   {
    "duration": 38,
    "start_time": "2023-01-10T18:12:58.069Z"
   },
   {
    "duration": 50,
    "start_time": "2023-01-10T18:12:58.109Z"
   },
   {
    "duration": 97,
    "start_time": "2023-01-10T18:12:58.161Z"
   },
   {
    "duration": 5,
    "start_time": "2023-01-10T18:12:58.260Z"
   },
   {
    "duration": 33770,
    "start_time": "2023-01-10T18:12:58.266Z"
   },
   {
    "duration": 3,
    "start_time": "2023-01-10T18:13:32.038Z"
   },
   {
    "duration": 16,
    "start_time": "2023-01-10T18:13:32.042Z"
   },
   {
    "duration": 1055,
    "start_time": "2023-01-10T18:15:03.205Z"
   },
   {
    "duration": 42,
    "start_time": "2023-01-10T18:15:04.262Z"
   },
   {
    "duration": 21,
    "start_time": "2023-01-10T18:15:04.306Z"
   },
   {
    "duration": 14,
    "start_time": "2023-01-10T18:15:04.329Z"
   },
   {
    "duration": 9,
    "start_time": "2023-01-10T18:15:04.346Z"
   },
   {
    "duration": 17,
    "start_time": "2023-01-10T18:15:04.357Z"
   },
   {
    "duration": 40,
    "start_time": "2023-01-10T18:15:04.375Z"
   },
   {
    "duration": 5,
    "start_time": "2023-01-10T18:15:04.417Z"
   },
   {
    "duration": 525,
    "start_time": "2023-01-10T18:15:04.424Z"
   },
   {
    "duration": 8,
    "start_time": "2023-01-10T18:15:04.954Z"
   },
   {
    "duration": 10,
    "start_time": "2023-01-10T18:15:04.964Z"
   },
   {
    "duration": 205,
    "start_time": "2023-01-10T18:15:04.975Z"
   },
   {
    "duration": 5,
    "start_time": "2023-01-10T18:15:05.181Z"
   },
   {
    "duration": 18,
    "start_time": "2023-01-10T18:15:05.189Z"
   },
   {
    "duration": 22,
    "start_time": "2023-01-10T18:15:05.208Z"
   },
   {
    "duration": 11,
    "start_time": "2023-01-10T18:15:05.231Z"
   },
   {
    "duration": 19,
    "start_time": "2023-01-10T18:15:05.244Z"
   },
   {
    "duration": 7,
    "start_time": "2023-01-10T18:15:05.265Z"
   },
   {
    "duration": 10,
    "start_time": "2023-01-10T18:15:05.273Z"
   },
   {
    "duration": 7,
    "start_time": "2023-01-10T18:15:05.285Z"
   },
   {
    "duration": 10,
    "start_time": "2023-01-10T18:15:05.294Z"
   },
   {
    "duration": 5,
    "start_time": "2023-01-10T18:15:05.306Z"
   },
   {
    "duration": 43,
    "start_time": "2023-01-10T18:15:05.312Z"
   },
   {
    "duration": 99,
    "start_time": "2023-01-10T18:15:05.357Z"
   },
   {
    "duration": 5,
    "start_time": "2023-01-10T18:15:05.458Z"
   },
   {
    "duration": 6,
    "start_time": "2023-01-10T18:15:05.556Z"
   },
   {
    "duration": 1159,
    "start_time": "2023-01-10T18:20:55.331Z"
   },
   {
    "duration": 39,
    "start_time": "2023-01-10T18:20:56.494Z"
   },
   {
    "duration": 20,
    "start_time": "2023-01-10T18:20:56.535Z"
   },
   {
    "duration": 13,
    "start_time": "2023-01-10T18:20:56.556Z"
   },
   {
    "duration": 7,
    "start_time": "2023-01-10T18:20:56.571Z"
   },
   {
    "duration": 23,
    "start_time": "2023-01-10T18:20:56.580Z"
   },
   {
    "duration": 62,
    "start_time": "2023-01-10T18:20:56.606Z"
   },
   {
    "duration": 7,
    "start_time": "2023-01-10T18:20:56.670Z"
   },
   {
    "duration": 455,
    "start_time": "2023-01-10T18:20:56.678Z"
   },
   {
    "duration": 6,
    "start_time": "2023-01-10T18:20:57.135Z"
   },
   {
    "duration": 12,
    "start_time": "2023-01-10T18:20:57.143Z"
   },
   {
    "duration": 202,
    "start_time": "2023-01-10T18:20:57.157Z"
   },
   {
    "duration": 5,
    "start_time": "2023-01-10T18:20:57.360Z"
   },
   {
    "duration": 17,
    "start_time": "2023-01-10T18:20:57.369Z"
   },
   {
    "duration": 13,
    "start_time": "2023-01-10T18:20:57.387Z"
   },
   {
    "duration": 12,
    "start_time": "2023-01-10T18:20:57.403Z"
   },
   {
    "duration": 7,
    "start_time": "2023-01-10T18:20:57.417Z"
   },
   {
    "duration": 37,
    "start_time": "2023-01-10T18:20:57.426Z"
   },
   {
    "duration": 6,
    "start_time": "2023-01-10T18:20:57.465Z"
   },
   {
    "duration": 7,
    "start_time": "2023-01-10T18:20:57.473Z"
   },
   {
    "duration": 8,
    "start_time": "2023-01-10T18:20:57.482Z"
   },
   {
    "duration": 14,
    "start_time": "2023-01-10T18:20:57.491Z"
   },
   {
    "duration": 52,
    "start_time": "2023-01-10T18:20:57.507Z"
   },
   {
    "duration": 97,
    "start_time": "2023-01-10T18:20:57.561Z"
   },
   {
    "duration": 94,
    "start_time": "2023-01-10T18:20:57.661Z"
   },
   {
    "duration": 8,
    "start_time": "2023-01-10T18:20:57.758Z"
   },
   {
    "duration": 1192,
    "start_time": "2023-01-10T18:23:54.558Z"
   },
   {
    "duration": 42,
    "start_time": "2023-01-10T18:23:55.752Z"
   },
   {
    "duration": 20,
    "start_time": "2023-01-10T18:23:55.796Z"
   },
   {
    "duration": 25,
    "start_time": "2023-01-10T18:23:55.818Z"
   },
   {
    "duration": 24,
    "start_time": "2023-01-10T18:23:55.845Z"
   },
   {
    "duration": 28,
    "start_time": "2023-01-10T18:23:55.871Z"
   },
   {
    "duration": 57,
    "start_time": "2023-01-10T18:23:55.901Z"
   },
   {
    "duration": 7,
    "start_time": "2023-01-10T18:23:55.960Z"
   },
   {
    "duration": 454,
    "start_time": "2023-01-10T18:23:55.968Z"
   },
   {
    "duration": 7,
    "start_time": "2023-01-10T18:23:56.424Z"
   },
   {
    "duration": 39,
    "start_time": "2023-01-10T18:23:56.433Z"
   },
   {
    "duration": 205,
    "start_time": "2023-01-10T18:23:56.474Z"
   },
   {
    "duration": 4,
    "start_time": "2023-01-10T18:23:56.681Z"
   },
   {
    "duration": 28,
    "start_time": "2023-01-10T18:23:56.688Z"
   },
   {
    "duration": 31,
    "start_time": "2023-01-10T18:23:56.718Z"
   },
   {
    "duration": 19,
    "start_time": "2023-01-10T18:23:56.751Z"
   },
   {
    "duration": 18,
    "start_time": "2023-01-10T18:23:56.772Z"
   },
   {
    "duration": 25,
    "start_time": "2023-01-10T18:23:56.791Z"
   },
   {
    "duration": 17,
    "start_time": "2023-01-10T18:23:56.817Z"
   },
   {
    "duration": 16,
    "start_time": "2023-01-10T18:23:56.836Z"
   },
   {
    "duration": 13,
    "start_time": "2023-01-10T18:23:56.853Z"
   },
   {
    "duration": 18,
    "start_time": "2023-01-10T18:23:56.867Z"
   },
   {
    "duration": 44,
    "start_time": "2023-01-10T18:23:56.886Z"
   },
   {
    "duration": 32,
    "start_time": "2023-01-10T18:23:56.932Z"
   },
   {
    "duration": 5,
    "start_time": "2023-01-10T18:23:57.056Z"
   },
   {
    "duration": 13,
    "start_time": "2023-01-10T18:23:57.154Z"
   },
   {
    "duration": 283504,
    "start_time": "2023-01-10T18:23:57.169Z"
   },
   {
    "duration": 3,
    "start_time": "2023-01-10T18:28:40.675Z"
   },
   {
    "duration": 10,
    "start_time": "2023-01-10T18:28:40.680Z"
   },
   {
    "duration": 1151,
    "start_time": "2023-01-10T18:35:40.019Z"
   },
   {
    "duration": 40,
    "start_time": "2023-01-10T18:35:41.172Z"
   },
   {
    "duration": 19,
    "start_time": "2023-01-10T18:35:41.213Z"
   },
   {
    "duration": 31,
    "start_time": "2023-01-10T18:35:41.233Z"
   },
   {
    "duration": 37,
    "start_time": "2023-01-10T18:35:41.267Z"
   },
   {
    "duration": 36,
    "start_time": "2023-01-10T18:35:41.305Z"
   },
   {
    "duration": 82,
    "start_time": "2023-01-10T18:35:41.342Z"
   },
   {
    "duration": 6,
    "start_time": "2023-01-10T18:35:41.426Z"
   },
   {
    "duration": 484,
    "start_time": "2023-01-10T18:35:41.434Z"
   },
   {
    "duration": 6,
    "start_time": "2023-01-10T18:35:41.920Z"
   },
   {
    "duration": 42,
    "start_time": "2023-01-10T18:35:41.928Z"
   },
   {
    "duration": 226,
    "start_time": "2023-01-10T18:35:41.971Z"
   },
   {
    "duration": 5,
    "start_time": "2023-01-10T18:35:42.198Z"
   },
   {
    "duration": 47,
    "start_time": "2023-01-10T18:35:42.206Z"
   },
   {
    "duration": 45,
    "start_time": "2023-01-10T18:35:42.254Z"
   },
   {
    "duration": 33,
    "start_time": "2023-01-10T18:35:42.300Z"
   },
   {
    "duration": 44,
    "start_time": "2023-01-10T18:35:42.335Z"
   },
   {
    "duration": 41,
    "start_time": "2023-01-10T18:35:42.381Z"
   },
   {
    "duration": 46,
    "start_time": "2023-01-10T18:35:42.424Z"
   },
   {
    "duration": 28,
    "start_time": "2023-01-10T18:35:42.472Z"
   },
   {
    "duration": 36,
    "start_time": "2023-01-10T18:35:42.502Z"
   },
   {
    "duration": 51,
    "start_time": "2023-01-10T18:35:42.540Z"
   },
   {
    "duration": 67,
    "start_time": "2023-01-10T18:35:42.593Z"
   },
   {
    "duration": 101,
    "start_time": "2023-01-10T18:35:42.662Z"
   },
   {
    "duration": 94,
    "start_time": "2023-01-10T18:35:42.764Z"
   },
   {
    "duration": 15,
    "start_time": "2023-01-10T18:35:42.859Z"
   },
   {
    "duration": 12868,
    "start_time": "2023-01-10T18:35:42.876Z"
   },
   {
    "duration": 9,
    "start_time": "2023-01-10T18:35:55.746Z"
   },
   {
    "duration": 8,
    "start_time": "2023-01-10T18:35:55.757Z"
   },
   {
    "duration": 8,
    "start_time": "2023-01-10T18:35:55.767Z"
   },
   {
    "duration": 1139,
    "start_time": "2023-01-10T18:36:32.739Z"
   },
   {
    "duration": 40,
    "start_time": "2023-01-10T18:36:33.880Z"
   },
   {
    "duration": 20,
    "start_time": "2023-01-10T18:36:33.922Z"
   },
   {
    "duration": 12,
    "start_time": "2023-01-10T18:36:33.944Z"
   },
   {
    "duration": 20,
    "start_time": "2023-01-10T18:36:33.958Z"
   },
   {
    "duration": 32,
    "start_time": "2023-01-10T18:36:33.980Z"
   },
   {
    "duration": 52,
    "start_time": "2023-01-10T18:36:34.014Z"
   },
   {
    "duration": 5,
    "start_time": "2023-01-10T18:36:34.068Z"
   },
   {
    "duration": 463,
    "start_time": "2023-01-10T18:36:34.074Z"
   },
   {
    "duration": 15,
    "start_time": "2023-01-10T18:36:34.540Z"
   },
   {
    "duration": 16,
    "start_time": "2023-01-10T18:36:34.558Z"
   },
   {
    "duration": 261,
    "start_time": "2023-01-10T18:36:34.577Z"
   },
   {
    "duration": 5,
    "start_time": "2023-01-10T18:36:34.841Z"
   },
   {
    "duration": 30,
    "start_time": "2023-01-10T18:36:34.855Z"
   },
   {
    "duration": 18,
    "start_time": "2023-01-10T18:36:34.887Z"
   },
   {
    "duration": 12,
    "start_time": "2023-01-10T18:36:34.907Z"
   },
   {
    "duration": 7,
    "start_time": "2023-01-10T18:36:34.921Z"
   },
   {
    "duration": 10,
    "start_time": "2023-01-10T18:36:34.930Z"
   },
   {
    "duration": 13,
    "start_time": "2023-01-10T18:36:34.942Z"
   },
   {
    "duration": 5,
    "start_time": "2023-01-10T18:36:34.957Z"
   },
   {
    "duration": 15,
    "start_time": "2023-01-10T18:36:34.965Z"
   },
   {
    "duration": 11,
    "start_time": "2023-01-10T18:36:34.982Z"
   },
   {
    "duration": 37,
    "start_time": "2023-01-10T18:36:34.994Z"
   },
   {
    "duration": 44,
    "start_time": "2023-01-10T18:36:35.033Z"
   },
   {
    "duration": 4,
    "start_time": "2023-01-10T18:36:35.159Z"
   },
   {
    "duration": 100,
    "start_time": "2023-01-10T18:36:35.165Z"
   },
   {
    "duration": 12519,
    "start_time": "2023-01-10T18:36:35.267Z"
   },
   {
    "duration": 3,
    "start_time": "2023-01-10T18:36:47.790Z"
   },
   {
    "duration": 8,
    "start_time": "2023-01-10T18:36:47.795Z"
   },
   {
    "duration": 9,
    "start_time": "2023-01-10T18:36:47.805Z"
   },
   {
    "duration": 59,
    "start_time": "2023-01-10T18:42:41.289Z"
   },
   {
    "duration": 52,
    "start_time": "2023-01-10T18:42:57.487Z"
   },
   {
    "duration": 109,
    "start_time": "2023-01-10T18:43:54.604Z"
   },
   {
    "duration": 48,
    "start_time": "2023-01-10T18:44:11.625Z"
   },
   {
    "duration": 4,
    "start_time": "2023-01-10T18:44:45.430Z"
   },
   {
    "duration": 4,
    "start_time": "2023-01-10T18:45:27.310Z"
   },
   {
    "duration": 3,
    "start_time": "2023-01-10T18:45:32.980Z"
   },
   {
    "duration": 1140,
    "start_time": "2023-01-10T19:04:43.037Z"
   },
   {
    "duration": 39,
    "start_time": "2023-01-10T19:04:44.179Z"
   },
   {
    "duration": 19,
    "start_time": "2023-01-10T19:04:44.220Z"
   },
   {
    "duration": 13,
    "start_time": "2023-01-10T19:04:44.240Z"
   },
   {
    "duration": 13,
    "start_time": "2023-01-10T19:04:44.256Z"
   },
   {
    "duration": 20,
    "start_time": "2023-01-10T19:04:44.270Z"
   },
   {
    "duration": 41,
    "start_time": "2023-01-10T19:04:44.292Z"
   },
   {
    "duration": 6,
    "start_time": "2023-01-10T19:04:44.335Z"
   },
   {
    "duration": 506,
    "start_time": "2023-01-10T19:04:44.342Z"
   },
   {
    "duration": 6,
    "start_time": "2023-01-10T19:04:44.855Z"
   },
   {
    "duration": 11,
    "start_time": "2023-01-10T19:04:44.863Z"
   },
   {
    "duration": 206,
    "start_time": "2023-01-10T19:04:44.876Z"
   },
   {
    "duration": 5,
    "start_time": "2023-01-10T19:04:45.084Z"
   },
   {
    "duration": 29,
    "start_time": "2023-01-10T19:04:45.093Z"
   },
   {
    "duration": 15,
    "start_time": "2023-01-10T19:04:45.124Z"
   },
   {
    "duration": 19,
    "start_time": "2023-01-10T19:04:45.140Z"
   },
   {
    "duration": 5,
    "start_time": "2023-01-10T19:04:45.161Z"
   },
   {
    "duration": 14,
    "start_time": "2023-01-10T19:04:45.168Z"
   },
   {
    "duration": 8,
    "start_time": "2023-01-10T19:04:45.184Z"
   },
   {
    "duration": 7,
    "start_time": "2023-01-10T19:04:45.194Z"
   },
   {
    "duration": 10,
    "start_time": "2023-01-10T19:04:45.203Z"
   },
   {
    "duration": 13,
    "start_time": "2023-01-10T19:04:45.214Z"
   },
   {
    "duration": 55,
    "start_time": "2023-01-10T19:04:45.229Z"
   },
   {
    "duration": 76,
    "start_time": "2023-01-10T19:04:45.286Z"
   },
   {
    "duration": 92,
    "start_time": "2023-01-10T19:04:45.364Z"
   },
   {
    "duration": 5,
    "start_time": "2023-01-10T19:04:45.458Z"
   },
   {
    "duration": 12859,
    "start_time": "2023-01-10T19:04:45.465Z"
   },
   {
    "duration": 3,
    "start_time": "2023-01-10T19:04:58.326Z"
   },
   {
    "duration": 6,
    "start_time": "2023-01-10T19:04:58.331Z"
   },
   {
    "duration": 17,
    "start_time": "2023-01-10T19:04:58.338Z"
   },
   {
    "duration": 617388,
    "start_time": "2023-01-10T19:04:58.357Z"
   },
   {
    "duration": 8,
    "start_time": "2023-01-10T19:15:15.748Z"
   },
   {
    "duration": 29,
    "start_time": "2023-01-10T19:15:15.759Z"
   },
   {
    "duration": 1141,
    "start_time": "2023-01-10T19:38:25.027Z"
   },
   {
    "duration": 39,
    "start_time": "2023-01-10T19:38:26.171Z"
   },
   {
    "duration": 20,
    "start_time": "2023-01-10T19:38:26.212Z"
   },
   {
    "duration": 11,
    "start_time": "2023-01-10T19:38:26.234Z"
   },
   {
    "duration": 5,
    "start_time": "2023-01-10T19:38:26.248Z"
   },
   {
    "duration": 14,
    "start_time": "2023-01-10T19:38:26.255Z"
   },
   {
    "duration": 41,
    "start_time": "2023-01-10T19:38:26.271Z"
   },
   {
    "duration": 6,
    "start_time": "2023-01-10T19:38:26.314Z"
   },
   {
    "duration": 464,
    "start_time": "2023-01-10T19:38:26.321Z"
   },
   {
    "duration": 7,
    "start_time": "2023-01-10T19:38:26.787Z"
   },
   {
    "duration": 15,
    "start_time": "2023-01-10T19:38:26.795Z"
   },
   {
    "duration": 210,
    "start_time": "2023-01-10T19:38:26.812Z"
   },
   {
    "duration": 4,
    "start_time": "2023-01-10T19:38:27.024Z"
   },
   {
    "duration": 30,
    "start_time": "2023-01-10T19:38:27.031Z"
   },
   {
    "duration": 20,
    "start_time": "2023-01-10T19:38:27.063Z"
   },
   {
    "duration": 11,
    "start_time": "2023-01-10T19:38:27.085Z"
   },
   {
    "duration": 7,
    "start_time": "2023-01-10T19:38:27.098Z"
   },
   {
    "duration": 16,
    "start_time": "2023-01-10T19:38:27.106Z"
   },
   {
    "duration": 19,
    "start_time": "2023-01-10T19:38:27.124Z"
   },
   {
    "duration": 7,
    "start_time": "2023-01-10T19:38:27.145Z"
   },
   {
    "duration": 13,
    "start_time": "2023-01-10T19:38:27.154Z"
   },
   {
    "duration": 12,
    "start_time": "2023-01-10T19:38:27.168Z"
   },
   {
    "duration": 43,
    "start_time": "2023-01-10T19:38:27.182Z"
   },
   {
    "duration": 36,
    "start_time": "2023-01-10T19:38:27.227Z"
   },
   {
    "duration": 92,
    "start_time": "2023-01-10T19:38:27.265Z"
   },
   {
    "duration": 96,
    "start_time": "2023-01-10T19:38:27.359Z"
   },
   {
    "duration": 12740,
    "start_time": "2023-01-10T19:38:27.457Z"
   },
   {
    "duration": 3,
    "start_time": "2023-01-10T19:38:40.200Z"
   },
   {
    "duration": 6,
    "start_time": "2023-01-10T19:38:40.206Z"
   },
   {
    "duration": 10,
    "start_time": "2023-01-10T19:38:40.214Z"
   },
   {
    "duration": 471025,
    "start_time": "2023-01-10T19:38:40.226Z"
   },
   {
    "duration": 6,
    "start_time": "2023-01-10T19:46:31.252Z"
   },
   {
    "duration": 36,
    "start_time": "2023-01-10T19:46:31.260Z"
   },
   {
    "duration": 1077,
    "start_time": "2023-01-11T15:27:12.339Z"
   },
   {
    "duration": 90,
    "start_time": "2023-01-11T15:27:13.418Z"
   },
   {
    "duration": 19,
    "start_time": "2023-01-11T15:27:13.510Z"
   },
   {
    "duration": 13,
    "start_time": "2023-01-11T15:27:13.531Z"
   },
   {
    "duration": 5,
    "start_time": "2023-01-11T15:27:13.546Z"
   },
   {
    "duration": 16,
    "start_time": "2023-01-11T15:27:13.552Z"
   },
   {
    "duration": 52,
    "start_time": "2023-01-11T15:27:13.570Z"
   },
   {
    "duration": 6,
    "start_time": "2023-01-11T15:27:13.624Z"
   },
   {
    "duration": 611,
    "start_time": "2023-01-11T15:27:13.632Z"
   },
   {
    "duration": 7,
    "start_time": "2023-01-11T15:27:14.246Z"
   },
   {
    "duration": 9,
    "start_time": "2023-01-11T15:27:14.254Z"
   },
   {
    "duration": 195,
    "start_time": "2023-01-11T15:27:14.264Z"
   },
   {
    "duration": 4,
    "start_time": "2023-01-11T15:27:14.461Z"
   },
   {
    "duration": 15,
    "start_time": "2023-01-11T15:27:14.466Z"
   },
   {
    "duration": 24,
    "start_time": "2023-01-11T15:27:14.483Z"
   },
   {
    "duration": 10,
    "start_time": "2023-01-11T15:27:14.509Z"
   },
   {
    "duration": 5,
    "start_time": "2023-01-11T15:27:14.521Z"
   },
   {
    "duration": 17,
    "start_time": "2023-01-11T15:27:14.528Z"
   },
   {
    "duration": 5,
    "start_time": "2023-01-11T15:27:14.547Z"
   },
   {
    "duration": 14,
    "start_time": "2023-01-11T15:27:14.553Z"
   },
   {
    "duration": 7,
    "start_time": "2023-01-11T15:27:14.569Z"
   },
   {
    "duration": 20,
    "start_time": "2023-01-11T15:27:14.578Z"
   },
   {
    "duration": 47,
    "start_time": "2023-01-11T15:27:14.600Z"
   },
   {
    "duration": 50,
    "start_time": "2023-01-11T15:27:14.648Z"
   },
   {
    "duration": 106,
    "start_time": "2023-01-11T15:27:14.700Z"
   },
   {
    "duration": 10,
    "start_time": "2023-01-11T15:27:14.808Z"
   },
   {
    "duration": 12464,
    "start_time": "2023-01-11T15:27:14.819Z"
   },
   {
    "duration": 10,
    "start_time": "2023-01-11T15:27:27.286Z"
   },
   {
    "duration": 4,
    "start_time": "2023-01-11T15:27:27.298Z"
   },
   {
    "duration": 9,
    "start_time": "2023-01-11T15:27:27.304Z"
   },
   {
    "duration": 1107,
    "start_time": "2023-01-11T15:29:56.567Z"
   },
   {
    "duration": 41,
    "start_time": "2023-01-11T15:29:57.676Z"
   },
   {
    "duration": 22,
    "start_time": "2023-01-11T15:29:57.719Z"
   },
   {
    "duration": 34,
    "start_time": "2023-01-11T15:29:57.744Z"
   },
   {
    "duration": 6,
    "start_time": "2023-01-11T15:29:57.780Z"
   },
   {
    "duration": 21,
    "start_time": "2023-01-11T15:29:57.787Z"
   },
   {
    "duration": 44,
    "start_time": "2023-01-11T15:29:57.809Z"
   },
   {
    "duration": 5,
    "start_time": "2023-01-11T15:29:57.855Z"
   },
   {
    "duration": 453,
    "start_time": "2023-01-11T15:29:57.862Z"
   },
   {
    "duration": 6,
    "start_time": "2023-01-11T15:29:58.318Z"
   },
   {
    "duration": 10,
    "start_time": "2023-01-11T15:29:58.325Z"
   },
   {
    "duration": 211,
    "start_time": "2023-01-11T15:29:58.337Z"
   },
   {
    "duration": 5,
    "start_time": "2023-01-11T15:29:58.550Z"
   },
   {
    "duration": 22,
    "start_time": "2023-01-11T15:29:58.557Z"
   },
   {
    "duration": 21,
    "start_time": "2023-01-11T15:29:58.581Z"
   },
   {
    "duration": 12,
    "start_time": "2023-01-11T15:29:58.603Z"
   },
   {
    "duration": 6,
    "start_time": "2023-01-11T15:29:58.616Z"
   },
   {
    "duration": 7,
    "start_time": "2023-01-11T15:29:58.624Z"
   },
   {
    "duration": 5,
    "start_time": "2023-01-11T15:29:58.633Z"
   },
   {
    "duration": 8,
    "start_time": "2023-01-11T15:29:58.640Z"
   },
   {
    "duration": 11,
    "start_time": "2023-01-11T15:29:58.649Z"
   },
   {
    "duration": 7,
    "start_time": "2023-01-11T15:29:58.661Z"
   },
   {
    "duration": 59,
    "start_time": "2023-01-11T15:29:58.669Z"
   },
   {
    "duration": 72,
    "start_time": "2023-01-11T15:29:58.729Z"
   },
   {
    "duration": 4,
    "start_time": "2023-01-11T15:29:58.803Z"
   },
   {
    "duration": 6,
    "start_time": "2023-01-11T15:29:58.897Z"
   },
   {
    "duration": 12311,
    "start_time": "2023-01-11T15:29:58.905Z"
   },
   {
    "duration": 4,
    "start_time": "2023-01-11T15:30:11.219Z"
   },
   {
    "duration": 10,
    "start_time": "2023-01-11T15:30:11.224Z"
   },
   {
    "duration": 8,
    "start_time": "2023-01-11T15:30:11.235Z"
   },
   {
    "duration": 1130,
    "start_time": "2023-01-11T15:33:43.179Z"
   },
   {
    "duration": 45,
    "start_time": "2023-01-11T15:33:44.311Z"
   },
   {
    "duration": 21,
    "start_time": "2023-01-11T15:33:44.358Z"
   },
   {
    "duration": 14,
    "start_time": "2023-01-11T15:33:44.380Z"
   },
   {
    "duration": 6,
    "start_time": "2023-01-11T15:33:44.396Z"
   },
   {
    "duration": 14,
    "start_time": "2023-01-11T15:33:44.404Z"
   },
   {
    "duration": 40,
    "start_time": "2023-01-11T15:33:44.420Z"
   },
   {
    "duration": 6,
    "start_time": "2023-01-11T15:33:44.462Z"
   },
   {
    "duration": 455,
    "start_time": "2023-01-11T15:33:44.470Z"
   },
   {
    "duration": 5,
    "start_time": "2023-01-11T15:33:44.927Z"
   },
   {
    "duration": 10,
    "start_time": "2023-01-11T15:33:44.934Z"
   },
   {
    "duration": 214,
    "start_time": "2023-01-11T15:33:44.945Z"
   },
   {
    "duration": 4,
    "start_time": "2023-01-11T15:33:45.161Z"
   },
   {
    "duration": 16,
    "start_time": "2023-01-11T15:33:45.168Z"
   },
   {
    "duration": 35,
    "start_time": "2023-01-11T15:33:45.186Z"
   },
   {
    "duration": 15,
    "start_time": "2023-01-11T15:33:45.223Z"
   },
   {
    "duration": 18,
    "start_time": "2023-01-11T15:33:45.239Z"
   },
   {
    "duration": 7,
    "start_time": "2023-01-11T15:33:45.259Z"
   },
   {
    "duration": 7,
    "start_time": "2023-01-11T15:33:45.268Z"
   },
   {
    "duration": 9,
    "start_time": "2023-01-11T15:33:45.276Z"
   },
   {
    "duration": 14,
    "start_time": "2023-01-11T15:33:45.286Z"
   },
   {
    "duration": 12,
    "start_time": "2023-01-11T15:33:45.301Z"
   },
   {
    "duration": 40,
    "start_time": "2023-01-11T15:33:45.315Z"
   },
   {
    "duration": 48,
    "start_time": "2023-01-11T15:33:45.357Z"
   },
   {
    "duration": 3,
    "start_time": "2023-01-11T15:33:45.498Z"
   },
   {
    "duration": 7,
    "start_time": "2023-01-11T15:33:45.503Z"
   },
   {
    "duration": 12492,
    "start_time": "2023-01-11T15:33:45.511Z"
   },
   {
    "duration": 3,
    "start_time": "2023-01-11T15:33:58.005Z"
   },
   {
    "duration": 10,
    "start_time": "2023-01-11T15:33:58.009Z"
   },
   {
    "duration": 7,
    "start_time": "2023-01-11T15:33:58.020Z"
   },
   {
    "duration": 1067,
    "start_time": "2023-01-11T15:34:13.603Z"
   },
   {
    "duration": 40,
    "start_time": "2023-01-11T15:34:14.671Z"
   },
   {
    "duration": 20,
    "start_time": "2023-01-11T15:34:14.713Z"
   },
   {
    "duration": 13,
    "start_time": "2023-01-11T15:34:14.735Z"
   },
   {
    "duration": 7,
    "start_time": "2023-01-11T15:34:14.750Z"
   },
   {
    "duration": 13,
    "start_time": "2023-01-11T15:34:14.759Z"
   },
   {
    "duration": 60,
    "start_time": "2023-01-11T15:34:14.775Z"
   },
   {
    "duration": 6,
    "start_time": "2023-01-11T15:34:14.836Z"
   },
   {
    "duration": 451,
    "start_time": "2023-01-11T15:34:14.844Z"
   },
   {
    "duration": 6,
    "start_time": "2023-01-11T15:34:15.298Z"
   },
   {
    "duration": 12,
    "start_time": "2023-01-11T15:34:15.305Z"
   },
   {
    "duration": 199,
    "start_time": "2023-01-11T15:34:15.318Z"
   },
   {
    "duration": 5,
    "start_time": "2023-01-11T15:34:15.520Z"
   },
   {
    "duration": 16,
    "start_time": "2023-01-11T15:34:15.526Z"
   },
   {
    "duration": 14,
    "start_time": "2023-01-11T15:34:15.544Z"
   },
   {
    "duration": 18,
    "start_time": "2023-01-11T15:34:15.560Z"
   },
   {
    "duration": 20,
    "start_time": "2023-01-11T15:34:15.580Z"
   },
   {
    "duration": 8,
    "start_time": "2023-01-11T15:34:15.602Z"
   },
   {
    "duration": 7,
    "start_time": "2023-01-11T15:34:15.612Z"
   },
   {
    "duration": 7,
    "start_time": "2023-01-11T15:34:15.620Z"
   },
   {
    "duration": 7,
    "start_time": "2023-01-11T15:34:15.628Z"
   },
   {
    "duration": 7,
    "start_time": "2023-01-11T15:34:15.637Z"
   },
   {
    "duration": 67,
    "start_time": "2023-01-11T15:34:15.646Z"
   },
   {
    "duration": 85,
    "start_time": "2023-01-11T15:34:15.714Z"
   },
   {
    "duration": 95,
    "start_time": "2023-01-11T15:34:15.802Z"
   },
   {
    "duration": 7,
    "start_time": "2023-01-11T15:34:15.899Z"
   },
   {
    "duration": 12324,
    "start_time": "2023-01-11T15:34:15.908Z"
   },
   {
    "duration": 4,
    "start_time": "2023-01-11T15:34:28.236Z"
   },
   {
    "duration": 8,
    "start_time": "2023-01-11T15:34:28.242Z"
   },
   {
    "duration": 20,
    "start_time": "2023-01-11T15:34:28.252Z"
   },
   {
    "duration": 448523,
    "start_time": "2023-01-11T15:34:28.274Z"
   },
   {
    "duration": 3,
    "start_time": "2023-01-11T15:41:56.799Z"
   },
   {
    "duration": 12,
    "start_time": "2023-01-11T15:41:56.803Z"
   },
   {
    "duration": 5,
    "start_time": "2023-01-11T15:43:57.656Z"
   },
   {
    "duration": 262,
    "start_time": "2023-01-11T16:09:24.535Z"
   },
   {
    "duration": 5,
    "start_time": "2023-01-11T16:09:28.933Z"
   },
   {
    "duration": 79,
    "start_time": "2023-01-11T16:09:33.322Z"
   },
   {
    "duration": 238,
    "start_time": "2023-01-11T16:11:23.258Z"
   },
   {
    "duration": 79,
    "start_time": "2023-01-11T16:11:32.223Z"
   },
   {
    "duration": 60,
    "start_time": "2023-01-11T16:11:53.340Z"
   },
   {
    "duration": 4,
    "start_time": "2023-01-11T16:14:43.051Z"
   },
   {
    "duration": 4,
    "start_time": "2023-01-11T16:14:43.591Z"
   },
   {
    "duration": 12509,
    "start_time": "2023-01-11T16:14:43.954Z"
   },
   {
    "duration": 4,
    "start_time": "2023-01-11T16:14:56.465Z"
   },
   {
    "duration": 1261,
    "start_time": "2023-01-11T16:15:14.307Z"
   },
   {
    "duration": 43,
    "start_time": "2023-01-11T16:15:15.570Z"
   },
   {
    "duration": 29,
    "start_time": "2023-01-11T16:15:15.614Z"
   },
   {
    "duration": 21,
    "start_time": "2023-01-11T16:15:15.646Z"
   },
   {
    "duration": 9,
    "start_time": "2023-01-11T16:15:15.669Z"
   },
   {
    "duration": 20,
    "start_time": "2023-01-11T16:15:15.698Z"
   },
   {
    "duration": 79,
    "start_time": "2023-01-11T16:15:15.720Z"
   },
   {
    "duration": 9,
    "start_time": "2023-01-11T16:15:15.802Z"
   },
   {
    "duration": 461,
    "start_time": "2023-01-11T16:15:15.814Z"
   },
   {
    "duration": 6,
    "start_time": "2023-01-11T16:15:16.278Z"
   },
   {
    "duration": 26,
    "start_time": "2023-01-11T16:15:16.286Z"
   },
   {
    "duration": 259,
    "start_time": "2023-01-11T16:15:16.314Z"
   },
   {
    "duration": 5,
    "start_time": "2023-01-11T16:15:16.575Z"
   },
   {
    "duration": 22,
    "start_time": "2023-01-11T16:15:16.582Z"
   },
   {
    "duration": 17,
    "start_time": "2023-01-11T16:15:16.606Z"
   },
   {
    "duration": 11,
    "start_time": "2023-01-11T16:15:16.625Z"
   },
   {
    "duration": 18,
    "start_time": "2023-01-11T16:15:16.638Z"
   },
   {
    "duration": 38,
    "start_time": "2023-01-11T16:15:16.658Z"
   },
   {
    "duration": 23,
    "start_time": "2023-01-11T16:15:16.698Z"
   },
   {
    "duration": 6,
    "start_time": "2023-01-11T16:15:16.722Z"
   },
   {
    "duration": 10,
    "start_time": "2023-01-11T16:15:16.730Z"
   },
   {
    "duration": 9,
    "start_time": "2023-01-11T16:15:16.741Z"
   },
   {
    "duration": 56,
    "start_time": "2023-01-11T16:15:16.752Z"
   },
   {
    "duration": 6,
    "start_time": "2023-01-11T16:15:16.810Z"
   },
   {
    "duration": 87,
    "start_time": "2023-01-11T16:15:16.818Z"
   },
   {
    "duration": 92,
    "start_time": "2023-01-11T16:15:16.907Z"
   },
   {
    "duration": 5,
    "start_time": "2023-01-11T16:15:17.001Z"
   },
   {
    "duration": 12089,
    "start_time": "2023-01-11T16:15:17.010Z"
   },
   {
    "duration": 3,
    "start_time": "2023-01-11T16:15:29.101Z"
   },
   {
    "duration": 8,
    "start_time": "2023-01-11T16:15:29.105Z"
   },
   {
    "duration": 45,
    "start_time": "2023-01-11T16:15:29.115Z"
   },
   {
    "duration": 445585,
    "start_time": "2023-01-11T16:15:29.162Z"
   },
   {
    "duration": 4,
    "start_time": "2023-01-11T16:22:54.749Z"
   },
   {
    "duration": 17,
    "start_time": "2023-01-11T16:22:54.756Z"
   },
   {
    "duration": 120,
    "start_time": "2023-01-11T16:23:45.579Z"
   },
   {
    "duration": 4,
    "start_time": "2023-01-11T16:24:24.467Z"
   },
   {
    "duration": 14,
    "start_time": "2023-01-11T16:24:27.040Z"
   },
   {
    "duration": 976,
    "start_time": "2023-01-11T16:24:52.059Z"
   },
   {
    "duration": 8,
    "start_time": "2023-01-11T16:25:17.492Z"
   },
   {
    "duration": 758,
    "start_time": "2023-01-11T16:25:36.082Z"
   },
   {
    "duration": 1018,
    "start_time": "2023-01-11T16:25:45.856Z"
   },
   {
    "duration": 6,
    "start_time": "2023-01-11T16:25:52.925Z"
   },
   {
    "duration": 24,
    "start_time": "2023-01-11T16:26:00.580Z"
   },
   {
    "duration": 6,
    "start_time": "2023-01-11T16:26:10.225Z"
   },
   {
    "duration": 5,
    "start_time": "2023-01-11T16:26:20.723Z"
   },
   {
    "duration": 15,
    "start_time": "2023-01-11T16:26:21.441Z"
   },
   {
    "duration": 16,
    "start_time": "2023-01-11T16:26:29.976Z"
   },
   {
    "duration": 13,
    "start_time": "2023-01-11T16:26:33.314Z"
   },
   {
    "duration": 6,
    "start_time": "2023-01-11T16:26:33.928Z"
   },
   {
    "duration": 5,
    "start_time": "2023-01-11T16:26:35.898Z"
   },
   {
    "duration": 9,
    "start_time": "2023-01-11T16:26:36.242Z"
   },
   {
    "duration": 6,
    "start_time": "2023-01-11T16:26:36.646Z"
   },
   {
    "duration": 4,
    "start_time": "2023-01-11T16:26:41.013Z"
   },
   {
    "duration": 10,
    "start_time": "2023-01-11T16:26:41.353Z"
   },
   {
    "duration": 5,
    "start_time": "2023-01-11T16:26:41.666Z"
   },
   {
    "duration": 17,
    "start_time": "2023-01-11T16:27:43.508Z"
   },
   {
    "duration": 7,
    "start_time": "2023-01-11T16:27:47.348Z"
   },
   {
    "duration": 16,
    "start_time": "2023-01-11T16:27:51.001Z"
   },
   {
    "duration": 10,
    "start_time": "2023-01-11T16:28:10.000Z"
   },
   {
    "duration": 9,
    "start_time": "2023-01-11T16:28:14.392Z"
   },
   {
    "duration": 6,
    "start_time": "2023-01-11T16:28:36.242Z"
   },
   {
    "duration": 20,
    "start_time": "2023-01-11T16:28:41.406Z"
   },
   {
    "duration": 3,
    "start_time": "2023-01-11T16:31:43.135Z"
   },
   {
    "duration": 4,
    "start_time": "2023-01-11T16:35:25.459Z"
   },
   {
    "duration": 10,
    "start_time": "2023-01-11T16:35:25.753Z"
   },
   {
    "duration": 3,
    "start_time": "2023-01-11T16:35:26.260Z"
   },
   {
    "duration": 4,
    "start_time": "2023-01-11T16:35:26.637Z"
   },
   {
    "duration": 16356,
    "start_time": "2023-01-11T16:35:30.096Z"
   },
   {
    "duration": 3,
    "start_time": "2023-01-11T16:35:46.454Z"
   },
   {
    "duration": 4,
    "start_time": "2023-01-11T16:36:36.664Z"
   },
   {
    "duration": 16250,
    "start_time": "2023-01-11T16:36:37.111Z"
   },
   {
    "duration": 0,
    "start_time": "2023-01-11T16:36:53.362Z"
   },
   {
    "duration": 15877,
    "start_time": "2023-01-11T16:39:06.169Z"
   },
   {
    "duration": 0,
    "start_time": "2023-01-11T16:39:22.048Z"
   },
   {
    "duration": 16082,
    "start_time": "2023-01-11T16:40:02.352Z"
   },
   {
    "duration": 0,
    "start_time": "2023-01-11T16:40:18.436Z"
   },
   {
    "duration": 4,
    "start_time": "2023-01-11T16:42:36.638Z"
   },
   {
    "duration": 15798,
    "start_time": "2023-01-11T16:42:37.106Z"
   },
   {
    "duration": 3,
    "start_time": "2023-01-11T16:42:52.906Z"
   },
   {
    "duration": 4,
    "start_time": "2023-01-11T16:44:17.642Z"
   },
   {
    "duration": 11,
    "start_time": "2023-01-11T16:44:17.939Z"
   },
   {
    "duration": 4,
    "start_time": "2023-01-11T16:44:18.339Z"
   },
   {
    "duration": 15897,
    "start_time": "2023-01-11T16:44:19.177Z"
   },
   {
    "duration": 4,
    "start_time": "2023-01-11T16:44:35.075Z"
   },
   {
    "duration": 1073,
    "start_time": "2023-01-11T16:46:06.941Z"
   },
   {
    "duration": 42,
    "start_time": "2023-01-11T16:46:08.016Z"
   },
   {
    "duration": 21,
    "start_time": "2023-01-11T16:46:08.060Z"
   },
   {
    "duration": 13,
    "start_time": "2023-01-11T16:46:08.082Z"
   },
   {
    "duration": 7,
    "start_time": "2023-01-11T16:46:08.097Z"
   },
   {
    "duration": 19,
    "start_time": "2023-01-11T16:46:08.106Z"
   },
   {
    "duration": 40,
    "start_time": "2023-01-11T16:46:08.127Z"
   },
   {
    "duration": 5,
    "start_time": "2023-01-11T16:46:08.169Z"
   },
   {
    "duration": 457,
    "start_time": "2023-01-11T16:46:08.176Z"
   },
   {
    "duration": 7,
    "start_time": "2023-01-11T16:46:08.635Z"
   },
   {
    "duration": 11,
    "start_time": "2023-01-11T16:46:08.644Z"
   },
   {
    "duration": 210,
    "start_time": "2023-01-11T16:46:08.656Z"
   },
   {
    "duration": 4,
    "start_time": "2023-01-11T16:46:08.868Z"
   },
   {
    "duration": 23,
    "start_time": "2023-01-11T16:46:08.875Z"
   },
   {
    "duration": 10,
    "start_time": "2023-01-11T16:46:08.900Z"
   },
   {
    "duration": 10,
    "start_time": "2023-01-11T16:46:08.912Z"
   },
   {
    "duration": 6,
    "start_time": "2023-01-11T16:46:08.924Z"
   },
   {
    "duration": 7,
    "start_time": "2023-01-11T16:46:08.931Z"
   },
   {
    "duration": 5,
    "start_time": "2023-01-11T16:46:08.940Z"
   },
   {
    "duration": 12,
    "start_time": "2023-01-11T16:46:08.946Z"
   },
   {
    "duration": 37,
    "start_time": "2023-01-11T16:46:08.960Z"
   },
   {
    "duration": 6,
    "start_time": "2023-01-11T16:46:08.998Z"
   },
   {
    "duration": 35,
    "start_time": "2023-01-11T16:46:09.005Z"
   },
   {
    "duration": 4,
    "start_time": "2023-01-11T16:46:09.042Z"
   },
   {
    "duration": 60,
    "start_time": "2023-01-11T16:46:09.048Z"
   },
   {
    "duration": 4,
    "start_time": "2023-01-11T16:46:09.197Z"
   },
   {
    "duration": 99,
    "start_time": "2023-01-11T16:46:09.203Z"
   },
   {
    "duration": 12139,
    "start_time": "2023-01-11T16:46:09.304Z"
   },
   {
    "duration": 4,
    "start_time": "2023-01-11T16:46:21.445Z"
   },
   {
    "duration": 7,
    "start_time": "2023-01-11T16:46:21.450Z"
   },
   {
    "duration": 5,
    "start_time": "2023-01-11T16:46:21.459Z"
   },
   {
    "duration": 5,
    "start_time": "2023-01-11T16:46:21.466Z"
   },
   {
    "duration": 6,
    "start_time": "2023-01-11T16:46:21.472Z"
   },
   {
    "duration": 18,
    "start_time": "2023-01-11T16:46:21.480Z"
   },
   {
    "duration": 18,
    "start_time": "2023-01-11T16:46:21.499Z"
   },
   {
    "duration": 3,
    "start_time": "2023-01-11T16:46:21.518Z"
   },
   {
    "duration": 16123,
    "start_time": "2023-01-11T16:46:21.522Z"
   },
   {
    "duration": 3,
    "start_time": "2023-01-11T16:46:37.646Z"
   },
   {
    "duration": 16191,
    "start_time": "2023-01-11T16:49:31.066Z"
   },
   {
    "duration": 115,
    "start_time": "2023-01-11T16:49:47.259Z"
   },
   {
    "duration": 0,
    "start_time": "2023-01-11T16:49:47.377Z"
   },
   {
    "duration": 13,
    "start_time": "2023-01-11T16:50:13.717Z"
   },
   {
    "duration": 8,
    "start_time": "2023-01-11T16:50:19.767Z"
   },
   {
    "duration": 3,
    "start_time": "2023-01-11T16:50:21.683Z"
   },
   {
    "duration": 4,
    "start_time": "2023-01-11T16:51:02.361Z"
   },
   {
    "duration": 9,
    "start_time": "2023-01-11T16:51:02.497Z"
   },
   {
    "duration": 15898,
    "start_time": "2023-01-11T16:51:02.976Z"
   },
   {
    "duration": 8,
    "start_time": "2023-01-11T16:51:18.876Z"
   },
   {
    "duration": 14,
    "start_time": "2023-01-11T16:51:18.885Z"
   },
   {
    "duration": 3,
    "start_time": "2023-01-11T16:52:39.140Z"
   },
   {
    "duration": 15,
    "start_time": "2023-01-11T16:53:16.180Z"
   },
   {
    "duration": 4,
    "start_time": "2023-01-11T16:53:16.367Z"
   },
   {
    "duration": 15779,
    "start_time": "2023-01-11T16:53:16.632Z"
   },
   {
    "duration": 4,
    "start_time": "2023-01-11T16:53:32.413Z"
   },
   {
    "duration": 21,
    "start_time": "2023-01-11T16:54:20.307Z"
   },
   {
    "duration": 1124,
    "start_time": "2023-01-11T16:56:03.294Z"
   },
   {
    "duration": 42,
    "start_time": "2023-01-11T16:56:04.420Z"
   },
   {
    "duration": 34,
    "start_time": "2023-01-11T16:56:04.463Z"
   },
   {
    "duration": 16,
    "start_time": "2023-01-11T16:56:04.499Z"
   },
   {
    "duration": 5,
    "start_time": "2023-01-11T16:56:04.518Z"
   },
   {
    "duration": 18,
    "start_time": "2023-01-11T16:56:04.525Z"
   },
   {
    "duration": 67,
    "start_time": "2023-01-11T16:56:04.545Z"
   },
   {
    "duration": 7,
    "start_time": "2023-01-11T16:56:04.614Z"
   },
   {
    "duration": 445,
    "start_time": "2023-01-11T16:56:04.623Z"
   },
   {
    "duration": 6,
    "start_time": "2023-01-11T16:56:05.070Z"
   },
   {
    "duration": 21,
    "start_time": "2023-01-11T16:56:05.078Z"
   },
   {
    "duration": 210,
    "start_time": "2023-01-11T16:56:05.102Z"
   },
   {
    "duration": 5,
    "start_time": "2023-01-11T16:56:05.313Z"
   },
   {
    "duration": 13,
    "start_time": "2023-01-11T16:56:05.322Z"
   },
   {
    "duration": 14,
    "start_time": "2023-01-11T16:56:05.337Z"
   },
   {
    "duration": 12,
    "start_time": "2023-01-11T16:56:05.352Z"
   },
   {
    "duration": 32,
    "start_time": "2023-01-11T16:56:05.366Z"
   },
   {
    "duration": 9,
    "start_time": "2023-01-11T16:56:05.399Z"
   },
   {
    "duration": 4,
    "start_time": "2023-01-11T16:56:05.410Z"
   },
   {
    "duration": 7,
    "start_time": "2023-01-11T16:56:05.416Z"
   },
   {
    "duration": 8,
    "start_time": "2023-01-11T16:56:05.424Z"
   },
   {
    "duration": 6,
    "start_time": "2023-01-11T16:56:05.433Z"
   },
   {
    "duration": 60,
    "start_time": "2023-01-11T16:56:05.441Z"
   },
   {
    "duration": 6,
    "start_time": "2023-01-11T16:56:05.503Z"
   },
   {
    "duration": 187,
    "start_time": "2023-01-11T16:56:05.510Z"
   },
   {
    "duration": 3,
    "start_time": "2023-01-11T16:56:05.699Z"
   },
   {
    "duration": 7,
    "start_time": "2023-01-11T16:56:05.703Z"
   },
   {
    "duration": 36099,
    "start_time": "2023-01-11T16:56:05.711Z"
   },
   {
    "duration": 3,
    "start_time": "2023-01-11T16:56:41.812Z"
   },
   {
    "duration": 8,
    "start_time": "2023-01-11T16:56:41.816Z"
   },
   {
    "duration": 7,
    "start_time": "2023-01-11T16:56:41.825Z"
   },
   {
    "duration": 4,
    "start_time": "2023-01-11T16:56:41.834Z"
   },
   {
    "duration": 5,
    "start_time": "2023-01-11T16:56:41.840Z"
   },
   {
    "duration": 5,
    "start_time": "2023-01-11T16:56:41.846Z"
   },
   {
    "duration": 15,
    "start_time": "2023-01-11T16:56:41.852Z"
   },
   {
    "duration": 3,
    "start_time": "2023-01-11T16:56:41.868Z"
   },
   {
    "duration": 48059,
    "start_time": "2023-01-11T16:56:41.896Z"
   },
   {
    "duration": 3,
    "start_time": "2023-01-11T16:57:29.957Z"
   },
   {
    "duration": 24,
    "start_time": "2023-01-11T16:57:29.962Z"
   },
   {
    "duration": 1159,
    "start_time": "2023-01-11T16:58:35.330Z"
   },
   {
    "duration": 42,
    "start_time": "2023-01-11T16:58:36.491Z"
   },
   {
    "duration": 20,
    "start_time": "2023-01-11T16:58:36.535Z"
   },
   {
    "duration": 19,
    "start_time": "2023-01-11T16:58:36.556Z"
   },
   {
    "duration": 8,
    "start_time": "2023-01-11T16:58:36.578Z"
   },
   {
    "duration": 18,
    "start_time": "2023-01-11T16:58:36.588Z"
   },
   {
    "duration": 42,
    "start_time": "2023-01-11T16:58:36.608Z"
   },
   {
    "duration": 6,
    "start_time": "2023-01-11T16:58:36.652Z"
   },
   {
    "duration": 484,
    "start_time": "2023-01-11T16:58:36.660Z"
   },
   {
    "duration": 7,
    "start_time": "2023-01-11T16:58:37.145Z"
   },
   {
    "duration": 9,
    "start_time": "2023-01-11T16:58:37.153Z"
   },
   {
    "duration": 202,
    "start_time": "2023-01-11T16:58:37.164Z"
   },
   {
    "duration": 5,
    "start_time": "2023-01-11T16:58:37.367Z"
   },
   {
    "duration": 27,
    "start_time": "2023-01-11T16:58:37.375Z"
   },
   {
    "duration": 17,
    "start_time": "2023-01-11T16:58:37.404Z"
   },
   {
    "duration": 17,
    "start_time": "2023-01-11T16:58:37.423Z"
   },
   {
    "duration": 55,
    "start_time": "2023-01-11T16:58:37.442Z"
   },
   {
    "duration": 10,
    "start_time": "2023-01-11T16:58:37.499Z"
   },
   {
    "duration": 32,
    "start_time": "2023-01-11T16:58:37.511Z"
   },
   {
    "duration": 7,
    "start_time": "2023-01-11T16:58:37.545Z"
   },
   {
    "duration": 10,
    "start_time": "2023-01-11T16:58:37.554Z"
   },
   {
    "duration": 6,
    "start_time": "2023-01-11T16:58:37.566Z"
   },
   {
    "duration": 53,
    "start_time": "2023-01-11T16:58:37.574Z"
   },
   {
    "duration": 6,
    "start_time": "2023-01-11T16:58:37.629Z"
   },
   {
    "duration": 168,
    "start_time": "2023-01-11T16:58:37.637Z"
   },
   {
    "duration": 3,
    "start_time": "2023-01-11T16:58:37.807Z"
   },
   {
    "duration": 30,
    "start_time": "2023-01-11T16:58:37.812Z"
   },
   {
    "duration": 39436,
    "start_time": "2023-01-11T16:58:37.844Z"
   },
   {
    "duration": 3,
    "start_time": "2023-01-11T16:59:17.282Z"
   },
   {
    "duration": 3,
    "start_time": "2023-01-11T16:59:17.295Z"
   },
   {
    "duration": 6,
    "start_time": "2023-01-11T16:59:17.300Z"
   },
   {
    "duration": 5,
    "start_time": "2023-01-11T16:59:17.307Z"
   },
   {
    "duration": 9,
    "start_time": "2023-01-11T16:59:17.314Z"
   },
   {
    "duration": 4,
    "start_time": "2023-01-11T16:59:17.325Z"
   },
   {
    "duration": 12,
    "start_time": "2023-01-11T16:59:17.331Z"
   },
   {
    "duration": 3,
    "start_time": "2023-01-11T16:59:17.345Z"
   },
   {
    "duration": 1074,
    "start_time": "2023-01-11T16:59:37.724Z"
   },
   {
    "duration": 44,
    "start_time": "2023-01-11T16:59:38.800Z"
   },
   {
    "duration": 26,
    "start_time": "2023-01-11T16:59:38.846Z"
   },
   {
    "duration": 14,
    "start_time": "2023-01-11T16:59:38.874Z"
   },
   {
    "duration": 6,
    "start_time": "2023-01-11T16:59:38.891Z"
   },
   {
    "duration": 15,
    "start_time": "2023-01-11T16:59:38.899Z"
   },
   {
    "duration": 45,
    "start_time": "2023-01-11T16:59:38.916Z"
   },
   {
    "duration": 5,
    "start_time": "2023-01-11T16:59:38.962Z"
   },
   {
    "duration": 437,
    "start_time": "2023-01-11T16:59:38.996Z"
   },
   {
    "duration": 6,
    "start_time": "2023-01-11T16:59:39.434Z"
   },
   {
    "duration": 20,
    "start_time": "2023-01-11T16:59:39.441Z"
   },
   {
    "duration": 203,
    "start_time": "2023-01-11T16:59:39.462Z"
   },
   {
    "duration": 4,
    "start_time": "2023-01-11T16:59:39.667Z"
   },
   {
    "duration": 24,
    "start_time": "2023-01-11T16:59:39.674Z"
   },
   {
    "duration": 11,
    "start_time": "2023-01-11T16:59:39.700Z"
   },
   {
    "duration": 10,
    "start_time": "2023-01-11T16:59:39.713Z"
   },
   {
    "duration": 9,
    "start_time": "2023-01-11T16:59:39.725Z"
   },
   {
    "duration": 12,
    "start_time": "2023-01-11T16:59:39.736Z"
   },
   {
    "duration": 5,
    "start_time": "2023-01-11T16:59:39.749Z"
   },
   {
    "duration": 9,
    "start_time": "2023-01-11T16:59:39.755Z"
   },
   {
    "duration": 32,
    "start_time": "2023-01-11T16:59:39.766Z"
   },
   {
    "duration": 5,
    "start_time": "2023-01-11T16:59:39.800Z"
   },
   {
    "duration": 37,
    "start_time": "2023-01-11T16:59:39.807Z"
   },
   {
    "duration": 6,
    "start_time": "2023-01-11T16:59:39.846Z"
   },
   {
    "duration": 63,
    "start_time": "2023-01-11T16:59:39.853Z"
   },
   {
    "duration": 5,
    "start_time": "2023-01-11T16:59:40.001Z"
   },
   {
    "duration": 3,
    "start_time": "2023-01-11T16:59:40.096Z"
   },
   {
    "duration": 38002,
    "start_time": "2023-01-11T16:59:40.101Z"
   },
   {
    "duration": 3,
    "start_time": "2023-01-11T17:00:18.104Z"
   },
   {
    "duration": 13,
    "start_time": "2023-01-11T17:00:18.109Z"
   },
   {
    "duration": 13,
    "start_time": "2023-01-11T17:00:18.124Z"
   },
   {
    "duration": 5,
    "start_time": "2023-01-11T17:00:18.139Z"
   },
   {
    "duration": 8,
    "start_time": "2023-01-11T17:00:18.146Z"
   },
   {
    "duration": 11,
    "start_time": "2023-01-11T17:00:18.156Z"
   },
   {
    "duration": 13,
    "start_time": "2023-01-11T17:00:18.169Z"
   },
   {
    "duration": 4,
    "start_time": "2023-01-11T17:00:18.184Z"
   },
   {
    "duration": 3,
    "start_time": "2023-01-11T17:01:12.210Z"
   },
   {
    "duration": 51295,
    "start_time": "2023-01-11T17:01:12.215Z"
   },
   {
    "duration": 3,
    "start_time": "2023-01-11T17:02:03.512Z"
   },
   {
    "duration": 26,
    "start_time": "2023-01-11T17:02:03.517Z"
   },
   {
    "duration": 224,
    "start_time": "2023-01-11T17:55:11.774Z"
   },
   {
    "duration": 104,
    "start_time": "2023-01-11T17:55:20.994Z"
   },
   {
    "duration": 182,
    "start_time": "2023-01-11T17:55:58.721Z"
   },
   {
    "duration": 71,
    "start_time": "2023-01-11T17:56:02.534Z"
   },
   {
    "duration": 217,
    "start_time": "2023-01-11T17:56:07.980Z"
   },
   {
    "duration": 223,
    "start_time": "2023-01-11T17:56:15.686Z"
   },
   {
    "duration": 71,
    "start_time": "2023-01-11T17:56:23.137Z"
   },
   {
    "duration": 118,
    "start_time": "2023-01-11T17:56:30.481Z"
   },
   {
    "duration": 1155,
    "start_time": "2023-01-11T18:00:09.298Z"
   },
   {
    "duration": 43,
    "start_time": "2023-01-11T18:00:10.455Z"
   },
   {
    "duration": 21,
    "start_time": "2023-01-11T18:00:10.499Z"
   },
   {
    "duration": 13,
    "start_time": "2023-01-11T18:00:10.522Z"
   },
   {
    "duration": 13,
    "start_time": "2023-01-11T18:00:10.537Z"
   },
   {
    "duration": 15,
    "start_time": "2023-01-11T18:00:10.551Z"
   },
   {
    "duration": 64,
    "start_time": "2023-01-11T18:00:10.568Z"
   },
   {
    "duration": 6,
    "start_time": "2023-01-11T18:00:10.634Z"
   },
   {
    "duration": 487,
    "start_time": "2023-01-11T18:00:10.641Z"
   },
   {
    "duration": 8,
    "start_time": "2023-01-11T18:00:11.130Z"
   },
   {
    "duration": 14,
    "start_time": "2023-01-11T18:00:11.140Z"
   },
   {
    "duration": 210,
    "start_time": "2023-01-11T18:00:11.156Z"
   },
   {
    "duration": 5,
    "start_time": "2023-01-11T18:00:11.368Z"
   },
   {
    "duration": 26,
    "start_time": "2023-01-11T18:00:11.376Z"
   },
   {
    "duration": 15,
    "start_time": "2023-01-11T18:00:11.403Z"
   },
   {
    "duration": 12,
    "start_time": "2023-01-11T18:00:11.420Z"
   },
   {
    "duration": 7,
    "start_time": "2023-01-11T18:00:11.433Z"
   },
   {
    "duration": 8,
    "start_time": "2023-01-11T18:00:11.441Z"
   },
   {
    "duration": 5,
    "start_time": "2023-01-11T18:00:11.450Z"
   },
   {
    "duration": 8,
    "start_time": "2023-01-11T18:00:11.456Z"
   },
   {
    "duration": 33,
    "start_time": "2023-01-11T18:00:11.465Z"
   },
   {
    "duration": 7,
    "start_time": "2023-01-11T18:00:11.500Z"
   },
   {
    "duration": 43,
    "start_time": "2023-01-11T18:00:11.509Z"
   },
   {
    "duration": 6,
    "start_time": "2023-01-11T18:00:11.554Z"
   },
   {
    "duration": 135,
    "start_time": "2023-01-11T18:00:11.562Z"
   },
   {
    "duration": 5,
    "start_time": "2023-01-11T18:00:11.700Z"
   },
   {
    "duration": 92,
    "start_time": "2023-01-11T18:00:11.707Z"
   },
   {
    "duration": 1233718,
    "start_time": "2023-01-11T18:00:11.800Z"
   },
   {
    "duration": 4,
    "start_time": "2023-01-11T18:20:45.521Z"
   },
   {
    "duration": 10,
    "start_time": "2023-01-11T18:20:45.527Z"
   },
   {
    "duration": 26,
    "start_time": "2023-01-11T18:20:45.539Z"
   },
   {
    "duration": 4,
    "start_time": "2023-01-11T18:20:45.567Z"
   },
   {
    "duration": 1770066,
    "start_time": "2023-01-11T18:20:45.573Z"
   },
   {
    "duration": 142,
    "start_time": "2023-01-11T18:50:15.641Z"
   },
   {
    "duration": 0,
    "start_time": "2023-01-11T18:50:15.784Z"
   },
   {
    "duration": 5,
    "start_time": "2023-01-11T18:53:31.707Z"
   },
   {
    "duration": 107,
    "start_time": "2023-01-11T18:53:41.229Z"
   },
   {
    "duration": 5,
    "start_time": "2023-01-11T19:02:01.708Z"
   },
   {
    "duration": 11,
    "start_time": "2023-01-11T19:02:22.559Z"
   },
   {
    "duration": 3,
    "start_time": "2023-01-11T19:02:39.923Z"
   },
   {
    "duration": 1774662,
    "start_time": "2023-01-11T19:02:54.945Z"
   },
   {
    "duration": 3,
    "start_time": "2023-01-11T19:32:29.609Z"
   },
   {
    "duration": 101,
    "start_time": "2023-01-11T19:33:01.746Z"
   },
   {
    "duration": 100,
    "start_time": "2023-01-11T19:33:19.570Z"
   },
   {
    "duration": 104,
    "start_time": "2023-01-11T19:33:22.299Z"
   },
   {
    "duration": 4,
    "start_time": "2023-01-11T19:34:47.636Z"
   },
   {
    "duration": 12,
    "start_time": "2023-01-11T19:34:48.837Z"
   },
   {
    "duration": 5,
    "start_time": "2023-01-11T19:34:55.846Z"
   },
   {
    "duration": 12,
    "start_time": "2023-01-11T19:34:56.123Z"
   },
   {
    "duration": 4,
    "start_time": "2023-01-11T19:34:56.429Z"
   },
   {
    "duration": 1219,
    "start_time": "2023-01-11T19:43:55.161Z"
   },
   {
    "duration": 42,
    "start_time": "2023-01-11T19:43:56.382Z"
   },
   {
    "duration": 20,
    "start_time": "2023-01-11T19:43:56.426Z"
   },
   {
    "duration": 21,
    "start_time": "2023-01-11T19:43:56.448Z"
   },
   {
    "duration": 9,
    "start_time": "2023-01-11T19:43:56.471Z"
   },
   {
    "duration": 24,
    "start_time": "2023-01-11T19:43:56.481Z"
   },
   {
    "duration": 61,
    "start_time": "2023-01-11T19:43:56.507Z"
   },
   {
    "duration": 27,
    "start_time": "2023-01-11T19:43:56.570Z"
   },
   {
    "duration": 457,
    "start_time": "2023-01-11T19:43:56.600Z"
   },
   {
    "duration": 6,
    "start_time": "2023-01-11T19:43:57.060Z"
   },
   {
    "duration": 13,
    "start_time": "2023-01-11T19:43:57.068Z"
   },
   {
    "duration": 196,
    "start_time": "2023-01-11T19:43:57.096Z"
   },
   {
    "duration": 4,
    "start_time": "2023-01-11T19:43:57.294Z"
   },
   {
    "duration": 15,
    "start_time": "2023-01-11T19:43:57.299Z"
   },
   {
    "duration": 15,
    "start_time": "2023-01-11T19:43:57.315Z"
   },
   {
    "duration": 12,
    "start_time": "2023-01-11T19:43:57.332Z"
   },
   {
    "duration": 9,
    "start_time": "2023-01-11T19:43:57.346Z"
   },
   {
    "duration": 40,
    "start_time": "2023-01-11T19:43:57.357Z"
   },
   {
    "duration": 5,
    "start_time": "2023-01-11T19:43:57.399Z"
   },
   {
    "duration": 16,
    "start_time": "2023-01-11T19:43:57.406Z"
   },
   {
    "duration": 13,
    "start_time": "2023-01-11T19:43:57.424Z"
   },
   {
    "duration": 12,
    "start_time": "2023-01-11T19:43:57.439Z"
   },
   {
    "duration": 62,
    "start_time": "2023-01-11T19:43:57.453Z"
   },
   {
    "duration": 6,
    "start_time": "2023-01-11T19:43:57.517Z"
   },
   {
    "duration": 82,
    "start_time": "2023-01-11T19:43:57.525Z"
   },
   {
    "duration": 5,
    "start_time": "2023-01-11T19:43:57.608Z"
   },
   {
    "duration": 16,
    "start_time": "2023-01-11T19:43:57.701Z"
   },
   {
    "duration": 1579993,
    "start_time": "2023-01-11T19:43:57.722Z"
   },
   {
    "duration": 3,
    "start_time": "2023-01-11T20:10:17.717Z"
   },
   {
    "duration": 9,
    "start_time": "2023-01-11T20:10:17.722Z"
   },
   {
    "duration": 31,
    "start_time": "2023-01-11T20:10:17.733Z"
   },
   {
    "duration": 2,
    "start_time": "2023-01-11T20:10:17.766Z"
   },
   {
    "duration": 2185298,
    "start_time": "2023-01-11T20:10:17.770Z"
   },
   {
    "duration": 3,
    "start_time": "2023-01-11T20:46:43.071Z"
   },
   {
    "duration": 21,
    "start_time": "2023-01-11T20:46:43.076Z"
   },
   {
    "duration": 14,
    "start_time": "2023-01-11T20:46:43.098Z"
   },
   {
    "duration": 4,
    "start_time": "2023-01-11T20:46:43.113Z"
   },
   {
    "duration": 1076429,
    "start_time": "2023-01-11T20:46:43.119Z"
   },
   {
    "duration": 4,
    "start_time": "2023-01-11T21:04:39.550Z"
   },
   {
    "duration": 123,
    "start_time": "2023-01-11T21:04:39.555Z"
   },
   {
    "duration": 97,
    "start_time": "2023-01-11T21:04:39.681Z"
   },
   {
    "duration": 57,
    "start_time": "2023-01-11T21:08:28.989Z"
   },
   {
    "duration": 1333,
    "start_time": "2023-01-12T06:37:10.827Z"
   },
   {
    "duration": 161,
    "start_time": "2023-01-12T06:37:12.162Z"
   },
   {
    "duration": 19,
    "start_time": "2023-01-12T06:37:12.325Z"
   },
   {
    "duration": 18,
    "start_time": "2023-01-12T06:37:12.346Z"
   },
   {
    "duration": 28,
    "start_time": "2023-01-12T06:37:12.366Z"
   },
   {
    "duration": 24,
    "start_time": "2023-01-12T06:37:12.395Z"
   },
   {
    "duration": 52,
    "start_time": "2023-01-12T06:37:12.421Z"
   },
   {
    "duration": 6,
    "start_time": "2023-01-12T06:37:12.476Z"
   },
   {
    "duration": 598,
    "start_time": "2023-01-12T06:37:12.484Z"
   },
   {
    "duration": 6,
    "start_time": "2023-01-12T06:37:13.084Z"
   },
   {
    "duration": 24,
    "start_time": "2023-01-12T06:37:13.092Z"
   },
   {
    "duration": 193,
    "start_time": "2023-01-12T06:37:13.118Z"
   },
   {
    "duration": 4,
    "start_time": "2023-01-12T06:37:13.313Z"
   },
   {
    "duration": 42,
    "start_time": "2023-01-12T06:37:13.322Z"
   },
   {
    "duration": 34,
    "start_time": "2023-01-12T06:37:13.366Z"
   },
   {
    "duration": 26,
    "start_time": "2023-01-12T06:37:13.402Z"
   },
   {
    "duration": 31,
    "start_time": "2023-01-12T06:37:13.431Z"
   },
   {
    "duration": 28,
    "start_time": "2023-01-12T06:37:13.464Z"
   },
   {
    "duration": 21,
    "start_time": "2023-01-12T06:37:13.494Z"
   },
   {
    "duration": 29,
    "start_time": "2023-01-12T06:37:13.516Z"
   },
   {
    "duration": 40,
    "start_time": "2023-01-12T06:37:13.546Z"
   },
   {
    "duration": 22,
    "start_time": "2023-01-12T06:37:13.589Z"
   },
   {
    "duration": 56,
    "start_time": "2023-01-12T06:37:13.613Z"
   },
   {
    "duration": 6,
    "start_time": "2023-01-12T06:37:13.670Z"
   },
   {
    "duration": 149,
    "start_time": "2023-01-12T06:37:13.677Z"
   },
   {
    "duration": 5,
    "start_time": "2023-01-12T06:37:13.828Z"
   },
   {
    "duration": 95,
    "start_time": "2023-01-12T06:37:13.835Z"
   },
   {
    "duration": 1578782,
    "start_time": "2023-01-12T06:37:13.935Z"
   },
   {
    "duration": 4,
    "start_time": "2023-01-12T07:03:32.719Z"
   },
   {
    "duration": 7,
    "start_time": "2023-01-12T07:03:32.724Z"
   },
   {
    "duration": 13,
    "start_time": "2023-01-12T07:03:32.732Z"
   },
   {
    "duration": 2,
    "start_time": "2023-01-12T07:03:32.747Z"
   },
   {
    "duration": 2222656,
    "start_time": "2023-01-12T07:03:32.750Z"
   },
   {
    "duration": 4,
    "start_time": "2023-01-12T07:40:35.408Z"
   },
   {
    "duration": 12,
    "start_time": "2023-01-12T07:40:35.413Z"
   },
   {
    "duration": 24,
    "start_time": "2023-01-12T07:40:35.426Z"
   },
   {
    "duration": 3,
    "start_time": "2023-01-12T07:40:35.452Z"
   },
   {
    "duration": 1131078,
    "start_time": "2023-01-12T07:40:35.457Z"
   },
   {
    "duration": 7,
    "start_time": "2023-01-12T07:59:26.543Z"
   },
   {
    "duration": 124,
    "start_time": "2023-01-12T07:59:26.551Z"
   },
   {
    "duration": 95,
    "start_time": "2023-01-12T07:59:26.677Z"
   },
   {
    "duration": 1071,
    "start_time": "2023-01-12T11:51:50.898Z"
   },
   {
    "duration": 4,
    "start_time": "2023-01-12T11:52:01.396Z"
   },
   {
    "duration": 174,
    "start_time": "2023-01-12T11:52:04.489Z"
   },
   {
    "duration": 27,
    "start_time": "2023-01-12T11:52:04.747Z"
   },
   {
    "duration": 15,
    "start_time": "2023-01-12T11:52:04.889Z"
   },
   {
    "duration": 4,
    "start_time": "2023-01-12T11:52:05.031Z"
   },
   {
    "duration": 13,
    "start_time": "2023-01-12T11:52:05.583Z"
   },
   {
    "duration": 46,
    "start_time": "2023-01-12T11:52:05.979Z"
   },
   {
    "duration": 55,
    "start_time": "2023-01-12T11:52:13.316Z"
   },
   {
    "duration": 41,
    "start_time": "2023-01-12T11:52:29.420Z"
   },
   {
    "duration": 4,
    "start_time": "2023-01-12T15:09:58.324Z"
   },
   {
    "duration": 6,
    "start_time": "2023-01-12T15:10:02.922Z"
   },
   {
    "duration": 4,
    "start_time": "2023-01-12T15:12:58.769Z"
   },
   {
    "duration": 6,
    "start_time": "2023-01-12T15:12:59.460Z"
   },
   {
    "duration": 4,
    "start_time": "2023-01-12T15:13:16.660Z"
   },
   {
    "duration": 12,
    "start_time": "2023-01-12T15:13:17.400Z"
   },
   {
    "duration": 12,
    "start_time": "2023-01-12T15:13:22.762Z"
   },
   {
    "duration": 12,
    "start_time": "2023-01-12T15:13:22.935Z"
   },
   {
    "duration": 102,
    "start_time": "2023-01-12T15:16:16.175Z"
   },
   {
    "duration": 7,
    "start_time": "2023-01-12T15:16:20.486Z"
   },
   {
    "duration": 4,
    "start_time": "2023-01-12T15:16:20.614Z"
   },
   {
    "duration": 4,
    "start_time": "2023-01-12T15:16:20.751Z"
   },
   {
    "duration": 5,
    "start_time": "2023-01-12T15:16:20.885Z"
   },
   {
    "duration": 4,
    "start_time": "2023-01-12T15:16:21.019Z"
   },
   {
    "duration": 37,
    "start_time": "2023-01-12T15:16:21.443Z"
   },
   {
    "duration": 5,
    "start_time": "2023-01-12T15:16:22.152Z"
   },
   {
    "duration": 127,
    "start_time": "2023-01-12T15:16:23.633Z"
   },
   {
    "duration": 170,
    "start_time": "2023-01-12T15:29:23.885Z"
   },
   {
    "duration": 110,
    "start_time": "2023-01-12T15:29:28.750Z"
   },
   {
    "duration": 63,
    "start_time": "2023-01-12T15:29:32.299Z"
   },
   {
    "duration": 6,
    "start_time": "2023-01-12T15:29:36.354Z"
   },
   {
    "duration": 124,
    "start_time": "2023-01-12T15:29:37.434Z"
   },
   {
    "duration": 94,
    "start_time": "2023-01-12T15:29:40.969Z"
   },
   {
    "duration": 142,
    "start_time": "2023-01-12T15:29:47.613Z"
   },
   {
    "duration": 137,
    "start_time": "2023-01-12T15:29:59.272Z"
   },
   {
    "duration": 122,
    "start_time": "2023-01-12T15:30:05.139Z"
   },
   {
    "duration": 3,
    "start_time": "2023-01-12T15:43:16.130Z"
   },
   {
    "duration": 3,
    "start_time": "2023-01-12T15:43:16.432Z"
   },
   {
    "duration": 1209,
    "start_time": "2023-01-12T16:22:51.780Z"
   },
   {
    "duration": 0,
    "start_time": "2023-01-12T16:22:52.991Z"
   },
   {
    "duration": 0,
    "start_time": "2023-01-12T16:22:52.992Z"
   },
   {
    "duration": 0,
    "start_time": "2023-01-12T16:22:52.994Z"
   },
   {
    "duration": 0,
    "start_time": "2023-01-12T16:22:52.995Z"
   },
   {
    "duration": 6794,
    "start_time": "2023-01-12T16:23:15.080Z"
   },
   {
    "duration": 22,
    "start_time": "2023-01-12T16:23:29.335Z"
   },
   {
    "duration": 16,
    "start_time": "2023-01-12T16:23:38.464Z"
   },
   {
    "duration": 2127,
    "start_time": "2023-01-12T16:23:39.833Z"
   },
   {
    "duration": 25,
    "start_time": "2023-01-12T16:23:44.494Z"
   },
   {
    "duration": 14,
    "start_time": "2023-01-12T16:23:57.157Z"
   },
   {
    "duration": 2020,
    "start_time": "2023-01-12T16:25:49.240Z"
   },
   {
    "duration": 997,
    "start_time": "2023-01-12T16:25:51.262Z"
   },
   {
    "duration": 51,
    "start_time": "2023-01-12T16:25:52.260Z"
   },
   {
    "duration": 19,
    "start_time": "2023-01-12T16:25:52.312Z"
   },
   {
    "duration": 12,
    "start_time": "2023-01-12T16:25:52.333Z"
   },
   {
    "duration": 6,
    "start_time": "2023-01-12T16:25:52.346Z"
   },
   {
    "duration": 15,
    "start_time": "2023-01-12T16:25:52.353Z"
   },
   {
    "duration": 37,
    "start_time": "2023-01-12T16:25:52.369Z"
   },
   {
    "duration": 5,
    "start_time": "2023-01-12T16:25:52.408Z"
   },
   {
    "duration": 7,
    "start_time": "2023-01-12T16:25:52.415Z"
   },
   {
    "duration": 9,
    "start_time": "2023-01-12T16:25:52.424Z"
   },
   {
    "duration": 5,
    "start_time": "2023-01-12T16:25:52.454Z"
   },
   {
    "duration": 14,
    "start_time": "2023-01-12T16:25:52.460Z"
   },
   {
    "duration": 11,
    "start_time": "2023-01-12T16:25:52.477Z"
   },
   {
    "duration": 11,
    "start_time": "2023-01-12T16:25:52.490Z"
   },
   {
    "duration": 5,
    "start_time": "2023-01-12T16:25:52.502Z"
   },
   {
    "duration": 7,
    "start_time": "2023-01-12T16:25:52.508Z"
   },
   {
    "duration": 4,
    "start_time": "2023-01-12T16:25:52.516Z"
   },
   {
    "duration": 6,
    "start_time": "2023-01-12T16:25:52.521Z"
   },
   {
    "duration": 28,
    "start_time": "2023-01-12T16:25:52.529Z"
   },
   {
    "duration": 9,
    "start_time": "2023-01-12T16:25:52.558Z"
   },
   {
    "duration": 46,
    "start_time": "2023-01-12T16:25:52.568Z"
   },
   {
    "duration": 5,
    "start_time": "2023-01-12T16:25:52.616Z"
   },
   {
    "duration": 140,
    "start_time": "2023-01-12T16:25:52.622Z"
   },
   {
    "duration": 92,
    "start_time": "2023-01-12T16:25:52.765Z"
   },
   {
    "duration": 25,
    "start_time": "2023-01-12T16:25:52.859Z"
   },
   {
    "duration": 2723,
    "start_time": "2023-01-12T16:25:52.885Z"
   },
   {
    "duration": 0,
    "start_time": "2023-01-12T16:25:55.610Z"
   },
   {
    "duration": 0,
    "start_time": "2023-01-12T16:25:55.611Z"
   },
   {
    "duration": 0,
    "start_time": "2023-01-12T16:25:55.611Z"
   },
   {
    "duration": 0,
    "start_time": "2023-01-12T16:25:55.612Z"
   },
   {
    "duration": 0,
    "start_time": "2023-01-12T16:25:55.613Z"
   },
   {
    "duration": 0,
    "start_time": "2023-01-12T16:25:55.614Z"
   },
   {
    "duration": 0,
    "start_time": "2023-01-12T16:25:55.615Z"
   },
   {
    "duration": 1,
    "start_time": "2023-01-12T16:25:55.616Z"
   },
   {
    "duration": 0,
    "start_time": "2023-01-12T16:25:55.617Z"
   },
   {
    "duration": 0,
    "start_time": "2023-01-12T16:25:55.618Z"
   },
   {
    "duration": 0,
    "start_time": "2023-01-12T16:25:55.619Z"
   },
   {
    "duration": 0,
    "start_time": "2023-01-12T16:25:55.620Z"
   },
   {
    "duration": 0,
    "start_time": "2023-01-12T16:25:55.621Z"
   },
   {
    "duration": 34,
    "start_time": "2023-01-12T16:27:09.705Z"
   },
   {
    "duration": 16,
    "start_time": "2023-01-12T16:27:15.856Z"
   },
   {
    "duration": 9,
    "start_time": "2023-01-12T16:27:27.336Z"
   },
   {
    "duration": 4,
    "start_time": "2023-01-12T16:27:32.388Z"
   },
   {
    "duration": 10,
    "start_time": "2023-01-12T16:27:36.715Z"
   },
   {
    "duration": 4,
    "start_time": "2023-01-12T16:27:44.821Z"
   },
   {
    "duration": 9,
    "start_time": "2023-01-12T16:27:49.260Z"
   },
   {
    "duration": 18,
    "start_time": "2023-01-12T16:27:52.737Z"
   },
   {
    "duration": 5,
    "start_time": "2023-01-12T16:28:16.912Z"
   },
   {
    "duration": 17,
    "start_time": "2023-01-12T16:28:22.301Z"
   },
   {
    "duration": 5,
    "start_time": "2023-01-12T16:29:03.400Z"
   },
   {
    "duration": 33,
    "start_time": "2023-01-12T16:29:32.554Z"
   },
   {
    "duration": 32,
    "start_time": "2023-01-12T16:29:36.229Z"
   },
   {
    "duration": 5,
    "start_time": "2023-01-12T16:29:36.521Z"
   },
   {
    "duration": 6,
    "start_time": "2023-01-12T16:29:49.051Z"
   },
   {
    "duration": 6,
    "start_time": "2023-01-12T16:53:13.363Z"
   },
   {
    "duration": 17,
    "start_time": "2023-01-12T16:53:17.497Z"
   },
   {
    "duration": 18,
    "start_time": "2023-01-12T16:53:34.093Z"
   },
   {
    "duration": 5,
    "start_time": "2023-01-12T16:53:52.221Z"
   },
   {
    "duration": 4,
    "start_time": "2023-01-12T16:53:52.426Z"
   },
   {
    "duration": 5,
    "start_time": "2023-01-12T16:53:52.612Z"
   },
   {
    "duration": 3,
    "start_time": "2023-01-12T16:53:53.023Z"
   },
   {
    "duration": 17,
    "start_time": "2023-01-12T16:54:03.915Z"
   },
   {
    "duration": 6,
    "start_time": "2023-01-12T16:54:09.215Z"
   },
   {
    "duration": 5,
    "start_time": "2023-01-12T16:54:15.224Z"
   },
   {
    "duration": 5,
    "start_time": "2023-01-12T16:54:15.515Z"
   },
   {
    "duration": 5,
    "start_time": "2023-01-12T16:54:15.845Z"
   },
   {
    "duration": 7,
    "start_time": "2023-01-12T16:54:23.723Z"
   },
   {
    "duration": 5,
    "start_time": "2023-01-12T16:54:23.922Z"
   },
   {
    "duration": 6,
    "start_time": "2023-01-12T16:54:24.095Z"
   },
   {
    "duration": 6,
    "start_time": "2023-01-12T16:54:26.128Z"
   },
   {
    "duration": 5,
    "start_time": "2023-01-12T16:54:26.333Z"
   },
   {
    "duration": 5,
    "start_time": "2023-01-12T16:54:26.700Z"
   },
   {
    "duration": 5,
    "start_time": "2023-01-12T16:54:28.629Z"
   },
   {
    "duration": 5,
    "start_time": "2023-01-12T16:54:28.754Z"
   },
   {
    "duration": 5,
    "start_time": "2023-01-12T16:54:28.988Z"
   },
   {
    "duration": 5,
    "start_time": "2023-01-12T16:54:32.530Z"
   },
   {
    "duration": 5,
    "start_time": "2023-01-12T16:54:32.676Z"
   },
   {
    "duration": 5,
    "start_time": "2023-01-12T16:54:32.855Z"
   },
   {
    "duration": 5,
    "start_time": "2023-01-12T16:54:35.049Z"
   },
   {
    "duration": 4,
    "start_time": "2023-01-12T16:54:35.202Z"
   },
   {
    "duration": 5,
    "start_time": "2023-01-12T16:54:35.464Z"
   },
   {
    "duration": 5,
    "start_time": "2023-01-12T16:54:37.582Z"
   },
   {
    "duration": 4,
    "start_time": "2023-01-12T16:54:37.730Z"
   },
   {
    "duration": 6,
    "start_time": "2023-01-12T16:54:37.944Z"
   },
   {
    "duration": 6,
    "start_time": "2023-01-12T16:54:42.668Z"
   },
   {
    "duration": 5,
    "start_time": "2023-01-12T16:54:42.794Z"
   },
   {
    "duration": 5,
    "start_time": "2023-01-12T16:54:43.190Z"
   },
   {
    "duration": 6,
    "start_time": "2023-01-12T16:54:47.627Z"
   },
   {
    "duration": 5,
    "start_time": "2023-01-12T16:54:47.755Z"
   },
   {
    "duration": 4,
    "start_time": "2023-01-12T16:54:47.891Z"
   },
   {
    "duration": 4,
    "start_time": "2023-01-12T16:54:48.210Z"
   },
   {
    "duration": 1046,
    "start_time": "2023-01-12T17:00:15.942Z"
   },
   {
    "duration": 43,
    "start_time": "2023-01-12T17:00:20.772Z"
   },
   {
    "duration": 21,
    "start_time": "2023-01-12T17:00:21.200Z"
   },
   {
    "duration": 13,
    "start_time": "2023-01-12T17:00:21.774Z"
   },
   {
    "duration": 4,
    "start_time": "2023-01-12T17:00:22.119Z"
   },
   {
    "duration": 15,
    "start_time": "2023-01-12T17:00:22.535Z"
   },
   {
    "duration": 45,
    "start_time": "2023-01-12T17:00:23.879Z"
   },
   {
    "duration": 6,
    "start_time": "2023-01-12T17:00:26.087Z"
   },
   {
    "duration": 4,
    "start_time": "2023-01-12T17:01:50.739Z"
   },
   {
    "duration": 6,
    "start_time": "2023-01-12T17:01:51.361Z"
   },
   {
    "duration": 5,
    "start_time": "2023-01-12T17:01:55.705Z"
   },
   {
    "duration": 11,
    "start_time": "2023-01-12T17:01:58.073Z"
   },
   {
    "duration": 114,
    "start_time": "2023-01-12T17:02:42.932Z"
   },
   {
    "duration": 10,
    "start_time": "2023-01-12T17:02:43.254Z"
   },
   {
    "duration": 12,
    "start_time": "2023-01-12T17:02:46.158Z"
   },
   {
    "duration": 12,
    "start_time": "2023-01-12T17:02:46.529Z"
   },
   {
    "duration": 11,
    "start_time": "2023-01-12T17:02:46.662Z"
   },
   {
    "duration": 4,
    "start_time": "2023-01-12T17:02:47.049Z"
   },
   {
    "duration": 7,
    "start_time": "2023-01-12T17:02:47.861Z"
   },
   {
    "duration": 4,
    "start_time": "2023-01-12T17:02:47.993Z"
   },
   {
    "duration": 4,
    "start_time": "2023-01-12T17:02:48.135Z"
   },
   {
    "duration": 4,
    "start_time": "2023-01-12T17:02:48.270Z"
   },
   {
    "duration": 26,
    "start_time": "2023-01-12T17:02:49.037Z"
   },
   {
    "duration": 33,
    "start_time": "2023-01-12T17:02:55.418Z"
   },
   {
    "duration": 7,
    "start_time": "2023-01-12T17:03:00.504Z"
   },
   {
    "duration": 98,
    "start_time": "2023-01-12T17:03:55.266Z"
   },
   {
    "duration": 4,
    "start_time": "2023-01-12T17:09:23.275Z"
   },
   {
    "duration": 69,
    "start_time": "2023-01-12T17:09:27.114Z"
   },
   {
    "duration": 12,
    "start_time": "2023-01-12T17:09:34.487Z"
   },
   {
    "duration": 2,
    "start_time": "2023-01-12T17:09:42.342Z"
   },
   {
    "duration": 11728,
    "start_time": "2023-01-12T17:10:06.426Z"
   },
   {
    "duration": 3,
    "start_time": "2023-01-12T17:10:18.157Z"
   },
   {
    "duration": 7,
    "start_time": "2023-01-12T17:10:18.255Z"
   },
   {
    "duration": 5,
    "start_time": "2023-01-12T17:10:18.264Z"
   },
   {
    "duration": 3,
    "start_time": "2023-01-12T17:14:32.568Z"
   },
   {
    "duration": 16144,
    "start_time": "2023-01-12T17:14:32.914Z"
   },
   {
    "duration": 5,
    "start_time": "2023-01-12T17:14:49.060Z"
   },
   {
    "duration": 10,
    "start_time": "2023-01-12T17:14:49.066Z"
   },
   {
    "duration": 6,
    "start_time": "2023-01-12T17:14:49.079Z"
   },
   {
    "duration": 4,
    "start_time": "2023-01-12T17:15:05.338Z"
   },
   {
    "duration": 3,
    "start_time": "2023-01-12T17:15:05.464Z"
   },
   {
    "duration": 11485,
    "start_time": "2023-01-12T17:15:05.578Z"
   },
   {
    "duration": 96,
    "start_time": "2023-01-12T17:15:17.065Z"
   },
   {
    "duration": 104,
    "start_time": "2023-01-12T17:15:17.165Z"
   },
   {
    "duration": 9,
    "start_time": "2023-01-12T17:15:17.271Z"
   },
   {
    "duration": 1067,
    "start_time": "2023-01-12T17:22:15.256Z"
   },
   {
    "duration": 44,
    "start_time": "2023-01-12T17:22:17.408Z"
   },
   {
    "duration": 23,
    "start_time": "2023-01-12T17:22:17.636Z"
   },
   {
    "duration": 14,
    "start_time": "2023-01-12T17:22:17.765Z"
   },
   {
    "duration": 4,
    "start_time": "2023-01-12T17:22:17.887Z"
   },
   {
    "duration": 15,
    "start_time": "2023-01-12T17:22:18.011Z"
   },
   {
    "duration": 41,
    "start_time": "2023-01-12T17:22:18.131Z"
   },
   {
    "duration": 7,
    "start_time": "2023-01-12T17:22:18.485Z"
   },
   {
    "duration": 5,
    "start_time": "2023-01-12T17:22:18.734Z"
   },
   {
    "duration": 7,
    "start_time": "2023-01-12T17:22:18.870Z"
   },
   {
    "duration": 4,
    "start_time": "2023-01-12T17:22:19.397Z"
   },
   {
    "duration": 12,
    "start_time": "2023-01-12T17:22:19.678Z"
   },
   {
    "duration": 12,
    "start_time": "2023-01-12T17:22:20.113Z"
   },
   {
    "duration": 12,
    "start_time": "2023-01-12T17:22:20.263Z"
   },
   {
    "duration": 4,
    "start_time": "2023-01-12T17:22:20.705Z"
   },
   {
    "duration": 7,
    "start_time": "2023-01-12T17:22:22.324Z"
   },
   {
    "duration": 5,
    "start_time": "2023-01-12T17:22:22.458Z"
   },
   {
    "duration": 5,
    "start_time": "2023-01-12T17:22:22.755Z"
   },
   {
    "duration": 3,
    "start_time": "2023-01-12T17:22:23.222Z"
   },
   {
    "duration": 33,
    "start_time": "2023-01-12T17:22:24.336Z"
   },
   {
    "duration": 5,
    "start_time": "2023-01-12T17:22:25.528Z"
   },
   {
    "duration": 3,
    "start_time": "2023-01-12T17:22:28.711Z"
   },
   {
    "duration": 2,
    "start_time": "2023-01-12T17:22:29.156Z"
   },
   {
    "duration": 11084,
    "start_time": "2023-01-12T17:22:32.376Z"
   },
   {
    "duration": 91,
    "start_time": "2023-01-12T17:22:43.463Z"
   },
   {
    "duration": 3,
    "start_time": "2023-01-12T17:22:43.556Z"
   },
   {
    "duration": 7,
    "start_time": "2023-01-12T17:22:43.562Z"
   },
   {
    "duration": 107,
    "start_time": "2023-01-12T17:28:48.679Z"
   },
   {
    "duration": 10,
    "start_time": "2023-01-12T17:29:15.331Z"
   },
   {
    "duration": 4,
    "start_time": "2023-01-12T17:29:58.151Z"
   },
   {
    "duration": 3,
    "start_time": "2023-01-12T17:29:58.495Z"
   },
   {
    "duration": 51,
    "start_time": "2023-01-12T17:30:01.236Z"
   },
   {
    "duration": 6,
    "start_time": "2023-01-12T17:30:01.501Z"
   },
   {
    "duration": 3,
    "start_time": "2023-01-12T17:30:12.058Z"
   },
   {
    "duration": 9,
    "start_time": "2023-01-12T17:30:16.693Z"
   },
   {
    "duration": 10,
    "start_time": "2023-01-12T17:30:59.167Z"
   },
   {
    "duration": 6,
    "start_time": "2023-01-12T17:31:14.749Z"
   },
   {
    "duration": 10,
    "start_time": "2023-01-12T17:32:36.126Z"
   },
   {
    "duration": 5,
    "start_time": "2023-01-12T17:32:36.876Z"
   },
   {
    "duration": 10,
    "start_time": "2023-01-12T17:32:43.095Z"
   },
   {
    "duration": 6,
    "start_time": "2023-01-12T17:32:43.302Z"
   },
   {
    "duration": 19,
    "start_time": "2023-01-12T17:32:57.182Z"
   },
   {
    "duration": 5,
    "start_time": "2023-01-12T17:33:00.177Z"
   },
   {
    "duration": 1035,
    "start_time": "2023-01-12T17:36:01.923Z"
   },
   {
    "duration": 42,
    "start_time": "2023-01-12T17:36:02.960Z"
   },
   {
    "duration": 22,
    "start_time": "2023-01-12T17:36:03.004Z"
   },
   {
    "duration": 17,
    "start_time": "2023-01-12T17:36:03.028Z"
   },
   {
    "duration": 11,
    "start_time": "2023-01-12T17:36:03.047Z"
   },
   {
    "duration": 20,
    "start_time": "2023-01-12T17:36:03.060Z"
   },
   {
    "duration": 42,
    "start_time": "2023-01-12T17:36:03.082Z"
   },
   {
    "duration": 7,
    "start_time": "2023-01-12T17:36:03.126Z"
   },
   {
    "duration": 20,
    "start_time": "2023-01-12T17:36:03.135Z"
   },
   {
    "duration": 16,
    "start_time": "2023-01-12T17:36:03.157Z"
   },
   {
    "duration": 21,
    "start_time": "2023-01-12T17:36:03.175Z"
   },
   {
    "duration": 23,
    "start_time": "2023-01-12T17:36:03.198Z"
   },
   {
    "duration": 36,
    "start_time": "2023-01-12T17:36:03.223Z"
   },
   {
    "duration": 17,
    "start_time": "2023-01-12T17:36:03.262Z"
   },
   {
    "duration": 7,
    "start_time": "2023-01-12T17:36:03.281Z"
   },
   {
    "duration": 10,
    "start_time": "2023-01-12T17:36:03.289Z"
   },
   {
    "duration": 6,
    "start_time": "2023-01-12T17:36:03.301Z"
   },
   {
    "duration": 12,
    "start_time": "2023-01-12T17:36:03.308Z"
   },
   {
    "duration": 7,
    "start_time": "2023-01-12T17:36:03.322Z"
   },
   {
    "duration": 52,
    "start_time": "2023-01-12T17:36:03.330Z"
   },
   {
    "duration": 6,
    "start_time": "2023-01-12T17:36:03.384Z"
   },
   {
    "duration": 6,
    "start_time": "2023-01-12T17:36:03.391Z"
   },
   {
    "duration": 9,
    "start_time": "2023-01-12T17:36:03.398Z"
   },
   {
    "duration": 13754,
    "start_time": "2023-01-12T17:36:03.409Z"
   },
   {
    "duration": 95,
    "start_time": "2023-01-12T17:36:17.165Z"
   },
   {
    "duration": 96,
    "start_time": "2023-01-12T17:36:17.267Z"
   },
   {
    "duration": 6,
    "start_time": "2023-01-12T17:36:17.364Z"
   },
   {
    "duration": 6,
    "start_time": "2023-01-12T17:36:17.372Z"
   },
   {
    "duration": 5,
    "start_time": "2023-01-12T17:36:17.379Z"
   },
   {
    "duration": 3026,
    "start_time": "2023-01-12T17:36:17.386Z"
   },
   {
    "duration": 0,
    "start_time": "2023-01-12T17:36:20.414Z"
   },
   {
    "duration": 0,
    "start_time": "2023-01-12T17:36:20.417Z"
   },
   {
    "duration": 0,
    "start_time": "2023-01-12T17:36:20.418Z"
   },
   {
    "duration": 0,
    "start_time": "2023-01-12T17:36:20.420Z"
   },
   {
    "duration": 0,
    "start_time": "2023-01-12T17:36:20.422Z"
   },
   {
    "duration": 0,
    "start_time": "2023-01-12T17:36:20.423Z"
   },
   {
    "duration": 1,
    "start_time": "2023-01-12T17:36:20.424Z"
   },
   {
    "duration": 0,
    "start_time": "2023-01-12T17:36:20.426Z"
   },
   {
    "duration": 0,
    "start_time": "2023-01-12T17:36:20.428Z"
   },
   {
    "duration": 0,
    "start_time": "2023-01-12T17:36:20.455Z"
   },
   {
    "duration": 0,
    "start_time": "2023-01-12T17:36:20.457Z"
   },
   {
    "duration": 0,
    "start_time": "2023-01-12T17:36:20.459Z"
   },
   {
    "duration": 0,
    "start_time": "2023-01-12T17:36:20.460Z"
   },
   {
    "duration": 0,
    "start_time": "2023-01-12T17:36:20.462Z"
   },
   {
    "duration": 0,
    "start_time": "2023-01-12T17:36:20.464Z"
   },
   {
    "duration": 0,
    "start_time": "2023-01-12T17:36:20.466Z"
   },
   {
    "duration": 0,
    "start_time": "2023-01-12T17:36:20.467Z"
   },
   {
    "duration": 0,
    "start_time": "2023-01-12T17:36:20.469Z"
   },
   {
    "duration": 0,
    "start_time": "2023-01-12T17:36:20.470Z"
   },
   {
    "duration": 3,
    "start_time": "2023-01-12T17:36:47.396Z"
   },
   {
    "duration": 3,
    "start_time": "2023-01-12T17:36:47.710Z"
   },
   {
    "duration": 485325,
    "start_time": "2023-01-12T17:36:47.978Z"
   },
   {
    "duration": 3,
    "start_time": "2023-01-12T17:44:53.305Z"
   },
   {
    "duration": 7,
    "start_time": "2023-01-12T17:44:53.310Z"
   },
   {
    "duration": 6,
    "start_time": "2023-01-12T17:44:53.319Z"
   },
   {
    "duration": 45,
    "start_time": "2023-01-12T17:49:31.796Z"
   },
   {
    "duration": 5,
    "start_time": "2023-01-12T17:49:33.226Z"
   },
   {
    "duration": 4,
    "start_time": "2023-01-12T17:49:40.631Z"
   },
   {
    "duration": 487086,
    "start_time": "2023-01-12T17:49:42.515Z"
   },
   {
    "duration": 2,
    "start_time": "2023-01-12T17:57:49.603Z"
   },
   {
    "duration": 8,
    "start_time": "2023-01-12T17:57:49.607Z"
   },
   {
    "duration": 15,
    "start_time": "2023-01-12T17:57:49.617Z"
   },
   {
    "duration": 46,
    "start_time": "2023-01-12T18:00:08.619Z"
   },
   {
    "duration": 6,
    "start_time": "2023-01-12T18:00:08.735Z"
   },
   {
    "duration": 2,
    "start_time": "2023-01-12T18:00:09.715Z"
   },
   {
    "duration": 860771,
    "start_time": "2023-01-12T18:00:10.108Z"
   },
   {
    "duration": 2,
    "start_time": "2023-01-12T18:14:30.881Z"
   },
   {
    "duration": 9,
    "start_time": "2023-01-12T18:14:30.885Z"
   },
   {
    "duration": 8,
    "start_time": "2023-01-12T18:14:30.896Z"
   },
   {
    "duration": 23,
    "start_time": "2023-01-12T18:14:30.906Z"
   },
   {
    "duration": 8,
    "start_time": "2023-01-12T18:14:30.931Z"
   },
   {
    "duration": 26,
    "start_time": "2023-01-12T18:14:30.941Z"
   },
   {
    "duration": 250058,
    "start_time": "2023-01-12T18:14:30.969Z"
   },
   {
    "duration": 2,
    "start_time": "2023-01-12T18:18:41.029Z"
   },
   {
    "duration": 6,
    "start_time": "2023-01-12T18:18:41.033Z"
   },
   {
    "duration": 8,
    "start_time": "2023-01-12T18:18:41.041Z"
   },
   {
    "duration": 114,
    "start_time": "2023-01-12T18:32:03.125Z"
   },
   {
    "duration": 112,
    "start_time": "2023-01-12T18:32:19.207Z"
   },
   {
    "duration": 65,
    "start_time": "2023-01-12T18:33:12.544Z"
   },
   {
    "duration": 60,
    "start_time": "2023-01-12T18:35:03.750Z"
   },
   {
    "duration": 5,
    "start_time": "2023-01-12T18:38:15.345Z"
   }
  ],
  "kernelspec": {
   "display_name": "Python 3 (ipykernel)",
   "language": "python",
   "name": "python3"
  },
  "language_info": {
   "codemirror_mode": {
    "name": "ipython",
    "version": 3
   },
   "file_extension": ".py",
   "mimetype": "text/x-python",
   "name": "python",
   "nbconvert_exporter": "python",
   "pygments_lexer": "ipython3",
   "version": "3.9.5"
  },
  "toc": {
   "base_numbering": 1,
   "nav_menu": {},
   "number_sections": true,
   "sideBar": true,
   "skip_h1_title": true,
   "title_cell": "Содержание",
   "title_sidebar": "Contents",
   "toc_cell": true,
   "toc_position": {
    "height": "calc(100% - 180px)",
    "left": "10px",
    "top": "150px",
    "width": "258.636px"
   },
   "toc_section_display": true,
   "toc_window_display": false
  }
 },
 "nbformat": 4,
 "nbformat_minor": 2
}
