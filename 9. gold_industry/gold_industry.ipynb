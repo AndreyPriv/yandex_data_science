{
 "cells": [
  {
   "cell_type": "markdown",
   "metadata": {
    "toc": true
   },
   "source": [
    "<h1>Содержание<span class=\"tocSkip\"></span></h1>\n",
    "<div class=\"toc\"><ul class=\"toc-item\"><li><span><a href=\"#Подготовка-данных\" data-toc-modified-id=\"Подготовка-данных-1\"><span class=\"toc-item-num\">1&nbsp;&nbsp;</span>Подготовка данных</a></span></li><li><span><a href=\"#Анализ-данных\" data-toc-modified-id=\"Анализ-данных-2\"><span class=\"toc-item-num\">2&nbsp;&nbsp;</span>Анализ данных</a></span></li><li><span><a href=\"#Модель\" data-toc-modified-id=\"Модель-3\"><span class=\"toc-item-num\">3&nbsp;&nbsp;</span>Модель</a></span></li></ul></div>"
   ]
  },
  {
   "cell_type": "markdown",
   "metadata": {},
   "source": [
    "# Восстановление золота из руды"
   ]
  },
  {
   "cell_type": "markdown",
   "metadata": {},
   "source": [
    "Подготовьте прототип модели машинного обучения для «Цифры». Компания разрабатывает решения для эффективной работы промышленных предприятий.\n",
    "\n",
    "Модель должна предсказать коэффициент восстановления золота из золотосодержащей руды. Используйте данные с параметрами добычи и очистки. \n",
    "\n",
    "Модель поможет оптимизировать производство, чтобы не запускать предприятие с убыточными характеристиками.\n",
    "\n",
    "Вам нужно:\n",
    "\n",
    "1. Подготовить данные;\n",
    "2. Провести исследовательский анализ данных;\n",
    "3. Построить и обучить модель.\n",
    "\n",
    "Чтобы выполнить проект, обращайтесь к библиотекам *pandas*, *matplotlib* и *sklearn.* Вам поможет их документация."
   ]
  },
  {
   "cell_type": "markdown",
   "metadata": {},
   "source": [
    "## Подготовка данных"
   ]
  },
  {
   "cell_type": "markdown",
   "metadata": {},
   "source": [
    "<b>Импорт библиотек и выборок</b>"
   ]
  },
  {
   "cell_type": "code",
   "execution_count": 1,
   "metadata": {},
   "outputs": [],
   "source": [
    "import pandas as pd\n",
    "import numpy as np\n",
    "import seaborn as sns\n",
    "\n",
    "from scipy.stats import levene\n",
    "\n",
    "import matplotlib.pyplot as plt\n",
    "import plotly\n",
    "import plotly.graph_objs as go\n",
    "\n",
    "from sklearn.metrics import mean_absolute_error, make_scorer\n",
    "\n",
    "from sklearn.preprocessing import StandardScaler\n",
    "\n",
    "from sklearn.model_selection import GridSearchCV\n",
    "\n",
    "from sklearn.linear_model import LinearRegression\n",
    "from sklearn.tree import DecisionTreeRegressor\n",
    "from sklearn.ensemble import RandomForestRegressor\n",
    "from sklearn.dummy import DummyRegressor\n",
    "\n",
    "TARGETS = ['rougher.output.recovery', 'final.output.recovery']"
   ]
  },
  {
   "cell_type": "code",
   "execution_count": 2,
   "metadata": {},
   "outputs": [],
   "source": [
    "train_df = pd.read_csv('/datasets/gold_recovery_train_new.csv', index_col='date') \n",
    "test_df = pd.read_csv('/datasets/gold_recovery_test_new.csv', index_col='date')\n",
    "full_df = pd.read_csv('/datasets/gold_recovery_full_new.csv', index_col='date')"
   ]
  },
  {
   "cell_type": "markdown",
   "metadata": {},
   "source": [
    "<b>Изучение данных из файлов</b>"
   ]
  },
  {
   "cell_type": "code",
   "execution_count": 3,
   "metadata": {},
   "outputs": [],
   "source": [
    "def analyze_df(df):\n",
    "    rows_count, columns_count = df.shape\n",
    "    print('Количество столбцов:', columns_count)\n",
    "    print('Количество строк:', rows_count)\n",
    "    print('Количество пропусков:', df.isna().sum().sum())\n",
    "    print('Количество дубликатов:', df.duplicated().sum())\n",
    "    display(df.head())\n",
    "    display(df.describe())\n",
    "    df.info()"
   ]
  },
  {
   "cell_type": "code",
   "execution_count": 4,
   "metadata": {
    "scrolled": true
   },
   "outputs": [
    {
     "name": "stdout",
     "output_type": "stream",
     "text": [
      "Количество столбцов: 86\n",
      "Количество строк: 14149\n",
      "Количество пропусков: 4100\n",
      "Количество дубликатов: 0\n"
     ]
    },
    {
     "data": {
      "text/html": [
       "<div>\n",
       "<style scoped>\n",
       "    .dataframe tbody tr th:only-of-type {\n",
       "        vertical-align: middle;\n",
       "    }\n",
       "\n",
       "    .dataframe tbody tr th {\n",
       "        vertical-align: top;\n",
       "    }\n",
       "\n",
       "    .dataframe thead th {\n",
       "        text-align: right;\n",
       "    }\n",
       "</style>\n",
       "<table border=\"1\" class=\"dataframe\">\n",
       "  <thead>\n",
       "    <tr style=\"text-align: right;\">\n",
       "      <th></th>\n",
       "      <th>final.output.concentrate_ag</th>\n",
       "      <th>final.output.concentrate_pb</th>\n",
       "      <th>final.output.concentrate_sol</th>\n",
       "      <th>final.output.concentrate_au</th>\n",
       "      <th>final.output.recovery</th>\n",
       "      <th>final.output.tail_ag</th>\n",
       "      <th>final.output.tail_pb</th>\n",
       "      <th>final.output.tail_sol</th>\n",
       "      <th>final.output.tail_au</th>\n",
       "      <th>primary_cleaner.input.sulfate</th>\n",
       "      <th>...</th>\n",
       "      <th>secondary_cleaner.state.floatbank4_a_air</th>\n",
       "      <th>secondary_cleaner.state.floatbank4_a_level</th>\n",
       "      <th>secondary_cleaner.state.floatbank4_b_air</th>\n",
       "      <th>secondary_cleaner.state.floatbank4_b_level</th>\n",
       "      <th>secondary_cleaner.state.floatbank5_a_air</th>\n",
       "      <th>secondary_cleaner.state.floatbank5_a_level</th>\n",
       "      <th>secondary_cleaner.state.floatbank5_b_air</th>\n",
       "      <th>secondary_cleaner.state.floatbank5_b_level</th>\n",
       "      <th>secondary_cleaner.state.floatbank6_a_air</th>\n",
       "      <th>secondary_cleaner.state.floatbank6_a_level</th>\n",
       "    </tr>\n",
       "    <tr>\n",
       "      <th>date</th>\n",
       "      <th></th>\n",
       "      <th></th>\n",
       "      <th></th>\n",
       "      <th></th>\n",
       "      <th></th>\n",
       "      <th></th>\n",
       "      <th></th>\n",
       "      <th></th>\n",
       "      <th></th>\n",
       "      <th></th>\n",
       "      <th></th>\n",
       "      <th></th>\n",
       "      <th></th>\n",
       "      <th></th>\n",
       "      <th></th>\n",
       "      <th></th>\n",
       "      <th></th>\n",
       "      <th></th>\n",
       "      <th></th>\n",
       "      <th></th>\n",
       "      <th></th>\n",
       "    </tr>\n",
       "  </thead>\n",
       "  <tbody>\n",
       "    <tr>\n",
       "      <th>2016-01-15 00:00:00</th>\n",
       "      <td>6.055403</td>\n",
       "      <td>9.889648</td>\n",
       "      <td>5.507324</td>\n",
       "      <td>42.192020</td>\n",
       "      <td>70.541216</td>\n",
       "      <td>10.411962</td>\n",
       "      <td>0.895447</td>\n",
       "      <td>16.904297</td>\n",
       "      <td>2.143149</td>\n",
       "      <td>127.092003</td>\n",
       "      <td>...</td>\n",
       "      <td>14.016835</td>\n",
       "      <td>-502.488007</td>\n",
       "      <td>12.099931</td>\n",
       "      <td>-504.715942</td>\n",
       "      <td>9.925633</td>\n",
       "      <td>-498.310211</td>\n",
       "      <td>8.079666</td>\n",
       "      <td>-500.470978</td>\n",
       "      <td>14.151341</td>\n",
       "      <td>-605.841980</td>\n",
       "    </tr>\n",
       "    <tr>\n",
       "      <th>2016-01-15 01:00:00</th>\n",
       "      <td>6.029369</td>\n",
       "      <td>9.968944</td>\n",
       "      <td>5.257781</td>\n",
       "      <td>42.701629</td>\n",
       "      <td>69.266198</td>\n",
       "      <td>10.462676</td>\n",
       "      <td>0.927452</td>\n",
       "      <td>16.634514</td>\n",
       "      <td>2.224930</td>\n",
       "      <td>125.629232</td>\n",
       "      <td>...</td>\n",
       "      <td>13.992281</td>\n",
       "      <td>-505.503262</td>\n",
       "      <td>11.950531</td>\n",
       "      <td>-501.331529</td>\n",
       "      <td>10.039245</td>\n",
       "      <td>-500.169983</td>\n",
       "      <td>7.984757</td>\n",
       "      <td>-500.582168</td>\n",
       "      <td>13.998353</td>\n",
       "      <td>-599.787184</td>\n",
       "    </tr>\n",
       "    <tr>\n",
       "      <th>2016-01-15 02:00:00</th>\n",
       "      <td>6.055926</td>\n",
       "      <td>10.213995</td>\n",
       "      <td>5.383759</td>\n",
       "      <td>42.657501</td>\n",
       "      <td>68.116445</td>\n",
       "      <td>10.507046</td>\n",
       "      <td>0.953716</td>\n",
       "      <td>16.208849</td>\n",
       "      <td>2.257889</td>\n",
       "      <td>123.819808</td>\n",
       "      <td>...</td>\n",
       "      <td>14.015015</td>\n",
       "      <td>-502.520901</td>\n",
       "      <td>11.912783</td>\n",
       "      <td>-501.133383</td>\n",
       "      <td>10.070913</td>\n",
       "      <td>-500.129135</td>\n",
       "      <td>8.013877</td>\n",
       "      <td>-500.517572</td>\n",
       "      <td>14.028663</td>\n",
       "      <td>-601.427363</td>\n",
       "    </tr>\n",
       "    <tr>\n",
       "      <th>2016-01-15 03:00:00</th>\n",
       "      <td>6.047977</td>\n",
       "      <td>9.977019</td>\n",
       "      <td>4.858634</td>\n",
       "      <td>42.689819</td>\n",
       "      <td>68.347543</td>\n",
       "      <td>10.422762</td>\n",
       "      <td>0.883763</td>\n",
       "      <td>16.532835</td>\n",
       "      <td>2.146849</td>\n",
       "      <td>122.270188</td>\n",
       "      <td>...</td>\n",
       "      <td>14.036510</td>\n",
       "      <td>-500.857308</td>\n",
       "      <td>11.999550</td>\n",
       "      <td>-501.193686</td>\n",
       "      <td>9.970366</td>\n",
       "      <td>-499.201640</td>\n",
       "      <td>7.977324</td>\n",
       "      <td>-500.255908</td>\n",
       "      <td>14.005551</td>\n",
       "      <td>-599.996129</td>\n",
       "    </tr>\n",
       "    <tr>\n",
       "      <th>2016-01-15 04:00:00</th>\n",
       "      <td>6.148599</td>\n",
       "      <td>10.142511</td>\n",
       "      <td>4.939416</td>\n",
       "      <td>42.774141</td>\n",
       "      <td>66.927016</td>\n",
       "      <td>10.360302</td>\n",
       "      <td>0.792826</td>\n",
       "      <td>16.525686</td>\n",
       "      <td>2.055292</td>\n",
       "      <td>117.988169</td>\n",
       "      <td>...</td>\n",
       "      <td>14.027298</td>\n",
       "      <td>-499.838632</td>\n",
       "      <td>11.953070</td>\n",
       "      <td>-501.053894</td>\n",
       "      <td>9.925709</td>\n",
       "      <td>-501.686727</td>\n",
       "      <td>7.894242</td>\n",
       "      <td>-500.356035</td>\n",
       "      <td>13.996647</td>\n",
       "      <td>-601.496691</td>\n",
       "    </tr>\n",
       "  </tbody>\n",
       "</table>\n",
       "<p>5 rows × 86 columns</p>\n",
       "</div>"
      ],
      "text/plain": [
       "                     final.output.concentrate_ag  final.output.concentrate_pb  \\\n",
       "date                                                                            \n",
       "2016-01-15 00:00:00                     6.055403                     9.889648   \n",
       "2016-01-15 01:00:00                     6.029369                     9.968944   \n",
       "2016-01-15 02:00:00                     6.055926                    10.213995   \n",
       "2016-01-15 03:00:00                     6.047977                     9.977019   \n",
       "2016-01-15 04:00:00                     6.148599                    10.142511   \n",
       "\n",
       "                     final.output.concentrate_sol  \\\n",
       "date                                                \n",
       "2016-01-15 00:00:00                      5.507324   \n",
       "2016-01-15 01:00:00                      5.257781   \n",
       "2016-01-15 02:00:00                      5.383759   \n",
       "2016-01-15 03:00:00                      4.858634   \n",
       "2016-01-15 04:00:00                      4.939416   \n",
       "\n",
       "                     final.output.concentrate_au  final.output.recovery  \\\n",
       "date                                                                      \n",
       "2016-01-15 00:00:00                    42.192020              70.541216   \n",
       "2016-01-15 01:00:00                    42.701629              69.266198   \n",
       "2016-01-15 02:00:00                    42.657501              68.116445   \n",
       "2016-01-15 03:00:00                    42.689819              68.347543   \n",
       "2016-01-15 04:00:00                    42.774141              66.927016   \n",
       "\n",
       "                     final.output.tail_ag  final.output.tail_pb  \\\n",
       "date                                                              \n",
       "2016-01-15 00:00:00             10.411962              0.895447   \n",
       "2016-01-15 01:00:00             10.462676              0.927452   \n",
       "2016-01-15 02:00:00             10.507046              0.953716   \n",
       "2016-01-15 03:00:00             10.422762              0.883763   \n",
       "2016-01-15 04:00:00             10.360302              0.792826   \n",
       "\n",
       "                     final.output.tail_sol  final.output.tail_au  \\\n",
       "date                                                               \n",
       "2016-01-15 00:00:00              16.904297              2.143149   \n",
       "2016-01-15 01:00:00              16.634514              2.224930   \n",
       "2016-01-15 02:00:00              16.208849              2.257889   \n",
       "2016-01-15 03:00:00              16.532835              2.146849   \n",
       "2016-01-15 04:00:00              16.525686              2.055292   \n",
       "\n",
       "                     primary_cleaner.input.sulfate  ...  \\\n",
       "date                                                ...   \n",
       "2016-01-15 00:00:00                     127.092003  ...   \n",
       "2016-01-15 01:00:00                     125.629232  ...   \n",
       "2016-01-15 02:00:00                     123.819808  ...   \n",
       "2016-01-15 03:00:00                     122.270188  ...   \n",
       "2016-01-15 04:00:00                     117.988169  ...   \n",
       "\n",
       "                     secondary_cleaner.state.floatbank4_a_air  \\\n",
       "date                                                            \n",
       "2016-01-15 00:00:00                                 14.016835   \n",
       "2016-01-15 01:00:00                                 13.992281   \n",
       "2016-01-15 02:00:00                                 14.015015   \n",
       "2016-01-15 03:00:00                                 14.036510   \n",
       "2016-01-15 04:00:00                                 14.027298   \n",
       "\n",
       "                     secondary_cleaner.state.floatbank4_a_level  \\\n",
       "date                                                              \n",
       "2016-01-15 00:00:00                                 -502.488007   \n",
       "2016-01-15 01:00:00                                 -505.503262   \n",
       "2016-01-15 02:00:00                                 -502.520901   \n",
       "2016-01-15 03:00:00                                 -500.857308   \n",
       "2016-01-15 04:00:00                                 -499.838632   \n",
       "\n",
       "                     secondary_cleaner.state.floatbank4_b_air  \\\n",
       "date                                                            \n",
       "2016-01-15 00:00:00                                 12.099931   \n",
       "2016-01-15 01:00:00                                 11.950531   \n",
       "2016-01-15 02:00:00                                 11.912783   \n",
       "2016-01-15 03:00:00                                 11.999550   \n",
       "2016-01-15 04:00:00                                 11.953070   \n",
       "\n",
       "                     secondary_cleaner.state.floatbank4_b_level  \\\n",
       "date                                                              \n",
       "2016-01-15 00:00:00                                 -504.715942   \n",
       "2016-01-15 01:00:00                                 -501.331529   \n",
       "2016-01-15 02:00:00                                 -501.133383   \n",
       "2016-01-15 03:00:00                                 -501.193686   \n",
       "2016-01-15 04:00:00                                 -501.053894   \n",
       "\n",
       "                     secondary_cleaner.state.floatbank5_a_air  \\\n",
       "date                                                            \n",
       "2016-01-15 00:00:00                                  9.925633   \n",
       "2016-01-15 01:00:00                                 10.039245   \n",
       "2016-01-15 02:00:00                                 10.070913   \n",
       "2016-01-15 03:00:00                                  9.970366   \n",
       "2016-01-15 04:00:00                                  9.925709   \n",
       "\n",
       "                     secondary_cleaner.state.floatbank5_a_level  \\\n",
       "date                                                              \n",
       "2016-01-15 00:00:00                                 -498.310211   \n",
       "2016-01-15 01:00:00                                 -500.169983   \n",
       "2016-01-15 02:00:00                                 -500.129135   \n",
       "2016-01-15 03:00:00                                 -499.201640   \n",
       "2016-01-15 04:00:00                                 -501.686727   \n",
       "\n",
       "                     secondary_cleaner.state.floatbank5_b_air  \\\n",
       "date                                                            \n",
       "2016-01-15 00:00:00                                  8.079666   \n",
       "2016-01-15 01:00:00                                  7.984757   \n",
       "2016-01-15 02:00:00                                  8.013877   \n",
       "2016-01-15 03:00:00                                  7.977324   \n",
       "2016-01-15 04:00:00                                  7.894242   \n",
       "\n",
       "                     secondary_cleaner.state.floatbank5_b_level  \\\n",
       "date                                                              \n",
       "2016-01-15 00:00:00                                 -500.470978   \n",
       "2016-01-15 01:00:00                                 -500.582168   \n",
       "2016-01-15 02:00:00                                 -500.517572   \n",
       "2016-01-15 03:00:00                                 -500.255908   \n",
       "2016-01-15 04:00:00                                 -500.356035   \n",
       "\n",
       "                     secondary_cleaner.state.floatbank6_a_air  \\\n",
       "date                                                            \n",
       "2016-01-15 00:00:00                                 14.151341   \n",
       "2016-01-15 01:00:00                                 13.998353   \n",
       "2016-01-15 02:00:00                                 14.028663   \n",
       "2016-01-15 03:00:00                                 14.005551   \n",
       "2016-01-15 04:00:00                                 13.996647   \n",
       "\n",
       "                     secondary_cleaner.state.floatbank6_a_level  \n",
       "date                                                             \n",
       "2016-01-15 00:00:00                                 -605.841980  \n",
       "2016-01-15 01:00:00                                 -599.787184  \n",
       "2016-01-15 02:00:00                                 -601.427363  \n",
       "2016-01-15 03:00:00                                 -599.996129  \n",
       "2016-01-15 04:00:00                                 -601.496691  \n",
       "\n",
       "[5 rows x 86 columns]"
      ]
     },
     "metadata": {},
     "output_type": "display_data"
    },
    {
     "data": {
      "text/html": [
       "<div>\n",
       "<style scoped>\n",
       "    .dataframe tbody tr th:only-of-type {\n",
       "        vertical-align: middle;\n",
       "    }\n",
       "\n",
       "    .dataframe tbody tr th {\n",
       "        vertical-align: top;\n",
       "    }\n",
       "\n",
       "    .dataframe thead th {\n",
       "        text-align: right;\n",
       "    }\n",
       "</style>\n",
       "<table border=\"1\" class=\"dataframe\">\n",
       "  <thead>\n",
       "    <tr style=\"text-align: right;\">\n",
       "      <th></th>\n",
       "      <th>final.output.concentrate_ag</th>\n",
       "      <th>final.output.concentrate_pb</th>\n",
       "      <th>final.output.concentrate_sol</th>\n",
       "      <th>final.output.concentrate_au</th>\n",
       "      <th>final.output.recovery</th>\n",
       "      <th>final.output.tail_ag</th>\n",
       "      <th>final.output.tail_pb</th>\n",
       "      <th>final.output.tail_sol</th>\n",
       "      <th>final.output.tail_au</th>\n",
       "      <th>primary_cleaner.input.sulfate</th>\n",
       "      <th>...</th>\n",
       "      <th>secondary_cleaner.state.floatbank4_a_air</th>\n",
       "      <th>secondary_cleaner.state.floatbank4_a_level</th>\n",
       "      <th>secondary_cleaner.state.floatbank4_b_air</th>\n",
       "      <th>secondary_cleaner.state.floatbank4_b_level</th>\n",
       "      <th>secondary_cleaner.state.floatbank5_a_air</th>\n",
       "      <th>secondary_cleaner.state.floatbank5_a_level</th>\n",
       "      <th>secondary_cleaner.state.floatbank5_b_air</th>\n",
       "      <th>secondary_cleaner.state.floatbank5_b_level</th>\n",
       "      <th>secondary_cleaner.state.floatbank6_a_air</th>\n",
       "      <th>secondary_cleaner.state.floatbank6_a_level</th>\n",
       "    </tr>\n",
       "  </thead>\n",
       "  <tbody>\n",
       "    <tr>\n",
       "      <th>count</th>\n",
       "      <td>14148.000000</td>\n",
       "      <td>14148.000000</td>\n",
       "      <td>13938.000000</td>\n",
       "      <td>14149.000000</td>\n",
       "      <td>14149.000000</td>\n",
       "      <td>14149.000000</td>\n",
       "      <td>14049.000000</td>\n",
       "      <td>14144.000000</td>\n",
       "      <td>14149.000000</td>\n",
       "      <td>14129.000000</td>\n",
       "      <td>...</td>\n",
       "      <td>14143.000000</td>\n",
       "      <td>14148.000000</td>\n",
       "      <td>14148.000000</td>\n",
       "      <td>14148.000000</td>\n",
       "      <td>14148.000000</td>\n",
       "      <td>14148.000000</td>\n",
       "      <td>14148.000000</td>\n",
       "      <td>14148.000000</td>\n",
       "      <td>14147.000000</td>\n",
       "      <td>14148.000000</td>\n",
       "    </tr>\n",
       "    <tr>\n",
       "      <th>mean</th>\n",
       "      <td>5.142034</td>\n",
       "      <td>10.132960</td>\n",
       "      <td>9.202849</td>\n",
       "      <td>44.003792</td>\n",
       "      <td>66.518832</td>\n",
       "      <td>9.607035</td>\n",
       "      <td>2.597298</td>\n",
       "      <td>10.512122</td>\n",
       "      <td>2.918421</td>\n",
       "      <td>133.320659</td>\n",
       "      <td>...</td>\n",
       "      <td>19.985454</td>\n",
       "      <td>-478.696836</td>\n",
       "      <td>15.487065</td>\n",
       "      <td>-460.229416</td>\n",
       "      <td>16.775136</td>\n",
       "      <td>-483.956022</td>\n",
       "      <td>13.064590</td>\n",
       "      <td>-483.966564</td>\n",
       "      <td>19.577539</td>\n",
       "      <td>-506.798480</td>\n",
       "    </tr>\n",
       "    <tr>\n",
       "      <th>std</th>\n",
       "      <td>1.369586</td>\n",
       "      <td>1.654930</td>\n",
       "      <td>2.790516</td>\n",
       "      <td>4.905261</td>\n",
       "      <td>10.295402</td>\n",
       "      <td>2.319069</td>\n",
       "      <td>0.971843</td>\n",
       "      <td>3.003617</td>\n",
       "      <td>0.903712</td>\n",
       "      <td>39.431659</td>\n",
       "      <td>...</td>\n",
       "      <td>5.657723</td>\n",
       "      <td>50.736021</td>\n",
       "      <td>5.255655</td>\n",
       "      <td>58.843586</td>\n",
       "      <td>5.831906</td>\n",
       "      <td>37.892788</td>\n",
       "      <td>5.765617</td>\n",
       "      <td>39.207913</td>\n",
       "      <td>5.764417</td>\n",
       "      <td>37.079249</td>\n",
       "    </tr>\n",
       "    <tr>\n",
       "      <th>min</th>\n",
       "      <td>0.000000</td>\n",
       "      <td>0.000000</td>\n",
       "      <td>0.000000</td>\n",
       "      <td>0.000000</td>\n",
       "      <td>0.000000</td>\n",
       "      <td>0.000000</td>\n",
       "      <td>0.000000</td>\n",
       "      <td>0.000000</td>\n",
       "      <td>0.000000</td>\n",
       "      <td>0.003112</td>\n",
       "      <td>...</td>\n",
       "      <td>0.000000</td>\n",
       "      <td>-799.709069</td>\n",
       "      <td>0.000000</td>\n",
       "      <td>-799.889113</td>\n",
       "      <td>-0.372054</td>\n",
       "      <td>-797.142475</td>\n",
       "      <td>0.646208</td>\n",
       "      <td>-800.006180</td>\n",
       "      <td>0.195324</td>\n",
       "      <td>-809.398668</td>\n",
       "    </tr>\n",
       "    <tr>\n",
       "      <th>25%</th>\n",
       "      <td>4.211620</td>\n",
       "      <td>9.297355</td>\n",
       "      <td>7.484645</td>\n",
       "      <td>43.276111</td>\n",
       "      <td>62.545817</td>\n",
       "      <td>7.997429</td>\n",
       "      <td>1.905973</td>\n",
       "      <td>8.811324</td>\n",
       "      <td>2.368607</td>\n",
       "      <td>107.006651</td>\n",
       "      <td>...</td>\n",
       "      <td>14.990775</td>\n",
       "      <td>-500.628656</td>\n",
       "      <td>11.894558</td>\n",
       "      <td>-500.149000</td>\n",
       "      <td>11.083980</td>\n",
       "      <td>-500.363177</td>\n",
       "      <td>8.994405</td>\n",
       "      <td>-500.105994</td>\n",
       "      <td>14.989304</td>\n",
       "      <td>-500.745104</td>\n",
       "    </tr>\n",
       "    <tr>\n",
       "      <th>50%</th>\n",
       "      <td>4.994652</td>\n",
       "      <td>10.297144</td>\n",
       "      <td>8.845462</td>\n",
       "      <td>44.872436</td>\n",
       "      <td>67.432775</td>\n",
       "      <td>9.480270</td>\n",
       "      <td>2.592022</td>\n",
       "      <td>10.514621</td>\n",
       "      <td>2.851025</td>\n",
       "      <td>133.018328</td>\n",
       "      <td>...</td>\n",
       "      <td>20.001789</td>\n",
       "      <td>-499.681450</td>\n",
       "      <td>14.975536</td>\n",
       "      <td>-499.388738</td>\n",
       "      <td>17.932223</td>\n",
       "      <td>-499.702452</td>\n",
       "      <td>11.997547</td>\n",
       "      <td>-499.914556</td>\n",
       "      <td>19.984175</td>\n",
       "      <td>-500.061431</td>\n",
       "    </tr>\n",
       "    <tr>\n",
       "      <th>75%</th>\n",
       "      <td>5.859540</td>\n",
       "      <td>11.170603</td>\n",
       "      <td>10.487508</td>\n",
       "      <td>46.166425</td>\n",
       "      <td>72.346428</td>\n",
       "      <td>11.003707</td>\n",
       "      <td>3.241723</td>\n",
       "      <td>11.933009</td>\n",
       "      <td>3.434764</td>\n",
       "      <td>159.825396</td>\n",
       "      <td>...</td>\n",
       "      <td>24.990826</td>\n",
       "      <td>-477.472413</td>\n",
       "      <td>20.059375</td>\n",
       "      <td>-400.039008</td>\n",
       "      <td>21.346550</td>\n",
       "      <td>-487.712108</td>\n",
       "      <td>17.982903</td>\n",
       "      <td>-453.186936</td>\n",
       "      <td>24.991623</td>\n",
       "      <td>-499.536466</td>\n",
       "    </tr>\n",
       "    <tr>\n",
       "      <th>max</th>\n",
       "      <td>16.001945</td>\n",
       "      <td>17.031899</td>\n",
       "      <td>18.124851</td>\n",
       "      <td>52.756638</td>\n",
       "      <td>100.000000</td>\n",
       "      <td>19.552149</td>\n",
       "      <td>5.639565</td>\n",
       "      <td>22.317730</td>\n",
       "      <td>8.197408</td>\n",
       "      <td>250.127834</td>\n",
       "      <td>...</td>\n",
       "      <td>30.115735</td>\n",
       "      <td>-245.239184</td>\n",
       "      <td>24.007913</td>\n",
       "      <td>-145.071088</td>\n",
       "      <td>43.709931</td>\n",
       "      <td>-275.073125</td>\n",
       "      <td>27.926001</td>\n",
       "      <td>-157.396071</td>\n",
       "      <td>32.188906</td>\n",
       "      <td>-104.427459</td>\n",
       "    </tr>\n",
       "  </tbody>\n",
       "</table>\n",
       "<p>8 rows × 86 columns</p>\n",
       "</div>"
      ],
      "text/plain": [
       "       final.output.concentrate_ag  final.output.concentrate_pb  \\\n",
       "count                 14148.000000                 14148.000000   \n",
       "mean                      5.142034                    10.132960   \n",
       "std                       1.369586                     1.654930   \n",
       "min                       0.000000                     0.000000   \n",
       "25%                       4.211620                     9.297355   \n",
       "50%                       4.994652                    10.297144   \n",
       "75%                       5.859540                    11.170603   \n",
       "max                      16.001945                    17.031899   \n",
       "\n",
       "       final.output.concentrate_sol  final.output.concentrate_au  \\\n",
       "count                  13938.000000                 14149.000000   \n",
       "mean                       9.202849                    44.003792   \n",
       "std                        2.790516                     4.905261   \n",
       "min                        0.000000                     0.000000   \n",
       "25%                        7.484645                    43.276111   \n",
       "50%                        8.845462                    44.872436   \n",
       "75%                       10.487508                    46.166425   \n",
       "max                       18.124851                    52.756638   \n",
       "\n",
       "       final.output.recovery  final.output.tail_ag  final.output.tail_pb  \\\n",
       "count           14149.000000          14149.000000          14049.000000   \n",
       "mean               66.518832              9.607035              2.597298   \n",
       "std                10.295402              2.319069              0.971843   \n",
       "min                 0.000000              0.000000              0.000000   \n",
       "25%                62.545817              7.997429              1.905973   \n",
       "50%                67.432775              9.480270              2.592022   \n",
       "75%                72.346428             11.003707              3.241723   \n",
       "max               100.000000             19.552149              5.639565   \n",
       "\n",
       "       final.output.tail_sol  final.output.tail_au  \\\n",
       "count           14144.000000          14149.000000   \n",
       "mean               10.512122              2.918421   \n",
       "std                 3.003617              0.903712   \n",
       "min                 0.000000              0.000000   \n",
       "25%                 8.811324              2.368607   \n",
       "50%                10.514621              2.851025   \n",
       "75%                11.933009              3.434764   \n",
       "max                22.317730              8.197408   \n",
       "\n",
       "       primary_cleaner.input.sulfate  ...  \\\n",
       "count                   14129.000000  ...   \n",
       "mean                      133.320659  ...   \n",
       "std                        39.431659  ...   \n",
       "min                         0.003112  ...   \n",
       "25%                       107.006651  ...   \n",
       "50%                       133.018328  ...   \n",
       "75%                       159.825396  ...   \n",
       "max                       250.127834  ...   \n",
       "\n",
       "       secondary_cleaner.state.floatbank4_a_air  \\\n",
       "count                              14143.000000   \n",
       "mean                                  19.985454   \n",
       "std                                    5.657723   \n",
       "min                                    0.000000   \n",
       "25%                                   14.990775   \n",
       "50%                                   20.001789   \n",
       "75%                                   24.990826   \n",
       "max                                   30.115735   \n",
       "\n",
       "       secondary_cleaner.state.floatbank4_a_level  \\\n",
       "count                                14148.000000   \n",
       "mean                                  -478.696836   \n",
       "std                                     50.736021   \n",
       "min                                   -799.709069   \n",
       "25%                                   -500.628656   \n",
       "50%                                   -499.681450   \n",
       "75%                                   -477.472413   \n",
       "max                                   -245.239184   \n",
       "\n",
       "       secondary_cleaner.state.floatbank4_b_air  \\\n",
       "count                              14148.000000   \n",
       "mean                                  15.487065   \n",
       "std                                    5.255655   \n",
       "min                                    0.000000   \n",
       "25%                                   11.894558   \n",
       "50%                                   14.975536   \n",
       "75%                                   20.059375   \n",
       "max                                   24.007913   \n",
       "\n",
       "       secondary_cleaner.state.floatbank4_b_level  \\\n",
       "count                                14148.000000   \n",
       "mean                                  -460.229416   \n",
       "std                                     58.843586   \n",
       "min                                   -799.889113   \n",
       "25%                                   -500.149000   \n",
       "50%                                   -499.388738   \n",
       "75%                                   -400.039008   \n",
       "max                                   -145.071088   \n",
       "\n",
       "       secondary_cleaner.state.floatbank5_a_air  \\\n",
       "count                              14148.000000   \n",
       "mean                                  16.775136   \n",
       "std                                    5.831906   \n",
       "min                                   -0.372054   \n",
       "25%                                   11.083980   \n",
       "50%                                   17.932223   \n",
       "75%                                   21.346550   \n",
       "max                                   43.709931   \n",
       "\n",
       "       secondary_cleaner.state.floatbank5_a_level  \\\n",
       "count                                14148.000000   \n",
       "mean                                  -483.956022   \n",
       "std                                     37.892788   \n",
       "min                                   -797.142475   \n",
       "25%                                   -500.363177   \n",
       "50%                                   -499.702452   \n",
       "75%                                   -487.712108   \n",
       "max                                   -275.073125   \n",
       "\n",
       "       secondary_cleaner.state.floatbank5_b_air  \\\n",
       "count                              14148.000000   \n",
       "mean                                  13.064590   \n",
       "std                                    5.765617   \n",
       "min                                    0.646208   \n",
       "25%                                    8.994405   \n",
       "50%                                   11.997547   \n",
       "75%                                   17.982903   \n",
       "max                                   27.926001   \n",
       "\n",
       "       secondary_cleaner.state.floatbank5_b_level  \\\n",
       "count                                14148.000000   \n",
       "mean                                  -483.966564   \n",
       "std                                     39.207913   \n",
       "min                                   -800.006180   \n",
       "25%                                   -500.105994   \n",
       "50%                                   -499.914556   \n",
       "75%                                   -453.186936   \n",
       "max                                   -157.396071   \n",
       "\n",
       "       secondary_cleaner.state.floatbank6_a_air  \\\n",
       "count                              14147.000000   \n",
       "mean                                  19.577539   \n",
       "std                                    5.764417   \n",
       "min                                    0.195324   \n",
       "25%                                   14.989304   \n",
       "50%                                   19.984175   \n",
       "75%                                   24.991623   \n",
       "max                                   32.188906   \n",
       "\n",
       "       secondary_cleaner.state.floatbank6_a_level  \n",
       "count                                14148.000000  \n",
       "mean                                  -506.798480  \n",
       "std                                     37.079249  \n",
       "min                                   -809.398668  \n",
       "25%                                   -500.745104  \n",
       "50%                                   -500.061431  \n",
       "75%                                   -499.536466  \n",
       "max                                   -104.427459  \n",
       "\n",
       "[8 rows x 86 columns]"
      ]
     },
     "metadata": {},
     "output_type": "display_data"
    },
    {
     "name": "stdout",
     "output_type": "stream",
     "text": [
      "<class 'pandas.core.frame.DataFrame'>\n",
      "Index: 14149 entries, 2016-01-15 00:00:00 to 2018-08-18 10:59:59\n",
      "Data columns (total 86 columns):\n",
      " #   Column                                              Non-Null Count  Dtype  \n",
      "---  ------                                              --------------  -----  \n",
      " 0   final.output.concentrate_ag                         14148 non-null  float64\n",
      " 1   final.output.concentrate_pb                         14148 non-null  float64\n",
      " 2   final.output.concentrate_sol                        13938 non-null  float64\n",
      " 3   final.output.concentrate_au                         14149 non-null  float64\n",
      " 4   final.output.recovery                               14149 non-null  float64\n",
      " 5   final.output.tail_ag                                14149 non-null  float64\n",
      " 6   final.output.tail_pb                                14049 non-null  float64\n",
      " 7   final.output.tail_sol                               14144 non-null  float64\n",
      " 8   final.output.tail_au                                14149 non-null  float64\n",
      " 9   primary_cleaner.input.sulfate                       14129 non-null  float64\n",
      " 10  primary_cleaner.input.depressant                    14117 non-null  float64\n",
      " 11  primary_cleaner.input.feed_size                     14149 non-null  float64\n",
      " 12  primary_cleaner.input.xanthate                      14049 non-null  float64\n",
      " 13  primary_cleaner.output.concentrate_ag               14149 non-null  float64\n",
      " 14  primary_cleaner.output.concentrate_pb               14063 non-null  float64\n",
      " 15  primary_cleaner.output.concentrate_sol              13863 non-null  float64\n",
      " 16  primary_cleaner.output.concentrate_au               14149 non-null  float64\n",
      " 17  primary_cleaner.output.tail_ag                      14148 non-null  float64\n",
      " 18  primary_cleaner.output.tail_pb                      14134 non-null  float64\n",
      " 19  primary_cleaner.output.tail_sol                     14103 non-null  float64\n",
      " 20  primary_cleaner.output.tail_au                      14149 non-null  float64\n",
      " 21  primary_cleaner.state.floatbank8_a_air              14145 non-null  float64\n",
      " 22  primary_cleaner.state.floatbank8_a_level            14148 non-null  float64\n",
      " 23  primary_cleaner.state.floatbank8_b_air              14145 non-null  float64\n",
      " 24  primary_cleaner.state.floatbank8_b_level            14148 non-null  float64\n",
      " 25  primary_cleaner.state.floatbank8_c_air              14147 non-null  float64\n",
      " 26  primary_cleaner.state.floatbank8_c_level            14148 non-null  float64\n",
      " 27  primary_cleaner.state.floatbank8_d_air              14146 non-null  float64\n",
      " 28  primary_cleaner.state.floatbank8_d_level            14148 non-null  float64\n",
      " 29  rougher.calculation.sulfate_to_au_concentrate       14148 non-null  float64\n",
      " 30  rougher.calculation.floatbank10_sulfate_to_au_feed  14148 non-null  float64\n",
      " 31  rougher.calculation.floatbank11_sulfate_to_au_feed  14148 non-null  float64\n",
      " 32  rougher.calculation.au_pb_ratio                     14149 non-null  float64\n",
      " 33  rougher.input.feed_ag                               14149 non-null  float64\n",
      " 34  rougher.input.feed_pb                               14049 non-null  float64\n",
      " 35  rougher.input.feed_rate                             14141 non-null  float64\n",
      " 36  rougher.input.feed_size                             14005 non-null  float64\n",
      " 37  rougher.input.feed_sol                              14071 non-null  float64\n",
      " 38  rougher.input.feed_au                               14149 non-null  float64\n",
      " 39  rougher.input.floatbank10_sulfate                   14120 non-null  float64\n",
      " 40  rougher.input.floatbank10_xanthate                  14141 non-null  float64\n",
      " 41  rougher.input.floatbank11_sulfate                   14113 non-null  float64\n",
      " 42  rougher.input.floatbank11_xanthate                  13721 non-null  float64\n",
      " 43  rougher.output.concentrate_ag                       14149 non-null  float64\n",
      " 44  rougher.output.concentrate_pb                       14149 non-null  float64\n",
      " 45  rougher.output.concentrate_sol                      14127 non-null  float64\n",
      " 46  rougher.output.concentrate_au                       14149 non-null  float64\n",
      " 47  rougher.output.recovery                             14149 non-null  float64\n",
      " 48  rougher.output.tail_ag                              14148 non-null  float64\n",
      " 49  rougher.output.tail_pb                              14149 non-null  float64\n",
      " 50  rougher.output.tail_sol                             14149 non-null  float64\n",
      " 51  rougher.output.tail_au                              14149 non-null  float64\n",
      " 52  rougher.state.floatbank10_a_air                     14148 non-null  float64\n",
      " 53  rougher.state.floatbank10_a_level                   14148 non-null  float64\n",
      " 54  rougher.state.floatbank10_b_air                     14148 non-null  float64\n",
      " 55  rougher.state.floatbank10_b_level                   14148 non-null  float64\n",
      " 56  rougher.state.floatbank10_c_air                     14148 non-null  float64\n",
      " 57  rougher.state.floatbank10_c_level                   14148 non-null  float64\n",
      " 58  rougher.state.floatbank10_d_air                     14149 non-null  float64\n",
      " 59  rougher.state.floatbank10_d_level                   14149 non-null  float64\n",
      " 60  rougher.state.floatbank10_e_air                     13713 non-null  float64\n",
      " 61  rougher.state.floatbank10_e_level                   14149 non-null  float64\n",
      " 62  rougher.state.floatbank10_f_air                     14149 non-null  float64\n",
      " 63  rougher.state.floatbank10_f_level                   14149 non-null  float64\n",
      " 64  secondary_cleaner.output.tail_ag                    14147 non-null  float64\n",
      " 65  secondary_cleaner.output.tail_pb                    14139 non-null  float64\n",
      " 66  secondary_cleaner.output.tail_sol                   12544 non-null  float64\n",
      " 67  secondary_cleaner.output.tail_au                    14149 non-null  float64\n",
      " 68  secondary_cleaner.state.floatbank2_a_air            13932 non-null  float64\n",
      " 69  secondary_cleaner.state.floatbank2_a_level          14148 non-null  float64\n",
      " 70  secondary_cleaner.state.floatbank2_b_air            14128 non-null  float64\n",
      " 71  secondary_cleaner.state.floatbank2_b_level          14148 non-null  float64\n",
      " 72  secondary_cleaner.state.floatbank3_a_air            14145 non-null  float64\n",
      " 73  secondary_cleaner.state.floatbank3_a_level          14148 non-null  float64\n",
      " 74  secondary_cleaner.state.floatbank3_b_air            14148 non-null  float64\n",
      " 75  secondary_cleaner.state.floatbank3_b_level          14148 non-null  float64\n",
      " 76  secondary_cleaner.state.floatbank4_a_air            14143 non-null  float64\n",
      " 77  secondary_cleaner.state.floatbank4_a_level          14148 non-null  float64\n",
      " 78  secondary_cleaner.state.floatbank4_b_air            14148 non-null  float64\n",
      " 79  secondary_cleaner.state.floatbank4_b_level          14148 non-null  float64\n",
      " 80  secondary_cleaner.state.floatbank5_a_air            14148 non-null  float64\n",
      " 81  secondary_cleaner.state.floatbank5_a_level          14148 non-null  float64\n",
      " 82  secondary_cleaner.state.floatbank5_b_air            14148 non-null  float64\n",
      " 83  secondary_cleaner.state.floatbank5_b_level          14148 non-null  float64\n",
      " 84  secondary_cleaner.state.floatbank6_a_air            14147 non-null  float64\n",
      " 85  secondary_cleaner.state.floatbank6_a_level          14148 non-null  float64\n",
      "dtypes: float64(86)\n",
      "memory usage: 9.4+ MB\n"
     ]
    }
   ],
   "source": [
    "analyze_df(train_df)"
   ]
  },
  {
   "cell_type": "code",
   "execution_count": 5,
   "metadata": {
    "scrolled": true
   },
   "outputs": [
    {
     "name": "stdout",
     "output_type": "stream",
     "text": [
      "Количество столбцов: 52\n",
      "Количество строк: 5290\n",
      "Количество пропусков: 90\n",
      "Количество дубликатов: 0\n"
     ]
    },
    {
     "data": {
      "text/html": [
       "<div>\n",
       "<style scoped>\n",
       "    .dataframe tbody tr th:only-of-type {\n",
       "        vertical-align: middle;\n",
       "    }\n",
       "\n",
       "    .dataframe tbody tr th {\n",
       "        vertical-align: top;\n",
       "    }\n",
       "\n",
       "    .dataframe thead th {\n",
       "        text-align: right;\n",
       "    }\n",
       "</style>\n",
       "<table border=\"1\" class=\"dataframe\">\n",
       "  <thead>\n",
       "    <tr style=\"text-align: right;\">\n",
       "      <th></th>\n",
       "      <th>primary_cleaner.input.sulfate</th>\n",
       "      <th>primary_cleaner.input.depressant</th>\n",
       "      <th>primary_cleaner.input.feed_size</th>\n",
       "      <th>primary_cleaner.input.xanthate</th>\n",
       "      <th>primary_cleaner.state.floatbank8_a_air</th>\n",
       "      <th>primary_cleaner.state.floatbank8_a_level</th>\n",
       "      <th>primary_cleaner.state.floatbank8_b_air</th>\n",
       "      <th>primary_cleaner.state.floatbank8_b_level</th>\n",
       "      <th>primary_cleaner.state.floatbank8_c_air</th>\n",
       "      <th>primary_cleaner.state.floatbank8_c_level</th>\n",
       "      <th>...</th>\n",
       "      <th>secondary_cleaner.state.floatbank4_a_air</th>\n",
       "      <th>secondary_cleaner.state.floatbank4_a_level</th>\n",
       "      <th>secondary_cleaner.state.floatbank4_b_air</th>\n",
       "      <th>secondary_cleaner.state.floatbank4_b_level</th>\n",
       "      <th>secondary_cleaner.state.floatbank5_a_air</th>\n",
       "      <th>secondary_cleaner.state.floatbank5_a_level</th>\n",
       "      <th>secondary_cleaner.state.floatbank5_b_air</th>\n",
       "      <th>secondary_cleaner.state.floatbank5_b_level</th>\n",
       "      <th>secondary_cleaner.state.floatbank6_a_air</th>\n",
       "      <th>secondary_cleaner.state.floatbank6_a_level</th>\n",
       "    </tr>\n",
       "    <tr>\n",
       "      <th>date</th>\n",
       "      <th></th>\n",
       "      <th></th>\n",
       "      <th></th>\n",
       "      <th></th>\n",
       "      <th></th>\n",
       "      <th></th>\n",
       "      <th></th>\n",
       "      <th></th>\n",
       "      <th></th>\n",
       "      <th></th>\n",
       "      <th></th>\n",
       "      <th></th>\n",
       "      <th></th>\n",
       "      <th></th>\n",
       "      <th></th>\n",
       "      <th></th>\n",
       "      <th></th>\n",
       "      <th></th>\n",
       "      <th></th>\n",
       "      <th></th>\n",
       "      <th></th>\n",
       "    </tr>\n",
       "  </thead>\n",
       "  <tbody>\n",
       "    <tr>\n",
       "      <th>2016-09-01 00:59:59</th>\n",
       "      <td>210.800909</td>\n",
       "      <td>14.993118</td>\n",
       "      <td>8.080000</td>\n",
       "      <td>1.005021</td>\n",
       "      <td>1398.981301</td>\n",
       "      <td>-500.225577</td>\n",
       "      <td>1399.144926</td>\n",
       "      <td>-499.919735</td>\n",
       "      <td>1400.102998</td>\n",
       "      <td>-500.704369</td>\n",
       "      <td>...</td>\n",
       "      <td>12.023554</td>\n",
       "      <td>-497.795834</td>\n",
       "      <td>8.016656</td>\n",
       "      <td>-501.289139</td>\n",
       "      <td>7.946562</td>\n",
       "      <td>-432.317850</td>\n",
       "      <td>4.872511</td>\n",
       "      <td>-500.037437</td>\n",
       "      <td>26.705889</td>\n",
       "      <td>-499.709414</td>\n",
       "    </tr>\n",
       "    <tr>\n",
       "      <th>2016-09-01 01:59:59</th>\n",
       "      <td>215.392455</td>\n",
       "      <td>14.987471</td>\n",
       "      <td>8.080000</td>\n",
       "      <td>0.990469</td>\n",
       "      <td>1398.777912</td>\n",
       "      <td>-500.057435</td>\n",
       "      <td>1398.055362</td>\n",
       "      <td>-499.778182</td>\n",
       "      <td>1396.151033</td>\n",
       "      <td>-499.240168</td>\n",
       "      <td>...</td>\n",
       "      <td>12.058140</td>\n",
       "      <td>-498.695773</td>\n",
       "      <td>8.130979</td>\n",
       "      <td>-499.634209</td>\n",
       "      <td>7.958270</td>\n",
       "      <td>-525.839648</td>\n",
       "      <td>4.878850</td>\n",
       "      <td>-500.162375</td>\n",
       "      <td>25.019940</td>\n",
       "      <td>-499.819438</td>\n",
       "    </tr>\n",
       "    <tr>\n",
       "      <th>2016-09-01 02:59:59</th>\n",
       "      <td>215.259946</td>\n",
       "      <td>12.884934</td>\n",
       "      <td>7.786667</td>\n",
       "      <td>0.996043</td>\n",
       "      <td>1398.493666</td>\n",
       "      <td>-500.868360</td>\n",
       "      <td>1398.860436</td>\n",
       "      <td>-499.764529</td>\n",
       "      <td>1398.075709</td>\n",
       "      <td>-502.151509</td>\n",
       "      <td>...</td>\n",
       "      <td>11.962366</td>\n",
       "      <td>-498.767484</td>\n",
       "      <td>8.096893</td>\n",
       "      <td>-500.827423</td>\n",
       "      <td>8.071056</td>\n",
       "      <td>-500.801673</td>\n",
       "      <td>4.905125</td>\n",
       "      <td>-499.828510</td>\n",
       "      <td>24.994862</td>\n",
       "      <td>-500.622559</td>\n",
       "    </tr>\n",
       "    <tr>\n",
       "      <th>2016-09-01 03:59:59</th>\n",
       "      <td>215.336236</td>\n",
       "      <td>12.006805</td>\n",
       "      <td>7.640000</td>\n",
       "      <td>0.863514</td>\n",
       "      <td>1399.618111</td>\n",
       "      <td>-498.863574</td>\n",
       "      <td>1397.440120</td>\n",
       "      <td>-499.211024</td>\n",
       "      <td>1400.129303</td>\n",
       "      <td>-498.355873</td>\n",
       "      <td>...</td>\n",
       "      <td>12.033091</td>\n",
       "      <td>-498.350935</td>\n",
       "      <td>8.074946</td>\n",
       "      <td>-499.474407</td>\n",
       "      <td>7.897085</td>\n",
       "      <td>-500.868509</td>\n",
       "      <td>4.931400</td>\n",
       "      <td>-499.963623</td>\n",
       "      <td>24.948919</td>\n",
       "      <td>-498.709987</td>\n",
       "    </tr>\n",
       "    <tr>\n",
       "      <th>2016-09-01 04:59:59</th>\n",
       "      <td>199.099327</td>\n",
       "      <td>10.682530</td>\n",
       "      <td>7.530000</td>\n",
       "      <td>0.805575</td>\n",
       "      <td>1401.268123</td>\n",
       "      <td>-500.808305</td>\n",
       "      <td>1398.128818</td>\n",
       "      <td>-499.504543</td>\n",
       "      <td>1402.172226</td>\n",
       "      <td>-500.810606</td>\n",
       "      <td>...</td>\n",
       "      <td>12.025367</td>\n",
       "      <td>-500.786497</td>\n",
       "      <td>8.054678</td>\n",
       "      <td>-500.397500</td>\n",
       "      <td>8.107890</td>\n",
       "      <td>-509.526725</td>\n",
       "      <td>4.957674</td>\n",
       "      <td>-500.360026</td>\n",
       "      <td>25.003331</td>\n",
       "      <td>-500.856333</td>\n",
       "    </tr>\n",
       "  </tbody>\n",
       "</table>\n",
       "<p>5 rows × 52 columns</p>\n",
       "</div>"
      ],
      "text/plain": [
       "                     primary_cleaner.input.sulfate  \\\n",
       "date                                                 \n",
       "2016-09-01 00:59:59                     210.800909   \n",
       "2016-09-01 01:59:59                     215.392455   \n",
       "2016-09-01 02:59:59                     215.259946   \n",
       "2016-09-01 03:59:59                     215.336236   \n",
       "2016-09-01 04:59:59                     199.099327   \n",
       "\n",
       "                     primary_cleaner.input.depressant  \\\n",
       "date                                                    \n",
       "2016-09-01 00:59:59                         14.993118   \n",
       "2016-09-01 01:59:59                         14.987471   \n",
       "2016-09-01 02:59:59                         12.884934   \n",
       "2016-09-01 03:59:59                         12.006805   \n",
       "2016-09-01 04:59:59                         10.682530   \n",
       "\n",
       "                     primary_cleaner.input.feed_size  \\\n",
       "date                                                   \n",
       "2016-09-01 00:59:59                         8.080000   \n",
       "2016-09-01 01:59:59                         8.080000   \n",
       "2016-09-01 02:59:59                         7.786667   \n",
       "2016-09-01 03:59:59                         7.640000   \n",
       "2016-09-01 04:59:59                         7.530000   \n",
       "\n",
       "                     primary_cleaner.input.xanthate  \\\n",
       "date                                                  \n",
       "2016-09-01 00:59:59                        1.005021   \n",
       "2016-09-01 01:59:59                        0.990469   \n",
       "2016-09-01 02:59:59                        0.996043   \n",
       "2016-09-01 03:59:59                        0.863514   \n",
       "2016-09-01 04:59:59                        0.805575   \n",
       "\n",
       "                     primary_cleaner.state.floatbank8_a_air  \\\n",
       "date                                                          \n",
       "2016-09-01 00:59:59                             1398.981301   \n",
       "2016-09-01 01:59:59                             1398.777912   \n",
       "2016-09-01 02:59:59                             1398.493666   \n",
       "2016-09-01 03:59:59                             1399.618111   \n",
       "2016-09-01 04:59:59                             1401.268123   \n",
       "\n",
       "                     primary_cleaner.state.floatbank8_a_level  \\\n",
       "date                                                            \n",
       "2016-09-01 00:59:59                               -500.225577   \n",
       "2016-09-01 01:59:59                               -500.057435   \n",
       "2016-09-01 02:59:59                               -500.868360   \n",
       "2016-09-01 03:59:59                               -498.863574   \n",
       "2016-09-01 04:59:59                               -500.808305   \n",
       "\n",
       "                     primary_cleaner.state.floatbank8_b_air  \\\n",
       "date                                                          \n",
       "2016-09-01 00:59:59                             1399.144926   \n",
       "2016-09-01 01:59:59                             1398.055362   \n",
       "2016-09-01 02:59:59                             1398.860436   \n",
       "2016-09-01 03:59:59                             1397.440120   \n",
       "2016-09-01 04:59:59                             1398.128818   \n",
       "\n",
       "                     primary_cleaner.state.floatbank8_b_level  \\\n",
       "date                                                            \n",
       "2016-09-01 00:59:59                               -499.919735   \n",
       "2016-09-01 01:59:59                               -499.778182   \n",
       "2016-09-01 02:59:59                               -499.764529   \n",
       "2016-09-01 03:59:59                               -499.211024   \n",
       "2016-09-01 04:59:59                               -499.504543   \n",
       "\n",
       "                     primary_cleaner.state.floatbank8_c_air  \\\n",
       "date                                                          \n",
       "2016-09-01 00:59:59                             1400.102998   \n",
       "2016-09-01 01:59:59                             1396.151033   \n",
       "2016-09-01 02:59:59                             1398.075709   \n",
       "2016-09-01 03:59:59                             1400.129303   \n",
       "2016-09-01 04:59:59                             1402.172226   \n",
       "\n",
       "                     primary_cleaner.state.floatbank8_c_level  ...  \\\n",
       "date                                                           ...   \n",
       "2016-09-01 00:59:59                               -500.704369  ...   \n",
       "2016-09-01 01:59:59                               -499.240168  ...   \n",
       "2016-09-01 02:59:59                               -502.151509  ...   \n",
       "2016-09-01 03:59:59                               -498.355873  ...   \n",
       "2016-09-01 04:59:59                               -500.810606  ...   \n",
       "\n",
       "                     secondary_cleaner.state.floatbank4_a_air  \\\n",
       "date                                                            \n",
       "2016-09-01 00:59:59                                 12.023554   \n",
       "2016-09-01 01:59:59                                 12.058140   \n",
       "2016-09-01 02:59:59                                 11.962366   \n",
       "2016-09-01 03:59:59                                 12.033091   \n",
       "2016-09-01 04:59:59                                 12.025367   \n",
       "\n",
       "                     secondary_cleaner.state.floatbank4_a_level  \\\n",
       "date                                                              \n",
       "2016-09-01 00:59:59                                 -497.795834   \n",
       "2016-09-01 01:59:59                                 -498.695773   \n",
       "2016-09-01 02:59:59                                 -498.767484   \n",
       "2016-09-01 03:59:59                                 -498.350935   \n",
       "2016-09-01 04:59:59                                 -500.786497   \n",
       "\n",
       "                     secondary_cleaner.state.floatbank4_b_air  \\\n",
       "date                                                            \n",
       "2016-09-01 00:59:59                                  8.016656   \n",
       "2016-09-01 01:59:59                                  8.130979   \n",
       "2016-09-01 02:59:59                                  8.096893   \n",
       "2016-09-01 03:59:59                                  8.074946   \n",
       "2016-09-01 04:59:59                                  8.054678   \n",
       "\n",
       "                     secondary_cleaner.state.floatbank4_b_level  \\\n",
       "date                                                              \n",
       "2016-09-01 00:59:59                                 -501.289139   \n",
       "2016-09-01 01:59:59                                 -499.634209   \n",
       "2016-09-01 02:59:59                                 -500.827423   \n",
       "2016-09-01 03:59:59                                 -499.474407   \n",
       "2016-09-01 04:59:59                                 -500.397500   \n",
       "\n",
       "                     secondary_cleaner.state.floatbank5_a_air  \\\n",
       "date                                                            \n",
       "2016-09-01 00:59:59                                  7.946562   \n",
       "2016-09-01 01:59:59                                  7.958270   \n",
       "2016-09-01 02:59:59                                  8.071056   \n",
       "2016-09-01 03:59:59                                  7.897085   \n",
       "2016-09-01 04:59:59                                  8.107890   \n",
       "\n",
       "                     secondary_cleaner.state.floatbank5_a_level  \\\n",
       "date                                                              \n",
       "2016-09-01 00:59:59                                 -432.317850   \n",
       "2016-09-01 01:59:59                                 -525.839648   \n",
       "2016-09-01 02:59:59                                 -500.801673   \n",
       "2016-09-01 03:59:59                                 -500.868509   \n",
       "2016-09-01 04:59:59                                 -509.526725   \n",
       "\n",
       "                     secondary_cleaner.state.floatbank5_b_air  \\\n",
       "date                                                            \n",
       "2016-09-01 00:59:59                                  4.872511   \n",
       "2016-09-01 01:59:59                                  4.878850   \n",
       "2016-09-01 02:59:59                                  4.905125   \n",
       "2016-09-01 03:59:59                                  4.931400   \n",
       "2016-09-01 04:59:59                                  4.957674   \n",
       "\n",
       "                     secondary_cleaner.state.floatbank5_b_level  \\\n",
       "date                                                              \n",
       "2016-09-01 00:59:59                                 -500.037437   \n",
       "2016-09-01 01:59:59                                 -500.162375   \n",
       "2016-09-01 02:59:59                                 -499.828510   \n",
       "2016-09-01 03:59:59                                 -499.963623   \n",
       "2016-09-01 04:59:59                                 -500.360026   \n",
       "\n",
       "                     secondary_cleaner.state.floatbank6_a_air  \\\n",
       "date                                                            \n",
       "2016-09-01 00:59:59                                 26.705889   \n",
       "2016-09-01 01:59:59                                 25.019940   \n",
       "2016-09-01 02:59:59                                 24.994862   \n",
       "2016-09-01 03:59:59                                 24.948919   \n",
       "2016-09-01 04:59:59                                 25.003331   \n",
       "\n",
       "                     secondary_cleaner.state.floatbank6_a_level  \n",
       "date                                                             \n",
       "2016-09-01 00:59:59                                 -499.709414  \n",
       "2016-09-01 01:59:59                                 -499.819438  \n",
       "2016-09-01 02:59:59                                 -500.622559  \n",
       "2016-09-01 03:59:59                                 -498.709987  \n",
       "2016-09-01 04:59:59                                 -500.856333  \n",
       "\n",
       "[5 rows x 52 columns]"
      ]
     },
     "metadata": {},
     "output_type": "display_data"
    },
    {
     "data": {
      "text/html": [
       "<div>\n",
       "<style scoped>\n",
       "    .dataframe tbody tr th:only-of-type {\n",
       "        vertical-align: middle;\n",
       "    }\n",
       "\n",
       "    .dataframe tbody tr th {\n",
       "        vertical-align: top;\n",
       "    }\n",
       "\n",
       "    .dataframe thead th {\n",
       "        text-align: right;\n",
       "    }\n",
       "</style>\n",
       "<table border=\"1\" class=\"dataframe\">\n",
       "  <thead>\n",
       "    <tr style=\"text-align: right;\">\n",
       "      <th></th>\n",
       "      <th>primary_cleaner.input.sulfate</th>\n",
       "      <th>primary_cleaner.input.depressant</th>\n",
       "      <th>primary_cleaner.input.feed_size</th>\n",
       "      <th>primary_cleaner.input.xanthate</th>\n",
       "      <th>primary_cleaner.state.floatbank8_a_air</th>\n",
       "      <th>primary_cleaner.state.floatbank8_a_level</th>\n",
       "      <th>primary_cleaner.state.floatbank8_b_air</th>\n",
       "      <th>primary_cleaner.state.floatbank8_b_level</th>\n",
       "      <th>primary_cleaner.state.floatbank8_c_air</th>\n",
       "      <th>primary_cleaner.state.floatbank8_c_level</th>\n",
       "      <th>...</th>\n",
       "      <th>secondary_cleaner.state.floatbank4_a_air</th>\n",
       "      <th>secondary_cleaner.state.floatbank4_a_level</th>\n",
       "      <th>secondary_cleaner.state.floatbank4_b_air</th>\n",
       "      <th>secondary_cleaner.state.floatbank4_b_level</th>\n",
       "      <th>secondary_cleaner.state.floatbank5_a_air</th>\n",
       "      <th>secondary_cleaner.state.floatbank5_a_level</th>\n",
       "      <th>secondary_cleaner.state.floatbank5_b_air</th>\n",
       "      <th>secondary_cleaner.state.floatbank5_b_level</th>\n",
       "      <th>secondary_cleaner.state.floatbank6_a_air</th>\n",
       "      <th>secondary_cleaner.state.floatbank6_a_level</th>\n",
       "    </tr>\n",
       "  </thead>\n",
       "  <tbody>\n",
       "    <tr>\n",
       "      <th>count</th>\n",
       "      <td>5286.000000</td>\n",
       "      <td>5285.000000</td>\n",
       "      <td>5290.000000</td>\n",
       "      <td>5286.000000</td>\n",
       "      <td>5.290000e+03</td>\n",
       "      <td>5290.000000</td>\n",
       "      <td>5.290000e+03</td>\n",
       "      <td>5290.000000</td>\n",
       "      <td>5.290000e+03</td>\n",
       "      <td>5290.000000</td>\n",
       "      <td>...</td>\n",
       "      <td>5.290000e+03</td>\n",
       "      <td>5290.000000</td>\n",
       "      <td>5.290000e+03</td>\n",
       "      <td>5290.000000</td>\n",
       "      <td>5290.000000</td>\n",
       "      <td>5290.000000</td>\n",
       "      <td>5290.000000</td>\n",
       "      <td>5290.000000</td>\n",
       "      <td>5290.000000</td>\n",
       "      <td>5290.000000</td>\n",
       "    </tr>\n",
       "    <tr>\n",
       "      <th>mean</th>\n",
       "      <td>174.839652</td>\n",
       "      <td>8.683596</td>\n",
       "      <td>7.266339</td>\n",
       "      <td>1.383803</td>\n",
       "      <td>1.539494e+03</td>\n",
       "      <td>-497.665883</td>\n",
       "      <td>1.545174e+03</td>\n",
       "      <td>-500.273098</td>\n",
       "      <td>1.527272e+03</td>\n",
       "      <td>-498.330680</td>\n",
       "      <td>...</td>\n",
       "      <td>1.632007e+01</td>\n",
       "      <td>-505.144570</td>\n",
       "      <td>1.373544e+01</td>\n",
       "      <td>-463.349858</td>\n",
       "      <td>12.804186</td>\n",
       "      <td>-501.329122</td>\n",
       "      <td>9.881145</td>\n",
       "      <td>-495.663398</td>\n",
       "      <td>17.304935</td>\n",
       "      <td>-501.793193</td>\n",
       "    </tr>\n",
       "    <tr>\n",
       "      <th>std</th>\n",
       "      <td>43.027080</td>\n",
       "      <td>3.072050</td>\n",
       "      <td>0.610219</td>\n",
       "      <td>0.643474</td>\n",
       "      <td>1.167979e+02</td>\n",
       "      <td>19.952431</td>\n",
       "      <td>1.222246e+02</td>\n",
       "      <td>32.968307</td>\n",
       "      <td>1.225380e+02</td>\n",
       "      <td>21.964876</td>\n",
       "      <td>...</td>\n",
       "      <td>3.493583e+00</td>\n",
       "      <td>31.427337</td>\n",
       "      <td>3.430484e+00</td>\n",
       "      <td>86.189107</td>\n",
       "      <td>3.026591</td>\n",
       "      <td>17.951495</td>\n",
       "      <td>2.868205</td>\n",
       "      <td>34.535007</td>\n",
       "      <td>4.536544</td>\n",
       "      <td>39.044215</td>\n",
       "    </tr>\n",
       "    <tr>\n",
       "      <th>min</th>\n",
       "      <td>2.566156</td>\n",
       "      <td>0.003839</td>\n",
       "      <td>5.650000</td>\n",
       "      <td>0.004984</td>\n",
       "      <td>5.445860e-32</td>\n",
       "      <td>-795.316337</td>\n",
       "      <td>6.647490e-32</td>\n",
       "      <td>-799.997015</td>\n",
       "      <td>4.033736e-32</td>\n",
       "      <td>-799.960571</td>\n",
       "      <td>...</td>\n",
       "      <td>1.079872e-16</td>\n",
       "      <td>-799.798523</td>\n",
       "      <td>2.489718e-17</td>\n",
       "      <td>-800.836914</td>\n",
       "      <td>0.069227</td>\n",
       "      <td>-797.323986</td>\n",
       "      <td>0.528083</td>\n",
       "      <td>-800.220337</td>\n",
       "      <td>-0.079426</td>\n",
       "      <td>-809.741464</td>\n",
       "    </tr>\n",
       "    <tr>\n",
       "      <th>25%</th>\n",
       "      <td>147.121401</td>\n",
       "      <td>6.489555</td>\n",
       "      <td>6.890000</td>\n",
       "      <td>0.907623</td>\n",
       "      <td>1.498936e+03</td>\n",
       "      <td>-500.357298</td>\n",
       "      <td>1.498971e+03</td>\n",
       "      <td>-500.703002</td>\n",
       "      <td>1.473230e+03</td>\n",
       "      <td>-501.018117</td>\n",
       "      <td>...</td>\n",
       "      <td>1.403618e+01</td>\n",
       "      <td>-500.868258</td>\n",
       "      <td>1.202862e+01</td>\n",
       "      <td>-500.323028</td>\n",
       "      <td>10.914838</td>\n",
       "      <td>-500.726841</td>\n",
       "      <td>8.036719</td>\n",
       "      <td>-500.194668</td>\n",
       "      <td>13.997317</td>\n",
       "      <td>-500.690984</td>\n",
       "    </tr>\n",
       "    <tr>\n",
       "      <th>50%</th>\n",
       "      <td>177.828489</td>\n",
       "      <td>8.052207</td>\n",
       "      <td>7.250000</td>\n",
       "      <td>1.197610</td>\n",
       "      <td>1.585129e+03</td>\n",
       "      <td>-499.969164</td>\n",
       "      <td>1.595622e+03</td>\n",
       "      <td>-500.028514</td>\n",
       "      <td>1.549595e+03</td>\n",
       "      <td>-500.017711</td>\n",
       "      <td>...</td>\n",
       "      <td>1.700847e+01</td>\n",
       "      <td>-500.115727</td>\n",
       "      <td>1.496486e+01</td>\n",
       "      <td>-499.576513</td>\n",
       "      <td>12.954182</td>\n",
       "      <td>-499.990332</td>\n",
       "      <td>10.004301</td>\n",
       "      <td>-499.990535</td>\n",
       "      <td>16.014935</td>\n",
       "      <td>-500.007126</td>\n",
       "    </tr>\n",
       "    <tr>\n",
       "      <th>75%</th>\n",
       "      <td>208.125438</td>\n",
       "      <td>10.027764</td>\n",
       "      <td>7.600000</td>\n",
       "      <td>1.797819</td>\n",
       "      <td>1.602077e+03</td>\n",
       "      <td>-499.568951</td>\n",
       "      <td>1.602324e+03</td>\n",
       "      <td>-499.293257</td>\n",
       "      <td>1.601144e+03</td>\n",
       "      <td>-498.994130</td>\n",
       "      <td>...</td>\n",
       "      <td>1.803862e+01</td>\n",
       "      <td>-499.404224</td>\n",
       "      <td>1.596213e+01</td>\n",
       "      <td>-400.933805</td>\n",
       "      <td>15.097528</td>\n",
       "      <td>-499.283191</td>\n",
       "      <td>11.997467</td>\n",
       "      <td>-499.719913</td>\n",
       "      <td>21.020013</td>\n",
       "      <td>-499.373018</td>\n",
       "    </tr>\n",
       "    <tr>\n",
       "      <th>max</th>\n",
       "      <td>265.983123</td>\n",
       "      <td>40.000000</td>\n",
       "      <td>15.500000</td>\n",
       "      <td>4.102454</td>\n",
       "      <td>2.103104e+03</td>\n",
       "      <td>-57.195404</td>\n",
       "      <td>1.813084e+03</td>\n",
       "      <td>-142.527229</td>\n",
       "      <td>1.715054e+03</td>\n",
       "      <td>-150.937035</td>\n",
       "      <td>...</td>\n",
       "      <td>3.005180e+01</td>\n",
       "      <td>-401.565212</td>\n",
       "      <td>3.126971e+01</td>\n",
       "      <td>-6.506986</td>\n",
       "      <td>25.258848</td>\n",
       "      <td>-244.483566</td>\n",
       "      <td>14.086866</td>\n",
       "      <td>-137.740004</td>\n",
       "      <td>26.705889</td>\n",
       "      <td>-123.307487</td>\n",
       "    </tr>\n",
       "  </tbody>\n",
       "</table>\n",
       "<p>8 rows × 52 columns</p>\n",
       "</div>"
      ],
      "text/plain": [
       "       primary_cleaner.input.sulfate  primary_cleaner.input.depressant  \\\n",
       "count                    5286.000000                       5285.000000   \n",
       "mean                      174.839652                          8.683596   \n",
       "std                        43.027080                          3.072050   \n",
       "min                         2.566156                          0.003839   \n",
       "25%                       147.121401                          6.489555   \n",
       "50%                       177.828489                          8.052207   \n",
       "75%                       208.125438                         10.027764   \n",
       "max                       265.983123                         40.000000   \n",
       "\n",
       "       primary_cleaner.input.feed_size  primary_cleaner.input.xanthate  \\\n",
       "count                      5290.000000                     5286.000000   \n",
       "mean                          7.266339                        1.383803   \n",
       "std                           0.610219                        0.643474   \n",
       "min                           5.650000                        0.004984   \n",
       "25%                           6.890000                        0.907623   \n",
       "50%                           7.250000                        1.197610   \n",
       "75%                           7.600000                        1.797819   \n",
       "max                          15.500000                        4.102454   \n",
       "\n",
       "       primary_cleaner.state.floatbank8_a_air  \\\n",
       "count                            5.290000e+03   \n",
       "mean                             1.539494e+03   \n",
       "std                              1.167979e+02   \n",
       "min                              5.445860e-32   \n",
       "25%                              1.498936e+03   \n",
       "50%                              1.585129e+03   \n",
       "75%                              1.602077e+03   \n",
       "max                              2.103104e+03   \n",
       "\n",
       "       primary_cleaner.state.floatbank8_a_level  \\\n",
       "count                               5290.000000   \n",
       "mean                                -497.665883   \n",
       "std                                   19.952431   \n",
       "min                                 -795.316337   \n",
       "25%                                 -500.357298   \n",
       "50%                                 -499.969164   \n",
       "75%                                 -499.568951   \n",
       "max                                  -57.195404   \n",
       "\n",
       "       primary_cleaner.state.floatbank8_b_air  \\\n",
       "count                            5.290000e+03   \n",
       "mean                             1.545174e+03   \n",
       "std                              1.222246e+02   \n",
       "min                              6.647490e-32   \n",
       "25%                              1.498971e+03   \n",
       "50%                              1.595622e+03   \n",
       "75%                              1.602324e+03   \n",
       "max                              1.813084e+03   \n",
       "\n",
       "       primary_cleaner.state.floatbank8_b_level  \\\n",
       "count                               5290.000000   \n",
       "mean                                -500.273098   \n",
       "std                                   32.968307   \n",
       "min                                 -799.997015   \n",
       "25%                                 -500.703002   \n",
       "50%                                 -500.028514   \n",
       "75%                                 -499.293257   \n",
       "max                                 -142.527229   \n",
       "\n",
       "       primary_cleaner.state.floatbank8_c_air  \\\n",
       "count                            5.290000e+03   \n",
       "mean                             1.527272e+03   \n",
       "std                              1.225380e+02   \n",
       "min                              4.033736e-32   \n",
       "25%                              1.473230e+03   \n",
       "50%                              1.549595e+03   \n",
       "75%                              1.601144e+03   \n",
       "max                              1.715054e+03   \n",
       "\n",
       "       primary_cleaner.state.floatbank8_c_level  ...  \\\n",
       "count                               5290.000000  ...   \n",
       "mean                                -498.330680  ...   \n",
       "std                                   21.964876  ...   \n",
       "min                                 -799.960571  ...   \n",
       "25%                                 -501.018117  ...   \n",
       "50%                                 -500.017711  ...   \n",
       "75%                                 -498.994130  ...   \n",
       "max                                 -150.937035  ...   \n",
       "\n",
       "       secondary_cleaner.state.floatbank4_a_air  \\\n",
       "count                              5.290000e+03   \n",
       "mean                               1.632007e+01   \n",
       "std                                3.493583e+00   \n",
       "min                                1.079872e-16   \n",
       "25%                                1.403618e+01   \n",
       "50%                                1.700847e+01   \n",
       "75%                                1.803862e+01   \n",
       "max                                3.005180e+01   \n",
       "\n",
       "       secondary_cleaner.state.floatbank4_a_level  \\\n",
       "count                                 5290.000000   \n",
       "mean                                  -505.144570   \n",
       "std                                     31.427337   \n",
       "min                                   -799.798523   \n",
       "25%                                   -500.868258   \n",
       "50%                                   -500.115727   \n",
       "75%                                   -499.404224   \n",
       "max                                   -401.565212   \n",
       "\n",
       "       secondary_cleaner.state.floatbank4_b_air  \\\n",
       "count                              5.290000e+03   \n",
       "mean                               1.373544e+01   \n",
       "std                                3.430484e+00   \n",
       "min                                2.489718e-17   \n",
       "25%                                1.202862e+01   \n",
       "50%                                1.496486e+01   \n",
       "75%                                1.596213e+01   \n",
       "max                                3.126971e+01   \n",
       "\n",
       "       secondary_cleaner.state.floatbank4_b_level  \\\n",
       "count                                 5290.000000   \n",
       "mean                                  -463.349858   \n",
       "std                                     86.189107   \n",
       "min                                   -800.836914   \n",
       "25%                                   -500.323028   \n",
       "50%                                   -499.576513   \n",
       "75%                                   -400.933805   \n",
       "max                                     -6.506986   \n",
       "\n",
       "       secondary_cleaner.state.floatbank5_a_air  \\\n",
       "count                               5290.000000   \n",
       "mean                                  12.804186   \n",
       "std                                    3.026591   \n",
       "min                                    0.069227   \n",
       "25%                                   10.914838   \n",
       "50%                                   12.954182   \n",
       "75%                                   15.097528   \n",
       "max                                   25.258848   \n",
       "\n",
       "       secondary_cleaner.state.floatbank5_a_level  \\\n",
       "count                                 5290.000000   \n",
       "mean                                  -501.329122   \n",
       "std                                     17.951495   \n",
       "min                                   -797.323986   \n",
       "25%                                   -500.726841   \n",
       "50%                                   -499.990332   \n",
       "75%                                   -499.283191   \n",
       "max                                   -244.483566   \n",
       "\n",
       "       secondary_cleaner.state.floatbank5_b_air  \\\n",
       "count                               5290.000000   \n",
       "mean                                   9.881145   \n",
       "std                                    2.868205   \n",
       "min                                    0.528083   \n",
       "25%                                    8.036719   \n",
       "50%                                   10.004301   \n",
       "75%                                   11.997467   \n",
       "max                                   14.086866   \n",
       "\n",
       "       secondary_cleaner.state.floatbank5_b_level  \\\n",
       "count                                 5290.000000   \n",
       "mean                                  -495.663398   \n",
       "std                                     34.535007   \n",
       "min                                   -800.220337   \n",
       "25%                                   -500.194668   \n",
       "50%                                   -499.990535   \n",
       "75%                                   -499.719913   \n",
       "max                                   -137.740004   \n",
       "\n",
       "       secondary_cleaner.state.floatbank6_a_air  \\\n",
       "count                               5290.000000   \n",
       "mean                                  17.304935   \n",
       "std                                    4.536544   \n",
       "min                                   -0.079426   \n",
       "25%                                   13.997317   \n",
       "50%                                   16.014935   \n",
       "75%                                   21.020013   \n",
       "max                                   26.705889   \n",
       "\n",
       "       secondary_cleaner.state.floatbank6_a_level  \n",
       "count                                 5290.000000  \n",
       "mean                                  -501.793193  \n",
       "std                                     39.044215  \n",
       "min                                   -809.741464  \n",
       "25%                                   -500.690984  \n",
       "50%                                   -500.007126  \n",
       "75%                                   -499.373018  \n",
       "max                                   -123.307487  \n",
       "\n",
       "[8 rows x 52 columns]"
      ]
     },
     "metadata": {},
     "output_type": "display_data"
    },
    {
     "name": "stdout",
     "output_type": "stream",
     "text": [
      "<class 'pandas.core.frame.DataFrame'>\n",
      "Index: 5290 entries, 2016-09-01 00:59:59 to 2017-12-31 23:59:59\n",
      "Data columns (total 52 columns):\n",
      " #   Column                                      Non-Null Count  Dtype  \n",
      "---  ------                                      --------------  -----  \n",
      " 0   primary_cleaner.input.sulfate               5286 non-null   float64\n",
      " 1   primary_cleaner.input.depressant            5285 non-null   float64\n",
      " 2   primary_cleaner.input.feed_size             5290 non-null   float64\n",
      " 3   primary_cleaner.input.xanthate              5286 non-null   float64\n",
      " 4   primary_cleaner.state.floatbank8_a_air      5290 non-null   float64\n",
      " 5   primary_cleaner.state.floatbank8_a_level    5290 non-null   float64\n",
      " 6   primary_cleaner.state.floatbank8_b_air      5290 non-null   float64\n",
      " 7   primary_cleaner.state.floatbank8_b_level    5290 non-null   float64\n",
      " 8   primary_cleaner.state.floatbank8_c_air      5290 non-null   float64\n",
      " 9   primary_cleaner.state.floatbank8_c_level    5290 non-null   float64\n",
      " 10  primary_cleaner.state.floatbank8_d_air      5290 non-null   float64\n",
      " 11  primary_cleaner.state.floatbank8_d_level    5290 non-null   float64\n",
      " 12  rougher.input.feed_ag                       5290 non-null   float64\n",
      " 13  rougher.input.feed_pb                       5290 non-null   float64\n",
      " 14  rougher.input.feed_rate                     5287 non-null   float64\n",
      " 15  rougher.input.feed_size                     5289 non-null   float64\n",
      " 16  rougher.input.feed_sol                      5269 non-null   float64\n",
      " 17  rougher.input.feed_au                       5290 non-null   float64\n",
      " 18  rougher.input.floatbank10_sulfate           5285 non-null   float64\n",
      " 19  rougher.input.floatbank10_xanthate          5290 non-null   float64\n",
      " 20  rougher.input.floatbank11_sulfate           5282 non-null   float64\n",
      " 21  rougher.input.floatbank11_xanthate          5265 non-null   float64\n",
      " 22  rougher.state.floatbank10_a_air             5290 non-null   float64\n",
      " 23  rougher.state.floatbank10_a_level           5290 non-null   float64\n",
      " 24  rougher.state.floatbank10_b_air             5290 non-null   float64\n",
      " 25  rougher.state.floatbank10_b_level           5290 non-null   float64\n",
      " 26  rougher.state.floatbank10_c_air             5290 non-null   float64\n",
      " 27  rougher.state.floatbank10_c_level           5290 non-null   float64\n",
      " 28  rougher.state.floatbank10_d_air             5290 non-null   float64\n",
      " 29  rougher.state.floatbank10_d_level           5290 non-null   float64\n",
      " 30  rougher.state.floatbank10_e_air             5290 non-null   float64\n",
      " 31  rougher.state.floatbank10_e_level           5290 non-null   float64\n",
      " 32  rougher.state.floatbank10_f_air             5290 non-null   float64\n",
      " 33  rougher.state.floatbank10_f_level           5290 non-null   float64\n",
      " 34  secondary_cleaner.state.floatbank2_a_air    5287 non-null   float64\n",
      " 35  secondary_cleaner.state.floatbank2_a_level  5290 non-null   float64\n",
      " 36  secondary_cleaner.state.floatbank2_b_air    5288 non-null   float64\n",
      " 37  secondary_cleaner.state.floatbank2_b_level  5290 non-null   float64\n",
      " 38  secondary_cleaner.state.floatbank3_a_air    5281 non-null   float64\n",
      " 39  secondary_cleaner.state.floatbank3_a_level  5290 non-null   float64\n",
      " 40  secondary_cleaner.state.floatbank3_b_air    5290 non-null   float64\n",
      " 41  secondary_cleaner.state.floatbank3_b_level  5290 non-null   float64\n",
      " 42  secondary_cleaner.state.floatbank4_a_air    5290 non-null   float64\n",
      " 43  secondary_cleaner.state.floatbank4_a_level  5290 non-null   float64\n",
      " 44  secondary_cleaner.state.floatbank4_b_air    5290 non-null   float64\n",
      " 45  secondary_cleaner.state.floatbank4_b_level  5290 non-null   float64\n",
      " 46  secondary_cleaner.state.floatbank5_a_air    5290 non-null   float64\n",
      " 47  secondary_cleaner.state.floatbank5_a_level  5290 non-null   float64\n",
      " 48  secondary_cleaner.state.floatbank5_b_air    5290 non-null   float64\n",
      " 49  secondary_cleaner.state.floatbank5_b_level  5290 non-null   float64\n",
      " 50  secondary_cleaner.state.floatbank6_a_air    5290 non-null   float64\n",
      " 51  secondary_cleaner.state.floatbank6_a_level  5290 non-null   float64\n",
      "dtypes: float64(52)\n",
      "memory usage: 2.1+ MB\n"
     ]
    }
   ],
   "source": [
    "analyze_df(test_df)"
   ]
  },
  {
   "cell_type": "code",
   "execution_count": 6,
   "metadata": {
    "scrolled": true
   },
   "outputs": [
    {
     "name": "stdout",
     "output_type": "stream",
     "text": [
      "Количество столбцов: 86\n",
      "Количество строк: 19439\n",
      "Количество пропусков: 4481\n",
      "Количество дубликатов: 0\n"
     ]
    },
    {
     "data": {
      "text/html": [
       "<div>\n",
       "<style scoped>\n",
       "    .dataframe tbody tr th:only-of-type {\n",
       "        vertical-align: middle;\n",
       "    }\n",
       "\n",
       "    .dataframe tbody tr th {\n",
       "        vertical-align: top;\n",
       "    }\n",
       "\n",
       "    .dataframe thead th {\n",
       "        text-align: right;\n",
       "    }\n",
       "</style>\n",
       "<table border=\"1\" class=\"dataframe\">\n",
       "  <thead>\n",
       "    <tr style=\"text-align: right;\">\n",
       "      <th></th>\n",
       "      <th>final.output.concentrate_ag</th>\n",
       "      <th>final.output.concentrate_pb</th>\n",
       "      <th>final.output.concentrate_sol</th>\n",
       "      <th>final.output.concentrate_au</th>\n",
       "      <th>final.output.recovery</th>\n",
       "      <th>final.output.tail_ag</th>\n",
       "      <th>final.output.tail_pb</th>\n",
       "      <th>final.output.tail_sol</th>\n",
       "      <th>final.output.tail_au</th>\n",
       "      <th>primary_cleaner.input.sulfate</th>\n",
       "      <th>...</th>\n",
       "      <th>secondary_cleaner.state.floatbank4_a_air</th>\n",
       "      <th>secondary_cleaner.state.floatbank4_a_level</th>\n",
       "      <th>secondary_cleaner.state.floatbank4_b_air</th>\n",
       "      <th>secondary_cleaner.state.floatbank4_b_level</th>\n",
       "      <th>secondary_cleaner.state.floatbank5_a_air</th>\n",
       "      <th>secondary_cleaner.state.floatbank5_a_level</th>\n",
       "      <th>secondary_cleaner.state.floatbank5_b_air</th>\n",
       "      <th>secondary_cleaner.state.floatbank5_b_level</th>\n",
       "      <th>secondary_cleaner.state.floatbank6_a_air</th>\n",
       "      <th>secondary_cleaner.state.floatbank6_a_level</th>\n",
       "    </tr>\n",
       "    <tr>\n",
       "      <th>date</th>\n",
       "      <th></th>\n",
       "      <th></th>\n",
       "      <th></th>\n",
       "      <th></th>\n",
       "      <th></th>\n",
       "      <th></th>\n",
       "      <th></th>\n",
       "      <th></th>\n",
       "      <th></th>\n",
       "      <th></th>\n",
       "      <th></th>\n",
       "      <th></th>\n",
       "      <th></th>\n",
       "      <th></th>\n",
       "      <th></th>\n",
       "      <th></th>\n",
       "      <th></th>\n",
       "      <th></th>\n",
       "      <th></th>\n",
       "      <th></th>\n",
       "      <th></th>\n",
       "    </tr>\n",
       "  </thead>\n",
       "  <tbody>\n",
       "    <tr>\n",
       "      <th>2016-01-15 00:00:00</th>\n",
       "      <td>6.055403</td>\n",
       "      <td>9.889648</td>\n",
       "      <td>5.507324</td>\n",
       "      <td>42.192020</td>\n",
       "      <td>70.541216</td>\n",
       "      <td>10.411962</td>\n",
       "      <td>0.895447</td>\n",
       "      <td>16.904297</td>\n",
       "      <td>2.143149</td>\n",
       "      <td>127.092003</td>\n",
       "      <td>...</td>\n",
       "      <td>14.016835</td>\n",
       "      <td>-502.488007</td>\n",
       "      <td>12.099931</td>\n",
       "      <td>-504.715942</td>\n",
       "      <td>9.925633</td>\n",
       "      <td>-498.310211</td>\n",
       "      <td>8.079666</td>\n",
       "      <td>-500.470978</td>\n",
       "      <td>14.151341</td>\n",
       "      <td>-605.841980</td>\n",
       "    </tr>\n",
       "    <tr>\n",
       "      <th>2016-01-15 01:00:00</th>\n",
       "      <td>6.029369</td>\n",
       "      <td>9.968944</td>\n",
       "      <td>5.257781</td>\n",
       "      <td>42.701629</td>\n",
       "      <td>69.266198</td>\n",
       "      <td>10.462676</td>\n",
       "      <td>0.927452</td>\n",
       "      <td>16.634514</td>\n",
       "      <td>2.224930</td>\n",
       "      <td>125.629232</td>\n",
       "      <td>...</td>\n",
       "      <td>13.992281</td>\n",
       "      <td>-505.503262</td>\n",
       "      <td>11.950531</td>\n",
       "      <td>-501.331529</td>\n",
       "      <td>10.039245</td>\n",
       "      <td>-500.169983</td>\n",
       "      <td>7.984757</td>\n",
       "      <td>-500.582168</td>\n",
       "      <td>13.998353</td>\n",
       "      <td>-599.787184</td>\n",
       "    </tr>\n",
       "    <tr>\n",
       "      <th>2016-01-15 02:00:00</th>\n",
       "      <td>6.055926</td>\n",
       "      <td>10.213995</td>\n",
       "      <td>5.383759</td>\n",
       "      <td>42.657501</td>\n",
       "      <td>68.116445</td>\n",
       "      <td>10.507046</td>\n",
       "      <td>0.953716</td>\n",
       "      <td>16.208849</td>\n",
       "      <td>2.257889</td>\n",
       "      <td>123.819808</td>\n",
       "      <td>...</td>\n",
       "      <td>14.015015</td>\n",
       "      <td>-502.520901</td>\n",
       "      <td>11.912783</td>\n",
       "      <td>-501.133383</td>\n",
       "      <td>10.070913</td>\n",
       "      <td>-500.129135</td>\n",
       "      <td>8.013877</td>\n",
       "      <td>-500.517572</td>\n",
       "      <td>14.028663</td>\n",
       "      <td>-601.427363</td>\n",
       "    </tr>\n",
       "    <tr>\n",
       "      <th>2016-01-15 03:00:00</th>\n",
       "      <td>6.047977</td>\n",
       "      <td>9.977019</td>\n",
       "      <td>4.858634</td>\n",
       "      <td>42.689819</td>\n",
       "      <td>68.347543</td>\n",
       "      <td>10.422762</td>\n",
       "      <td>0.883763</td>\n",
       "      <td>16.532835</td>\n",
       "      <td>2.146849</td>\n",
       "      <td>122.270188</td>\n",
       "      <td>...</td>\n",
       "      <td>14.036510</td>\n",
       "      <td>-500.857308</td>\n",
       "      <td>11.999550</td>\n",
       "      <td>-501.193686</td>\n",
       "      <td>9.970366</td>\n",
       "      <td>-499.201640</td>\n",
       "      <td>7.977324</td>\n",
       "      <td>-500.255908</td>\n",
       "      <td>14.005551</td>\n",
       "      <td>-599.996129</td>\n",
       "    </tr>\n",
       "    <tr>\n",
       "      <th>2016-01-15 04:00:00</th>\n",
       "      <td>6.148599</td>\n",
       "      <td>10.142511</td>\n",
       "      <td>4.939416</td>\n",
       "      <td>42.774141</td>\n",
       "      <td>66.927016</td>\n",
       "      <td>10.360302</td>\n",
       "      <td>0.792826</td>\n",
       "      <td>16.525686</td>\n",
       "      <td>2.055292</td>\n",
       "      <td>117.988169</td>\n",
       "      <td>...</td>\n",
       "      <td>14.027298</td>\n",
       "      <td>-499.838632</td>\n",
       "      <td>11.953070</td>\n",
       "      <td>-501.053894</td>\n",
       "      <td>9.925709</td>\n",
       "      <td>-501.686727</td>\n",
       "      <td>7.894242</td>\n",
       "      <td>-500.356035</td>\n",
       "      <td>13.996647</td>\n",
       "      <td>-601.496691</td>\n",
       "    </tr>\n",
       "  </tbody>\n",
       "</table>\n",
       "<p>5 rows × 86 columns</p>\n",
       "</div>"
      ],
      "text/plain": [
       "                     final.output.concentrate_ag  final.output.concentrate_pb  \\\n",
       "date                                                                            \n",
       "2016-01-15 00:00:00                     6.055403                     9.889648   \n",
       "2016-01-15 01:00:00                     6.029369                     9.968944   \n",
       "2016-01-15 02:00:00                     6.055926                    10.213995   \n",
       "2016-01-15 03:00:00                     6.047977                     9.977019   \n",
       "2016-01-15 04:00:00                     6.148599                    10.142511   \n",
       "\n",
       "                     final.output.concentrate_sol  \\\n",
       "date                                                \n",
       "2016-01-15 00:00:00                      5.507324   \n",
       "2016-01-15 01:00:00                      5.257781   \n",
       "2016-01-15 02:00:00                      5.383759   \n",
       "2016-01-15 03:00:00                      4.858634   \n",
       "2016-01-15 04:00:00                      4.939416   \n",
       "\n",
       "                     final.output.concentrate_au  final.output.recovery  \\\n",
       "date                                                                      \n",
       "2016-01-15 00:00:00                    42.192020              70.541216   \n",
       "2016-01-15 01:00:00                    42.701629              69.266198   \n",
       "2016-01-15 02:00:00                    42.657501              68.116445   \n",
       "2016-01-15 03:00:00                    42.689819              68.347543   \n",
       "2016-01-15 04:00:00                    42.774141              66.927016   \n",
       "\n",
       "                     final.output.tail_ag  final.output.tail_pb  \\\n",
       "date                                                              \n",
       "2016-01-15 00:00:00             10.411962              0.895447   \n",
       "2016-01-15 01:00:00             10.462676              0.927452   \n",
       "2016-01-15 02:00:00             10.507046              0.953716   \n",
       "2016-01-15 03:00:00             10.422762              0.883763   \n",
       "2016-01-15 04:00:00             10.360302              0.792826   \n",
       "\n",
       "                     final.output.tail_sol  final.output.tail_au  \\\n",
       "date                                                               \n",
       "2016-01-15 00:00:00              16.904297              2.143149   \n",
       "2016-01-15 01:00:00              16.634514              2.224930   \n",
       "2016-01-15 02:00:00              16.208849              2.257889   \n",
       "2016-01-15 03:00:00              16.532835              2.146849   \n",
       "2016-01-15 04:00:00              16.525686              2.055292   \n",
       "\n",
       "                     primary_cleaner.input.sulfate  ...  \\\n",
       "date                                                ...   \n",
       "2016-01-15 00:00:00                     127.092003  ...   \n",
       "2016-01-15 01:00:00                     125.629232  ...   \n",
       "2016-01-15 02:00:00                     123.819808  ...   \n",
       "2016-01-15 03:00:00                     122.270188  ...   \n",
       "2016-01-15 04:00:00                     117.988169  ...   \n",
       "\n",
       "                     secondary_cleaner.state.floatbank4_a_air  \\\n",
       "date                                                            \n",
       "2016-01-15 00:00:00                                 14.016835   \n",
       "2016-01-15 01:00:00                                 13.992281   \n",
       "2016-01-15 02:00:00                                 14.015015   \n",
       "2016-01-15 03:00:00                                 14.036510   \n",
       "2016-01-15 04:00:00                                 14.027298   \n",
       "\n",
       "                     secondary_cleaner.state.floatbank4_a_level  \\\n",
       "date                                                              \n",
       "2016-01-15 00:00:00                                 -502.488007   \n",
       "2016-01-15 01:00:00                                 -505.503262   \n",
       "2016-01-15 02:00:00                                 -502.520901   \n",
       "2016-01-15 03:00:00                                 -500.857308   \n",
       "2016-01-15 04:00:00                                 -499.838632   \n",
       "\n",
       "                     secondary_cleaner.state.floatbank4_b_air  \\\n",
       "date                                                            \n",
       "2016-01-15 00:00:00                                 12.099931   \n",
       "2016-01-15 01:00:00                                 11.950531   \n",
       "2016-01-15 02:00:00                                 11.912783   \n",
       "2016-01-15 03:00:00                                 11.999550   \n",
       "2016-01-15 04:00:00                                 11.953070   \n",
       "\n",
       "                     secondary_cleaner.state.floatbank4_b_level  \\\n",
       "date                                                              \n",
       "2016-01-15 00:00:00                                 -504.715942   \n",
       "2016-01-15 01:00:00                                 -501.331529   \n",
       "2016-01-15 02:00:00                                 -501.133383   \n",
       "2016-01-15 03:00:00                                 -501.193686   \n",
       "2016-01-15 04:00:00                                 -501.053894   \n",
       "\n",
       "                     secondary_cleaner.state.floatbank5_a_air  \\\n",
       "date                                                            \n",
       "2016-01-15 00:00:00                                  9.925633   \n",
       "2016-01-15 01:00:00                                 10.039245   \n",
       "2016-01-15 02:00:00                                 10.070913   \n",
       "2016-01-15 03:00:00                                  9.970366   \n",
       "2016-01-15 04:00:00                                  9.925709   \n",
       "\n",
       "                     secondary_cleaner.state.floatbank5_a_level  \\\n",
       "date                                                              \n",
       "2016-01-15 00:00:00                                 -498.310211   \n",
       "2016-01-15 01:00:00                                 -500.169983   \n",
       "2016-01-15 02:00:00                                 -500.129135   \n",
       "2016-01-15 03:00:00                                 -499.201640   \n",
       "2016-01-15 04:00:00                                 -501.686727   \n",
       "\n",
       "                     secondary_cleaner.state.floatbank5_b_air  \\\n",
       "date                                                            \n",
       "2016-01-15 00:00:00                                  8.079666   \n",
       "2016-01-15 01:00:00                                  7.984757   \n",
       "2016-01-15 02:00:00                                  8.013877   \n",
       "2016-01-15 03:00:00                                  7.977324   \n",
       "2016-01-15 04:00:00                                  7.894242   \n",
       "\n",
       "                     secondary_cleaner.state.floatbank5_b_level  \\\n",
       "date                                                              \n",
       "2016-01-15 00:00:00                                 -500.470978   \n",
       "2016-01-15 01:00:00                                 -500.582168   \n",
       "2016-01-15 02:00:00                                 -500.517572   \n",
       "2016-01-15 03:00:00                                 -500.255908   \n",
       "2016-01-15 04:00:00                                 -500.356035   \n",
       "\n",
       "                     secondary_cleaner.state.floatbank6_a_air  \\\n",
       "date                                                            \n",
       "2016-01-15 00:00:00                                 14.151341   \n",
       "2016-01-15 01:00:00                                 13.998353   \n",
       "2016-01-15 02:00:00                                 14.028663   \n",
       "2016-01-15 03:00:00                                 14.005551   \n",
       "2016-01-15 04:00:00                                 13.996647   \n",
       "\n",
       "                     secondary_cleaner.state.floatbank6_a_level  \n",
       "date                                                             \n",
       "2016-01-15 00:00:00                                 -605.841980  \n",
       "2016-01-15 01:00:00                                 -599.787184  \n",
       "2016-01-15 02:00:00                                 -601.427363  \n",
       "2016-01-15 03:00:00                                 -599.996129  \n",
       "2016-01-15 04:00:00                                 -601.496691  \n",
       "\n",
       "[5 rows x 86 columns]"
      ]
     },
     "metadata": {},
     "output_type": "display_data"
    },
    {
     "data": {
      "text/html": [
       "<div>\n",
       "<style scoped>\n",
       "    .dataframe tbody tr th:only-of-type {\n",
       "        vertical-align: middle;\n",
       "    }\n",
       "\n",
       "    .dataframe tbody tr th {\n",
       "        vertical-align: top;\n",
       "    }\n",
       "\n",
       "    .dataframe thead th {\n",
       "        text-align: right;\n",
       "    }\n",
       "</style>\n",
       "<table border=\"1\" class=\"dataframe\">\n",
       "  <thead>\n",
       "    <tr style=\"text-align: right;\">\n",
       "      <th></th>\n",
       "      <th>final.output.concentrate_ag</th>\n",
       "      <th>final.output.concentrate_pb</th>\n",
       "      <th>final.output.concentrate_sol</th>\n",
       "      <th>final.output.concentrate_au</th>\n",
       "      <th>final.output.recovery</th>\n",
       "      <th>final.output.tail_ag</th>\n",
       "      <th>final.output.tail_pb</th>\n",
       "      <th>final.output.tail_sol</th>\n",
       "      <th>final.output.tail_au</th>\n",
       "      <th>primary_cleaner.input.sulfate</th>\n",
       "      <th>...</th>\n",
       "      <th>secondary_cleaner.state.floatbank4_a_air</th>\n",
       "      <th>secondary_cleaner.state.floatbank4_a_level</th>\n",
       "      <th>secondary_cleaner.state.floatbank4_b_air</th>\n",
       "      <th>secondary_cleaner.state.floatbank4_b_level</th>\n",
       "      <th>secondary_cleaner.state.floatbank5_a_air</th>\n",
       "      <th>secondary_cleaner.state.floatbank5_a_level</th>\n",
       "      <th>secondary_cleaner.state.floatbank5_b_air</th>\n",
       "      <th>secondary_cleaner.state.floatbank5_b_level</th>\n",
       "      <th>secondary_cleaner.state.floatbank6_a_air</th>\n",
       "      <th>secondary_cleaner.state.floatbank6_a_level</th>\n",
       "    </tr>\n",
       "  </thead>\n",
       "  <tbody>\n",
       "    <tr>\n",
       "      <th>count</th>\n",
       "      <td>19438.000000</td>\n",
       "      <td>19438.000000</td>\n",
       "      <td>19228.000000</td>\n",
       "      <td>19439.000000</td>\n",
       "      <td>19439.000000</td>\n",
       "      <td>19438.000000</td>\n",
       "      <td>19338.000000</td>\n",
       "      <td>19433.000000</td>\n",
       "      <td>19439.000000</td>\n",
       "      <td>19415.000000</td>\n",
       "      <td>...</td>\n",
       "      <td>19433.000000</td>\n",
       "      <td>19438.000000</td>\n",
       "      <td>19438.000000</td>\n",
       "      <td>19438.000000</td>\n",
       "      <td>19438.000000</td>\n",
       "      <td>19438.000000</td>\n",
       "      <td>19438.000000</td>\n",
       "      <td>19438.000000</td>\n",
       "      <td>19437.000000</td>\n",
       "      <td>19438.000000</td>\n",
       "    </tr>\n",
       "    <tr>\n",
       "      <th>mean</th>\n",
       "      <td>5.168470</td>\n",
       "      <td>9.978895</td>\n",
       "      <td>9.501224</td>\n",
       "      <td>44.076513</td>\n",
       "      <td>67.050208</td>\n",
       "      <td>9.688589</td>\n",
       "      <td>2.705795</td>\n",
       "      <td>10.583728</td>\n",
       "      <td>3.042467</td>\n",
       "      <td>144.624774</td>\n",
       "      <td>...</td>\n",
       "      <td>18.987674</td>\n",
       "      <td>-485.894516</td>\n",
       "      <td>15.010366</td>\n",
       "      <td>-461.078636</td>\n",
       "      <td>15.694452</td>\n",
       "      <td>-488.684065</td>\n",
       "      <td>12.198224</td>\n",
       "      <td>-487.149827</td>\n",
       "      <td>18.959024</td>\n",
       "      <td>-505.436305</td>\n",
       "    </tr>\n",
       "    <tr>\n",
       "      <th>std</th>\n",
       "      <td>1.372348</td>\n",
       "      <td>1.669240</td>\n",
       "      <td>2.787537</td>\n",
       "      <td>5.129784</td>\n",
       "      <td>10.125840</td>\n",
       "      <td>2.328642</td>\n",
       "      <td>0.949077</td>\n",
       "      <td>2.868782</td>\n",
       "      <td>0.922808</td>\n",
       "      <td>44.464071</td>\n",
       "      <td>...</td>\n",
       "      <td>5.411058</td>\n",
       "      <td>47.758570</td>\n",
       "      <td>4.890228</td>\n",
       "      <td>67.405524</td>\n",
       "      <td>5.510974</td>\n",
       "      <td>34.533396</td>\n",
       "      <td>5.333024</td>\n",
       "      <td>38.347312</td>\n",
       "      <td>5.550498</td>\n",
       "      <td>37.689057</td>\n",
       "    </tr>\n",
       "    <tr>\n",
       "      <th>min</th>\n",
       "      <td>0.000000</td>\n",
       "      <td>0.000000</td>\n",
       "      <td>0.000000</td>\n",
       "      <td>0.000000</td>\n",
       "      <td>0.000000</td>\n",
       "      <td>0.000000</td>\n",
       "      <td>0.000000</td>\n",
       "      <td>0.000000</td>\n",
       "      <td>0.000000</td>\n",
       "      <td>0.003112</td>\n",
       "      <td>...</td>\n",
       "      <td>0.000000</td>\n",
       "      <td>-799.798523</td>\n",
       "      <td>0.000000</td>\n",
       "      <td>-800.836914</td>\n",
       "      <td>-0.372054</td>\n",
       "      <td>-797.323986</td>\n",
       "      <td>0.528083</td>\n",
       "      <td>-800.220337</td>\n",
       "      <td>-0.079426</td>\n",
       "      <td>-809.741464</td>\n",
       "    </tr>\n",
       "    <tr>\n",
       "      <th>25%</th>\n",
       "      <td>4.251240</td>\n",
       "      <td>9.137262</td>\n",
       "      <td>7.722820</td>\n",
       "      <td>43.402215</td>\n",
       "      <td>63.299712</td>\n",
       "      <td>8.062878</td>\n",
       "      <td>2.040119</td>\n",
       "      <td>8.938947</td>\n",
       "      <td>2.461138</td>\n",
       "      <td>114.107029</td>\n",
       "      <td>...</td>\n",
       "      <td>14.975734</td>\n",
       "      <td>-500.704892</td>\n",
       "      <td>11.940294</td>\n",
       "      <td>-500.187742</td>\n",
       "      <td>10.988606</td>\n",
       "      <td>-500.458467</td>\n",
       "      <td>8.971105</td>\n",
       "      <td>-500.129462</td>\n",
       "      <td>14.983037</td>\n",
       "      <td>-500.728067</td>\n",
       "    </tr>\n",
       "    <tr>\n",
       "      <th>50%</th>\n",
       "      <td>5.066094</td>\n",
       "      <td>10.102433</td>\n",
       "      <td>9.218961</td>\n",
       "      <td>45.011244</td>\n",
       "      <td>68.172738</td>\n",
       "      <td>9.743623</td>\n",
       "      <td>2.748730</td>\n",
       "      <td>10.622456</td>\n",
       "      <td>2.984909</td>\n",
       "      <td>143.232103</td>\n",
       "      <td>...</td>\n",
       "      <td>18.017481</td>\n",
       "      <td>-499.837793</td>\n",
       "      <td>14.971014</td>\n",
       "      <td>-499.459786</td>\n",
       "      <td>15.000036</td>\n",
       "      <td>-499.802605</td>\n",
       "      <td>11.019433</td>\n",
       "      <td>-499.935317</td>\n",
       "      <td>19.960541</td>\n",
       "      <td>-500.048400</td>\n",
       "    </tr>\n",
       "    <tr>\n",
       "      <th>75%</th>\n",
       "      <td>5.895527</td>\n",
       "      <td>11.035769</td>\n",
       "      <td>10.947813</td>\n",
       "      <td>46.275313</td>\n",
       "      <td>72.686642</td>\n",
       "      <td>11.134294</td>\n",
       "      <td>3.333216</td>\n",
       "      <td>12.104271</td>\n",
       "      <td>3.571351</td>\n",
       "      <td>175.075656</td>\n",
       "      <td>...</td>\n",
       "      <td>23.012470</td>\n",
       "      <td>-498.249730</td>\n",
       "      <td>19.034162</td>\n",
       "      <td>-400.118106</td>\n",
       "      <td>18.026190</td>\n",
       "      <td>-498.384187</td>\n",
       "      <td>14.019088</td>\n",
       "      <td>-499.436708</td>\n",
       "      <td>24.003170</td>\n",
       "      <td>-499.495378</td>\n",
       "    </tr>\n",
       "    <tr>\n",
       "      <th>max</th>\n",
       "      <td>16.001945</td>\n",
       "      <td>17.031899</td>\n",
       "      <td>19.615720</td>\n",
       "      <td>52.756638</td>\n",
       "      <td>100.000000</td>\n",
       "      <td>19.552149</td>\n",
       "      <td>5.804178</td>\n",
       "      <td>22.317730</td>\n",
       "      <td>8.245022</td>\n",
       "      <td>265.983123</td>\n",
       "      <td>...</td>\n",
       "      <td>30.115735</td>\n",
       "      <td>-245.239184</td>\n",
       "      <td>31.269706</td>\n",
       "      <td>-6.506986</td>\n",
       "      <td>43.709931</td>\n",
       "      <td>-244.483566</td>\n",
       "      <td>27.926001</td>\n",
       "      <td>-137.740004</td>\n",
       "      <td>32.188906</td>\n",
       "      <td>-104.427459</td>\n",
       "    </tr>\n",
       "  </tbody>\n",
       "</table>\n",
       "<p>8 rows × 86 columns</p>\n",
       "</div>"
      ],
      "text/plain": [
       "       final.output.concentrate_ag  final.output.concentrate_pb  \\\n",
       "count                 19438.000000                 19438.000000   \n",
       "mean                      5.168470                     9.978895   \n",
       "std                       1.372348                     1.669240   \n",
       "min                       0.000000                     0.000000   \n",
       "25%                       4.251240                     9.137262   \n",
       "50%                       5.066094                    10.102433   \n",
       "75%                       5.895527                    11.035769   \n",
       "max                      16.001945                    17.031899   \n",
       "\n",
       "       final.output.concentrate_sol  final.output.concentrate_au  \\\n",
       "count                  19228.000000                 19439.000000   \n",
       "mean                       9.501224                    44.076513   \n",
       "std                        2.787537                     5.129784   \n",
       "min                        0.000000                     0.000000   \n",
       "25%                        7.722820                    43.402215   \n",
       "50%                        9.218961                    45.011244   \n",
       "75%                       10.947813                    46.275313   \n",
       "max                       19.615720                    52.756638   \n",
       "\n",
       "       final.output.recovery  final.output.tail_ag  final.output.tail_pb  \\\n",
       "count           19439.000000          19438.000000          19338.000000   \n",
       "mean               67.050208              9.688589              2.705795   \n",
       "std                10.125840              2.328642              0.949077   \n",
       "min                 0.000000              0.000000              0.000000   \n",
       "25%                63.299712              8.062878              2.040119   \n",
       "50%                68.172738              9.743623              2.748730   \n",
       "75%                72.686642             11.134294              3.333216   \n",
       "max               100.000000             19.552149              5.804178   \n",
       "\n",
       "       final.output.tail_sol  final.output.tail_au  \\\n",
       "count           19433.000000          19439.000000   \n",
       "mean               10.583728              3.042467   \n",
       "std                 2.868782              0.922808   \n",
       "min                 0.000000              0.000000   \n",
       "25%                 8.938947              2.461138   \n",
       "50%                10.622456              2.984909   \n",
       "75%                12.104271              3.571351   \n",
       "max                22.317730              8.245022   \n",
       "\n",
       "       primary_cleaner.input.sulfate  ...  \\\n",
       "count                   19415.000000  ...   \n",
       "mean                      144.624774  ...   \n",
       "std                        44.464071  ...   \n",
       "min                         0.003112  ...   \n",
       "25%                       114.107029  ...   \n",
       "50%                       143.232103  ...   \n",
       "75%                       175.075656  ...   \n",
       "max                       265.983123  ...   \n",
       "\n",
       "       secondary_cleaner.state.floatbank4_a_air  \\\n",
       "count                              19433.000000   \n",
       "mean                                  18.987674   \n",
       "std                                    5.411058   \n",
       "min                                    0.000000   \n",
       "25%                                   14.975734   \n",
       "50%                                   18.017481   \n",
       "75%                                   23.012470   \n",
       "max                                   30.115735   \n",
       "\n",
       "       secondary_cleaner.state.floatbank4_a_level  \\\n",
       "count                                19438.000000   \n",
       "mean                                  -485.894516   \n",
       "std                                     47.758570   \n",
       "min                                   -799.798523   \n",
       "25%                                   -500.704892   \n",
       "50%                                   -499.837793   \n",
       "75%                                   -498.249730   \n",
       "max                                   -245.239184   \n",
       "\n",
       "       secondary_cleaner.state.floatbank4_b_air  \\\n",
       "count                              19438.000000   \n",
       "mean                                  15.010366   \n",
       "std                                    4.890228   \n",
       "min                                    0.000000   \n",
       "25%                                   11.940294   \n",
       "50%                                   14.971014   \n",
       "75%                                   19.034162   \n",
       "max                                   31.269706   \n",
       "\n",
       "       secondary_cleaner.state.floatbank4_b_level  \\\n",
       "count                                19438.000000   \n",
       "mean                                  -461.078636   \n",
       "std                                     67.405524   \n",
       "min                                   -800.836914   \n",
       "25%                                   -500.187742   \n",
       "50%                                   -499.459786   \n",
       "75%                                   -400.118106   \n",
       "max                                     -6.506986   \n",
       "\n",
       "       secondary_cleaner.state.floatbank5_a_air  \\\n",
       "count                              19438.000000   \n",
       "mean                                  15.694452   \n",
       "std                                    5.510974   \n",
       "min                                   -0.372054   \n",
       "25%                                   10.988606   \n",
       "50%                                   15.000036   \n",
       "75%                                   18.026190   \n",
       "max                                   43.709931   \n",
       "\n",
       "       secondary_cleaner.state.floatbank5_a_level  \\\n",
       "count                                19438.000000   \n",
       "mean                                  -488.684065   \n",
       "std                                     34.533396   \n",
       "min                                   -797.323986   \n",
       "25%                                   -500.458467   \n",
       "50%                                   -499.802605   \n",
       "75%                                   -498.384187   \n",
       "max                                   -244.483566   \n",
       "\n",
       "       secondary_cleaner.state.floatbank5_b_air  \\\n",
       "count                              19438.000000   \n",
       "mean                                  12.198224   \n",
       "std                                    5.333024   \n",
       "min                                    0.528083   \n",
       "25%                                    8.971105   \n",
       "50%                                   11.019433   \n",
       "75%                                   14.019088   \n",
       "max                                   27.926001   \n",
       "\n",
       "       secondary_cleaner.state.floatbank5_b_level  \\\n",
       "count                                19438.000000   \n",
       "mean                                  -487.149827   \n",
       "std                                     38.347312   \n",
       "min                                   -800.220337   \n",
       "25%                                   -500.129462   \n",
       "50%                                   -499.935317   \n",
       "75%                                   -499.436708   \n",
       "max                                   -137.740004   \n",
       "\n",
       "       secondary_cleaner.state.floatbank6_a_air  \\\n",
       "count                              19437.000000   \n",
       "mean                                  18.959024   \n",
       "std                                    5.550498   \n",
       "min                                   -0.079426   \n",
       "25%                                   14.983037   \n",
       "50%                                   19.960541   \n",
       "75%                                   24.003170   \n",
       "max                                   32.188906   \n",
       "\n",
       "       secondary_cleaner.state.floatbank6_a_level  \n",
       "count                                19438.000000  \n",
       "mean                                  -505.436305  \n",
       "std                                     37.689057  \n",
       "min                                   -809.741464  \n",
       "25%                                   -500.728067  \n",
       "50%                                   -500.048400  \n",
       "75%                                   -499.495378  \n",
       "max                                   -104.427459  \n",
       "\n",
       "[8 rows x 86 columns]"
      ]
     },
     "metadata": {},
     "output_type": "display_data"
    },
    {
     "name": "stdout",
     "output_type": "stream",
     "text": [
      "<class 'pandas.core.frame.DataFrame'>\n",
      "Index: 19439 entries, 2016-01-15 00:00:00 to 2018-08-18 10:59:59\n",
      "Data columns (total 86 columns):\n",
      " #   Column                                              Non-Null Count  Dtype  \n",
      "---  ------                                              --------------  -----  \n",
      " 0   final.output.concentrate_ag                         19438 non-null  float64\n",
      " 1   final.output.concentrate_pb                         19438 non-null  float64\n",
      " 2   final.output.concentrate_sol                        19228 non-null  float64\n",
      " 3   final.output.concentrate_au                         19439 non-null  float64\n",
      " 4   final.output.recovery                               19439 non-null  float64\n",
      " 5   final.output.tail_ag                                19438 non-null  float64\n",
      " 6   final.output.tail_pb                                19338 non-null  float64\n",
      " 7   final.output.tail_sol                               19433 non-null  float64\n",
      " 8   final.output.tail_au                                19439 non-null  float64\n",
      " 9   primary_cleaner.input.sulfate                       19415 non-null  float64\n",
      " 10  primary_cleaner.input.depressant                    19402 non-null  float64\n",
      " 11  primary_cleaner.input.feed_size                     19439 non-null  float64\n",
      " 12  primary_cleaner.input.xanthate                      19335 non-null  float64\n",
      " 13  primary_cleaner.output.concentrate_ag               19439 non-null  float64\n",
      " 14  primary_cleaner.output.concentrate_pb               19323 non-null  float64\n",
      " 15  primary_cleaner.output.concentrate_sol              19069 non-null  float64\n",
      " 16  primary_cleaner.output.concentrate_au               19439 non-null  float64\n",
      " 17  primary_cleaner.output.tail_ag                      19435 non-null  float64\n",
      " 18  primary_cleaner.output.tail_pb                      19418 non-null  float64\n",
      " 19  primary_cleaner.output.tail_sol                     19377 non-null  float64\n",
      " 20  primary_cleaner.output.tail_au                      19439 non-null  float64\n",
      " 21  primary_cleaner.state.floatbank8_a_air              19435 non-null  float64\n",
      " 22  primary_cleaner.state.floatbank8_a_level            19438 non-null  float64\n",
      " 23  primary_cleaner.state.floatbank8_b_air              19435 non-null  float64\n",
      " 24  primary_cleaner.state.floatbank8_b_level            19438 non-null  float64\n",
      " 25  primary_cleaner.state.floatbank8_c_air              19437 non-null  float64\n",
      " 26  primary_cleaner.state.floatbank8_c_level            19438 non-null  float64\n",
      " 27  primary_cleaner.state.floatbank8_d_air              19436 non-null  float64\n",
      " 28  primary_cleaner.state.floatbank8_d_level            19438 non-null  float64\n",
      " 29  rougher.calculation.sulfate_to_au_concentrate       19437 non-null  float64\n",
      " 30  rougher.calculation.floatbank10_sulfate_to_au_feed  19437 non-null  float64\n",
      " 31  rougher.calculation.floatbank11_sulfate_to_au_feed  19437 non-null  float64\n",
      " 32  rougher.calculation.au_pb_ratio                     19439 non-null  float64\n",
      " 33  rougher.input.feed_ag                               19439 non-null  float64\n",
      " 34  rougher.input.feed_pb                               19339 non-null  float64\n",
      " 35  rougher.input.feed_rate                             19428 non-null  float64\n",
      " 36  rougher.input.feed_size                             19294 non-null  float64\n",
      " 37  rougher.input.feed_sol                              19340 non-null  float64\n",
      " 38  rougher.input.feed_au                               19439 non-null  float64\n",
      " 39  rougher.input.floatbank10_sulfate                   19405 non-null  float64\n",
      " 40  rougher.input.floatbank10_xanthate                  19431 non-null  float64\n",
      " 41  rougher.input.floatbank11_sulfate                   19395 non-null  float64\n",
      " 42  rougher.input.floatbank11_xanthate                  18986 non-null  float64\n",
      " 43  rougher.output.concentrate_ag                       19439 non-null  float64\n",
      " 44  rougher.output.concentrate_pb                       19439 non-null  float64\n",
      " 45  rougher.output.concentrate_sol                      19416 non-null  float64\n",
      " 46  rougher.output.concentrate_au                       19439 non-null  float64\n",
      " 47  rougher.output.recovery                             19439 non-null  float64\n",
      " 48  rougher.output.tail_ag                              19438 non-null  float64\n",
      " 49  rougher.output.tail_pb                              19439 non-null  float64\n",
      " 50  rougher.output.tail_sol                             19439 non-null  float64\n",
      " 51  rougher.output.tail_au                              19439 non-null  float64\n",
      " 52  rougher.state.floatbank10_a_air                     19438 non-null  float64\n",
      " 53  rougher.state.floatbank10_a_level                   19438 non-null  float64\n",
      " 54  rougher.state.floatbank10_b_air                     19438 non-null  float64\n",
      " 55  rougher.state.floatbank10_b_level                   19438 non-null  float64\n",
      " 56  rougher.state.floatbank10_c_air                     19438 non-null  float64\n",
      " 57  rougher.state.floatbank10_c_level                   19438 non-null  float64\n",
      " 58  rougher.state.floatbank10_d_air                     19439 non-null  float64\n",
      " 59  rougher.state.floatbank10_d_level                   19439 non-null  float64\n",
      " 60  rougher.state.floatbank10_e_air                     19003 non-null  float64\n",
      " 61  rougher.state.floatbank10_e_level                   19439 non-null  float64\n",
      " 62  rougher.state.floatbank10_f_air                     19439 non-null  float64\n",
      " 63  rougher.state.floatbank10_f_level                   19439 non-null  float64\n",
      " 64  secondary_cleaner.output.tail_ag                    19437 non-null  float64\n",
      " 65  secondary_cleaner.output.tail_pb                    19427 non-null  float64\n",
      " 66  secondary_cleaner.output.tail_sol                   17691 non-null  float64\n",
      " 67  secondary_cleaner.output.tail_au                    19439 non-null  float64\n",
      " 68  secondary_cleaner.state.floatbank2_a_air            19219 non-null  float64\n",
      " 69  secondary_cleaner.state.floatbank2_a_level          19438 non-null  float64\n",
      " 70  secondary_cleaner.state.floatbank2_b_air            19416 non-null  float64\n",
      " 71  secondary_cleaner.state.floatbank2_b_level          19438 non-null  float64\n",
      " 72  secondary_cleaner.state.floatbank3_a_air            19426 non-null  float64\n",
      " 73  secondary_cleaner.state.floatbank3_a_level          19438 non-null  float64\n",
      " 74  secondary_cleaner.state.floatbank3_b_air            19438 non-null  float64\n",
      " 75  secondary_cleaner.state.floatbank3_b_level          19438 non-null  float64\n",
      " 76  secondary_cleaner.state.floatbank4_a_air            19433 non-null  float64\n",
      " 77  secondary_cleaner.state.floatbank4_a_level          19438 non-null  float64\n",
      " 78  secondary_cleaner.state.floatbank4_b_air            19438 non-null  float64\n",
      " 79  secondary_cleaner.state.floatbank4_b_level          19438 non-null  float64\n",
      " 80  secondary_cleaner.state.floatbank5_a_air            19438 non-null  float64\n",
      " 81  secondary_cleaner.state.floatbank5_a_level          19438 non-null  float64\n",
      " 82  secondary_cleaner.state.floatbank5_b_air            19438 non-null  float64\n",
      " 83  secondary_cleaner.state.floatbank5_b_level          19438 non-null  float64\n",
      " 84  secondary_cleaner.state.floatbank6_a_air            19437 non-null  float64\n",
      " 85  secondary_cleaner.state.floatbank6_a_level          19438 non-null  float64\n",
      "dtypes: float64(86)\n",
      "memory usage: 12.9+ MB\n"
     ]
    }
   ],
   "source": [
    "analyze_df(full_df)"
   ]
  },
  {
   "cell_type": "markdown",
   "metadata": {},
   "source": [
    "<b>Вывод:</b>\n",
    "   1. Большое количество пропусков; <br>\n",
    "   2. В тестовой выборке отсутсвуют некоторые столбцы;\n",
    "   3. Даты записаны как строки."
   ]
  },
  {
   "cell_type": "markdown",
   "metadata": {},
   "source": [
    "<b>Проверим, что эффективность обогащения рассчитана правильно. Вычислим её на обучающей выборке для признака rougher.output.recovery. Найдем MAE.</b>"
   ]
  },
  {
   "cell_type": "code",
   "execution_count": 7,
   "metadata": {},
   "outputs": [],
   "source": [
    "C = train_df['rougher.output.concentrate_au']\n",
    "F = train_df['rougher.input.feed_au']\n",
    "T = train_df['rougher.output.tail_au']"
   ]
  },
  {
   "cell_type": "code",
   "execution_count": 8,
   "metadata": {},
   "outputs": [
    {
     "data": {
      "text/plain": [
       "82.70450164550293"
      ]
     },
     "execution_count": 8,
     "metadata": {},
     "output_type": "execute_result"
    }
   ],
   "source": [
    "train_df['recovery_calculation'] = ((C*(F-T))/(F*(C-T)))*100\n",
    "train_df['recovery_calculation'].mean()"
   ]
  },
  {
   "cell_type": "code",
   "execution_count": 9,
   "metadata": {
    "scrolled": true
   },
   "outputs": [
    {
     "data": {
      "text/plain": [
       "82.70450164550293"
      ]
     },
     "execution_count": 9,
     "metadata": {},
     "output_type": "execute_result"
    }
   ],
   "source": [
    "train_df['rougher.output.recovery'].mean()"
   ]
  },
  {
   "cell_type": "markdown",
   "metadata": {},
   "source": [
    "Значения совпадают."
   ]
  },
  {
   "cell_type": "code",
   "execution_count": 10,
   "metadata": {
    "scrolled": true
   },
   "outputs": [
    {
     "name": "stdout",
     "output_type": "stream",
     "text": [
      "Значение MAE: 9.73512347450521e-15\n"
     ]
    }
   ],
   "source": [
    "print('Значение MAE:', mean_absolute_error(train_df['recovery_calculation'], train_df['rougher.output.recovery']))"
   ]
  },
  {
   "cell_type": "markdown",
   "metadata": {},
   "source": [
    "Эффективность обогащения рассчитана правильно."
   ]
  },
  {
   "cell_type": "markdown",
   "metadata": {},
   "source": [
    "<b>Проанализируем признаки, недоступные в тестовой выборке</b>"
   ]
  },
  {
   "cell_type": "code",
   "execution_count": 11,
   "metadata": {
    "scrolled": false
   },
   "outputs": [
    {
     "data": {
      "text/plain": [
       "['primary_cleaner.output.concentrate_pb',\n",
       " 'rougher.output.concentrate_ag',\n",
       " 'primary_cleaner.output.tail_au',\n",
       " 'rougher.output.recovery',\n",
       " 'final.output.tail_sol',\n",
       " 'secondary_cleaner.output.tail_ag',\n",
       " 'secondary_cleaner.output.tail_sol',\n",
       " 'rougher.output.tail_pb',\n",
       " 'rougher.output.tail_ag',\n",
       " 'recovery_calculation',\n",
       " 'primary_cleaner.output.concentrate_ag',\n",
       " 'rougher.output.concentrate_sol',\n",
       " 'secondary_cleaner.output.tail_au',\n",
       " 'final.output.concentrate_ag',\n",
       " 'final.output.recovery',\n",
       " 'primary_cleaner.output.concentrate_sol',\n",
       " 'primary_cleaner.output.concentrate_au',\n",
       " 'rougher.calculation.au_pb_ratio',\n",
       " 'final.output.tail_pb',\n",
       " 'final.output.tail_ag',\n",
       " 'final.output.concentrate_au',\n",
       " 'secondary_cleaner.output.tail_pb',\n",
       " 'rougher.calculation.sulfate_to_au_concentrate',\n",
       " 'primary_cleaner.output.tail_sol',\n",
       " 'final.output.concentrate_pb',\n",
       " 'rougher.calculation.floatbank10_sulfate_to_au_feed',\n",
       " 'rougher.output.tail_au',\n",
       " 'rougher.output.tail_sol',\n",
       " 'rougher.calculation.floatbank11_sulfate_to_au_feed',\n",
       " 'final.output.concentrate_sol',\n",
       " 'final.output.tail_au',\n",
       " 'rougher.output.concentrate_au',\n",
       " 'primary_cleaner.output.tail_pb',\n",
       " 'rougher.output.concentrate_pb',\n",
       " 'primary_cleaner.output.tail_ag']"
      ]
     },
     "execution_count": 11,
     "metadata": {},
     "output_type": "execute_result"
    }
   ],
   "source": [
    "missing_columns =  list(set(train_df) - set(test_df))\n",
    "missing_columns"
   ]
  },
  {
   "cell_type": "markdown",
   "metadata": {},
   "source": [
    "В тестовой выборке отсутствуют признаки параметров продуктов на каждом из этапов технологического процесса."
   ]
  },
  {
   "cell_type": "markdown",
   "metadata": {},
   "source": [
    "Добавим целевые показатели в датасет test_df из датасета full_df, в качестве ключа использовав date"
   ]
  },
  {
   "cell_type": "code",
   "execution_count": 12,
   "metadata": {},
   "outputs": [],
   "source": [
    "test_df = test_df.merge(full_df[TARGETS].loc[test_df.index], on='date', how='left')"
   ]
  },
  {
   "cell_type": "markdown",
   "metadata": {},
   "source": [
    "Пропущенные значения нужно заполнить, можно использовать метод fillna(method=\"ffill\").Пропуски заполнятся предыдущими по индексу значениями."
   ]
  },
  {
   "cell_type": "code",
   "execution_count": 13,
   "metadata": {},
   "outputs": [],
   "source": [
    "datasets = [train_df, test_df, full_df]"
   ]
  },
  {
   "cell_type": "code",
   "execution_count": 14,
   "metadata": {},
   "outputs": [],
   "source": [
    "for dataset in datasets:\n",
    "    dataset.fillna(method = 'ffill', inplace = True)"
   ]
  },
  {
   "cell_type": "markdown",
   "metadata": {},
   "source": [
    "<b>Вывод по 1 главе:</b>\n",
    "   1. Убедились, что эффективность обогащения рассчитана правильно; \n",
    "   2. Проверили признаки, которые не доступны в тестовой выборке;\n",
    "   3. Обработали пропуски."
   ]
  },
  {
   "cell_type": "markdown",
   "metadata": {},
   "source": [
    "## Анализ данных"
   ]
  },
  {
   "cell_type": "markdown",
   "metadata": {},
   "source": [
    "<b>Посмотрим, как меняется концентрация металлов (Au, Ag, Pb) на различных этапах очистки.</b>"
   ]
  },
  {
   "cell_type": "code",
   "execution_count": 20,
   "metadata": {
    "scrolled": false
   },
   "outputs": [
    {
     "data": {
      "image/png": "[encoded data removed]",
      "text/plain": [
       "<Figure size 1800x576 with 2 Axes>"
      ]
     },
     "metadata": {
      "needs_background": "light"
     },
     "output_type": "display_data"
    }
   ],
   "source": [
    "#отфильтруем даные для серебра\n",
    "argentum = full_df[['rougher.output.concentrate_ag', \n",
    "              'primary_cleaner.output.concentrate_ag', \n",
    "              'final.output.concentrate_ag',\n",
    "                 'rougher.input.feed_ag'  ]]\n",
    "#переименуем столбцы для лучшей читаемости\n",
    "argentum = argentum.rename(columns={'rougher.input.feed_ag' : 'входное значение',\n",
    "                                'rougher.output.concentrate_ag': 'флотация', \n",
    "                              'primary_cleaner.output.concentrate_ag': 'первичная очистка', \n",
    "                              'final.output.concentrate_ag': 'финальная очистка'})\n",
    "fig, (ax, ax1) = plt.subplots(1, 2, figsize=(25, 8))\n",
    "fig.subplots_adjust(wspace=.4)\n",
    "sns.kdeplot(data=argentum, fill=True, common_norm=False,\n",
    "                alpha=0.7, linewidth=3, ax=ax)\n",
    "sns.boxplot(data=argentum, ax=ax1, orient='h')\n",
    "\n",
    "ax.xaxis.grid(True)\n",
    "ax1.xaxis.grid(True)\n",
    "ax.set_xlabel('Концетрация')\n",
    "ax.set_ylabel('Плотность')\n",
    "ax.set_title('Концетрация серебра на разных этапах очистки')\n",
    "ax1.set_xlabel('Концетрация')\n",
    "ax1.set_ylabel('Плотность')\n",
    "ax1.set_title('Концетрация серебра на разных этапах очистки')\n",
    "\n",
    "plt.show();"
   ]
  },
  {
   "cell_type": "code",
   "execution_count": 17,
   "metadata": {},
   "outputs": [
    {
     "data": {
      "image/png": "[encoded data removed]",
      "text/plain": [
       "<Figure size 1800x576 with 2 Axes>"
      ]
     },
     "metadata": {
      "needs_background": "light"
     },
     "output_type": "display_data"
    }
   ],
   "source": [
    "#отфильтруем даные для свинца\n",
    "plumbum = full_df[['rougher.output.concentrate_pb', \n",
    "              'primary_cleaner.output.concentrate_pb', \n",
    "              'final.output.concentrate_pb',\n",
    "                  'rougher.input.feed_pb']]\n",
    "#переименуем столбцы для лучшей читаемости\n",
    "plumbum = plumbum.rename(columns={'rougher.input.feed_pb' : 'входное значение',\n",
    "                                'rougher.output.concentrate_pb': 'флотация', \n",
    "                              'primary_cleaner.output.concentrate_pb': 'первичная очистка', \n",
    "                              'final.output.concentrate_pb': 'финальная очистка'})\n",
    "fig, (ax, ax1) = plt.subplots(1, 2, figsize=(25, 8))\n",
    "fig.subplots_adjust(wspace=.4)\n",
    "sns.kdeplot(data=plumbum, fill=True, common_norm=False,\n",
    "                alpha=0.7, linewidth=3, ax=ax)\n",
    "sns.boxplot(data=plumbum, ax=ax1, orient='h')\n",
    "\n",
    "ax.xaxis.grid(True)\n",
    "ax1.xaxis.grid(True)\n",
    "ax.set_xlabel('Концетрация')\n",
    "ax.set_ylabel('Плотность')\n",
    "ax.set_title('Концетрация свинца на разных этапах очистки')\n",
    "ax1.set_xlabel('Концетрация')\n",
    "ax1.set_ylabel('Плотность')\n",
    "ax1.set_title('Концетрация свинца на разных этапах очистки')\n",
    "\n",
    "plt.show();"
   ]
  },
  {
   "cell_type": "code",
   "execution_count": 18,
   "metadata": {},
   "outputs": [
    {
     "data": {
      "image/png": "[encoded data removed]",
      "text/plain": [
       "<Figure size 1800x576 with 2 Axes>"
      ]
     },
     "metadata": {
      "needs_background": "light"
     },
     "output_type": "display_data"
    }
   ],
   "source": [
    "#отфильтруем даные для золота\n",
    "aurum = full_df[['rougher.output.concentrate_au', \n",
    "             'primary_cleaner.output.concentrate_au', \n",
    "             'final.output.concentrate_au', \n",
    "                'rougher.input.feed_au']]\n",
    "\n",
    "aurum = aurum.rename(columns={'rougher.input.feed_au' : 'входное значение',\n",
    "                                'rougher.output.concentrate_au': 'флотация', \n",
    "                              'primary_cleaner.output.concentrate_au': 'первичная очистка', \n",
    "                              'final.output.concentrate_au': 'финальная очистка'})\n",
    "\n",
    "fig, (ax, ax1) = plt.subplots(1, 2, figsize=(25, 8))\n",
    "fig.subplots_adjust(wspace=.4)\n",
    "sns.kdeplot(data=aurum, fill=True, common_norm=False,\n",
    "                alpha=0.7, linewidth=3, ax=ax)\n",
    "sns.boxplot(data=aurum, ax=ax1, orient='h')\n",
    "\n",
    "ax.xaxis.grid(True)\n",
    "ax1.xaxis.grid(True)\n",
    "ax.set_xlabel('Концетрация')\n",
    "ax.set_ylabel('Плотность')\n",
    "ax.set_title('Концетрация золота на разных этапах очистки')\n",
    "ax1.set_xlabel('Концетрация')\n",
    "ax1.set_ylabel('Плотность')\n",
    "ax1.set_title('Концетрация золота на разных этапах очистки')\n",
    "plt.show();"
   ]
  },
  {
   "cell_type": "markdown",
   "metadata": {},
   "source": [
    "Вывод:\n",
    "   1. Концентрация серебра уменьшается на каждой стадии очистки. График имеет отрицательно-линейный характер;\n",
    "   2. Концетрация свинца увеличивается на каждой стадии очистки. График имеет положительно-линейный характер со стадии флотации до первичной очистки. Далее концетрация вещества увеличивается незначительно;\n",
    "   3. Концетрация золота увеличивается на каждой стадии очистки. График имеет положительно-линейный характер."
   ]
  },
  {
   "cell_type": "markdown",
   "metadata": {},
   "source": [
    "<b>Сравним распределения размеров гранул сырья на обучающей и тестовой выборках. Если распределения сильно отличаются друг от друга, оценка модели будет неправильной.</b>"
   ]
  },
  {
   "cell_type": "code",
   "execution_count": 105,
   "metadata": {},
   "outputs": [
    {
     "data": {
      "image/png": "[encoded data removed]",
      "text/plain": [
       "<Figure size 1800x648 with 1 Axes>"
      ]
     },
     "metadata": {
      "needs_background": "light"
     },
     "output_type": "display_data"
    }
   ],
   "source": [
    "rougher = {\n",
    "    'Train' : np.array(train_df['rougher.input.feed_size']),\n",
    "    'Test' : np.array(test_df['rougher.input.feed_size'])\n",
    "}\n",
    "fig, (ax) = plt.subplots(figsize=(25, 9))\n",
    "fig.subplots_adjust(wspace=.4)\n",
    "sns.kdeplot(data=rougher, fill=True, common_norm=False,\n",
    "                alpha=0.3, linewidth=3)\n",
    "\n",
    "ax.xaxis.grid(True)\n",
    "\n",
    "ax.set_xlabel('Размер гранул')\n",
    "ax.set_ylabel('Плотность')\n",
    "ax.set_title('Распределение размеров гранул сырья на обучающей и тестовой выборках (флотация)')\n",
    "plt.show();"
   ]
  },
  {
   "cell_type": "code",
   "execution_count": 102,
   "metadata": {},
   "outputs": [
    {
     "data": {
      "image/png": "[encoded data removed]",
      "text/plain": [
       "<Figure size 1800x576 with 1 Axes>"
      ]
     },
     "metadata": {
      "needs_background": "light"
     },
     "output_type": "display_data"
    }
   ],
   "source": [
    "primary = {\n",
    "    'Train' : np.array(train_df['primary_cleaner.input.feed_size']),\n",
    "    'Test' : np.array(test_df['primary_cleaner.input.feed_size'])\n",
    "}\n",
    "fig, (ax) = plt.subplots(figsize=(25, 8))\n",
    "fig.subplots_adjust(wspace=.4)\n",
    "sns.kdeplot(data=primary, fill=True, common_norm=False,\n",
    "                alpha=0.2, linewidth=3)\n",
    "\n",
    "ax.xaxis.grid(True)\n",
    "\n",
    "ax.set_xlabel('Размер гранул')\n",
    "ax.set_ylabel('Плотность')\n",
    "ax.set_title('Распределение размеров гранул сырья на обучающей и тестовой выборках (флотация)')\n",
    "plt.show();"
   ]
  },
  {
   "cell_type": "markdown",
   "metadata": {},
   "source": [
    "Распределения размеров гранул сырья на первом этапе очистки совпадает и похоже на нормальное распределение."
   ]
  },
  {
   "cell_type": "markdown",
   "metadata": {},
   "source": [
    "Распределения размеров гранул сырья на этапе флотации похожи. Тестовая выборка смещена влево."
   ]
  },
  {
   "cell_type": "markdown",
   "metadata": {},
   "source": [
    "С помощью Теста Левене(Критерий Левене) оценим равенство дисперсий."
   ]
  },
  {
   "cell_type": "code",
   "execution_count": 20,
   "metadata": {},
   "outputs": [
    {
     "data": {
      "text/plain": [
       "0.6605153520089053"
      ]
     },
     "execution_count": 20,
     "metadata": {},
     "output_type": "execute_result"
    }
   ],
   "source": [
    "stat, p = levene(train_df['rougher.input.feed_size'], test_df['rougher.input.feed_size'])\n",
    "p"
   ]
  },
  {
   "cell_type": "markdown",
   "metadata": {},
   "source": [
    "Достаточно высокий показатель Критерия Левене. Будем считать, что распределения размеров гранул сырья на обучающей и тестовой выборках совпадают."
   ]
  },
  {
   "cell_type": "code",
   "execution_count": 21,
   "metadata": {},
   "outputs": [
    {
     "data": {
      "text/plain": [
       "0.9823609752105191"
      ]
     },
     "execution_count": 21,
     "metadata": {},
     "output_type": "execute_result"
    }
   ],
   "source": [
    "stat, p = levene(train_df['primary_cleaner.input.feed_size'], test_df['primary_cleaner.input.feed_size'])\n",
    "p"
   ]
  },
  {
   "cell_type": "markdown",
   "metadata": {},
   "source": [
    "Крайне высокий показатель Критерия Левене. Распределения размеров гранул сырья на обучающей и тестовой выборках совпадают."
   ]
  },
  {
   "cell_type": "markdown",
   "metadata": {},
   "source": [
    "<b>Исследуем суммарную концентрацию всех веществ на разных стадиях: в сырье, в черновом и финальном концентратах.</b>"
   ]
  },
  {
   "cell_type": "code",
   "execution_count": 22,
   "metadata": {},
   "outputs": [],
   "source": [
    "sum_rougher_before = full_df[['rougher.input.feed_ag', \n",
    "                   'rougher.input.feed_pb',\n",
    "                   'rougher.output.tail_au', \n",
    "                   'rougher.input.feed_sol']].sum(axis = 1)"
   ]
  },
  {
   "cell_type": "code",
   "execution_count": 23,
   "metadata": {},
   "outputs": [
    {
     "data": {
      "image/png": "[encoded data removed]",
      "text/plain": [
       "<Figure size 864x432 with 1 Axes>"
      ]
     },
     "metadata": {
      "needs_background": "light"
     },
     "output_type": "display_data"
    }
   ],
   "source": [
    "sum_rougher_before.plot(kind = 'hist', bins = 300, figsize = (12,6))\n",
    "plt.xlabel('концетрация вещества');\n",
    "plt.ylabel('количество наблюдений');\n",
    "plt.legend();\n",
    "plt.title('Суммарная концетрация веществ до флотации');"
   ]
  },
  {
   "cell_type": "code",
   "execution_count": 24,
   "metadata": {},
   "outputs": [],
   "source": [
    "sum_rougher_after = full_df[['rougher.output.concentrate_ag', \n",
    "                   'rougher.output.concentrate_pb',\n",
    "                   'rougher.output.concentrate_sol', \n",
    "                   'rougher.output.concentrate_au']].sum(axis = 1)"
   ]
  },
  {
   "cell_type": "code",
   "execution_count": 25,
   "metadata": {},
   "outputs": [
    {
     "data": {
      "image/png": "[encoded data removed]",
      "text/plain": [
       "<Figure size 864x432 with 1 Axes>"
      ]
     },
     "metadata": {
      "needs_background": "light"
     },
     "output_type": "display_data"
    }
   ],
   "source": [
    "sum_rougher_after.plot(kind = 'hist', bins = 300, figsize = (12,6))\n",
    "plt.xlabel('концетрация вещества');\n",
    "plt.ylabel('количество наблюдений');\n",
    "plt.legend();\n",
    "plt.title('Суммарная концетрация веществ после флотации');"
   ]
  },
  {
   "cell_type": "code",
   "execution_count": 26,
   "metadata": {},
   "outputs": [],
   "source": [
    "sum_primary = full_df[['primary_cleaner.output.concentrate_ag', \n",
    "                   'primary_cleaner.output.concentrate_pb',\n",
    "                   'primary_cleaner.output.concentrate_sol', \n",
    "                   'primary_cleaner.output.concentrate_au']].sum(axis = 1)"
   ]
  },
  {
   "cell_type": "code",
   "execution_count": 27,
   "metadata": {},
   "outputs": [
    {
     "data": {
      "image/png": "[encoded data removed]",
      "text/plain": [
       "<Figure size 864x432 with 1 Axes>"
      ]
     },
     "metadata": {
      "needs_background": "light"
     },
     "output_type": "display_data"
    }
   ],
   "source": [
    "sum_primary.plot(kind = 'hist', bins = 300, figsize = (12,6))\n",
    "plt.xlabel('концетрация вещества');\n",
    "plt.ylabel('количество наблюдений');\n",
    "plt.legend();\n",
    "plt.title('Суммарная концетрация веществ после первичной обработки');"
   ]
  },
  {
   "cell_type": "code",
   "execution_count": 28,
   "metadata": {},
   "outputs": [],
   "source": [
    "sum_final = full_df[['final.output.concentrate_ag', \n",
    "                   'final.output.concentrate_pb',\n",
    "                   'final.output.concentrate_sol', \n",
    "                   'final.output.concentrate_au']].sum(axis = 1)"
   ]
  },
  {
   "cell_type": "code",
   "execution_count": 29,
   "metadata": {},
   "outputs": [
    {
     "data": {
      "image/png": "[encoded data removed]",
      "text/plain": [
       "<Figure size 864x432 with 1 Axes>"
      ]
     },
     "metadata": {
      "needs_background": "light"
     },
     "output_type": "display_data"
    }
   ],
   "source": [
    "sum_final.plot(kind = 'hist', bins = 300, figsize = (12,6))\n",
    "plt.xlabel('концетрация вещества');\n",
    "plt.ylabel('количество наблюдений');\n",
    "plt.legend();\n",
    "plt.title('Суммарная концетрация веществ после финальной обработки');"
   ]
  },
  {
   "cell_type": "markdown",
   "metadata": {},
   "source": [
    "Присутствуют заметные выбросы в нуле. Следует их удалить."
   ]
  },
  {
   "cell_type": "markdown",
   "metadata": {},
   "source": [
    "Можно отметить, что концентрация всех элементов к финалу очистки стала плотнее; <br>\n",
    "В начальной руде диапазон концентрации элементов находился от 40 до 75; <br>\n",
    "После финальной очистки диапазон ужался и находится приблизительно от 62 до 78; <br>\n",
    "Это произошло вследствие того, что во время очистки пустая руда отфильтровалась <br>\n",
    "\n",
    "<br>\n",
    "Концентрация элементов в хвостах на этапах очистки, практически, не изменялась."
   ]
  },
  {
   "cell_type": "code",
   "execution_count": 30,
   "metadata": {},
   "outputs": [],
   "source": [
    "train_df = train_df[(train_df['final.output.concentrate_ag'] > 1) & (train_df['final.output.concentrate_pb'] > 1)\n",
    "                 & (train_df['final.output.concentrate_sol'] > 1) & (train_df['final.output.concentrate_au'] > 1) &\n",
    "                  (train_df['primary_cleaner.output.concentrate_ag'] > 1) & (train_df['primary_cleaner.output.concentrate_pb'] > 1)\n",
    "                 & (train_df['primary_cleaner.output.concentrate_sol'] > 1) & (train_df['primary_cleaner.output.concentrate_au'] > 1)\n",
    "                 & (train_df['rougher.output.concentrate_ag'] > 1) & (train_df['rougher.output.concentrate_pb'] > 1)\n",
    "                   & (train_df['rougher.output.concentrate_sol'] > 1) & (train_df['rougher.output.concentrate_au'] > 1)\n",
    "                    & (train_df['rougher.input.feed_ag'] > 1) & (train_df['rougher.input.feed_pb'] > 1)\n",
    "                    & (train_df['rougher.output.tail_au'] > 1) & (train_df['rougher.input.feed_sol'] > 1)]  \n",
    "\n",
    "\n",
    "full_df = full_df[(full_df['final.output.concentrate_ag'] > 1) & (full_df['final.output.concentrate_pb'] > 1)\n",
    "                 & (full_df['final.output.concentrate_sol'] > 1) & (full_df['final.output.concentrate_au'] > 1) &\n",
    "                  (full_df['primary_cleaner.output.concentrate_ag'] > 1) & (full_df['primary_cleaner.output.concentrate_pb'] > 1)\n",
    "                 & (full_df['primary_cleaner.output.concentrate_sol'] > 1) & (full_df['primary_cleaner.output.concentrate_au'] > 1)\n",
    "                 & (full_df['rougher.output.concentrate_ag'] > 1) & (full_df['rougher.output.concentrate_pb'] > 1)\n",
    "                   & (full_df['rougher.output.concentrate_sol'] > 1) & (full_df['rougher.output.concentrate_au'] > 1)\n",
    "                    & (full_df['rougher.input.feed_ag'] > 1) & (full_df['rougher.input.feed_pb'] > 1)\n",
    "                    & (full_df['rougher.output.tail_au'] > 1) & (full_df['rougher.input.feed_sol'] > 1)]           "
   ]
  },
  {
   "cell_type": "markdown",
   "metadata": {},
   "source": [
    "<b>Вывод по 2 главе:</b>\n",
    "   1. Рассмотрели, как менялась концетрация металлов (Au, Ag, Pb) на различных этапах очистки; \n",
    "   2. Убедились, что распределения размеров гранул сырья на обучающей и тестовой выборках совпадают;\n",
    "   3. Исследовали суммарную концентрацию всех веществ на разных стадиях: в сырье, в черновом и финальном концентратах. ."
   ]
  },
  {
   "cell_type": "markdown",
   "metadata": {},
   "source": [
    "##  Модель"
   ]
  },
  {
   "cell_type": "markdown",
   "metadata": {},
   "source": [
    "<b>Напишем функцию для вычисления итоговой sMAPE</b>"
   ]
  },
  {
   "cell_type": "code",
   "execution_count": 31,
   "metadata": {},
   "outputs": [],
   "source": [
    "def calculate_smape(target_actual, target_predictions):\n",
    "    numerator = np.abs(target_actual - target_predictions)\n",
    "    divider = (np.abs(target_actual) + np.abs(target_predictions)) / 2 \n",
    "    \n",
    "    return 1 / len(target_actual) * np.sum(numerator / divider) * 100 \n",
    "    \n",
    "    \n",
    "def calculate_final_smape(target_actual, target_predictions):\n",
    "    target_actual_rougher = target_actual['rougher.output.recovery']\n",
    "    target_actual_final = target_actual['final.output.recovery']\n",
    "    \n",
    "    target_predictions_rougher = target_predictions[:, 0]\n",
    "    target_predictions_final = target_predictions[:, 1]\n",
    "    \n",
    "    return 0.25 * calculate_smape(target_actual_rougher, target_predictions_rougher) \\\n",
    "        + 0.75 * calculate_smape(target_actual_final, target_predictions_final)"
   ]
  },
  {
   "cell_type": "code",
   "execution_count": 32,
   "metadata": {},
   "outputs": [],
   "source": [
    "smape_scorer = make_scorer(calculate_final_smape, greater_is_better=False)"
   ]
  },
  {
   "cell_type": "markdown",
   "metadata": {},
   "source": [
    "<b>Обучите разные модели и оцените их качество кросс-валидацией. Выберите лучшую модель и проверьте её на тестовой выборке. Опишите выводы.</b>"
   ]
  },
  {
   "cell_type": "markdown",
   "metadata": {},
   "source": [
    "Удалим из тренировочной выборки те признаки, которых нет в тестовой.\n"
   ]
  },
  {
   "cell_type": "code",
   "execution_count": 33,
   "metadata": {},
   "outputs": [],
   "source": [
    "train_df = train_df.drop(list(set(train_df) - set(test_df)), axis = 1)"
   ]
  },
  {
   "cell_type": "code",
   "execution_count": 34,
   "metadata": {},
   "outputs": [
    {
     "name": "stdout",
     "output_type": "stream",
     "text": [
      "(11386, 54)\n",
      "(5290, 54)\n"
     ]
    }
   ],
   "source": [
    "print(train_df.shape)\n",
    "print(test_df.shape)"
   ]
  },
  {
   "cell_type": "markdown",
   "metadata": {},
   "source": [
    "<b>Дерево принятия решений</b>"
   ]
  },
  {
   "cell_type": "code",
   "execution_count": 35,
   "metadata": {},
   "outputs": [],
   "source": [
    "features_train = train_df.drop(TARGETS, axis='columns')\n",
    "target_train = train_df[TARGETS]\n",
    "features_test = test_df.drop(TARGETS, axis='columns')\n",
    "target_test = test_df[TARGETS]"
   ]
  },
  {
   "cell_type": "code",
   "execution_count": 36,
   "metadata": {},
   "outputs": [
    {
     "name": "stdout",
     "output_type": "stream",
     "text": [
      "Лучшее значение sMAPE для дерева решений: 8.624781508154022 при значениях гиперпараметров: {'max_depth': 3}\n",
      "CPU times: user 21.6 s, sys: 166 ms, total: 21.8 s\n",
      "Wall time: 22.3 s\n"
     ]
    }
   ],
   "source": [
    "%%time\n",
    "param_DT = {'max_depth': range(2, 22)}\n",
    "\n",
    "model_DT = DecisionTreeRegressor(random_state = 2027)\n",
    "\n",
    "Grid_DT = GridSearchCV(model_DT, param_DT, cv=3, scoring=smape_scorer, n_jobs =-1)\n",
    "Grid_DT.fit(features_train, target_train)\n",
    "\n",
    "print('Лучшее значение sMAPE для дерева решений: {} при значениях гиперпараметров: {}'.format(-Grid_DT.best_score_, Grid_DT.best_params_))"
   ]
  },
  {
   "cell_type": "markdown",
   "metadata": {},
   "source": [
    "<b>Случайный лес</b>"
   ]
  },
  {
   "cell_type": "code",
   "execution_count": 37,
   "metadata": {},
   "outputs": [
    {
     "name": "stdout",
     "output_type": "stream",
     "text": [
      "Лучшее значение sMAPE для случайного леса: 8.66238373964124 при значениях гиперпараметров: {'max_depth': 8, 'n_estimators': 50}\n",
      "CPU times: user 34min 24s, sys: 15 s, total: 34min 38s\n",
      "Wall time: 34min 40s\n"
     ]
    }
   ],
   "source": [
    "%%time\n",
    "model_RF = RandomForestRegressor(random_state = 2029)\n",
    "param_RF = { \n",
    "    'n_estimators' : list(range(50, 100, 10)),\n",
    "    'max_depth' : list(range(8, 36, 4))\n",
    "}\n",
    "\n",
    "grid_RF = GridSearchCV(model_RF, param_RF, cv=3, scoring=smape_scorer, n_jobs = -1)\n",
    "grid_RF.fit(features_train, target_train)\n",
    "\n",
    "print('Лучшее значение sMAPE для случайного леса: {} при значениях гиперпараметров: {}'.format(-grid_RF.best_score_, grid_RF.best_params_))"
   ]
  },
  {
   "cell_type": "markdown",
   "metadata": {},
   "source": [
    "Лучший результат показало дерево решений. Проверим его на тестовых данных"
   ]
  },
  {
   "cell_type": "code",
   "execution_count": 41,
   "metadata": {},
   "outputs": [
    {
     "name": "stdout",
     "output_type": "stream",
     "text": [
      "sMAPE для тестовых данных: 9.024386783894188\n"
     ]
    }
   ],
   "source": [
    "best_model_DT = Grid_DT.best_estimator_\n",
    "best_model_DT.fit(features_train, target_train)\n",
    "predictions_test = best_model_DT.predict(features_test)\n",
    "\n",
    "print('sMAPE для тестовых данных:', calculate_final_smape(target_test, predictions_test))"
   ]
  },
  {
   "cell_type": "markdown",
   "metadata": {},
   "source": [
    "<b>Проверка на адекватность</b>"
   ]
  },
  {
   "cell_type": "markdown",
   "metadata": {},
   "source": [
    "Крайне хорошее значение метрики sMAPE. Проверим модель на адекватность, сравнив с дамми-моделью"
   ]
  },
  {
   "cell_type": "code",
   "execution_count": 39,
   "metadata": {},
   "outputs": [
    {
     "name": "stdout",
     "output_type": "stream",
     "text": [
      "sMAPE для дамми регрессора: 10.287881971973869\n"
     ]
    }
   ],
   "source": [
    "dummy_regr = DummyRegressor(strategy=\"mean\")\n",
    "dummy_regr.fit(features_train, target_train)\n",
    "dummy_desicion = dummy_regr.predict(features_test)\n",
    "print('sMAPE для дамми регрессора:', calculate_final_smape(target_test, dummy_desicion))"
   ]
  },
  {
   "cell_type": "code",
   "execution_count": 40,
   "metadata": {},
   "outputs": [
    {
     "name": "stdout",
     "output_type": "stream",
     "text": [
      "sMAPE для дамми регрессора: 9.85484098135918\n"
     ]
    }
   ],
   "source": [
    "dummy_regr = DummyRegressor(strategy=\"median\")\n",
    "dummy_regr.fit(features_train, target_train)\n",
    "dummy_desicion = dummy_regr.predict(features_test)\n",
    "print('sMAPE для дамми регрессора:', calculate_final_smape(target_test, dummy_desicion))"
   ]
  },
  {
   "cell_type": "markdown",
   "metadata": {},
   "source": [
    "<b>Выводы:</b>\n",
    "\n",
    "1. дерево принятий решений дало лучшее значение sMAPE среди других моделей\n",
    "2. на тестовой выборке случайный лес предсказал значения целевых признаков rougher.output.recovery и final.output.recovery с sMAPE 9.024"
   ]
  },
  {
   "cell_type": "markdown",
   "metadata": {},
   "source": [
    "<b>Общий вывод: </b>\n",
    "   1. Обнаружили, что концентрация золота и меди увеличивается с каждым этапом, а концентрация серебра снижается после флотации.\n",
    "   2. Распределения размеров гранул в train и test выборках одинаковы.\n",
    "   3. Суммарные распределения концентрации скошены влево, а также имеют множество нулевых значений. Избавились от выбросов.\n",
    "   4. Наилучшая модель - дерево принятий решений, со значением метрики smape 9.024, что лучше, чем у константной модели."
   ]
  }
 ],
 "metadata": {
  "ExecuteTimeLog": [
   {
    "duration": 381,
    "start_time": "2023-02-02T20:52:33.767Z"
   },
   {
    "duration": 100,
    "start_time": "2023-02-02T20:52:50.060Z"
   },
   {
    "duration": 44,
    "start_time": "2023-02-02T20:53:13.066Z"
   },
   {
    "duration": 53,
    "start_time": "2023-02-02T20:53:19.011Z"
   },
   {
    "duration": 45,
    "start_time": "2023-02-02T20:53:33.510Z"
   },
   {
    "duration": 45,
    "start_time": "2023-02-02T20:53:51.073Z"
   },
   {
    "duration": 47,
    "start_time": "2023-02-02T20:54:01.450Z"
   },
   {
    "duration": 3187,
    "start_time": "2023-02-02T20:54:32.370Z"
   },
   {
    "duration": 31,
    "start_time": "2023-02-02T20:54:38.996Z"
   },
   {
    "duration": 256,
    "start_time": "2023-02-02T20:54:45.679Z"
   },
   {
    "duration": 11,
    "start_time": "2023-02-02T20:54:55.265Z"
   },
   {
    "duration": 18,
    "start_time": "2023-02-02T20:55:03.910Z"
   },
   {
    "duration": 51,
    "start_time": "2023-02-03T18:01:25.059Z"
   },
   {
    "duration": 357,
    "start_time": "2023-02-03T18:01:29.261Z"
   },
   {
    "duration": 3190,
    "start_time": "2023-02-03T18:01:29.620Z"
   },
   {
    "duration": 7356,
    "start_time": "2023-02-03T18:01:32.812Z"
   },
   {
    "duration": 19,
    "start_time": "2023-02-03T18:31:30.127Z"
   },
   {
    "duration": 69,
    "start_time": "2023-02-03T18:31:37.899Z"
   },
   {
    "duration": 24,
    "start_time": "2023-02-03T18:31:44.053Z"
   },
   {
    "duration": 10,
    "start_time": "2023-02-03T18:31:51.345Z"
   },
   {
    "duration": 49,
    "start_time": "2023-02-04T12:43:12.776Z"
   },
   {
    "duration": 405,
    "start_time": "2023-02-04T12:43:16.137Z"
   },
   {
    "duration": 1834,
    "start_time": "2023-02-04T12:43:16.544Z"
   },
   {
    "duration": 17,
    "start_time": "2023-02-04T12:43:18.380Z"
   },
   {
    "duration": 13,
    "start_time": "2023-02-04T12:43:18.399Z"
   },
   {
    "duration": 70,
    "start_time": "2023-02-04T12:43:38.950Z"
   },
   {
    "duration": 114,
    "start_time": "2023-02-04T12:44:26.720Z"
   },
   {
    "duration": 113,
    "start_time": "2023-02-04T12:44:31.328Z"
   },
   {
    "duration": 8,
    "start_time": "2023-02-07T12:03:26.786Z"
   },
   {
    "duration": 40,
    "start_time": "2023-02-07T12:03:40.559Z"
   },
   {
    "duration": 367,
    "start_time": "2023-02-07T12:03:44.699Z"
   },
   {
    "duration": 3323,
    "start_time": "2023-02-07T12:03:45.068Z"
   },
   {
    "duration": 4,
    "start_time": "2023-02-07T12:03:50.580Z"
   },
   {
    "duration": 254,
    "start_time": "2023-02-07T12:03:51.481Z"
   },
   {
    "duration": 3,
    "start_time": "2023-02-07T12:06:44.864Z"
   },
   {
    "duration": 289,
    "start_time": "2023-02-07T12:06:45.021Z"
   },
   {
    "duration": 141,
    "start_time": "2023-02-07T12:14:49.622Z"
   },
   {
    "duration": 259,
    "start_time": "2023-02-07T12:15:26.670Z"
   },
   {
    "duration": 256,
    "start_time": "2023-02-07T12:31:14.015Z"
   },
   {
    "duration": 3,
    "start_time": "2023-02-07T12:31:18.386Z"
   },
   {
    "duration": 32,
    "start_time": "2023-02-07T12:31:18.544Z"
   },
   {
    "duration": 3,
    "start_time": "2023-02-07T12:31:32.860Z"
   },
   {
    "duration": 344,
    "start_time": "2023-02-07T12:31:33.027Z"
   },
   {
    "duration": 159,
    "start_time": "2023-02-07T12:31:37.650Z"
   },
   {
    "duration": 323,
    "start_time": "2023-02-07T12:31:41.478Z"
   },
   {
    "duration": 4,
    "start_time": "2023-02-07T12:33:22.163Z"
   },
   {
    "duration": 321,
    "start_time": "2023-02-07T12:33:22.558Z"
   },
   {
    "duration": 4,
    "start_time": "2023-02-07T12:33:40.292Z"
   },
   {
    "duration": 340,
    "start_time": "2023-02-07T12:33:45.781Z"
   },
   {
    "duration": 394,
    "start_time": "2023-02-07T12:34:11.963Z"
   },
   {
    "duration": 667,
    "start_time": "2023-02-07T12:34:12.359Z"
   },
   {
    "duration": 4,
    "start_time": "2023-02-07T12:34:13.027Z"
   },
   {
    "duration": 396,
    "start_time": "2023-02-07T12:34:13.032Z"
   },
   {
    "duration": 190,
    "start_time": "2023-02-07T12:34:13.430Z"
   },
   {
    "duration": 412,
    "start_time": "2023-02-07T12:34:13.622Z"
   },
   {
    "duration": 3,
    "start_time": "2023-02-07T12:37:17.826Z"
   },
   {
    "duration": 348,
    "start_time": "2023-02-07T13:04:37.747Z"
   },
   {
    "duration": 4,
    "start_time": "2023-02-07T13:05:42.933Z"
   },
   {
    "duration": 570,
    "start_time": "2023-02-07T13:05:43.133Z"
   },
   {
    "duration": 3,
    "start_time": "2023-02-07T13:06:06.897Z"
   },
   {
    "duration": 7950,
    "start_time": "2023-02-07T13:06:07.063Z"
   },
   {
    "duration": 737,
    "start_time": "2023-02-07T13:06:15.014Z"
   },
   {
    "duration": 428,
    "start_time": "2023-02-07T13:06:34.143Z"
   },
   {
    "duration": 673,
    "start_time": "2023-02-07T13:06:34.573Z"
   },
   {
    "duration": 4,
    "start_time": "2023-02-07T13:06:35.247Z"
   },
   {
    "duration": 448,
    "start_time": "2023-02-07T13:06:35.252Z"
   },
   {
    "duration": 178,
    "start_time": "2023-02-07T13:06:35.702Z"
   },
   {
    "duration": 411,
    "start_time": "2023-02-07T13:06:35.882Z"
   },
   {
    "duration": 420,
    "start_time": "2023-02-07T14:34:00.077Z"
   },
   {
    "duration": 3268,
    "start_time": "2023-02-07T14:34:00.499Z"
   },
   {
    "duration": 4,
    "start_time": "2023-02-07T14:34:03.769Z"
   },
   {
    "duration": 518,
    "start_time": "2023-02-07T14:34:03.775Z"
   },
   {
    "duration": 179,
    "start_time": "2023-02-07T14:34:04.296Z"
   },
   {
    "duration": 402,
    "start_time": "2023-02-07T14:34:04.476Z"
   },
   {
    "duration": 394,
    "start_time": "2023-02-07T14:47:49.987Z"
   },
   {
    "duration": 688,
    "start_time": "2023-02-07T14:47:50.382Z"
   },
   {
    "duration": 3,
    "start_time": "2023-02-07T14:47:51.072Z"
   },
   {
    "duration": 376,
    "start_time": "2023-02-07T14:47:51.077Z"
   },
   {
    "duration": 170,
    "start_time": "2023-02-07T14:47:51.454Z"
   },
   {
    "duration": 394,
    "start_time": "2023-02-07T14:47:51.626Z"
   },
   {
    "duration": 62,
    "start_time": "2023-02-07T17:53:40.383Z"
   },
   {
    "duration": 13510,
    "start_time": "2023-02-07T17:54:02.404Z"
   },
   {
    "duration": 10,
    "start_time": "2023-02-07T17:54:21.597Z"
   },
   {
    "duration": 8,
    "start_time": "2023-02-07T17:54:24.253Z"
   },
   {
    "duration": 10,
    "start_time": "2023-02-07T17:54:25.649Z"
   },
   {
    "duration": 2984,
    "start_time": "2023-02-07T17:54:33.879Z"
   },
   {
    "duration": 370,
    "start_time": "2023-02-07T17:54:46.374Z"
   },
   {
    "duration": 688,
    "start_time": "2023-02-07T17:54:46.746Z"
   },
   {
    "duration": 71,
    "start_time": "2023-02-07T17:54:47.435Z"
   },
   {
    "duration": 0,
    "start_time": "2023-02-07T17:54:47.508Z"
   },
   {
    "duration": 0,
    "start_time": "2023-02-07T17:54:47.509Z"
   },
   {
    "duration": 0,
    "start_time": "2023-02-07T17:54:47.511Z"
   },
   {
    "duration": 0,
    "start_time": "2023-02-07T17:54:47.512Z"
   },
   {
    "duration": 0,
    "start_time": "2023-02-07T17:54:47.513Z"
   },
   {
    "duration": 5976,
    "start_time": "2023-02-07T17:55:20.588Z"
   },
   {
    "duration": 2,
    "start_time": "2023-02-07T17:55:32.863Z"
   },
   {
    "duration": 649,
    "start_time": "2023-02-07T17:55:33.378Z"
   },
   {
    "duration": 53399,
    "start_time": "2023-02-07T17:55:34.518Z"
   },
   {
    "duration": 350,
    "start_time": "2023-02-07T17:57:12.886Z"
   },
   {
    "duration": 726,
    "start_time": "2023-02-07T17:57:13.238Z"
   },
   {
    "duration": 4,
    "start_time": "2023-02-07T17:57:13.966Z"
   },
   {
    "duration": 395,
    "start_time": "2023-02-07T17:57:13.972Z"
   },
   {
    "duration": 193,
    "start_time": "2023-02-07T17:57:14.369Z"
   },
   {
    "duration": 402,
    "start_time": "2023-02-07T17:57:14.564Z"
   },
   {
    "duration": 96,
    "start_time": "2023-02-07T17:57:14.968Z"
   },
   {
    "duration": 5,
    "start_time": "2023-02-07T18:15:51.963Z"
   },
   {
    "duration": 5,
    "start_time": "2023-02-07T18:16:09.078Z"
   },
   {
    "duration": 49,
    "start_time": "2023-02-08T21:07:38.958Z"
   },
   {
    "duration": 395,
    "start_time": "2023-02-08T21:07:43.665Z"
   },
   {
    "duration": 3177,
    "start_time": "2023-02-08T21:07:44.063Z"
   },
   {
    "duration": 4,
    "start_time": "2023-02-08T21:07:47.242Z"
   },
   {
    "duration": 433,
    "start_time": "2023-02-08T21:07:47.248Z"
   },
   {
    "duration": 207,
    "start_time": "2023-02-08T21:07:47.684Z"
   },
   {
    "duration": 458,
    "start_time": "2023-02-08T21:07:47.893Z"
   },
   {
    "duration": 426,
    "start_time": "2023-02-08T21:07:48.353Z"
   },
   {
    "duration": 5,
    "start_time": "2023-02-08T21:07:48.781Z"
   },
   {
    "duration": 74,
    "start_time": "2023-02-08T21:17:36.395Z"
   },
   {
    "duration": 83,
    "start_time": "2023-02-08T21:19:16.818Z"
   },
   {
    "duration": 90,
    "start_time": "2023-02-08T21:33:39.521Z"
   },
   {
    "duration": 72,
    "start_time": "2023-02-08T21:33:42.357Z"
   },
   {
    "duration": 3,
    "start_time": "2023-02-08T21:37:25.037Z"
   },
   {
    "duration": 68,
    "start_time": "2023-02-08T21:37:59.860Z"
   },
   {
    "duration": 1118,
    "start_time": "2023-02-08T21:38:04.343Z"
   },
   {
    "duration": 8,
    "start_time": "2023-02-08T21:38:10.128Z"
   },
   {
    "duration": 5,
    "start_time": "2023-02-08T21:38:42.808Z"
   },
   {
    "duration": 6,
    "start_time": "2023-02-08T21:39:01.024Z"
   },
   {
    "duration": 704,
    "start_time": "2023-02-08T21:39:28.835Z"
   },
   {
    "duration": 5,
    "start_time": "2023-02-08T21:40:21.042Z"
   },
   {
    "duration": 109,
    "start_time": "2023-02-08T23:09:21.310Z"
   },
   {
    "duration": 1034,
    "start_time": "2023-02-08T23:09:28.790Z"
   },
   {
    "duration": 736,
    "start_time": "2023-02-08T23:09:29.826Z"
   },
   {
    "duration": 4,
    "start_time": "2023-02-08T23:09:30.564Z"
   },
   {
    "duration": 437,
    "start_time": "2023-02-08T23:09:30.569Z"
   },
   {
    "duration": 200,
    "start_time": "2023-02-08T23:09:31.008Z"
   },
   {
    "duration": 415,
    "start_time": "2023-02-08T23:09:31.210Z"
   },
   {
    "duration": 9,
    "start_time": "2023-02-08T23:09:31.627Z"
   },
   {
    "duration": 8,
    "start_time": "2023-02-08T23:09:31.639Z"
   },
   {
    "duration": 26,
    "start_time": "2023-02-08T23:09:31.649Z"
   },
   {
    "duration": 25,
    "start_time": "2023-02-08T23:09:31.676Z"
   },
   {
    "duration": 24,
    "start_time": "2023-02-08T23:09:31.703Z"
   },
   {
    "duration": 96,
    "start_time": "2023-02-08T23:12:52.847Z"
   },
   {
    "duration": 10,
    "start_time": "2023-02-08T23:12:58.218Z"
   },
   {
    "duration": 417,
    "start_time": "2023-02-08T23:13:00.034Z"
   },
   {
    "duration": 1143,
    "start_time": "2023-02-08T23:14:40.599Z"
   },
   {
    "duration": 715,
    "start_time": "2023-02-08T23:14:41.744Z"
   },
   {
    "duration": 4,
    "start_time": "2023-02-08T23:14:42.461Z"
   },
   {
    "duration": 14,
    "start_time": "2023-02-08T23:14:42.467Z"
   },
   {
    "duration": 418,
    "start_time": "2023-02-08T23:14:42.483Z"
   },
   {
    "duration": 189,
    "start_time": "2023-02-08T23:14:42.903Z"
   },
   {
    "duration": 413,
    "start_time": "2023-02-08T23:14:43.093Z"
   },
   {
    "duration": 3,
    "start_time": "2023-02-08T23:14:43.508Z"
   },
   {
    "duration": 25,
    "start_time": "2023-02-08T23:14:43.513Z"
   },
   {
    "duration": 6,
    "start_time": "2023-02-08T23:14:43.541Z"
   },
   {
    "duration": 16,
    "start_time": "2023-02-08T23:14:43.549Z"
   },
   {
    "duration": 10,
    "start_time": "2023-02-08T23:14:43.568Z"
   },
   {
    "duration": 1058,
    "start_time": "2023-02-09T10:18:16.801Z"
   },
   {
    "duration": 3146,
    "start_time": "2023-02-09T10:18:17.861Z"
   },
   {
    "duration": 4,
    "start_time": "2023-02-09T10:18:21.009Z"
   },
   {
    "duration": 11,
    "start_time": "2023-02-09T10:18:21.014Z"
   },
   {
    "duration": 421,
    "start_time": "2023-02-09T10:18:21.027Z"
   },
   {
    "duration": 194,
    "start_time": "2023-02-09T10:18:21.450Z"
   },
   {
    "duration": 372,
    "start_time": "2023-02-09T10:18:21.646Z"
   },
   {
    "duration": 2,
    "start_time": "2023-02-09T10:18:22.020Z"
   },
   {
    "duration": 11,
    "start_time": "2023-02-09T10:18:22.024Z"
   },
   {
    "duration": 5,
    "start_time": "2023-02-09T10:18:22.037Z"
   },
   {
    "duration": 6,
    "start_time": "2023-02-09T10:18:22.044Z"
   },
   {
    "duration": 32,
    "start_time": "2023-02-09T10:18:22.052Z"
   },
   {
    "duration": 1083,
    "start_time": "2023-02-09T10:29:55.724Z"
   },
   {
    "duration": 711,
    "start_time": "2023-02-09T10:29:56.810Z"
   },
   {
    "duration": 4,
    "start_time": "2023-02-09T10:29:57.523Z"
   },
   {
    "duration": 25,
    "start_time": "2023-02-09T10:29:57.528Z"
   },
   {
    "duration": 402,
    "start_time": "2023-02-09T10:29:57.556Z"
   },
   {
    "duration": 185,
    "start_time": "2023-02-09T10:29:57.960Z"
   },
   {
    "duration": 380,
    "start_time": "2023-02-09T10:29:58.147Z"
   },
   {
    "duration": 3,
    "start_time": "2023-02-09T10:29:58.529Z"
   },
   {
    "duration": 14,
    "start_time": "2023-02-09T10:29:58.533Z"
   },
   {
    "duration": 11,
    "start_time": "2023-02-09T10:29:58.549Z"
   },
   {
    "duration": 16,
    "start_time": "2023-02-09T10:29:58.562Z"
   },
   {
    "duration": 22,
    "start_time": "2023-02-09T10:29:58.581Z"
   },
   {
    "duration": 3,
    "start_time": "2023-02-09T10:34:34.469Z"
   },
   {
    "duration": 77,
    "start_time": "2023-02-09T10:34:34.832Z"
   },
   {
    "duration": 23,
    "start_time": "2023-02-09T10:34:37.142Z"
   },
   {
    "duration": 21,
    "start_time": "2023-02-09T10:34:43.866Z"
   },
   {
    "duration": 13,
    "start_time": "2023-02-09T10:34:48.324Z"
   },
   {
    "duration": 19,
    "start_time": "2023-02-09T10:34:51.672Z"
   },
   {
    "duration": 3,
    "start_time": "2023-02-09T10:37:45.758Z"
   },
   {
    "duration": 4,
    "start_time": "2023-02-09T10:37:53.088Z"
   },
   {
    "duration": 105,
    "start_time": "2023-02-09T10:37:53.182Z"
   },
   {
    "duration": 3,
    "start_time": "2023-02-09T10:38:02.077Z"
   },
   {
    "duration": 13,
    "start_time": "2023-02-09T10:38:02.284Z"
   },
   {
    "duration": 4,
    "start_time": "2023-02-09T10:38:13.614Z"
   },
   {
    "duration": 7,
    "start_time": "2023-02-09T10:38:13.773Z"
   },
   {
    "duration": 4,
    "start_time": "2023-02-09T10:38:26.031Z"
   },
   {
    "duration": 10,
    "start_time": "2023-02-09T10:38:26.232Z"
   },
   {
    "duration": 10,
    "start_time": "2023-02-09T10:41:08.778Z"
   },
   {
    "duration": 9,
    "start_time": "2023-02-09T10:41:21.968Z"
   },
   {
    "duration": 9,
    "start_time": "2023-02-09T10:41:22.164Z"
   },
   {
    "duration": 2,
    "start_time": "2023-02-09T10:41:33.442Z"
   },
   {
    "duration": 28,
    "start_time": "2023-02-09T10:41:33.771Z"
   },
   {
    "duration": 18,
    "start_time": "2023-02-09T10:55:40.893Z"
   },
   {
    "duration": 6,
    "start_time": "2023-02-09T10:57:09.395Z"
   },
   {
    "duration": 73,
    "start_time": "2023-02-09T10:57:17.401Z"
   },
   {
    "duration": 7,
    "start_time": "2023-02-09T10:57:35.220Z"
   },
   {
    "duration": 7,
    "start_time": "2023-02-09T10:57:43.297Z"
   },
   {
    "duration": 7,
    "start_time": "2023-02-09T10:57:46.530Z"
   },
   {
    "duration": 8,
    "start_time": "2023-02-09T10:58:26.107Z"
   },
   {
    "duration": 13,
    "start_time": "2023-02-09T10:58:35.960Z"
   },
   {
    "duration": 3,
    "start_time": "2023-02-09T11:00:45.254Z"
   },
   {
    "duration": 1118,
    "start_time": "2023-02-09T11:00:48.358Z"
   },
   {
    "duration": 718,
    "start_time": "2023-02-09T11:00:49.478Z"
   },
   {
    "duration": 4,
    "start_time": "2023-02-09T11:00:50.198Z"
   },
   {
    "duration": 13,
    "start_time": "2023-02-09T11:00:50.203Z"
   },
   {
    "duration": 408,
    "start_time": "2023-02-09T11:00:50.218Z"
   },
   {
    "duration": 202,
    "start_time": "2023-02-09T11:00:50.628Z"
   },
   {
    "duration": 401,
    "start_time": "2023-02-09T11:00:50.832Z"
   },
   {
    "duration": 2,
    "start_time": "2023-02-09T11:00:51.235Z"
   },
   {
    "duration": 14,
    "start_time": "2023-02-09T11:00:51.239Z"
   },
   {
    "duration": 4,
    "start_time": "2023-02-09T11:00:51.255Z"
   },
   {
    "duration": 32,
    "start_time": "2023-02-09T11:00:51.261Z"
   },
   {
    "duration": 7,
    "start_time": "2023-02-09T11:00:51.296Z"
   },
   {
    "duration": 5,
    "start_time": "2023-02-09T11:00:51.305Z"
   },
   {
    "duration": 97,
    "start_time": "2023-02-09T11:00:51.312Z"
   },
   {
    "duration": 3,
    "start_time": "2023-02-09T11:00:51.410Z"
   },
   {
    "duration": 28,
    "start_time": "2023-02-09T11:00:51.415Z"
   },
   {
    "duration": 12,
    "start_time": "2023-02-09T11:00:51.445Z"
   },
   {
    "duration": 15,
    "start_time": "2023-02-09T11:00:56.097Z"
   },
   {
    "duration": 17,
    "start_time": "2023-02-09T11:01:09.693Z"
   },
   {
    "duration": 1059,
    "start_time": "2023-02-09T11:03:58.093Z"
   },
   {
    "duration": 707,
    "start_time": "2023-02-09T11:03:59.154Z"
   },
   {
    "duration": 4,
    "start_time": "2023-02-09T11:03:59.863Z"
   },
   {
    "duration": 14,
    "start_time": "2023-02-09T11:03:59.869Z"
   },
   {
    "duration": 432,
    "start_time": "2023-02-09T11:03:59.884Z"
   },
   {
    "duration": 207,
    "start_time": "2023-02-09T11:04:00.318Z"
   },
   {
    "duration": 431,
    "start_time": "2023-02-09T11:04:00.527Z"
   },
   {
    "duration": 3,
    "start_time": "2023-02-09T11:04:00.959Z"
   },
   {
    "duration": 54,
    "start_time": "2023-02-09T11:04:00.964Z"
   },
   {
    "duration": 37,
    "start_time": "2023-02-09T11:04:01.021Z"
   },
   {
    "duration": 47,
    "start_time": "2023-02-09T11:04:01.059Z"
   },
   {
    "duration": 62,
    "start_time": "2023-02-09T11:04:01.108Z"
   },
   {
    "duration": 32,
    "start_time": "2023-02-09T11:04:01.172Z"
   },
   {
    "duration": 112,
    "start_time": "2023-02-09T11:04:01.206Z"
   },
   {
    "duration": 3,
    "start_time": "2023-02-09T11:04:01.320Z"
   },
   {
    "duration": 37,
    "start_time": "2023-02-09T11:04:01.324Z"
   },
   {
    "duration": 1033,
    "start_time": "2023-02-09T11:08:58.932Z"
   },
   {
    "duration": 689,
    "start_time": "2023-02-09T11:08:59.967Z"
   },
   {
    "duration": 44,
    "start_time": "2023-02-09T11:09:00.658Z"
   },
   {
    "duration": 34,
    "start_time": "2023-02-09T11:09:00.704Z"
   },
   {
    "duration": 37,
    "start_time": "2023-02-09T11:09:00.741Z"
   },
   {
    "duration": 455,
    "start_time": "2023-02-09T11:09:00.780Z"
   },
   {
    "duration": 189,
    "start_time": "2023-02-09T11:09:01.237Z"
   },
   {
    "duration": 385,
    "start_time": "2023-02-09T11:09:01.428Z"
   },
   {
    "duration": 3,
    "start_time": "2023-02-09T11:09:01.815Z"
   },
   {
    "duration": 29,
    "start_time": "2023-02-09T11:09:01.821Z"
   },
   {
    "duration": 44,
    "start_time": "2023-02-09T11:09:01.852Z"
   },
   {
    "duration": 39,
    "start_time": "2023-02-09T11:09:01.898Z"
   },
   {
    "duration": 56,
    "start_time": "2023-02-09T11:09:01.939Z"
   },
   {
    "duration": 19,
    "start_time": "2023-02-09T11:09:01.998Z"
   },
   {
    "duration": 104,
    "start_time": "2023-02-09T11:09:02.019Z"
   },
   {
    "duration": 11,
    "start_time": "2023-02-09T11:09:02.125Z"
   },
   {
    "duration": 55,
    "start_time": "2023-02-09T11:09:02.138Z"
   },
   {
    "duration": 88,
    "start_time": "2023-02-09T11:09:06.805Z"
   },
   {
    "duration": 1112,
    "start_time": "2023-02-09T11:09:11.526Z"
   },
   {
    "duration": 673,
    "start_time": "2023-02-09T11:09:12.641Z"
   },
   {
    "duration": 58,
    "start_time": "2023-02-09T11:09:13.315Z"
   },
   {
    "duration": 8,
    "start_time": "2023-02-09T11:09:13.392Z"
   },
   {
    "duration": 31,
    "start_time": "2023-02-09T11:09:13.403Z"
   },
   {
    "duration": 470,
    "start_time": "2023-02-09T11:09:13.436Z"
   },
   {
    "duration": 215,
    "start_time": "2023-02-09T11:09:13.907Z"
   },
   {
    "duration": 397,
    "start_time": "2023-02-09T11:09:14.123Z"
   },
   {
    "duration": 3,
    "start_time": "2023-02-09T11:09:14.521Z"
   },
   {
    "duration": 11,
    "start_time": "2023-02-09T11:09:14.525Z"
   },
   {
    "duration": 4,
    "start_time": "2023-02-09T11:09:14.537Z"
   },
   {
    "duration": 5,
    "start_time": "2023-02-09T11:09:14.543Z"
   },
   {
    "duration": 6,
    "start_time": "2023-02-09T11:09:14.549Z"
   },
   {
    "duration": 13,
    "start_time": "2023-02-09T11:09:14.582Z"
   },
   {
    "duration": 91,
    "start_time": "2023-02-09T11:09:14.597Z"
   },
   {
    "duration": 2,
    "start_time": "2023-02-09T11:09:14.696Z"
   },
   {
    "duration": 20,
    "start_time": "2023-02-09T11:09:14.700Z"
   },
   {
    "duration": 1042,
    "start_time": "2023-02-09T11:09:40.325Z"
   },
   {
    "duration": 706,
    "start_time": "2023-02-09T11:09:41.368Z"
   },
   {
    "duration": 42,
    "start_time": "2023-02-09T11:09:42.076Z"
   },
   {
    "duration": 4,
    "start_time": "2023-02-09T11:09:42.119Z"
   },
   {
    "duration": 27,
    "start_time": "2023-02-09T11:09:42.126Z"
   },
   {
    "duration": 385,
    "start_time": "2023-02-09T11:09:42.154Z"
   },
   {
    "duration": 187,
    "start_time": "2023-02-09T11:09:42.540Z"
   },
   {
    "duration": 392,
    "start_time": "2023-02-09T11:09:42.728Z"
   },
   {
    "duration": 3,
    "start_time": "2023-02-09T11:09:43.121Z"
   },
   {
    "duration": 14,
    "start_time": "2023-02-09T11:09:43.125Z"
   },
   {
    "duration": 7,
    "start_time": "2023-02-09T11:09:43.140Z"
   },
   {
    "duration": 6,
    "start_time": "2023-02-09T11:09:43.148Z"
   },
   {
    "duration": 5,
    "start_time": "2023-02-09T11:09:43.155Z"
   },
   {
    "duration": 9,
    "start_time": "2023-02-09T11:09:43.187Z"
   },
   {
    "duration": 96,
    "start_time": "2023-02-09T11:09:43.198Z"
   },
   {
    "duration": 3,
    "start_time": "2023-02-09T11:09:43.296Z"
   },
   {
    "duration": 21,
    "start_time": "2023-02-09T11:09:43.300Z"
   },
   {
    "duration": 1095,
    "start_time": "2023-02-09T11:10:05.578Z"
   },
   {
    "duration": 739,
    "start_time": "2023-02-09T11:10:06.675Z"
   },
   {
    "duration": 33,
    "start_time": "2023-02-09T11:10:07.415Z"
   },
   {
    "duration": 4,
    "start_time": "2023-02-09T11:10:07.449Z"
   },
   {
    "duration": 11,
    "start_time": "2023-02-09T11:10:07.455Z"
   },
   {
    "duration": 404,
    "start_time": "2023-02-09T11:10:07.492Z"
   },
   {
    "duration": 202,
    "start_time": "2023-02-09T11:10:07.898Z"
   },
   {
    "duration": 421,
    "start_time": "2023-02-09T11:10:08.102Z"
   },
   {
    "duration": 3,
    "start_time": "2023-02-09T11:10:08.525Z"
   },
   {
    "duration": 12,
    "start_time": "2023-02-09T11:10:08.530Z"
   },
   {
    "duration": 6,
    "start_time": "2023-02-09T11:10:08.544Z"
   },
   {
    "duration": 6,
    "start_time": "2023-02-09T11:10:08.551Z"
   },
   {
    "duration": 28,
    "start_time": "2023-02-09T11:10:08.559Z"
   },
   {
    "duration": 19,
    "start_time": "2023-02-09T11:10:08.590Z"
   },
   {
    "duration": 96,
    "start_time": "2023-02-09T11:10:08.611Z"
   },
   {
    "duration": 2,
    "start_time": "2023-02-09T11:10:08.709Z"
   },
   {
    "duration": 23,
    "start_time": "2023-02-09T11:10:08.713Z"
   },
   {
    "duration": 69,
    "start_time": "2023-02-09T11:10:29.096Z"
   },
   {
    "duration": 1090,
    "start_time": "2023-02-09T11:10:36.762Z"
   },
   {
    "duration": 671,
    "start_time": "2023-02-09T11:10:37.854Z"
   },
   {
    "duration": 68,
    "start_time": "2023-02-09T11:10:38.527Z"
   },
   {
    "duration": 4,
    "start_time": "2023-02-09T11:10:38.597Z"
   },
   {
    "duration": 25,
    "start_time": "2023-02-09T11:10:38.605Z"
   },
   {
    "duration": 407,
    "start_time": "2023-02-09T11:10:38.632Z"
   },
   {
    "duration": 197,
    "start_time": "2023-02-09T11:10:39.041Z"
   },
   {
    "duration": 423,
    "start_time": "2023-02-09T11:10:39.240Z"
   },
   {
    "duration": 3,
    "start_time": "2023-02-09T11:10:39.665Z"
   },
   {
    "duration": 20,
    "start_time": "2023-02-09T11:10:39.680Z"
   },
   {
    "duration": 5,
    "start_time": "2023-02-09T11:10:39.702Z"
   },
   {
    "duration": 4,
    "start_time": "2023-02-09T11:10:39.709Z"
   },
   {
    "duration": 5,
    "start_time": "2023-02-09T11:10:39.715Z"
   },
   {
    "duration": 6,
    "start_time": "2023-02-09T11:10:39.724Z"
   },
   {
    "duration": 111,
    "start_time": "2023-02-09T11:10:39.731Z"
   },
   {
    "duration": 3,
    "start_time": "2023-02-09T11:10:39.844Z"
   },
   {
    "duration": 19,
    "start_time": "2023-02-09T11:10:39.849Z"
   },
   {
    "duration": 21,
    "start_time": "2023-02-09T11:11:35.845Z"
   },
   {
    "duration": 20,
    "start_time": "2023-02-09T11:11:44.522Z"
   },
   {
    "duration": 49,
    "start_time": "2023-02-09T11:11:52.464Z"
   },
   {
    "duration": 9,
    "start_time": "2023-02-09T11:13:18.957Z"
   },
   {
    "duration": 8,
    "start_time": "2023-02-09T11:13:23.693Z"
   },
   {
    "duration": 1137,
    "start_time": "2023-02-09T11:21:18.665Z"
   },
   {
    "duration": 717,
    "start_time": "2023-02-09T11:21:19.804Z"
   },
   {
    "duration": 3,
    "start_time": "2023-02-09T11:21:20.523Z"
   },
   {
    "duration": 21,
    "start_time": "2023-02-09T11:21:20.528Z"
   },
   {
    "duration": 403,
    "start_time": "2023-02-09T11:21:20.551Z"
   },
   {
    "duration": 186,
    "start_time": "2023-02-09T11:21:20.956Z"
   },
   {
    "duration": 401,
    "start_time": "2023-02-09T11:21:21.144Z"
   },
   {
    "duration": 3,
    "start_time": "2023-02-09T11:21:21.547Z"
   },
   {
    "duration": 14,
    "start_time": "2023-02-09T11:21:21.552Z"
   },
   {
    "duration": 24,
    "start_time": "2023-02-09T11:21:21.568Z"
   },
   {
    "duration": 5,
    "start_time": "2023-02-09T11:21:21.593Z"
   },
   {
    "duration": 9,
    "start_time": "2023-02-09T11:21:21.599Z"
   },
   {
    "duration": 4,
    "start_time": "2023-02-09T11:21:21.610Z"
   },
   {
    "duration": 16,
    "start_time": "2023-02-09T11:21:21.617Z"
   },
   {
    "duration": 3,
    "start_time": "2023-02-09T11:21:21.634Z"
   },
   {
    "duration": 20,
    "start_time": "2023-02-09T11:21:21.638Z"
   },
   {
    "duration": 101,
    "start_time": "2023-02-09T11:22:24.338Z"
   },
   {
    "duration": 11,
    "start_time": "2023-02-09T11:22:29.560Z"
   },
   {
    "duration": 883,
    "start_time": "2023-02-09T11:22:35.638Z"
   },
   {
    "duration": 525,
    "start_time": "2023-02-09T11:23:09.638Z"
   },
   {
    "duration": 5,
    "start_time": "2023-02-09T11:28:57.837Z"
   },
   {
    "duration": 6,
    "start_time": "2023-02-09T11:29:06.324Z"
   },
   {
    "duration": 5,
    "start_time": "2023-02-09T11:29:15.742Z"
   },
   {
    "duration": 21,
    "start_time": "2023-02-09T11:30:17.501Z"
   },
   {
    "duration": 21,
    "start_time": "2023-02-09T11:30:31.136Z"
   },
   {
    "duration": 17,
    "start_time": "2023-02-09T11:30:44.206Z"
   },
   {
    "duration": 5,
    "start_time": "2023-02-09T11:31:19.532Z"
   },
   {
    "duration": 4,
    "start_time": "2023-02-09T11:31:25.746Z"
   },
   {
    "duration": 5,
    "start_time": "2023-02-09T11:31:46.021Z"
   },
   {
    "duration": 449,
    "start_time": "2023-02-09T11:33:03.997Z"
   },
   {
    "duration": 1539,
    "start_time": "2023-02-09T11:33:22.735Z"
   },
   {
    "duration": 19,
    "start_time": "2023-02-09T11:33:38.193Z"
   },
   {
    "duration": 1107,
    "start_time": "2023-02-09T11:34:02.352Z"
   },
   {
    "duration": 716,
    "start_time": "2023-02-09T11:34:03.462Z"
   },
   {
    "duration": 14,
    "start_time": "2023-02-09T11:34:04.180Z"
   },
   {
    "duration": 26,
    "start_time": "2023-02-09T11:34:04.196Z"
   },
   {
    "duration": 443,
    "start_time": "2023-02-09T11:34:04.225Z"
   },
   {
    "duration": 195,
    "start_time": "2023-02-09T11:34:04.669Z"
   },
   {
    "duration": 426,
    "start_time": "2023-02-09T11:34:04.866Z"
   },
   {
    "duration": 4,
    "start_time": "2023-02-09T11:34:05.294Z"
   },
   {
    "duration": 30,
    "start_time": "2023-02-09T11:34:05.299Z"
   },
   {
    "duration": 32,
    "start_time": "2023-02-09T11:34:05.331Z"
   },
   {
    "duration": 38,
    "start_time": "2023-02-09T11:34:05.365Z"
   },
   {
    "duration": 50,
    "start_time": "2023-02-09T11:34:05.405Z"
   },
   {
    "duration": 47,
    "start_time": "2023-02-09T11:34:05.457Z"
   },
   {
    "duration": 57,
    "start_time": "2023-02-09T11:34:05.506Z"
   },
   {
    "duration": 35,
    "start_time": "2023-02-09T11:34:05.565Z"
   },
   {
    "duration": 38,
    "start_time": "2023-02-09T11:34:05.602Z"
   },
   {
    "duration": 454,
    "start_time": "2023-02-09T11:34:05.641Z"
   },
   {
    "duration": 6,
    "start_time": "2023-02-09T11:34:06.097Z"
   },
   {
    "duration": 9,
    "start_time": "2023-02-09T11:34:06.105Z"
   },
   {
    "duration": 111,
    "start_time": "2023-02-09T11:34:45.401Z"
   },
   {
    "duration": 143,
    "start_time": "2023-02-09T11:35:21.503Z"
   },
   {
    "duration": 145,
    "start_time": "2023-02-09T11:35:37.596Z"
   },
   {
    "duration": 139,
    "start_time": "2023-02-09T11:36:11.017Z"
   },
   {
    "duration": 217,
    "start_time": "2023-02-09T11:36:35.429Z"
   },
   {
    "duration": 139,
    "start_time": "2023-02-09T11:37:04.462Z"
   },
   {
    "duration": 128,
    "start_time": "2023-02-09T11:37:12.608Z"
   },
   {
    "duration": 155,
    "start_time": "2023-02-09T11:37:51.513Z"
   },
   {
    "duration": 168,
    "start_time": "2023-02-09T11:38:06.630Z"
   },
   {
    "duration": 150,
    "start_time": "2023-02-09T11:38:12.971Z"
   },
   {
    "duration": 148,
    "start_time": "2023-02-09T11:44:15.431Z"
   },
   {
    "duration": 147,
    "start_time": "2023-02-09T11:44:27.654Z"
   },
   {
    "duration": 163,
    "start_time": "2023-02-09T11:45:17.437Z"
   },
   {
    "duration": 149,
    "start_time": "2023-02-09T11:45:36.368Z"
   },
   {
    "duration": 132,
    "start_time": "2023-02-09T11:45:47.193Z"
   },
   {
    "duration": 147,
    "start_time": "2023-02-09T11:49:33.529Z"
   },
   {
    "duration": 1080,
    "start_time": "2023-02-09T12:00:34.625Z"
   },
   {
    "duration": 767,
    "start_time": "2023-02-09T12:00:35.707Z"
   },
   {
    "duration": 6,
    "start_time": "2023-02-09T12:00:36.476Z"
   },
   {
    "duration": 31,
    "start_time": "2023-02-09T12:00:36.486Z"
   },
   {
    "duration": 480,
    "start_time": "2023-02-09T12:00:36.520Z"
   },
   {
    "duration": 201,
    "start_time": "2023-02-09T12:00:37.003Z"
   },
   {
    "duration": 430,
    "start_time": "2023-02-09T12:00:37.206Z"
   },
   {
    "duration": 2,
    "start_time": "2023-02-09T12:00:37.638Z"
   },
   {
    "duration": 14,
    "start_time": "2023-02-09T12:00:37.642Z"
   },
   {
    "duration": 9,
    "start_time": "2023-02-09T12:00:37.657Z"
   },
   {
    "duration": 26,
    "start_time": "2023-02-09T12:00:37.667Z"
   },
   {
    "duration": 8,
    "start_time": "2023-02-09T12:00:37.694Z"
   },
   {
    "duration": 10,
    "start_time": "2023-02-09T12:00:37.704Z"
   },
   {
    "duration": 23,
    "start_time": "2023-02-09T12:00:37.717Z"
   },
   {
    "duration": 3,
    "start_time": "2023-02-09T12:00:37.742Z"
   },
   {
    "duration": 21,
    "start_time": "2023-02-09T12:00:37.747Z"
   },
   {
    "duration": 478,
    "start_time": "2023-02-09T12:00:37.770Z"
   },
   {
    "duration": 160,
    "start_time": "2023-02-09T12:00:38.250Z"
   },
   {
    "duration": 155,
    "start_time": "2023-02-09T12:00:38.412Z"
   },
   {
    "duration": 1113,
    "start_time": "2023-02-09T12:00:50.258Z"
   },
   {
    "duration": 756,
    "start_time": "2023-02-09T12:00:51.373Z"
   },
   {
    "duration": 4,
    "start_time": "2023-02-09T12:00:52.131Z"
   },
   {
    "duration": 14,
    "start_time": "2023-02-09T12:00:52.139Z"
   },
   {
    "duration": 432,
    "start_time": "2023-02-09T12:00:52.155Z"
   },
   {
    "duration": 181,
    "start_time": "2023-02-09T12:00:52.590Z"
   },
   {
    "duration": 414,
    "start_time": "2023-02-09T12:00:52.781Z"
   },
   {
    "duration": 3,
    "start_time": "2023-02-09T12:00:53.197Z"
   },
   {
    "duration": 13,
    "start_time": "2023-02-09T12:00:53.202Z"
   },
   {
    "duration": 6,
    "start_time": "2023-02-09T12:00:53.217Z"
   },
   {
    "duration": 5,
    "start_time": "2023-02-09T12:00:53.225Z"
   },
   {
    "duration": 12,
    "start_time": "2023-02-09T12:00:53.231Z"
   },
   {
    "duration": 24,
    "start_time": "2023-02-09T12:00:53.244Z"
   },
   {
    "duration": 28,
    "start_time": "2023-02-09T12:00:53.271Z"
   },
   {
    "duration": 3,
    "start_time": "2023-02-09T12:00:53.300Z"
   },
   {
    "duration": 8,
    "start_time": "2023-02-09T12:00:53.305Z"
   },
   {
    "duration": 435,
    "start_time": "2023-02-09T12:00:53.314Z"
   },
   {
    "duration": 156,
    "start_time": "2023-02-09T12:00:53.751Z"
   },
   {
    "duration": 148,
    "start_time": "2023-02-09T12:00:53.909Z"
   },
   {
    "duration": 17,
    "start_time": "2023-02-09T12:01:20.826Z"
   },
   {
    "duration": 18,
    "start_time": "2023-02-09T12:01:23.906Z"
   },
   {
    "duration": 19,
    "start_time": "2023-02-09T12:01:25.093Z"
   },
   {
    "duration": 2,
    "start_time": "2023-02-09T12:26:56.919Z"
   },
   {
    "duration": 11,
    "start_time": "2023-02-09T12:26:57.053Z"
   },
   {
    "duration": 1096,
    "start_time": "2023-02-09T12:27:00.301Z"
   },
   {
    "duration": 795,
    "start_time": "2023-02-09T12:27:01.399Z"
   },
   {
    "duration": 7,
    "start_time": "2023-02-09T12:27:02.196Z"
   },
   {
    "duration": 43,
    "start_time": "2023-02-09T12:27:02.205Z"
   },
   {
    "duration": 455,
    "start_time": "2023-02-09T12:27:02.250Z"
   },
   {
    "duration": 201,
    "start_time": "2023-02-09T12:27:02.706Z"
   },
   {
    "duration": 418,
    "start_time": "2023-02-09T12:27:02.909Z"
   },
   {
    "duration": 2,
    "start_time": "2023-02-09T12:27:03.329Z"
   },
   {
    "duration": 22,
    "start_time": "2023-02-09T12:27:03.333Z"
   },
   {
    "duration": 30,
    "start_time": "2023-02-09T12:27:03.357Z"
   },
   {
    "duration": 22,
    "start_time": "2023-02-09T12:27:03.392Z"
   },
   {
    "duration": 36,
    "start_time": "2023-02-09T12:27:03.415Z"
   },
   {
    "duration": 15,
    "start_time": "2023-02-09T12:27:03.453Z"
   },
   {
    "duration": 41,
    "start_time": "2023-02-09T12:27:03.471Z"
   },
   {
    "duration": 19,
    "start_time": "2023-02-09T12:27:03.513Z"
   },
   {
    "duration": 63,
    "start_time": "2023-02-09T12:27:03.534Z"
   },
   {
    "duration": 466,
    "start_time": "2023-02-09T12:27:03.599Z"
   },
   {
    "duration": 153,
    "start_time": "2023-02-09T12:27:04.067Z"
   },
   {
    "duration": 145,
    "start_time": "2023-02-09T12:27:04.222Z"
   },
   {
    "duration": 108,
    "start_time": "2023-02-09T12:33:15.405Z"
   },
   {
    "duration": 1019,
    "start_time": "2023-02-09T12:33:36.635Z"
   },
   {
    "duration": 714,
    "start_time": "2023-02-09T12:33:37.656Z"
   },
   {
    "duration": 4,
    "start_time": "2023-02-09T12:33:38.371Z"
   },
   {
    "duration": 27,
    "start_time": "2023-02-09T12:33:38.385Z"
   },
   {
    "duration": 418,
    "start_time": "2023-02-09T12:33:38.414Z"
   },
   {
    "duration": 193,
    "start_time": "2023-02-09T12:33:38.834Z"
   },
   {
    "duration": 392,
    "start_time": "2023-02-09T12:33:39.028Z"
   },
   {
    "duration": 2,
    "start_time": "2023-02-09T12:33:39.423Z"
   },
   {
    "duration": 33,
    "start_time": "2023-02-09T12:33:39.427Z"
   },
   {
    "duration": 56,
    "start_time": "2023-02-09T12:33:39.462Z"
   },
   {
    "duration": 34,
    "start_time": "2023-02-09T12:33:39.520Z"
   },
   {
    "duration": 40,
    "start_time": "2023-02-09T12:33:39.556Z"
   },
   {
    "duration": 30,
    "start_time": "2023-02-09T12:33:39.598Z"
   },
   {
    "duration": 38,
    "start_time": "2023-02-09T12:33:39.631Z"
   },
   {
    "duration": 39,
    "start_time": "2023-02-09T12:33:39.671Z"
   },
   {
    "duration": 50,
    "start_time": "2023-02-09T12:33:39.712Z"
   },
   {
    "duration": 431,
    "start_time": "2023-02-09T12:33:39.763Z"
   },
   {
    "duration": 144,
    "start_time": "2023-02-09T12:33:40.196Z"
   },
   {
    "duration": 156,
    "start_time": "2023-02-09T12:33:40.342Z"
   },
   {
    "duration": 173,
    "start_time": "2023-02-09T12:48:21.960Z"
   },
   {
    "duration": 1123,
    "start_time": "2023-02-09T12:48:25.683Z"
   },
   {
    "duration": 719,
    "start_time": "2023-02-09T12:48:26.809Z"
   },
   {
    "duration": 4,
    "start_time": "2023-02-09T12:48:27.530Z"
   },
   {
    "duration": 16,
    "start_time": "2023-02-09T12:48:27.536Z"
   },
   {
    "duration": 442,
    "start_time": "2023-02-09T12:48:27.555Z"
   },
   {
    "duration": 207,
    "start_time": "2023-02-09T12:48:27.999Z"
   },
   {
    "duration": 411,
    "start_time": "2023-02-09T12:48:28.208Z"
   },
   {
    "duration": 3,
    "start_time": "2023-02-09T12:48:28.620Z"
   },
   {
    "duration": 13,
    "start_time": "2023-02-09T12:48:28.625Z"
   },
   {
    "duration": 5,
    "start_time": "2023-02-09T12:48:28.639Z"
   },
   {
    "duration": 6,
    "start_time": "2023-02-09T12:48:28.646Z"
   },
   {
    "duration": 6,
    "start_time": "2023-02-09T12:48:28.654Z"
   },
   {
    "duration": 22,
    "start_time": "2023-02-09T12:48:28.661Z"
   },
   {
    "duration": 28,
    "start_time": "2023-02-09T12:48:28.686Z"
   },
   {
    "duration": 9,
    "start_time": "2023-02-09T12:48:28.717Z"
   },
   {
    "duration": 28,
    "start_time": "2023-02-09T12:48:28.728Z"
   },
   {
    "duration": 458,
    "start_time": "2023-02-09T12:48:28.757Z"
   },
   {
    "duration": 159,
    "start_time": "2023-02-09T12:48:29.217Z"
   },
   {
    "duration": 153,
    "start_time": "2023-02-09T12:48:29.378Z"
   },
   {
    "duration": 180,
    "start_time": "2023-02-09T12:53:03.613Z"
   },
   {
    "duration": 84,
    "start_time": "2023-02-09T12:53:21.165Z"
   },
   {
    "duration": 260,
    "start_time": "2023-02-09T12:53:33.371Z"
   },
   {
    "duration": 263,
    "start_time": "2023-02-09T12:53:33.671Z"
   },
   {
    "duration": 189,
    "start_time": "2023-02-09T12:53:36.375Z"
   },
   {
    "duration": 186,
    "start_time": "2023-02-09T12:53:36.568Z"
   },
   {
    "duration": 162,
    "start_time": "2023-02-09T12:53:48.463Z"
   },
   {
    "duration": 668,
    "start_time": "2023-02-09T13:10:46.953Z"
   },
   {
    "duration": 11,
    "start_time": "2023-02-09T13:11:39.906Z"
   },
   {
    "duration": 1336,
    "start_time": "2023-02-09T13:11:46.676Z"
   },
   {
    "duration": 790,
    "start_time": "2023-02-09T13:12:13.874Z"
   },
   {
    "duration": 669,
    "start_time": "2023-02-09T13:12:59.404Z"
   },
   {
    "duration": 3,
    "start_time": "2023-02-09T13:13:24.669Z"
   },
   {
    "duration": 1297,
    "start_time": "2023-02-09T13:13:27.326Z"
   },
   {
    "duration": 705,
    "start_time": "2023-02-09T13:13:28.625Z"
   },
   {
    "duration": 4,
    "start_time": "2023-02-09T13:13:29.331Z"
   },
   {
    "duration": 10,
    "start_time": "2023-02-09T13:13:29.337Z"
   },
   {
    "duration": 447,
    "start_time": "2023-02-09T13:13:29.349Z"
   },
   {
    "duration": 171,
    "start_time": "2023-02-09T13:13:29.798Z"
   },
   {
    "duration": 402,
    "start_time": "2023-02-09T13:13:29.971Z"
   },
   {
    "duration": 7,
    "start_time": "2023-02-09T13:13:30.375Z"
   },
   {
    "duration": 58,
    "start_time": "2023-02-09T13:13:30.384Z"
   },
   {
    "duration": 20,
    "start_time": "2023-02-09T13:13:30.444Z"
   },
   {
    "duration": 32,
    "start_time": "2023-02-09T13:13:30.465Z"
   },
   {
    "duration": 45,
    "start_time": "2023-02-09T13:13:30.499Z"
   },
   {
    "duration": 53,
    "start_time": "2023-02-09T13:13:30.545Z"
   },
   {
    "duration": 51,
    "start_time": "2023-02-09T13:13:30.601Z"
   },
   {
    "duration": 64,
    "start_time": "2023-02-09T13:13:30.654Z"
   },
   {
    "duration": 63,
    "start_time": "2023-02-09T13:13:30.721Z"
   },
   {
    "duration": 231,
    "start_time": "2023-02-09T13:13:30.786Z"
   },
   {
    "duration": 176,
    "start_time": "2023-02-09T13:13:31.019Z"
   },
   {
    "duration": 174,
    "start_time": "2023-02-09T13:13:31.197Z"
   },
   {
    "duration": 853,
    "start_time": "2023-02-09T13:13:31.373Z"
   },
   {
    "duration": 909,
    "start_time": "2023-02-09T13:13:32.228Z"
   },
   {
    "duration": 800,
    "start_time": "2023-02-09T13:14:00.105Z"
   },
   {
    "duration": 110,
    "start_time": "2023-02-09T13:14:37.818Z"
   },
   {
    "duration": 770,
    "start_time": "2023-02-09T13:14:50.608Z"
   },
   {
    "duration": 782,
    "start_time": "2023-02-09T13:15:10.295Z"
   },
   {
    "duration": 1007,
    "start_time": "2023-02-09T13:17:50.780Z"
   },
   {
    "duration": 871,
    "start_time": "2023-02-09T13:17:57.268Z"
   },
   {
    "duration": 1065,
    "start_time": "2023-02-09T13:18:15.131Z"
   },
   {
    "duration": 833,
    "start_time": "2023-02-09T13:18:59.336Z"
   },
   {
    "duration": 1103,
    "start_time": "2023-02-09T13:19:09.862Z"
   },
   {
    "duration": 967,
    "start_time": "2023-02-09T13:22:53.979Z"
   },
   {
    "duration": 1183,
    "start_time": "2023-02-09T13:23:01.369Z"
   },
   {
    "duration": 8,
    "start_time": "2023-02-09T13:24:11.316Z"
   },
   {
    "duration": 6,
    "start_time": "2023-02-09T13:24:26.306Z"
   },
   {
    "duration": 10,
    "start_time": "2023-02-09T13:24:30.160Z"
   },
   {
    "duration": 6,
    "start_time": "2023-02-09T13:24:38.072Z"
   },
   {
    "duration": 15,
    "start_time": "2023-02-09T13:30:05.559Z"
   },
   {
    "duration": 9,
    "start_time": "2023-02-09T13:30:05.972Z"
   },
   {
    "duration": 6,
    "start_time": "2023-02-09T13:31:48.405Z"
   },
   {
    "duration": 1397,
    "start_time": "2023-02-09T13:32:03.733Z"
   },
   {
    "duration": 787,
    "start_time": "2023-02-09T13:32:05.132Z"
   },
   {
    "duration": 4,
    "start_time": "2023-02-09T13:32:05.920Z"
   },
   {
    "duration": 12,
    "start_time": "2023-02-09T13:32:05.926Z"
   },
   {
    "duration": 468,
    "start_time": "2023-02-09T13:32:05.941Z"
   },
   {
    "duration": 231,
    "start_time": "2023-02-09T13:32:06.410Z"
   },
   {
    "duration": 472,
    "start_time": "2023-02-09T13:32:06.644Z"
   },
   {
    "duration": 3,
    "start_time": "2023-02-09T13:32:07.117Z"
   },
   {
    "duration": 23,
    "start_time": "2023-02-09T13:32:07.122Z"
   },
   {
    "duration": 13,
    "start_time": "2023-02-09T13:32:07.147Z"
   },
   {
    "duration": 17,
    "start_time": "2023-02-09T13:32:07.161Z"
   },
   {
    "duration": 26,
    "start_time": "2023-02-09T13:32:07.179Z"
   },
   {
    "duration": 15,
    "start_time": "2023-02-09T13:32:07.206Z"
   },
   {
    "duration": 38,
    "start_time": "2023-02-09T13:32:07.224Z"
   },
   {
    "duration": 9,
    "start_time": "2023-02-09T13:32:07.264Z"
   },
   {
    "duration": 41,
    "start_time": "2023-02-09T13:32:07.275Z"
   },
   {
    "duration": 190,
    "start_time": "2023-02-09T13:32:07.318Z"
   },
   {
    "duration": 188,
    "start_time": "2023-02-09T13:32:07.510Z"
   },
   {
    "duration": 165,
    "start_time": "2023-02-09T13:32:07.700Z"
   },
   {
    "duration": 993,
    "start_time": "2023-02-09T13:32:07.866Z"
   },
   {
    "duration": 920,
    "start_time": "2023-02-09T13:32:08.861Z"
   },
   {
    "duration": 11,
    "start_time": "2023-02-09T13:32:09.791Z"
   },
   {
    "duration": 23,
    "start_time": "2023-02-09T13:32:09.804Z"
   },
   {
    "duration": 14,
    "start_time": "2023-02-09T13:32:09.828Z"
   },
   {
    "duration": 18,
    "start_time": "2023-02-09T13:32:09.844Z"
   },
   {
    "duration": 6,
    "start_time": "2023-02-09T13:33:14.759Z"
   },
   {
    "duration": 8,
    "start_time": "2023-02-09T13:36:43.402Z"
   },
   {
    "duration": 304,
    "start_time": "2023-02-09T13:44:07.666Z"
   },
   {
    "duration": 178,
    "start_time": "2023-02-09T13:44:09.475Z"
   },
   {
    "duration": 1429,
    "start_time": "2023-02-09T13:44:12.273Z"
   },
   {
    "duration": 759,
    "start_time": "2023-02-09T13:44:13.705Z"
   },
   {
    "duration": 4,
    "start_time": "2023-02-09T13:44:14.466Z"
   },
   {
    "duration": 38,
    "start_time": "2023-02-09T13:44:14.473Z"
   },
   {
    "duration": 403,
    "start_time": "2023-02-09T13:44:14.514Z"
   },
   {
    "duration": 206,
    "start_time": "2023-02-09T13:44:14.919Z"
   },
   {
    "duration": 426,
    "start_time": "2023-02-09T13:44:15.126Z"
   },
   {
    "duration": 3,
    "start_time": "2023-02-09T13:44:15.554Z"
   },
   {
    "duration": 31,
    "start_time": "2023-02-09T13:44:15.559Z"
   },
   {
    "duration": 27,
    "start_time": "2023-02-09T13:44:15.591Z"
   },
   {
    "duration": 19,
    "start_time": "2023-02-09T13:44:15.620Z"
   },
   {
    "duration": 28,
    "start_time": "2023-02-09T13:44:15.641Z"
   },
   {
    "duration": 28,
    "start_time": "2023-02-09T13:44:15.671Z"
   },
   {
    "duration": 38,
    "start_time": "2023-02-09T13:44:15.702Z"
   },
   {
    "duration": 10,
    "start_time": "2023-02-09T13:44:15.742Z"
   },
   {
    "duration": 57,
    "start_time": "2023-02-09T13:44:15.754Z"
   },
   {
    "duration": 209,
    "start_time": "2023-02-09T13:44:15.813Z"
   },
   {
    "duration": 184,
    "start_time": "2023-02-09T13:44:16.023Z"
   },
   {
    "duration": 224,
    "start_time": "2023-02-09T13:44:16.209Z"
   },
   {
    "duration": 1165,
    "start_time": "2023-02-09T13:44:16.435Z"
   },
   {
    "duration": 898,
    "start_time": "2023-02-09T13:44:17.602Z"
   },
   {
    "duration": 7,
    "start_time": "2023-02-09T13:44:18.501Z"
   },
   {
    "duration": 294,
    "start_time": "2023-02-09T13:47:31.869Z"
   },
   {
    "duration": 167,
    "start_time": "2023-02-09T13:47:38.830Z"
   },
   {
    "duration": 172,
    "start_time": "2023-02-09T13:47:42.997Z"
   },
   {
    "duration": 182,
    "start_time": "2023-02-09T13:47:45.058Z"
   },
   {
    "duration": 164,
    "start_time": "2023-02-09T13:47:47.127Z"
   },
   {
    "duration": 171,
    "start_time": "2023-02-09T13:47:48.794Z"
   },
   {
    "duration": 78,
    "start_time": "2023-02-09T13:55:53.461Z"
   },
   {
    "duration": 93,
    "start_time": "2023-02-09T16:51:26.549Z"
   },
   {
    "duration": 309,
    "start_time": "2023-02-09T16:52:14.572Z"
   },
   {
    "duration": 532,
    "start_time": "2023-02-09T16:52:39.359Z"
   },
   {
    "duration": 639,
    "start_time": "2023-02-09T16:53:10.352Z"
   },
   {
    "duration": 22,
    "start_time": "2023-02-09T16:55:18.821Z"
   },
   {
    "duration": 18,
    "start_time": "2023-02-09T16:55:22.322Z"
   },
   {
    "duration": 106,
    "start_time": "2023-02-09T17:00:26.614Z"
   },
   {
    "duration": 10,
    "start_time": "2023-02-09T17:00:57.164Z"
   },
   {
    "duration": 9,
    "start_time": "2023-02-09T17:00:59.278Z"
   },
   {
    "duration": 9,
    "start_time": "2023-02-09T17:01:45.564Z"
   },
   {
    "duration": 151,
    "start_time": "2023-02-09T17:02:11.495Z"
   },
   {
    "duration": 170,
    "start_time": "2023-02-09T17:02:26.585Z"
   },
   {
    "duration": 362,
    "start_time": "2023-02-09T17:02:32.923Z"
   },
   {
    "duration": 166,
    "start_time": "2023-02-09T17:03:30.969Z"
   },
   {
    "duration": 574,
    "start_time": "2023-02-09T17:03:53.164Z"
   },
   {
    "duration": 510,
    "start_time": "2023-02-09T17:04:33.721Z"
   },
   {
    "duration": 505,
    "start_time": "2023-02-09T17:05:29.068Z"
   },
   {
    "duration": 536,
    "start_time": "2023-02-09T17:05:36.064Z"
   },
   {
    "duration": 5,
    "start_time": "2023-02-09T17:05:40.383Z"
   },
   {
    "duration": 21,
    "start_time": "2023-02-09T17:06:01.356Z"
   },
   {
    "duration": 8,
    "start_time": "2023-02-09T17:07:03.400Z"
   },
   {
    "duration": 5,
    "start_time": "2023-02-09T17:07:08.556Z"
   },
   {
    "duration": 717,
    "start_time": "2023-02-09T17:07:36.670Z"
   },
   {
    "duration": 598,
    "start_time": "2023-02-09T17:08:03.961Z"
   },
   {
    "duration": 632,
    "start_time": "2023-02-09T17:08:11.088Z"
   },
   {
    "duration": 922,
    "start_time": "2023-02-09T17:08:28.288Z"
   },
   {
    "duration": 636,
    "start_time": "2023-02-09T17:08:37.417Z"
   },
   {
    "duration": 5,
    "start_time": "2023-02-09T17:16:47.956Z"
   },
   {
    "duration": 587,
    "start_time": "2023-02-09T17:16:48.156Z"
   },
   {
    "duration": 922,
    "start_time": "2023-02-09T17:17:04.152Z"
   },
   {
    "duration": 19,
    "start_time": "2023-02-09T17:17:05.440Z"
   },
   {
    "duration": 5,
    "start_time": "2023-02-09T17:17:05.882Z"
   },
   {
    "duration": 660,
    "start_time": "2023-02-09T17:17:06.468Z"
   },
   {
    "duration": 5,
    "start_time": "2023-02-09T17:17:45.390Z"
   },
   {
    "duration": 613,
    "start_time": "2023-02-09T17:17:45.515Z"
   },
   {
    "duration": 11,
    "start_time": "2023-02-09T17:17:54.760Z"
   },
   {
    "duration": 5,
    "start_time": "2023-02-09T17:17:56.084Z"
   },
   {
    "duration": 676,
    "start_time": "2023-02-09T17:17:56.464Z"
   },
   {
    "duration": 974,
    "start_time": "2023-02-09T17:18:49.660Z"
   },
   {
    "duration": 6,
    "start_time": "2023-02-09T17:18:50.637Z"
   },
   {
    "duration": 651,
    "start_time": "2023-02-09T17:18:50.645Z"
   },
   {
    "duration": 5,
    "start_time": "2023-02-09T17:20:03.048Z"
   },
   {
    "duration": 577,
    "start_time": "2023-02-09T17:20:03.164Z"
   },
   {
    "duration": 1390,
    "start_time": "2023-02-09T17:31:26.920Z"
   },
   {
    "duration": 703,
    "start_time": "2023-02-09T17:31:28.312Z"
   },
   {
    "duration": 4,
    "start_time": "2023-02-09T17:31:29.017Z"
   },
   {
    "duration": 17,
    "start_time": "2023-02-09T17:31:29.022Z"
   },
   {
    "duration": 421,
    "start_time": "2023-02-09T17:31:29.042Z"
   },
   {
    "duration": 199,
    "start_time": "2023-02-09T17:31:29.465Z"
   },
   {
    "duration": 431,
    "start_time": "2023-02-09T17:31:29.666Z"
   },
   {
    "duration": 3,
    "start_time": "2023-02-09T17:31:30.098Z"
   },
   {
    "duration": 20,
    "start_time": "2023-02-09T17:31:30.103Z"
   },
   {
    "duration": 6,
    "start_time": "2023-02-09T17:31:30.125Z"
   },
   {
    "duration": 8,
    "start_time": "2023-02-09T17:31:30.133Z"
   },
   {
    "duration": 15,
    "start_time": "2023-02-09T17:31:30.142Z"
   },
   {
    "duration": 12,
    "start_time": "2023-02-09T17:31:30.158Z"
   },
   {
    "duration": 38,
    "start_time": "2023-02-09T17:31:30.183Z"
   },
   {
    "duration": 21,
    "start_time": "2023-02-09T17:31:30.223Z"
   },
   {
    "duration": 27,
    "start_time": "2023-02-09T17:31:30.246Z"
   },
   {
    "duration": 184,
    "start_time": "2023-02-09T17:31:30.275Z"
   },
   {
    "duration": 162,
    "start_time": "2023-02-09T17:31:30.462Z"
   },
   {
    "duration": 180,
    "start_time": "2023-02-09T17:31:30.626Z"
   },
   {
    "duration": 962,
    "start_time": "2023-02-09T17:31:30.809Z"
   },
   {
    "duration": 1021,
    "start_time": "2023-02-09T17:31:31.774Z"
   },
   {
    "duration": 6,
    "start_time": "2023-02-09T17:31:32.797Z"
   },
   {
    "duration": 10,
    "start_time": "2023-02-09T17:31:32.804Z"
   },
   {
    "duration": 662,
    "start_time": "2023-02-09T17:31:32.816Z"
   },
   {
    "duration": 5,
    "start_time": "2023-02-09T17:31:33.481Z"
   },
   {
    "duration": 691,
    "start_time": "2023-02-09T17:31:33.488Z"
   },
   {
    "duration": 6,
    "start_time": "2023-02-09T17:31:34.182Z"
   },
   {
    "duration": 806,
    "start_time": "2023-02-09T17:31:34.190Z"
   },
   {
    "duration": 6,
    "start_time": "2023-02-09T17:31:34.997Z"
   },
   {
    "duration": 642,
    "start_time": "2023-02-09T17:31:35.005Z"
   },
   {
    "duration": 1366,
    "start_time": "2023-02-09T17:32:06.424Z"
   },
   {
    "duration": 712,
    "start_time": "2023-02-09T17:32:07.792Z"
   },
   {
    "duration": 4,
    "start_time": "2023-02-09T17:32:08.506Z"
   },
   {
    "duration": 32,
    "start_time": "2023-02-09T17:32:08.512Z"
   },
   {
    "duration": 415,
    "start_time": "2023-02-09T17:32:08.546Z"
   },
   {
    "duration": 200,
    "start_time": "2023-02-09T17:32:08.963Z"
   },
   {
    "duration": 449,
    "start_time": "2023-02-09T17:32:09.165Z"
   },
   {
    "duration": 3,
    "start_time": "2023-02-09T17:32:09.616Z"
   },
   {
    "duration": 11,
    "start_time": "2023-02-09T17:32:09.620Z"
   },
   {
    "duration": 5,
    "start_time": "2023-02-09T17:32:09.633Z"
   },
   {
    "duration": 12,
    "start_time": "2023-02-09T17:32:09.639Z"
   },
   {
    "duration": 29,
    "start_time": "2023-02-09T17:32:09.653Z"
   },
   {
    "duration": 14,
    "start_time": "2023-02-09T17:32:09.684Z"
   },
   {
    "duration": 19,
    "start_time": "2023-02-09T17:32:09.702Z"
   },
   {
    "duration": 3,
    "start_time": "2023-02-09T17:32:09.723Z"
   },
   {
    "duration": 20,
    "start_time": "2023-02-09T17:32:09.727Z"
   },
   {
    "duration": 200,
    "start_time": "2023-02-09T17:32:09.749Z"
   },
   {
    "duration": 169,
    "start_time": "2023-02-09T17:32:09.951Z"
   },
   {
    "duration": 165,
    "start_time": "2023-02-09T17:32:10.122Z"
   },
   {
    "duration": 988,
    "start_time": "2023-02-09T17:32:10.288Z"
   },
   {
    "duration": 992,
    "start_time": "2023-02-09T17:32:11.278Z"
   },
   {
    "duration": 10,
    "start_time": "2023-02-09T17:32:12.272Z"
   },
   {
    "duration": 7,
    "start_time": "2023-02-09T17:32:12.284Z"
   },
   {
    "duration": 609,
    "start_time": "2023-02-09T17:32:12.292Z"
   },
   {
    "duration": 5,
    "start_time": "2023-02-09T17:32:12.903Z"
   },
   {
    "duration": 808,
    "start_time": "2023-02-09T17:32:12.910Z"
   },
   {
    "duration": 7,
    "start_time": "2023-02-09T17:32:13.720Z"
   },
   {
    "duration": 633,
    "start_time": "2023-02-09T17:32:13.728Z"
   },
   {
    "duration": 7,
    "start_time": "2023-02-09T17:32:14.363Z"
   },
   {
    "duration": 613,
    "start_time": "2023-02-09T17:32:14.372Z"
   },
   {
    "duration": 1303,
    "start_time": "2023-02-09T17:54:47.316Z"
   },
   {
    "duration": 693,
    "start_time": "2023-02-09T17:54:48.621Z"
   },
   {
    "duration": 4,
    "start_time": "2023-02-09T17:54:49.316Z"
   },
   {
    "duration": 14,
    "start_time": "2023-02-09T17:54:49.322Z"
   },
   {
    "duration": 396,
    "start_time": "2023-02-09T17:54:49.339Z"
   },
   {
    "duration": 179,
    "start_time": "2023-02-09T17:54:49.737Z"
   },
   {
    "duration": 394,
    "start_time": "2023-02-09T17:54:49.918Z"
   },
   {
    "duration": 3,
    "start_time": "2023-02-09T17:54:50.314Z"
   },
   {
    "duration": 11,
    "start_time": "2023-02-09T17:54:50.318Z"
   },
   {
    "duration": 4,
    "start_time": "2023-02-09T17:54:50.331Z"
   },
   {
    "duration": 9,
    "start_time": "2023-02-09T17:54:50.337Z"
   },
   {
    "duration": 6,
    "start_time": "2023-02-09T17:54:50.348Z"
   },
   {
    "duration": 5,
    "start_time": "2023-02-09T17:54:50.382Z"
   },
   {
    "duration": 32,
    "start_time": "2023-02-09T17:54:50.390Z"
   },
   {
    "duration": 16,
    "start_time": "2023-02-09T17:54:50.424Z"
   },
   {
    "duration": 26,
    "start_time": "2023-02-09T17:54:50.442Z"
   },
   {
    "duration": 165,
    "start_time": "2023-02-09T17:54:50.470Z"
   },
   {
    "duration": 165,
    "start_time": "2023-02-09T17:54:50.637Z"
   },
   {
    "duration": 153,
    "start_time": "2023-02-09T17:54:50.804Z"
   },
   {
    "duration": 974,
    "start_time": "2023-02-09T17:54:50.959Z"
   },
   {
    "duration": 937,
    "start_time": "2023-02-09T17:54:51.935Z"
   },
   {
    "duration": 11,
    "start_time": "2023-02-09T17:54:52.874Z"
   },
   {
    "duration": 29,
    "start_time": "2023-02-09T17:54:52.886Z"
   },
   {
    "duration": 647,
    "start_time": "2023-02-09T17:54:52.917Z"
   },
   {
    "duration": 5,
    "start_time": "2023-02-09T17:54:53.566Z"
   },
   {
    "duration": 733,
    "start_time": "2023-02-09T17:54:53.581Z"
   },
   {
    "duration": 5,
    "start_time": "2023-02-09T17:54:54.316Z"
   },
   {
    "duration": 626,
    "start_time": "2023-02-09T17:54:54.322Z"
   },
   {
    "duration": 5,
    "start_time": "2023-02-09T17:54:54.950Z"
   },
   {
    "duration": 646,
    "start_time": "2023-02-09T17:54:54.957Z"
   },
   {
    "duration": 1351,
    "start_time": "2023-02-09T18:25:31.940Z"
   },
   {
    "duration": 710,
    "start_time": "2023-02-09T18:25:33.292Z"
   },
   {
    "duration": 4,
    "start_time": "2023-02-09T18:25:34.004Z"
   },
   {
    "duration": 25,
    "start_time": "2023-02-09T18:25:34.009Z"
   },
   {
    "duration": 412,
    "start_time": "2023-02-09T18:25:34.036Z"
   },
   {
    "duration": 190,
    "start_time": "2023-02-09T18:25:34.450Z"
   },
   {
    "duration": 408,
    "start_time": "2023-02-09T18:25:34.642Z"
   },
   {
    "duration": 3,
    "start_time": "2023-02-09T18:25:35.051Z"
   },
   {
    "duration": 35,
    "start_time": "2023-02-09T18:25:35.056Z"
   },
   {
    "duration": 12,
    "start_time": "2023-02-09T18:25:35.094Z"
   },
   {
    "duration": 13,
    "start_time": "2023-02-09T18:25:35.108Z"
   },
   {
    "duration": 7,
    "start_time": "2023-02-09T18:25:35.122Z"
   },
   {
    "duration": 19,
    "start_time": "2023-02-09T18:25:35.130Z"
   },
   {
    "duration": 26,
    "start_time": "2023-02-09T18:25:35.152Z"
   },
   {
    "duration": 4,
    "start_time": "2023-02-09T18:25:35.180Z"
   },
   {
    "duration": 24,
    "start_time": "2023-02-09T18:25:35.186Z"
   },
   {
    "duration": 196,
    "start_time": "2023-02-09T18:25:35.212Z"
   },
   {
    "duration": 185,
    "start_time": "2023-02-09T18:25:35.410Z"
   },
   {
    "duration": 179,
    "start_time": "2023-02-09T18:25:35.597Z"
   },
   {
    "duration": 947,
    "start_time": "2023-02-09T18:25:35.781Z"
   },
   {
    "duration": 1040,
    "start_time": "2023-02-09T18:25:36.729Z"
   },
   {
    "duration": 11,
    "start_time": "2023-02-09T18:25:37.771Z"
   },
   {
    "duration": 5,
    "start_time": "2023-02-09T18:25:37.784Z"
   },
   {
    "duration": 641,
    "start_time": "2023-02-09T18:25:37.791Z"
   },
   {
    "duration": 6,
    "start_time": "2023-02-09T18:25:38.434Z"
   },
   {
    "duration": 745,
    "start_time": "2023-02-09T18:25:38.441Z"
   },
   {
    "duration": 5,
    "start_time": "2023-02-09T18:25:39.188Z"
   },
   {
    "duration": 663,
    "start_time": "2023-02-09T18:25:39.196Z"
   },
   {
    "duration": 5,
    "start_time": "2023-02-09T18:25:39.861Z"
   },
   {
    "duration": 627,
    "start_time": "2023-02-09T18:25:39.868Z"
   },
   {
    "duration": 1363,
    "start_time": "2023-02-09T18:25:49.911Z"
   },
   {
    "duration": 741,
    "start_time": "2023-02-09T18:25:51.277Z"
   },
   {
    "duration": 4,
    "start_time": "2023-02-09T18:25:52.020Z"
   },
   {
    "duration": 24,
    "start_time": "2023-02-09T18:25:52.026Z"
   },
   {
    "duration": 433,
    "start_time": "2023-02-09T18:25:52.053Z"
   },
   {
    "duration": 198,
    "start_time": "2023-02-09T18:25:52.488Z"
   },
   {
    "duration": 409,
    "start_time": "2023-02-09T18:25:52.688Z"
   },
   {
    "duration": 2,
    "start_time": "2023-02-09T18:25:53.099Z"
   },
   {
    "duration": 21,
    "start_time": "2023-02-09T18:25:53.103Z"
   },
   {
    "duration": 15,
    "start_time": "2023-02-09T18:25:53.125Z"
   },
   {
    "duration": 34,
    "start_time": "2023-02-09T18:25:53.141Z"
   },
   {
    "duration": 18,
    "start_time": "2023-02-09T18:25:53.177Z"
   },
   {
    "duration": 26,
    "start_time": "2023-02-09T18:25:53.197Z"
   },
   {
    "duration": 59,
    "start_time": "2023-02-09T18:25:53.226Z"
   },
   {
    "duration": 11,
    "start_time": "2023-02-09T18:25:53.286Z"
   },
   {
    "duration": 30,
    "start_time": "2023-02-09T18:25:53.298Z"
   },
   {
    "duration": 184,
    "start_time": "2023-02-09T18:25:53.330Z"
   },
   {
    "duration": 158,
    "start_time": "2023-02-09T18:25:53.516Z"
   },
   {
    "duration": 165,
    "start_time": "2023-02-09T18:25:53.676Z"
   },
   {
    "duration": 934,
    "start_time": "2023-02-09T18:25:53.842Z"
   },
   {
    "duration": 973,
    "start_time": "2023-02-09T18:25:54.777Z"
   },
   {
    "duration": 5,
    "start_time": "2023-02-09T18:25:55.752Z"
   },
   {
    "duration": 23,
    "start_time": "2023-02-09T18:25:55.758Z"
   },
   {
    "duration": 755,
    "start_time": "2023-02-09T18:25:55.782Z"
   },
   {
    "duration": 7,
    "start_time": "2023-02-09T18:25:56.540Z"
   },
   {
    "duration": 743,
    "start_time": "2023-02-09T18:25:56.549Z"
   },
   {
    "duration": 5,
    "start_time": "2023-02-09T18:25:57.294Z"
   },
   {
    "duration": 628,
    "start_time": "2023-02-09T18:25:57.301Z"
   },
   {
    "duration": 5,
    "start_time": "2023-02-09T18:25:57.931Z"
   },
   {
    "duration": 637,
    "start_time": "2023-02-09T18:25:57.938Z"
   },
   {
    "duration": 898,
    "start_time": "2023-02-09T18:35:57.612Z"
   },
   {
    "duration": 931,
    "start_time": "2023-02-09T18:36:03.710Z"
   },
   {
    "duration": 1275,
    "start_time": "2023-02-09T18:36:22.328Z"
   },
   {
    "duration": 677,
    "start_time": "2023-02-09T18:36:23.605Z"
   },
   {
    "duration": 4,
    "start_time": "2023-02-09T18:36:24.284Z"
   },
   {
    "duration": 28,
    "start_time": "2023-02-09T18:36:24.290Z"
   },
   {
    "duration": 353,
    "start_time": "2023-02-09T18:36:24.320Z"
   },
   {
    "duration": 186,
    "start_time": "2023-02-09T18:36:24.674Z"
   },
   {
    "duration": 385,
    "start_time": "2023-02-09T18:36:24.862Z"
   },
   {
    "duration": 3,
    "start_time": "2023-02-09T18:36:25.248Z"
   },
   {
    "duration": 10,
    "start_time": "2023-02-09T18:36:25.252Z"
   },
   {
    "duration": 20,
    "start_time": "2023-02-09T18:36:25.264Z"
   },
   {
    "duration": 6,
    "start_time": "2023-02-09T18:36:25.285Z"
   },
   {
    "duration": 8,
    "start_time": "2023-02-09T18:36:25.293Z"
   },
   {
    "duration": 4,
    "start_time": "2023-02-09T18:36:25.303Z"
   },
   {
    "duration": 18,
    "start_time": "2023-02-09T18:36:25.309Z"
   },
   {
    "duration": 2,
    "start_time": "2023-02-09T18:36:25.329Z"
   },
   {
    "duration": 20,
    "start_time": "2023-02-09T18:36:25.333Z"
   },
   {
    "duration": 195,
    "start_time": "2023-02-09T18:36:25.355Z"
   },
   {
    "duration": 153,
    "start_time": "2023-02-09T18:36:25.551Z"
   },
   {
    "duration": 151,
    "start_time": "2023-02-09T18:36:25.706Z"
   },
   {
    "duration": 974,
    "start_time": "2023-02-09T18:36:25.860Z"
   },
   {
    "duration": 933,
    "start_time": "2023-02-09T18:36:26.837Z"
   },
   {
    "duration": 10,
    "start_time": "2023-02-09T18:36:27.772Z"
   },
   {
    "duration": 5,
    "start_time": "2023-02-09T18:36:27.784Z"
   },
   {
    "duration": 641,
    "start_time": "2023-02-09T18:36:27.790Z"
   },
   {
    "duration": 5,
    "start_time": "2023-02-09T18:36:28.433Z"
   },
   {
    "duration": 696,
    "start_time": "2023-02-09T18:36:28.439Z"
   },
   {
    "duration": 5,
    "start_time": "2023-02-09T18:36:29.136Z"
   },
   {
    "duration": 611,
    "start_time": "2023-02-09T18:36:29.143Z"
   },
   {
    "duration": 5,
    "start_time": "2023-02-09T18:36:29.756Z"
   },
   {
    "duration": 591,
    "start_time": "2023-02-09T18:36:29.762Z"
   },
   {
    "duration": 1537,
    "start_time": "2023-02-10T10:38:09.613Z"
   },
   {
    "duration": 1834,
    "start_time": "2023-02-10T10:38:11.152Z"
   },
   {
    "duration": 5,
    "start_time": "2023-02-10T10:38:12.988Z"
   },
   {
    "duration": 10,
    "start_time": "2023-02-10T10:38:12.996Z"
   },
   {
    "duration": 402,
    "start_time": "2023-02-10T10:38:13.008Z"
   },
   {
    "duration": 201,
    "start_time": "2023-02-10T10:38:13.411Z"
   },
   {
    "duration": 426,
    "start_time": "2023-02-10T10:38:13.614Z"
   },
   {
    "duration": 3,
    "start_time": "2023-02-10T10:38:14.042Z"
   },
   {
    "duration": 10,
    "start_time": "2023-02-10T10:38:14.047Z"
   },
   {
    "duration": 5,
    "start_time": "2023-02-10T10:38:14.059Z"
   },
   {
    "duration": 5,
    "start_time": "2023-02-10T10:38:14.065Z"
   },
   {
    "duration": 6,
    "start_time": "2023-02-10T10:38:14.071Z"
   },
   {
    "duration": 37,
    "start_time": "2023-02-10T10:38:14.078Z"
   },
   {
    "duration": 20,
    "start_time": "2023-02-10T10:38:14.117Z"
   },
   {
    "duration": 2,
    "start_time": "2023-02-10T10:38:14.139Z"
   },
   {
    "duration": 20,
    "start_time": "2023-02-10T10:38:14.143Z"
   },
   {
    "duration": 194,
    "start_time": "2023-02-10T10:38:14.164Z"
   },
   {
    "duration": 162,
    "start_time": "2023-02-10T10:38:14.360Z"
   },
   {
    "duration": 166,
    "start_time": "2023-02-10T10:38:14.524Z"
   },
   {
    "duration": 860,
    "start_time": "2023-02-10T10:38:14.692Z"
   },
   {
    "duration": 871,
    "start_time": "2023-02-10T10:38:15.554Z"
   },
   {
    "duration": 5,
    "start_time": "2023-02-10T10:38:16.427Z"
   },
   {
    "duration": 5,
    "start_time": "2023-02-10T10:38:16.433Z"
   },
   {
    "duration": 665,
    "start_time": "2023-02-10T10:38:16.440Z"
   },
   {
    "duration": 8,
    "start_time": "2023-02-10T10:38:17.106Z"
   },
   {
    "duration": 667,
    "start_time": "2023-02-10T10:38:17.115Z"
   },
   {
    "duration": 5,
    "start_time": "2023-02-10T10:38:17.783Z"
   },
   {
    "duration": 569,
    "start_time": "2023-02-10T10:38:17.792Z"
   },
   {
    "duration": 5,
    "start_time": "2023-02-10T10:38:18.363Z"
   },
   {
    "duration": 560,
    "start_time": "2023-02-10T10:38:18.369Z"
   },
   {
    "duration": 428,
    "start_time": "2023-02-10T10:39:20.873Z"
   },
   {
    "duration": 170,
    "start_time": "2023-02-10T10:39:33.254Z"
   },
   {
    "duration": 5,
    "start_time": "2023-02-10T10:48:39.829Z"
   },
   {
    "duration": 710,
    "start_time": "2023-02-10T10:48:40.267Z"
   },
   {
    "duration": 5,
    "start_time": "2023-02-10T10:48:54.450Z"
   },
   {
    "duration": 657,
    "start_time": "2023-02-10T10:48:55.144Z"
   },
   {
    "duration": 5,
    "start_time": "2023-02-10T10:49:01.104Z"
   },
   {
    "duration": 575,
    "start_time": "2023-02-10T10:49:02.207Z"
   },
   {
    "duration": 288,
    "start_time": "2023-02-10T10:51:28.418Z"
   },
   {
    "duration": 53,
    "start_time": "2023-02-10T10:51:42.395Z"
   },
   {
    "duration": 10,
    "start_time": "2023-02-10T10:52:07.416Z"
   },
   {
    "duration": 558,
    "start_time": "2023-02-10T10:52:33.612Z"
   },
   {
    "duration": 744,
    "start_time": "2023-02-10T10:53:43.569Z"
   },
   {
    "duration": 17,
    "start_time": "2023-02-10T10:55:02.144Z"
   },
   {
    "duration": 5,
    "start_time": "2023-02-10T10:57:55.225Z"
   },
   {
    "duration": 864,
    "start_time": "2023-02-10T10:58:46.553Z"
   },
   {
    "duration": 28,
    "start_time": "2023-02-10T10:59:15.765Z"
   },
   {
    "duration": 22,
    "start_time": "2023-02-10T11:00:39.756Z"
   },
   {
    "duration": 561,
    "start_time": "2023-02-10T11:00:55.156Z"
   },
   {
    "duration": 558,
    "start_time": "2023-02-10T11:01:00.993Z"
   },
   {
    "duration": 638,
    "start_time": "2023-02-10T11:03:35.582Z"
   },
   {
    "duration": 1323,
    "start_time": "2023-02-10T11:03:41.457Z"
   },
   {
    "duration": 739,
    "start_time": "2023-02-10T11:03:42.782Z"
   },
   {
    "duration": 5,
    "start_time": "2023-02-10T11:03:43.522Z"
   },
   {
    "duration": 17,
    "start_time": "2023-02-10T11:03:43.529Z"
   },
   {
    "duration": 386,
    "start_time": "2023-02-10T11:03:43.548Z"
   },
   {
    "duration": 174,
    "start_time": "2023-02-10T11:03:43.936Z"
   },
   {
    "duration": 368,
    "start_time": "2023-02-10T11:03:44.111Z"
   },
   {
    "duration": 3,
    "start_time": "2023-02-10T11:03:44.481Z"
   },
   {
    "duration": 14,
    "start_time": "2023-02-10T11:03:44.485Z"
   },
   {
    "duration": 12,
    "start_time": "2023-02-10T11:03:44.500Z"
   },
   {
    "duration": 5,
    "start_time": "2023-02-10T11:03:44.514Z"
   },
   {
    "duration": 6,
    "start_time": "2023-02-10T11:03:44.521Z"
   },
   {
    "duration": 4,
    "start_time": "2023-02-10T11:03:44.529Z"
   },
   {
    "duration": 26,
    "start_time": "2023-02-10T11:03:44.535Z"
   },
   {
    "duration": 5,
    "start_time": "2023-02-10T11:03:44.563Z"
   },
   {
    "duration": 40,
    "start_time": "2023-02-10T11:03:44.570Z"
   },
   {
    "duration": 177,
    "start_time": "2023-02-10T11:03:44.611Z"
   },
   {
    "duration": 163,
    "start_time": "2023-02-10T11:03:44.789Z"
   },
   {
    "duration": 169,
    "start_time": "2023-02-10T11:03:44.953Z"
   },
   {
    "duration": 836,
    "start_time": "2023-02-10T11:03:45.124Z"
   },
   {
    "duration": 949,
    "start_time": "2023-02-10T11:03:45.962Z"
   },
   {
    "duration": 6,
    "start_time": "2023-02-10T11:03:46.913Z"
   },
   {
    "duration": 5,
    "start_time": "2023-02-10T11:03:46.920Z"
   },
   {
    "duration": 575,
    "start_time": "2023-02-10T11:03:46.926Z"
   },
   {
    "duration": 9,
    "start_time": "2023-02-10T11:03:47.502Z"
   },
   {
    "duration": 665,
    "start_time": "2023-02-10T11:03:47.513Z"
   },
   {
    "duration": 5,
    "start_time": "2023-02-10T11:03:48.180Z"
   },
   {
    "duration": 571,
    "start_time": "2023-02-10T11:03:48.186Z"
   },
   {
    "duration": 6,
    "start_time": "2023-02-10T11:03:48.758Z"
   },
   {
    "duration": 570,
    "start_time": "2023-02-10T11:03:48.765Z"
   },
   {
    "duration": 134,
    "start_time": "2023-02-10T11:03:49.336Z"
   },
   {
    "duration": 575,
    "start_time": "2023-02-10T11:03:49.471Z"
   },
   {
    "duration": 4,
    "start_time": "2023-02-10T11:08:17.683Z"
   },
   {
    "duration": 1329,
    "start_time": "2023-02-10T11:08:21.031Z"
   },
   {
    "duration": 715,
    "start_time": "2023-02-10T11:08:22.362Z"
   },
   {
    "duration": 3,
    "start_time": "2023-02-10T11:08:23.079Z"
   },
   {
    "duration": 15,
    "start_time": "2023-02-10T11:08:23.085Z"
   },
   {
    "duration": 393,
    "start_time": "2023-02-10T11:08:23.102Z"
   },
   {
    "duration": 169,
    "start_time": "2023-02-10T11:08:23.497Z"
   },
   {
    "duration": 380,
    "start_time": "2023-02-10T11:08:23.668Z"
   },
   {
    "duration": 3,
    "start_time": "2023-02-10T11:08:24.050Z"
   },
   {
    "duration": 9,
    "start_time": "2023-02-10T11:08:24.055Z"
   },
   {
    "duration": 4,
    "start_time": "2023-02-10T11:08:24.066Z"
   },
   {
    "duration": 7,
    "start_time": "2023-02-10T11:08:24.072Z"
   },
   {
    "duration": 31,
    "start_time": "2023-02-10T11:08:24.080Z"
   },
   {
    "duration": 6,
    "start_time": "2023-02-10T11:08:24.112Z"
   },
   {
    "duration": 25,
    "start_time": "2023-02-10T11:08:24.120Z"
   },
   {
    "duration": 4,
    "start_time": "2023-02-10T11:08:24.147Z"
   },
   {
    "duration": 15,
    "start_time": "2023-02-10T11:08:24.153Z"
   },
   {
    "duration": 177,
    "start_time": "2023-02-10T11:08:24.169Z"
   },
   {
    "duration": 165,
    "start_time": "2023-02-10T11:08:24.348Z"
   },
   {
    "duration": 161,
    "start_time": "2023-02-10T11:08:24.514Z"
   },
   {
    "duration": 834,
    "start_time": "2023-02-10T11:08:24.676Z"
   },
   {
    "duration": 879,
    "start_time": "2023-02-10T11:08:25.512Z"
   },
   {
    "duration": 5,
    "start_time": "2023-02-10T11:08:26.393Z"
   },
   {
    "duration": 13,
    "start_time": "2023-02-10T11:08:26.400Z"
   },
   {
    "duration": 602,
    "start_time": "2023-02-10T11:08:26.415Z"
   },
   {
    "duration": 8,
    "start_time": "2023-02-10T11:08:27.019Z"
   },
   {
    "duration": 714,
    "start_time": "2023-02-10T11:08:27.029Z"
   },
   {
    "duration": 5,
    "start_time": "2023-02-10T11:08:27.745Z"
   },
   {
    "duration": 560,
    "start_time": "2023-02-10T11:08:27.752Z"
   },
   {
    "duration": 5,
    "start_time": "2023-02-10T11:08:28.314Z"
   },
   {
    "duration": 561,
    "start_time": "2023-02-10T11:08:28.321Z"
   },
   {
    "duration": 139,
    "start_time": "2023-02-10T11:08:28.883Z"
   },
   {
    "duration": 560,
    "start_time": "2023-02-10T11:08:29.024Z"
   },
   {
    "duration": 119,
    "start_time": "2023-02-10T11:14:51.825Z"
   },
   {
    "duration": 4,
    "start_time": "2023-02-10T11:15:12.184Z"
   },
   {
    "duration": 12,
    "start_time": "2023-02-10T11:16:38.042Z"
   },
   {
    "duration": 1254,
    "start_time": "2023-02-10T11:24:40.824Z"
   },
   {
    "duration": 697,
    "start_time": "2023-02-10T11:24:42.080Z"
   },
   {
    "duration": 4,
    "start_time": "2023-02-10T11:24:42.778Z"
   },
   {
    "duration": 13,
    "start_time": "2023-02-10T11:24:42.784Z"
   },
   {
    "duration": 414,
    "start_time": "2023-02-10T11:24:42.799Z"
   },
   {
    "duration": 188,
    "start_time": "2023-02-10T11:24:43.214Z"
   },
   {
    "duration": 410,
    "start_time": "2023-02-10T11:24:43.403Z"
   },
   {
    "duration": 3,
    "start_time": "2023-02-10T11:24:43.814Z"
   },
   {
    "duration": 13,
    "start_time": "2023-02-10T11:24:43.819Z"
   },
   {
    "duration": 5,
    "start_time": "2023-02-10T11:24:43.833Z"
   },
   {
    "duration": 6,
    "start_time": "2023-02-10T11:24:43.839Z"
   },
   {
    "duration": 12,
    "start_time": "2023-02-10T11:24:43.846Z"
   },
   {
    "duration": 19,
    "start_time": "2023-02-10T11:24:43.860Z"
   },
   {
    "duration": 48,
    "start_time": "2023-02-10T11:24:43.883Z"
   },
   {
    "duration": 3,
    "start_time": "2023-02-10T11:24:43.934Z"
   },
   {
    "duration": 17,
    "start_time": "2023-02-10T11:24:43.939Z"
   },
   {
    "duration": 191,
    "start_time": "2023-02-10T11:24:43.958Z"
   },
   {
    "duration": 166,
    "start_time": "2023-02-10T11:24:44.151Z"
   },
   {
    "duration": 161,
    "start_time": "2023-02-10T11:24:44.319Z"
   },
   {
    "duration": 861,
    "start_time": "2023-02-10T11:24:44.481Z"
   },
   {
    "duration": 785,
    "start_time": "2023-02-10T11:24:45.344Z"
   },
   {
    "duration": 7,
    "start_time": "2023-02-10T11:24:46.131Z"
   },
   {
    "duration": 9,
    "start_time": "2023-02-10T11:24:46.140Z"
   },
   {
    "duration": 692,
    "start_time": "2023-02-10T11:24:46.151Z"
   },
   {
    "duration": 6,
    "start_time": "2023-02-10T11:24:46.845Z"
   },
   {
    "duration": 774,
    "start_time": "2023-02-10T11:24:46.854Z"
   },
   {
    "duration": 5,
    "start_time": "2023-02-10T11:24:47.630Z"
   },
   {
    "duration": 661,
    "start_time": "2023-02-10T11:24:47.637Z"
   },
   {
    "duration": 11,
    "start_time": "2023-02-10T11:24:48.300Z"
   },
   {
    "duration": 564,
    "start_time": "2023-02-10T11:24:48.313Z"
   },
   {
    "duration": 31,
    "start_time": "2023-02-10T11:24:48.879Z"
   },
   {
    "duration": 670,
    "start_time": "2023-02-10T11:24:48.912Z"
   },
   {
    "duration": 5,
    "start_time": "2023-02-10T11:24:49.584Z"
   },
   {
    "duration": 45,
    "start_time": "2023-02-10T11:37:55.293Z"
   },
   {
    "duration": 5,
    "start_time": "2023-02-10T11:43:32.067Z"
   },
   {
    "duration": 28,
    "start_time": "2023-02-10T11:43:36.837Z"
   },
   {
    "duration": 4,
    "start_time": "2023-02-10T11:43:47.851Z"
   },
   {
    "duration": 131,
    "start_time": "2023-02-10T11:46:08.507Z"
   },
   {
    "duration": 4,
    "start_time": "2023-02-10T11:46:12.434Z"
   },
   {
    "duration": 11,
    "start_time": "2023-02-10T11:46:14.762Z"
   },
   {
    "duration": 7,
    "start_time": "2023-02-10T11:46:16.734Z"
   },
   {
    "duration": 10,
    "start_time": "2023-02-10T11:46:16.904Z"
   },
   {
    "duration": 4,
    "start_time": "2023-02-10T11:46:20.857Z"
   },
   {
    "duration": 67,
    "start_time": "2023-02-10T11:46:26.072Z"
   },
   {
    "duration": 17,
    "start_time": "2023-02-10T11:48:17.891Z"
   },
   {
    "duration": 66,
    "start_time": "2023-02-10T11:48:18.518Z"
   },
   {
    "duration": 20,
    "start_time": "2023-02-10T11:49:49.090Z"
   },
   {
    "duration": 18,
    "start_time": "2023-02-10T11:49:52.828Z"
   },
   {
    "duration": 18,
    "start_time": "2023-02-10T11:50:00.962Z"
   },
   {
    "duration": 36,
    "start_time": "2023-02-10T11:51:54.776Z"
   },
   {
    "duration": 743,
    "start_time": "2023-02-10T11:52:05.661Z"
   },
   {
    "duration": 16,
    "start_time": "2023-02-10T11:52:36.107Z"
   },
   {
    "duration": 63,
    "start_time": "2023-02-10T11:52:37.721Z"
   },
   {
    "duration": 31,
    "start_time": "2023-02-10T11:55:43.586Z"
   },
   {
    "duration": 17,
    "start_time": "2023-02-10T11:57:23.539Z"
   },
   {
    "duration": 15,
    "start_time": "2023-02-10T11:57:30.850Z"
   },
   {
    "duration": 32,
    "start_time": "2023-02-10T11:57:41.394Z"
   },
   {
    "duration": 1270,
    "start_time": "2023-02-10T11:58:03.431Z"
   },
   {
    "duration": 703,
    "start_time": "2023-02-10T11:58:04.703Z"
   },
   {
    "duration": 3,
    "start_time": "2023-02-10T11:58:05.408Z"
   },
   {
    "duration": 10,
    "start_time": "2023-02-10T11:58:05.413Z"
   },
   {
    "duration": 384,
    "start_time": "2023-02-10T11:58:05.426Z"
   },
   {
    "duration": 164,
    "start_time": "2023-02-10T11:58:05.812Z"
   },
   {
    "duration": 379,
    "start_time": "2023-02-10T11:58:05.977Z"
   },
   {
    "duration": 3,
    "start_time": "2023-02-10T11:58:06.358Z"
   },
   {
    "duration": 46,
    "start_time": "2023-02-10T11:58:06.362Z"
   },
   {
    "duration": 8,
    "start_time": "2023-02-10T11:58:06.410Z"
   },
   {
    "duration": 5,
    "start_time": "2023-02-10T11:58:06.420Z"
   },
   {
    "duration": 7,
    "start_time": "2023-02-10T11:58:06.427Z"
   },
   {
    "duration": 7,
    "start_time": "2023-02-10T11:58:06.435Z"
   },
   {
    "duration": 30,
    "start_time": "2023-02-10T11:58:06.445Z"
   },
   {
    "duration": 9,
    "start_time": "2023-02-10T11:58:06.477Z"
   },
   {
    "duration": 22,
    "start_time": "2023-02-10T11:58:06.488Z"
   },
   {
    "duration": 200,
    "start_time": "2023-02-10T11:58:06.511Z"
   },
   {
    "duration": 205,
    "start_time": "2023-02-10T11:58:06.713Z"
   },
   {
    "duration": 161,
    "start_time": "2023-02-10T11:58:06.920Z"
   },
   {
    "duration": 862,
    "start_time": "2023-02-10T11:58:07.082Z"
   },
   {
    "duration": 765,
    "start_time": "2023-02-10T11:58:07.946Z"
   },
   {
    "duration": 6,
    "start_time": "2023-02-10T11:58:08.712Z"
   },
   {
    "duration": 5,
    "start_time": "2023-02-10T11:58:08.719Z"
   },
   {
    "duration": 685,
    "start_time": "2023-02-10T11:58:08.725Z"
   },
   {
    "duration": 5,
    "start_time": "2023-02-10T11:58:09.411Z"
   },
   {
    "duration": 559,
    "start_time": "2023-02-10T11:58:09.417Z"
   },
   {
    "duration": 5,
    "start_time": "2023-02-10T11:58:09.977Z"
   },
   {
    "duration": 651,
    "start_time": "2023-02-10T11:58:09.983Z"
   },
   {
    "duration": 4,
    "start_time": "2023-02-10T11:58:10.636Z"
   },
   {
    "duration": 554,
    "start_time": "2023-02-10T11:58:10.642Z"
   },
   {
    "duration": 29,
    "start_time": "2023-02-10T11:58:11.197Z"
   },
   {
    "duration": 651,
    "start_time": "2023-02-10T11:58:11.228Z"
   },
   {
    "duration": 3,
    "start_time": "2023-02-10T11:58:11.882Z"
   },
   {
    "duration": 13,
    "start_time": "2023-02-10T11:58:11.887Z"
   },
   {
    "duration": 31,
    "start_time": "2023-02-10T11:58:11.901Z"
   },
   {
    "duration": 134,
    "start_time": "2023-02-10T11:58:11.933Z"
   },
   {
    "duration": 0,
    "start_time": "2023-02-10T11:58:12.068Z"
   },
   {
    "duration": 24,
    "start_time": "2023-02-10T11:58:23.134Z"
   },
   {
    "duration": 1323,
    "start_time": "2023-02-10T11:58:43.974Z"
   },
   {
    "duration": 688,
    "start_time": "2023-02-10T11:58:45.299Z"
   },
   {
    "duration": 4,
    "start_time": "2023-02-10T11:58:45.988Z"
   },
   {
    "duration": 19,
    "start_time": "2023-02-10T11:58:45.994Z"
   },
   {
    "duration": 368,
    "start_time": "2023-02-10T11:58:46.016Z"
   },
   {
    "duration": 167,
    "start_time": "2023-02-10T11:58:46.385Z"
   },
   {
    "duration": 466,
    "start_time": "2023-02-10T11:58:46.554Z"
   },
   {
    "duration": 2,
    "start_time": "2023-02-10T11:58:47.022Z"
   },
   {
    "duration": 9,
    "start_time": "2023-02-10T11:58:47.026Z"
   },
   {
    "duration": 4,
    "start_time": "2023-02-10T11:58:47.037Z"
   },
   {
    "duration": 6,
    "start_time": "2023-02-10T11:58:47.043Z"
   },
   {
    "duration": 6,
    "start_time": "2023-02-10T11:58:47.050Z"
   },
   {
    "duration": 8,
    "start_time": "2023-02-10T11:58:47.057Z"
   },
   {
    "duration": 46,
    "start_time": "2023-02-10T11:58:47.067Z"
   },
   {
    "duration": 2,
    "start_time": "2023-02-10T11:58:47.115Z"
   },
   {
    "duration": 22,
    "start_time": "2023-02-10T11:58:47.119Z"
   },
   {
    "duration": 182,
    "start_time": "2023-02-10T11:58:47.143Z"
   },
   {
    "duration": 153,
    "start_time": "2023-02-10T11:58:47.327Z"
   },
   {
    "duration": 157,
    "start_time": "2023-02-10T11:58:47.482Z"
   },
   {
    "duration": 823,
    "start_time": "2023-02-10T11:58:47.641Z"
   },
   {
    "duration": 805,
    "start_time": "2023-02-10T11:58:48.466Z"
   },
   {
    "duration": 6,
    "start_time": "2023-02-10T11:58:49.272Z"
   },
   {
    "duration": 6,
    "start_time": "2023-02-10T11:58:49.280Z"
   },
   {
    "duration": 677,
    "start_time": "2023-02-10T11:58:49.288Z"
   },
   {
    "duration": 5,
    "start_time": "2023-02-10T11:58:49.967Z"
   },
   {
    "duration": 555,
    "start_time": "2023-02-10T11:58:49.973Z"
   },
   {
    "duration": 5,
    "start_time": "2023-02-10T11:58:50.529Z"
   },
   {
    "duration": 637,
    "start_time": "2023-02-10T11:58:50.535Z"
   },
   {
    "duration": 5,
    "start_time": "2023-02-10T11:58:51.173Z"
   },
   {
    "duration": 550,
    "start_time": "2023-02-10T11:58:51.179Z"
   },
   {
    "duration": 32,
    "start_time": "2023-02-10T11:58:51.731Z"
   },
   {
    "duration": 660,
    "start_time": "2023-02-10T11:58:51.765Z"
   },
   {
    "duration": 4,
    "start_time": "2023-02-10T11:58:52.427Z"
   },
   {
    "duration": 8,
    "start_time": "2023-02-10T11:58:52.433Z"
   },
   {
    "duration": 27,
    "start_time": "2023-02-10T11:58:52.443Z"
   },
   {
    "duration": 6,
    "start_time": "2023-02-10T11:58:52.471Z"
   },
   {
    "duration": 41,
    "start_time": "2023-02-10T11:58:52.478Z"
   },
   {
    "duration": 123,
    "start_time": "2023-02-10T12:00:36.196Z"
   },
   {
    "duration": 15,
    "start_time": "2023-02-10T12:01:16.740Z"
   },
   {
    "duration": 64,
    "start_time": "2023-02-10T12:01:20.734Z"
   },
   {
    "duration": 10,
    "start_time": "2023-02-10T12:01:35.323Z"
   },
   {
    "duration": 69,
    "start_time": "2023-02-10T12:01:44.091Z"
   },
   {
    "duration": 60,
    "start_time": "2023-02-10T12:02:33.669Z"
   },
   {
    "duration": 1258,
    "start_time": "2023-02-10T12:02:39.800Z"
   },
   {
    "duration": 676,
    "start_time": "2023-02-10T12:02:41.060Z"
   },
   {
    "duration": 4,
    "start_time": "2023-02-10T12:02:41.738Z"
   },
   {
    "duration": 13,
    "start_time": "2023-02-10T12:02:41.744Z"
   },
   {
    "duration": 371,
    "start_time": "2023-02-10T12:02:41.758Z"
   },
   {
    "duration": 179,
    "start_time": "2023-02-10T12:02:42.130Z"
   },
   {
    "duration": 363,
    "start_time": "2023-02-10T12:02:42.310Z"
   },
   {
    "duration": 3,
    "start_time": "2023-02-10T12:02:42.674Z"
   },
   {
    "duration": 17,
    "start_time": "2023-02-10T12:02:42.678Z"
   },
   {
    "duration": 4,
    "start_time": "2023-02-10T12:02:42.697Z"
   },
   {
    "duration": 4,
    "start_time": "2023-02-10T12:02:42.710Z"
   },
   {
    "duration": 7,
    "start_time": "2023-02-10T12:02:42.715Z"
   },
   {
    "duration": 4,
    "start_time": "2023-02-10T12:02:42.723Z"
   },
   {
    "duration": 18,
    "start_time": "2023-02-10T12:02:42.729Z"
   },
   {
    "duration": 4,
    "start_time": "2023-02-10T12:02:42.749Z"
   },
   {
    "duration": 18,
    "start_time": "2023-02-10T12:02:42.754Z"
   },
   {
    "duration": 208,
    "start_time": "2023-02-10T12:02:42.773Z"
   },
   {
    "duration": 186,
    "start_time": "2023-02-10T12:02:42.984Z"
   },
   {
    "duration": 167,
    "start_time": "2023-02-10T12:02:43.173Z"
   },
   {
    "duration": 839,
    "start_time": "2023-02-10T12:02:43.342Z"
   },
   {
    "duration": 770,
    "start_time": "2023-02-10T12:02:44.182Z"
   },
   {
    "duration": 6,
    "start_time": "2023-02-10T12:02:44.954Z"
   },
   {
    "duration": 5,
    "start_time": "2023-02-10T12:02:44.961Z"
   },
   {
    "duration": 702,
    "start_time": "2023-02-10T12:02:44.967Z"
   },
   {
    "duration": 4,
    "start_time": "2023-02-10T12:02:45.671Z"
   },
   {
    "duration": 552,
    "start_time": "2023-02-10T12:02:45.676Z"
   },
   {
    "duration": 5,
    "start_time": "2023-02-10T12:02:46.230Z"
   },
   {
    "duration": 644,
    "start_time": "2023-02-10T12:02:46.238Z"
   },
   {
    "duration": 5,
    "start_time": "2023-02-10T12:02:46.883Z"
   },
   {
    "duration": 591,
    "start_time": "2023-02-10T12:02:46.890Z"
   },
   {
    "duration": 48,
    "start_time": "2023-02-10T12:02:47.484Z"
   },
   {
    "duration": 747,
    "start_time": "2023-02-10T12:02:47.534Z"
   },
   {
    "duration": 5,
    "start_time": "2023-02-10T12:02:48.283Z"
   },
   {
    "duration": 10,
    "start_time": "2023-02-10T12:02:48.289Z"
   },
   {
    "duration": 28,
    "start_time": "2023-02-10T12:02:48.310Z"
   },
   {
    "duration": 6,
    "start_time": "2023-02-10T12:02:48.340Z"
   },
   {
    "duration": 24,
    "start_time": "2023-02-10T12:02:48.348Z"
   },
   {
    "duration": 23,
    "start_time": "2023-02-10T12:04:47.522Z"
   },
   {
    "duration": 54,
    "start_time": "2023-02-10T12:04:52.065Z"
   },
   {
    "duration": 1371,
    "start_time": "2023-02-10T12:05:33.615Z"
   },
   {
    "duration": 685,
    "start_time": "2023-02-10T12:05:34.988Z"
   },
   {
    "duration": 4,
    "start_time": "2023-02-10T12:05:35.674Z"
   },
   {
    "duration": 26,
    "start_time": "2023-02-10T12:05:35.679Z"
   },
   {
    "duration": 385,
    "start_time": "2023-02-10T12:05:35.708Z"
   },
   {
    "duration": 185,
    "start_time": "2023-02-10T12:05:36.095Z"
   },
   {
    "duration": 413,
    "start_time": "2023-02-10T12:05:36.282Z"
   },
   {
    "duration": 13,
    "start_time": "2023-02-10T12:05:36.697Z"
   },
   {
    "duration": 21,
    "start_time": "2023-02-10T12:05:36.712Z"
   },
   {
    "duration": 5,
    "start_time": "2023-02-10T12:05:36.735Z"
   },
   {
    "duration": 16,
    "start_time": "2023-02-10T12:05:36.741Z"
   },
   {
    "duration": 16,
    "start_time": "2023-02-10T12:05:36.758Z"
   },
   {
    "duration": 25,
    "start_time": "2023-02-10T12:05:36.777Z"
   },
   {
    "duration": 41,
    "start_time": "2023-02-10T12:05:36.806Z"
   },
   {
    "duration": 18,
    "start_time": "2023-02-10T12:05:36.849Z"
   },
   {
    "duration": 23,
    "start_time": "2023-02-10T12:05:36.869Z"
   },
   {
    "duration": 163,
    "start_time": "2023-02-10T12:05:36.894Z"
   },
   {
    "duration": 160,
    "start_time": "2023-02-10T12:05:37.059Z"
   },
   {
    "duration": 165,
    "start_time": "2023-02-10T12:05:37.220Z"
   },
   {
    "duration": 848,
    "start_time": "2023-02-10T12:05:37.386Z"
   },
   {
    "duration": 796,
    "start_time": "2023-02-10T12:05:38.235Z"
   },
   {
    "duration": 6,
    "start_time": "2023-02-10T12:05:39.033Z"
   },
   {
    "duration": 4,
    "start_time": "2023-02-10T12:05:39.041Z"
   },
   {
    "duration": 711,
    "start_time": "2023-02-10T12:05:39.047Z"
   },
   {
    "duration": 7,
    "start_time": "2023-02-10T12:05:39.760Z"
   },
   {
    "duration": 567,
    "start_time": "2023-02-10T12:05:39.769Z"
   },
   {
    "duration": 5,
    "start_time": "2023-02-10T12:05:40.338Z"
   },
   {
    "duration": 654,
    "start_time": "2023-02-10T12:05:40.345Z"
   },
   {
    "duration": 12,
    "start_time": "2023-02-10T12:05:41.001Z"
   },
   {
    "duration": 560,
    "start_time": "2023-02-10T12:05:41.014Z"
   },
   {
    "duration": 40,
    "start_time": "2023-02-10T12:05:41.576Z"
   },
   {
    "duration": 645,
    "start_time": "2023-02-10T12:05:41.618Z"
   },
   {
    "duration": 4,
    "start_time": "2023-02-10T12:05:42.265Z"
   },
   {
    "duration": 12,
    "start_time": "2023-02-10T12:05:42.270Z"
   },
   {
    "duration": 37,
    "start_time": "2023-02-10T12:05:42.284Z"
   },
   {
    "duration": 7,
    "start_time": "2023-02-10T12:05:42.322Z"
   },
   {
    "duration": 126,
    "start_time": "2023-02-10T12:05:42.330Z"
   },
   {
    "duration": 44,
    "start_time": "2023-02-10T12:05:59.386Z"
   },
   {
    "duration": 56,
    "start_time": "2023-02-10T12:06:28.328Z"
   },
   {
    "duration": 24,
    "start_time": "2023-02-10T12:06:32.175Z"
   },
   {
    "duration": 13,
    "start_time": "2023-02-10T12:29:17.457Z"
   },
   {
    "duration": 16,
    "start_time": "2023-02-10T12:29:28.749Z"
   },
   {
    "duration": 867,
    "start_time": "2023-02-10T12:29:48.790Z"
   },
   {
    "duration": 14,
    "start_time": "2023-02-10T12:30:03.891Z"
   },
   {
    "duration": 10,
    "start_time": "2023-02-10T12:34:29.825Z"
   },
   {
    "duration": 3,
    "start_time": "2023-02-10T12:34:33.944Z"
   },
   {
    "duration": 30,
    "start_time": "2023-02-10T12:34:36.704Z"
   },
   {
    "duration": 1275,
    "start_time": "2023-02-10T12:34:54.357Z"
   },
   {
    "duration": 716,
    "start_time": "2023-02-10T12:34:55.634Z"
   },
   {
    "duration": 4,
    "start_time": "2023-02-10T12:34:56.353Z"
   },
   {
    "duration": 13,
    "start_time": "2023-02-10T12:34:56.359Z"
   },
   {
    "duration": 424,
    "start_time": "2023-02-10T12:34:56.373Z"
   },
   {
    "duration": 229,
    "start_time": "2023-02-10T12:34:56.799Z"
   },
   {
    "duration": 432,
    "start_time": "2023-02-10T12:34:57.029Z"
   },
   {
    "duration": 2,
    "start_time": "2023-02-10T12:34:57.463Z"
   },
   {
    "duration": 17,
    "start_time": "2023-02-10T12:34:57.467Z"
   },
   {
    "duration": 14,
    "start_time": "2023-02-10T12:34:57.485Z"
   },
   {
    "duration": 20,
    "start_time": "2023-02-10T12:34:57.501Z"
   },
   {
    "duration": 15,
    "start_time": "2023-02-10T12:34:57.522Z"
   },
   {
    "duration": 7,
    "start_time": "2023-02-10T12:34:57.539Z"
   },
   {
    "duration": 18,
    "start_time": "2023-02-10T12:34:57.550Z"
   },
   {
    "duration": 3,
    "start_time": "2023-02-10T12:34:57.569Z"
   },
   {
    "duration": 17,
    "start_time": "2023-02-10T12:34:57.574Z"
   },
   {
    "duration": 181,
    "start_time": "2023-02-10T12:34:57.592Z"
   },
   {
    "duration": 167,
    "start_time": "2023-02-10T12:34:57.775Z"
   },
   {
    "duration": 157,
    "start_time": "2023-02-10T12:34:57.943Z"
   },
   {
    "duration": 882,
    "start_time": "2023-02-10T12:34:58.101Z"
   },
   {
    "duration": 799,
    "start_time": "2023-02-10T12:34:58.986Z"
   },
   {
    "duration": 7,
    "start_time": "2023-02-10T12:34:59.787Z"
   },
   {
    "duration": 16,
    "start_time": "2023-02-10T12:34:59.795Z"
   },
   {
    "duration": 675,
    "start_time": "2023-02-10T12:34:59.812Z"
   },
   {
    "duration": 4,
    "start_time": "2023-02-10T12:35:00.489Z"
   },
   {
    "duration": 608,
    "start_time": "2023-02-10T12:35:00.495Z"
   },
   {
    "duration": 16,
    "start_time": "2023-02-10T12:35:01.110Z"
   },
   {
    "duration": 703,
    "start_time": "2023-02-10T12:35:01.128Z"
   },
   {
    "duration": 4,
    "start_time": "2023-02-10T12:35:01.833Z"
   },
   {
    "duration": 604,
    "start_time": "2023-02-10T12:35:01.839Z"
   },
   {
    "duration": 27,
    "start_time": "2023-02-10T12:35:02.445Z"
   },
   {
    "duration": 13,
    "start_time": "2023-02-10T12:35:02.474Z"
   },
   {
    "duration": 43,
    "start_time": "2023-02-10T12:35:02.488Z"
   },
   {
    "duration": 28,
    "start_time": "2023-02-10T12:35:02.533Z"
   },
   {
    "duration": 23,
    "start_time": "2023-02-10T12:35:02.563Z"
   },
   {
    "duration": 152,
    "start_time": "2023-02-10T12:35:02.588Z"
   },
   {
    "duration": 0,
    "start_time": "2023-02-10T12:35:02.742Z"
   },
   {
    "duration": 24,
    "start_time": "2023-02-10T12:36:00.763Z"
   },
   {
    "duration": 24,
    "start_time": "2023-02-10T12:36:05.860Z"
   },
   {
    "duration": 5,
    "start_time": "2023-02-10T12:36:29.784Z"
   },
   {
    "duration": 17,
    "start_time": "2023-02-10T12:36:29.929Z"
   },
   {
    "duration": 24,
    "start_time": "2023-02-10T12:36:30.158Z"
   },
   {
    "duration": 1388,
    "start_time": "2023-02-10T12:42:06.475Z"
   },
   {
    "duration": 676,
    "start_time": "2023-02-10T12:42:07.866Z"
   },
   {
    "duration": 4,
    "start_time": "2023-02-10T12:42:08.544Z"
   },
   {
    "duration": 15,
    "start_time": "2023-02-10T12:42:08.549Z"
   },
   {
    "duration": 387,
    "start_time": "2023-02-10T12:42:08.567Z"
   },
   {
    "duration": 170,
    "start_time": "2023-02-10T12:42:08.956Z"
   },
   {
    "duration": 382,
    "start_time": "2023-02-10T12:42:09.128Z"
   },
   {
    "duration": 4,
    "start_time": "2023-02-10T12:42:09.512Z"
   },
   {
    "duration": 13,
    "start_time": "2023-02-10T12:42:09.518Z"
   },
   {
    "duration": 5,
    "start_time": "2023-02-10T12:42:09.532Z"
   },
   {
    "duration": 5,
    "start_time": "2023-02-10T12:42:09.539Z"
   },
   {
    "duration": 6,
    "start_time": "2023-02-10T12:42:09.545Z"
   },
   {
    "duration": 17,
    "start_time": "2023-02-10T12:42:09.552Z"
   },
   {
    "duration": 44,
    "start_time": "2023-02-10T12:42:09.572Z"
   },
   {
    "duration": 2,
    "start_time": "2023-02-10T12:42:09.618Z"
   },
   {
    "duration": 18,
    "start_time": "2023-02-10T12:42:09.622Z"
   },
   {
    "duration": 194,
    "start_time": "2023-02-10T12:42:09.641Z"
   },
   {
    "duration": 194,
    "start_time": "2023-02-10T12:42:09.836Z"
   },
   {
    "duration": 164,
    "start_time": "2023-02-10T12:42:10.032Z"
   },
   {
    "duration": 835,
    "start_time": "2023-02-10T12:42:10.198Z"
   },
   {
    "duration": 790,
    "start_time": "2023-02-10T12:42:11.036Z"
   },
   {
    "duration": 6,
    "start_time": "2023-02-10T12:42:11.827Z"
   },
   {
    "duration": 6,
    "start_time": "2023-02-10T12:42:11.835Z"
   },
   {
    "duration": 669,
    "start_time": "2023-02-10T12:42:11.843Z"
   },
   {
    "duration": 5,
    "start_time": "2023-02-10T12:42:12.514Z"
   },
   {
    "duration": 603,
    "start_time": "2023-02-10T12:42:12.521Z"
   },
   {
    "duration": 6,
    "start_time": "2023-02-10T12:42:13.126Z"
   },
   {
    "duration": 747,
    "start_time": "2023-02-10T12:42:13.133Z"
   },
   {
    "duration": 5,
    "start_time": "2023-02-10T12:42:13.882Z"
   },
   {
    "duration": 557,
    "start_time": "2023-02-10T12:42:13.889Z"
   },
   {
    "duration": 26,
    "start_time": "2023-02-10T12:42:14.448Z"
   },
   {
    "duration": 4,
    "start_time": "2023-02-10T12:42:14.476Z"
   },
   {
    "duration": 13,
    "start_time": "2023-02-10T12:42:14.481Z"
   },
   {
    "duration": 5,
    "start_time": "2023-02-10T12:42:14.510Z"
   },
   {
    "duration": 29,
    "start_time": "2023-02-10T12:42:14.517Z"
   },
   {
    "duration": 23,
    "start_time": "2023-02-10T12:42:14.548Z"
   },
   {
    "duration": 145,
    "start_time": "2023-02-10T12:42:14.572Z"
   },
   {
    "duration": 36,
    "start_time": "2023-02-10T12:42:50.823Z"
   },
   {
    "duration": 36,
    "start_time": "2023-02-10T12:42:55.534Z"
   },
   {
    "duration": 16,
    "start_time": "2023-02-10T12:48:07.328Z"
   },
   {
    "duration": 19,
    "start_time": "2023-02-10T12:48:49.977Z"
   },
   {
    "duration": 19,
    "start_time": "2023-02-10T12:49:01.664Z"
   },
   {
    "duration": 12,
    "start_time": "2023-02-10T12:49:13.683Z"
   },
   {
    "duration": 20,
    "start_time": "2023-02-10T12:49:20.764Z"
   },
   {
    "duration": 16,
    "start_time": "2023-02-10T12:50:00.218Z"
   },
   {
    "duration": 20,
    "start_time": "2023-02-10T12:50:00.402Z"
   },
   {
    "duration": 1301,
    "start_time": "2023-02-10T12:50:03.173Z"
   },
   {
    "duration": 668,
    "start_time": "2023-02-10T12:50:04.476Z"
   },
   {
    "duration": 4,
    "start_time": "2023-02-10T12:50:05.148Z"
   },
   {
    "duration": 12,
    "start_time": "2023-02-10T12:50:05.154Z"
   },
   {
    "duration": 397,
    "start_time": "2023-02-10T12:50:05.168Z"
   },
   {
    "duration": 172,
    "start_time": "2023-02-10T12:50:05.567Z"
   },
   {
    "duration": 381,
    "start_time": "2023-02-10T12:50:05.741Z"
   },
   {
    "duration": 3,
    "start_time": "2023-02-10T12:50:06.123Z"
   },
   {
    "duration": 11,
    "start_time": "2023-02-10T12:50:06.128Z"
   },
   {
    "duration": 11,
    "start_time": "2023-02-10T12:50:06.141Z"
   },
   {
    "duration": 13,
    "start_time": "2023-02-10T12:50:06.154Z"
   },
   {
    "duration": 6,
    "start_time": "2023-02-10T12:50:06.169Z"
   },
   {
    "duration": 6,
    "start_time": "2023-02-10T12:50:06.178Z"
   },
   {
    "duration": 33,
    "start_time": "2023-02-10T12:50:06.185Z"
   },
   {
    "duration": 2,
    "start_time": "2023-02-10T12:50:06.220Z"
   },
   {
    "duration": 25,
    "start_time": "2023-02-10T12:50:06.224Z"
   },
   {
    "duration": 129,
    "start_time": "2023-02-10T12:50:06.250Z"
   },
   {
    "duration": 0,
    "start_time": "2023-02-10T12:50:06.380Z"
   },
   {
    "duration": 0,
    "start_time": "2023-02-10T12:50:06.381Z"
   },
   {
    "duration": 0,
    "start_time": "2023-02-10T12:50:06.382Z"
   },
   {
    "duration": 0,
    "start_time": "2023-02-10T12:50:06.384Z"
   },
   {
    "duration": 0,
    "start_time": "2023-02-10T12:50:06.384Z"
   },
   {
    "duration": 0,
    "start_time": "2023-02-10T12:50:06.386Z"
   },
   {
    "duration": 0,
    "start_time": "2023-02-10T12:50:06.386Z"
   },
   {
    "duration": 0,
    "start_time": "2023-02-10T12:50:06.388Z"
   },
   {
    "duration": 0,
    "start_time": "2023-02-10T12:50:06.388Z"
   },
   {
    "duration": 0,
    "start_time": "2023-02-10T12:50:06.389Z"
   },
   {
    "duration": 0,
    "start_time": "2023-02-10T12:50:06.390Z"
   },
   {
    "duration": 0,
    "start_time": "2023-02-10T12:50:06.409Z"
   },
   {
    "duration": 0,
    "start_time": "2023-02-10T12:50:06.411Z"
   },
   {
    "duration": 0,
    "start_time": "2023-02-10T12:50:06.412Z"
   },
   {
    "duration": 1,
    "start_time": "2023-02-10T12:50:06.413Z"
   },
   {
    "duration": 0,
    "start_time": "2023-02-10T12:50:06.415Z"
   },
   {
    "duration": 0,
    "start_time": "2023-02-10T12:50:06.415Z"
   },
   {
    "duration": 0,
    "start_time": "2023-02-10T12:50:06.417Z"
   },
   {
    "duration": 0,
    "start_time": "2023-02-10T12:50:06.419Z"
   },
   {
    "duration": 0,
    "start_time": "2023-02-10T12:50:06.420Z"
   },
   {
    "duration": 0,
    "start_time": "2023-02-10T12:50:06.421Z"
   },
   {
    "duration": 1318,
    "start_time": "2023-02-10T12:50:38.984Z"
   },
   {
    "duration": 682,
    "start_time": "2023-02-10T12:50:40.304Z"
   },
   {
    "duration": 3,
    "start_time": "2023-02-10T12:50:40.988Z"
   },
   {
    "duration": 9,
    "start_time": "2023-02-10T12:50:40.993Z"
   },
   {
    "duration": 378,
    "start_time": "2023-02-10T12:50:41.010Z"
   },
   {
    "duration": 175,
    "start_time": "2023-02-10T12:50:41.389Z"
   },
   {
    "duration": 368,
    "start_time": "2023-02-10T12:50:41.566Z"
   },
   {
    "duration": 3,
    "start_time": "2023-02-10T12:50:41.936Z"
   },
   {
    "duration": 9,
    "start_time": "2023-02-10T12:50:41.941Z"
   },
   {
    "duration": 4,
    "start_time": "2023-02-10T12:50:41.952Z"
   },
   {
    "duration": 5,
    "start_time": "2023-02-10T12:50:41.958Z"
   },
   {
    "duration": 5,
    "start_time": "2023-02-10T12:50:41.965Z"
   },
   {
    "duration": 151,
    "start_time": "2023-02-10T12:50:41.971Z"
   },
   {
    "duration": 0,
    "start_time": "2023-02-10T12:50:42.126Z"
   },
   {
    "duration": 0,
    "start_time": "2023-02-10T12:50:42.127Z"
   },
   {
    "duration": 0,
    "start_time": "2023-02-10T12:50:42.128Z"
   },
   {
    "duration": 0,
    "start_time": "2023-02-10T12:50:42.129Z"
   },
   {
    "duration": 0,
    "start_time": "2023-02-10T12:50:42.130Z"
   },
   {
    "duration": 0,
    "start_time": "2023-02-10T12:50:42.131Z"
   },
   {
    "duration": 0,
    "start_time": "2023-02-10T12:50:42.133Z"
   },
   {
    "duration": 0,
    "start_time": "2023-02-10T12:50:42.134Z"
   },
   {
    "duration": 0,
    "start_time": "2023-02-10T12:50:42.135Z"
   },
   {
    "duration": 0,
    "start_time": "2023-02-10T12:50:42.136Z"
   },
   {
    "duration": 0,
    "start_time": "2023-02-10T12:50:42.138Z"
   },
   {
    "duration": 0,
    "start_time": "2023-02-10T12:50:42.139Z"
   },
   {
    "duration": 0,
    "start_time": "2023-02-10T12:50:42.140Z"
   },
   {
    "duration": 0,
    "start_time": "2023-02-10T12:50:42.141Z"
   },
   {
    "duration": 0,
    "start_time": "2023-02-10T12:50:42.142Z"
   },
   {
    "duration": 0,
    "start_time": "2023-02-10T12:50:42.143Z"
   },
   {
    "duration": 0,
    "start_time": "2023-02-10T12:50:42.145Z"
   },
   {
    "duration": 1,
    "start_time": "2023-02-10T12:50:42.145Z"
   },
   {
    "duration": 0,
    "start_time": "2023-02-10T12:50:42.147Z"
   },
   {
    "duration": 0,
    "start_time": "2023-02-10T12:50:42.149Z"
   },
   {
    "duration": 0,
    "start_time": "2023-02-10T12:50:42.150Z"
   },
   {
    "duration": 0,
    "start_time": "2023-02-10T12:50:42.151Z"
   },
   {
    "duration": 0,
    "start_time": "2023-02-10T12:50:42.153Z"
   },
   {
    "duration": 0,
    "start_time": "2023-02-10T12:50:42.154Z"
   },
   {
    "duration": 0,
    "start_time": "2023-02-10T12:50:42.156Z"
   },
   {
    "duration": 1347,
    "start_time": "2023-02-10T12:51:41.697Z"
   },
   {
    "duration": 756,
    "start_time": "2023-02-10T12:51:43.047Z"
   },
   {
    "duration": 4,
    "start_time": "2023-02-10T12:51:43.805Z"
   },
   {
    "duration": 786,
    "start_time": "2023-02-10T12:51:43.811Z"
   },
   {
    "duration": 0,
    "start_time": "2023-02-10T12:51:44.600Z"
   },
   {
    "duration": 0,
    "start_time": "2023-02-10T12:51:44.601Z"
   },
   {
    "duration": 0,
    "start_time": "2023-02-10T12:51:44.602Z"
   },
   {
    "duration": 0,
    "start_time": "2023-02-10T12:51:44.603Z"
   },
   {
    "duration": 0,
    "start_time": "2023-02-10T12:51:44.604Z"
   },
   {
    "duration": 0,
    "start_time": "2023-02-10T12:51:44.605Z"
   },
   {
    "duration": 0,
    "start_time": "2023-02-10T12:51:44.607Z"
   },
   {
    "duration": 0,
    "start_time": "2023-02-10T12:51:44.608Z"
   },
   {
    "duration": 0,
    "start_time": "2023-02-10T12:51:44.610Z"
   },
   {
    "duration": 0,
    "start_time": "2023-02-10T12:51:44.611Z"
   },
   {
    "duration": 0,
    "start_time": "2023-02-10T12:51:44.613Z"
   },
   {
    "duration": 0,
    "start_time": "2023-02-10T12:51:44.614Z"
   },
   {
    "duration": 0,
    "start_time": "2023-02-10T12:51:44.615Z"
   },
   {
    "duration": 0,
    "start_time": "2023-02-10T12:51:44.617Z"
   },
   {
    "duration": 0,
    "start_time": "2023-02-10T12:51:44.619Z"
   },
   {
    "duration": 0,
    "start_time": "2023-02-10T12:51:44.620Z"
   },
   {
    "duration": 0,
    "start_time": "2023-02-10T12:51:44.622Z"
   },
   {
    "duration": 0,
    "start_time": "2023-02-10T12:51:44.623Z"
   },
   {
    "duration": 0,
    "start_time": "2023-02-10T12:51:44.625Z"
   },
   {
    "duration": 0,
    "start_time": "2023-02-10T12:51:44.626Z"
   },
   {
    "duration": 1,
    "start_time": "2023-02-10T12:51:44.627Z"
   },
   {
    "duration": 0,
    "start_time": "2023-02-10T12:51:44.629Z"
   },
   {
    "duration": 0,
    "start_time": "2023-02-10T12:51:44.631Z"
   },
   {
    "duration": 0,
    "start_time": "2023-02-10T12:51:44.632Z"
   },
   {
    "duration": 0,
    "start_time": "2023-02-10T12:51:44.633Z"
   },
   {
    "duration": 0,
    "start_time": "2023-02-10T12:51:44.635Z"
   },
   {
    "duration": 0,
    "start_time": "2023-02-10T12:51:44.636Z"
   },
   {
    "duration": 0,
    "start_time": "2023-02-10T12:51:44.638Z"
   },
   {
    "duration": 0,
    "start_time": "2023-02-10T12:51:44.639Z"
   },
   {
    "duration": 0,
    "start_time": "2023-02-10T12:51:44.641Z"
   },
   {
    "duration": 0,
    "start_time": "2023-02-10T12:51:44.642Z"
   },
   {
    "duration": 0,
    "start_time": "2023-02-10T12:51:44.644Z"
   },
   {
    "duration": 0,
    "start_time": "2023-02-10T12:51:44.645Z"
   },
   {
    "duration": 0,
    "start_time": "2023-02-10T12:51:44.647Z"
   },
   {
    "duration": 14,
    "start_time": "2023-02-10T12:52:21.527Z"
   },
   {
    "duration": 1264,
    "start_time": "2023-02-10T12:52:38.547Z"
   },
   {
    "duration": 673,
    "start_time": "2023-02-10T12:52:39.813Z"
   },
   {
    "duration": 3,
    "start_time": "2023-02-10T12:52:40.488Z"
   },
   {
    "duration": 368,
    "start_time": "2023-02-10T12:52:40.493Z"
   },
   {
    "duration": 172,
    "start_time": "2023-02-10T12:52:40.863Z"
   },
   {
    "duration": 375,
    "start_time": "2023-02-10T12:52:41.036Z"
   },
   {
    "duration": 3,
    "start_time": "2023-02-10T12:52:41.412Z"
   },
   {
    "duration": 13,
    "start_time": "2023-02-10T12:52:41.416Z"
   },
   {
    "duration": 6,
    "start_time": "2023-02-10T12:52:41.430Z"
   },
   {
    "duration": 25,
    "start_time": "2023-02-10T12:52:41.439Z"
   },
   {
    "duration": 6,
    "start_time": "2023-02-10T12:52:41.465Z"
   },
   {
    "duration": 18,
    "start_time": "2023-02-10T12:52:41.473Z"
   },
   {
    "duration": 23,
    "start_time": "2023-02-10T12:52:41.493Z"
   },
   {
    "duration": 3,
    "start_time": "2023-02-10T12:52:41.519Z"
   },
   {
    "duration": 808,
    "start_time": "2023-02-10T12:52:41.524Z"
   },
   {
    "duration": 0,
    "start_time": "2023-02-10T12:52:42.333Z"
   },
   {
    "duration": 0,
    "start_time": "2023-02-10T12:52:42.335Z"
   },
   {
    "duration": 0,
    "start_time": "2023-02-10T12:52:42.335Z"
   },
   {
    "duration": 0,
    "start_time": "2023-02-10T12:52:42.336Z"
   },
   {
    "duration": 0,
    "start_time": "2023-02-10T12:52:42.337Z"
   },
   {
    "duration": 0,
    "start_time": "2023-02-10T12:52:42.338Z"
   },
   {
    "duration": 0,
    "start_time": "2023-02-10T12:52:42.339Z"
   },
   {
    "duration": 0,
    "start_time": "2023-02-10T12:52:42.341Z"
   },
   {
    "duration": 0,
    "start_time": "2023-02-10T12:52:42.342Z"
   },
   {
    "duration": 0,
    "start_time": "2023-02-10T12:52:42.344Z"
   },
   {
    "duration": 0,
    "start_time": "2023-02-10T12:52:42.345Z"
   },
   {
    "duration": 0,
    "start_time": "2023-02-10T12:52:42.346Z"
   },
   {
    "duration": 0,
    "start_time": "2023-02-10T12:52:42.348Z"
   },
   {
    "duration": 0,
    "start_time": "2023-02-10T12:52:42.349Z"
   },
   {
    "duration": 0,
    "start_time": "2023-02-10T12:52:42.350Z"
   },
   {
    "duration": 0,
    "start_time": "2023-02-10T12:52:42.352Z"
   },
   {
    "duration": 0,
    "start_time": "2023-02-10T12:52:42.354Z"
   },
   {
    "duration": 0,
    "start_time": "2023-02-10T12:52:42.355Z"
   },
   {
    "duration": 0,
    "start_time": "2023-02-10T12:52:42.357Z"
   },
   {
    "duration": 0,
    "start_time": "2023-02-10T12:52:42.360Z"
   },
   {
    "duration": 0,
    "start_time": "2023-02-10T12:52:42.361Z"
   },
   {
    "duration": 0,
    "start_time": "2023-02-10T12:52:42.362Z"
   },
   {
    "duration": 0,
    "start_time": "2023-02-10T12:52:42.364Z"
   },
   {
    "duration": 1352,
    "start_time": "2023-02-10T12:53:42.369Z"
   },
   {
    "duration": 679,
    "start_time": "2023-02-10T12:53:43.723Z"
   },
   {
    "duration": 6,
    "start_time": "2023-02-10T12:53:44.404Z"
   },
   {
    "duration": 372,
    "start_time": "2023-02-10T12:53:44.412Z"
   },
   {
    "duration": 179,
    "start_time": "2023-02-10T12:53:44.785Z"
   },
   {
    "duration": 394,
    "start_time": "2023-02-10T12:53:44.966Z"
   },
   {
    "duration": 2,
    "start_time": "2023-02-10T12:53:45.362Z"
   },
   {
    "duration": 14,
    "start_time": "2023-02-10T12:53:45.366Z"
   },
   {
    "duration": 6,
    "start_time": "2023-02-10T12:53:45.381Z"
   },
   {
    "duration": 22,
    "start_time": "2023-02-10T12:53:45.389Z"
   },
   {
    "duration": 5,
    "start_time": "2023-02-10T12:53:45.412Z"
   },
   {
    "duration": 17,
    "start_time": "2023-02-10T12:53:45.418Z"
   },
   {
    "duration": 4,
    "start_time": "2023-02-10T12:53:45.437Z"
   },
   {
    "duration": 18,
    "start_time": "2023-02-10T12:53:45.443Z"
   },
   {
    "duration": 204,
    "start_time": "2023-02-10T12:53:45.462Z"
   },
   {
    "duration": 157,
    "start_time": "2023-02-10T12:53:45.668Z"
   },
   {
    "duration": 157,
    "start_time": "2023-02-10T12:53:45.827Z"
   },
   {
    "duration": 875,
    "start_time": "2023-02-10T12:53:45.985Z"
   },
   {
    "duration": 757,
    "start_time": "2023-02-10T12:53:46.862Z"
   },
   {
    "duration": 6,
    "start_time": "2023-02-10T12:53:47.621Z"
   },
   {
    "duration": 4,
    "start_time": "2023-02-10T12:53:47.628Z"
   },
   {
    "duration": 686,
    "start_time": "2023-02-10T12:53:47.634Z"
   },
   {
    "duration": 5,
    "start_time": "2023-02-10T12:53:48.321Z"
   },
   {
    "duration": 558,
    "start_time": "2023-02-10T12:53:48.327Z"
   },
   {
    "duration": 6,
    "start_time": "2023-02-10T12:53:48.886Z"
   },
   {
    "duration": 679,
    "start_time": "2023-02-10T12:53:48.893Z"
   },
   {
    "duration": 5,
    "start_time": "2023-02-10T12:53:49.574Z"
   },
   {
    "duration": 643,
    "start_time": "2023-02-10T12:53:49.583Z"
   },
   {
    "duration": 31,
    "start_time": "2023-02-10T12:53:50.229Z"
   },
   {
    "duration": 4,
    "start_time": "2023-02-10T12:53:50.262Z"
   },
   {
    "duration": 7,
    "start_time": "2023-02-10T12:53:50.268Z"
   },
   {
    "duration": 142,
    "start_time": "2023-02-10T12:53:50.276Z"
   },
   {
    "duration": 0,
    "start_time": "2023-02-10T12:53:50.420Z"
   },
   {
    "duration": 0,
    "start_time": "2023-02-10T12:53:50.421Z"
   },
   {
    "duration": 1,
    "start_time": "2023-02-10T12:53:50.422Z"
   },
   {
    "duration": 25,
    "start_time": "2023-02-10T12:53:57.660Z"
   },
   {
    "duration": 630,
    "start_time": "2023-02-10T12:54:46.130Z"
   },
   {
    "duration": 13,
    "start_time": "2023-02-10T12:55:01.383Z"
   },
   {
    "duration": 19,
    "start_time": "2023-02-10T12:55:08.896Z"
   },
   {
    "duration": 30,
    "start_time": "2023-02-10T12:55:19.230Z"
   },
   {
    "duration": 13,
    "start_time": "2023-02-10T12:57:47.701Z"
   },
   {
    "duration": 6,
    "start_time": "2023-02-10T12:57:55.190Z"
   },
   {
    "duration": 4,
    "start_time": "2023-02-10T12:57:59.478Z"
   },
   {
    "duration": 1251,
    "start_time": "2023-02-10T13:00:10.641Z"
   },
   {
    "duration": 741,
    "start_time": "2023-02-10T13:00:11.893Z"
   },
   {
    "duration": 4,
    "start_time": "2023-02-10T13:00:12.636Z"
   },
   {
    "duration": 385,
    "start_time": "2023-02-10T13:00:12.641Z"
   },
   {
    "duration": 197,
    "start_time": "2023-02-10T13:00:13.028Z"
   },
   {
    "duration": 382,
    "start_time": "2023-02-10T13:00:13.227Z"
   },
   {
    "duration": 3,
    "start_time": "2023-02-10T13:00:13.611Z"
   },
   {
    "duration": 13,
    "start_time": "2023-02-10T13:00:13.617Z"
   },
   {
    "duration": 6,
    "start_time": "2023-02-10T13:00:13.631Z"
   },
   {
    "duration": 15,
    "start_time": "2023-02-10T13:00:13.638Z"
   },
   {
    "duration": 16,
    "start_time": "2023-02-10T13:00:13.655Z"
   },
   {
    "duration": 18,
    "start_time": "2023-02-10T13:00:13.672Z"
   },
   {
    "duration": 23,
    "start_time": "2023-02-10T13:00:13.692Z"
   },
   {
    "duration": 21,
    "start_time": "2023-02-10T13:00:13.718Z"
   },
   {
    "duration": 192,
    "start_time": "2023-02-10T13:00:13.741Z"
   },
   {
    "duration": 154,
    "start_time": "2023-02-10T13:00:13.935Z"
   },
   {
    "duration": 162,
    "start_time": "2023-02-10T13:00:14.091Z"
   },
   {
    "duration": 828,
    "start_time": "2023-02-10T13:00:14.255Z"
   },
   {
    "duration": 772,
    "start_time": "2023-02-10T13:00:15.085Z"
   },
   {
    "duration": 5,
    "start_time": "2023-02-10T13:00:15.859Z"
   },
   {
    "duration": 7,
    "start_time": "2023-02-10T13:00:15.866Z"
   },
   {
    "duration": 652,
    "start_time": "2023-02-10T13:00:15.875Z"
   },
   {
    "duration": 6,
    "start_time": "2023-02-10T13:00:16.528Z"
   },
   {
    "duration": 563,
    "start_time": "2023-02-10T13:00:16.535Z"
   },
   {
    "duration": 12,
    "start_time": "2023-02-10T13:00:17.099Z"
   },
   {
    "duration": 685,
    "start_time": "2023-02-10T13:00:17.113Z"
   },
   {
    "duration": 9,
    "start_time": "2023-02-10T13:00:17.801Z"
   },
   {
    "duration": 603,
    "start_time": "2023-02-10T13:00:17.812Z"
   },
   {
    "duration": 26,
    "start_time": "2023-02-10T13:00:18.417Z"
   },
   {
    "duration": 5,
    "start_time": "2023-02-10T13:00:18.444Z"
   },
   {
    "duration": 11,
    "start_time": "2023-02-10T13:00:18.450Z"
   },
   {
    "duration": 167,
    "start_time": "2023-02-10T13:00:18.462Z"
   },
   {
    "duration": 0,
    "start_time": "2023-02-10T13:00:18.630Z"
   },
   {
    "duration": 4,
    "start_time": "2023-02-10T13:00:30.122Z"
   },
   {
    "duration": 44,
    "start_time": "2023-02-10T13:01:02.374Z"
   },
   {
    "duration": 4,
    "start_time": "2023-02-10T13:01:05.276Z"
   },
   {
    "duration": 4,
    "start_time": "2023-02-10T13:01:08.200Z"
   },
   {
    "duration": 45,
    "start_time": "2023-02-10T13:01:29.475Z"
   },
   {
    "duration": 5,
    "start_time": "2023-02-10T13:01:42.833Z"
   },
   {
    "duration": 3,
    "start_time": "2023-02-10T13:01:43.420Z"
   },
   {
    "duration": 23,
    "start_time": "2023-02-10T13:01:47.146Z"
   },
   {
    "duration": 8,
    "start_time": "2023-02-10T13:01:49.811Z"
   },
   {
    "duration": 43,
    "start_time": "2023-02-10T13:01:57.370Z"
   },
   {
    "duration": 4,
    "start_time": "2023-02-10T13:02:19.417Z"
   },
   {
    "duration": 3,
    "start_time": "2023-02-10T13:02:29.317Z"
   },
   {
    "duration": 11,
    "start_time": "2023-02-10T13:13:56.185Z"
   },
   {
    "duration": 44,
    "start_time": "2023-02-10T13:13:58.450Z"
   },
   {
    "duration": 23,
    "start_time": "2023-02-10T13:16:45.639Z"
   },
   {
    "duration": 45,
    "start_time": "2023-02-10T13:17:31.163Z"
   },
   {
    "duration": 4,
    "start_time": "2023-02-10T13:18:20.566Z"
   },
   {
    "duration": 4,
    "start_time": "2023-02-10T13:18:42.785Z"
   },
   {
    "duration": 547,
    "start_time": "2023-02-10T13:18:50.693Z"
   },
   {
    "duration": 5,
    "start_time": "2023-02-10T13:19:36.442Z"
   },
   {
    "duration": 6,
    "start_time": "2023-02-10T13:19:36.837Z"
   },
   {
    "duration": 36,
    "start_time": "2023-02-10T13:19:37.166Z"
   },
   {
    "duration": 7,
    "start_time": "2023-02-10T13:20:09.854Z"
   },
   {
    "duration": 975,
    "start_time": "2023-02-10T13:21:11.740Z"
   },
   {
    "duration": 4725,
    "start_time": "2023-02-10T13:22:05.797Z"
   },
   {
    "duration": 103,
    "start_time": "2023-02-10T13:23:51.015Z"
   },
   {
    "duration": 66,
    "start_time": "2023-02-10T13:25:29.590Z"
   },
   {
    "duration": 766,
    "start_time": "2023-02-10T13:25:49.649Z"
   },
   {
    "duration": 6,
    "start_time": "2023-02-10T13:26:43.426Z"
   },
   {
    "duration": 786,
    "start_time": "2023-02-10T13:26:49.933Z"
   },
   {
    "duration": 1650,
    "start_time": "2023-02-10T13:27:30.066Z"
   },
   {
    "duration": 1164,
    "start_time": "2023-02-10T13:27:39.750Z"
   },
   {
    "duration": 2519,
    "start_time": "2023-02-10T13:29:23.296Z"
   },
   {
    "duration": 1242,
    "start_time": "2023-02-10T13:31:24.381Z"
   },
   {
    "duration": 678,
    "start_time": "2023-02-10T13:34:30.945Z"
   },
   {
    "duration": 11,
    "start_time": "2023-02-10T13:35:31.542Z"
   },
   {
    "duration": 4,
    "start_time": "2023-02-10T13:36:33.632Z"
   },
   {
    "duration": 1354,
    "start_time": "2023-02-10T13:36:40.778Z"
   },
   {
    "duration": 1240,
    "start_time": "2023-02-10T13:37:09.271Z"
   },
   {
    "duration": 1012,
    "start_time": "2023-02-10T13:37:20.601Z"
   },
   {
    "duration": 3035,
    "start_time": "2023-02-10T13:37:59.876Z"
   },
   {
    "duration": 5,
    "start_time": "2023-02-10T13:43:02.054Z"
   },
   {
    "duration": 1049,
    "start_time": "2023-02-10T13:43:04.177Z"
   },
   {
    "duration": 807,
    "start_time": "2023-02-10T13:50:12.415Z"
   },
   {
    "duration": 5,
    "start_time": "2023-02-10T13:50:15.803Z"
   },
   {
    "duration": 6,
    "start_time": "2023-02-10T13:50:29.257Z"
   },
   {
    "duration": 767,
    "start_time": "2023-02-10T13:50:31.758Z"
   },
   {
    "duration": 10,
    "start_time": "2023-02-10T13:50:44.321Z"
   },
   {
    "duration": 22,
    "start_time": "2023-02-10T13:50:52.549Z"
   },
   {
    "duration": 943,
    "start_time": "2023-02-10T15:53:46.476Z"
   },
   {
    "duration": 1365,
    "start_time": "2023-02-10T15:54:08.863Z"
   },
   {
    "duration": 1776,
    "start_time": "2023-02-10T15:54:10.230Z"
   },
   {
    "duration": 4,
    "start_time": "2023-02-10T15:54:12.007Z"
   },
   {
    "duration": 387,
    "start_time": "2023-02-10T15:54:12.013Z"
   },
   {
    "duration": 222,
    "start_time": "2023-02-10T15:54:12.403Z"
   },
   {
    "duration": 365,
    "start_time": "2023-02-10T15:54:12.627Z"
   },
   {
    "duration": 3,
    "start_time": "2023-02-10T15:54:12.994Z"
   },
   {
    "duration": 11,
    "start_time": "2023-02-10T15:54:13.011Z"
   },
   {
    "duration": 10,
    "start_time": "2023-02-10T15:54:13.026Z"
   },
   {
    "duration": 10,
    "start_time": "2023-02-10T15:54:13.037Z"
   },
   {
    "duration": 17,
    "start_time": "2023-02-10T15:54:13.049Z"
   },
   {
    "duration": 38,
    "start_time": "2023-02-10T15:54:13.071Z"
   },
   {
    "duration": 3,
    "start_time": "2023-02-10T15:54:13.111Z"
   },
   {
    "duration": 19,
    "start_time": "2023-02-10T15:54:13.117Z"
   },
   {
    "duration": 196,
    "start_time": "2023-02-10T15:54:13.138Z"
   },
   {
    "duration": 266,
    "start_time": "2023-02-10T15:54:13.337Z"
   },
   {
    "duration": 193,
    "start_time": "2023-02-10T15:54:13.605Z"
   },
   {
    "duration": 881,
    "start_time": "2023-02-10T15:54:13.800Z"
   },
   {
    "duration": 798,
    "start_time": "2023-02-10T15:54:14.683Z"
   },
   {
    "duration": 6,
    "start_time": "2023-02-10T15:54:15.483Z"
   },
   {
    "duration": 19,
    "start_time": "2023-02-10T15:54:15.491Z"
   },
   {
    "duration": 700,
    "start_time": "2023-02-10T15:54:15.512Z"
   },
   {
    "duration": 6,
    "start_time": "2023-02-10T15:54:16.214Z"
   },
   {
    "duration": 624,
    "start_time": "2023-02-10T15:54:16.222Z"
   },
   {
    "duration": 7,
    "start_time": "2023-02-10T15:54:16.848Z"
   },
   {
    "duration": 688,
    "start_time": "2023-02-10T15:54:16.859Z"
   },
   {
    "duration": 5,
    "start_time": "2023-02-10T15:54:17.549Z"
   },
   {
    "duration": 581,
    "start_time": "2023-02-10T15:54:17.556Z"
   },
   {
    "duration": 35,
    "start_time": "2023-02-10T15:54:18.138Z"
   },
   {
    "duration": 6,
    "start_time": "2023-02-10T15:54:18.175Z"
   },
   {
    "duration": 6,
    "start_time": "2023-02-10T15:54:18.183Z"
   },
   {
    "duration": 22,
    "start_time": "2023-02-10T15:54:18.191Z"
   },
   {
    "duration": 6,
    "start_time": "2023-02-10T15:54:18.216Z"
   },
   {
    "duration": 35,
    "start_time": "2023-02-10T15:54:18.224Z"
   },
   {
    "duration": 8,
    "start_time": "2023-02-10T15:54:18.261Z"
   },
   {
    "duration": 146,
    "start_time": "2023-02-10T15:54:18.270Z"
   },
   {
    "duration": 4,
    "start_time": "2023-02-10T15:57:14.117Z"
   },
   {
    "duration": 5,
    "start_time": "2023-02-10T15:57:41.612Z"
   },
   {
    "duration": 619,
    "start_time": "2023-02-10T15:57:46.594Z"
   },
   {
    "duration": 723,
    "start_time": "2023-02-10T16:00:29.758Z"
   },
   {
    "duration": 1343,
    "start_time": "2023-02-10T16:00:40.060Z"
   },
   {
    "duration": 709,
    "start_time": "2023-02-10T16:00:41.405Z"
   },
   {
    "duration": 4,
    "start_time": "2023-02-10T16:00:42.116Z"
   },
   {
    "duration": 388,
    "start_time": "2023-02-10T16:00:42.122Z"
   },
   {
    "duration": 170,
    "start_time": "2023-02-10T16:00:42.513Z"
   },
   {
    "duration": 386,
    "start_time": "2023-02-10T16:00:42.685Z"
   },
   {
    "duration": 3,
    "start_time": "2023-02-10T16:00:43.073Z"
   },
   {
    "duration": 25,
    "start_time": "2023-02-10T16:00:43.078Z"
   },
   {
    "duration": 21,
    "start_time": "2023-02-10T16:00:43.104Z"
   },
   {
    "duration": 8,
    "start_time": "2023-02-10T16:00:43.128Z"
   },
   {
    "duration": 21,
    "start_time": "2023-02-10T16:00:43.138Z"
   },
   {
    "duration": 16,
    "start_time": "2023-02-10T16:00:43.162Z"
   },
   {
    "duration": 2,
    "start_time": "2023-02-10T16:00:43.180Z"
   },
   {
    "duration": 19,
    "start_time": "2023-02-10T16:00:43.185Z"
   },
   {
    "duration": 191,
    "start_time": "2023-02-10T16:00:43.210Z"
   },
   {
    "duration": 170,
    "start_time": "2023-02-10T16:00:43.403Z"
   },
   {
    "duration": 167,
    "start_time": "2023-02-10T16:00:43.575Z"
   },
   {
    "duration": 877,
    "start_time": "2023-02-10T16:00:43.744Z"
   },
   {
    "duration": 827,
    "start_time": "2023-02-10T16:00:44.623Z"
   },
   {
    "duration": 7,
    "start_time": "2023-02-10T16:00:45.452Z"
   },
   {
    "duration": 6,
    "start_time": "2023-02-10T16:00:45.460Z"
   },
   {
    "duration": 685,
    "start_time": "2023-02-10T16:00:45.468Z"
   },
   {
    "duration": 6,
    "start_time": "2023-02-10T16:00:46.154Z"
   },
   {
    "duration": 629,
    "start_time": "2023-02-10T16:00:46.161Z"
   },
   {
    "duration": 6,
    "start_time": "2023-02-10T16:00:46.793Z"
   },
   {
    "duration": 722,
    "start_time": "2023-02-10T16:00:46.809Z"
   },
   {
    "duration": 5,
    "start_time": "2023-02-10T16:00:47.532Z"
   },
   {
    "duration": 606,
    "start_time": "2023-02-10T16:00:47.539Z"
   },
   {
    "duration": 25,
    "start_time": "2023-02-10T16:00:48.146Z"
   },
   {
    "duration": 3,
    "start_time": "2023-02-10T16:00:48.173Z"
   },
   {
    "duration": 143,
    "start_time": "2023-02-10T16:00:48.178Z"
   },
   {
    "duration": 0,
    "start_time": "2023-02-10T16:00:48.323Z"
   },
   {
    "duration": 0,
    "start_time": "2023-02-10T16:00:48.324Z"
   },
   {
    "duration": 0,
    "start_time": "2023-02-10T16:00:48.325Z"
   },
   {
    "duration": 0,
    "start_time": "2023-02-10T16:00:48.326Z"
   },
   {
    "duration": 0,
    "start_time": "2023-02-10T16:00:48.326Z"
   },
   {
    "duration": 5,
    "start_time": "2023-02-10T16:00:52.207Z"
   },
   {
    "duration": 4,
    "start_time": "2023-02-10T16:00:53.165Z"
   },
   {
    "duration": 25,
    "start_time": "2023-02-10T16:00:54.419Z"
   },
   {
    "duration": 10,
    "start_time": "2023-02-10T16:00:55.328Z"
   },
   {
    "duration": 27,
    "start_time": "2023-02-10T16:00:59.754Z"
   },
   {
    "duration": 7,
    "start_time": "2023-02-10T16:01:07.186Z"
   },
   {
    "duration": 12,
    "start_time": "2023-02-10T16:01:34.531Z"
   },
   {
    "duration": 1747,
    "start_time": "2023-02-10T16:01:42.364Z"
   },
   {
    "duration": 1627,
    "start_time": "2023-02-10T16:03:14.360Z"
   },
   {
    "duration": 982,
    "start_time": "2023-02-10T16:03:15.989Z"
   },
   {
    "duration": 5,
    "start_time": "2023-02-10T16:03:16.973Z"
   },
   {
    "duration": 582,
    "start_time": "2023-02-10T16:03:16.980Z"
   },
   {
    "duration": 296,
    "start_time": "2023-02-10T16:03:17.565Z"
   },
   {
    "duration": 502,
    "start_time": "2023-02-10T16:03:17.864Z"
   },
   {
    "duration": 3,
    "start_time": "2023-02-10T16:03:18.368Z"
   },
   {
    "duration": 12,
    "start_time": "2023-02-10T16:03:18.373Z"
   },
   {
    "duration": 24,
    "start_time": "2023-02-10T16:03:18.387Z"
   },
   {
    "duration": 7,
    "start_time": "2023-02-10T16:03:18.413Z"
   },
   {
    "duration": 11,
    "start_time": "2023-02-10T16:03:18.423Z"
   },
   {
    "duration": 23,
    "start_time": "2023-02-10T16:03:18.436Z"
   },
   {
    "duration": 6,
    "start_time": "2023-02-10T16:03:18.461Z"
   },
   {
    "duration": 17,
    "start_time": "2023-02-10T16:03:18.471Z"
   },
   {
    "duration": 213,
    "start_time": "2023-02-10T16:03:18.490Z"
   },
   {
    "duration": 246,
    "start_time": "2023-02-10T16:03:18.711Z"
   },
   {
    "duration": 256,
    "start_time": "2023-02-10T16:03:18.959Z"
   },
   {
    "duration": 1281,
    "start_time": "2023-02-10T16:03:19.218Z"
   },
   {
    "duration": 832,
    "start_time": "2023-02-10T16:03:20.501Z"
   },
   {
    "duration": 7,
    "start_time": "2023-02-10T16:03:21.334Z"
   },
   {
    "duration": 7,
    "start_time": "2023-02-10T16:03:21.343Z"
   },
   {
    "duration": 747,
    "start_time": "2023-02-10T16:03:21.352Z"
   },
   {
    "duration": 11,
    "start_time": "2023-02-10T16:03:22.101Z"
   },
   {
    "duration": 583,
    "start_time": "2023-02-10T16:03:22.115Z"
   },
   {
    "duration": 12,
    "start_time": "2023-02-10T16:03:22.700Z"
   },
   {
    "duration": 753,
    "start_time": "2023-02-10T16:03:22.714Z"
   },
   {
    "duration": 6,
    "start_time": "2023-02-10T16:03:23.470Z"
   },
   {
    "duration": 797,
    "start_time": "2023-02-10T16:03:23.478Z"
   },
   {
    "duration": 51,
    "start_time": "2023-02-10T16:03:24.278Z"
   },
   {
    "duration": 18,
    "start_time": "2023-02-10T16:03:24.331Z"
   },
   {
    "duration": 16,
    "start_time": "2023-02-10T16:03:24.352Z"
   },
   {
    "duration": 23,
    "start_time": "2023-02-10T16:03:24.371Z"
   },
   {
    "duration": 24,
    "start_time": "2023-02-10T16:03:24.396Z"
   },
   {
    "duration": 2394,
    "start_time": "2023-02-10T16:03:24.422Z"
   },
   {
    "duration": 1667,
    "start_time": "2023-02-10T16:04:10.957Z"
   },
   {
    "duration": 4,
    "start_time": "2023-02-10T16:05:05.357Z"
   },
   {
    "duration": 5,
    "start_time": "2023-02-10T16:09:49.656Z"
   },
   {
    "duration": 4,
    "start_time": "2023-02-10T16:10:27.724Z"
   },
   {
    "duration": 146,
    "start_time": "2023-02-10T16:11:05.208Z"
   },
   {
    "duration": 4,
    "start_time": "2023-02-10T16:11:07.321Z"
   },
   {
    "duration": 3,
    "start_time": "2023-02-10T16:11:07.601Z"
   },
   {
    "duration": 12,
    "start_time": "2023-02-10T16:11:26.025Z"
   },
   {
    "duration": 50182,
    "start_time": "2023-02-10T16:11:29.625Z"
   },
   {
    "duration": 17,
    "start_time": "2023-02-10T16:12:24.306Z"
   },
   {
    "duration": 3,
    "start_time": "2023-02-10T16:12:47.342Z"
   },
   {
    "duration": 11,
    "start_time": "2023-02-10T16:13:52.658Z"
   },
   {
    "duration": 2798,
    "start_time": "2023-02-10T16:14:49.425Z"
   },
   {
    "duration": 2859,
    "start_time": "2023-02-10T16:14:57.972Z"
   },
   {
    "duration": 54246,
    "start_time": "2023-02-10T16:16:57.546Z"
   },
   {
    "duration": 3,
    "start_time": "2023-02-10T16:17:51.794Z"
   },
   {
    "duration": 20,
    "start_time": "2023-02-10T16:17:51.799Z"
   },
   {
    "duration": 4,
    "start_time": "2023-02-10T16:18:17.537Z"
   },
   {
    "duration": 6,
    "start_time": "2023-02-10T16:19:00.378Z"
   },
   {
    "duration": 2,
    "start_time": "2023-02-10T16:19:06.386Z"
   },
   {
    "duration": 7,
    "start_time": "2023-02-10T16:19:42.584Z"
   },
   {
    "duration": 14,
    "start_time": "2023-02-10T16:19:52.929Z"
   },
   {
    "duration": 15408,
    "start_time": "2023-02-10T16:19:57.116Z"
   },
   {
    "duration": 94515,
    "start_time": "2023-02-10T16:20:47.659Z"
   },
   {
    "duration": 163296,
    "start_time": "2023-02-10T16:26:33.810Z"
   },
   {
    "duration": 4,
    "start_time": "2023-02-10T16:32:32.050Z"
   },
   {
    "duration": 3,
    "start_time": "2023-02-10T16:32:34.352Z"
   },
   {
    "duration": 8,
    "start_time": "2023-02-10T16:32:34.591Z"
   },
   {
    "duration": 1302,
    "start_time": "2023-02-10T16:33:04.259Z"
   },
   {
    "duration": 726,
    "start_time": "2023-02-10T16:33:05.563Z"
   },
   {
    "duration": 3,
    "start_time": "2023-02-10T16:33:06.291Z"
   },
   {
    "duration": 424,
    "start_time": "2023-02-10T16:33:06.297Z"
   },
   {
    "duration": 216,
    "start_time": "2023-02-10T16:33:06.722Z"
   },
   {
    "duration": 410,
    "start_time": "2023-02-10T16:33:06.941Z"
   },
   {
    "duration": 3,
    "start_time": "2023-02-10T16:33:07.352Z"
   },
   {
    "duration": 11,
    "start_time": "2023-02-10T16:33:07.356Z"
   },
   {
    "duration": 6,
    "start_time": "2023-02-10T16:33:07.368Z"
   },
   {
    "duration": 8,
    "start_time": "2023-02-10T16:33:07.376Z"
   },
   {
    "duration": 44,
    "start_time": "2023-02-10T16:33:07.385Z"
   },
   {
    "duration": 20,
    "start_time": "2023-02-10T16:33:07.431Z"
   },
   {
    "duration": 3,
    "start_time": "2023-02-10T16:33:07.452Z"
   },
   {
    "duration": 20,
    "start_time": "2023-02-10T16:33:07.456Z"
   },
   {
    "duration": 189,
    "start_time": "2023-02-10T16:33:07.478Z"
   },
   {
    "duration": 178,
    "start_time": "2023-02-10T16:33:07.668Z"
   },
   {
    "duration": 162,
    "start_time": "2023-02-10T16:33:07.848Z"
   },
   {
    "duration": 846,
    "start_time": "2023-02-10T16:33:08.011Z"
   },
   {
    "duration": 808,
    "start_time": "2023-02-10T16:33:08.859Z"
   },
   {
    "duration": 5,
    "start_time": "2023-02-10T16:33:09.668Z"
   },
   {
    "duration": 6,
    "start_time": "2023-02-10T16:33:09.674Z"
   },
   {
    "duration": 715,
    "start_time": "2023-02-10T16:33:09.682Z"
   },
   {
    "duration": 24,
    "start_time": "2023-02-10T16:33:10.398Z"
   },
   {
    "duration": 565,
    "start_time": "2023-02-10T16:33:10.423Z"
   },
   {
    "duration": 5,
    "start_time": "2023-02-10T16:33:10.990Z"
   },
   {
    "duration": 701,
    "start_time": "2023-02-10T16:33:10.996Z"
   },
   {
    "duration": 17,
    "start_time": "2023-02-10T16:33:11.698Z"
   },
   {
    "duration": 569,
    "start_time": "2023-02-10T16:33:11.718Z"
   },
   {
    "duration": 35,
    "start_time": "2023-02-10T16:33:12.289Z"
   },
   {
    "duration": 3,
    "start_time": "2023-02-10T16:33:12.326Z"
   },
   {
    "duration": 11,
    "start_time": "2023-02-10T16:33:12.330Z"
   },
   {
    "duration": 5,
    "start_time": "2023-02-10T16:33:12.343Z"
   },
   {
    "duration": 11,
    "start_time": "2023-02-10T16:33:12.349Z"
   },
   {
    "duration": 2971,
    "start_time": "2023-02-10T16:33:12.362Z"
   },
   {
    "duration": 2380,
    "start_time": "2023-02-10T16:33:15.335Z"
   },
   {
    "duration": 4,
    "start_time": "2023-02-10T16:33:17.724Z"
   },
   {
    "duration": 8,
    "start_time": "2023-02-10T16:33:17.730Z"
   },
   {
    "duration": 80,
    "start_time": "2023-02-10T16:33:17.739Z"
   },
   {
    "duration": 1281,
    "start_time": "2023-02-10T16:33:41.664Z"
   },
   {
    "duration": 798,
    "start_time": "2023-02-10T16:33:42.947Z"
   },
   {
    "duration": 4,
    "start_time": "2023-02-10T16:33:43.746Z"
   },
   {
    "duration": 387,
    "start_time": "2023-02-10T16:33:43.751Z"
   },
   {
    "duration": 181,
    "start_time": "2023-02-10T16:33:44.141Z"
   },
   {
    "duration": 354,
    "start_time": "2023-02-10T16:33:44.324Z"
   },
   {
    "duration": 3,
    "start_time": "2023-02-10T16:33:44.680Z"
   },
   {
    "duration": 9,
    "start_time": "2023-02-10T16:33:44.684Z"
   },
   {
    "duration": 29,
    "start_time": "2023-02-10T16:33:44.694Z"
   },
   {
    "duration": 6,
    "start_time": "2023-02-10T16:33:44.725Z"
   },
   {
    "duration": 6,
    "start_time": "2023-02-10T16:33:44.733Z"
   },
   {
    "duration": 14,
    "start_time": "2023-02-10T16:33:44.740Z"
   },
   {
    "duration": 2,
    "start_time": "2023-02-10T16:33:44.755Z"
   },
   {
    "duration": 17,
    "start_time": "2023-02-10T16:33:44.760Z"
   },
   {
    "duration": 204,
    "start_time": "2023-02-10T16:33:44.780Z"
   },
   {
    "duration": 179,
    "start_time": "2023-02-10T16:33:44.985Z"
   },
   {
    "duration": 173,
    "start_time": "2023-02-10T16:33:45.166Z"
   },
   {
    "duration": 840,
    "start_time": "2023-02-10T16:33:45.340Z"
   },
   {
    "duration": 856,
    "start_time": "2023-02-10T16:33:46.182Z"
   },
   {
    "duration": 5,
    "start_time": "2023-02-10T16:33:47.039Z"
   },
   {
    "duration": 5,
    "start_time": "2023-02-10T16:33:47.046Z"
   },
   {
    "duration": 718,
    "start_time": "2023-02-10T16:33:47.052Z"
   },
   {
    "duration": 5,
    "start_time": "2023-02-10T16:33:47.771Z"
   },
   {
    "duration": 583,
    "start_time": "2023-02-10T16:33:47.778Z"
   },
   {
    "duration": 4,
    "start_time": "2023-02-10T16:33:48.363Z"
   },
   {
    "duration": 688,
    "start_time": "2023-02-10T16:33:48.369Z"
   },
   {
    "duration": 5,
    "start_time": "2023-02-10T16:33:49.058Z"
   },
   {
    "duration": 591,
    "start_time": "2023-02-10T16:33:49.064Z"
   },
   {
    "duration": 25,
    "start_time": "2023-02-10T16:33:49.656Z"
   },
   {
    "duration": 4,
    "start_time": "2023-02-10T16:33:49.683Z"
   },
   {
    "duration": 26,
    "start_time": "2023-02-10T16:33:49.689Z"
   },
   {
    "duration": 21,
    "start_time": "2023-02-10T16:33:49.716Z"
   },
   {
    "duration": 761,
    "start_time": "2023-02-10T16:33:49.738Z"
   },
   {
    "duration": 0,
    "start_time": "2023-02-10T16:33:50.501Z"
   },
   {
    "duration": 0,
    "start_time": "2023-02-10T16:33:50.502Z"
   },
   {
    "duration": 0,
    "start_time": "2023-02-10T16:33:50.503Z"
   },
   {
    "duration": 0,
    "start_time": "2023-02-10T16:33:50.515Z"
   },
   {
    "duration": 0,
    "start_time": "2023-02-10T16:33:50.516Z"
   },
   {
    "duration": 0,
    "start_time": "2023-02-10T16:33:50.517Z"
   },
   {
    "duration": 4,
    "start_time": "2023-02-10T16:34:02.925Z"
   },
   {
    "duration": 11,
    "start_time": "2023-02-10T16:34:03.312Z"
   },
   {
    "duration": 7,
    "start_time": "2023-02-10T16:34:03.653Z"
   },
   {
    "duration": 9,
    "start_time": "2023-02-10T16:34:04.247Z"
   },
   {
    "duration": 60460,
    "start_time": "2023-02-10T16:34:12.628Z"
   },
   {
    "duration": 10,
    "start_time": "2023-02-10T16:36:58.151Z"
   },
   {
    "duration": 5,
    "start_time": "2023-02-10T16:37:02.925Z"
   },
   {
    "duration": 5,
    "start_time": "2023-02-10T16:37:23.425Z"
   },
   {
    "duration": 1830666,
    "start_time": "2023-02-10T16:37:26.059Z"
   },
   {
    "duration": 3,
    "start_time": "2023-02-10T17:17:01.448Z"
   },
   {
    "duration": 8,
    "start_time": "2023-02-10T17:17:06.256Z"
   },
   {
    "duration": 409,
    "start_time": "2023-02-10T17:17:15.395Z"
   },
   {
    "duration": 502,
    "start_time": "2023-02-10T17:17:21.367Z"
   },
   {
    "duration": 413,
    "start_time": "2023-02-10T17:19:31.077Z"
   },
   {
    "duration": 473,
    "start_time": "2023-02-10T17:20:30.309Z"
   },
   {
    "duration": 900,
    "start_time": "2023-02-10T17:25:54.754Z"
   },
   {
    "duration": 818,
    "start_time": "2023-02-10T17:26:15.285Z"
   },
   {
    "duration": 1397,
    "start_time": "2023-02-10T17:47:45.705Z"
   },
   {
    "duration": 689,
    "start_time": "2023-02-10T17:47:47.105Z"
   },
   {
    "duration": 7,
    "start_time": "2023-02-10T17:47:47.796Z"
   },
   {
    "duration": 390,
    "start_time": "2023-02-10T17:47:47.805Z"
   },
   {
    "duration": 165,
    "start_time": "2023-02-10T17:47:48.196Z"
   },
   {
    "duration": 361,
    "start_time": "2023-02-10T17:47:48.363Z"
   },
   {
    "duration": 5,
    "start_time": "2023-02-10T17:47:48.725Z"
   },
   {
    "duration": 12,
    "start_time": "2023-02-10T17:47:48.731Z"
   },
   {
    "duration": 4,
    "start_time": "2023-02-10T17:47:48.744Z"
   },
   {
    "duration": 7,
    "start_time": "2023-02-10T17:47:48.750Z"
   },
   {
    "duration": 6,
    "start_time": "2023-02-10T17:47:48.758Z"
   },
   {
    "duration": 17,
    "start_time": "2023-02-10T17:47:48.766Z"
   },
   {
    "duration": 27,
    "start_time": "2023-02-10T17:47:48.784Z"
   },
   {
    "duration": 24,
    "start_time": "2023-02-10T17:47:48.812Z"
   },
   {
    "duration": 179,
    "start_time": "2023-02-10T17:47:48.838Z"
   },
   {
    "duration": 168,
    "start_time": "2023-02-10T17:47:49.020Z"
   },
   {
    "duration": 167,
    "start_time": "2023-02-10T17:47:49.189Z"
   },
   {
    "duration": 811,
    "start_time": "2023-02-10T17:47:49.357Z"
   },
   {
    "duration": 779,
    "start_time": "2023-02-10T17:47:50.170Z"
   },
   {
    "duration": 5,
    "start_time": "2023-02-10T17:47:50.951Z"
   },
   {
    "duration": 5,
    "start_time": "2023-02-10T17:47:50.958Z"
   },
   {
    "duration": 698,
    "start_time": "2023-02-10T17:47:50.965Z"
   },
   {
    "duration": 4,
    "start_time": "2023-02-10T17:47:51.665Z"
   },
   {
    "duration": 560,
    "start_time": "2023-02-10T17:47:51.670Z"
   },
   {
    "duration": 6,
    "start_time": "2023-02-10T17:47:52.231Z"
   },
   {
    "duration": 694,
    "start_time": "2023-02-10T17:47:52.238Z"
   },
   {
    "duration": 5,
    "start_time": "2023-02-10T17:47:52.934Z"
   },
   {
    "duration": 613,
    "start_time": "2023-02-10T17:47:52.943Z"
   },
   {
    "duration": 25,
    "start_time": "2023-02-10T17:47:53.557Z"
   },
   {
    "duration": 6,
    "start_time": "2023-02-10T17:47:53.584Z"
   },
   {
    "duration": 9,
    "start_time": "2023-02-10T17:47:53.591Z"
   },
   {
    "duration": 10,
    "start_time": "2023-02-10T17:47:53.602Z"
   },
   {
    "duration": 11,
    "start_time": "2023-02-10T17:47:53.614Z"
   },
   {
    "duration": 18,
    "start_time": "2023-02-10T17:47:53.628Z"
   },
   {
    "duration": 60561,
    "start_time": "2023-02-10T17:47:53.647Z"
   },
   {
    "duration": 0,
    "start_time": "2023-02-10T17:48:54.210Z"
   },
   {
    "duration": 0,
    "start_time": "2023-02-10T17:48:54.212Z"
   },
   {
    "duration": 60509,
    "start_time": "2023-02-10T17:49:29.821Z"
   },
   {
    "duration": 4320646,
    "start_time": "2023-02-10T17:50:30.332Z"
   },
   {
    "duration": 11,
    "start_time": "2023-02-10T19:02:30.980Z"
   },
   {
    "duration": 16608,
    "start_time": "2023-02-10T19:05:16.998Z"
   },
   {
    "duration": 17083,
    "start_time": "2023-02-10T19:05:44.725Z"
   },
   {
    "duration": 5,
    "start_time": "2023-02-10T19:07:05.728Z"
   },
   {
    "duration": 8,
    "start_time": "2023-02-10T19:09:14.726Z"
   },
   {
    "duration": 29,
    "start_time": "2023-02-10T19:09:50.500Z"
   },
   {
    "duration": 8,
    "start_time": "2023-02-10T19:09:58.488Z"
   },
   {
    "duration": 3284,
    "start_time": "2023-02-12T04:03:51.694Z"
   },
   {
    "duration": 2444,
    "start_time": "2023-02-12T04:03:54.980Z"
   },
   {
    "duration": 17,
    "start_time": "2023-02-12T04:03:57.425Z"
   },
   {
    "duration": 458,
    "start_time": "2023-02-12T04:03:57.445Z"
   },
   {
    "duration": 251,
    "start_time": "2023-02-12T04:03:57.905Z"
   },
   {
    "duration": 426,
    "start_time": "2023-02-12T04:03:58.158Z"
   },
   {
    "duration": 3,
    "start_time": "2023-02-12T04:03:58.585Z"
   },
   {
    "duration": 12,
    "start_time": "2023-02-12T04:03:58.590Z"
   },
   {
    "duration": 5,
    "start_time": "2023-02-12T04:03:58.603Z"
   },
   {
    "duration": 14,
    "start_time": "2023-02-12T04:03:58.639Z"
   },
   {
    "duration": 6,
    "start_time": "2023-02-12T04:03:59.012Z"
   },
   {
    "duration": 29,
    "start_time": "2023-02-12T04:04:01.224Z"
   },
   {
    "duration": 14,
    "start_time": "2023-02-12T04:04:18.446Z"
   },
   {
    "duration": 4,
    "start_time": "2023-02-12T04:04:48.708Z"
   },
   {
    "duration": 770,
    "start_time": "2023-02-12T04:04:49.247Z"
   },
   {
    "duration": 10,
    "start_time": "2023-02-12T04:04:50.124Z"
   },
   {
    "duration": 20,
    "start_time": "2023-02-12T04:04:54.414Z"
   },
   {
    "duration": 81,
    "start_time": "2023-02-13T10:36:52.494Z"
   },
   {
    "duration": 61,
    "start_time": "2023-02-13T10:56:19.315Z"
   },
   {
    "duration": 49,
    "start_time": "2023-02-13T11:29:06.896Z"
   },
   {
    "duration": 49,
    "start_time": "2023-02-13T11:31:52.892Z"
   },
   {
    "duration": 1521,
    "start_time": "2023-02-13T11:44:17.017Z"
   },
   {
    "duration": 1385,
    "start_time": "2023-02-13T12:26:48.680Z"
   },
   {
    "duration": 1970,
    "start_time": "2023-02-13T12:26:51.934Z"
   },
   {
    "duration": 5,
    "start_time": "2023-02-13T12:26:53.906Z"
   },
   {
    "duration": 385,
    "start_time": "2023-02-13T12:26:54.061Z"
   },
   {
    "duration": 167,
    "start_time": "2023-02-13T12:26:55.447Z"
   },
   {
    "duration": 376,
    "start_time": "2023-02-13T12:26:56.129Z"
   },
   {
    "duration": 3,
    "start_time": "2023-02-13T12:27:00.959Z"
   },
   {
    "duration": 11,
    "start_time": "2023-02-13T12:27:01.310Z"
   },
   {
    "duration": 6,
    "start_time": "2023-02-13T12:27:01.803Z"
   },
   {
    "duration": 9,
    "start_time": "2023-02-13T12:27:02.533Z"
   },
   {
    "duration": 6,
    "start_time": "2023-02-13T12:27:04.315Z"
   },
   {
    "duration": 17,
    "start_time": "2023-02-13T12:27:06.931Z"
   },
   {
    "duration": 3,
    "start_time": "2023-02-13T12:27:09.349Z"
   },
   {
    "duration": 19,
    "start_time": "2023-02-13T12:27:09.489Z"
   },
   {
    "duration": 138,
    "start_time": "2023-02-13T12:27:50.218Z"
   },
   {
    "duration": 204,
    "start_time": "2023-02-13T12:29:28.977Z"
   },
   {
    "duration": 200,
    "start_time": "2023-02-13T12:30:44.375Z"
   },
   {
    "duration": 242,
    "start_time": "2023-02-13T12:30:50.920Z"
   },
   {
    "duration": 1130,
    "start_time": "2023-02-13T12:30:58.825Z"
   },
   {
    "duration": 958,
    "start_time": "2023-02-13T12:31:48.666Z"
   },
   {
    "duration": 16,
    "start_time": "2023-02-13T12:32:36.887Z"
   },
   {
    "duration": 15,
    "start_time": "2023-02-13T12:32:42.727Z"
   },
   {
    "duration": 14,
    "start_time": "2023-02-13T12:33:02.655Z"
   },
   {
    "duration": 1305,
    "start_time": "2023-02-13T12:33:49.444Z"
   },
   {
    "duration": 1398,
    "start_time": "2023-02-13T12:34:11.664Z"
   },
   {
    "duration": 1309,
    "start_time": "2023-02-13T12:34:16.137Z"
   },
   {
    "duration": 1362,
    "start_time": "2023-02-13T12:34:21.454Z"
   },
   {
    "duration": 1453,
    "start_time": "2023-02-13T12:34:35.448Z"
   },
   {
    "duration": 1266,
    "start_time": "2023-02-13T12:34:42.040Z"
   },
   {
    "duration": 1233,
    "start_time": "2023-02-13T12:35:28.025Z"
   },
   {
    "duration": 1269,
    "start_time": "2023-02-13T12:35:39.940Z"
   },
   {
    "duration": 1227,
    "start_time": "2023-02-13T12:35:47.134Z"
   },
   {
    "duration": 1327,
    "start_time": "2023-02-13T12:35:58.148Z"
   },
   {
    "duration": 1229,
    "start_time": "2023-02-13T12:36:04.640Z"
   },
   {
    "duration": 1329,
    "start_time": "2023-02-13T12:36:11.520Z"
   },
   {
    "duration": 1220,
    "start_time": "2023-02-13T12:36:17.258Z"
   },
   {
    "duration": 1056,
    "start_time": "2023-02-13T12:37:05.794Z"
   },
   {
    "duration": 46,
    "start_time": "2023-02-13T12:38:06.773Z"
   },
   {
    "duration": 1573,
    "start_time": "2023-02-13T12:38:21.191Z"
   },
   {
    "duration": 1221,
    "start_time": "2023-02-13T12:38:38.641Z"
   },
   {
    "duration": 1356,
    "start_time": "2023-02-13T12:40:45.429Z"
   },
   {
    "duration": 52,
    "start_time": "2023-02-13T12:41:30.998Z"
   },
   {
    "duration": 189,
    "start_time": "2023-02-13T12:41:40.233Z"
   },
   {
    "duration": 1313,
    "start_time": "2023-02-13T12:41:53.767Z"
   },
   {
    "duration": 1406,
    "start_time": "2023-02-13T12:42:11.100Z"
   },
   {
    "duration": 384,
    "start_time": "2023-02-13T13:55:11.570Z"
   },
   {
    "duration": 485,
    "start_time": "2023-02-13T13:55:42.267Z"
   },
   {
    "duration": 361,
    "start_time": "2023-02-13T13:55:47.319Z"
   },
   {
    "duration": 315,
    "start_time": "2023-02-13T13:56:29.319Z"
   },
   {
    "duration": 338,
    "start_time": "2023-02-13T13:56:35.432Z"
   },
   {
    "duration": 372,
    "start_time": "2023-02-13T13:56:41.243Z"
   },
   {
    "duration": 358,
    "start_time": "2023-02-13T13:56:57.512Z"
   },
   {
    "duration": 337,
    "start_time": "2023-02-13T13:57:16.095Z"
   },
   {
    "duration": 6,
    "start_time": "2023-02-13T13:58:37.458Z"
   },
   {
    "duration": 243,
    "start_time": "2023-02-13T13:59:08.483Z"
   },
   {
    "duration": 83,
    "start_time": "2023-02-13T13:59:52.917Z"
   },
   {
    "duration": 96,
    "start_time": "2023-02-13T14:09:55.792Z"
   },
   {
    "duration": 57,
    "start_time": "2023-02-13T14:11:08.738Z"
   },
   {
    "duration": 50,
    "start_time": "2023-02-13T14:14:05.233Z"
   },
   {
    "duration": 5,
    "start_time": "2023-02-13T14:14:29.670Z"
   },
   {
    "duration": 49,
    "start_time": "2023-02-13T14:15:04.088Z"
   },
   {
    "duration": 44,
    "start_time": "2023-02-13T14:15:26.430Z"
   },
   {
    "duration": 81,
    "start_time": "2023-02-13T14:16:33.414Z"
   },
   {
    "duration": 5,
    "start_time": "2023-02-13T15:12:24.888Z"
   },
   {
    "duration": 3,
    "start_time": "2023-02-13T15:12:25.123Z"
   },
   {
    "duration": 6,
    "start_time": "2023-02-13T15:12:26.328Z"
   },
   {
    "duration": 4,
    "start_time": "2023-02-13T15:12:26.637Z"
   },
   {
    "duration": 8,
    "start_time": "2023-02-13T15:12:30.439Z"
   },
   {
    "duration": 65527,
    "start_time": "2023-02-13T15:12:40.768Z"
   },
   {
    "duration": 46,
    "start_time": "2023-02-13T15:16:34.913Z"
   },
   {
    "duration": 6,
    "start_time": "2023-02-13T15:18:01.971Z"
   },
   {
    "duration": 6,
    "start_time": "2023-02-13T15:18:02.555Z"
   },
   {
    "duration": 45,
    "start_time": "2023-02-13T15:21:53.750Z"
   },
   {
    "duration": 881,
    "start_time": "2023-02-13T15:25:04.065Z"
   },
   {
    "duration": 684,
    "start_time": "2023-02-13T15:25:11.487Z"
   },
   {
    "duration": 65307,
    "start_time": "2023-02-13T15:25:19.975Z"
   },
   {
    "duration": 1462,
    "start_time": "2023-02-13T15:28:12.272Z"
   },
   {
    "duration": 782,
    "start_time": "2023-02-13T15:28:13.737Z"
   },
   {
    "duration": 4,
    "start_time": "2023-02-13T15:28:14.520Z"
   },
   {
    "duration": 407,
    "start_time": "2023-02-13T15:28:14.526Z"
   },
   {
    "duration": 196,
    "start_time": "2023-02-13T15:28:14.936Z"
   },
   {
    "duration": 381,
    "start_time": "2023-02-13T15:28:15.134Z"
   },
   {
    "duration": 3,
    "start_time": "2023-02-13T15:28:15.517Z"
   },
   {
    "duration": 14,
    "start_time": "2023-02-13T15:28:15.521Z"
   },
   {
    "duration": 9,
    "start_time": "2023-02-13T15:28:15.537Z"
   },
   {
    "duration": 12,
    "start_time": "2023-02-13T15:28:15.548Z"
   },
   {
    "duration": 10,
    "start_time": "2023-02-13T15:28:15.562Z"
   },
   {
    "duration": 28,
    "start_time": "2023-02-13T15:28:15.574Z"
   },
   {
    "duration": 9,
    "start_time": "2023-02-13T15:28:15.604Z"
   },
   {
    "duration": 40,
    "start_time": "2023-02-13T15:28:15.616Z"
   },
   {
    "duration": 1264,
    "start_time": "2023-02-13T15:28:15.657Z"
   },
   {
    "duration": 1448,
    "start_time": "2023-02-13T15:28:16.924Z"
   },
   {
    "duration": 1295,
    "start_time": "2023-02-13T15:28:18.376Z"
   },
   {
    "duration": 248,
    "start_time": "2023-02-13T15:28:19.674Z"
   },
   {
    "duration": 183,
    "start_time": "2023-02-13T15:28:19.923Z"
   },
   {
    "duration": 7,
    "start_time": "2023-02-13T15:28:20.109Z"
   },
   {
    "duration": 23,
    "start_time": "2023-02-13T15:28:20.118Z"
   },
   {
    "duration": 9,
    "start_time": "2023-02-13T15:28:20.144Z"
   },
   {
    "duration": 808,
    "start_time": "2023-02-13T15:28:20.155Z"
   },
   {
    "duration": 5,
    "start_time": "2023-02-13T15:28:20.965Z"
   },
   {
    "duration": 722,
    "start_time": "2023-02-13T15:28:20.972Z"
   },
   {
    "duration": 5,
    "start_time": "2023-02-13T15:28:21.698Z"
   },
   {
    "duration": 596,
    "start_time": "2023-02-13T15:28:21.705Z"
   },
   {
    "duration": 5,
    "start_time": "2023-02-13T15:28:22.303Z"
   },
   {
    "duration": 719,
    "start_time": "2023-02-13T15:28:22.309Z"
   },
   {
    "duration": 25,
    "start_time": "2023-02-13T15:28:23.030Z"
   },
   {
    "duration": 5,
    "start_time": "2023-02-13T15:28:23.057Z"
   },
   {
    "duration": 23,
    "start_time": "2023-02-13T15:28:23.064Z"
   },
   {
    "duration": 17,
    "start_time": "2023-02-13T15:28:23.089Z"
   },
   {
    "duration": 9,
    "start_time": "2023-02-13T15:28:23.108Z"
   },
   {
    "duration": 11,
    "start_time": "2023-02-13T15:28:23.118Z"
   },
   {
    "duration": 22355,
    "start_time": "2023-02-13T15:28:23.131Z"
   },
   {
    "duration": 2080224,
    "start_time": "2023-02-13T15:28:45.487Z"
   },
   {
    "duration": 13191,
    "start_time": "2023-02-13T16:03:25.713Z"
   },
   {
    "duration": 8,
    "start_time": "2023-02-13T16:03:38.906Z"
   },
   {
    "duration": 27,
    "start_time": "2023-02-13T16:03:38.916Z"
   },
   {
    "duration": 186,
    "start_time": "2023-02-13T16:10:14.714Z"
   },
   {
    "duration": 1609,
    "start_time": "2023-02-14T12:47:10.193Z"
   },
   {
    "duration": 3159,
    "start_time": "2023-02-14T12:47:12.636Z"
   },
   {
    "duration": 3,
    "start_time": "2023-02-14T12:47:15.798Z"
   },
   {
    "duration": 399,
    "start_time": "2023-02-14T12:47:15.803Z"
   },
   {
    "duration": 191,
    "start_time": "2023-02-14T12:47:16.205Z"
   },
   {
    "duration": 391,
    "start_time": "2023-02-14T12:47:16.398Z"
   },
   {
    "duration": 3,
    "start_time": "2023-02-14T12:47:16.905Z"
   },
   {
    "duration": 9,
    "start_time": "2023-02-14T12:47:17.082Z"
   },
   {
    "duration": 5,
    "start_time": "2023-02-14T12:47:17.375Z"
   },
   {
    "duration": 6,
    "start_time": "2023-02-14T12:47:18.256Z"
   },
   {
    "duration": 5,
    "start_time": "2023-02-14T12:47:18.982Z"
   },
   {
    "duration": 14,
    "start_time": "2023-02-14T12:47:20.539Z"
   },
   {
    "duration": 2,
    "start_time": "2023-02-14T12:47:21.122Z"
   },
   {
    "duration": 20,
    "start_time": "2023-02-14T12:47:21.284Z"
   },
   {
    "duration": 1393,
    "start_time": "2023-02-14T12:47:25.655Z"
   },
   {
    "duration": 1340,
    "start_time": "2023-02-14T12:48:32.552Z"
   },
   {
    "duration": 1301,
    "start_time": "2023-02-14T12:49:03.769Z"
   },
   {
    "duration": 1296,
    "start_time": "2023-02-14T12:49:20.752Z"
   },
   {
    "duration": 74,
    "start_time": "2023-02-14T12:49:39.829Z"
   },
   {
    "duration": 1351,
    "start_time": "2023-02-14T12:54:15.900Z"
   },
   {
    "duration": 378,
    "start_time": "2023-02-14T12:55:48.884Z"
   },
   {
    "duration": 353,
    "start_time": "2023-02-14T12:56:12.120Z"
   },
   {
    "duration": 234,
    "start_time": "2023-02-14T12:56:18.618Z"
   },
   {
    "duration": 359,
    "start_time": "2023-02-14T12:57:39.328Z"
   },
   {
    "duration": 1726,
    "start_time": "2023-02-14T12:58:41.594Z"
   },
   {
    "duration": 439,
    "start_time": "2023-02-14T12:59:08.147Z"
   },
   {
    "duration": 482,
    "start_time": "2023-02-14T12:59:22.170Z"
   },
   {
    "duration": 427,
    "start_time": "2023-02-14T12:59:37.948Z"
   },
   {
    "duration": 501,
    "start_time": "2023-02-14T12:59:48.468Z"
   },
   {
    "duration": 489,
    "start_time": "2023-02-14T12:59:53.980Z"
   },
   {
    "duration": 454,
    "start_time": "2023-02-14T12:59:59.831Z"
   },
   {
    "duration": 472,
    "start_time": "2023-02-14T13:00:06.887Z"
   },
   {
    "duration": 524,
    "start_time": "2023-02-14T13:00:53.871Z"
   },
   {
    "duration": 429,
    "start_time": "2023-02-14T13:01:18.650Z"
   },
   {
    "duration": 13,
    "start_time": "2023-02-14T13:02:18.227Z"
   },
   {
    "duration": 10,
    "start_time": "2023-02-14T13:02:25.028Z"
   },
   {
    "duration": 3,
    "start_time": "2023-02-14T13:02:51.219Z"
   },
   {
    "duration": 8,
    "start_time": "2023-02-14T13:02:54.634Z"
   },
   {
    "duration": 13,
    "start_time": "2023-02-14T13:03:12.238Z"
   },
   {
    "duration": 289,
    "start_time": "2023-02-14T13:03:16.330Z"
   },
   {
    "duration": 13,
    "start_time": "2023-02-14T13:03:32.478Z"
   },
   {
    "duration": 466,
    "start_time": "2023-02-14T13:03:37.907Z"
   },
   {
    "duration": 438,
    "start_time": "2023-02-14T13:04:13.729Z"
   },
   {
    "duration": 489,
    "start_time": "2023-02-14T13:04:20.080Z"
   },
   {
    "duration": 155,
    "start_time": "2023-02-14T13:07:04.078Z"
   },
   {
    "duration": 454,
    "start_time": "2023-02-14T13:07:14.244Z"
   },
   {
    "duration": 259,
    "start_time": "2023-02-14T13:08:34.352Z"
   },
   {
    "duration": 21,
    "start_time": "2023-02-14T13:08:37.737Z"
   },
   {
    "duration": 449,
    "start_time": "2023-02-14T13:11:21.204Z"
   },
   {
    "duration": 172,
    "start_time": "2023-02-14T13:11:58.966Z"
   },
   {
    "duration": 174,
    "start_time": "2023-02-14T13:12:11.007Z"
   },
   {
    "duration": 470,
    "start_time": "2023-02-14T13:12:17.205Z"
   },
   {
    "duration": 170,
    "start_time": "2023-02-14T13:12:45.533Z"
   },
   {
    "duration": 9,
    "start_time": "2023-02-14T13:13:32.307Z"
   },
   {
    "duration": 272,
    "start_time": "2023-02-14T13:13:41.699Z"
   },
   {
    "duration": 289,
    "start_time": "2023-02-14T13:13:48.597Z"
   },
   {
    "duration": 9,
    "start_time": "2023-02-14T13:14:06.193Z"
   },
   {
    "duration": 480,
    "start_time": "2023-02-14T13:15:45.398Z"
   },
   {
    "duration": 444,
    "start_time": "2023-02-14T13:16:23.741Z"
   },
   {
    "duration": 438,
    "start_time": "2023-02-14T13:16:28.532Z"
   },
   {
    "duration": 10,
    "start_time": "2023-02-14T13:19:57.753Z"
   },
   {
    "duration": 10,
    "start_time": "2023-02-14T13:20:29.130Z"
   },
   {
    "duration": 18,
    "start_time": "2023-02-14T13:20:57.700Z"
   },
   {
    "duration": 624,
    "start_time": "2023-02-14T13:21:12.711Z"
   },
   {
    "duration": 21,
    "start_time": "2023-02-14T13:22:20.298Z"
   },
   {
    "duration": 20,
    "start_time": "2023-02-14T13:22:26.821Z"
   },
   {
    "duration": 33,
    "start_time": "2023-02-14T13:24:31.640Z"
   },
   {
    "duration": 17,
    "start_time": "2023-02-14T13:25:59.394Z"
   },
   {
    "duration": 502,
    "start_time": "2023-02-14T13:27:06.866Z"
   },
   {
    "duration": 462,
    "start_time": "2023-02-14T13:28:19.421Z"
   },
   {
    "duration": 604,
    "start_time": "2023-02-14T13:28:29.677Z"
   },
   {
    "duration": 510,
    "start_time": "2023-02-14T13:28:38.203Z"
   },
   {
    "duration": 416,
    "start_time": "2023-02-14T13:28:45.008Z"
   },
   {
    "duration": 375,
    "start_time": "2023-02-14T13:28:50.353Z"
   },
   {
    "duration": 396,
    "start_time": "2023-02-14T13:29:00.227Z"
   },
   {
    "duration": 491,
    "start_time": "2023-02-14T13:29:14.904Z"
   },
   {
    "duration": 410,
    "start_time": "2023-02-14T13:29:19.014Z"
   },
   {
    "duration": 417,
    "start_time": "2023-02-14T13:29:22.917Z"
   },
   {
    "duration": 488,
    "start_time": "2023-02-14T13:29:26.497Z"
   },
   {
    "duration": 511,
    "start_time": "2023-02-14T13:29:38.489Z"
   },
   {
    "duration": 470,
    "start_time": "2023-02-14T13:30:00.810Z"
   },
   {
    "duration": 422,
    "start_time": "2023-02-14T13:30:10.657Z"
   },
   {
    "duration": 495,
    "start_time": "2023-02-14T13:31:05.281Z"
   },
   {
    "duration": 415,
    "start_time": "2023-02-14T13:31:47.436Z"
   },
   {
    "duration": 412,
    "start_time": "2023-02-14T13:32:01.149Z"
   },
   {
    "duration": 611,
    "start_time": "2023-02-14T13:32:52.163Z"
   },
   {
    "duration": 466,
    "start_time": "2023-02-14T13:33:01.200Z"
   },
   {
    "duration": 454,
    "start_time": "2023-02-14T13:33:37.817Z"
   },
   {
    "duration": 475,
    "start_time": "2023-02-14T13:33:51.217Z"
   },
   {
    "duration": 500,
    "start_time": "2023-02-14T13:33:55.861Z"
   },
   {
    "duration": 461,
    "start_time": "2023-02-14T13:35:07.928Z"
   },
   {
    "duration": 449,
    "start_time": "2023-02-14T13:35:41.654Z"
   },
   {
    "duration": 3,
    "start_time": "2023-02-14T13:38:04.285Z"
   },
   {
    "duration": 6,
    "start_time": "2023-02-14T13:38:09.719Z"
   },
   {
    "duration": 492,
    "start_time": "2023-02-14T13:38:21.407Z"
   },
   {
    "duration": 555,
    "start_time": "2023-02-14T13:38:34.355Z"
   },
   {
    "duration": 488,
    "start_time": "2023-02-14T13:38:48.909Z"
   },
   {
    "duration": 549,
    "start_time": "2023-02-14T13:39:20.682Z"
   },
   {
    "duration": 483,
    "start_time": "2023-02-14T13:39:25.208Z"
   },
   {
    "duration": 517,
    "start_time": "2023-02-14T13:39:25.693Z"
   },
   {
    "duration": 123,
    "start_time": "2023-02-14T13:39:32.768Z"
   },
   {
    "duration": 517,
    "start_time": "2023-02-14T13:39:46.306Z"
   },
   {
    "duration": 622,
    "start_time": "2023-02-14T13:39:56.073Z"
   },
   {
    "duration": 577,
    "start_time": "2023-02-14T13:40:02.932Z"
   },
   {
    "duration": 600,
    "start_time": "2023-02-14T13:40:08.200Z"
   }
  ],
  "kernelspec": {
   "display_name": "Python 3 (ipykernel)",
   "language": "python",
   "name": "python3"
  },
  "language_info": {
   "codemirror_mode": {
    "name": "ipython",
    "version": 3
   },
   "file_extension": ".py",
   "mimetype": "text/x-python",
   "name": "python",
   "nbconvert_exporter": "python",
   "pygments_lexer": "ipython3",
   "version": "3.9.5"
  },
  "toc": {
   "base_numbering": 1,
   "nav_menu": {},
   "number_sections": true,
   "sideBar": true,
   "skip_h1_title": true,
   "title_cell": "Содержание",
   "title_sidebar": "Contents",
   "toc_cell": true,
   "toc_position": {},
   "toc_section_display": true,
   "toc_window_display": true
  }
 },
 "nbformat": 4,
 "nbformat_minor": 2
}
