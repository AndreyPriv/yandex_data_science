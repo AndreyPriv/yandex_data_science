{
 "cells": [
  {
   "cell_type": "markdown",
   "metadata": {},
   "source": [
    "# Рекомендация тарифов"
   ]
  },
  {
   "cell_type": "markdown",
   "metadata": {},
   "source": [
    "В вашем распоряжении данные о поведении клиентов, которые уже перешли на эти тарифы (из проекта курса «Статистический анализ данных»). Нужно построить модель для задачи классификации, которая выберет подходящий тариф. Предобработка данных не понадобится — вы её уже сделали.\n",
    "\n",
    "Постройте модель с максимально большим значением *accuracy*. Чтобы сдать проект успешно, нужно довести долю правильных ответов по крайней мере до 0.75. Проверьте *accuracy* на тестовой выборке самостоятельно."
   ]
  },
  {
   "cell_type": "markdown",
   "metadata": {},
   "source": [
    "## Откройте и изучите файл"
   ]
  },
  {
   "cell_type": "code",
   "execution_count": 1,
   "metadata": {},
   "outputs": [],
   "source": [
    "import pandas as pd\n",
    "\n",
    "from sklearn.model_selection import train_test_split, GridSearchCV\n",
    "from sklearn.preprocessing import StandardScaler\n",
    "from sklearn.tree import DecisionTreeClassifier\n",
    "from sklearn.ensemble import RandomForestClassifier\n",
    "from sklearn.linear_model import LogisticRegression\n",
    "from sklearn.metrics import accuracy_score\n",
    "from sklearn.dummy import DummyClassifier\n",
    "\n",
    "import warnings \n",
    "warnings.filterwarnings('ignore')"
   ]
  },
  {
   "cell_type": "code",
   "execution_count": 2,
   "metadata": {},
   "outputs": [],
   "source": [
    "df = pd.read_csv('/datasets/users_behavior.csv')"
   ]
  },
  {
   "cell_type": "code",
   "execution_count": 3,
   "metadata": {},
   "outputs": [
    {
     "data": {
      "text/html": [
       "<div>\n",
       "<style scoped>\n",
       "    .dataframe tbody tr th:only-of-type {\n",
       "        vertical-align: middle;\n",
       "    }\n",
       "\n",
       "    .dataframe tbody tr th {\n",
       "        vertical-align: top;\n",
       "    }\n",
       "\n",
       "    .dataframe thead th {\n",
       "        text-align: right;\n",
       "    }\n",
       "</style>\n",
       "<table border=\"1\" class=\"dataframe\">\n",
       "  <thead>\n",
       "    <tr style=\"text-align: right;\">\n",
       "      <th></th>\n",
       "      <th>calls</th>\n",
       "      <th>minutes</th>\n",
       "      <th>messages</th>\n",
       "      <th>mb_used</th>\n",
       "      <th>is_ultra</th>\n",
       "    </tr>\n",
       "  </thead>\n",
       "  <tbody>\n",
       "    <tr>\n",
       "      <th>0</th>\n",
       "      <td>40.0</td>\n",
       "      <td>311.90</td>\n",
       "      <td>83.0</td>\n",
       "      <td>19915.42</td>\n",
       "      <td>0</td>\n",
       "    </tr>\n",
       "    <tr>\n",
       "      <th>1</th>\n",
       "      <td>85.0</td>\n",
       "      <td>516.75</td>\n",
       "      <td>56.0</td>\n",
       "      <td>22696.96</td>\n",
       "      <td>0</td>\n",
       "    </tr>\n",
       "    <tr>\n",
       "      <th>2</th>\n",
       "      <td>77.0</td>\n",
       "      <td>467.66</td>\n",
       "      <td>86.0</td>\n",
       "      <td>21060.45</td>\n",
       "      <td>0</td>\n",
       "    </tr>\n",
       "    <tr>\n",
       "      <th>3</th>\n",
       "      <td>106.0</td>\n",
       "      <td>745.53</td>\n",
       "      <td>81.0</td>\n",
       "      <td>8437.39</td>\n",
       "      <td>1</td>\n",
       "    </tr>\n",
       "    <tr>\n",
       "      <th>4</th>\n",
       "      <td>66.0</td>\n",
       "      <td>418.74</td>\n",
       "      <td>1.0</td>\n",
       "      <td>14502.75</td>\n",
       "      <td>0</td>\n",
       "    </tr>\n",
       "  </tbody>\n",
       "</table>\n",
       "</div>"
      ],
      "text/plain": [
       "   calls  minutes  messages   mb_used  is_ultra\n",
       "0   40.0   311.90      83.0  19915.42         0\n",
       "1   85.0   516.75      56.0  22696.96         0\n",
       "2   77.0   467.66      86.0  21060.45         0\n",
       "3  106.0   745.53      81.0   8437.39         1\n",
       "4   66.0   418.74       1.0  14502.75         0"
      ]
     },
     "execution_count": 3,
     "metadata": {},
     "output_type": "execute_result"
    }
   ],
   "source": [
    "df.head()"
   ]
  },
  {
   "cell_type": "code",
   "execution_count": 4,
   "metadata": {},
   "outputs": [
    {
     "data": {
      "text/html": [
       "<div>\n",
       "<style scoped>\n",
       "    .dataframe tbody tr th:only-of-type {\n",
       "        vertical-align: middle;\n",
       "    }\n",
       "\n",
       "    .dataframe tbody tr th {\n",
       "        vertical-align: top;\n",
       "    }\n",
       "\n",
       "    .dataframe thead th {\n",
       "        text-align: right;\n",
       "    }\n",
       "</style>\n",
       "<table border=\"1\" class=\"dataframe\">\n",
       "  <thead>\n",
       "    <tr style=\"text-align: right;\">\n",
       "      <th></th>\n",
       "      <th>calls</th>\n",
       "      <th>minutes</th>\n",
       "      <th>messages</th>\n",
       "      <th>mb_used</th>\n",
       "      <th>is_ultra</th>\n",
       "    </tr>\n",
       "  </thead>\n",
       "  <tbody>\n",
       "    <tr>\n",
       "      <th>3209</th>\n",
       "      <td>122.0</td>\n",
       "      <td>910.98</td>\n",
       "      <td>20.0</td>\n",
       "      <td>35124.90</td>\n",
       "      <td>1</td>\n",
       "    </tr>\n",
       "    <tr>\n",
       "      <th>3210</th>\n",
       "      <td>25.0</td>\n",
       "      <td>190.36</td>\n",
       "      <td>0.0</td>\n",
       "      <td>3275.61</td>\n",
       "      <td>0</td>\n",
       "    </tr>\n",
       "    <tr>\n",
       "      <th>3211</th>\n",
       "      <td>97.0</td>\n",
       "      <td>634.44</td>\n",
       "      <td>70.0</td>\n",
       "      <td>13974.06</td>\n",
       "      <td>0</td>\n",
       "    </tr>\n",
       "    <tr>\n",
       "      <th>3212</th>\n",
       "      <td>64.0</td>\n",
       "      <td>462.32</td>\n",
       "      <td>90.0</td>\n",
       "      <td>31239.78</td>\n",
       "      <td>0</td>\n",
       "    </tr>\n",
       "    <tr>\n",
       "      <th>3213</th>\n",
       "      <td>80.0</td>\n",
       "      <td>566.09</td>\n",
       "      <td>6.0</td>\n",
       "      <td>29480.52</td>\n",
       "      <td>1</td>\n",
       "    </tr>\n",
       "  </tbody>\n",
       "</table>\n",
       "</div>"
      ],
      "text/plain": [
       "      calls  minutes  messages   mb_used  is_ultra\n",
       "3209  122.0   910.98      20.0  35124.90         1\n",
       "3210   25.0   190.36       0.0   3275.61         0\n",
       "3211   97.0   634.44      70.0  13974.06         0\n",
       "3212   64.0   462.32      90.0  31239.78         0\n",
       "3213   80.0   566.09       6.0  29480.52         1"
      ]
     },
     "execution_count": 4,
     "metadata": {},
     "output_type": "execute_result"
    }
   ],
   "source": [
    "df.tail()"
   ]
  },
  {
   "cell_type": "code",
   "execution_count": 5,
   "metadata": {},
   "outputs": [
    {
     "data": {
      "text/plain": [
       "(3214, 5)"
      ]
     },
     "execution_count": 5,
     "metadata": {},
     "output_type": "execute_result"
    }
   ],
   "source": [
    "df.shape"
   ]
  },
  {
   "cell_type": "code",
   "execution_count": 6,
   "metadata": {},
   "outputs": [
    {
     "name": "stdout",
     "output_type": "stream",
     "text": [
      "<class 'pandas.core.frame.DataFrame'>\n",
      "RangeIndex: 3214 entries, 0 to 3213\n",
      "Data columns (total 5 columns):\n",
      " #   Column    Non-Null Count  Dtype  \n",
      "---  ------    --------------  -----  \n",
      " 0   calls     3214 non-null   float64\n",
      " 1   minutes   3214 non-null   float64\n",
      " 2   messages  3214 non-null   float64\n",
      " 3   mb_used   3214 non-null   float64\n",
      " 4   is_ultra  3214 non-null   int64  \n",
      "dtypes: float64(4), int64(1)\n",
      "memory usage: 125.7 KB\n"
     ]
    }
   ],
   "source": [
    "df.info()"
   ]
  },
  {
   "cell_type": "code",
   "execution_count": 7,
   "metadata": {},
   "outputs": [
    {
     "data": {
      "text/plain": [
       "calls       0\n",
       "minutes     0\n",
       "messages    0\n",
       "mb_used     0\n",
       "is_ultra    0\n",
       "dtype: int64"
      ]
     },
     "execution_count": 7,
     "metadata": {},
     "output_type": "execute_result"
    }
   ],
   "source": [
    "df.isna().sum()"
   ]
  },
  {
   "cell_type": "code",
   "execution_count": 8,
   "metadata": {},
   "outputs": [
    {
     "data": {
      "text/plain": [
       "0"
      ]
     },
     "execution_count": 8,
     "metadata": {},
     "output_type": "execute_result"
    }
   ],
   "source": [
    "df.duplicated().sum()"
   ]
  },
  {
   "cell_type": "code",
   "execution_count": 9,
   "metadata": {},
   "outputs": [
    {
     "data": {
      "text/html": [
       "<div>\n",
       "<style scoped>\n",
       "    .dataframe tbody tr th:only-of-type {\n",
       "        vertical-align: middle;\n",
       "    }\n",
       "\n",
       "    .dataframe tbody tr th {\n",
       "        vertical-align: top;\n",
       "    }\n",
       "\n",
       "    .dataframe thead th {\n",
       "        text-align: right;\n",
       "    }\n",
       "</style>\n",
       "<table border=\"1\" class=\"dataframe\">\n",
       "  <thead>\n",
       "    <tr style=\"text-align: right;\">\n",
       "      <th></th>\n",
       "      <th>calls</th>\n",
       "      <th>minutes</th>\n",
       "      <th>messages</th>\n",
       "      <th>mb_used</th>\n",
       "      <th>is_ultra</th>\n",
       "    </tr>\n",
       "  </thead>\n",
       "  <tbody>\n",
       "    <tr>\n",
       "      <th>count</th>\n",
       "      <td>3214.000000</td>\n",
       "      <td>3214.000000</td>\n",
       "      <td>3214.000000</td>\n",
       "      <td>3214.000000</td>\n",
       "      <td>3214.000000</td>\n",
       "    </tr>\n",
       "    <tr>\n",
       "      <th>mean</th>\n",
       "      <td>63.038892</td>\n",
       "      <td>438.208787</td>\n",
       "      <td>38.281269</td>\n",
       "      <td>17207.673836</td>\n",
       "      <td>0.306472</td>\n",
       "    </tr>\n",
       "    <tr>\n",
       "      <th>std</th>\n",
       "      <td>33.236368</td>\n",
       "      <td>234.569872</td>\n",
       "      <td>36.148326</td>\n",
       "      <td>7570.968246</td>\n",
       "      <td>0.461100</td>\n",
       "    </tr>\n",
       "    <tr>\n",
       "      <th>min</th>\n",
       "      <td>0.000000</td>\n",
       "      <td>0.000000</td>\n",
       "      <td>0.000000</td>\n",
       "      <td>0.000000</td>\n",
       "      <td>0.000000</td>\n",
       "    </tr>\n",
       "    <tr>\n",
       "      <th>25%</th>\n",
       "      <td>40.000000</td>\n",
       "      <td>274.575000</td>\n",
       "      <td>9.000000</td>\n",
       "      <td>12491.902500</td>\n",
       "      <td>0.000000</td>\n",
       "    </tr>\n",
       "    <tr>\n",
       "      <th>50%</th>\n",
       "      <td>62.000000</td>\n",
       "      <td>430.600000</td>\n",
       "      <td>30.000000</td>\n",
       "      <td>16943.235000</td>\n",
       "      <td>0.000000</td>\n",
       "    </tr>\n",
       "    <tr>\n",
       "      <th>75%</th>\n",
       "      <td>82.000000</td>\n",
       "      <td>571.927500</td>\n",
       "      <td>57.000000</td>\n",
       "      <td>21424.700000</td>\n",
       "      <td>1.000000</td>\n",
       "    </tr>\n",
       "    <tr>\n",
       "      <th>max</th>\n",
       "      <td>244.000000</td>\n",
       "      <td>1632.060000</td>\n",
       "      <td>224.000000</td>\n",
       "      <td>49745.730000</td>\n",
       "      <td>1.000000</td>\n",
       "    </tr>\n",
       "  </tbody>\n",
       "</table>\n",
       "</div>"
      ],
      "text/plain": [
       "             calls      minutes     messages       mb_used     is_ultra\n",
       "count  3214.000000  3214.000000  3214.000000   3214.000000  3214.000000\n",
       "mean     63.038892   438.208787    38.281269  17207.673836     0.306472\n",
       "std      33.236368   234.569872    36.148326   7570.968246     0.461100\n",
       "min       0.000000     0.000000     0.000000      0.000000     0.000000\n",
       "25%      40.000000   274.575000     9.000000  12491.902500     0.000000\n",
       "50%      62.000000   430.600000    30.000000  16943.235000     0.000000\n",
       "75%      82.000000   571.927500    57.000000  21424.700000     1.000000\n",
       "max     244.000000  1632.060000   224.000000  49745.730000     1.000000"
      ]
     },
     "execution_count": 9,
     "metadata": {},
     "output_type": "execute_result"
    }
   ],
   "source": [
    "df.describe()"
   ]
  },
  {
   "cell_type": "code",
   "execution_count": 10,
   "metadata": {},
   "outputs": [],
   "source": [
    "df['messages'] = df['messages'].astype('Int64')\n",
    "df['calls'] = df['calls'].astype('Int64')"
   ]
  },
  {
   "cell_type": "markdown",
   "metadata": {},
   "source": [
    "## Разбейте данные на выборки"
   ]
  },
  {
   "cell_type": "code",
   "execution_count": 11,
   "metadata": {},
   "outputs": [],
   "source": [
    "X = df.drop('is_ultra', axis=1)\n",
    "y = df['is_ultra']"
   ]
  },
  {
   "cell_type": "code",
   "execution_count": 12,
   "metadata": {},
   "outputs": [],
   "source": [
    "X_train, X_test, y_train, y_test = train_test_split(X, y,  test_size=0.2, random_state=42)"
   ]
  },
  {
   "cell_type": "code",
   "execution_count": 13,
   "metadata": {},
   "outputs": [
    {
     "name": "stdout",
     "output_type": "stream",
     "text": [
      "Размерность обучающей выборки (2571, 4)\n",
      "Размерность тестовой выборки (643, 4)\n"
     ]
    }
   ],
   "source": [
    "print('Размерность обучающей выборки',X_train.shape)\n",
    "print('Размерность тестовой выборки',X_test.shape)"
   ]
  },
  {
   "cell_type": "code",
   "execution_count": 14,
   "metadata": {},
   "outputs": [
    {
     "data": {
      "text/html": [
       "<div>\n",
       "<style scoped>\n",
       "    .dataframe tbody tr th:only-of-type {\n",
       "        vertical-align: middle;\n",
       "    }\n",
       "\n",
       "    .dataframe tbody tr th {\n",
       "        vertical-align: top;\n",
       "    }\n",
       "\n",
       "    .dataframe thead th {\n",
       "        text-align: right;\n",
       "    }\n",
       "</style>\n",
       "<table border=\"1\" class=\"dataframe\">\n",
       "  <thead>\n",
       "    <tr style=\"text-align: right;\">\n",
       "      <th></th>\n",
       "      <th>calls</th>\n",
       "      <th>minutes</th>\n",
       "      <th>messages</th>\n",
       "      <th>mb_used</th>\n",
       "    </tr>\n",
       "  </thead>\n",
       "  <tbody>\n",
       "    <tr>\n",
       "      <th>2620</th>\n",
       "      <td>20</td>\n",
       "      <td>104.02</td>\n",
       "      <td>8</td>\n",
       "      <td>15873.88</td>\n",
       "    </tr>\n",
       "    <tr>\n",
       "      <th>1042</th>\n",
       "      <td>97</td>\n",
       "      <td>760.53</td>\n",
       "      <td>77</td>\n",
       "      <td>20246.27</td>\n",
       "    </tr>\n",
       "    <tr>\n",
       "      <th>2268</th>\n",
       "      <td>10</td>\n",
       "      <td>78.67</td>\n",
       "      <td>8</td>\n",
       "      <td>4986.91</td>\n",
       "    </tr>\n",
       "    <tr>\n",
       "      <th>1078</th>\n",
       "      <td>91</td>\n",
       "      <td>604.39</td>\n",
       "      <td>19</td>\n",
       "      <td>25152.82</td>\n",
       "    </tr>\n",
       "    <tr>\n",
       "      <th>420</th>\n",
       "      <td>67</td>\n",
       "      <td>505.20</td>\n",
       "      <td>25</td>\n",
       "      <td>16225.71</td>\n",
       "    </tr>\n",
       "    <tr>\n",
       "      <th>...</th>\n",
       "      <td>...</td>\n",
       "      <td>...</td>\n",
       "      <td>...</td>\n",
       "      <td>...</td>\n",
       "    </tr>\n",
       "    <tr>\n",
       "      <th>1095</th>\n",
       "      <td>62</td>\n",
       "      <td>454.02</td>\n",
       "      <td>35</td>\n",
       "      <td>15018.46</td>\n",
       "    </tr>\n",
       "    <tr>\n",
       "      <th>1130</th>\n",
       "      <td>69</td>\n",
       "      <td>465.96</td>\n",
       "      <td>12</td>\n",
       "      <td>14982.27</td>\n",
       "    </tr>\n",
       "    <tr>\n",
       "      <th>1294</th>\n",
       "      <td>40</td>\n",
       "      <td>280.44</td>\n",
       "      <td>2</td>\n",
       "      <td>13934.54</td>\n",
       "    </tr>\n",
       "    <tr>\n",
       "      <th>860</th>\n",
       "      <td>72</td>\n",
       "      <td>410.23</td>\n",
       "      <td>68</td>\n",
       "      <td>16006.55</td>\n",
       "    </tr>\n",
       "    <tr>\n",
       "      <th>3174</th>\n",
       "      <td>79</td>\n",
       "      <td>537.10</td>\n",
       "      <td>25</td>\n",
       "      <td>21223.37</td>\n",
       "    </tr>\n",
       "  </tbody>\n",
       "</table>\n",
       "<p>2571 rows × 4 columns</p>\n",
       "</div>"
      ],
      "text/plain": [
       "      calls  minutes  messages   mb_used\n",
       "2620     20   104.02         8  15873.88\n",
       "1042     97   760.53        77  20246.27\n",
       "2268     10    78.67         8   4986.91\n",
       "1078     91   604.39        19  25152.82\n",
       "420      67   505.20        25  16225.71\n",
       "...     ...      ...       ...       ...\n",
       "1095     62   454.02        35  15018.46\n",
       "1130     69   465.96        12  14982.27\n",
       "1294     40   280.44         2  13934.54\n",
       "860      72   410.23        68  16006.55\n",
       "3174     79   537.10        25  21223.37\n",
       "\n",
       "[2571 rows x 4 columns]"
      ]
     },
     "execution_count": 14,
     "metadata": {},
     "output_type": "execute_result"
    }
   ],
   "source": [
    "X_train"
   ]
  },
  {
   "cell_type": "markdown",
   "metadata": {},
   "source": [
    "Сделаем стандартизацию."
   ]
  },
  {
   "cell_type": "code",
   "execution_count": 15,
   "metadata": {},
   "outputs": [],
   "source": [
    "numeric = ['calls', 'minutes', 'messages', 'mb_used']\n",
    "\n",
    "scaler = StandardScaler()\n",
    "scaler.fit(X_train[numeric])\n",
    "\n",
    "X_train[numeric] = scaler.transform(X_train[numeric])\n",
    "X_test[numeric] = scaler.transform(X_test[numeric])"
   ]
  },
  {
   "cell_type": "markdown",
   "metadata": {},
   "source": [
    "## Исследуйте модели"
   ]
  },
  {
   "cell_type": "markdown",
   "metadata": {},
   "source": [
    "<b>Дерево принятия решений</b>"
   ]
  },
  {
   "cell_type": "code",
   "execution_count": 16,
   "metadata": {},
   "outputs": [],
   "source": [
    "model_dt = DecisionTreeClassifier(random_state=42)\n",
    "param_dt = {\n",
    "    'max_depth' : [8,12,16,20,24,28],\n",
    "    'min_samples_split' : [2,3,4,5,6],\n",
    "    'min_samples_leaf' : [1,2,3]\n",
    "}"
   ]
  },
  {
   "cell_type": "code",
   "execution_count": 17,
   "metadata": {},
   "outputs": [
    {
     "data": {
      "text/plain": [
       "GridSearchCV(cv=3, estimator=DecisionTreeClassifier(random_state=42), n_jobs=-1,\n",
       "             param_grid={'max_depth': [8, 12, 16, 20, 24, 28],\n",
       "                         'min_samples_leaf': [1, 2, 3],\n",
       "                         'min_samples_split': [2, 3, 4, 5, 6]},\n",
       "             scoring='accuracy')"
      ]
     },
     "execution_count": 17,
     "metadata": {},
     "output_type": "execute_result"
    }
   ],
   "source": [
    "grid_dt = GridSearchCV(model_dt, param_dt, cv=3, n_jobs=-1, scoring='accuracy')\n",
    "grid_dt.fit(X_train, y_train)"
   ]
  },
  {
   "cell_type": "code",
   "execution_count": 18,
   "metadata": {},
   "outputs": [
    {
     "data": {
      "text/plain": [
       "0.7895760404511863"
      ]
     },
     "execution_count": 18,
     "metadata": {},
     "output_type": "execute_result"
    }
   ],
   "source": [
    "grid_dt.best_score_"
   ]
  },
  {
   "cell_type": "code",
   "execution_count": 19,
   "metadata": {},
   "outputs": [
    {
     "data": {
      "text/plain": [
       "{'max_depth': 8, 'min_samples_leaf': 3, 'min_samples_split': 2}"
      ]
     },
     "execution_count": 19,
     "metadata": {},
     "output_type": "execute_result"
    }
   ],
   "source": [
    "grid_dt.best_params_"
   ]
  },
  {
   "cell_type": "markdown",
   "metadata": {},
   "source": [
    "<b>Случайный лес</b>"
   ]
  },
  {
   "cell_type": "code",
   "execution_count": 20,
   "metadata": {},
   "outputs": [],
   "source": [
    "model_lr = RandomForestClassifier(random_state=42)\n",
    "param_lr = {\n",
    "    'max_depth' : [8,12,16,20,24,28],\n",
    "    'min_samples_split' : [2,3,4,5,6],\n",
    "    'min_samples_leaf' : [1,2,3]\n",
    "}"
   ]
  },
  {
   "cell_type": "code",
   "execution_count": 21,
   "metadata": {},
   "outputs": [
    {
     "data": {
      "text/plain": [
       "GridSearchCV(cv=3, estimator=RandomForestClassifier(random_state=42), n_jobs=-1,\n",
       "             param_grid={'max_depth': [8, 12, 16, 20, 24, 28],\n",
       "                         'min_samples_leaf': [1, 2, 3],\n",
       "                         'min_samples_split': [2, 3, 4, 5, 6]},\n",
       "             scoring='accuracy')"
      ]
     },
     "execution_count": 21,
     "metadata": {},
     "output_type": "execute_result"
    }
   ],
   "source": [
    "grid_lr = GridSearchCV(model_lr, param_lr, cv=3, n_jobs=-1, scoring='accuracy')\n",
    "grid_lr.fit(X_train, y_train)"
   ]
  },
  {
   "cell_type": "code",
   "execution_count": 22,
   "metadata": {},
   "outputs": [
    {
     "data": {
      "text/plain": [
       "0.8043562816024893"
      ]
     },
     "execution_count": 22,
     "metadata": {},
     "output_type": "execute_result"
    }
   ],
   "source": [
    "grid_lr.best_score_"
   ]
  },
  {
   "cell_type": "code",
   "execution_count": 23,
   "metadata": {},
   "outputs": [
    {
     "data": {
      "text/plain": [
       "{'max_depth': 8, 'min_samples_leaf': 3, 'min_samples_split': 2}"
      ]
     },
     "execution_count": 23,
     "metadata": {},
     "output_type": "execute_result"
    }
   ],
   "source": [
    "grid_lr.best_params_"
   ]
  },
  {
   "cell_type": "markdown",
   "metadata": {},
   "source": [
    "<b>Логистическая регрессия</b>"
   ]
  },
  {
   "cell_type": "code",
   "execution_count": 24,
   "metadata": {},
   "outputs": [],
   "source": [
    "model_logistic = LogisticRegression(random_state=42)\n",
    "param_logistic = {\n",
    "    'C' : [0.01,0.1,1,10,100],\n",
    "    'class_weight' : ['balanced', None]\n",
    "}"
   ]
  },
  {
   "cell_type": "code",
   "execution_count": 25,
   "metadata": {},
   "outputs": [
    {
     "data": {
      "text/plain": [
       "GridSearchCV(cv=3, estimator=LogisticRegression(random_state=42), n_jobs=-1,\n",
       "             param_grid={'C': [0.01, 0.1, 1, 10, 100],\n",
       "                         'class_weight': ['balanced', None]},\n",
       "             scoring='accuracy')"
      ]
     },
     "execution_count": 25,
     "metadata": {},
     "output_type": "execute_result"
    }
   ],
   "source": [
    "grid_logistic = GridSearchCV(model_logistic, param_logistic, cv=3, n_jobs=-1, scoring='accuracy')\n",
    "grid_logistic.fit(X_train, y_train)"
   ]
  },
  {
   "cell_type": "code",
   "execution_count": 26,
   "metadata": {},
   "outputs": [
    {
     "data": {
      "text/plain": [
       "0.7421236872812136"
      ]
     },
     "execution_count": 26,
     "metadata": {},
     "output_type": "execute_result"
    }
   ],
   "source": [
    "grid_logistic.best_score_"
   ]
  },
  {
   "cell_type": "code",
   "execution_count": 27,
   "metadata": {},
   "outputs": [
    {
     "data": {
      "text/plain": [
       "{'C': 0.1, 'class_weight': None}"
      ]
     },
     "execution_count": 27,
     "metadata": {},
     "output_type": "execute_result"
    }
   ],
   "source": [
    "grid_logistic.best_params_"
   ]
  },
  {
   "cell_type": "markdown",
   "metadata": {},
   "source": [
    "## Проверьте модель на тестовой выборке"
   ]
  },
  {
   "cell_type": "markdown",
   "metadata": {},
   "source": [
    "Лучше всех справился случайный лес. Проверим его на тестовой выборке."
   ]
  },
  {
   "cell_type": "code",
   "execution_count": 28,
   "metadata": {},
   "outputs": [
    {
     "name": "stdout",
     "output_type": "stream",
     "text": [
      "Качество на тестовой выборке: 0.8149300155520995\n"
     ]
    }
   ],
   "source": [
    "pred = grid_lr.best_estimator_.predict(X_test)\n",
    "accuracy = accuracy_score(pred, y_test)\n",
    "print('Качество на тестовой выборке:', accuracy)"
   ]
  },
  {
   "cell_type": "markdown",
   "metadata": {},
   "source": [
    "## (бонус) Проверьте модели на адекватность"
   ]
  },
  {
   "cell_type": "markdown",
   "metadata": {},
   "source": [
    "Проверка на вменяемость предполагает сравнение с наивной моделью, которая, например, всегда рекомендует самый частый класс <br><br>\n",
    "\n",
    "ML-модель должна продемонстрировать преимущество над Dummy-моделью (реализующей наивный подход) <br><br>\n",
    "\n",
    "В scikit-learn уже есть готовые реализации, например для задачи классификации: https://scikit-learn.org/stable/modules/generated/sklearn.dummy.DummyClassifier.html"
   ]
  },
  {
   "cell_type": "code",
   "execution_count": 29,
   "metadata": {},
   "outputs": [
    {
     "name": "stdout",
     "output_type": "stream",
     "text": [
      "Качество наивного прогноза: 0.49300155520995337\n",
      "Качество случайного леса: 0.8149300155520995\n"
     ]
    }
   ],
   "source": [
    "dummy_clf = DummyClassifier(strategy=\"uniform\", random_state = 42)\n",
    "dummy_clf.fit(X_train, y_train)\n",
    "dummy_accuracy = dummy_clf.score(X_test, y_test)\n",
    "print('Качество наивного прогноза:', dummy_accuracy)\n",
    "print('Качество случайного леса:', accuracy)"
   ]
  },
  {
   "cell_type": "code",
   "execution_count": 30,
   "metadata": {},
   "outputs": [
    {
     "name": "stdout",
     "output_type": "stream",
     "text": [
      "Качество наивного прогноза: 0.5629860031104199\n",
      "Качество логистической регрессии: 0.8149300155520995\n"
     ]
    }
   ],
   "source": [
    "dummy_clf = DummyClassifier(strategy=\"stratified\", random_state = 42)\n",
    "dummy_clf.fit(X_train, y_train)\n",
    "dummy_accuracy = dummy_clf.score(X_test, y_test)\n",
    "print('Качество наивного прогноза:', dummy_accuracy)\n",
    "print('Качество логистической регрессии:', accuracy)"
   ]
  },
  {
   "cell_type": "code",
   "execution_count": 31,
   "metadata": {},
   "outputs": [
    {
     "name": "stdout",
     "output_type": "stream",
     "text": [
      "Качество наивного прогноза: 0.7076205287713841\n",
      "Качество логистической регрессии: 0.8149300155520995\n"
     ]
    }
   ],
   "source": [
    "dummy_clf = DummyClassifier(strategy=\"most_frequent\", random_state = 42)\n",
    "dummy_clf.fit(X_train, y_train)\n",
    "dummy_accuracy = dummy_clf.score(X_test, y_test)\n",
    "print('Качество наивного прогноза:', dummy_accuracy)\n",
    "print('Качество логистической регрессии:', accuracy)"
   ]
  },
  {
   "cell_type": "markdown",
   "metadata": {},
   "source": [
    "## Чек-лист готовности проекта"
   ]
  },
  {
   "cell_type": "markdown",
   "metadata": {},
   "source": [
    "Поставьте 'x' в выполненных пунктах. Далее нажмите Shift+Enter."
   ]
  },
  {
   "cell_type": "markdown",
   "metadata": {},
   "source": [
    "- [x] Jupyter Notebook открыт\n",
    "- [x] Весь код исполняется без ошибок\n",
    "- [x] Ячейки с кодом расположены в порядке исполнения\n",
    "- [x] Выполнено задание 1: данные загружены и изучены\n",
    "- [x] Выполнено задание 2: данные разбиты на три выборки\n",
    "- [x] Выполнено задание 3: проведено исследование моделей\n",
    "    - [x] Рассмотрено больше одной модели\n",
    "    - [x] Рассмотрено хотя бы 3 значения гипепараметров для какой-нибудь модели\n",
    "    - [x] Написаны выводы по результатам исследования\n",
    "- [x] Выполнено задание 3: Проведено тестирование\n",
    "- [x] Удалось достичь accuracy не меньше 0.75\n"
   ]
  }
 ],
 "metadata": {
  "ExecuteTimeLog": [
   {
    "duration": 412,
    "start_time": "2022-12-17T17:31:18.256Z"
   },
   {
    "duration": 63,
    "start_time": "2022-12-17T17:31:42.711Z"
   },
   {
    "duration": 3,
    "start_time": "2022-12-17T17:31:46.906Z"
   },
   {
    "duration": 166,
    "start_time": "2022-12-17T17:31:47.043Z"
   },
   {
    "duration": 18,
    "start_time": "2022-12-17T17:31:53.441Z"
   },
   {
    "duration": 9,
    "start_time": "2022-12-17T17:32:00.858Z"
   },
   {
    "duration": 8,
    "start_time": "2022-12-17T17:32:59.412Z"
   },
   {
    "duration": 8,
    "start_time": "2022-12-17T17:33:04.632Z"
   },
   {
    "duration": 10,
    "start_time": "2022-12-17T17:33:19.929Z"
   },
   {
    "duration": 6,
    "start_time": "2022-12-17T17:33:25.426Z"
   },
   {
    "duration": 8,
    "start_time": "2022-12-17T17:34:24.612Z"
   },
   {
    "duration": 449,
    "start_time": "2022-12-17T17:34:46.621Z"
   },
   {
    "duration": 29,
    "start_time": "2022-12-17T17:34:47.072Z"
   },
   {
    "duration": 18,
    "start_time": "2022-12-17T17:34:47.103Z"
   },
   {
    "duration": 13,
    "start_time": "2022-12-17T17:34:47.124Z"
   },
   {
    "duration": 7,
    "start_time": "2022-12-17T17:34:47.139Z"
   },
   {
    "duration": 8,
    "start_time": "2022-12-17T17:34:47.154Z"
   },
   {
    "duration": 9,
    "start_time": "2022-12-17T17:34:47.164Z"
   },
   {
    "duration": 30,
    "start_time": "2022-12-17T17:34:47.175Z"
   },
   {
    "duration": 12,
    "start_time": "2022-12-17T17:35:38.293Z"
   },
   {
    "duration": 22,
    "start_time": "2022-12-17T19:26:05.975Z"
   },
   {
    "duration": 10,
    "start_time": "2022-12-17T19:26:12.090Z"
   },
   {
    "duration": 11,
    "start_time": "2022-12-17T20:20:09.616Z"
   },
   {
    "duration": 8,
    "start_time": "2022-12-17T20:20:17.701Z"
   },
   {
    "duration": 4,
    "start_time": "2022-12-17T20:20:51.851Z"
   },
   {
    "duration": 11,
    "start_time": "2022-12-17T20:20:52.325Z"
   },
   {
    "duration": 413,
    "start_time": "2022-12-17T20:20:58.425Z"
   },
   {
    "duration": 32,
    "start_time": "2022-12-17T20:20:58.840Z"
   },
   {
    "duration": 17,
    "start_time": "2022-12-17T20:20:58.873Z"
   },
   {
    "duration": 8,
    "start_time": "2022-12-17T20:20:58.892Z"
   },
   {
    "duration": 5,
    "start_time": "2022-12-17T20:20:58.903Z"
   },
   {
    "duration": 13,
    "start_time": "2022-12-17T20:20:58.909Z"
   },
   {
    "duration": 5,
    "start_time": "2022-12-17T20:20:58.924Z"
   },
   {
    "duration": 26,
    "start_time": "2022-12-17T20:20:58.931Z"
   },
   {
    "duration": 40,
    "start_time": "2022-12-17T20:20:58.960Z"
   },
   {
    "duration": 75,
    "start_time": "2022-12-17T20:23:57.673Z"
   },
   {
    "duration": 16,
    "start_time": "2022-12-17T20:24:17.310Z"
   },
   {
    "duration": 4,
    "start_time": "2022-12-17T20:24:25.232Z"
   },
   {
    "duration": 4,
    "start_time": "2022-12-17T20:24:29.829Z"
   },
   {
    "duration": 14,
    "start_time": "2022-12-17T20:24:36.355Z"
   },
   {
    "duration": 5,
    "start_time": "2022-12-17T20:24:45.110Z"
   },
   {
    "duration": 10,
    "start_time": "2022-12-17T20:24:45.822Z"
   },
   {
    "duration": 4,
    "start_time": "2022-12-17T20:24:52.376Z"
   },
   {
    "duration": 10,
    "start_time": "2022-12-17T20:24:54.388Z"
   },
   {
    "duration": 413,
    "start_time": "2022-12-17T20:24:56.751Z"
   },
   {
    "duration": 29,
    "start_time": "2022-12-17T20:24:57.167Z"
   },
   {
    "duration": 16,
    "start_time": "2022-12-17T20:24:57.199Z"
   },
   {
    "duration": 10,
    "start_time": "2022-12-17T20:24:57.217Z"
   },
   {
    "duration": 6,
    "start_time": "2022-12-17T20:24:57.228Z"
   },
   {
    "duration": 19,
    "start_time": "2022-12-17T20:24:57.236Z"
   },
   {
    "duration": 7,
    "start_time": "2022-12-17T20:24:57.257Z"
   },
   {
    "duration": 6,
    "start_time": "2022-12-17T20:24:57.266Z"
   },
   {
    "duration": 30,
    "start_time": "2022-12-17T20:24:57.274Z"
   },
   {
    "duration": 94,
    "start_time": "2022-12-17T20:24:57.305Z"
   },
   {
    "duration": 0,
    "start_time": "2022-12-17T20:24:57.401Z"
   },
   {
    "duration": 394,
    "start_time": "2022-12-17T20:25:22.083Z"
   },
   {
    "duration": 31,
    "start_time": "2022-12-17T20:25:22.478Z"
   },
   {
    "duration": 16,
    "start_time": "2022-12-17T20:25:22.511Z"
   },
   {
    "duration": 9,
    "start_time": "2022-12-17T20:25:22.529Z"
   },
   {
    "duration": 6,
    "start_time": "2022-12-17T20:25:22.539Z"
   },
   {
    "duration": 13,
    "start_time": "2022-12-17T20:25:22.547Z"
   },
   {
    "duration": 7,
    "start_time": "2022-12-17T20:25:22.561Z"
   },
   {
    "duration": 9,
    "start_time": "2022-12-17T20:25:22.569Z"
   },
   {
    "duration": 26,
    "start_time": "2022-12-17T20:25:22.579Z"
   },
   {
    "duration": 86,
    "start_time": "2022-12-17T20:25:22.606Z"
   },
   {
    "duration": 1,
    "start_time": "2022-12-17T20:25:22.693Z"
   },
   {
    "duration": 432,
    "start_time": "2022-12-17T20:25:34.373Z"
   },
   {
    "duration": 30,
    "start_time": "2022-12-17T20:25:34.807Z"
   },
   {
    "duration": 16,
    "start_time": "2022-12-17T20:25:34.839Z"
   },
   {
    "duration": 9,
    "start_time": "2022-12-17T20:25:34.857Z"
   },
   {
    "duration": 7,
    "start_time": "2022-12-17T20:25:34.868Z"
   },
   {
    "duration": 16,
    "start_time": "2022-12-17T20:25:34.876Z"
   },
   {
    "duration": 7,
    "start_time": "2022-12-17T20:25:34.894Z"
   },
   {
    "duration": 7,
    "start_time": "2022-12-17T20:25:34.902Z"
   },
   {
    "duration": 50,
    "start_time": "2022-12-17T20:25:34.911Z"
   },
   {
    "duration": 4,
    "start_time": "2022-12-17T20:25:34.964Z"
   },
   {
    "duration": 14,
    "start_time": "2022-12-17T20:25:34.970Z"
   },
   {
    "duration": 13,
    "start_time": "2022-12-17T20:25:53.488Z"
   },
   {
    "duration": 450,
    "start_time": "2022-12-17T20:26:16.734Z"
   },
   {
    "duration": 29,
    "start_time": "2022-12-17T20:26:17.186Z"
   },
   {
    "duration": 15,
    "start_time": "2022-12-17T20:26:17.219Z"
   },
   {
    "duration": 11,
    "start_time": "2022-12-17T20:26:17.236Z"
   },
   {
    "duration": 7,
    "start_time": "2022-12-17T20:26:17.248Z"
   },
   {
    "duration": 12,
    "start_time": "2022-12-17T20:26:17.257Z"
   },
   {
    "duration": 6,
    "start_time": "2022-12-17T20:26:17.270Z"
   },
   {
    "duration": 6,
    "start_time": "2022-12-17T20:26:17.277Z"
   },
   {
    "duration": 23,
    "start_time": "2022-12-17T20:26:17.284Z"
   },
   {
    "duration": 5,
    "start_time": "2022-12-17T20:26:17.308Z"
   },
   {
    "duration": 43,
    "start_time": "2022-12-17T20:26:17.315Z"
   },
   {
    "duration": 16,
    "start_time": "2022-12-17T20:26:17.360Z"
   },
   {
    "duration": 4,
    "start_time": "2022-12-17T20:26:42.529Z"
   },
   {
    "duration": 11,
    "start_time": "2022-12-17T20:26:42.937Z"
   },
   {
    "duration": 4,
    "start_time": "2022-12-17T20:26:47.468Z"
   },
   {
    "duration": 10,
    "start_time": "2022-12-17T20:26:48.015Z"
   },
   {
    "duration": 47,
    "start_time": "2022-12-18T11:50:55.122Z"
   },
   {
    "duration": 375,
    "start_time": "2022-12-18T11:50:58.862Z"
   },
   {
    "duration": 85,
    "start_time": "2022-12-18T11:50:59.242Z"
   },
   {
    "duration": 16,
    "start_time": "2022-12-18T11:50:59.329Z"
   },
   {
    "duration": 9,
    "start_time": "2022-12-18T11:50:59.346Z"
   },
   {
    "duration": 5,
    "start_time": "2022-12-18T11:50:59.357Z"
   },
   {
    "duration": 11,
    "start_time": "2022-12-18T11:50:59.364Z"
   },
   {
    "duration": 5,
    "start_time": "2022-12-18T11:50:59.377Z"
   },
   {
    "duration": 27,
    "start_time": "2022-12-18T11:50:59.383Z"
   },
   {
    "duration": 33,
    "start_time": "2022-12-18T11:50:59.413Z"
   },
   {
    "duration": 5,
    "start_time": "2022-12-18T11:50:59.448Z"
   },
   {
    "duration": 14,
    "start_time": "2022-12-18T11:50:59.454Z"
   },
   {
    "duration": 39,
    "start_time": "2022-12-18T11:50:59.470Z"
   },
   {
    "duration": 408,
    "start_time": "2022-12-20T13:42:39.312Z"
   },
   {
    "duration": 74,
    "start_time": "2022-12-20T13:42:39.722Z"
   },
   {
    "duration": 19,
    "start_time": "2022-12-20T13:42:39.798Z"
   },
   {
    "duration": 13,
    "start_time": "2022-12-20T13:42:39.819Z"
   },
   {
    "duration": 5,
    "start_time": "2022-12-20T13:42:39.834Z"
   },
   {
    "duration": 22,
    "start_time": "2022-12-20T13:42:39.840Z"
   },
   {
    "duration": 6,
    "start_time": "2022-12-20T13:42:39.864Z"
   },
   {
    "duration": 12,
    "start_time": "2022-12-20T13:42:39.872Z"
   },
   {
    "duration": 23,
    "start_time": "2022-12-20T13:42:39.885Z"
   },
   {
    "duration": 5,
    "start_time": "2022-12-20T13:42:39.910Z"
   },
   {
    "duration": 17,
    "start_time": "2022-12-20T13:42:39.916Z"
   },
   {
    "duration": 703,
    "start_time": "2022-12-20T13:43:20.213Z"
   },
   {
    "duration": 10,
    "start_time": "2022-12-20T13:43:30.622Z"
   },
   {
    "duration": 12,
    "start_time": "2022-12-20T13:43:37.470Z"
   },
   {
    "duration": 18,
    "start_time": "2022-12-20T13:43:43.570Z"
   },
   {
    "duration": 4,
    "start_time": "2022-12-20T15:53:12.496Z"
   },
   {
    "duration": 1078,
    "start_time": "2022-12-21T13:23:35.581Z"
   },
   {
    "duration": 194,
    "start_time": "2022-12-21T13:23:36.661Z"
   },
   {
    "duration": 20,
    "start_time": "2022-12-21T13:23:36.859Z"
   },
   {
    "duration": 19,
    "start_time": "2022-12-21T13:23:36.881Z"
   },
   {
    "duration": 38,
    "start_time": "2022-12-21T13:23:36.901Z"
   },
   {
    "duration": 20,
    "start_time": "2022-12-21T13:23:36.941Z"
   },
   {
    "duration": 25,
    "start_time": "2022-12-21T13:23:36.963Z"
   },
   {
    "duration": 5,
    "start_time": "2022-12-21T13:23:36.990Z"
   },
   {
    "duration": 24,
    "start_time": "2022-12-21T13:23:36.997Z"
   },
   {
    "duration": 6,
    "start_time": "2022-12-21T13:23:37.023Z"
   },
   {
    "duration": 12,
    "start_time": "2022-12-21T13:23:37.030Z"
   },
   {
    "duration": 17,
    "start_time": "2022-12-21T13:23:37.043Z"
   },
   {
    "duration": 10,
    "start_time": "2022-12-21T13:24:51.523Z"
   },
   {
    "duration": 4,
    "start_time": "2022-12-21T13:24:56.242Z"
   },
   {
    "duration": 15,
    "start_time": "2022-12-21T13:27:21.723Z"
   },
   {
    "duration": 4,
    "start_time": "2022-12-21T13:27:30.927Z"
   },
   {
    "duration": 88,
    "start_time": "2022-12-21T13:34:21.937Z"
   },
   {
    "duration": 10,
    "start_time": "2022-12-21T13:38:39.776Z"
   },
   {
    "duration": 4,
    "start_time": "2022-12-21T13:39:02.409Z"
   },
   {
    "duration": 4,
    "start_time": "2022-12-21T13:39:05.722Z"
   },
   {
    "duration": 1055,
    "start_time": "2022-12-21T13:51:40.618Z"
   },
   {
    "duration": 30,
    "start_time": "2022-12-21T13:51:41.675Z"
   },
   {
    "duration": 17,
    "start_time": "2022-12-21T13:51:41.706Z"
   },
   {
    "duration": 8,
    "start_time": "2022-12-21T13:51:41.725Z"
   },
   {
    "duration": 6,
    "start_time": "2022-12-21T13:51:41.735Z"
   },
   {
    "duration": 12,
    "start_time": "2022-12-21T13:51:41.742Z"
   },
   {
    "duration": 5,
    "start_time": "2022-12-21T13:51:41.756Z"
   },
   {
    "duration": 18,
    "start_time": "2022-12-21T13:51:41.762Z"
   },
   {
    "duration": 21,
    "start_time": "2022-12-21T13:51:41.781Z"
   },
   {
    "duration": 5,
    "start_time": "2022-12-21T13:51:41.803Z"
   },
   {
    "duration": 8,
    "start_time": "2022-12-21T13:51:41.809Z"
   },
   {
    "duration": 8,
    "start_time": "2022-12-21T13:51:41.818Z"
   },
   {
    "duration": 8,
    "start_time": "2022-12-21T13:51:41.827Z"
   },
   {
    "duration": 8,
    "start_time": "2022-12-21T13:51:41.837Z"
   },
   {
    "duration": 9,
    "start_time": "2022-12-21T13:57:15.948Z"
   },
   {
    "duration": 5,
    "start_time": "2022-12-21T13:57:16.062Z"
   },
   {
    "duration": 9,
    "start_time": "2022-12-21T13:57:30.141Z"
   },
   {
    "duration": 3,
    "start_time": "2022-12-21T13:57:42.018Z"
   },
   {
    "duration": 13,
    "start_time": "2022-12-21T13:58:14.856Z"
   },
   {
    "duration": 10,
    "start_time": "2022-12-21T13:58:18.070Z"
   },
   {
    "duration": 5,
    "start_time": "2022-12-21T13:58:20.845Z"
   },
   {
    "duration": 4,
    "start_time": "2022-12-21T13:58:24.415Z"
   },
   {
    "duration": 9,
    "start_time": "2022-12-21T13:58:29.118Z"
   },
   {
    "duration": 1047,
    "start_time": "2022-12-21T16:04:54.020Z"
   },
   {
    "duration": 38,
    "start_time": "2022-12-21T16:04:55.070Z"
   },
   {
    "duration": 20,
    "start_time": "2022-12-21T16:04:55.110Z"
   },
   {
    "duration": 15,
    "start_time": "2022-12-21T16:04:55.132Z"
   },
   {
    "duration": 15,
    "start_time": "2022-12-21T16:04:55.149Z"
   },
   {
    "duration": 25,
    "start_time": "2022-12-21T16:04:55.166Z"
   },
   {
    "duration": 16,
    "start_time": "2022-12-21T16:04:55.193Z"
   },
   {
    "duration": 14,
    "start_time": "2022-12-21T16:04:55.211Z"
   },
   {
    "duration": 30,
    "start_time": "2022-12-21T16:04:55.227Z"
   },
   {
    "duration": 17,
    "start_time": "2022-12-21T16:04:55.259Z"
   },
   {
    "duration": 9,
    "start_time": "2022-12-21T16:04:55.278Z"
   },
   {
    "duration": 25,
    "start_time": "2022-12-21T16:04:55.289Z"
   },
   {
    "duration": 20,
    "start_time": "2022-12-21T16:04:55.317Z"
   },
   {
    "duration": 11,
    "start_time": "2022-12-21T16:04:55.339Z"
   },
   {
    "duration": 1090,
    "start_time": "2022-12-21T16:05:15.299Z"
   },
   {
    "duration": 46,
    "start_time": "2022-12-21T16:05:16.391Z"
   },
   {
    "duration": 19,
    "start_time": "2022-12-21T16:05:16.438Z"
   },
   {
    "duration": 8,
    "start_time": "2022-12-21T16:05:16.459Z"
   },
   {
    "duration": 15,
    "start_time": "2022-12-21T16:05:16.469Z"
   },
   {
    "duration": 15,
    "start_time": "2022-12-21T16:05:16.486Z"
   },
   {
    "duration": 5,
    "start_time": "2022-12-21T16:05:16.503Z"
   },
   {
    "duration": 16,
    "start_time": "2022-12-21T16:05:16.510Z"
   },
   {
    "duration": 26,
    "start_time": "2022-12-21T16:05:16.527Z"
   },
   {
    "duration": 5,
    "start_time": "2022-12-21T16:05:16.554Z"
   },
   {
    "duration": 15,
    "start_time": "2022-12-21T16:05:16.561Z"
   },
   {
    "duration": 4,
    "start_time": "2022-12-21T16:05:16.577Z"
   },
   {
    "duration": 6,
    "start_time": "2022-12-21T16:05:16.582Z"
   },
   {
    "duration": 8,
    "start_time": "2022-12-21T16:05:16.590Z"
   },
   {
    "duration": 41,
    "start_time": "2022-12-21T16:06:52.193Z"
   },
   {
    "duration": 1231,
    "start_time": "2022-12-21T16:06:55.255Z"
   },
   {
    "duration": 34,
    "start_time": "2022-12-21T16:06:56.489Z"
   },
   {
    "duration": 17,
    "start_time": "2022-12-21T16:06:56.525Z"
   },
   {
    "duration": 12,
    "start_time": "2022-12-21T16:06:56.544Z"
   },
   {
    "duration": 5,
    "start_time": "2022-12-21T16:06:56.558Z"
   },
   {
    "duration": 18,
    "start_time": "2022-12-21T16:06:56.565Z"
   },
   {
    "duration": 15,
    "start_time": "2022-12-21T16:06:56.585Z"
   },
   {
    "duration": 6,
    "start_time": "2022-12-21T16:06:56.602Z"
   },
   {
    "duration": 22,
    "start_time": "2022-12-21T16:06:56.609Z"
   },
   {
    "duration": 4,
    "start_time": "2022-12-21T16:06:56.633Z"
   },
   {
    "duration": 7,
    "start_time": "2022-12-21T16:06:56.638Z"
   },
   {
    "duration": 33,
    "start_time": "2022-12-21T16:06:56.646Z"
   },
   {
    "duration": 20,
    "start_time": "2022-12-21T16:06:56.681Z"
   },
   {
    "duration": 6,
    "start_time": "2022-12-21T16:06:56.703Z"
   },
   {
    "duration": 109,
    "start_time": "2022-12-21T16:09:42.944Z"
   },
   {
    "duration": 15,
    "start_time": "2022-12-21T16:10:07.338Z"
   },
   {
    "duration": 20,
    "start_time": "2022-12-21T16:10:39.751Z"
   },
   {
    "duration": 13,
    "start_time": "2022-12-21T16:11:01.944Z"
   },
   {
    "duration": 16,
    "start_time": "2022-12-21T16:11:24.725Z"
   },
   {
    "duration": 14,
    "start_time": "2022-12-21T16:12:51.422Z"
   },
   {
    "duration": 23,
    "start_time": "2022-12-21T16:12:59.429Z"
   },
   {
    "duration": 15,
    "start_time": "2022-12-21T16:13:27.574Z"
   },
   {
    "duration": 20,
    "start_time": "2022-12-21T16:13:35.045Z"
   },
   {
    "duration": 15,
    "start_time": "2022-12-21T16:13:42.833Z"
   },
   {
    "duration": 26,
    "start_time": "2022-12-21T16:14:03.336Z"
   },
   {
    "duration": 131,
    "start_time": "2022-12-21T16:14:44.084Z"
   },
   {
    "duration": 117,
    "start_time": "2022-12-21T16:14:50.264Z"
   },
   {
    "duration": 126,
    "start_time": "2022-12-21T16:14:53.473Z"
   },
   {
    "duration": 3,
    "start_time": "2022-12-21T16:15:50.694Z"
   },
   {
    "duration": 17,
    "start_time": "2022-12-21T16:15:58.285Z"
   },
   {
    "duration": 302,
    "start_time": "2022-12-21T16:16:25.164Z"
   },
   {
    "duration": 293,
    "start_time": "2022-12-21T16:16:29.470Z"
   },
   {
    "duration": 310,
    "start_time": "2022-12-21T16:16:34.029Z"
   },
   {
    "duration": 1066,
    "start_time": "2022-12-21T16:16:40.669Z"
   },
   {
    "duration": 31,
    "start_time": "2022-12-21T16:16:41.737Z"
   },
   {
    "duration": 15,
    "start_time": "2022-12-21T16:16:41.769Z"
   },
   {
    "duration": 9,
    "start_time": "2022-12-21T16:16:41.787Z"
   },
   {
    "duration": 19,
    "start_time": "2022-12-21T16:16:41.798Z"
   },
   {
    "duration": 26,
    "start_time": "2022-12-21T16:16:41.819Z"
   },
   {
    "duration": 12,
    "start_time": "2022-12-21T16:16:41.846Z"
   },
   {
    "duration": 6,
    "start_time": "2022-12-21T16:16:41.859Z"
   },
   {
    "duration": 23,
    "start_time": "2022-12-21T16:16:41.867Z"
   },
   {
    "duration": 5,
    "start_time": "2022-12-21T16:16:41.891Z"
   },
   {
    "duration": 13,
    "start_time": "2022-12-21T16:16:41.898Z"
   },
   {
    "duration": 14,
    "start_time": "2022-12-21T16:16:41.913Z"
   },
   {
    "duration": 6,
    "start_time": "2022-12-21T16:16:41.929Z"
   },
   {
    "duration": 7,
    "start_time": "2022-12-21T16:16:41.937Z"
   },
   {
    "duration": 102,
    "start_time": "2022-12-21T16:16:41.945Z"
   },
   {
    "duration": 290,
    "start_time": "2022-12-21T16:17:14.011Z"
   },
   {
    "duration": 292,
    "start_time": "2022-12-21T16:17:20.375Z"
   },
   {
    "duration": 293,
    "start_time": "2022-12-21T16:17:23.477Z"
   },
   {
    "duration": 1072,
    "start_time": "2022-12-21T16:17:28.245Z"
   },
   {
    "duration": 30,
    "start_time": "2022-12-21T16:17:29.319Z"
   },
   {
    "duration": 17,
    "start_time": "2022-12-21T16:17:29.351Z"
   },
   {
    "duration": 9,
    "start_time": "2022-12-21T16:17:29.369Z"
   },
   {
    "duration": 14,
    "start_time": "2022-12-21T16:17:29.381Z"
   },
   {
    "duration": 14,
    "start_time": "2022-12-21T16:17:29.396Z"
   },
   {
    "duration": 13,
    "start_time": "2022-12-21T16:17:29.412Z"
   },
   {
    "duration": 15,
    "start_time": "2022-12-21T16:17:29.426Z"
   },
   {
    "duration": 27,
    "start_time": "2022-12-21T16:17:29.443Z"
   },
   {
    "duration": 6,
    "start_time": "2022-12-21T16:17:29.471Z"
   },
   {
    "duration": 13,
    "start_time": "2022-12-21T16:17:29.478Z"
   },
   {
    "duration": 8,
    "start_time": "2022-12-21T16:17:29.493Z"
   },
   {
    "duration": 7,
    "start_time": "2022-12-21T16:17:29.503Z"
   },
   {
    "duration": 25,
    "start_time": "2022-12-21T16:17:29.514Z"
   },
   {
    "duration": 310,
    "start_time": "2022-12-21T16:17:29.541Z"
   },
   {
    "duration": 1059,
    "start_time": "2022-12-21T16:17:35.820Z"
   },
   {
    "duration": 30,
    "start_time": "2022-12-21T16:17:36.881Z"
   },
   {
    "duration": 16,
    "start_time": "2022-12-21T16:17:36.913Z"
   },
   {
    "duration": 16,
    "start_time": "2022-12-21T16:17:36.930Z"
   },
   {
    "duration": 12,
    "start_time": "2022-12-21T16:17:36.948Z"
   },
   {
    "duration": 18,
    "start_time": "2022-12-21T16:17:36.961Z"
   },
   {
    "duration": 17,
    "start_time": "2022-12-21T16:17:36.980Z"
   },
   {
    "duration": 8,
    "start_time": "2022-12-21T16:17:36.998Z"
   },
   {
    "duration": 35,
    "start_time": "2022-12-21T16:17:37.008Z"
   },
   {
    "duration": 9,
    "start_time": "2022-12-21T16:17:37.044Z"
   },
   {
    "duration": 22,
    "start_time": "2022-12-21T16:17:37.054Z"
   },
   {
    "duration": 16,
    "start_time": "2022-12-21T16:17:37.077Z"
   },
   {
    "duration": 18,
    "start_time": "2022-12-21T16:17:37.094Z"
   },
   {
    "duration": 15,
    "start_time": "2022-12-21T16:17:37.114Z"
   },
   {
    "duration": 335,
    "start_time": "2022-12-21T16:17:37.131Z"
   },
   {
    "duration": 1147,
    "start_time": "2022-12-21T16:17:43.967Z"
   },
   {
    "duration": 32,
    "start_time": "2022-12-21T16:17:45.116Z"
   },
   {
    "duration": 18,
    "start_time": "2022-12-21T16:17:45.149Z"
   },
   {
    "duration": 9,
    "start_time": "2022-12-21T16:17:45.169Z"
   },
   {
    "duration": 6,
    "start_time": "2022-12-21T16:17:45.179Z"
   },
   {
    "duration": 12,
    "start_time": "2022-12-21T16:17:45.186Z"
   },
   {
    "duration": 5,
    "start_time": "2022-12-21T16:17:45.200Z"
   },
   {
    "duration": 7,
    "start_time": "2022-12-21T16:17:45.206Z"
   },
   {
    "duration": 24,
    "start_time": "2022-12-21T16:17:45.214Z"
   },
   {
    "duration": 5,
    "start_time": "2022-12-21T16:17:45.240Z"
   },
   {
    "duration": 6,
    "start_time": "2022-12-21T16:17:45.276Z"
   },
   {
    "duration": 12,
    "start_time": "2022-12-21T16:17:45.283Z"
   },
   {
    "duration": 11,
    "start_time": "2022-12-21T16:17:45.297Z"
   },
   {
    "duration": 14,
    "start_time": "2022-12-21T16:17:45.310Z"
   },
   {
    "duration": 303,
    "start_time": "2022-12-21T16:17:45.326Z"
   },
   {
    "duration": 1091,
    "start_time": "2022-12-21T16:17:56.778Z"
   },
   {
    "duration": 31,
    "start_time": "2022-12-21T16:17:57.871Z"
   },
   {
    "duration": 19,
    "start_time": "2022-12-21T16:17:57.904Z"
   },
   {
    "duration": 11,
    "start_time": "2022-12-21T16:17:57.925Z"
   },
   {
    "duration": 13,
    "start_time": "2022-12-21T16:17:57.938Z"
   },
   {
    "duration": 25,
    "start_time": "2022-12-21T16:17:57.953Z"
   },
   {
    "duration": 28,
    "start_time": "2022-12-21T16:17:57.979Z"
   },
   {
    "duration": 30,
    "start_time": "2022-12-21T16:17:58.009Z"
   },
   {
    "duration": 24,
    "start_time": "2022-12-21T16:17:58.041Z"
   },
   {
    "duration": 5,
    "start_time": "2022-12-21T16:17:58.067Z"
   },
   {
    "duration": 27,
    "start_time": "2022-12-21T16:17:58.073Z"
   },
   {
    "duration": 18,
    "start_time": "2022-12-21T16:17:58.102Z"
   },
   {
    "duration": 5,
    "start_time": "2022-12-21T16:17:58.124Z"
   },
   {
    "duration": 10,
    "start_time": "2022-12-21T16:17:58.131Z"
   },
   {
    "duration": 299,
    "start_time": "2022-12-21T16:17:58.144Z"
   },
   {
    "duration": 1095,
    "start_time": "2022-12-21T16:18:40.450Z"
   },
   {
    "duration": 31,
    "start_time": "2022-12-21T16:18:41.548Z"
   },
   {
    "duration": 17,
    "start_time": "2022-12-21T16:18:41.580Z"
   },
   {
    "duration": 8,
    "start_time": "2022-12-21T16:18:41.599Z"
   },
   {
    "duration": 5,
    "start_time": "2022-12-21T16:18:41.610Z"
   },
   {
    "duration": 12,
    "start_time": "2022-12-21T16:18:41.617Z"
   },
   {
    "duration": 6,
    "start_time": "2022-12-21T16:18:41.630Z"
   },
   {
    "duration": 38,
    "start_time": "2022-12-21T16:18:41.638Z"
   },
   {
    "duration": 23,
    "start_time": "2022-12-21T16:18:41.678Z"
   },
   {
    "duration": 6,
    "start_time": "2022-12-21T16:18:41.703Z"
   },
   {
    "duration": 10,
    "start_time": "2022-12-21T16:18:41.710Z"
   },
   {
    "duration": 5,
    "start_time": "2022-12-21T16:18:41.722Z"
   },
   {
    "duration": 5,
    "start_time": "2022-12-21T16:18:41.730Z"
   },
   {
    "duration": 9,
    "start_time": "2022-12-21T16:18:41.738Z"
   },
   {
    "duration": 408,
    "start_time": "2022-12-21T16:18:41.749Z"
   },
   {
    "duration": 1102,
    "start_time": "2022-12-21T16:18:48.136Z"
   },
   {
    "duration": 32,
    "start_time": "2022-12-21T16:18:49.240Z"
   },
   {
    "duration": 20,
    "start_time": "2022-12-21T16:18:49.274Z"
   },
   {
    "duration": 11,
    "start_time": "2022-12-21T16:18:49.296Z"
   },
   {
    "duration": 6,
    "start_time": "2022-12-21T16:18:49.309Z"
   },
   {
    "duration": 14,
    "start_time": "2022-12-21T16:18:49.317Z"
   },
   {
    "duration": 5,
    "start_time": "2022-12-21T16:18:49.332Z"
   },
   {
    "duration": 7,
    "start_time": "2022-12-21T16:18:49.339Z"
   },
   {
    "duration": 49,
    "start_time": "2022-12-21T16:18:49.348Z"
   },
   {
    "duration": 5,
    "start_time": "2022-12-21T16:18:49.399Z"
   },
   {
    "duration": 8,
    "start_time": "2022-12-21T16:18:49.406Z"
   },
   {
    "duration": 4,
    "start_time": "2022-12-21T16:18:49.416Z"
   },
   {
    "duration": 5,
    "start_time": "2022-12-21T16:18:49.422Z"
   },
   {
    "duration": 7,
    "start_time": "2022-12-21T16:18:49.430Z"
   },
   {
    "duration": 344,
    "start_time": "2022-12-21T16:18:49.438Z"
   },
   {
    "duration": 314,
    "start_time": "2022-12-21T16:19:14.176Z"
   },
   {
    "duration": 328,
    "start_time": "2022-12-21T16:19:18.572Z"
   },
   {
    "duration": 333,
    "start_time": "2022-12-21T16:19:33.413Z"
   },
   {
    "duration": 992,
    "start_time": "2022-12-21T16:19:49.425Z"
   },
   {
    "duration": 31,
    "start_time": "2022-12-21T16:19:50.418Z"
   },
   {
    "duration": 15,
    "start_time": "2022-12-21T16:19:50.450Z"
   },
   {
    "duration": 21,
    "start_time": "2022-12-21T16:19:50.467Z"
   },
   {
    "duration": 16,
    "start_time": "2022-12-21T16:19:50.490Z"
   },
   {
    "duration": 36,
    "start_time": "2022-12-21T16:19:50.507Z"
   },
   {
    "duration": 15,
    "start_time": "2022-12-21T16:19:50.544Z"
   },
   {
    "duration": 18,
    "start_time": "2022-12-21T16:19:50.561Z"
   },
   {
    "duration": 31,
    "start_time": "2022-12-21T16:19:50.580Z"
   },
   {
    "duration": 5,
    "start_time": "2022-12-21T16:19:50.612Z"
   },
   {
    "duration": 7,
    "start_time": "2022-12-21T16:19:50.619Z"
   },
   {
    "duration": 7,
    "start_time": "2022-12-21T16:19:50.627Z"
   },
   {
    "duration": 11,
    "start_time": "2022-12-21T16:19:50.635Z"
   },
   {
    "duration": 7,
    "start_time": "2022-12-21T16:19:50.648Z"
   },
   {
    "duration": 642,
    "start_time": "2022-12-21T16:19:50.657Z"
   },
   {
    "duration": 52,
    "start_time": "2022-12-21T16:20:17.836Z"
   },
   {
    "duration": 14,
    "start_time": "2022-12-21T16:20:45.662Z"
   },
   {
    "duration": 30,
    "start_time": "2022-12-21T16:20:45.787Z"
   },
   {
    "duration": 9,
    "start_time": "2022-12-21T16:20:45.889Z"
   },
   {
    "duration": 10,
    "start_time": "2022-12-21T16:20:46.002Z"
   },
   {
    "duration": 3,
    "start_time": "2022-12-21T16:20:46.114Z"
   },
   {
    "duration": 11,
    "start_time": "2022-12-21T16:20:46.229Z"
   },
   {
    "duration": 7,
    "start_time": "2022-12-21T16:20:46.350Z"
   },
   {
    "duration": 1088,
    "start_time": "2022-12-21T16:20:49.149Z"
   },
   {
    "duration": 30,
    "start_time": "2022-12-21T16:20:50.239Z"
   },
   {
    "duration": 21,
    "start_time": "2022-12-21T16:20:50.271Z"
   },
   {
    "duration": 35,
    "start_time": "2022-12-21T16:20:50.293Z"
   },
   {
    "duration": 19,
    "start_time": "2022-12-21T16:20:50.331Z"
   },
   {
    "duration": 37,
    "start_time": "2022-12-21T16:20:50.351Z"
   },
   {
    "duration": 27,
    "start_time": "2022-12-21T16:20:50.390Z"
   },
   {
    "duration": 50,
    "start_time": "2022-12-21T16:20:50.419Z"
   },
   {
    "duration": 63,
    "start_time": "2022-12-21T16:20:50.471Z"
   },
   {
    "duration": 45,
    "start_time": "2022-12-21T16:20:50.536Z"
   },
   {
    "duration": 48,
    "start_time": "2022-12-21T16:20:50.583Z"
   },
   {
    "duration": 27,
    "start_time": "2022-12-21T16:20:50.632Z"
   },
   {
    "duration": 31,
    "start_time": "2022-12-21T16:20:50.661Z"
   },
   {
    "duration": 34,
    "start_time": "2022-12-21T16:20:50.694Z"
   },
   {
    "duration": 657,
    "start_time": "2022-12-21T16:20:50.730Z"
   },
   {
    "duration": 8363,
    "start_time": "2022-12-21T16:22:51.787Z"
   },
   {
    "duration": 49,
    "start_time": "2022-12-21T16:28:17.065Z"
   },
   {
    "duration": 1072,
    "start_time": "2022-12-21T16:36:21.869Z"
   },
   {
    "duration": 31,
    "start_time": "2022-12-21T16:36:22.943Z"
   },
   {
    "duration": 16,
    "start_time": "2022-12-21T16:36:22.975Z"
   },
   {
    "duration": 10,
    "start_time": "2022-12-21T16:36:22.993Z"
   },
   {
    "duration": 6,
    "start_time": "2022-12-21T16:36:23.005Z"
   },
   {
    "duration": 14,
    "start_time": "2022-12-21T16:36:23.013Z"
   },
   {
    "duration": 5,
    "start_time": "2022-12-21T16:36:23.029Z"
   },
   {
    "duration": 9,
    "start_time": "2022-12-21T16:36:23.035Z"
   },
   {
    "duration": 47,
    "start_time": "2022-12-21T16:36:23.045Z"
   },
   {
    "duration": 4,
    "start_time": "2022-12-21T16:36:23.094Z"
   },
   {
    "duration": 11,
    "start_time": "2022-12-21T16:36:23.100Z"
   },
   {
    "duration": 13,
    "start_time": "2022-12-21T16:36:23.112Z"
   },
   {
    "duration": 13,
    "start_time": "2022-12-21T16:36:23.126Z"
   },
   {
    "duration": 9,
    "start_time": "2022-12-21T16:36:23.141Z"
   },
   {
    "duration": 660,
    "start_time": "2022-12-21T16:36:23.152Z"
   },
   {
    "duration": 54905,
    "start_time": "2022-12-21T16:36:23.814Z"
   },
   {
    "duration": 1108,
    "start_time": "2022-12-21T16:37:29.667Z"
   },
   {
    "duration": 43,
    "start_time": "2022-12-21T16:37:30.779Z"
   },
   {
    "duration": 20,
    "start_time": "2022-12-21T16:37:30.824Z"
   },
   {
    "duration": 55,
    "start_time": "2022-12-21T16:37:30.846Z"
   },
   {
    "duration": 15,
    "start_time": "2022-12-21T16:37:30.903Z"
   },
   {
    "duration": 39,
    "start_time": "2022-12-21T16:37:30.920Z"
   },
   {
    "duration": 32,
    "start_time": "2022-12-21T16:37:30.961Z"
   },
   {
    "duration": 25,
    "start_time": "2022-12-21T16:37:30.995Z"
   },
   {
    "duration": 38,
    "start_time": "2022-12-21T16:37:31.021Z"
   },
   {
    "duration": 4,
    "start_time": "2022-12-21T16:37:31.061Z"
   },
   {
    "duration": 17,
    "start_time": "2022-12-21T16:37:31.067Z"
   },
   {
    "duration": 24,
    "start_time": "2022-12-21T16:37:31.087Z"
   },
   {
    "duration": 16,
    "start_time": "2022-12-21T16:37:31.113Z"
   },
   {
    "duration": 10,
    "start_time": "2022-12-21T16:37:31.132Z"
   },
   {
    "duration": 709,
    "start_time": "2022-12-21T16:37:31.144Z"
   },
   {
    "duration": 124,
    "start_time": "2022-12-21T16:37:31.854Z"
   },
   {
    "duration": 54,
    "start_time": "2022-12-21T16:38:29.022Z"
   },
   {
    "duration": 1107,
    "start_time": "2022-12-21T16:38:43.386Z"
   },
   {
    "duration": 34,
    "start_time": "2022-12-21T16:38:44.495Z"
   },
   {
    "duration": 20,
    "start_time": "2022-12-21T16:38:44.531Z"
   },
   {
    "duration": 9,
    "start_time": "2022-12-21T16:38:44.552Z"
   },
   {
    "duration": 5,
    "start_time": "2022-12-21T16:38:44.562Z"
   },
   {
    "duration": 15,
    "start_time": "2022-12-21T16:38:44.568Z"
   },
   {
    "duration": 14,
    "start_time": "2022-12-21T16:38:44.585Z"
   },
   {
    "duration": 7,
    "start_time": "2022-12-21T16:38:44.600Z"
   },
   {
    "duration": 21,
    "start_time": "2022-12-21T16:38:44.608Z"
   },
   {
    "duration": 5,
    "start_time": "2022-12-21T16:38:44.631Z"
   },
   {
    "duration": 5,
    "start_time": "2022-12-21T16:38:44.637Z"
   },
   {
    "duration": 4,
    "start_time": "2022-12-21T16:38:44.644Z"
   },
   {
    "duration": 27,
    "start_time": "2022-12-21T16:38:44.649Z"
   },
   {
    "duration": 7,
    "start_time": "2022-12-21T16:38:44.678Z"
   },
   {
    "duration": 796,
    "start_time": "2022-12-21T16:38:44.687Z"
   },
   {
    "duration": 1199,
    "start_time": "2022-12-21T16:40:05.801Z"
   },
   {
    "duration": 36,
    "start_time": "2022-12-21T16:40:07.005Z"
   },
   {
    "duration": 23,
    "start_time": "2022-12-21T16:40:07.043Z"
   },
   {
    "duration": 11,
    "start_time": "2022-12-21T16:40:07.068Z"
   },
   {
    "duration": 16,
    "start_time": "2022-12-21T16:40:07.082Z"
   },
   {
    "duration": 26,
    "start_time": "2022-12-21T16:40:07.100Z"
   },
   {
    "duration": 10,
    "start_time": "2022-12-21T16:40:07.128Z"
   },
   {
    "duration": 18,
    "start_time": "2022-12-21T16:40:07.139Z"
   },
   {
    "duration": 32,
    "start_time": "2022-12-21T16:40:07.159Z"
   },
   {
    "duration": 7,
    "start_time": "2022-12-21T16:40:07.194Z"
   },
   {
    "duration": 7,
    "start_time": "2022-12-21T16:40:07.203Z"
   },
   {
    "duration": 7,
    "start_time": "2022-12-21T16:40:07.212Z"
   },
   {
    "duration": 10,
    "start_time": "2022-12-21T16:40:07.221Z"
   },
   {
    "duration": 11,
    "start_time": "2022-12-21T16:40:07.235Z"
   },
   {
    "duration": 775,
    "start_time": "2022-12-21T16:40:07.276Z"
   },
   {
    "duration": 1116,
    "start_time": "2022-12-21T16:41:40.173Z"
   },
   {
    "duration": 31,
    "start_time": "2022-12-21T16:41:41.292Z"
   },
   {
    "duration": 15,
    "start_time": "2022-12-21T16:41:41.325Z"
   },
   {
    "duration": 9,
    "start_time": "2022-12-21T16:41:41.341Z"
   },
   {
    "duration": 12,
    "start_time": "2022-12-21T16:41:41.352Z"
   },
   {
    "duration": 16,
    "start_time": "2022-12-21T16:41:41.366Z"
   },
   {
    "duration": 6,
    "start_time": "2022-12-21T16:41:41.383Z"
   },
   {
    "duration": 8,
    "start_time": "2022-12-21T16:41:41.391Z"
   },
   {
    "duration": 25,
    "start_time": "2022-12-21T16:41:41.402Z"
   },
   {
    "duration": 4,
    "start_time": "2022-12-21T16:41:41.429Z"
   },
   {
    "duration": 12,
    "start_time": "2022-12-21T16:41:41.434Z"
   },
   {
    "duration": 6,
    "start_time": "2022-12-21T16:41:41.447Z"
   },
   {
    "duration": 23,
    "start_time": "2022-12-21T16:41:41.454Z"
   },
   {
    "duration": 6,
    "start_time": "2022-12-21T16:41:41.481Z"
   },
   {
    "duration": 700,
    "start_time": "2022-12-21T16:41:41.490Z"
   },
   {
    "duration": 5262,
    "start_time": "2022-12-21T16:41:42.191Z"
   },
   {
    "duration": 1122,
    "start_time": "2022-12-21T16:42:21.001Z"
   },
   {
    "duration": 31,
    "start_time": "2022-12-21T16:42:22.126Z"
   },
   {
    "duration": 24,
    "start_time": "2022-12-21T16:42:22.161Z"
   },
   {
    "duration": 29,
    "start_time": "2022-12-21T16:42:22.188Z"
   },
   {
    "duration": 14,
    "start_time": "2022-12-21T16:42:22.219Z"
   },
   {
    "duration": 16,
    "start_time": "2022-12-21T16:42:22.234Z"
   },
   {
    "duration": 12,
    "start_time": "2022-12-21T16:42:22.251Z"
   },
   {
    "duration": 23,
    "start_time": "2022-12-21T16:42:22.265Z"
   },
   {
    "duration": 25,
    "start_time": "2022-12-21T16:42:22.289Z"
   },
   {
    "duration": 5,
    "start_time": "2022-12-21T16:42:22.316Z"
   },
   {
    "duration": 25,
    "start_time": "2022-12-21T16:42:22.322Z"
   },
   {
    "duration": 9,
    "start_time": "2022-12-21T16:42:22.349Z"
   },
   {
    "duration": 10,
    "start_time": "2022-12-21T16:42:22.361Z"
   },
   {
    "duration": 10,
    "start_time": "2022-12-21T16:42:22.372Z"
   },
   {
    "duration": 739,
    "start_time": "2022-12-21T16:42:22.383Z"
   },
   {
    "duration": 1151,
    "start_time": "2022-12-21T16:44:28.074Z"
   },
   {
    "duration": 30,
    "start_time": "2022-12-21T16:44:29.228Z"
   },
   {
    "duration": 16,
    "start_time": "2022-12-21T16:44:29.259Z"
   },
   {
    "duration": 25,
    "start_time": "2022-12-21T16:44:29.277Z"
   },
   {
    "duration": 5,
    "start_time": "2022-12-21T16:44:29.306Z"
   },
   {
    "duration": 12,
    "start_time": "2022-12-21T16:44:29.313Z"
   },
   {
    "duration": 6,
    "start_time": "2022-12-21T16:44:29.327Z"
   },
   {
    "duration": 6,
    "start_time": "2022-12-21T16:44:29.335Z"
   },
   {
    "duration": 58,
    "start_time": "2022-12-21T16:44:29.342Z"
   },
   {
    "duration": 5,
    "start_time": "2022-12-21T16:44:29.401Z"
   },
   {
    "duration": 10,
    "start_time": "2022-12-21T16:44:29.408Z"
   },
   {
    "duration": 8,
    "start_time": "2022-12-21T16:44:29.419Z"
   },
   {
    "duration": 8,
    "start_time": "2022-12-21T16:44:29.429Z"
   },
   {
    "duration": 7,
    "start_time": "2022-12-21T16:44:29.439Z"
   },
   {
    "duration": 761,
    "start_time": "2022-12-21T16:44:29.447Z"
   },
   {
    "duration": 1125,
    "start_time": "2022-12-21T16:44:37.749Z"
   },
   {
    "duration": 31,
    "start_time": "2022-12-21T16:44:38.876Z"
   },
   {
    "duration": 136,
    "start_time": "2022-12-21T16:44:38.908Z"
   },
   {
    "duration": 8,
    "start_time": "2022-12-21T16:44:39.046Z"
   },
   {
    "duration": 8,
    "start_time": "2022-12-21T16:44:39.056Z"
   },
   {
    "duration": 12,
    "start_time": "2022-12-21T16:44:39.065Z"
   },
   {
    "duration": 5,
    "start_time": "2022-12-21T16:44:39.079Z"
   },
   {
    "duration": 9,
    "start_time": "2022-12-21T16:44:39.085Z"
   },
   {
    "duration": 23,
    "start_time": "2022-12-21T16:44:39.095Z"
   },
   {
    "duration": 4,
    "start_time": "2022-12-21T16:44:39.120Z"
   },
   {
    "duration": 13,
    "start_time": "2022-12-21T16:44:39.126Z"
   },
   {
    "duration": 4,
    "start_time": "2022-12-21T16:44:39.141Z"
   },
   {
    "duration": 31,
    "start_time": "2022-12-21T16:44:39.147Z"
   },
   {
    "duration": 6,
    "start_time": "2022-12-21T16:44:39.181Z"
   },
   {
    "duration": 666,
    "start_time": "2022-12-21T16:44:39.189Z"
   },
   {
    "duration": 1133,
    "start_time": "2022-12-21T16:46:53.851Z"
   },
   {
    "duration": 31,
    "start_time": "2022-12-21T16:46:54.986Z"
   },
   {
    "duration": 15,
    "start_time": "2022-12-21T16:46:55.019Z"
   },
   {
    "duration": 12,
    "start_time": "2022-12-21T16:46:55.036Z"
   },
   {
    "duration": 7,
    "start_time": "2022-12-21T16:46:55.049Z"
   },
   {
    "duration": 12,
    "start_time": "2022-12-21T16:46:55.058Z"
   },
   {
    "duration": 5,
    "start_time": "2022-12-21T16:46:55.076Z"
   },
   {
    "duration": 12,
    "start_time": "2022-12-21T16:46:55.082Z"
   },
   {
    "duration": 47,
    "start_time": "2022-12-21T16:46:55.095Z"
   },
   {
    "duration": 8,
    "start_time": "2022-12-21T16:46:55.144Z"
   },
   {
    "duration": 8,
    "start_time": "2022-12-21T16:46:55.157Z"
   },
   {
    "duration": 8,
    "start_time": "2022-12-21T16:46:55.167Z"
   },
   {
    "duration": 23,
    "start_time": "2022-12-21T16:46:55.178Z"
   },
   {
    "duration": 17,
    "start_time": "2022-12-21T16:46:55.203Z"
   },
   {
    "duration": 733,
    "start_time": "2022-12-21T16:46:55.222Z"
   },
   {
    "duration": 1083,
    "start_time": "2022-12-21T16:47:52.312Z"
   },
   {
    "duration": 30,
    "start_time": "2022-12-21T16:47:53.397Z"
   },
   {
    "duration": 19,
    "start_time": "2022-12-21T16:47:53.429Z"
   },
   {
    "duration": 21,
    "start_time": "2022-12-21T16:47:53.450Z"
   },
   {
    "duration": 34,
    "start_time": "2022-12-21T16:47:53.474Z"
   },
   {
    "duration": 43,
    "start_time": "2022-12-21T16:47:53.509Z"
   },
   {
    "duration": 36,
    "start_time": "2022-12-21T16:47:53.554Z"
   },
   {
    "duration": 36,
    "start_time": "2022-12-21T16:47:53.591Z"
   },
   {
    "duration": 36,
    "start_time": "2022-12-21T16:47:53.629Z"
   },
   {
    "duration": 12,
    "start_time": "2022-12-21T16:47:53.667Z"
   },
   {
    "duration": 22,
    "start_time": "2022-12-21T16:47:53.681Z"
   },
   {
    "duration": 33,
    "start_time": "2022-12-21T16:47:53.705Z"
   },
   {
    "duration": 36,
    "start_time": "2022-12-21T16:47:53.740Z"
   },
   {
    "duration": 24,
    "start_time": "2022-12-21T16:47:53.778Z"
   },
   {
    "duration": 681,
    "start_time": "2022-12-21T16:47:53.804Z"
   },
   {
    "duration": 1169,
    "start_time": "2022-12-21T16:48:46.544Z"
   },
   {
    "duration": 32,
    "start_time": "2022-12-21T16:48:47.715Z"
   },
   {
    "duration": 17,
    "start_time": "2022-12-21T16:48:47.748Z"
   },
   {
    "duration": 9,
    "start_time": "2022-12-21T16:48:47.767Z"
   },
   {
    "duration": 7,
    "start_time": "2022-12-21T16:48:47.778Z"
   },
   {
    "duration": 22,
    "start_time": "2022-12-21T16:48:47.786Z"
   },
   {
    "duration": 8,
    "start_time": "2022-12-21T16:48:47.810Z"
   },
   {
    "duration": 8,
    "start_time": "2022-12-21T16:48:47.820Z"
   },
   {
    "duration": 23,
    "start_time": "2022-12-21T16:48:47.830Z"
   },
   {
    "duration": 24,
    "start_time": "2022-12-21T16:48:47.855Z"
   },
   {
    "duration": 12,
    "start_time": "2022-12-21T16:48:47.881Z"
   },
   {
    "duration": 6,
    "start_time": "2022-12-21T16:48:47.894Z"
   },
   {
    "duration": 6,
    "start_time": "2022-12-21T16:48:47.902Z"
   },
   {
    "duration": 8,
    "start_time": "2022-12-21T16:48:47.910Z"
   },
   {
    "duration": 721,
    "start_time": "2022-12-21T16:48:47.919Z"
   },
   {
    "duration": 12919,
    "start_time": "2022-12-21T16:48:48.641Z"
   },
   {
    "duration": 3,
    "start_time": "2022-12-21T16:51:22.115Z"
   },
   {
    "duration": 39,
    "start_time": "2022-12-21T16:52:00.346Z"
   },
   {
    "duration": 1021,
    "start_time": "2022-12-21T16:52:43.829Z"
   },
   {
    "duration": 31,
    "start_time": "2022-12-21T16:52:44.851Z"
   },
   {
    "duration": 21,
    "start_time": "2022-12-21T16:52:44.884Z"
   },
   {
    "duration": 54,
    "start_time": "2022-12-21T16:52:44.907Z"
   },
   {
    "duration": 10,
    "start_time": "2022-12-21T16:52:44.964Z"
   },
   {
    "duration": 52,
    "start_time": "2022-12-21T16:52:44.976Z"
   },
   {
    "duration": 23,
    "start_time": "2022-12-21T16:52:45.030Z"
   },
   {
    "duration": 33,
    "start_time": "2022-12-21T16:52:45.055Z"
   },
   {
    "duration": 84,
    "start_time": "2022-12-21T16:52:45.090Z"
   },
   {
    "duration": 18,
    "start_time": "2022-12-21T16:52:45.177Z"
   },
   {
    "duration": 29,
    "start_time": "2022-12-21T16:52:45.197Z"
   },
   {
    "duration": 44,
    "start_time": "2022-12-21T16:52:45.227Z"
   },
   {
    "duration": 33,
    "start_time": "2022-12-21T16:52:45.272Z"
   },
   {
    "duration": 29,
    "start_time": "2022-12-21T16:52:45.308Z"
   },
   {
    "duration": 681,
    "start_time": "2022-12-21T16:52:45.339Z"
   },
   {
    "duration": 23849,
    "start_time": "2022-12-21T16:52:46.022Z"
   },
   {
    "duration": 42,
    "start_time": "2022-12-21T16:53:09.873Z"
   },
   {
    "duration": 42,
    "start_time": "2022-12-21T16:54:49.358Z"
   },
   {
    "duration": 142,
    "start_time": "2022-12-21T16:55:03.007Z"
   },
   {
    "duration": 4,
    "start_time": "2022-12-21T16:55:07.321Z"
   },
   {
    "duration": 42,
    "start_time": "2022-12-21T16:55:09.796Z"
   },
   {
    "duration": 1011,
    "start_time": "2022-12-21T16:56:17.225Z"
   },
   {
    "duration": 31,
    "start_time": "2022-12-21T16:56:18.238Z"
   },
   {
    "duration": 16,
    "start_time": "2022-12-21T16:56:18.270Z"
   },
   {
    "duration": 9,
    "start_time": "2022-12-21T16:56:18.287Z"
   },
   {
    "duration": 6,
    "start_time": "2022-12-21T16:56:18.297Z"
   },
   {
    "duration": 16,
    "start_time": "2022-12-21T16:56:18.304Z"
   },
   {
    "duration": 9,
    "start_time": "2022-12-21T16:56:18.322Z"
   },
   {
    "duration": 9,
    "start_time": "2022-12-21T16:56:18.332Z"
   },
   {
    "duration": 55,
    "start_time": "2022-12-21T16:56:18.342Z"
   },
   {
    "duration": 5,
    "start_time": "2022-12-21T16:56:18.399Z"
   },
   {
    "duration": 11,
    "start_time": "2022-12-21T16:56:18.405Z"
   },
   {
    "duration": 5,
    "start_time": "2022-12-21T16:56:18.417Z"
   },
   {
    "duration": 6,
    "start_time": "2022-12-21T16:56:18.423Z"
   },
   {
    "duration": 8,
    "start_time": "2022-12-21T16:56:18.431Z"
   },
   {
    "duration": 768,
    "start_time": "2022-12-21T16:56:18.440Z"
   },
   {
    "duration": 34470,
    "start_time": "2022-12-21T16:56:19.210Z"
   },
   {
    "duration": 41,
    "start_time": "2022-12-21T16:56:53.682Z"
   },
   {
    "duration": 14,
    "start_time": "2022-12-21T17:59:29.036Z"
   },
   {
    "duration": 16,
    "start_time": "2022-12-21T18:00:29.374Z"
   },
   {
    "duration": 14,
    "start_time": "2022-12-21T18:01:12.849Z"
   },
   {
    "duration": 14,
    "start_time": "2022-12-21T18:01:30.958Z"
   },
   {
    "duration": 1123,
    "start_time": "2022-12-21T18:01:34.979Z"
   },
   {
    "duration": 32,
    "start_time": "2022-12-21T18:01:36.104Z"
   },
   {
    "duration": 19,
    "start_time": "2022-12-21T18:01:36.138Z"
   },
   {
    "duration": 9,
    "start_time": "2022-12-21T18:01:36.158Z"
   },
   {
    "duration": 4,
    "start_time": "2022-12-21T18:01:36.170Z"
   },
   {
    "duration": 15,
    "start_time": "2022-12-21T18:01:36.176Z"
   },
   {
    "duration": 7,
    "start_time": "2022-12-21T18:01:36.192Z"
   },
   {
    "duration": 7,
    "start_time": "2022-12-21T18:01:36.201Z"
   },
   {
    "duration": 27,
    "start_time": "2022-12-21T18:01:36.209Z"
   },
   {
    "duration": 6,
    "start_time": "2022-12-21T18:01:36.237Z"
   },
   {
    "duration": 36,
    "start_time": "2022-12-21T18:01:36.244Z"
   },
   {
    "duration": 11,
    "start_time": "2022-12-21T18:01:36.282Z"
   },
   {
    "duration": 5,
    "start_time": "2022-12-21T18:01:36.295Z"
   },
   {
    "duration": 6,
    "start_time": "2022-12-21T18:01:36.303Z"
   },
   {
    "duration": 766,
    "start_time": "2022-12-21T18:01:36.310Z"
   },
   {
    "duration": 35116,
    "start_time": "2022-12-21T18:01:37.078Z"
   },
   {
    "duration": 41,
    "start_time": "2022-12-21T18:02:12.196Z"
   },
   {
    "duration": 37,
    "start_time": "2022-12-21T18:02:12.239Z"
   },
   {
    "duration": 7,
    "start_time": "2022-12-21T18:03:19.058Z"
   },
   {
    "duration": 10,
    "start_time": "2022-12-21T18:03:57.815Z"
   },
   {
    "duration": 113,
    "start_time": "2022-12-21T18:05:35.672Z"
   },
   {
    "duration": 41,
    "start_time": "2022-12-21T18:05:45.358Z"
   },
   {
    "duration": 7,
    "start_time": "2022-12-21T18:05:45.401Z"
   },
   {
    "duration": 4,
    "start_time": "2022-12-21T18:09:11.617Z"
   },
   {
    "duration": 6,
    "start_time": "2022-12-21T19:42:12.277Z"
   },
   {
    "duration": 8,
    "start_time": "2022-12-21T19:42:49.233Z"
   },
   {
    "duration": 6,
    "start_time": "2022-12-21T19:43:03.741Z"
   },
   {
    "duration": 7,
    "start_time": "2022-12-21T19:43:24.710Z"
   },
   {
    "duration": 6,
    "start_time": "2022-12-21T19:43:45.222Z"
   },
   {
    "duration": 5,
    "start_time": "2022-12-21T19:44:24.741Z"
   },
   {
    "duration": 1024,
    "start_time": "2022-12-21T19:44:28.633Z"
   },
   {
    "duration": 30,
    "start_time": "2022-12-21T19:44:29.659Z"
   },
   {
    "duration": 15,
    "start_time": "2022-12-21T19:44:29.691Z"
   },
   {
    "duration": 9,
    "start_time": "2022-12-21T19:44:29.708Z"
   },
   {
    "duration": 5,
    "start_time": "2022-12-21T19:44:29.719Z"
   },
   {
    "duration": 13,
    "start_time": "2022-12-21T19:44:29.725Z"
   },
   {
    "duration": 6,
    "start_time": "2022-12-21T19:44:29.740Z"
   },
   {
    "duration": 13,
    "start_time": "2022-12-21T19:44:29.748Z"
   },
   {
    "duration": 22,
    "start_time": "2022-12-21T19:44:29.777Z"
   },
   {
    "duration": 4,
    "start_time": "2022-12-21T19:44:29.801Z"
   },
   {
    "duration": 8,
    "start_time": "2022-12-21T19:44:29.806Z"
   },
   {
    "duration": 5,
    "start_time": "2022-12-21T19:44:29.815Z"
   },
   {
    "duration": 7,
    "start_time": "2022-12-21T19:44:29.821Z"
   },
   {
    "duration": 6,
    "start_time": "2022-12-21T19:44:29.830Z"
   },
   {
    "duration": 703,
    "start_time": "2022-12-21T19:44:29.837Z"
   },
   {
    "duration": 35756,
    "start_time": "2022-12-21T19:44:30.542Z"
   },
   {
    "duration": 49,
    "start_time": "2022-12-21T19:45:06.300Z"
   },
   {
    "duration": 25,
    "start_time": "2022-12-21T19:45:06.351Z"
   },
   {
    "duration": 10,
    "start_time": "2022-12-21T19:45:06.378Z"
   },
   {
    "duration": 13,
    "start_time": "2022-12-21T19:45:06.390Z"
   },
   {
    "duration": 10,
    "start_time": "2022-12-21T19:45:06.405Z"
   },
   {
    "duration": 6,
    "start_time": "2022-12-21T19:45:24.067Z"
   },
   {
    "duration": 6,
    "start_time": "2022-12-21T19:46:14.087Z"
   },
   {
    "duration": 6,
    "start_time": "2022-12-21T19:46:21.927Z"
   },
   {
    "duration": 105,
    "start_time": "2022-12-21T19:46:31.138Z"
   },
   {
    "duration": 5,
    "start_time": "2022-12-21T19:46:39.563Z"
   },
   {
    "duration": 7,
    "start_time": "2022-12-21T19:47:21.355Z"
   },
   {
    "duration": 6,
    "start_time": "2022-12-21T19:47:22.502Z"
   },
   {
    "duration": 5,
    "start_time": "2022-12-21T19:47:23.366Z"
   },
   {
    "duration": 1088,
    "start_time": "2022-12-21T19:47:37.500Z"
   },
   {
    "duration": 31,
    "start_time": "2022-12-21T19:47:38.590Z"
   },
   {
    "duration": 17,
    "start_time": "2022-12-21T19:47:38.623Z"
   },
   {
    "duration": 20,
    "start_time": "2022-12-21T19:47:38.642Z"
   },
   {
    "duration": 10,
    "start_time": "2022-12-21T19:47:38.664Z"
   },
   {
    "duration": 18,
    "start_time": "2022-12-21T19:47:38.676Z"
   },
   {
    "duration": 8,
    "start_time": "2022-12-21T19:47:38.696Z"
   },
   {
    "duration": 14,
    "start_time": "2022-12-21T19:47:38.706Z"
   },
   {
    "duration": 35,
    "start_time": "2022-12-21T19:47:38.722Z"
   },
   {
    "duration": 5,
    "start_time": "2022-12-21T19:47:38.776Z"
   },
   {
    "duration": 9,
    "start_time": "2022-12-21T19:47:38.782Z"
   },
   {
    "duration": 5,
    "start_time": "2022-12-21T19:47:38.793Z"
   },
   {
    "duration": 5,
    "start_time": "2022-12-21T19:47:38.800Z"
   },
   {
    "duration": 5,
    "start_time": "2022-12-21T19:47:38.807Z"
   },
   {
    "duration": 712,
    "start_time": "2022-12-21T19:47:38.814Z"
   },
   {
    "duration": 998,
    "start_time": "2022-12-21T19:49:41.633Z"
   },
   {
    "duration": 33,
    "start_time": "2022-12-21T19:49:42.633Z"
   },
   {
    "duration": 16,
    "start_time": "2022-12-21T19:49:42.670Z"
   },
   {
    "duration": 8,
    "start_time": "2022-12-21T19:49:42.688Z"
   },
   {
    "duration": 7,
    "start_time": "2022-12-21T19:49:42.698Z"
   },
   {
    "duration": 12,
    "start_time": "2022-12-21T19:49:42.707Z"
   },
   {
    "duration": 8,
    "start_time": "2022-12-21T19:49:42.721Z"
   },
   {
    "duration": 10,
    "start_time": "2022-12-21T19:49:42.731Z"
   },
   {
    "duration": 38,
    "start_time": "2022-12-21T19:49:42.743Z"
   },
   {
    "duration": 5,
    "start_time": "2022-12-21T19:49:42.783Z"
   },
   {
    "duration": 17,
    "start_time": "2022-12-21T19:49:42.789Z"
   },
   {
    "duration": 8,
    "start_time": "2022-12-21T19:49:42.808Z"
   },
   {
    "duration": 7,
    "start_time": "2022-12-21T19:49:42.817Z"
   },
   {
    "duration": 9,
    "start_time": "2022-12-21T19:49:42.827Z"
   },
   {
    "duration": 669,
    "start_time": "2022-12-21T19:49:42.838Z"
   },
   {
    "duration": 1087,
    "start_time": "2022-12-21T19:49:56.718Z"
   },
   {
    "duration": 32,
    "start_time": "2022-12-21T19:49:57.807Z"
   },
   {
    "duration": 17,
    "start_time": "2022-12-21T19:49:57.840Z"
   },
   {
    "duration": 10,
    "start_time": "2022-12-21T19:49:57.858Z"
   },
   {
    "duration": 6,
    "start_time": "2022-12-21T19:49:57.870Z"
   },
   {
    "duration": 18,
    "start_time": "2022-12-21T19:49:57.878Z"
   },
   {
    "duration": 7,
    "start_time": "2022-12-21T19:49:57.898Z"
   },
   {
    "duration": 10,
    "start_time": "2022-12-21T19:49:57.907Z"
   },
   {
    "duration": 23,
    "start_time": "2022-12-21T19:49:57.918Z"
   },
   {
    "duration": 5,
    "start_time": "2022-12-21T19:49:57.943Z"
   },
   {
    "duration": 27,
    "start_time": "2022-12-21T19:49:57.949Z"
   },
   {
    "duration": 5,
    "start_time": "2022-12-21T19:49:57.978Z"
   },
   {
    "duration": 6,
    "start_time": "2022-12-21T19:49:57.984Z"
   },
   {
    "duration": 6,
    "start_time": "2022-12-21T19:49:57.993Z"
   },
   {
    "duration": 763,
    "start_time": "2022-12-21T19:49:58.000Z"
   },
   {
    "duration": 44914,
    "start_time": "2022-12-21T19:49:58.766Z"
   },
   {
    "duration": 43,
    "start_time": "2022-12-21T19:50:43.681Z"
   },
   {
    "duration": 7,
    "start_time": "2022-12-21T19:50:43.726Z"
   },
   {
    "duration": 11,
    "start_time": "2022-12-21T19:50:43.736Z"
   },
   {
    "duration": 6,
    "start_time": "2022-12-21T19:50:43.777Z"
   },
   {
    "duration": 7,
    "start_time": "2022-12-21T19:50:43.786Z"
   },
   {
    "duration": 10,
    "start_time": "2022-12-21T19:50:43.795Z"
   },
   {
    "duration": 12,
    "start_time": "2022-12-21T19:50:43.806Z"
   },
   {
    "duration": 1032,
    "start_time": "2022-12-21T19:52:55.292Z"
   },
   {
    "duration": 30,
    "start_time": "2022-12-21T19:52:56.326Z"
   },
   {
    "duration": 16,
    "start_time": "2022-12-21T19:52:56.358Z"
   },
   {
    "duration": 9,
    "start_time": "2022-12-21T19:52:56.375Z"
   },
   {
    "duration": 5,
    "start_time": "2022-12-21T19:52:56.385Z"
   },
   {
    "duration": 12,
    "start_time": "2022-12-21T19:52:56.392Z"
   },
   {
    "duration": 5,
    "start_time": "2022-12-21T19:52:56.405Z"
   },
   {
    "duration": 9,
    "start_time": "2022-12-21T19:52:56.412Z"
   },
   {
    "duration": 21,
    "start_time": "2022-12-21T19:52:56.422Z"
   },
   {
    "duration": 32,
    "start_time": "2022-12-21T19:52:56.446Z"
   },
   {
    "duration": 6,
    "start_time": "2022-12-21T19:52:56.480Z"
   },
   {
    "duration": 4,
    "start_time": "2022-12-21T19:52:56.488Z"
   },
   {
    "duration": 6,
    "start_time": "2022-12-21T19:52:56.494Z"
   },
   {
    "duration": 6,
    "start_time": "2022-12-21T19:52:56.501Z"
   },
   {
    "duration": 675,
    "start_time": "2022-12-21T19:52:56.508Z"
   },
   {
    "duration": 34418,
    "start_time": "2022-12-21T19:52:57.184Z"
   },
   {
    "duration": 44,
    "start_time": "2022-12-21T19:53:31.604Z"
   },
   {
    "duration": 5,
    "start_time": "2022-12-21T19:53:31.650Z"
   },
   {
    "duration": 12,
    "start_time": "2022-12-21T19:53:31.676Z"
   },
   {
    "duration": 26,
    "start_time": "2022-12-21T19:53:31.690Z"
   },
   {
    "duration": 8,
    "start_time": "2022-12-21T19:53:31.718Z"
   },
   {
    "duration": 19,
    "start_time": "2022-12-21T19:53:31.727Z"
   },
   {
    "duration": 11,
    "start_time": "2022-12-21T19:53:31.748Z"
   },
   {
    "duration": 1674,
    "start_time": "2022-12-21T21:33:12.611Z"
   },
   {
    "duration": 31,
    "start_time": "2022-12-21T21:33:14.287Z"
   },
   {
    "duration": 14,
    "start_time": "2022-12-21T21:33:14.319Z"
   },
   {
    "duration": 8,
    "start_time": "2022-12-21T21:33:14.335Z"
   },
   {
    "duration": 5,
    "start_time": "2022-12-21T21:33:14.345Z"
   },
   {
    "duration": 13,
    "start_time": "2022-12-21T21:33:14.351Z"
   },
   {
    "duration": 12,
    "start_time": "2022-12-21T21:33:14.366Z"
   },
   {
    "duration": 9,
    "start_time": "2022-12-21T21:33:14.379Z"
   },
   {
    "duration": 22,
    "start_time": "2022-12-21T21:33:14.389Z"
   },
   {
    "duration": 4,
    "start_time": "2022-12-21T21:33:14.414Z"
   },
   {
    "duration": 9,
    "start_time": "2022-12-21T21:33:14.419Z"
   },
   {
    "duration": 6,
    "start_time": "2022-12-21T21:33:14.430Z"
   },
   {
    "duration": 6,
    "start_time": "2022-12-21T21:33:14.437Z"
   },
   {
    "duration": 13,
    "start_time": "2022-12-21T21:33:14.444Z"
   },
   {
    "duration": 644,
    "start_time": "2022-12-21T21:33:14.478Z"
   },
   {
    "duration": 32251,
    "start_time": "2022-12-21T21:33:15.124Z"
   },
   {
    "duration": 39,
    "start_time": "2022-12-21T21:33:47.378Z"
   },
   {
    "duration": 6,
    "start_time": "2022-12-21T21:33:47.418Z"
   },
   {
    "duration": 35,
    "start_time": "2022-12-21T21:33:47.426Z"
   },
   {
    "duration": 11,
    "start_time": "2022-12-21T21:33:47.463Z"
   },
   {
    "duration": 10,
    "start_time": "2022-12-21T21:33:47.477Z"
   },
   {
    "duration": 16,
    "start_time": "2022-12-21T21:33:47.489Z"
   },
   {
    "duration": 35,
    "start_time": "2022-12-21T21:33:47.507Z"
   },
   {
    "duration": 6,
    "start_time": "2022-12-21T21:39:58.068Z"
   },
   {
    "duration": 50,
    "start_time": "2022-12-22T11:04:23.170Z"
   },
   {
    "duration": 1100,
    "start_time": "2022-12-22T11:04:42.477Z"
   },
   {
    "duration": 68,
    "start_time": "2022-12-22T11:04:43.586Z"
   },
   {
    "duration": 15,
    "start_time": "2022-12-22T11:04:43.656Z"
   },
   {
    "duration": 12,
    "start_time": "2022-12-22T11:04:43.673Z"
   },
   {
    "duration": 17,
    "start_time": "2022-12-22T11:04:43.687Z"
   },
   {
    "duration": 13,
    "start_time": "2022-12-22T11:04:43.705Z"
   },
   {
    "duration": 5,
    "start_time": "2022-12-22T11:04:43.720Z"
   },
   {
    "duration": 10,
    "start_time": "2022-12-22T11:04:43.727Z"
   },
   {
    "duration": 31,
    "start_time": "2022-12-22T11:04:43.738Z"
   },
   {
    "duration": 6,
    "start_time": "2022-12-22T11:04:43.772Z"
   },
   {
    "duration": 22,
    "start_time": "2022-12-22T11:04:43.779Z"
   },
   {
    "duration": 7,
    "start_time": "2022-12-22T11:04:43.803Z"
   },
   {
    "duration": 6,
    "start_time": "2022-12-22T11:04:43.812Z"
   },
   {
    "duration": 6,
    "start_time": "2022-12-22T11:04:43.820Z"
   },
   {
    "duration": 9,
    "start_time": "2022-12-22T11:04:43.828Z"
   },
   {
    "duration": 798,
    "start_time": "2022-12-22T11:04:43.839Z"
   },
   {
    "duration": 1071,
    "start_time": "2022-12-22T11:06:56.643Z"
   },
   {
    "duration": 30,
    "start_time": "2022-12-22T11:06:57.716Z"
   },
   {
    "duration": 16,
    "start_time": "2022-12-22T11:06:57.748Z"
   },
   {
    "duration": 34,
    "start_time": "2022-12-22T11:06:57.765Z"
   },
   {
    "duration": 13,
    "start_time": "2022-12-22T11:06:57.801Z"
   },
   {
    "duration": 13,
    "start_time": "2022-12-22T11:06:57.816Z"
   },
   {
    "duration": 17,
    "start_time": "2022-12-22T11:06:57.830Z"
   },
   {
    "duration": 16,
    "start_time": "2022-12-22T11:06:57.849Z"
   },
   {
    "duration": 26,
    "start_time": "2022-12-22T11:06:57.866Z"
   },
   {
    "duration": 5,
    "start_time": "2022-12-22T11:06:57.894Z"
   },
   {
    "duration": 15,
    "start_time": "2022-12-22T11:06:57.900Z"
   },
   {
    "duration": 13,
    "start_time": "2022-12-22T11:06:57.917Z"
   },
   {
    "duration": 9,
    "start_time": "2022-12-22T11:06:57.932Z"
   },
   {
    "duration": 8,
    "start_time": "2022-12-22T11:06:57.943Z"
   },
   {
    "duration": 14,
    "start_time": "2022-12-22T11:06:57.952Z"
   },
   {
    "duration": 658,
    "start_time": "2022-12-22T11:06:57.968Z"
   },
   {
    "duration": 1091,
    "start_time": "2022-12-22T11:10:56.909Z"
   },
   {
    "duration": 30,
    "start_time": "2022-12-22T11:10:58.003Z"
   },
   {
    "duration": 39,
    "start_time": "2022-12-22T11:10:58.034Z"
   },
   {
    "duration": 40,
    "start_time": "2022-12-22T11:10:58.074Z"
   },
   {
    "duration": 44,
    "start_time": "2022-12-22T11:10:58.117Z"
   },
   {
    "duration": 51,
    "start_time": "2022-12-22T11:10:58.163Z"
   },
   {
    "duration": 31,
    "start_time": "2022-12-22T11:10:58.216Z"
   },
   {
    "duration": 41,
    "start_time": "2022-12-22T11:10:58.249Z"
   },
   {
    "duration": 49,
    "start_time": "2022-12-22T11:10:58.291Z"
   },
   {
    "duration": 24,
    "start_time": "2022-12-22T11:10:58.342Z"
   },
   {
    "duration": 51,
    "start_time": "2022-12-22T11:10:58.368Z"
   },
   {
    "duration": 40,
    "start_time": "2022-12-22T11:10:58.421Z"
   },
   {
    "duration": 35,
    "start_time": "2022-12-22T11:10:58.463Z"
   },
   {
    "duration": 33,
    "start_time": "2022-12-22T11:10:58.502Z"
   },
   {
    "duration": 54,
    "start_time": "2022-12-22T11:10:58.536Z"
   },
   {
    "duration": 721,
    "start_time": "2022-12-22T11:10:58.591Z"
   },
   {
    "duration": 1124,
    "start_time": "2022-12-22T11:11:57.341Z"
   },
   {
    "duration": 45,
    "start_time": "2022-12-22T11:11:58.467Z"
   },
   {
    "duration": 17,
    "start_time": "2022-12-22T11:11:58.514Z"
   },
   {
    "duration": 10,
    "start_time": "2022-12-22T11:11:58.532Z"
   },
   {
    "duration": 10,
    "start_time": "2022-12-22T11:11:58.544Z"
   },
   {
    "duration": 16,
    "start_time": "2022-12-22T11:11:58.556Z"
   },
   {
    "duration": 10,
    "start_time": "2022-12-22T11:11:58.574Z"
   },
   {
    "duration": 18,
    "start_time": "2022-12-22T11:11:58.587Z"
   },
   {
    "duration": 26,
    "start_time": "2022-12-22T11:11:58.606Z"
   },
   {
    "duration": 5,
    "start_time": "2022-12-22T11:11:58.634Z"
   },
   {
    "duration": 9,
    "start_time": "2022-12-22T11:11:58.640Z"
   },
   {
    "duration": 11,
    "start_time": "2022-12-22T11:11:58.651Z"
   },
   {
    "duration": 11,
    "start_time": "2022-12-22T11:11:58.663Z"
   },
   {
    "duration": 26,
    "start_time": "2022-12-22T11:11:58.677Z"
   },
   {
    "duration": 8,
    "start_time": "2022-12-22T11:11:58.705Z"
   },
   {
    "duration": 3001,
    "start_time": "2022-12-22T11:11:58.715Z"
   },
   {
    "duration": 1078,
    "start_time": "2022-12-22T11:12:16.109Z"
   },
   {
    "duration": 31,
    "start_time": "2022-12-22T11:12:17.189Z"
   },
   {
    "duration": 15,
    "start_time": "2022-12-22T11:12:17.221Z"
   },
   {
    "duration": 9,
    "start_time": "2022-12-22T11:12:17.238Z"
   },
   {
    "duration": 12,
    "start_time": "2022-12-22T11:12:17.250Z"
   },
   {
    "duration": 14,
    "start_time": "2022-12-22T11:12:17.264Z"
   },
   {
    "duration": 5,
    "start_time": "2022-12-22T11:12:17.280Z"
   },
   {
    "duration": 11,
    "start_time": "2022-12-22T11:12:17.287Z"
   },
   {
    "duration": 22,
    "start_time": "2022-12-22T11:12:17.300Z"
   },
   {
    "duration": 7,
    "start_time": "2022-12-22T11:12:17.324Z"
   },
   {
    "duration": 16,
    "start_time": "2022-12-22T11:12:17.333Z"
   },
   {
    "duration": 7,
    "start_time": "2022-12-22T11:12:17.351Z"
   },
   {
    "duration": 20,
    "start_time": "2022-12-22T11:12:17.360Z"
   },
   {
    "duration": 9,
    "start_time": "2022-12-22T11:12:17.383Z"
   },
   {
    "duration": 7,
    "start_time": "2022-12-22T11:12:17.394Z"
   },
   {
    "duration": 310,
    "start_time": "2022-12-22T11:12:17.402Z"
   },
   {
    "duration": 1104,
    "start_time": "2022-12-22T11:13:09.672Z"
   },
   {
    "duration": 31,
    "start_time": "2022-12-22T11:13:10.778Z"
   },
   {
    "duration": 15,
    "start_time": "2022-12-22T11:13:10.811Z"
   },
   {
    "duration": 9,
    "start_time": "2022-12-22T11:13:10.828Z"
   },
   {
    "duration": 12,
    "start_time": "2022-12-22T11:13:10.839Z"
   },
   {
    "duration": 14,
    "start_time": "2022-12-22T11:13:10.852Z"
   },
   {
    "duration": 6,
    "start_time": "2022-12-22T11:13:10.868Z"
   },
   {
    "duration": 6,
    "start_time": "2022-12-22T11:13:10.876Z"
   },
   {
    "duration": 28,
    "start_time": "2022-12-22T11:13:10.883Z"
   },
   {
    "duration": 5,
    "start_time": "2022-12-22T11:13:10.912Z"
   },
   {
    "duration": 11,
    "start_time": "2022-12-22T11:13:10.918Z"
   },
   {
    "duration": 5,
    "start_time": "2022-12-22T11:13:10.931Z"
   },
   {
    "duration": 22,
    "start_time": "2022-12-22T11:13:10.938Z"
   },
   {
    "duration": 13,
    "start_time": "2022-12-22T11:13:10.963Z"
   },
   {
    "duration": 5,
    "start_time": "2022-12-22T11:13:10.977Z"
   },
   {
    "duration": 309,
    "start_time": "2022-12-22T11:13:10.985Z"
   },
   {
    "duration": 68059,
    "start_time": "2022-12-22T11:13:11.296Z"
   },
   {
    "duration": 50,
    "start_time": "2022-12-22T11:14:19.357Z"
   },
   {
    "duration": 6,
    "start_time": "2022-12-22T11:14:19.410Z"
   },
   {
    "duration": 14,
    "start_time": "2022-12-22T11:14:19.418Z"
   },
   {
    "duration": 8,
    "start_time": "2022-12-22T11:14:19.434Z"
   },
   {
    "duration": 11,
    "start_time": "2022-12-22T11:14:19.444Z"
   },
   {
    "duration": 29,
    "start_time": "2022-12-22T11:14:19.456Z"
   },
   {
    "duration": 6,
    "start_time": "2022-12-22T11:14:19.487Z"
   },
   {
    "duration": 1777,
    "start_time": "2022-12-23T08:34:09.098Z"
   },
   {
    "duration": 122,
    "start_time": "2022-12-23T08:34:10.877Z"
   },
   {
    "duration": 26,
    "start_time": "2022-12-23T08:34:11.001Z"
   },
   {
    "duration": 19,
    "start_time": "2022-12-23T08:34:11.029Z"
   },
   {
    "duration": 5,
    "start_time": "2022-12-23T08:34:11.103Z"
   },
   {
    "duration": 18,
    "start_time": "2022-12-23T08:34:11.113Z"
   },
   {
    "duration": 5,
    "start_time": "2022-12-23T08:34:11.133Z"
   },
   {
    "duration": 9,
    "start_time": "2022-12-23T08:34:11.140Z"
   },
   {
    "duration": 25,
    "start_time": "2022-12-23T08:34:11.151Z"
   },
   {
    "duration": 12,
    "start_time": "2022-12-23T08:34:11.196Z"
   },
   {
    "duration": 8,
    "start_time": "2022-12-23T08:34:11.215Z"
   },
   {
    "duration": 6,
    "start_time": "2022-12-23T08:34:11.224Z"
   },
   {
    "duration": 13,
    "start_time": "2022-12-23T08:34:11.231Z"
   },
   {
    "duration": 59,
    "start_time": "2022-12-23T08:34:11.246Z"
   },
   {
    "duration": 16,
    "start_time": "2022-12-23T08:34:11.307Z"
   },
   {
    "duration": 706,
    "start_time": "2022-12-23T08:34:11.325Z"
   },
   {
    "duration": 72946,
    "start_time": "2022-12-23T08:34:12.033Z"
   },
   {
    "duration": 60,
    "start_time": "2022-12-23T08:35:24.982Z"
   },
   {
    "duration": 9,
    "start_time": "2022-12-23T08:35:25.045Z"
   },
   {
    "duration": 13,
    "start_time": "2022-12-23T08:35:25.057Z"
   },
   {
    "duration": 34,
    "start_time": "2022-12-23T08:35:25.072Z"
   },
   {
    "duration": 20,
    "start_time": "2022-12-23T08:35:25.113Z"
   },
   {
    "duration": 16,
    "start_time": "2022-12-23T08:35:25.135Z"
   },
   {
    "duration": 27,
    "start_time": "2022-12-23T08:35:25.153Z"
   },
   {
    "duration": 1080,
    "start_time": "2022-12-30T19:06:13.188Z"
   },
   {
    "duration": 119,
    "start_time": "2022-12-30T19:06:14.270Z"
   },
   {
    "duration": 16,
    "start_time": "2022-12-30T19:06:14.789Z"
   },
   {
    "duration": 10,
    "start_time": "2022-12-30T19:06:16.198Z"
   },
   {
    "duration": 4,
    "start_time": "2022-12-30T19:06:16.351Z"
   },
   {
    "duration": 15,
    "start_time": "2022-12-30T19:06:16.750Z"
   },
   {
    "duration": 6,
    "start_time": "2022-12-30T19:06:18.583Z"
   },
   {
    "duration": 7,
    "start_time": "2022-12-30T19:06:18.702Z"
   },
   {
    "duration": 31,
    "start_time": "2022-12-30T19:06:18.824Z"
   },
   {
    "duration": 5,
    "start_time": "2022-12-30T19:06:21.141Z"
   },
   {
    "duration": 6,
    "start_time": "2022-12-30T19:06:22.935Z"
   },
   {
    "duration": 4,
    "start_time": "2022-12-30T19:06:23.254Z"
   },
   {
    "duration": 3,
    "start_time": "2022-12-30T19:06:23.528Z"
   },
   {
    "duration": 6,
    "start_time": "2022-12-30T19:06:23.648Z"
   },
   {
    "duration": 4,
    "start_time": "2022-12-30T19:06:24.221Z"
   },
   {
    "duration": 6,
    "start_time": "2022-12-30T19:06:41.197Z"
   },
   {
    "duration": 5,
    "start_time": "2022-12-30T19:06:57.045Z"
   },
   {
    "duration": 6,
    "start_time": "2022-12-30T19:07:01.254Z"
   },
   {
    "duration": 663,
    "start_time": "2022-12-30T19:07:34.896Z"
   },
   {
    "duration": 4,
    "start_time": "2022-12-30T19:08:05.333Z"
   },
   {
    "duration": 6,
    "start_time": "2022-12-30T19:08:16.871Z"
   },
   {
    "duration": 4,
    "start_time": "2022-12-30T19:08:28.429Z"
   },
   {
    "duration": 13,
    "start_time": "2022-12-30T21:53:37.341Z"
   },
   {
    "duration": 1064,
    "start_time": "2023-02-16T21:54:44.977Z"
   },
   {
    "duration": 172,
    "start_time": "2023-02-16T21:54:46.785Z"
   },
   {
    "duration": 16,
    "start_time": "2023-02-16T21:54:46.959Z"
   },
   {
    "duration": 9,
    "start_time": "2023-02-16T21:54:47.071Z"
   },
   {
    "duration": 4,
    "start_time": "2023-02-16T21:54:47.205Z"
   },
   {
    "duration": 11,
    "start_time": "2023-02-16T21:54:47.343Z"
   },
   {
    "duration": 6,
    "start_time": "2023-02-16T21:54:47.488Z"
   },
   {
    "duration": 6,
    "start_time": "2023-02-16T21:54:47.644Z"
   },
   {
    "duration": 21,
    "start_time": "2023-02-16T21:54:47.779Z"
   },
   {
    "duration": 5,
    "start_time": "2023-02-16T21:54:47.933Z"
   },
   {
    "duration": 5,
    "start_time": "2023-02-16T21:54:48.672Z"
   },
   {
    "duration": 4,
    "start_time": "2023-02-16T21:54:49.037Z"
   },
   {
    "duration": 4,
    "start_time": "2023-02-16T21:54:49.494Z"
   },
   {
    "duration": 6,
    "start_time": "2023-02-16T21:54:49.897Z"
   },
   {
    "duration": 4,
    "start_time": "2023-02-16T21:55:00.337Z"
   },
   {
    "duration": 94,
    "start_time": "2023-02-16T21:55:07.907Z"
   },
   {
    "duration": 3,
    "start_time": "2023-02-16T21:55:25.406Z"
   },
   {
    "duration": 1323,
    "start_time": "2023-02-16T21:55:29.449Z"
   },
   {
    "duration": 1161,
    "start_time": "2023-03-12T20:07:17.402Z"
   },
   {
    "duration": 81,
    "start_time": "2023-03-12T20:07:18.570Z"
   },
   {
    "duration": 23,
    "start_time": "2023-03-12T20:07:18.652Z"
   },
   {
    "duration": 12,
    "start_time": "2023-03-12T20:07:18.677Z"
   },
   {
    "duration": 15,
    "start_time": "2023-03-12T20:07:18.692Z"
   },
   {
    "duration": 16,
    "start_time": "2023-03-12T20:07:18.708Z"
   },
   {
    "duration": 11,
    "start_time": "2023-03-12T20:07:18.726Z"
   },
   {
    "duration": 21,
    "start_time": "2023-03-12T20:07:18.739Z"
   },
   {
    "duration": 27,
    "start_time": "2023-03-12T20:07:18.762Z"
   },
   {
    "duration": 5,
    "start_time": "2023-03-12T20:07:18.791Z"
   },
   {
    "duration": 14,
    "start_time": "2023-03-12T20:07:18.798Z"
   },
   {
    "duration": 5,
    "start_time": "2023-03-12T20:07:18.814Z"
   },
   {
    "duration": 6,
    "start_time": "2023-03-12T20:07:18.820Z"
   },
   {
    "duration": 28,
    "start_time": "2023-03-12T20:07:18.828Z"
   },
   {
    "duration": 15,
    "start_time": "2023-03-12T20:07:18.859Z"
   },
   {
    "duration": 1477,
    "start_time": "2023-03-12T20:07:18.876Z"
   },
   {
    "duration": 1144,
    "start_time": "2023-03-12T20:07:43.474Z"
   },
   {
    "duration": 29,
    "start_time": "2023-03-12T20:07:44.620Z"
   },
   {
    "duration": 24,
    "start_time": "2023-03-12T20:07:44.651Z"
   },
   {
    "duration": 27,
    "start_time": "2023-03-12T20:07:44.677Z"
   },
   {
    "duration": 13,
    "start_time": "2023-03-12T20:07:44.706Z"
   },
   {
    "duration": 14,
    "start_time": "2023-03-12T20:07:44.721Z"
   },
   {
    "duration": 12,
    "start_time": "2023-03-12T20:07:44.737Z"
   },
   {
    "duration": 17,
    "start_time": "2023-03-12T20:07:44.751Z"
   },
   {
    "duration": 25,
    "start_time": "2023-03-12T20:07:44.770Z"
   },
   {
    "duration": 5,
    "start_time": "2023-03-12T20:07:44.796Z"
   },
   {
    "duration": 7,
    "start_time": "2023-03-12T20:07:44.803Z"
   },
   {
    "duration": 8,
    "start_time": "2023-03-12T20:07:44.812Z"
   },
   {
    "duration": 15,
    "start_time": "2023-03-12T20:07:44.822Z"
   },
   {
    "duration": 25,
    "start_time": "2023-03-12T20:07:44.840Z"
   },
   {
    "duration": 5,
    "start_time": "2023-03-12T20:07:44.867Z"
   },
   {
    "duration": 1469,
    "start_time": "2023-03-12T20:07:44.873Z"
   },
   {
    "duration": 1198,
    "start_time": "2023-03-12T21:33:33.473Z"
   },
   {
    "duration": 29,
    "start_time": "2023-03-12T21:33:34.673Z"
   },
   {
    "duration": 17,
    "start_time": "2023-03-12T21:33:34.703Z"
   },
   {
    "duration": 11,
    "start_time": "2023-03-12T21:33:34.722Z"
   },
   {
    "duration": 8,
    "start_time": "2023-03-12T21:33:34.735Z"
   },
   {
    "duration": 29,
    "start_time": "2023-03-12T21:33:34.745Z"
   },
   {
    "duration": 19,
    "start_time": "2023-03-12T21:33:34.775Z"
   },
   {
    "duration": 7,
    "start_time": "2023-03-12T21:33:34.795Z"
   },
   {
    "duration": 29,
    "start_time": "2023-03-12T21:33:34.804Z"
   },
   {
    "duration": 5,
    "start_time": "2023-03-12T21:33:34.835Z"
   },
   {
    "duration": 12,
    "start_time": "2023-03-12T21:33:34.842Z"
   },
   {
    "duration": 11,
    "start_time": "2023-03-12T21:33:34.855Z"
   },
   {
    "duration": 12,
    "start_time": "2023-03-12T21:33:34.867Z"
   },
   {
    "duration": 14,
    "start_time": "2023-03-12T21:33:34.881Z"
   },
   {
    "duration": 14,
    "start_time": "2023-03-12T21:33:34.897Z"
   },
   {
    "duration": 1633,
    "start_time": "2023-03-12T21:33:34.913Z"
   },
   {
    "duration": 397330,
    "start_time": "2023-03-12T21:33:36.548Z"
   },
   {
    "duration": 78,
    "start_time": "2023-03-12T21:40:13.880Z"
   },
   {
    "duration": 11,
    "start_time": "2023-03-12T21:40:13.960Z"
   },
   {
    "duration": 38,
    "start_time": "2023-03-12T21:40:13.973Z"
   },
   {
    "duration": 11,
    "start_time": "2023-03-12T21:40:14.013Z"
   },
   {
    "duration": 35,
    "start_time": "2023-03-12T21:40:14.026Z"
   },
   {
    "duration": 11,
    "start_time": "2023-03-12T21:40:14.066Z"
   },
   {
    "duration": 9,
    "start_time": "2023-03-12T21:40:14.078Z"
   },
   {
    "duration": 1104,
    "start_time": "2023-03-24T12:52:27.991Z"
   },
   {
    "duration": 74,
    "start_time": "2023-03-24T12:52:29.097Z"
   },
   {
    "duration": 18,
    "start_time": "2023-03-24T12:52:29.172Z"
   },
   {
    "duration": 19,
    "start_time": "2023-03-24T12:52:29.191Z"
   },
   {
    "duration": 5,
    "start_time": "2023-03-24T12:52:29.212Z"
   },
   {
    "duration": 16,
    "start_time": "2023-03-24T12:52:29.219Z"
   },
   {
    "duration": 16,
    "start_time": "2023-03-24T12:52:29.237Z"
   },
   {
    "duration": 7,
    "start_time": "2023-03-24T12:52:29.255Z"
   },
   {
    "duration": 23,
    "start_time": "2023-03-24T12:52:29.264Z"
   },
   {
    "duration": 23,
    "start_time": "2023-03-24T12:52:29.289Z"
   },
   {
    "duration": 11,
    "start_time": "2023-03-24T12:52:29.313Z"
   },
   {
    "duration": 10,
    "start_time": "2023-03-24T12:52:29.326Z"
   },
   {
    "duration": 12,
    "start_time": "2023-03-24T12:52:29.338Z"
   },
   {
    "duration": 8,
    "start_time": "2023-03-24T12:52:29.353Z"
   },
   {
    "duration": 12,
    "start_time": "2023-03-24T12:52:29.363Z"
   },
   {
    "duration": 1460,
    "start_time": "2023-03-24T12:52:29.377Z"
   },
   {
    "duration": 133583,
    "start_time": "2023-03-24T12:52:30.839Z"
   },
   {
    "duration": 54,
    "start_time": "2023-03-24T12:54:44.424Z"
   },
   {
    "duration": 7,
    "start_time": "2023-03-24T12:54:44.479Z"
   },
   {
    "duration": 25,
    "start_time": "2023-03-24T12:54:44.488Z"
   },
   {
    "duration": 9,
    "start_time": "2023-03-24T12:54:44.515Z"
   },
   {
    "duration": 39,
    "start_time": "2023-03-24T12:54:44.526Z"
   },
   {
    "duration": 8,
    "start_time": "2023-03-24T12:54:44.567Z"
   },
   {
    "duration": 8,
    "start_time": "2023-03-24T12:54:44.578Z"
   },
   {
    "duration": 346862,
    "start_time": "2023-03-24T12:58:17.361Z"
   },
   {
    "duration": 22,
    "start_time": "2023-06-03T18:38:59.942Z"
   },
   {
    "duration": 4,
    "start_time": "2023-06-03T18:39:07.898Z"
   },
   {
    "duration": 1234,
    "start_time": "2023-06-03T18:40:08.562Z"
   },
   {
    "duration": 126,
    "start_time": "2023-06-03T18:40:09.799Z"
   },
   {
    "duration": 19,
    "start_time": "2023-06-03T18:40:09.927Z"
   },
   {
    "duration": 29,
    "start_time": "2023-06-03T18:40:09.950Z"
   },
   {
    "duration": 33,
    "start_time": "2023-06-03T18:40:09.982Z"
   },
   {
    "duration": 74,
    "start_time": "2023-06-03T18:40:10.017Z"
   },
   {
    "duration": 27,
    "start_time": "2023-06-03T18:40:10.093Z"
   },
   {
    "duration": 24,
    "start_time": "2023-06-03T18:40:10.122Z"
   },
   {
    "duration": 62,
    "start_time": "2023-06-03T18:40:10.148Z"
   },
   {
    "duration": 5,
    "start_time": "2023-06-03T18:40:10.212Z"
   },
   {
    "duration": 25,
    "start_time": "2023-06-03T18:40:10.219Z"
   },
   {
    "duration": 29,
    "start_time": "2023-06-03T18:40:10.246Z"
   },
   {
    "duration": 23,
    "start_time": "2023-06-03T18:40:10.277Z"
   },
   {
    "duration": 16,
    "start_time": "2023-06-03T18:40:10.303Z"
   },
   {
    "duration": 39,
    "start_time": "2023-06-03T18:40:10.321Z"
   },
   {
    "duration": 1581,
    "start_time": "2023-06-03T18:40:10.362Z"
   },
   {
    "duration": 6534818,
    "start_time": "2023-06-03T18:40:11.949Z"
   },
   {
    "duration": 53,
    "start_time": "2023-06-03T20:29:06.768Z"
   },
   {
    "duration": 7,
    "start_time": "2023-06-03T20:29:06.823Z"
   },
   {
    "duration": 117,
    "start_time": "2023-06-03T20:29:06.846Z"
   },
   {
    "duration": 15,
    "start_time": "2023-06-03T20:29:06.967Z"
   },
   {
    "duration": 9,
    "start_time": "2023-06-03T20:29:06.984Z"
   },
   {
    "duration": 16,
    "start_time": "2023-06-03T20:29:06.994Z"
   },
   {
    "duration": 17,
    "start_time": "2023-06-03T20:29:07.012Z"
   },
   {
    "duration": 1207,
    "start_time": "2023-07-25T14:58:21.482Z"
   },
   {
    "duration": 61,
    "start_time": "2023-07-25T14:58:22.691Z"
   },
   {
    "duration": 20,
    "start_time": "2023-07-25T14:58:22.754Z"
   },
   {
    "duration": 15,
    "start_time": "2023-07-25T14:58:22.778Z"
   },
   {
    "duration": 6,
    "start_time": "2023-07-25T14:58:22.794Z"
   },
   {
    "duration": 11,
    "start_time": "2023-07-25T14:58:23.441Z"
   },
   {
    "duration": 6,
    "start_time": "2023-07-25T14:58:23.547Z"
   },
   {
    "duration": 10,
    "start_time": "2023-07-25T14:58:23.683Z"
   },
   {
    "duration": 22,
    "start_time": "2023-07-25T14:58:23.818Z"
   },
   {
    "duration": 6,
    "start_time": "2023-07-25T14:58:24.534Z"
   },
   {
    "duration": 5,
    "start_time": "2023-07-25T14:58:25.130Z"
   },
   {
    "duration": 7,
    "start_time": "2023-07-25T14:58:27.050Z"
   },
   {
    "duration": 4,
    "start_time": "2023-07-25T14:58:43.182Z"
   },
   {
    "duration": 113,
    "start_time": "2023-07-25T14:59:12.549Z"
   },
   {
    "duration": 4,
    "start_time": "2023-07-25T14:59:25.942Z"
   },
   {
    "duration": 31,
    "start_time": "2023-07-25T14:59:26.379Z"
   },
   {
    "duration": 12,
    "start_time": "2023-07-25T14:59:26.518Z"
   },
   {
    "duration": 9,
    "start_time": "2023-07-25T14:59:26.648Z"
   },
   {
    "duration": 4,
    "start_time": "2023-07-25T14:59:26.746Z"
   },
   {
    "duration": 16,
    "start_time": "2023-07-25T14:59:26.867Z"
   },
   {
    "duration": 6,
    "start_time": "2023-07-25T14:59:27.014Z"
   },
   {
    "duration": 6,
    "start_time": "2023-07-25T14:59:27.130Z"
   },
   {
    "duration": 32,
    "start_time": "2023-07-25T14:59:27.258Z"
   },
   {
    "duration": 4,
    "start_time": "2023-07-25T14:59:27.379Z"
   },
   {
    "duration": 4,
    "start_time": "2023-07-25T14:59:27.822Z"
   },
   {
    "duration": 6,
    "start_time": "2023-07-25T14:59:28.056Z"
   },
   {
    "duration": 5,
    "start_time": "2023-07-25T14:59:28.234Z"
   },
   {
    "duration": 8,
    "start_time": "2023-07-25T14:59:28.682Z"
   },
   {
    "duration": 3,
    "start_time": "2023-07-25T14:59:36.814Z"
   },
   {
    "duration": 13,
    "start_time": "2023-07-25T14:59:44.416Z"
   },
   {
    "duration": 1008,
    "start_time": "2023-07-25T15:00:51.582Z"
   },
   {
    "duration": 22,
    "start_time": "2023-07-25T15:01:08.442Z"
   },
   {
    "duration": 14,
    "start_time": "2023-07-25T15:02:09.477Z"
   },
   {
    "duration": 11,
    "start_time": "2023-07-25T15:02:16.388Z"
   },
   {
    "duration": 3,
    "start_time": "2023-07-25T15:02:32.451Z"
   },
   {
    "duration": 29,
    "start_time": "2023-07-25T15:02:33.151Z"
   },
   {
    "duration": 10,
    "start_time": "2023-07-25T15:02:33.278Z"
   },
   {
    "duration": 10,
    "start_time": "2023-07-25T15:02:33.415Z"
   },
   {
    "duration": 4,
    "start_time": "2023-07-25T15:02:33.517Z"
   },
   {
    "duration": 11,
    "start_time": "2023-07-25T15:02:33.631Z"
   },
   {
    "duration": 7,
    "start_time": "2023-07-25T15:02:33.752Z"
   },
   {
    "duration": 8,
    "start_time": "2023-07-25T15:02:33.873Z"
   },
   {
    "duration": 22,
    "start_time": "2023-07-25T15:02:34.005Z"
   },
   {
    "duration": 5,
    "start_time": "2023-07-25T15:02:34.126Z"
   },
   {
    "duration": 4,
    "start_time": "2023-07-25T15:02:34.526Z"
   },
   {
    "duration": 5,
    "start_time": "2023-07-25T15:02:34.764Z"
   },
   {
    "duration": 4,
    "start_time": "2023-07-25T15:02:34.922Z"
   },
   {
    "duration": 15,
    "start_time": "2023-07-25T15:02:35.030Z"
   },
   {
    "duration": 16,
    "start_time": "2023-07-25T15:02:35.635Z"
   },
   {
    "duration": 9,
    "start_time": "2023-07-25T15:03:06.418Z"
   },
   {
    "duration": 4,
    "start_time": "2023-07-25T15:03:19.575Z"
   },
   {
    "duration": 28,
    "start_time": "2023-07-25T15:03:21.157Z"
   },
   {
    "duration": 10,
    "start_time": "2023-07-25T15:03:21.279Z"
   },
   {
    "duration": 9,
    "start_time": "2023-07-25T15:03:21.923Z"
   },
   {
    "duration": 9,
    "start_time": "2023-07-25T15:03:21.934Z"
   },
   {
    "duration": 23,
    "start_time": "2023-07-25T15:03:21.944Z"
   },
   {
    "duration": 18,
    "start_time": "2023-07-25T15:03:21.969Z"
   },
   {
    "duration": 7,
    "start_time": "2023-07-25T15:03:22.034Z"
   },
   {
    "duration": 22,
    "start_time": "2023-07-25T15:03:22.171Z"
   },
   {
    "duration": 5,
    "start_time": "2023-07-25T15:03:22.318Z"
   },
   {
    "duration": 4,
    "start_time": "2023-07-25T15:03:22.745Z"
   },
   {
    "duration": 6,
    "start_time": "2023-07-25T15:03:22.919Z"
   },
   {
    "duration": 3,
    "start_time": "2023-07-25T15:03:24.258Z"
   },
   {
    "duration": 15,
    "start_time": "2023-07-25T15:03:25.026Z"
   },
   {
    "duration": 18,
    "start_time": "2023-07-25T15:03:27.563Z"
   },
   {
    "duration": 3,
    "start_time": "2023-07-25T15:05:09.984Z"
   },
   {
    "duration": 428,
    "start_time": "2023-07-25T15:06:14.412Z"
   },
   {
    "duration": 62,
    "start_time": "2023-07-25T15:06:33.726Z"
   },
   {
    "duration": 4,
    "start_time": "2023-07-25T15:06:55.037Z"
   },
   {
    "duration": 4,
    "start_time": "2023-07-25T15:07:03.570Z"
   },
   {
    "duration": 3,
    "start_time": "2023-07-25T15:07:10.072Z"
   },
   {
    "duration": 699,
    "start_time": "2023-07-25T15:07:10.572Z"
   },
   {
    "duration": 4,
    "start_time": "2023-07-25T15:07:12.367Z"
   },
   {
    "duration": 4,
    "start_time": "2023-07-25T15:07:13.070Z"
   },
   {
    "duration": 3,
    "start_time": "2023-07-25T15:08:28.521Z"
   },
   {
    "duration": 19233,
    "start_time": "2023-07-25T15:08:30.018Z"
   },
   {
    "duration": 4,
    "start_time": "2023-07-25T15:08:52.662Z"
   },
   {
    "duration": 4,
    "start_time": "2023-07-25T15:08:53.429Z"
   },
   {
    "duration": 3,
    "start_time": "2023-07-25T15:11:10.418Z"
   },
   {
    "duration": 426,
    "start_time": "2023-07-25T15:11:10.531Z"
   },
   {
    "duration": 4,
    "start_time": "2023-07-25T15:11:20.725Z"
   },
   {
    "duration": 4,
    "start_time": "2023-07-25T15:11:23.714Z"
   },
   {
    "duration": 11,
    "start_time": "2023-07-25T15:11:41.210Z"
   },
   {
    "duration": 2,
    "start_time": "2023-07-25T15:12:13.530Z"
   },
   {
    "duration": 3,
    "start_time": "2023-07-25T15:13:36.271Z"
   },
   {
    "duration": 19,
    "start_time": "2023-07-25T15:14:04.675Z"
   },
   {
    "duration": 21,
    "start_time": "2023-07-25T15:14:38.583Z"
   },
   {
    "duration": 1129,
    "start_time": "2023-07-25T15:14:56.952Z"
   },
   {
    "duration": 29,
    "start_time": "2023-07-25T15:14:58.083Z"
   },
   {
    "duration": 16,
    "start_time": "2023-07-25T15:14:58.114Z"
   },
   {
    "duration": 9,
    "start_time": "2023-07-25T15:14:58.131Z"
   },
   {
    "duration": 10,
    "start_time": "2023-07-25T15:14:58.142Z"
   },
   {
    "duration": 28,
    "start_time": "2023-07-25T15:14:58.154Z"
   },
   {
    "duration": 27,
    "start_time": "2023-07-25T15:14:58.184Z"
   },
   {
    "duration": 10,
    "start_time": "2023-07-25T15:14:58.213Z"
   },
   {
    "duration": 27,
    "start_time": "2023-07-25T15:14:58.224Z"
   },
   {
    "duration": 11,
    "start_time": "2023-07-25T15:14:58.253Z"
   },
   {
    "duration": 4,
    "start_time": "2023-07-25T15:14:58.265Z"
   },
   {
    "duration": 13,
    "start_time": "2023-07-25T15:14:58.270Z"
   },
   {
    "duration": 4,
    "start_time": "2023-07-25T15:14:58.284Z"
   },
   {
    "duration": 16,
    "start_time": "2023-07-25T15:14:58.289Z"
   },
   {
    "duration": 17,
    "start_time": "2023-07-25T15:14:58.306Z"
   },
   {
    "duration": 2,
    "start_time": "2023-07-25T15:14:58.325Z"
   },
   {
    "duration": 986,
    "start_time": "2023-07-25T15:14:58.329Z"
   },
   {
    "duration": 3,
    "start_time": "2023-07-25T15:14:59.317Z"
   },
   {
    "duration": 7,
    "start_time": "2023-07-25T15:14:59.322Z"
   },
   {
    "duration": 5,
    "start_time": "2023-07-25T15:14:59.330Z"
   },
   {
    "duration": 29860,
    "start_time": "2023-07-25T15:14:59.336Z"
   },
   {
    "duration": 4,
    "start_time": "2023-07-25T15:15:29.198Z"
   },
   {
    "duration": 32,
    "start_time": "2023-07-25T15:15:29.203Z"
   },
   {
    "duration": 4,
    "start_time": "2023-07-25T15:15:29.237Z"
   },
   {
    "duration": 431,
    "start_time": "2023-07-25T15:15:29.243Z"
   },
   {
    "duration": 11,
    "start_time": "2023-07-25T15:15:29.759Z"
   },
   {
    "duration": 88,
    "start_time": "2023-07-25T15:15:29.772Z"
   },
   {
    "duration": 31,
    "start_time": "2023-07-25T15:15:29.863Z"
   },
   {
    "duration": 117,
    "start_time": "2023-07-25T15:15:29.896Z"
   },
   {
    "duration": 0,
    "start_time": "2023-07-25T15:15:30.014Z"
   },
   {
    "duration": 0,
    "start_time": "2023-07-25T15:15:30.016Z"
   },
   {
    "duration": 6,
    "start_time": "2023-07-25T15:16:06.806Z"
   },
   {
    "duration": 6,
    "start_time": "2023-07-25T15:16:32.605Z"
   },
   {
    "duration": 15,
    "start_time": "2023-07-25T15:16:32.749Z"
   },
   {
    "duration": 7,
    "start_time": "2023-07-25T15:16:33.870Z"
   },
   {
    "duration": 3,
    "start_time": "2023-07-25T15:17:29.452Z"
   },
   {
    "duration": 2640,
    "start_time": "2023-07-25T15:17:29.731Z"
   },
   {
    "duration": 4,
    "start_time": "2023-07-25T15:17:34.960Z"
   },
   {
    "duration": 4,
    "start_time": "2023-07-25T15:17:35.982Z"
   },
   {
    "duration": 3,
    "start_time": "2023-07-25T15:17:38.443Z"
   },
   {
    "duration": 1093,
    "start_time": "2023-07-25T15:18:27.113Z"
   },
   {
    "duration": 29,
    "start_time": "2023-07-25T15:18:28.208Z"
   },
   {
    "duration": 16,
    "start_time": "2023-07-25T15:18:28.238Z"
   },
   {
    "duration": 15,
    "start_time": "2023-07-25T15:18:28.256Z"
   },
   {
    "duration": 6,
    "start_time": "2023-07-25T15:18:28.273Z"
   },
   {
    "duration": 13,
    "start_time": "2023-07-25T15:18:28.280Z"
   },
   {
    "duration": 10,
    "start_time": "2023-07-25T15:18:28.294Z"
   },
   {
    "duration": 7,
    "start_time": "2023-07-25T15:18:28.305Z"
   },
   {
    "duration": 23,
    "start_time": "2023-07-25T15:18:28.313Z"
   },
   {
    "duration": 15,
    "start_time": "2023-07-25T15:18:28.357Z"
   },
   {
    "duration": 4,
    "start_time": "2023-07-25T15:18:28.374Z"
   },
   {
    "duration": 19,
    "start_time": "2023-07-25T15:18:28.380Z"
   },
   {
    "duration": 11,
    "start_time": "2023-07-25T15:18:28.401Z"
   },
   {
    "duration": 13,
    "start_time": "2023-07-25T15:18:28.415Z"
   },
   {
    "duration": 17,
    "start_time": "2023-07-25T15:18:28.430Z"
   },
   {
    "duration": 5,
    "start_time": "2023-07-25T15:18:28.455Z"
   },
   {
    "duration": 2685,
    "start_time": "2023-07-25T15:18:28.469Z"
   },
   {
    "duration": 9,
    "start_time": "2023-07-25T15:18:31.161Z"
   },
   {
    "duration": 53,
    "start_time": "2023-07-25T15:18:31.172Z"
   },
   {
    "duration": 31,
    "start_time": "2023-07-25T15:18:31.227Z"
   },
   {
    "duration": 87527,
    "start_time": "2023-07-25T15:18:31.259Z"
   },
   {
    "duration": 4,
    "start_time": "2023-07-25T15:19:58.788Z"
   },
   {
    "duration": 12,
    "start_time": "2023-07-25T15:19:58.793Z"
   },
   {
    "duration": 5,
    "start_time": "2023-07-25T15:19:58.806Z"
   },
   {
    "duration": 442,
    "start_time": "2023-07-25T15:19:58.813Z"
   },
   {
    "duration": 7,
    "start_time": "2023-07-25T15:19:59.257Z"
   },
   {
    "duration": 95,
    "start_time": "2023-07-25T15:19:59.265Z"
   },
   {
    "duration": 27,
    "start_time": "2023-07-25T15:19:59.362Z"
   },
   {
    "duration": 6,
    "start_time": "2023-07-25T15:19:59.390Z"
   },
   {
    "duration": 5,
    "start_time": "2023-07-25T15:19:59.397Z"
   },
   {
    "duration": 4,
    "start_time": "2023-07-25T15:19:59.404Z"
   },
   {
    "duration": 1139,
    "start_time": "2023-07-25T15:24:06.583Z"
   },
   {
    "duration": 30,
    "start_time": "2023-07-25T15:24:07.725Z"
   },
   {
    "duration": 16,
    "start_time": "2023-07-25T15:24:07.756Z"
   },
   {
    "duration": 9,
    "start_time": "2023-07-25T15:24:07.774Z"
   },
   {
    "duration": 5,
    "start_time": "2023-07-25T15:24:07.785Z"
   },
   {
    "duration": 13,
    "start_time": "2023-07-25T15:24:07.792Z"
   },
   {
    "duration": 10,
    "start_time": "2023-07-25T15:24:07.807Z"
   },
   {
    "duration": 10,
    "start_time": "2023-07-25T15:24:07.818Z"
   },
   {
    "duration": 47,
    "start_time": "2023-07-25T15:24:07.830Z"
   },
   {
    "duration": 22,
    "start_time": "2023-07-25T15:24:07.879Z"
   },
   {
    "duration": 11,
    "start_time": "2023-07-25T15:24:07.903Z"
   },
   {
    "duration": 25,
    "start_time": "2023-07-25T15:24:07.915Z"
   },
   {
    "duration": 27,
    "start_time": "2023-07-25T15:24:07.942Z"
   },
   {
    "duration": 26,
    "start_time": "2023-07-25T15:24:07.973Z"
   },
   {
    "duration": 18,
    "start_time": "2023-07-25T15:24:08.001Z"
   },
   {
    "duration": 3,
    "start_time": "2023-07-25T15:24:08.021Z"
   },
   {
    "duration": 2623,
    "start_time": "2023-07-25T15:24:08.026Z"
   },
   {
    "duration": 4,
    "start_time": "2023-07-25T15:24:10.655Z"
   },
   {
    "duration": 21,
    "start_time": "2023-07-25T15:24:10.660Z"
   },
   {
    "duration": 5,
    "start_time": "2023-07-25T15:24:10.682Z"
   },
   {
    "duration": 85230,
    "start_time": "2023-07-25T15:24:10.688Z"
   },
   {
    "duration": 3,
    "start_time": "2023-07-25T15:25:35.920Z"
   },
   {
    "duration": 46,
    "start_time": "2023-07-25T15:25:35.924Z"
   },
   {
    "duration": 19,
    "start_time": "2023-07-25T15:25:35.972Z"
   },
   {
    "duration": 375,
    "start_time": "2023-07-25T15:25:35.993Z"
   },
   {
    "duration": 85,
    "start_time": "2023-07-25T15:25:36.374Z"
   },
   {
    "duration": 106,
    "start_time": "2023-07-25T15:25:36.463Z"
   },
   {
    "duration": 35,
    "start_time": "2023-07-25T15:25:36.571Z"
   },
   {
    "duration": 6,
    "start_time": "2023-07-25T15:25:36.607Z"
   },
   {
    "duration": 5,
    "start_time": "2023-07-25T15:25:36.615Z"
   },
   {
    "duration": 27,
    "start_time": "2023-07-25T15:25:36.622Z"
   }
  ],
  "kernelspec": {
   "display_name": "Python 3 (ipykernel)",
   "language": "python",
   "name": "python3"
  },
  "language_info": {
   "codemirror_mode": {
    "name": "ipython",
    "version": 3
   },
   "file_extension": ".py",
   "mimetype": "text/x-python",
   "name": "python",
   "nbconvert_exporter": "python",
   "pygments_lexer": "ipython3",
   "version": "3.9.5"
  },
  "toc": {
   "base_numbering": 1,
   "nav_menu": {},
   "number_sections": true,
   "sideBar": true,
   "skip_h1_title": true,
   "title_cell": "Table of Contents",
   "title_sidebar": "Contents",
   "toc_cell": false,
   "toc_position": {
    "height": "calc(100% - 180px)",
    "left": "10px",
    "top": "150px",
    "width": "165px"
   },
   "toc_section_display": true,
   "toc_window_display": true
  }
 },
 "nbformat": 4,
 "nbformat_minor": 2
}
